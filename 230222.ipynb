{
 "cells": [
  {
   "cell_type": "code",
   "execution_count": 2,
   "id": "7957d2d0-ab2b-4e2c-b434-987a0c6b51dd",
   "metadata": {},
   "outputs": [],
   "source": [
    "##### 클래스(Class)"
   ]
  },
  {
   "cell_type": "code",
   "execution_count": 3,
   "id": "85ea4788-53f5-4e8f-a75d-5ff93a91affd",
   "metadata": {},
   "outputs": [],
   "source": [
    "# 클래스(Class): 사용자 정의 객체를 만들기 위한 설계(주형)\n",
    "# 속성과 메서드를 갖는 구조체\n",
    "# 클래스는 파스칼 케이스로 표현함.   ex) ClassName, StudentName 등\n",
    "# int, str, dict 등도 class!"
   ]
  },
  {
   "cell_type": "code",
   "execution_count": null,
   "id": "76807a5b-999b-4f14-813e-717892f71b22",
   "metadata": {},
   "outputs": [],
   "source": []
  },
  {
   "cell_type": "code",
   "execution_count": 4,
   "id": "6e9b8739-c27c-4a02-b80f-750fcfe0279d",
   "metadata": {},
   "outputs": [],
   "source": [
    "### 메서드"
   ]
  },
  {
   "cell_type": "code",
   "execution_count": 5,
   "id": "84146169-998e-46f1-8ffc-c1ef62eb0184",
   "metadata": {},
   "outputs": [],
   "source": [
    "# 클래스 바디 안에서 정의되는 함수\n",
    "# ~~~.OOO  => ~~~~(클래스를 통해 만들어진 인스턴스), OOO: 속성"
   ]
  },
  {
   "cell_type": "code",
   "execution_count": 6,
   "id": "bde07d71-7e5b-4694-bc43-90a34973ddce",
   "metadata": {},
   "outputs": [],
   "source": [
    "# ex)\n",
    "# var = ClassName()\n",
    "# var.method_name()"
   ]
  },
  {
   "cell_type": "code",
   "execution_count": 7,
   "id": "5985a532-a158-422a-9a8a-fb3fa34cb79e",
   "metadata": {},
   "outputs": [
    {
     "name": "stdout",
     "output_type": "stream",
     "text": [
      "안녕하세요.\n"
     ]
    }
   ],
   "source": [
    "class Person:  # 클래스명은 파스칼 케이스로 작성\n",
    "    def __init__(self):            # init: initialize (생성자)\n",
    "        self.hello = \"안녕하세요.\"  # Person으로 만들어진 인스턴스는 self라는 속성을 갖게 됨\n",
    "    \n",
    "    def greeting(self):\n",
    "        print(self.hello)\n",
    "\n",
    "james = Person()\n",
    "james.greeting()"
   ]
  },
  {
   "cell_type": "code",
   "execution_count": null,
   "id": "24950541-613f-45f0-b9a9-6183b7c70660",
   "metadata": {},
   "outputs": [],
   "source": []
  },
  {
   "cell_type": "code",
   "execution_count": 18,
   "id": "024d3872-0e41-414d-97a0-c2d6d3b7b338",
   "metadata": {},
   "outputs": [],
   "source": [
    "class Student:\n",
    "    # 생성자: 객체가 최초 생성될 때 딱 1번 실행되는 메서드z\n",
    "        # self는 내 자신의 인스턴스\n",
    "        self.name = \"홍길동\""
   ]
  },
  {
   "cell_type": "code",
   "execution_count": 19,
   "id": "28cf696c-f8b4-4bc4-bd2c-1a8636674d72",
   "metadata": {},
   "outputs": [],
   "source": [
    "s1 = Student()  # 클래스로부터 객체가 생성되는 지점\n",
    "\n",
    "s2 = Student()"
   ]
  },
  {
   "cell_type": "code",
   "execution_count": null,
   "id": "be5731a0-be49-4a42-8606-450660f12d0c",
   "metadata": {},
   "outputs": [],
   "source": []
  },
  {
   "cell_type": "code",
   "execution_count": 20,
   "id": "dabb4ca6-8e2e-4400-92fb-518d43dbb2c0",
   "metadata": {},
   "outputs": [
    {
     "data": {
      "text/plain": [
       "__main__.Student"
      ]
     },
     "execution_count": 20,
     "metadata": {},
     "output_type": "execute_result"
    }
   ],
   "source": [
    "type(s1)"
   ]
  },
  {
   "cell_type": "code",
   "execution_count": 21,
   "id": "cda66118-a32e-4e32-89ac-a6a58681c3b7",
   "metadata": {},
   "outputs": [
    {
     "name": "stdout",
     "output_type": "stream",
     "text": [
      "홍길동\n",
      "홍길동\n"
     ]
    }
   ],
   "source": [
    "s1.name = \"홍길동\"\n",
    "print(s1.name)\n",
    "print(s2.name)"
   ]
  },
  {
   "cell_type": "code",
   "execution_count": 15,
   "id": "a53c71bd-b184-4433-9a3a-5c8b84acb351",
   "metadata": {},
   "outputs": [
    {
     "name": "stdout",
     "output_type": "stream",
     "text": [
      "이몽룡\n"
     ]
    }
   ],
   "source": [
    "s1.name = \"이몽룡\"\n",
    "print(s1.name)"
   ]
  },
  {
   "cell_type": "code",
   "execution_count": null,
   "id": "122ba515-fc99-43cb-9469-c76b82e3d32c",
   "metadata": {},
   "outputs": [],
   "source": []
  },
  {
   "cell_type": "code",
   "execution_count": null,
   "id": "70e274d0-a3b5-42c0-8c01-e91aad9ea097",
   "metadata": {},
   "outputs": [],
   "source": [
    "# self"
   ]
  },
  {
   "cell_type": "code",
   "execution_count": 23,
   "id": "e616b85c-85cf-43fe-9b6b-00de2da8d24f",
   "metadata": {},
   "outputs": [],
   "source": [
    "# 특정 인스턴스.attribute\n",
    "# 특정 인스턴스.method()"
   ]
  },
  {
   "cell_type": "code",
   "execution_count": 30,
   "id": "a46e5ef9-994a-419b-aead-2a0a59df2a2f",
   "metadata": {},
   "outputs": [],
   "source": [
    "class Person:\n",
    "    def __init__(self, name, age):\n",
    "        self.name = name  # 보통 . 뒤에 있는 것과 같게 만들어줌\n",
    "        self.age = age"
   ]
  },
  {
   "cell_type": "code",
   "execution_count": 31,
   "id": "c90d7035-2775-472d-9907-886a9265dec0",
   "metadata": {},
   "outputs": [
    {
     "ename": "TypeError",
     "evalue": "__init__() missing 2 required positional arguments: 'name' and 'age'",
     "output_type": "error",
     "traceback": [
      "\u001b[1;31m---------------------------------------------------------------------------\u001b[0m",
      "\u001b[1;31mTypeError\u001b[0m                                 Traceback (most recent call last)",
      "\u001b[1;32m~\\AppData\\Local\\Temp\\ipykernel_4480\\2082442056.py\u001b[0m in \u001b[0;36m<module>\u001b[1;34m\u001b[0m\n\u001b[1;32m----> 1\u001b[1;33m \u001b[0mPerson\u001b[0m\u001b[1;33m(\u001b[0m\u001b[1;33m)\u001b[0m  \u001b[1;31m# 에러 발생 -> name과 age에 대한 값이 필요\u001b[0m\u001b[1;33m\u001b[0m\u001b[1;33m\u001b[0m\u001b[0m\n\u001b[0m",
      "\u001b[1;31mTypeError\u001b[0m: __init__() missing 2 required positional arguments: 'name' and 'age'"
     ]
    }
   ],
   "source": [
    "Person()  # 에러 발생 -> name과 age에 대한 값이 필요"
   ]
  },
  {
   "cell_type": "code",
   "execution_count": 32,
   "id": "08c3d08b-efe8-4351-9367-8a8bfaeb30e4",
   "metadata": {},
   "outputs": [
    {
     "name": "stdout",
     "output_type": "stream",
     "text": [
      "<__main__.Person object at 0x0000024E54693AC0>\n",
      "홍길동\n",
      "22\n"
     ]
    }
   ],
   "source": [
    "p1 = Person(\"홍길동\", 22)\n",
    "print(p1)\n",
    "print(p1.name)\n",
    "print(p1.age)"
   ]
  },
  {
   "cell_type": "code",
   "execution_count": 33,
   "id": "6015ad96-9cab-49ef-b275-65aba3f67ea2",
   "metadata": {},
   "outputs": [
    {
     "name": "stdout",
     "output_type": "stream",
     "text": [
      "성춘향\n"
     ]
    }
   ],
   "source": [
    "p2 = Person(\"성춘향\", 18)\n",
    "print(p2.name)"
   ]
  },
  {
   "cell_type": "code",
   "execution_count": 34,
   "id": "eb962a01-db00-45bd-9660-1e3d1b82c817",
   "metadata": {},
   "outputs": [],
   "source": [
    "# 가변 성격을 가진 것을 추가하면 원하지 않는 값이 나옴\n",
    "# ex) __init__(self, name, age[])"
   ]
  },
  {
   "cell_type": "code",
   "execution_count": null,
   "id": "e9f02498-4ac0-44b2-a99a-dc895c528ac2",
   "metadata": {},
   "outputs": [],
   "source": []
  },
  {
   "cell_type": "code",
   "execution_count": 37,
   "id": "ee0b6c0f-71dd-4a08-8d89-dee0c13e9d38",
   "metadata": {},
   "outputs": [
    {
     "name": "stdout",
     "output_type": "stream",
     "text": [
      "안녕하세요. 제 이름은 마리아입니다.\n",
      "이름: 마리아\n",
      "나이: 20\n",
      "주소: 서울시 서초구 반포동\n"
     ]
    }
   ],
   "source": [
    "class Person:\n",
    "    def __init__(self, name, age, address):\n",
    "        self.hello = \"안녕하세요.\"\n",
    "        self.name = name\n",
    "        self.age = age\n",
    "        self.address = address\n",
    "        \n",
    "    def greeting(self):\n",
    "        print(f\"{self.hello} 제 이름은 {self.name}입니다.\")\n",
    "\n",
    "maria = Person(\"마리아\", 20, \"서울시 서초구 반포동\")\n",
    "maria.greeting()\n",
    "\n",
    "print(\"이름:\", maria.name)\n",
    "print(\"나이:\", maria.age)\n",
    "print(\"주소:\", maria.address)"
   ]
  },
  {
   "cell_type": "code",
   "execution_count": null,
   "id": "c824c0dc-9985-4c44-9cf1-c1181794aba9",
   "metadata": {},
   "outputs": [],
   "source": []
  },
  {
   "cell_type": "code",
   "execution_count": 45,
   "id": "7c52f1ca-3a52-4cf4-9a18-1a0ca96ea5d0",
   "metadata": {},
   "outputs": [
    {
     "name": "stdin",
     "output_type": "stream",
     "text": [
      "이름은 무엇인가요?: 마리아\n",
      "나이는 무엇인가요?: 20\n",
      "주소는 무엇인가요? 서울시 강남구\n",
      "이름은 무엇인가요?: 제임스\n",
      "나이는 무엇인가요?: 21\n",
      "주소는 무엇인가요? 서울시 구로구\n"
     ]
    },
    {
     "name": "stdout",
     "output_type": "stream",
     "text": [
      "첫번째 이름: 마리아\n",
      "첫번째 나이: 20\n",
      "첫번째 주소: 서울시 강남구\n",
      "두번째 이름: 제임스\n",
      "두번째 나이: 21\n",
      "두번째 주소: 서울시 구로구\n"
     ]
    }
   ],
   "source": [
    "# Q1.\n",
    "class Person:\n",
    "    def __init__(self):  # init는 코드 내에서 1번밖에 쓸 수 없음!!\n",
    "        self.name = input(\"이름은 무엇인가요?:\")\n",
    "        self.age = int(input(\"나이는 무엇인가요?:\"))\n",
    "        self.add = input(\"주소는 무엇인가요?\")\n",
    "\n",
    "maria = Person()\n",
    "james = Person()\n",
    "\n",
    "print(\"첫번째 이름:\", maria.name)\n",
    "print(\"첫번째 나이:\", maria.age)\n",
    "print(\"첫번째 주소:\", maria.add)\n",
    "print(\"두번째 이름:\", james.name)\n",
    "print(\"두번째 나이:\", james.age)\n",
    "print(\"두번째 주소:\", james.add)"
   ]
  },
  {
   "cell_type": "code",
   "execution_count": 46,
   "id": "696db93b-2005-455f-b954-5530e4ea2121",
   "metadata": {},
   "outputs": [],
   "source": [
    "# Q1 다른 풀이\n"
   ]
  },
  {
   "cell_type": "code",
   "execution_count": null,
   "id": "395a9213-3426-45c6-adc0-15ad80dbdc40",
   "metadata": {},
   "outputs": [],
   "source": []
  },
  {
   "cell_type": "code",
   "execution_count": 47,
   "id": "a97d2809-444a-41a9-b00c-472ff0b1a675",
   "metadata": {},
   "outputs": [],
   "source": [
    "### 비공개 속성"
   ]
  },
  {
   "cell_type": "code",
   "execution_count": null,
   "id": "627623dd-72f3-4c30-af45-b009c1c26f9f",
   "metadata": {},
   "outputs": [],
   "source": [
    "class ClassName:\n",
    "    def __init__(self, parm1, parm2):\n",
    "        self.attr1 = param1\n",
    "        self.__attr2 = param2  # 비공개 속성"
   ]
  },
  {
   "cell_type": "code",
   "execution_count": 48,
   "id": "24a9c5ff-5273-480f-8581-1ce77a256afb",
   "metadata": {},
   "outputs": [],
   "source": [
    "# ex2)\n",
    "class ClassExam:\n",
    "    def __init__(self):\n",
    "        self.__secret = \"비밀입니다.\""
   ]
  },
  {
   "cell_type": "code",
   "execution_count": 49,
   "id": "fd773ac2-e398-4f07-9edd-2728616d1e7f",
   "metadata": {},
   "outputs": [
    {
     "ename": "AttributeError",
     "evalue": "'ClassExam' object has no attribute '__secret'",
     "output_type": "error",
     "traceback": [
      "\u001b[1;31m---------------------------------------------------------------------------\u001b[0m",
      "\u001b[1;31mAttributeError\u001b[0m                            Traceback (most recent call last)",
      "\u001b[1;32m~\\AppData\\Local\\Temp\\ipykernel_4480\\4181262321.py\u001b[0m in \u001b[0;36m<module>\u001b[1;34m\u001b[0m\n\u001b[0;32m      1\u001b[0m \u001b[0mc1\u001b[0m \u001b[1;33m=\u001b[0m \u001b[0mClassExam\u001b[0m\u001b[1;33m(\u001b[0m\u001b[1;33m)\u001b[0m\u001b[1;33m\u001b[0m\u001b[1;33m\u001b[0m\u001b[0m\n\u001b[1;32m----> 2\u001b[1;33m \u001b[0mprint\u001b[0m\u001b[1;33m(\u001b[0m\u001b[0mc1\u001b[0m\u001b[1;33m.\u001b[0m\u001b[0m__secret\u001b[0m\u001b[1;33m)\u001b[0m\u001b[1;33m\u001b[0m\u001b[1;33m\u001b[0m\u001b[0m\n\u001b[0m",
      "\u001b[1;31mAttributeError\u001b[0m: 'ClassExam' object has no attribute '__secret'"
     ]
    }
   ],
   "source": [
    "c1 = ClassExam()\n",
    "print(c1.__secret)  # 값 출력 없음. 에러 발생\n",
    "\n",
    "# 외부에서 비공개 속성을 출력할 수 없도록 통제"
   ]
  },
  {
   "cell_type": "code",
   "execution_count": null,
   "id": "12fc45e1-66b0-44e1-a7e3-110f4311dfbe",
   "metadata": {},
   "outputs": [],
   "source": []
  },
  {
   "cell_type": "code",
   "execution_count": 50,
   "id": "a0d89104-9f62-49ec-9d8f-93044647d7a8",
   "metadata": {},
   "outputs": [
    {
     "ename": "AttributeError",
     "evalue": "'Person' object has no attribute '__wallet'",
     "output_type": "error",
     "traceback": [
      "\u001b[1;31m---------------------------------------------------------------------------\u001b[0m",
      "\u001b[1;31mAttributeError\u001b[0m                            Traceback (most recent call last)",
      "\u001b[1;32m~\\AppData\\Local\\Temp\\ipykernel_4480\\3415385206.py\u001b[0m in \u001b[0;36m<module>\u001b[1;34m\u001b[0m\n\u001b[0;32m      7\u001b[0m \u001b[1;33m\u001b[0m\u001b[0m\n\u001b[0;32m      8\u001b[0m \u001b[0mmaria\u001b[0m \u001b[1;33m=\u001b[0m \u001b[0mPerson\u001b[0m\u001b[1;33m(\u001b[0m\u001b[1;34m\"마리아\"\u001b[0m\u001b[1;33m,\u001b[0m \u001b[1;36m20\u001b[0m\u001b[1;33m,\u001b[0m \u001b[1;34m\"서울시 서초구 반포동\"\u001b[0m\u001b[1;33m,\u001b[0m \u001b[1;36m10000\u001b[0m\u001b[1;33m)\u001b[0m\u001b[1;33m\u001b[0m\u001b[1;33m\u001b[0m\u001b[0m\n\u001b[1;32m----> 9\u001b[1;33m \u001b[0mmaria\u001b[0m\u001b[1;33m.\u001b[0m\u001b[0m__wallet\u001b[0m \u001b[1;33m-=\u001b[0m \u001b[1;36m10000\u001b[0m  \u001b[1;31m# 클래스 바깥에서 비공개 속성에 접근하면 에러 발생\u001b[0m\u001b[1;33m\u001b[0m\u001b[1;33m\u001b[0m\u001b[0m\n\u001b[0m",
      "\u001b[1;31mAttributeError\u001b[0m: 'Person' object has no attribute '__wallet'"
     ]
    }
   ],
   "source": [
    "class Person:\n",
    "    def __init__(self, name, age, address, wallet):\n",
    "        self.name = name\n",
    "        self.age = age\n",
    "        self.address = address\n",
    "        self.__wallet = wallet  # '__wallet'을 통해 비공개 속성으로 만듦\n",
    "\n",
    "maria = Person(\"마리아\", 20, \"서울시 서초구 반포동\", 10000)\n",
    "maria.__wallet -= 10000  # 에러 발생  -> 클래스 바깥에서 비공개 속성에 접근해서"
   ]
  },
  {
   "cell_type": "code",
   "execution_count": null,
   "id": "3b1ed66c-d840-4aef-b600-12af122748c6",
   "metadata": {},
   "outputs": [],
   "source": []
  },
  {
   "cell_type": "code",
   "execution_count": 55,
   "id": "d0dec428-4419-41d5-9bd2-e2af5c36daed",
   "metadata": {},
   "outputs": [
    {
     "name": "stdout",
     "output_type": "stream",
     "text": [
      "이제 3000원 남았네요.\n"
     ]
    }
   ],
   "source": [
    "class Person:\n",
    "    def __init__(self, name, age, address, wallet):\n",
    "        self.name = name\n",
    "        self.age = age\n",
    "        self.address = address\n",
    "        self.__wallet = wallet\n",
    "    def pay(self, amount):\n",
    "        if self.__wallet < amount:\n",
    "            print(\"돈이 모자랍니다.\")\n",
    "            return\n",
    "        self.__wallet -= amount\n",
    "        print(\"이제 {}원 남았네요.\".format(self.__wallet))\n",
    "\n",
    "maria = Person(\"마리아\", 20, \"서울시 서초구 반포동\", 10000)\n",
    "maria.pay(7000)"
   ]
  },
  {
   "cell_type": "code",
   "execution_count": null,
   "id": "1299f524-67c3-4c75-a975-efcd8e16a4b8",
   "metadata": {},
   "outputs": [],
   "source": []
  },
  {
   "cell_type": "code",
   "execution_count": 64,
   "id": "9a9bfb24-5725-480f-9dcf-a951c6371144",
   "metadata": {},
   "outputs": [
    {
     "name": "stdin",
     "output_type": "stream",
     "text": [
      "체력, 마나, AP를 입력하세요. 511.68 334.0 298\n"
     ]
    },
    {
     "name": "stdout",
     "output_type": "stream",
     "text": [
      "511.68 334.0 298\n"
     ]
    }
   ],
   "source": [
    "# Q2.\n",
    "class Annie:\n",
    "    def __init__(self, pwr, mn, AP):\n",
    "        self.pwr = pwr\n",
    "        self.mn = mn\n",
    "        self.AP = AP\n",
    "    def damage(self, dmg):\n",
    "        t_dmg = AP * 0.65 + 400\n",
    "\n",
    "t_dmg = input(\"체력, 마나, AP를 입력하세요.\").split(\" \")\n",
    "print(\" \".join(t_dmg))"
   ]
  },
  {
   "cell_type": "code",
   "execution_count": 71,
   "id": "8dac8aa0-94fb-422a-82ef-65a7aa6667a0",
   "metadata": {},
   "outputs": [],
   "source": [
    "class Annie:\n",
    "    def __init__(self):\n",
    "        self.hp = hp\n",
    "        self.mp = mp\n",
    "        self.ap = ap\n",
    "\n",
    "    def tibbers(self):\n",
    "        return self.ap * 0.65 + 400"
   ]
  },
  {
   "cell_type": "code",
   "execution_count": 72,
   "id": "6b9b3e43-5414-4959-a39d-a9dd92a82917",
   "metadata": {},
   "outputs": [
    {
     "ename": "NameError",
     "evalue": "name 'hp' is not defined",
     "output_type": "error",
     "traceback": [
      "\u001b[1;31m---------------------------------------------------------------------------\u001b[0m",
      "\u001b[1;31mNameError\u001b[0m                                 Traceback (most recent call last)",
      "\u001b[1;32m~\\AppData\\Local\\Temp\\ipykernel_4480\\1134595108.py\u001b[0m in \u001b[0;36m<module>\u001b[1;34m\u001b[0m\n\u001b[1;32m----> 1\u001b[1;33m \u001b[0ma1\u001b[0m \u001b[1;33m=\u001b[0m \u001b[0mAnnie\u001b[0m\u001b[1;33m(\u001b[0m\u001b[1;33m)\u001b[0m\u001b[1;33m\u001b[0m\u001b[1;33m\u001b[0m\u001b[0m\n\u001b[0m",
      "\u001b[1;32m~\\AppData\\Local\\Temp\\ipykernel_4480\\693256924.py\u001b[0m in \u001b[0;36m__init__\u001b[1;34m(self)\u001b[0m\n\u001b[0;32m      1\u001b[0m \u001b[1;32mclass\u001b[0m \u001b[0mAnnie\u001b[0m\u001b[1;33m:\u001b[0m\u001b[1;33m\u001b[0m\u001b[1;33m\u001b[0m\u001b[0m\n\u001b[0;32m      2\u001b[0m     \u001b[1;32mdef\u001b[0m \u001b[0m__init__\u001b[0m\u001b[1;33m(\u001b[0m\u001b[0mself\u001b[0m\u001b[1;33m)\u001b[0m\u001b[1;33m:\u001b[0m\u001b[1;33m\u001b[0m\u001b[1;33m\u001b[0m\u001b[0m\n\u001b[1;32m----> 3\u001b[1;33m         \u001b[0mself\u001b[0m\u001b[1;33m.\u001b[0m\u001b[0mhp\u001b[0m \u001b[1;33m=\u001b[0m \u001b[0mhp\u001b[0m\u001b[1;33m\u001b[0m\u001b[1;33m\u001b[0m\u001b[0m\n\u001b[0m\u001b[0;32m      4\u001b[0m         \u001b[0mself\u001b[0m\u001b[1;33m.\u001b[0m\u001b[0mmp\u001b[0m \u001b[1;33m=\u001b[0m \u001b[0mmp\u001b[0m\u001b[1;33m\u001b[0m\u001b[1;33m\u001b[0m\u001b[0m\n\u001b[0;32m      5\u001b[0m         \u001b[0mself\u001b[0m\u001b[1;33m.\u001b[0m\u001b[0map\u001b[0m \u001b[1;33m=\u001b[0m \u001b[0map\u001b[0m\u001b[1;33m\u001b[0m\u001b[1;33m\u001b[0m\u001b[0m\n",
      "\u001b[1;31mNameError\u001b[0m: name 'hp' is not defined"
     ]
    }
   ],
   "source": [
    "a1 = Annie()"
   ]
  },
  {
   "cell_type": "code",
   "execution_count": 73,
   "id": "45f58b9c-ff88-45e0-b147-218cb57fc3a9",
   "metadata": {},
   "outputs": [
    {
     "ename": "NameError",
     "evalue": "name 'a1' is not defined",
     "output_type": "error",
     "traceback": [
      "\u001b[1;31m---------------------------------------------------------------------------\u001b[0m",
      "\u001b[1;31mNameError\u001b[0m                                 Traceback (most recent call last)",
      "\u001b[1;32m~\\AppData\\Local\\Temp\\ipykernel_4480\\238527597.py\u001b[0m in \u001b[0;36m<module>\u001b[1;34m\u001b[0m\n\u001b[1;32m----> 1\u001b[1;33m \u001b[0mprint\u001b[0m\u001b[1;33m(\u001b[0m\u001b[0ma1\u001b[0m\u001b[1;33m.\u001b[0m\u001b[0mhp\u001b[0m\u001b[1;33m,\u001b[0m \u001b[0ma1\u001b[0m\u001b[1;33m.\u001b[0m\u001b[0mmp\u001b[0m\u001b[1;33m,\u001b[0m \u001b[0ma1\u001b[0m\u001b[1;33m.\u001b[0m\u001b[0map\u001b[0m\u001b[1;33m)\u001b[0m\u001b[1;33m\u001b[0m\u001b[1;33m\u001b[0m\u001b[0m\n\u001b[0m",
      "\u001b[1;31mNameError\u001b[0m: name 'a1' is not defined"
     ]
    }
   ],
   "source": [
    "print(a1.hp, a1.mp, a1.ap)"
   ]
  },
  {
   "cell_type": "code",
   "execution_count": 74,
   "id": "8bbecb4a-a10b-4185-9f1f-2cb1a685106f",
   "metadata": {},
   "outputs": [
    {
     "name": "stdin",
     "output_type": "stream",
     "text": [
      "애니 511.68 334.0 298\n"
     ]
    }
   ],
   "source": [
    "hp, mp, ap = map(float, input(\"애니\").split())"
   ]
  },
  {
   "cell_type": "code",
   "execution_count": 75,
   "id": "d7add08a-bab3-4a65-903e-35b766c40d2d",
   "metadata": {},
   "outputs": [
    {
     "ename": "TypeError",
     "evalue": "__init__() takes 1 positional argument but 4 were given",
     "output_type": "error",
     "traceback": [
      "\u001b[1;31m---------------------------------------------------------------------------\u001b[0m",
      "\u001b[1;31mTypeError\u001b[0m                                 Traceback (most recent call last)",
      "\u001b[1;32m~\\AppData\\Local\\Temp\\ipykernel_4480\\1128286755.py\u001b[0m in \u001b[0;36m<module>\u001b[1;34m\u001b[0m\n\u001b[1;32m----> 1\u001b[1;33m \u001b[0ma2\u001b[0m \u001b[1;33m=\u001b[0m \u001b[0mAnnie\u001b[0m\u001b[1;33m(\u001b[0m\u001b[0mhp\u001b[0m\u001b[1;33m,\u001b[0m \u001b[0mmp\u001b[0m\u001b[1;33m,\u001b[0m \u001b[0map\u001b[0m\u001b[1;33m)\u001b[0m\u001b[1;33m\u001b[0m\u001b[1;33m\u001b[0m\u001b[0m\n\u001b[0m",
      "\u001b[1;31mTypeError\u001b[0m: __init__() takes 1 positional argument but 4 were given"
     ]
    }
   ],
   "source": [
    "a2 = Annie(hp, mp, ap)"
   ]
  },
  {
   "cell_type": "code",
   "execution_count": 76,
   "id": "e0c54dd2-3986-4602-bfb6-d7353af6220a",
   "metadata": {},
   "outputs": [
    {
     "ename": "SyntaxError",
     "evalue": "invalid syntax (3022734730.py, line 1)",
     "output_type": "error",
     "traceback": [
      "\u001b[1;36m  File \u001b[1;32m\"C:\\Users\\Playdata\\AppData\\Local\\Temp\\ipykernel_4480\\3022734730.py\"\u001b[1;36m, line \u001b[1;32m1\u001b[0m\n\u001b[1;33m    print(a2.hp, a2..mp, a2.ap)\u001b[0m\n\u001b[1;37m                    ^\u001b[0m\n\u001b[1;31mSyntaxError\u001b[0m\u001b[1;31m:\u001b[0m invalid syntax\n"
     ]
    }
   ],
   "source": [
    "print(a2.hp, a2.mp, a2.ap)"
   ]
  },
  {
   "cell_type": "code",
   "execution_count": 77,
   "id": "925bdce6-f389-46fa-936f-c1f84ab253e1",
   "metadata": {},
   "outputs": [
    {
     "ename": "NameError",
     "evalue": "name 'a2' is not defined",
     "output_type": "error",
     "traceback": [
      "\u001b[1;31m---------------------------------------------------------------------------\u001b[0m",
      "\u001b[1;31mNameError\u001b[0m                                 Traceback (most recent call last)",
      "\u001b[1;32m~\\AppData\\Local\\Temp\\ipykernel_4480\\473265214.py\u001b[0m in \u001b[0;36m<module>\u001b[1;34m\u001b[0m\n\u001b[1;32m----> 1\u001b[1;33m \u001b[0ma2\u001b[0m\u001b[1;33m.\u001b[0m\u001b[0mtibbers\u001b[0m\u001b[1;33m(\u001b[0m\u001b[1;33m)\u001b[0m\u001b[1;33m\u001b[0m\u001b[1;33m\u001b[0m\u001b[0m\n\u001b[0m",
      "\u001b[1;31mNameError\u001b[0m: name 'a2' is not defined"
     ]
    }
   ],
   "source": [
    "a2.tibbers()"
   ]
  },
  {
   "cell_type": "code",
   "execution_count": null,
   "id": "c9599bbb-c38e-4259-a8af-1c70008050a5",
   "metadata": {},
   "outputs": [],
   "source": []
  }
 ],
 "metadata": {
  "kernelspec": {
   "display_name": "Python 3 (ipykernel)",
   "language": "python",
   "name": "python3"
  },
  "language_info": {
   "codemirror_mode": {
    "name": "ipython",
    "version": 3
   },
   "file_extension": ".py",
   "mimetype": "text/x-python",
   "name": "python",
   "nbconvert_exporter": "python",
   "pygments_lexer": "ipython3",
   "version": "3.9.13"
  }
 },
 "nbformat": 4,
 "nbformat_minor": 5
}
