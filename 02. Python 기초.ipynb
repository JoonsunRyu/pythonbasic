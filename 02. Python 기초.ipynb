{
 "cells": [
  {
   "cell_type": "code",
   "execution_count": 5,
   "id": "7be473da-fb0b-4956-855c-7bbc9850d9fe",
   "metadata": {},
   "outputs": [
    {
     "name": "stdout",
     "output_type": "stream",
     "text": [
      "# 이것은 주석이 아닙니다. 따옴표 안은 문자열입니다\n",
      "1\n"
     ]
    }
   ],
   "source": [
    "##### 주석 사용하기\n",
    "x = 1  # 여기서 =(등호)기호는 수학의 같다는 의미와는 다르다.\n",
    "       # ... 우측 변의 리터럴을 좌측변의 변수에 대입한다는 의미다.\n",
    "       # '리터럴 = 값' 그 자체.\n",
    "        \n",
    "text = \"# 이것은 주석이 아닙니다. 따옴표 안은 문자열 리터럴입니다.\""
   ]
  },
  {
   "cell_type": "code",
   "execution_count": null,
   "id": "bd97d726-f6ff-4380-9ea4-8a538e53e665",
   "metadata": {},
   "outputs": [],
   "source": [
    "##### print() : Parameter로 받은 값을 모니터에 출력해주는 함수"
   ]
  },
  {
   "cell_type": "code",
   "execution_count": 7,
   "id": "c9ae6a81-8d32-4ff9-ac70-e00f9ca5db87",
   "metadata": {},
   "outputs": [
    {
     "name": "stdout",
     "output_type": "stream",
     "text": [
      "1\n",
      "# 이것은 주석이 아닙니다. 따옴표 안은 문자열입니다\n"
     ]
    }
   ],
   "source": []
  },
  {
   "cell_type": "code",
   "execution_count": null,
   "id": "2cebb3f7-2b09-4111-a0bc-4ab0d8e9b8b5",
   "metadata": {},
   "outputs": [],
   "source": []
  },
  {
   "cell_type": "code",
   "execution_count": null,
   "id": "39502711-c2cb-4f40-8e5f-9bacda4b4476",
   "metadata": {},
   "outputs": [],
   "source": [
    "##### Quiz"
   ]
  },
  {
   "cell_type": "code",
   "execution_count": 15,
   "id": "4f8364d4-edae-433e-9100-ec0801db5392",
   "metadata": {},
   "outputs": [
    {
     "name": "stdout",
     "output_type": "stream",
     "text": [
      "Hello, world!\n",
      "Hello, world!\n",
      "Python Programming\n"
     ]
    }
   ],
   "source": [
    "a = \"Hello, world!\\nHello, world!\"\n",
    "b = \"Python Programming\"\n",
    "\n",
    "print(a)\n",
    "print(b)\n",
    "\n",
    "# 또는 print(\"Hello, world!) 2번 입력해도 무방."
   ]
  },
  {
   "cell_type": "code",
   "execution_count": null,
   "id": "4ce0a91b-d783-4e78-957f-1834019da437",
   "metadata": {},
   "outputs": [],
   "source": [
    "##### print() : Parameter로 받은 값을 모니터에 출력해주는 함수"
   ]
  },
  {
   "cell_type": "code",
   "execution_count": null,
   "id": "a007a8cd-2f26-4bab-88a8-72e86790aa89",
   "metadata": {},
   "outputs": [],
   "source": []
  },
  {
   "cell_type": "code",
   "execution_count": null,
   "id": "57f0a175-1f53-4b70-bf0c-ca5217a97f88",
   "metadata": {},
   "outputs": [],
   "source": []
  },
  {
   "cell_type": "code",
   "execution_count": null,
   "id": "d38a2cdf-7b61-4a6e-9c08-3be317a551f0",
   "metadata": {},
   "outputs": [],
   "source": []
  }
 ],
 "metadata": {
  "kernelspec": {
   "display_name": "Python 3 (ipykernel)",
   "language": "python",
   "name": "python3"
  },
  "language_info": {
   "codemirror_mode": {
    "name": "ipython",
    "version": 3
   },
   "file_extension": ".py",
   "mimetype": "text/x-python",
   "name": "python",
   "nbconvert_exporter": "python",
   "pygments_lexer": "ipython3",
   "version": "3.9.13"
  }
 },
 "nbformat": 4,
 "nbformat_minor": 5
}
