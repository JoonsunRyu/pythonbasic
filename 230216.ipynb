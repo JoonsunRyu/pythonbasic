{
 "cells": [
  {
   "cell_type": "code",
   "execution_count": null,
   "id": "4772eeab-a174-4e05-9022-09ce77930559",
   "metadata": {},
   "outputs": [],
   "source": [
    "##### Review"
   ]
  },
  {
   "cell_type": "code",
   "execution_count": null,
   "id": "8b54ff06-1486-47b6-8064-867a9340f0e8",
   "metadata": {},
   "outputs": [],
   "source": [
    "# range(변수) = (시작, 끝, 증감크기)  -> \"소괄호\" 사용 / 콤마(,)로 구분\n",
    "# 시퀀스자료형 변수[시작:끝:증감크기]  -> \"대괄호\" 사용 / 콜론(:)으로 구분"
   ]
  },
  {
   "cell_type": "code",
   "execution_count": 1,
   "id": "c39497e3-2eb8-49d6-9b7b-e8d0c35b415a",
   "metadata": {},
   "outputs": [
    {
     "data": {
      "text/plain": [
       "[0, 1, 2, 3, 4, 5, 6, 7]"
      ]
     },
     "execution_count": 1,
     "metadata": {},
     "output_type": "execute_result"
    }
   ],
   "source": [
    "list(range(0, 8, 1))"
   ]
  },
  {
   "cell_type": "code",
   "execution_count": 2,
   "id": "05c13ca3-6e91-493e-a4fd-572d3b4d1747",
   "metadata": {},
   "outputs": [
    {
     "data": {
      "text/plain": [
       "[0, 1, 2, 3, 4, 5, 6, 7]"
      ]
     },
     "execution_count": 2,
     "metadata": {},
     "output_type": "execute_result"
    }
   ],
   "source": [
    "list(range(8))"
   ]
  },
  {
   "cell_type": "code",
   "execution_count": 6,
   "id": "e8e8e8c9-f93d-4a62-ad3f-e126652cd1a2",
   "metadata": {},
   "outputs": [
    {
     "name": "stdout",
     "output_type": "stream",
     "text": [
      "range(2, 100, 2)\n",
      "[2, 4, 6, 8, 10, 12, 14, 16, 18, 20, 22, 24, 26, 28, 30, 32, 34, 36, 38, 40, 42, 44, 46, 48, 50, 52, 54, 56, 58, 60, 62, 64, 66, 68, 70, 72, 74, 76, 78, 80, 82, 84, 86, 88, 90, 92, 94, 96, 98]\n"
     ]
    }
   ],
   "source": [
    "even_numbers = range(2, 100, 2)\n",
    "print(even_numbers)\n",
    "\n",
    "even_numbers = list(range(2, 100, 2))\n",
    "print(even_numbers)"
   ]
  },
  {
   "cell_type": "code",
   "execution_count": 7,
   "id": "232f11df-b1be-4795-8cdf-2522dbb6751b",
   "metadata": {},
   "outputs": [],
   "source": [
    "# 객체: 메모리 상에 할당되어 실제로 존재하는 데이터"
   ]
  },
  {
   "cell_type": "code",
   "execution_count": null,
   "id": "bb0b7a80-f814-430e-9971-75ed4948ba3f",
   "metadata": {},
   "outputs": [],
   "source": []
  },
  {
   "cell_type": "code",
   "execution_count": null,
   "id": "b2757700-edc3-4975-b227-f4c0f1bb2fbc",
   "metadata": {},
   "outputs": [],
   "source": []
  },
  {
   "cell_type": "code",
   "execution_count": 8,
   "id": "c4d04118-a4a5-4593-b221-dc0d6872e9c7",
   "metadata": {},
   "outputs": [],
   "source": [
    "##### for 반복문"
   ]
  },
  {
   "cell_type": "code",
   "execution_count": 9,
   "id": "23680f9c-f0ad-47e8-b057-dff199ac6083",
   "metadata": {},
   "outputs": [],
   "source": [
    "# \"시퀀스 자료형\" 항목을 \"순서대로\" 하나씩 꺼낸다\n",
    "# 객체를 루핑할 때 좋음. 반복 횟수가 정해져 있을 때(유한) 사용\n",
    "# 다른 프로그래밍 언어(ex. JAVA, C언어)와 다름\n",
    "# 동적 타이핑(변수 type 알아서 적용) <-> 정적 타이핑(변수 type을 \"직접 적용\" 필수!)"
   ]
  },
  {
   "cell_type": "code",
   "execution_count": 13,
   "id": "cc29a3d7-1899-4290-888b-3a646e8c8bbe",
   "metadata": {},
   "outputs": [
    {
     "name": "stdout",
     "output_type": "stream",
     "text": [
      "hello world\n",
      "hello world\n",
      "hello world\n",
      "hello world\n",
      "hello world\n",
      "hello world\n",
      "hello world\n",
      "hello world\n",
      "hello world\n",
      "hello world\n"
     ]
    }
   ],
   "source": [
    "for i in range(10):\n",
    "    print(\"hello world\")"
   ]
  },
  {
   "cell_type": "code",
   "execution_count": 14,
   "id": "31408f18-420b-4e88-966e-28d0afda5e3b",
   "metadata": {},
   "outputs": [
    {
     "name": "stdout",
     "output_type": "stream",
     "text": [
      "hello world0\n",
      "hello world1\n",
      "hello world2\n",
      "hello world3\n",
      "hello world4\n",
      "hello world5\n",
      "hello world6\n",
      "hello world7\n",
      "hello world8\n",
      "hello world9\n"
     ]
    }
   ],
   "source": [
    "for i in range(10):\n",
    "    print(f\"hello world{i}\")"
   ]
  },
  {
   "cell_type": "code",
   "execution_count": 15,
   "id": "01858c90-77b8-4ee5-bcd4-b017216787d2",
   "metadata": {},
   "outputs": [
    {
     "name": "stdout",
     "output_type": "stream",
     "text": [
      "hello world0\n",
      "hello world1\n",
      "hello world2\n",
      "끝\n"
     ]
    }
   ],
   "source": [
    "for i in range(3):\n",
    "    print(f\"hello world{i}\")\n",
    "print(\"끝\")\n",
    "\n",
    "# i로부터 더 이상 꺼내올 것이 없을 때 들여쓰기 밖으로 나옴"
   ]
  },
  {
   "cell_type": "code",
   "execution_count": null,
   "id": "624709da-bb30-40d4-8cbb-0cc9042cb0cd",
   "metadata": {},
   "outputs": [],
   "source": []
  },
  {
   "cell_type": "code",
   "execution_count": 17,
   "id": "e3ff0384-c60f-4f6e-92ae-cd055bcb901e",
   "metadata": {
    "scrolled": true,
    "tags": []
   },
   "outputs": [
    {
     "name": "stdout",
     "output_type": "stream",
     "text": [
      "Hello world 1\n",
      "Hello world 2\n",
      "Hello world 3\n",
      "Hello world 4\n",
      "Hello world 5\n",
      "Hello world 6\n",
      "Hello world 7\n",
      "Hello world 8\n",
      "Hello world 9\n",
      "Hello world 10\n",
      "Hello world 11\n",
      "Hello world 12\n",
      "Hello world 13\n",
      "Hello world 14\n",
      "Hello world 15\n",
      "Hello world 16\n",
      "Hello world 17\n",
      "Hello world 18\n",
      "Hello world 19\n",
      "Hello world 20\n",
      "Hello world 21\n",
      "Hello world 22\n",
      "Hello world 23\n",
      "Hello world 24\n",
      "Hello world 25\n",
      "Hello world 26\n",
      "Hello world 27\n",
      "Hello world 28\n",
      "Hello world 29\n",
      "Hello world 30\n",
      "Hello world 31\n",
      "Hello world 32\n",
      "Hello world 33\n",
      "Hello world 34\n",
      "Hello world 35\n",
      "Hello world 36\n",
      "Hello world 37\n",
      "Hello world 38\n",
      "Hello world 39\n",
      "Hello world 40\n",
      "Hello world 41\n",
      "Hello world 42\n",
      "Hello world 43\n",
      "Hello world 44\n",
      "Hello world 45\n",
      "Hello world 46\n",
      "Hello world 47\n",
      "Hello world 48\n",
      "Hello world 49\n",
      "Hello world 50\n",
      "Hello world 51\n",
      "Hello world 52\n",
      "Hello world 53\n",
      "Hello world 54\n",
      "Hello world 55\n",
      "Hello world 56\n",
      "Hello world 57\n",
      "Hello world 58\n",
      "Hello world 59\n",
      "Hello world 60\n",
      "Hello world 61\n",
      "Hello world 62\n",
      "Hello world 63\n",
      "Hello world 64\n",
      "Hello world 65\n",
      "Hello world 66\n",
      "Hello world 67\n",
      "Hello world 68\n",
      "Hello world 69\n",
      "Hello world 70\n",
      "Hello world 71\n",
      "Hello world 72\n",
      "Hello world 73\n",
      "Hello world 74\n",
      "Hello world 75\n",
      "Hello world 76\n",
      "Hello world 77\n",
      "Hello world 78\n",
      "Hello world 79\n",
      "Hello world 80\n",
      "Hello world 81\n",
      "Hello world 82\n",
      "Hello world 83\n",
      "Hello world 84\n",
      "Hello world 85\n",
      "Hello world 86\n",
      "Hello world 87\n",
      "Hello world 88\n",
      "Hello world 89\n",
      "Hello world 90\n",
      "Hello world 91\n",
      "Hello world 92\n",
      "Hello world 93\n",
      "Hello world 94\n",
      "Hello world 95\n",
      "Hello world 96\n",
      "Hello world 97\n",
      "Hello world 98\n",
      "Hello world 99\n",
      "Hello world 100\n"
     ]
    }
   ],
   "source": [
    "# Q1.\n",
    "for i in range(1,101,1):\n",
    "    print(f\"Hello world {i}\")"
   ]
  },
  {
   "cell_type": "code",
   "execution_count": null,
   "id": "7889b1b5-bb83-410b-95da-f5e9828368a6",
   "metadata": {},
   "outputs": [],
   "source": []
  },
  {
   "cell_type": "code",
   "execution_count": 19,
   "id": "321ccc78-c330-49b6-b1de-031feb3782f6",
   "metadata": {},
   "outputs": [
    {
     "name": "stdin",
     "output_type": "stream",
     "text": [
      "인사 몇 번 해드릴까요? 3\n"
     ]
    },
    {
     "name": "stdout",
     "output_type": "stream",
     "text": [
      "Hello world\n",
      "Hello world\n",
      "Hello world\n"
     ]
    }
   ],
   "source": [
    "# Q2.\n",
    "int(input(\"인사 몇 번 해드릴까요?\"))\n",
    "for i in range(3):\n",
    "    print(\"Hello world\")"
   ]
  },
  {
   "cell_type": "code",
   "execution_count": 20,
   "id": "f9b30e45-5516-43d1-bd73-80a99c0d0116",
   "metadata": {},
   "outputs": [
    {
     "name": "stdin",
     "output_type": "stream",
     "text": [
      "인사 몇 번 해드릴까요? 3\n"
     ]
    },
    {
     "name": "stdout",
     "output_type": "stream",
     "text": [
      "Hello world  1\n",
      "Hello world  2\n",
      "Hello world  3\n"
     ]
    }
   ],
   "source": [
    "# 해답\n",
    "count = int(input(\"인사 몇 번 해드릴까요?\"))\n",
    "for _ in range(1, count + 1):\n",
    "    print(\"Hello world \", _)\n",
    "\n",
    "# 언더바 의미? ->  '임의의 변수'를 의미함"
   ]
  },
  {
   "cell_type": "code",
   "execution_count": null,
   "id": "d1534102-bc45-4962-9ad2-f73f2b46c0f0",
   "metadata": {},
   "outputs": [],
   "source": []
  },
  {
   "cell_type": "code",
   "execution_count": 23,
   "id": "74d6b0cb-2012-4340-9700-68733a80b035",
   "metadata": {},
   "outputs": [
    {
     "name": "stdout",
     "output_type": "stream",
     "text": [
      "[5, 6, 7, 8, 9]\n",
      "[0, 3, 6, 9]\n",
      "[-10, -40, -70]\n"
     ]
    }
   ],
   "source": [
    "# Q3.\n",
    "a = list(range(5, 10, 1))  # 3번째 인수 \"1\" 생략 가능\n",
    "print(a)\n",
    "\n",
    "b = list(range(0, 10, 3))\n",
    "print(b)\n",
    "\n",
    "c = list(range(-10, -71, -30))\n",
    "print(c)"
   ]
  },
  {
   "cell_type": "code",
   "execution_count": null,
   "id": "bd78ed6c-201f-45cb-8fd9-2176e2bae6b9",
   "metadata": {},
   "outputs": [],
   "source": []
  },
  {
   "cell_type": "code",
   "execution_count": 83,
   "id": "bc37a783-bf7a-46bd-989c-87f548fef988",
   "metadata": {},
   "outputs": [
    {
     "name": "stdin",
     "output_type": "stream",
     "text": [
      "자연수 하나 입력해주세요: 6\n"
     ]
    },
    {
     "name": "stdout",
     "output_type": "stream",
     "text": [
      "6\t6\t6\t6\t6\t6\t\n",
      "5\t5\t5\t5\t5\t\n",
      "4\t4\t4\t4\t\n",
      "3\t3\t3\t\n",
      "2\t2\t\n",
      "1\t\n"
     ]
    }
   ],
   "source": [
    "# Q4.\n",
    "a = int(input(\"자연수 하나 입력해주세요:\"))\n",
    "\n",
    "for i in range(6, 0, -1):\n",
    "    for j in range(i):\n",
    "        print(i, \"\\t\", sep = \"\", end = \"\")\n",
    "    print()"
   ]
  },
  {
   "cell_type": "code",
   "execution_count": 33,
   "id": "896348d2-2a0b-4a99-af24-4130359a1436",
   "metadata": {},
   "outputs": [
    {
     "name": "stdin",
     "output_type": "stream",
     "text": [
      "자연수 하나 입력해주세요: 6\n"
     ]
    },
    {
     "name": "stdout",
     "output_type": "stream",
     "text": [
      "6\t6\t6\t6\t6\t6\t\n",
      "5\t5\t5\t5\t5\t\n",
      "4\t4\t4\t4\t\n",
      "3\t3\t3\t\n",
      "2\t2\t\n",
      "1\t\n"
     ]
    }
   ],
   "source": [
    "# Q4 다른 풀이\n",
    "a = int(input(\"자연수 하나 입력해주세요:\"))\n",
    "\n",
    "for i in range(a, 0, -1):\n",
    "    print(f\"{i}\\t\" * i)"
   ]
  },
  {
   "cell_type": "code",
   "execution_count": null,
   "id": "42d1470b-2dc2-44e1-b571-875f467de57c",
   "metadata": {},
   "outputs": [],
   "source": []
  },
  {
   "cell_type": "code",
   "execution_count": 34,
   "id": "f328e943-bc11-4d49-88cf-564d37488f29",
   "metadata": {},
   "outputs": [
    {
     "name": "stdout",
     "output_type": "stream",
     "text": [
      "* * * * * * * * * * \n",
      "*\t\t  *\n",
      "*\t\t  *\n",
      "*\t\t  *\n",
      "*\t\t  *\n",
      "*\t\t  *\n",
      "*\t\t  *\n",
      "*\t\t  *\n",
      "*\t\t  *\n",
      "* * * * * * * * * * "
     ]
    }
   ],
   "source": [
    "# Q5.\n",
    "for i in range(10):\n",
    "    print(f\"* \", end = \"\")\n",
    "\n",
    "print()\n",
    "\n",
    "for j in range(8):\n",
    "    print(\"*\", f\"\\t\" * 2, \"  *\", sep = \"\")\n",
    "\n",
    "for i in range(10):\n",
    "    print(f\"* \", end = \"\")"
   ]
  },
  {
   "cell_type": "code",
   "execution_count": null,
   "id": "3bd7b7a8-3683-41b5-b4e7-30773be8582a",
   "metadata": {},
   "outputs": [],
   "source": [
    "# Q5 다른 풀이"
   ]
  },
  {
   "cell_type": "code",
   "execution_count": 134,
   "id": "9469f79f-2396-4182-b59c-d6aa6d15f5a1",
   "metadata": {},
   "outputs": [
    {
     "name": "stdout",
     "output_type": "stream",
     "text": [
      "* * * * * * * * * * \n",
      "*                 *\n",
      "*                 *\n",
      "*                 *\n",
      "*                 *\n",
      "*                 *\n",
      "*                 *\n",
      "*                 *\n",
      "*                 *\n",
      "* * * * * * * * * * \n"
     ]
    }
   ],
   "source": [
    "for i in range(10):\n",
    "    if i == 0 or i == 9:\n",
    "        print(\"* \" * 10)\n",
    "    else:\n",
    "        print(\"*                 *\")\n",
    "\n",
    "# 무언가 허무하다..."
   ]
  },
  {
   "cell_type": "code",
   "execution_count": null,
   "id": "62e97f4b-f4e1-4d23-81c9-e8429e337505",
   "metadata": {},
   "outputs": [],
   "source": []
  },
  {
   "cell_type": "code",
   "execution_count": 203,
   "id": "2d9b153b-bff4-41d1-80da-e0cd7ae25fa5",
   "metadata": {},
   "outputs": [
    {
     "name": "stdin",
     "output_type": "stream",
     "text": [
      "1부터 입력한 자연수까지의 모든 홀수의 합을 구합니다 13\n"
     ]
    },
    {
     "name": "stdout",
     "output_type": "stream",
     "text": [
      "1 + 3 + 5 + 7 + 9 + 11 + 13 = 49"
     ]
    }
   ],
   "source": [
    "# Q6.\n",
    "a = int(input(\"1부터 입력한 자연수까지의 모든 홀수의 합을 구합니다\"))\n",
    "\n",
    "for i in range(1, a - 1, 2):\n",
    "    print(i, \"+ \", end = \"\")\n",
    "\n",
    "if a % 2 == 0:\n",
    "    sum = 0\n",
    "    for j in range(1, a, 2):\n",
    "        sum += j\n",
    "    print(a - 1, \"=\", sum, end = \"\")\n",
    "else:\n",
    "    print(a, \"= \", end = \"\")\n",
    "    sum = 0\n",
    "    for j in range(1, a, 2):\n",
    "        sum += j\n",
    "    print(sum + a, end = \"\")"
   ]
  },
  {
   "cell_type": "code",
   "execution_count": 206,
   "id": "fffc68c5-490d-48ea-9743-7596acdc9b82",
   "metadata": {},
   "outputs": [
    {
     "name": "stdin",
     "output_type": "stream",
     "text": [
      "1부터 입력한 자연수까지의 모든 홀수의 합을 구합니다 13\n"
     ]
    },
    {
     "name": "stdout",
     "output_type": "stream",
     "text": [
      "1 + 3 + 5 + 7 + 9 + 11 + 13 = 49\n"
     ]
    }
   ],
   "source": [
    "# Q6 다른 풀이\n",
    "a = int(input(\"1부터 입력한 자연수까지의 모든 홀수의 합을 구합니다\"))\n",
    "\n",
    "result = 0\n",
    "for i in range(1, a + 1):\n",
    "    if i % 2 ==1:\n",
    "        if (a - 1) == i or a ==i:\n",
    "            print(i, end = \" = \")\n",
    "        else:\n",
    "            print(i, end = \" + \")\n",
    "        result += i\n",
    "print(result)"
   ]
  },
  {
   "cell_type": "code",
   "execution_count": null,
   "id": "a5aa2962-94cb-4c08-a21b-41f263096a3b",
   "metadata": {},
   "outputs": [],
   "source": []
  },
  {
   "cell_type": "code",
   "execution_count": 214,
   "id": "917a7d5f-04be-42d9-8e5a-d49eba32c37b",
   "metadata": {},
   "outputs": [
    {
     "name": "stdin",
     "output_type": "stream",
     "text": [
      "계승을 구할 숫자를 입력하세요. 7\n"
     ]
    },
    {
     "name": "stdout",
     "output_type": "stream",
     "text": [
      "5040\n"
     ]
    }
   ],
   "source": [
    "# Q7. - 계승(Factorial, !)\n",
    "a = int(input(\"계승을 구할 숫자를 입력하세요.\"))\n",
    "\n",
    "prd = 1\n",
    "for i in range(1, a + 1):\n",
    "    prd *= i\n",
    "\n",
    "print(prd)"
   ]
  },
  {
   "cell_type": "code",
   "execution_count": 215,
   "id": "2868d6e3-e51d-4a5c-a60b-7a972adf1947",
   "metadata": {},
   "outputs": [
    {
     "name": "stdin",
     "output_type": "stream",
     "text": [
      "계승을 구할 숫자를 입력하세요. 4\n"
     ]
    },
    {
     "name": "stdout",
     "output_type": "stream",
     "text": [
      "196\n"
     ]
    }
   ],
   "source": [
    "# Q7 다른 풀이\n",
    "n = int(input(\"계승을 구할 숫자를 입력하세요.\"))\n",
    "\n",
    "prd = 1\n",
    "for _ in range(1, n + 1):\n",
    "    prd = result * _\n",
    "\n",
    "print(prd)"
   ]
  },
  {
   "cell_type": "code",
   "execution_count": null,
   "id": "07fb7e9f-b0a6-4e23-a21b-151a5f3ec246",
   "metadata": {},
   "outputs": [],
   "source": []
  },
  {
   "cell_type": "code",
   "execution_count": 216,
   "id": "51e2fdda-40ad-455e-8bf5-c6823f47181c",
   "metadata": {},
   "outputs": [
    {
     "name": "stdout",
     "output_type": "stream",
     "text": [
      "시\n",
      "미\n",
      "라\n",
      "레\n",
      "솔\n",
      "도\n",
      "파\n"
     ]
    }
   ],
   "source": [
    "for _ in [\"시\", \"미\", \"라\", \"레\", \"솔\", \"도\", \"파\"]:\n",
    "    print(_)\n",
    "\n",
    "# [ ]안에 오는 것이 literable"
   ]
  },
  {
   "cell_type": "code",
   "execution_count": 217,
   "id": "bbd4c02b-1c45-4ac5-9780-73fb36a430e5",
   "metadata": {},
   "outputs": [
    {
     "name": "stdout",
     "output_type": "stream",
     "text": [
      "파 도 솔 레 라 미 시 "
     ]
    }
   ],
   "source": [
    "for _ in [\"파\", \"도\", \"솔\", \"레\", \"라\", \"미\", \"시\"]:\n",
    "    print(_, end = \" \")"
   ]
  },
  {
   "cell_type": "code",
   "execution_count": 218,
   "id": "9a036913-5178-457a-aa8b-d403e26f9200",
   "metadata": {},
   "outputs": [
    {
     "name": "stdout",
     "output_type": "stream",
     "text": [
      "일 이 삼 사 오 육 칠 팔 구 십 "
     ]
    }
   ],
   "source": [
    "for _ in \"일이삼사오육칠팔구십\":\n",
    "    print(_, end = \" \")"
   ]
  },
  {
   "cell_type": "code",
   "execution_count": 223,
   "id": "f0cf0e3a-3d31-4af9-8386-83bad4cbc890",
   "metadata": {},
   "outputs": [
    {
     "name": "stdout",
     "output_type": "stream",
     "text": [
      "십 구 팔 칠 육 오 사 삼 이 일 일이삼사오육칠팔구십\n",
      "십구팔칠육오사삼이일\n",
      "일이삼사오육칠팔구십\n"
     ]
    }
   ],
   "source": [
    "a = \"일이삼사오육칠팔구십\"\n",
    "for _ in reversed(a):\n",
    "    print(_, end = \" \")\n",
    "\n",
    "print(a)\n",
    "print(a[::-1])  # reversed()와 같은 역할\n",
    "\n",
    "# reversed()는 내장 함수\n",
    "# 역순 정렬 X 거꾸로 출력하는 것"
   ]
  },
  {
   "cell_type": "code",
   "execution_count": 224,
   "id": "cc38b724-0248-4031-ba67-aef1d138e009",
   "metadata": {},
   "outputs": [],
   "source": [
    "# Jupyter notebook에서 None값은 print()함수 없이는 출력하지 않음"
   ]
  },
  {
   "cell_type": "code",
   "execution_count": null,
   "id": "06d34862-5b34-4298-ab20-a1708ed6ee0c",
   "metadata": {},
   "outputs": [],
   "source": []
  },
  {
   "cell_type": "code",
   "execution_count": 227,
   "id": "bf1de24e-34b8-464f-838c-6cecc731737b",
   "metadata": {},
   "outputs": [
    {
     "name": "stdout",
     "output_type": "stream",
     "text": [
      "100 -420 250 10230 210 770 240 "
     ]
    }
   ],
   "source": [
    "# Q7 (?????????)\n",
    "x = [10, -42, 25, 1023, 21, 77, 24]\n",
    "\n",
    "for _ in x:\n",
    "    print(_ * 10, end = \" \")"
   ]
  },
  {
   "cell_type": "code",
   "execution_count": null,
   "id": "04a70c8e-9d01-4d30-92ca-6dda3b3c91c2",
   "metadata": {},
   "outputs": [],
   "source": []
  },
  {
   "cell_type": "code",
   "execution_count": 244,
   "id": "12b9aad1-eda3-4855-a2db-6b8e9c3ea727",
   "metadata": {},
   "outputs": [
    {
     "name": "stdin",
     "output_type": "stream",
     "text": [
      "구구단을 알려드립니다. 숫자를 입력하세요 4\n"
     ]
    },
    {
     "name": "stdout",
     "output_type": "stream",
     "text": [
      "4 * 1 = 4\n",
      "4 * 2 = 8\n",
      "4 * 3 = 12\n",
      "4 * 4 = 16\n",
      "4 * 5 = 20\n",
      "4 * 6 = 24\n",
      "4 * 7 = 28\n",
      "4 * 8 = 32\n",
      "4 * 9 = 36\n"
     ]
    }
   ],
   "source": [
    "# Q8. 구구단\n",
    "\n",
    "a = int(input(\"구구단을 알려드립니다. 숫자를 입력하세요\"))\n",
    "\n",
    "for i in range(1, 10):\n",
    "    sum += i\n",
    "    print(a, \"*\", i, \"=\", a * i)"
   ]
  },
  {
   "cell_type": "code",
   "execution_count": 246,
   "id": "175735f1-66fa-4310-8ea8-a0e5a1e0e813",
   "metadata": {},
   "outputs": [
    {
     "name": "stdin",
     "output_type": "stream",
     "text": [
      "구구단을 알려드립니다. 숫자를 입력하세요 2\n"
     ]
    },
    {
     "name": "stdout",
     "output_type": "stream",
     "text": [
      "2 * 1 = 2\n",
      "2 * 2 = 4\n",
      "2 * 3 = 6\n",
      "2 * 4 = 8\n",
      "2 * 5 = 10\n",
      "2 * 6 = 12\n",
      "2 * 7 = 14\n",
      "2 * 8 = 16\n",
      "2 * 9 = 18\n"
     ]
    }
   ],
   "source": [
    "# Q8 다른 풀이\n",
    "a = int(input(\"구구단을 알려드립니다. 숫자를 입력하세요\"))\n",
    "\n",
    "for i in range(1, 10):\n",
    "    sum += i\n",
    "    print(f\"{a}\", \"*\", i, \"=\", f\"{a * i}\")"
   ]
  },
  {
   "cell_type": "code",
   "execution_count": null,
   "id": "805150ed-9f0f-4fb9-b101-1ec34410bf10",
   "metadata": {},
   "outputs": [],
   "source": []
  },
  {
   "cell_type": "code",
   "execution_count": 255,
   "id": "60cdad24-685d-4b77-879a-b760470fa8fd",
   "metadata": {},
   "outputs": [
    {
     "name": "stdin",
     "output_type": "stream",
     "text": [
      "자연수를 입력해주세요: 100\n"
     ]
    },
    {
     "name": "stdout",
     "output_type": "stream",
     "text": [
      "5050\n"
     ]
    }
   ],
   "source": [
    "# Q9.\n",
    "a = int(input(\"자연수를 입력해주세요:\"))\n",
    "sum = 0\n",
    "\n",
    "for i in range(1, a + 1):\n",
    "    sum += i\n",
    "print(sum)\n",
    "\n",
    "# 정답!"
   ]
  },
  {
   "cell_type": "code",
   "execution_count": null,
   "id": "b6452511-f6a8-4d63-98c9-4d6f4c04aab6",
   "metadata": {},
   "outputs": [],
   "source": []
  },
  {
   "cell_type": "code",
   "execution_count": 272,
   "id": "56409003-30fc-4f79-887d-4bee0fdacfb4",
   "metadata": {},
   "outputs": [
    {
     "name": "stdout",
     "output_type": "stream",
     "text": [
      "*****\n",
      "*****\n",
      "*****\n",
      "*****\n",
      "*****\n"
     ]
    }
   ],
   "source": [
    "# Q10.\n",
    "for i in range(5):\n",
    "    for j in range(5):\n",
    "        print(\"*\", end = \"\")\n",
    "    print()"
   ]
  },
  {
   "cell_type": "code",
   "execution_count": null,
   "id": "bcedd95e-92c9-49e3-9295-6efa676d0f94",
   "metadata": {},
   "outputs": [],
   "source": []
  },
  {
   "cell_type": "code",
   "execution_count": null,
   "id": "9c3710ae-0a98-4098-b497-69a86aabebfb",
   "metadata": {},
   "outputs": [],
   "source": []
  },
  {
   "cell_type": "code",
   "execution_count": 273,
   "id": "b648a323-9067-43fd-9899-f9fbc961b96f",
   "metadata": {},
   "outputs": [],
   "source": [
    "##### While 반복문"
   ]
  },
  {
   "cell_type": "code",
   "execution_count": 274,
   "id": "2988b60b-4350-467a-826f-320678d88f4a",
   "metadata": {
    "scrolled": true,
    "tags": []
   },
   "outputs": [
    {
     "name": "stdout",
     "output_type": "stream",
     "text": [
      "hello world!\n",
      "hello world!\n",
      "hello world!\n",
      "hello world!\n",
      "hello world!\n",
      "hello world!\n",
      "hello world!\n",
      "hello world!\n",
      "hello world!\n",
      "hello world!\n",
      "hello world!\n",
      "hello world!\n",
      "hello world!\n",
      "hello world!\n",
      "hello world!\n",
      "hello world!\n",
      "hello world!\n",
      "hello world!\n",
      "hello world!\n",
      "hello world!\n",
      "hello world!\n",
      "hello world!\n",
      "hello world!\n",
      "hello world!\n",
      "hello world!\n",
      "hello world!\n",
      "hello world!\n",
      "hello world!\n",
      "hello world!\n",
      "hello world!\n",
      "hello world!\n",
      "hello world!\n",
      "hello world!\n",
      "hello world!\n",
      "hello world!\n",
      "hello world!\n",
      "hello world!\n",
      "hello world!\n",
      "hello world!\n",
      "hello world!\n",
      "hello world!\n",
      "hello world!\n",
      "hello world!\n",
      "hello world!\n",
      "hello world!\n",
      "hello world!\n",
      "hello world!\n",
      "hello world!\n",
      "hello world!\n",
      "hello world!\n",
      "hello world!\n",
      "hello world!\n",
      "hello world!\n",
      "hello world!\n",
      "hello world!\n",
      "hello world!\n",
      "hello world!\n",
      "hello world!\n",
      "hello world!\n",
      "hello world!\n",
      "hello world!\n",
      "hello world!\n",
      "hello world!\n",
      "hello world!\n",
      "hello world!\n",
      "hello world!\n",
      "hello world!\n",
      "hello world!\n",
      "hello world!\n",
      "hello world!\n",
      "hello world!\n",
      "hello world!\n",
      "hello world!\n",
      "hello world!\n",
      "hello world!\n",
      "hello world!\n",
      "hello world!\n",
      "hello world!\n",
      "hello world!\n",
      "hello world!\n",
      "hello world!\n",
      "hello world!\n",
      "hello world!\n",
      "hello world!\n",
      "hello world!\n",
      "hello world!\n",
      "hello world!\n",
      "hello world!\n",
      "hello world!\n",
      "hello world!\n",
      "hello world!\n",
      "hello world!\n",
      "hello world!\n",
      "hello world!\n",
      "hello world!\n",
      "hello world!\n",
      "hello world!\n",
      "hello world!\n",
      "hello world!\n",
      "hello world!\n"
     ]
    }
   ],
   "source": [
    "i = 0  # 초기값\n",
    "while i < 100:  # 조건식\n",
    "    print(\"hello world!\")\n",
    "    i += 1  # 증감식\n",
    "\n",
    "# if문과 구조가 유사함\n",
    "# 초기값, 조건식, 증감식의 3박자가 매우 중요함!!"
   ]
  },
  {
   "cell_type": "code",
   "execution_count": 275,
   "id": "61a954ee-36b0-4977-90e1-ea30f8e64227",
   "metadata": {},
   "outputs": [
    {
     "name": "stdin",
     "output_type": "stream",
     "text": [
      "반복할 횟수를 입력하세요:  5\n"
     ]
    },
    {
     "name": "stdout",
     "output_type": "stream",
     "text": [
      "Hello world 5\n",
      "Hello world 4\n",
      "Hello world 3\n",
      "Hello world 2\n",
      "Hello world 1\n"
     ]
    }
   ],
   "source": [
    "count = int(input(\"반복할 횟수를 입력하세요: \"))\n",
    "\n",
    "while count > 0:\n",
    "    print(\"Hello world\", count)\n",
    "    count -= 1"
   ]
  },
  {
   "cell_type": "code",
   "execution_count": null,
   "id": "702348a9-656c-463d-bdb9-c7baf9e6d0ff",
   "metadata": {},
   "outputs": [],
   "source": []
  },
  {
   "cell_type": "code",
   "execution_count": 8,
   "id": "7529ae1c-7b60-456c-a66b-554b00f4f762",
   "metadata": {},
   "outputs": [
    {
     "name": "stdout",
     "output_type": "stream",
     "text": [
      "2\t4\t6\t8\t10\t12\t14\t16\t18\t20\t22\t24\t26\t28\t30\t32\t34\t36\t38\t40\t42\t44\t46\t48\t50\t52\t54\t56\t58\t60\t62\t64\t66\t68\t70\t72\t74\t76\t78\t80\t82\t84\t86\t88\t90\t92\t94\t96\t98\t100\t"
     ]
    }
   ],
   "source": [
    "# Q1.\n",
    "i = 1\n",
    "\n",
    "while i <= 100:\n",
    "    if i % 2 == 0:\n",
    "        print(i, end = \"\\t\")\n",
    "    i += 1"
   ]
  },
  {
   "cell_type": "code",
   "execution_count": 13,
   "id": "756b51c1-24b4-4495-b762-49a7f366bb17",
   "metadata": {},
   "outputs": [
    {
     "name": "stdout",
     "output_type": "stream",
     "text": [
      "2\t4\t6\t8\t10\t12\t14\t16\t18\t20\t22\t24\t26\t28\t30\t32\t34\t36\t38\t40\t42\t44\t46\t48\t50\t52\t54\t56\t58\t60\t62\t64\t66\t68\t70\t72\t74\t76\t78\t80\t82\t84\t86\t88\t90\t92\t94\t96\t98\t100\t"
     ]
    }
   ],
   "source": [
    "# Q1 다른 풀이\n",
    "i = 1\n",
    "\n",
    "while i <= 50:\n",
    "    print(i * 2, end = \"\\t\")\n",
    "    i += 1"
   ]
  },
  {
   "cell_type": "code",
   "execution_count": 15,
   "id": "83a886e7-9443-46b1-b137-7d0b985ac4fc",
   "metadata": {},
   "outputs": [
    {
     "name": "stdout",
     "output_type": "stream",
     "text": [
      "1\t3\t5\t7\t9\t11\t13\t15\t17\t19\t21\t23\t25\t27\t29\t31\t33\t35\t37\t39\t41\t43\t45\t47\t49\t51\t53\t55\t57\t59\t61\t63\t65\t67\t69\t71\t73\t75\t77\t79\t81\t83\t85\t87\t89\t91\t93\t95\t97\t99\t"
     ]
    }
   ],
   "source": [
    "# 홀수 출력하기\n",
    "i = 1\n",
    "\n",
    "while i <= 100:\n",
    "    print(i, end = \"\\t\")\n",
    "    i += 2"
   ]
  },
  {
   "cell_type": "code",
   "execution_count": null,
   "id": "3f74fab6-32ec-4f6d-8f65-4ad4a598ced4",
   "metadata": {},
   "outputs": [],
   "source": []
  },
  {
   "cell_type": "code",
   "execution_count": 25,
   "id": "e0098984-776a-47cc-90a6-d50bb52fbec6",
   "metadata": {},
   "outputs": [
    {
     "name": "stdin",
     "output_type": "stream",
     "text": [
      "구구단을 알려드립니다. 숫자를 입력하세요 9\n"
     ]
    },
    {
     "name": "stdout",
     "output_type": "stream",
     "text": [
      "9 * 1 = 9\n",
      "9 * 2 = 18\n",
      "9 * 3 = 27\n",
      "9 * 4 = 36\n",
      "9 * 5 = 45\n",
      "9 * 6 = 54\n",
      "9 * 7 = 63\n",
      "9 * 8 = 72\n",
      "9 * 9 = 81\n"
     ]
    }
   ],
   "source": [
    "# Q2.\n",
    "a = int(input(\"구구단을 알려드립니다. 숫자를 입력하세요\"))\n",
    "i = 1\n",
    "\n",
    "while i <= 9:\n",
    "    print(a, \"*\", i, \"=\", a * i)\n",
    "    i += 1"
   ]
  },
  {
   "cell_type": "code",
   "execution_count": 26,
   "id": "8bac3256-f710-4203-abed-5113bb486c08",
   "metadata": {},
   "outputs": [
    {
     "name": "stdin",
     "output_type": "stream",
     "text": [
      "구구단을 알려드립니다. 숫자를 입력하세요 4\n"
     ]
    },
    {
     "name": "stdout",
     "output_type": "stream",
     "text": [
      "4 * 1 = 4\n",
      "4 * 2 = 8\n",
      "4 * 3 = 12\n",
      "4 * 4 = 16\n",
      "4 * 5 = 20\n",
      "4 * 6 = 24\n",
      "4 * 7 = 28\n",
      "4 * 8 = 32\n",
      "4 * 9 = 36\n"
     ]
    }
   ],
   "source": [
    "# Q2 - 포맷 사용\n",
    "a = int(input(\"구구단을 알려드립니다. 숫자를 입력하세요\"))\n",
    "i = 1\n",
    "\n",
    "while i <= 9:\n",
    "    print(f\"{a}\", \"*\", f\"{i}\", \"=\", f\"{a * i}\")\n",
    "    i += 1"
   ]
  },
  {
   "cell_type": "code",
   "execution_count": null,
   "id": "9e521b47-d171-4b38-b5eb-070ad6d2f441",
   "metadata": {},
   "outputs": [],
   "source": []
  },
  {
   "cell_type": "code",
   "execution_count": null,
   "id": "369a7618-4f29-43a5-94cc-789d46b6d7af",
   "metadata": {},
   "outputs": [],
   "source": []
  },
  {
   "cell_type": "code",
   "execution_count": 29,
   "id": "0b46d2f9-7f86-4ff0-9bc5-916021734259",
   "metadata": {},
   "outputs": [],
   "source": [
    "##### 시퀀스 객체의 인덱스 루프 테크닉"
   ]
  },
  {
   "cell_type": "code",
   "execution_count": null,
   "id": "fe7245cb-0241-4ff1-845c-cd911bf09249",
   "metadata": {},
   "outputs": [],
   "source": [
    "# for문"
   ]
  },
  {
   "cell_type": "code",
   "execution_count": 28,
   "id": "63af1361-3bef-45cf-abd5-e42724350aa8",
   "metadata": {},
   "outputs": [
    {
     "name": "stdout",
     "output_type": "stream",
     "text": [
      "97\n",
      "100\n",
      "77\n"
     ]
    }
   ],
   "source": [
    "scores = (97, 100, 77)\n",
    "for _ in range(len(scores)):\n",
    "    print(scores[_])"
   ]
  },
  {
   "cell_type": "code",
   "execution_count": null,
   "id": "77050201-e3a2-4bbe-b375-0a044ccad745",
   "metadata": {},
   "outputs": [],
   "source": []
  },
  {
   "cell_type": "code",
   "execution_count": 30,
   "id": "173e0024-cb45-4cc2-9d7e-2d4fdf60d172",
   "metadata": {},
   "outputs": [],
   "source": [
    "# while문"
   ]
  },
  {
   "cell_type": "code",
   "execution_count": 31,
   "id": "7f0c4cbe-30bf-4665-b9c0-63a6ed9c9507",
   "metadata": {},
   "outputs": [
    {
     "name": "stdout",
     "output_type": "stream",
     "text": [
      "97\n",
      "100\n",
      "77\n"
     ]
    }
   ],
   "source": [
    "scoreds = (97, 100, 77)\n",
    "i = 0  # 인덱스 범위\n",
    "while i < len(scores):\n",
    "    print(scores[i])\n",
    "    i += 1\n",
    "\n",
    "# while문에 인덱스를 통해서 접근하고 값 출력"
   ]
  },
  {
   "cell_type": "code",
   "execution_count": 32,
   "id": "b29a5d7a-e95c-44da-a684-adbbc4a53bc6",
   "metadata": {},
   "outputs": [
    {
     "name": "stdout",
     "output_type": "stream",
     "text": [
      "4\n",
      "87\n",
      "22\n",
      "31\n",
      "98\n"
     ]
    }
   ],
   "source": [
    "# ex)\n",
    "a = [87, 22, 31, 98]\n",
    "i = 0  # 인덱스를 순서대로 접근할 수 있도록 제어할 변수  -> 0~3까지 1씩 증가\n",
    "\n",
    "print(len(a))  # 4  -> 인덱스의 최댓값보다 1 큼\n",
    "\n",
    "# 인덱싱 할 때는 정확한 범위의 인덱스에 접근해야 함.\n",
    "while i < len(a):\n",
    "    print(a[i])\n",
    "    i += 1"
   ]
  },
  {
   "cell_type": "code",
   "execution_count": null,
   "id": "86c15ab7-cfa9-4b9f-b072-776d7f8d48a8",
   "metadata": {},
   "outputs": [],
   "source": []
  }
 ],
 "metadata": {
  "kernelspec": {
   "display_name": "Python 3 (ipykernel)",
   "language": "python",
   "name": "python3"
  },
  "language_info": {
   "codemirror_mode": {
    "name": "ipython",
    "version": 3
   },
   "file_extension": ".py",
   "mimetype": "text/x-python",
   "name": "python",
   "nbconvert_exporter": "python",
   "pygments_lexer": "ipython3",
   "version": "3.9.13"
  }
 },
 "nbformat": 4,
 "nbformat_minor": 5
}
