{
 "cells": [
  {
   "cell_type": "code",
   "execution_count": 1,
   "id": "806d62cf-1c4c-485e-ac48-402a9e3e15dc",
   "metadata": {},
   "outputs": [],
   "source": [
    "##### NumPy 연습문제"
   ]
  },
  {
   "cell_type": "code",
   "execution_count": 3,
   "id": "efa6ee6d-0783-472f-8314-adb70d4f90ec",
   "metadata": {},
   "outputs": [],
   "source": [
    "import numpy as np"
   ]
  },
  {
   "cell_type": "code",
   "execution_count": 4,
   "id": "e86844e3-8d60-4786-8b74-02adeb4ebb1f",
   "metadata": {},
   "outputs": [
    {
     "data": {
      "text/plain": [
       "array([5, 6, 1, 4, 4, 4, 2, 4, 6, 3, 5, 1, 1, 5, 3, 2, 1, 2, 6, 2, 6, 1,\n",
       "       2, 5, 4, 1, 4, 6, 1, 3, 4, 1, 2, 4, 6, 4, 4, 1, 2, 2, 2, 1, 3, 5,\n",
       "       4, 4, 3, 5, 3, 1, 1, 5, 6, 6, 1, 5, 2, 5, 2, 3, 3, 1, 2, 2, 2, 2,\n",
       "       4, 4, 3, 4, 1, 4, 6, 5, 2, 3, 5, 4, 5, 5, 5, 4, 5, 5, 5, 1, 5, 4,\n",
       "       3, 6, 6, 6, 1, 2, 6, 2, 4, 1, 6, 1])"
      ]
     },
     "execution_count": 4,
     "metadata": {},
     "output_type": "execute_result"
    }
   ],
   "source": [
    "# Q1.\n",
    "np.random.seed(0)\n",
    "dice = np.random.randint(1, 7, size = 100)\n",
    "dice"
   ]
  },
  {
   "cell_type": "code",
   "execution_count": 5,
   "id": "3cabc844-451c-4421-a257-daf7cf0214af",
   "metadata": {},
   "outputs": [
    {
     "data": {
      "text/plain": [
       "3.42"
      ]
     },
     "execution_count": 5,
     "metadata": {},
     "output_type": "execute_result"
    }
   ],
   "source": [
    "dice.mean()"
   ]
  },
  {
   "cell_type": "code",
   "execution_count": null,
   "id": "599ac28f-213f-480e-a1b8-2d6f64b5e5e9",
   "metadata": {},
   "outputs": [],
   "source": []
  },
  {
   "cell_type": "code",
   "execution_count": 6,
   "id": "c49b10d7-756b-4cd8-bb52-6a884a71443e",
   "metadata": {},
   "outputs": [
    {
     "data": {
      "text/plain": [
       "array([[ 8, 10, 12],\n",
       "       [14, 16, 18]])"
      ]
     },
     "execution_count": 6,
     "metadata": {},
     "output_type": "execute_result"
    }
   ],
   "source": [
    "# Q2.\n",
    "a = np.array([[1, 2, 3], [4, 5, 6]])\n",
    "b = np.array([[7, 8, 9], [10, 11, 12]])\n",
    "\n",
    "a + b"
   ]
  },
  {
   "cell_type": "code",
   "execution_count": 8,
   "id": "dd73c962-8495-4f01-bf32-465cfbe3948f",
   "metadata": {},
   "outputs": [
    {
     "data": {
      "text/plain": [
       "array([[ 8, 10, 12],\n",
       "       [14, 16, 18]])"
      ]
     },
     "execution_count": 8,
     "metadata": {},
     "output_type": "execute_result"
    }
   ],
   "source": [
    "# Q2 다른 풀이\n",
    "a = np.arange(1, 7).reshape(2, 3)\n",
    "b = np.arange(7, 13).reshape(2, 3)\n",
    "\n",
    "a + b"
   ]
  },
  {
   "cell_type": "code",
   "execution_count": null,
   "id": "43953b0f-8cf7-42b5-82e6-77f14099b1be",
   "metadata": {},
   "outputs": [],
   "source": []
  },
  {
   "cell_type": "code",
   "execution_count": 10,
   "id": "6def0aff-8ac0-4ea7-8b23-5ecd69733b4d",
   "metadata": {},
   "outputs": [
    {
     "data": {
      "text/plain": [
       "array([ 3,  6,  9, 12, 15, 18, 21, 24, 27])"
      ]
     },
     "execution_count": 10,
     "metadata": {},
     "output_type": "execute_result"
    }
   ],
   "source": [
    "# Q3.\n",
    "a = np.arange(1, 10)\n",
    "3 * a"
   ]
  },
  {
   "cell_type": "code",
   "execution_count": null,
   "id": "3690325e-f16f-45ac-bcf9-1d9f152d8266",
   "metadata": {},
   "outputs": [],
   "source": []
  },
  {
   "cell_type": "code",
   "execution_count": 15,
   "id": "29293e44-b3cd-4df3-9f15-a82dd16d5732",
   "metadata": {},
   "outputs": [
    {
     "data": {
      "text/plain": [
       "array([0., 0., 0., 0., 1., 0., 0., 0., 0., 0.])"
      ]
     },
     "execution_count": 15,
     "metadata": {},
     "output_type": "execute_result"
    }
   ],
   "source": [
    "# Q4.\n",
    "a = np.zeros(10)\n",
    "a[4] = 1\n",
    "a"
   ]
  },
  {
   "cell_type": "code",
   "execution_count": null,
   "id": "1e6c677f-9035-4ab7-a497-81504c4f9a22",
   "metadata": {},
   "outputs": [],
   "source": []
  },
  {
   "cell_type": "code",
   "execution_count": 21,
   "id": "da4dc130-eda1-4568-8c0e-c991f4953702",
   "metadata": {},
   "outputs": [
    {
     "data": {
      "text/plain": [
       "array([49, 48, 47, 46, 45, 44, 43, 42, 41, 40, 39, 38, 37, 36, 35, 34, 33,\n",
       "       32, 31, 30, 29, 28, 27, 26, 25, 24, 23, 22, 21, 20, 19, 18, 17, 16,\n",
       "       15, 14, 13, 12, 11, 10,  9,  8,  7,  6,  5,  4,  3,  2,  1,  0])"
      ]
     },
     "execution_count": 21,
     "metadata": {},
     "output_type": "execute_result"
    }
   ],
   "source": [
    "# Q5.\n",
    "a = np.arange(50)\n",
    "a = np.arange(49, -1, -1)\n",
    "a"
   ]
  },
  {
   "cell_type": "code",
   "execution_count": 23,
   "id": "8216be93-f484-482e-b565-d65e8a67a793",
   "metadata": {},
   "outputs": [
    {
     "data": {
      "text/plain": [
       "array([49, 48, 47, 46, 45, 44, 43, 42, 41, 40, 39, 38, 37, 36, 35, 34, 33,\n",
       "       32, 31, 30, 29, 28, 27, 26, 25, 24, 23, 22, 21, 20, 19, 18, 17, 16,\n",
       "       15, 14, 13, 12, 11, 10,  9,  8,  7,  6,  5,  4,  3,  2,  1,  0])"
      ]
     },
     "execution_count": 23,
     "metadata": {},
     "output_type": "execute_result"
    }
   ],
   "source": [
    "# Q5 다른 풀이\n",
    "z = np.arange(50)\n",
    "z[::-1]"
   ]
  },
  {
   "cell_type": "code",
   "execution_count": null,
   "id": "06ad4e04-d88b-4276-aeeb-cce04f21b888",
   "metadata": {},
   "outputs": [],
   "source": []
  },
  {
   "cell_type": "code",
   "execution_count": 28,
   "id": "e9663479-254b-42d5-a292-46bf61263353",
   "metadata": {},
   "outputs": [
    {
     "data": {
      "text/plain": [
       "array([[['', '', ''],\n",
       "        ['', '', ''],\n",
       "        ['', '', '']],\n",
       "\n",
       "       [['', '', ''],\n",
       "        ['', '', ''],\n",
       "        ['', '', '']],\n",
       "\n",
       "       [['', '', ''],\n",
       "        ['', '', ''],\n",
       "        ['', '', '']]], dtype='<U10')"
      ]
     },
     "execution_count": 28,
     "metadata": {},
     "output_type": "execute_result"
    }
   ],
   "source": [
    "# Q6.\n",
    "np.zeros((3, 3, 3), dtype = \"U10\")"
   ]
  },
  {
   "cell_type": "code",
   "execution_count": 30,
   "id": "f369eb5f-f5bc-465b-8201-b5854d26f3d0",
   "metadata": {},
   "outputs": [
    {
     "data": {
      "text/plain": [
       "array([[['', '', ''],\n",
       "        ['', '', ''],\n",
       "        ['', '', '']],\n",
       "\n",
       "       [['', '', ''],\n",
       "        ['', '', ''],\n",
       "        ['', '', '']],\n",
       "\n",
       "       [['', '', ''],\n",
       "        ['', '', ''],\n",
       "        ['', '', '']]], dtype='<U10')"
      ]
     },
     "execution_count": 30,
     "metadata": {},
     "output_type": "execute_result"
    }
   ],
   "source": [
    "# 다른 풀이\n",
    "a = np.array(['' for _ in range(27)], dtype = \"<U10\")\n",
    "a.reshape(3, 3, 3)"
   ]
  },
  {
   "cell_type": "code",
   "execution_count": 32,
   "id": "6ba7d556-409d-48e5-a180-ca414f3ea862",
   "metadata": {},
   "outputs": [
    {
     "data": {
      "text/plain": [
       "array([[['', '', ''],\n",
       "        ['', '', ''],\n",
       "        ['', '', '']],\n",
       "\n",
       "       [['', '', ''],\n",
       "        ['', '', ''],\n",
       "        ['', '', '']],\n",
       "\n",
       "       [['', '', ''],\n",
       "        ['', '', ''],\n",
       "        ['', '', '']]], dtype='<U10')"
      ]
     },
     "execution_count": 32,
     "metadata": {},
     "output_type": "execute_result"
    }
   ],
   "source": [
    "# 다른 풀이 2\n",
    "array4 = np.array([[['', '', '']]*3]*3, dtype = \"<U10\")\n",
    "array4"
   ]
  },
  {
   "cell_type": "code",
   "execution_count": null,
   "id": "0bf5f646-16e8-4a08-8672-d22943b03eeb",
   "metadata": {},
   "outputs": [],
   "source": []
  },
  {
   "cell_type": "code",
   "execution_count": null,
   "id": "d805db8a-cdb9-4cf2-98cf-9f2330619be6",
   "metadata": {},
   "outputs": [],
   "source": []
  },
  {
   "cell_type": "code",
   "execution_count": 33,
   "id": "41296c95-0307-431f-92f5-d7736640420b",
   "metadata": {},
   "outputs": [],
   "source": [
    "##### np.full()"
   ]
  },
  {
   "cell_type": "code",
   "execution_count": null,
   "id": "d7e03cac-5206-495c-9f6d-a269ef992195",
   "metadata": {},
   "outputs": [],
   "source": [
    "# np.full((행-열 프레임), '넣을 문자', dtype)"
   ]
  },
  {
   "cell_type": "code",
   "execution_count": 35,
   "id": "9c4616b8-f624-4c36-bad4-144034423187",
   "metadata": {},
   "outputs": [
    {
     "data": {
      "text/plain": [
       "array([[['집에 갈래', '집에 갈래', '집에 갈래'],\n",
       "        ['집에 갈래', '집에 갈래', '집에 갈래'],\n",
       "        ['집에 갈래', '집에 갈래', '집에 갈래']],\n",
       "\n",
       "       [['집에 갈래', '집에 갈래', '집에 갈래'],\n",
       "        ['집에 갈래', '집에 갈래', '집에 갈래'],\n",
       "        ['집에 갈래', '집에 갈래', '집에 갈래']],\n",
       "\n",
       "       [['집에 갈래', '집에 갈래', '집에 갈래'],\n",
       "        ['집에 갈래', '집에 갈래', '집에 갈래'],\n",
       "        ['집에 갈래', '집에 갈래', '집에 갈래']]], dtype='<U10')"
      ]
     },
     "execution_count": 35,
     "metadata": {},
     "output_type": "execute_result"
    }
   ],
   "source": [
    "np.full((3, 3, 3), '집에 갈래', dtype = \"U10\")"
   ]
  },
  {
   "cell_type": "code",
   "execution_count": null,
   "id": "44ef72e1-01aa-4f17-924e-8676ae953143",
   "metadata": {},
   "outputs": [],
   "source": []
  },
  {
   "cell_type": "code",
   "execution_count": 36,
   "id": "7d48d9d0-fbb6-4c4d-8acd-9c0b49c97267",
   "metadata": {},
   "outputs": [
    {
     "data": {
      "text/plain": [
       "array([[['playdata', 'playdata', 'playdata'],\n",
       "        ['playdata', 'playdata', 'playdata'],\n",
       "        ['playdata', 'playdata', 'playdata']],\n",
       "\n",
       "       [['playdata', 'playdata', 'playdata'],\n",
       "        ['playdata', 'playdata', 'playdata'],\n",
       "        ['playdata', 'playdata', 'playdata']],\n",
       "\n",
       "       [['playdata', 'playdata', 'playdata'],\n",
       "        ['playdata', 'playdata', 'playdata'],\n",
       "        ['playdata', 'playdata', 'playdata']]], dtype='<U8')"
      ]
     },
     "execution_count": 36,
     "metadata": {},
     "output_type": "execute_result"
    }
   ],
   "source": [
    "# Q7.\n",
    "np.full((3, 3, 3), \"playdata\", dtype = \"<U8\")"
   ]
  },
  {
   "cell_type": "code",
   "execution_count": null,
   "id": "c4f6a417-1b06-41a2-aaec-6d6736b4dc90",
   "metadata": {},
   "outputs": [],
   "source": []
  },
  {
   "cell_type": "code",
   "execution_count": 40,
   "id": "d76c0040-d1b9-4b48-86d6-1c64e9ebd87d",
   "metadata": {},
   "outputs": [
    {
     "data": {
      "text/plain": [
       "array([[[ 2,  4,  6,  8, 10],\n",
       "        [12, 14, 16, 18, 20]],\n",
       "\n",
       "       [[22, 24, 26, 28, 30],\n",
       "        [32, 34, 36, 38, 40]]])"
      ]
     },
     "execution_count": 40,
     "metadata": {},
     "output_type": "execute_result"
    }
   ],
   "source": [
    "# Q8.\n",
    "np.arange(2, 41, 2).reshape(2, 2, 5)"
   ]
  },
  {
   "cell_type": "code",
   "execution_count": 41,
   "id": "415a6dca-bbae-480b-ad6a-a5f78ebde071",
   "metadata": {},
   "outputs": [
    {
     "data": {
      "text/plain": [
       "array([[[ 2,  4,  6,  8, 10],\n",
       "        [12, 14, 16, 18, 20]],\n",
       "\n",
       "       [[22, 24, 26, 28, 30],\n",
       "        [32, 34, 36, 38, 40]]])"
      ]
     },
     "execution_count": 41,
     "metadata": {},
     "output_type": "execute_result"
    }
   ],
   "source": [
    "# Q8 다른 풀이\n",
    "a = np.array([_ for _ in range(2, 41, 2)])\n",
    "a.reshape(2, 2, 5)"
   ]
  },
  {
   "cell_type": "code",
   "execution_count": null,
   "id": "b73576a8-ef0f-45f6-a00c-902fc763572f",
   "metadata": {},
   "outputs": [],
   "source": []
  },
  {
   "cell_type": "code",
   "execution_count": null,
   "id": "9fa99b21-5fa0-452f-8292-0da4b61f685d",
   "metadata": {},
   "outputs": [],
   "source": []
  },
  {
   "cell_type": "code",
   "execution_count": 42,
   "id": "03ca37bb-74cb-400d-a04b-38d0ab796dfd",
   "metadata": {},
   "outputs": [],
   "source": [
    "##### 단위 행렬 만들기"
   ]
  },
  {
   "cell_type": "code",
   "execution_count": 43,
   "id": "e1e90a5b-b7b4-48c6-ad03-93d832dec2d3",
   "metadata": {},
   "outputs": [],
   "source": [
    "# np.eye() 사용"
   ]
  },
  {
   "cell_type": "code",
   "execution_count": 44,
   "id": "aef2aa43-1254-41ef-b05d-1267bf028c77",
   "metadata": {},
   "outputs": [
    {
     "data": {
      "text/plain": [
       "array([[1., 0., 0., 0.],\n",
       "       [0., 1., 0., 0.],\n",
       "       [0., 0., 1., 0.],\n",
       "       [0., 0., 0., 1.]])"
      ]
     },
     "execution_count": 44,
     "metadata": {},
     "output_type": "execute_result"
    }
   ],
   "source": [
    "# Q9.\n",
    "np.eye(4)"
   ]
  },
  {
   "cell_type": "code",
   "execution_count": 45,
   "id": "40947290-20ec-4d5d-837b-289ad837b67f",
   "metadata": {},
   "outputs": [
    {
     "data": {
      "text/plain": [
       "array([[1, 0, 0, 0],\n",
       "       [0, 1, 0, 0],\n",
       "       [0, 0, 1, 0],\n",
       "       [0, 0, 0, 1]], dtype=int32)"
      ]
     },
     "execution_count": 45,
     "metadata": {},
     "output_type": "execute_result"
    }
   ],
   "source": [
    "# Q9 풀이\n",
    "np.eye(4, dtype = \"i\")"
   ]
  },
  {
   "cell_type": "code",
   "execution_count": null,
   "id": "7313db57-5f51-4f2e-aa45-213c1ed5a8ee",
   "metadata": {},
   "outputs": [],
   "source": []
  },
  {
   "cell_type": "code",
   "execution_count": null,
   "id": "35a095b9-ddad-44bd-80ca-5647e07cfda9",
   "metadata": {},
   "outputs": [],
   "source": []
  },
  {
   "cell_type": "code",
   "execution_count": null,
   "id": "23050b13-e338-43ed-b637-e9973c6d53a2",
   "metadata": {},
   "outputs": [],
   "source": [
    "##### 배열 데이터 타입 변경"
   ]
  },
  {
   "cell_type": "code",
   "execution_count": null,
   "id": "430da866-cfa3-4194-8f92-e09b8333525f",
   "metadata": {},
   "outputs": [],
   "source": [
    "# astype() 사용"
   ]
  },
  {
   "cell_type": "code",
   "execution_count": 46,
   "id": "89b81750-20fb-4973-91d8-b20458dad6e3",
   "metadata": {},
   "outputs": [
    {
     "data": {
      "text/plain": [
       "array([[[1., 1.],\n",
       "        [1., 1.],\n",
       "        [1., 1.]],\n",
       "\n",
       "       [[1., 1.],\n",
       "        [1., 1.],\n",
       "        [1., 1.]]])"
      ]
     },
     "execution_count": 46,
     "metadata": {},
     "output_type": "execute_result"
    }
   ],
   "source": [
    "a = np.ones((2, 3, 2))\n",
    "a"
   ]
  },
  {
   "cell_type": "code",
   "execution_count": 47,
   "id": "adb271cf-bfa8-4cf8-bb9c-fff585afb99e",
   "metadata": {},
   "outputs": [
    {
     "data": {
      "text/plain": [
       "array([[[1, 1],\n",
       "        [1, 1],\n",
       "        [1, 1]],\n",
       "\n",
       "       [[1, 1],\n",
       "        [1, 1],\n",
       "        [1, 1]]], dtype=int32)"
      ]
     },
     "execution_count": 47,
     "metadata": {},
     "output_type": "execute_result"
    }
   ],
   "source": [
    "a.astype(\"i\")"
   ]
  },
  {
   "cell_type": "code",
   "execution_count": null,
   "id": "693b1db9-c8a6-41c8-aa7e-cac5d0528029",
   "metadata": {},
   "outputs": [],
   "source": []
  },
  {
   "cell_type": "code",
   "execution_count": 61,
   "id": "3013360b-6960-4589-b736-3c4beb7060a8",
   "metadata": {},
   "outputs": [
    {
     "data": {
      "text/plain": [
       "array([[False,  True,  True],\n",
       "       [False,  True,  True],\n",
       "       [ True,  True,  True]])"
      ]
     },
     "execution_count": 61,
     "metadata": {},
     "output_type": "execute_result"
    }
   ],
   "source": [
    "# Q10.\n",
    "np.random.seed(0)\n",
    "\n",
    "a = np.random.randint(0, 2, 9)\n",
    "a.astype(\"bool\").reshape(3, 3)"
   ]
  },
  {
   "cell_type": "code",
   "execution_count": 62,
   "id": "2965e5fd-7469-48c4-9356-0ba5e4331366",
   "metadata": {},
   "outputs": [
    {
     "data": {
      "text/plain": [
       "array([[False,  True,  True],\n",
       "       [False,  True,  True],\n",
       "       [ True,  True,  True]])"
      ]
     },
     "execution_count": 62,
     "metadata": {},
     "output_type": "execute_result"
    }
   ],
   "source": [
    "# Q10 다른 풀이\n",
    "np.random.seed(0)\n",
    "\n",
    "a = np.random.randint(0, 2, size = 9)\n",
    "a.astype(\"?\").reshape(3, 3)"
   ]
  },
  {
   "cell_type": "code",
   "execution_count": null,
   "id": "07cde97b-23d5-4831-b736-bf211ae8e2a0",
   "metadata": {},
   "outputs": [],
   "source": []
  },
  {
   "cell_type": "code",
   "execution_count": 68,
   "id": "cc4252e2-7210-4a04-81d9-60035e1a362a",
   "metadata": {},
   "outputs": [
    {
     "data": {
      "text/plain": [
       "array([5, 7, 6, 5, 4, 6, 4, 8, 9, 3], dtype=int32)"
      ]
     },
     "execution_count": 68,
     "metadata": {},
     "output_type": "execute_result"
    }
   ],
   "source": [
    "# Q11.\n",
    "np.random.seed(0)\n",
    "\n",
    "a = np.random.rand(10)\n",
    "a = a * 10\n",
    "a.astype(\"i\")"
   ]
  },
  {
   "cell_type": "code",
   "execution_count": null,
   "id": "d8ab8715-32cd-43c1-b761-0473631d1f40",
   "metadata": {},
   "outputs": [],
   "source": []
  },
  {
   "cell_type": "code",
   "execution_count": null,
   "id": "b7ee4fff-2a84-4479-9711-91c93dfbdbd9",
   "metadata": {},
   "outputs": [],
   "source": [
    "# Q11 풀이"
   ]
  },
  {
   "cell_type": "code",
   "execution_count": null,
   "id": "fd2a30ba-daae-49e4-be8f-c1bae247a12d",
   "metadata": {},
   "outputs": [],
   "source": []
  },
  {
   "cell_type": "code",
   "execution_count": 82,
   "id": "4a8b45ae-1b17-4cb2-9925-9024be33f693",
   "metadata": {},
   "outputs": [
    {
     "data": {
      "text/plain": [
       "array([[1., 1., 1., 1., 1., 1., 1., 1., 1., 1.],\n",
       "       [1., 0., 0., 0., 0., 0., 0., 0., 0., 1.],\n",
       "       [1., 0., 0., 0., 0., 0., 0., 0., 0., 1.],\n",
       "       [1., 0., 0., 0., 0., 0., 0., 0., 0., 1.],\n",
       "       [1., 0., 0., 0., 0., 0., 0., 0., 0., 1.],\n",
       "       [1., 0., 0., 0., 0., 0., 0., 0., 0., 1.],\n",
       "       [1., 0., 0., 0., 0., 0., 0., 0., 0., 1.],\n",
       "       [1., 0., 0., 0., 0., 0., 0., 0., 0., 1.],\n",
       "       [1., 0., 0., 0., 0., 0., 0., 0., 0., 1.],\n",
       "       [1., 1., 1., 1., 1., 1., 1., 1., 1., 1.]])"
      ]
     },
     "execution_count": 82,
     "metadata": {},
     "output_type": "execute_result"
    }
   ],
   "source": [
    "# Q12. (?)\n",
    "a = np.ones((10, 10))\n",
    "a[1:-1, 1:-1] = 0\n",
    "a"
   ]
  },
  {
   "cell_type": "code",
   "execution_count": null,
   "id": "c54222ed-de1e-4e52-83b6-1c22f2b8212c",
   "metadata": {},
   "outputs": [],
   "source": []
  },
  {
   "cell_type": "code",
   "execution_count": 111,
   "id": "085dbb10-7b2f-42a2-87b6-6709f74362ef",
   "metadata": {},
   "outputs": [
    {
     "name": "stdout",
     "output_type": "stream",
     "text": [
      "[[0. 0. 0. 0. 0. 0. 0. 0. 0. 0.]\n",
      " [0. 1. 1. 1. 1. 1. 1. 1. 1. 0.]\n",
      " [0. 1. 1. 1. 1. 1. 1. 1. 1. 0.]\n",
      " [0. 1. 1. 1. 1. 1. 1. 1. 1. 0.]\n",
      " [0. 1. 1. 1. 1. 1. 1. 1. 1. 0.]\n",
      " [0. 1. 1. 1. 1. 1. 1. 1. 1. 0.]\n",
      " [0. 1. 1. 1. 1. 1. 1. 1. 1. 0.]\n",
      " [0. 1. 1. 1. 1. 1. 1. 1. 1. 0.]\n",
      " [0. 1. 1. 1. 1. 1. 1. 1. 1. 0.]\n",
      " [0. 0. 0. 0. 0. 0. 0. 0. 0. 0.]]\n"
     ]
    }
   ],
   "source": [
    "# Q13.\n",
    "a = np.ones((10, 10))\n",
    "a[0] = 0\n",
    "a[9] = 0\n",
    "\n",
    "for i in range(1, 9):\n",
    "    a[i][0] = 0\n",
    "    a[i][9] = 0\n",
    "\n",
    "print(a)"
   ]
  },
  {
   "cell_type": "code",
   "execution_count": 112,
   "id": "c8fab90e-cf37-4741-8c6f-aaf6e579088f",
   "metadata": {},
   "outputs": [
    {
     "name": "stdout",
     "output_type": "stream",
     "text": [
      "[[0. 0. 0. 0. 0. 0. 0. 0. 0. 0.]\n",
      " [0. 1. 1. 1. 1. 1. 1. 1. 1. 0.]\n",
      " [0. 1. 1. 1. 1. 1. 1. 1. 1. 0.]\n",
      " [0. 1. 1. 1. 1. 1. 1. 1. 1. 0.]\n",
      " [0. 1. 1. 1. 1. 1. 1. 1. 1. 0.]\n",
      " [0. 1. 1. 1. 1. 1. 1. 1. 1. 0.]\n",
      " [0. 1. 1. 1. 1. 1. 1. 1. 1. 0.]\n",
      " [0. 1. 1. 1. 1. 1. 1. 1. 1. 0.]\n",
      " [0. 1. 1. 1. 1. 1. 1. 1. 1. 0.]\n",
      " [0. 0. 0. 0. 0. 0. 0. 0. 0. 0.]]\n"
     ]
    }
   ],
   "source": [
    "# Q13 다른 풀이\n",
    "z = np.ones((10, 10))\n",
    "z[:, [0, -1]] = 0\n",
    "z[[0, -1], :] = 0\n",
    "print(z)"
   ]
  },
  {
   "cell_type": "code",
   "execution_count": null,
   "id": "999d3229-6579-4990-a20e-1ed449c24296",
   "metadata": {},
   "outputs": [],
   "source": []
  },
  {
   "cell_type": "code",
   "execution_count": 138,
   "id": "e34f857f-7629-4a72-9c09-a413ce324710",
   "metadata": {},
   "outputs": [],
   "source": [
    "# Q14. (?)\n",
    "k = np.ones((8, 8))"
   ]
  },
  {
   "cell_type": "code",
   "execution_count": 134,
   "id": "d4220bfc-154c-4089-ab8c-b143e6140135",
   "metadata": {},
   "outputs": [
    {
     "name": "stdout",
     "output_type": "stream",
     "text": [
      "[[1 0 1 0 1 0 1 0]\n",
      " [0 1 0 1 0 1 0 1]\n",
      " [1 0 1 0 1 0 1 0]\n",
      " [0 1 0 1 0 1 0 1]\n",
      " [1 0 1 0 1 0 1 0]\n",
      " [0 1 0 1 0 1 0 1]\n",
      " [1 0 1 0 1 0 1 0]\n",
      " [0 1 0 1 0 1 0 1]]\n"
     ]
    }
   ],
   "source": [
    "# Q14 풀이\n",
    "z = np.ones((8, 8), dtype = int)\n",
    "z[1::2, ::2] = 0\n",
    "z[::2, 1::2] = 0\n",
    "print(z)"
   ]
  },
  {
   "cell_type": "code",
   "execution_count": 137,
   "id": "3e906862-d120-4bf3-8f0a-7aa016f959c5",
   "metadata": {},
   "outputs": [
    {
     "data": {
      "text/plain": [
       "array([[1, 0, 1, 0, 1, 0, 1, 0],\n",
       "       [0, 1, 0, 1, 0, 1, 0, 1],\n",
       "       [1, 0, 1, 0, 1, 0, 1, 0],\n",
       "       [0, 1, 0, 1, 0, 1, 0, 1],\n",
       "       [1, 0, 1, 0, 1, 0, 1, 0],\n",
       "       [0, 1, 0, 1, 0, 1, 0, 1],\n",
       "       [1, 0, 1, 0, 1, 0, 1, 0],\n",
       "       [0, 1, 0, 1, 0, 1, 0, 1]], dtype=int32)"
      ]
     },
     "execution_count": 137,
     "metadata": {},
     "output_type": "execute_result"
    }
   ],
   "source": [
    "# Q14 다른 풀이\n",
    "a = np.ones((8,8)).astype('i')\n",
    "for i in range(8):\n",
    "    if i % 2 == 0:\n",
    "        a[i, 1::2] = 0\n",
    "    else:\n",
    "        a[i, ::2] = 0\n",
    "a"
   ]
  },
  {
   "cell_type": "code",
   "execution_count": null,
   "id": "b58f3373-8b79-4047-842a-7e0e81e5255a",
   "metadata": {},
   "outputs": [],
   "source": []
  },
  {
   "cell_type": "code",
   "execution_count": 157,
   "id": "33a9ea59-1130-4ede-8f86-ff37b69bdcce",
   "metadata": {},
   "outputs": [
    {
     "data": {
      "text/plain": [
       "array([[1., 0., 1., 0., 1., 0., 1., 0.],\n",
       "       [0., 1., 0., 1., 0., 1., 0., 1.],\n",
       "       [1., 0., 1., 0., 1., 0., 1., 0.],\n",
       "       [0., 1., 0., 1., 0., 1., 0., 1.],\n",
       "       [1., 0., 1., 0., 1., 0., 1., 0.],\n",
       "       [0., 1., 0., 1., 0., 1., 0., 1.],\n",
       "       [1., 0., 1., 0., 1., 0., 1., 0.],\n",
       "       [0., 1., 0., 1., 0., 1., 0., 1.]])"
      ]
     },
     "execution_count": 157,
     "metadata": {},
     "output_type": "execute_result"
    }
   ],
   "source": [
    "# Q15.\n",
    "np.tile(np.eye(2), (4, 4))\n",
    "\n",
    "# np.tile() 떠올릴 것"
   ]
  },
  {
   "cell_type": "code",
   "execution_count": null,
   "id": "c08b9dc7-578e-4136-90d6-6a7ec3c960fa",
   "metadata": {},
   "outputs": [],
   "source": []
  },
  {
   "cell_type": "code",
   "execution_count": null,
   "id": "1958725f-ae51-4c80-87f3-0b7d94960725",
   "metadata": {},
   "outputs": [],
   "source": []
  },
  {
   "cell_type": "code",
   "execution_count": 158,
   "id": "fdf76c61-e0ae-4a4b-9fe1-338d87f5ba96",
   "metadata": {},
   "outputs": [],
   "source": [
    "##### Boolean indexing"
   ]
  },
  {
   "cell_type": "code",
   "execution_count": 159,
   "id": "4200f0d7-0f46-49f1-a0ee-1b45f34218cb",
   "metadata": {},
   "outputs": [
    {
     "name": "stdout",
     "output_type": "stream",
     "text": [
      "[1 2 3 4]\n"
     ]
    }
   ],
   "source": [
    "a = np.arange(1, 5)\n",
    "print(a)"
   ]
  },
  {
   "cell_type": "code",
   "execution_count": 160,
   "id": "45814b5c-418b-4905-8ef9-ba537e776a8d",
   "metadata": {},
   "outputs": [
    {
     "name": "stdout",
     "output_type": "stream",
     "text": [
      "[False  True False  True]\n"
     ]
    }
   ],
   "source": [
    "even = np.array([True if i % 2 == 0 else False for i in range(1, 5)])\n",
    "print(even)"
   ]
  },
  {
   "cell_type": "code",
   "execution_count": null,
   "id": "14adcc4a-1eac-4af5-b8d1-a58e363212de",
   "metadata": {},
   "outputs": [],
   "source": []
  },
  {
   "cell_type": "code",
   "execution_count": 164,
   "id": "ada9a2d2-651b-435b-aeeb-8c55d0e57b44",
   "metadata": {},
   "outputs": [
    {
     "data": {
      "text/plain": [
       "array([ 0,  1,  2,  3, -4, -5, -6,  7,  8,  9, 10])"
      ]
     },
     "execution_count": 164,
     "metadata": {},
     "output_type": "execute_result"
    }
   ],
   "source": [
    "# Q16.\n",
    "a = np.arange(11)\n",
    "negative = np.array([-i if 3 < i < 7 else i for i in range(11)])\n",
    "negative"
   ]
  },
  {
   "cell_type": "code",
   "execution_count": 194,
   "id": "29b342ff-9ba9-4ee1-8558-ab5aea2ecc28",
   "metadata": {},
   "outputs": [
    {
     "name": "stdout",
     "output_type": "stream",
     "text": [
      "[ 0  1  2  3 -4 -5 -6  7  8  9 10]\n"
     ]
    }
   ],
   "source": [
    "# Q16 다른 풀이\n",
    "a = np.arange(11)\n",
    "a[(3 < a) & (7 > a)] *= -1\n",
    "print(a)"
   ]
  },
  {
   "cell_type": "code",
   "execution_count": null,
   "id": "03097614-95e6-4d83-bb90-2dcbfb2dc082",
   "metadata": {},
   "outputs": [],
   "source": []
  },
  {
   "cell_type": "code",
   "execution_count": 192,
   "id": "aded10db-481a-4494-ba1e-0c5910561b5b",
   "metadata": {},
   "outputs": [
    {
     "data": {
      "text/plain": [
       "1683"
      ]
     },
     "execution_count": 192,
     "metadata": {},
     "output_type": "execute_result"
    }
   ],
   "source": [
    "# Q17.\n",
    "np.array([i for i in range(1, 101) if i % 3 == 0]).sum()"
   ]
  },
  {
   "cell_type": "code",
   "execution_count": 193,
   "id": "f4c969a9-89a4-4399-bfb0-745a52988517",
   "metadata": {},
   "outputs": [
    {
     "data": {
      "text/plain": [
       "numpy.ndarray"
      ]
     },
     "execution_count": 193,
     "metadata": {},
     "output_type": "execute_result"
    }
   ],
   "source": [
    "a = np.array([i for i in range(1, 101) if i % 3 == 0])\n",
    "type(a)"
   ]
  },
  {
   "cell_type": "code",
   "execution_count": 198,
   "id": "6a9e0821-e70c-41b7-b3d6-652c924ab2cd",
   "metadata": {},
   "outputs": [
    {
     "data": {
      "text/plain": [
       "1683"
      ]
     },
     "execution_count": 198,
     "metadata": {},
     "output_type": "execute_result"
    }
   ],
   "source": [
    "a = np.arange(1, 101)\n",
    "a[a % 3 == 0].sum()"
   ]
  },
  {
   "cell_type": "code",
   "execution_count": 199,
   "id": "d34cec0a-c3e5-4eac-bb77-9188406f617d",
   "metadata": {},
   "outputs": [
    {
     "data": {
      "text/plain": [
       "1683"
      ]
     },
     "execution_count": 199,
     "metadata": {},
     "output_type": "execute_result"
    }
   ],
   "source": [
    "# 다른 풀이\n",
    "np.arange(3, 101, 3).sum()"
   ]
  },
  {
   "cell_type": "code",
   "execution_count": null,
   "id": "b72f602d-14f1-454a-b423-216d5dc62d70",
   "metadata": {},
   "outputs": [],
   "source": []
  },
  {
   "cell_type": "code",
   "execution_count": 204,
   "id": "0576c98b-b25c-4590-9ca7-44b00030b14b",
   "metadata": {},
   "outputs": [
    {
     "data": {
      "text/plain": [
       "array([0.1, 0.2, 0.3, 0.4, 0.5, 0.6, 0.7, 0.8, 0.9])"
      ]
     },
     "execution_count": 204,
     "metadata": {},
     "output_type": "execute_result"
    }
   ],
   "source": [
    "# Q18.\n",
    "a = np.linspace(0.1, 0.9, 9)\n",
    "a"
   ]
  },
  {
   "cell_type": "code",
   "execution_count": null,
   "id": "6ea9d208-6729-474d-bb96-0febc726af82",
   "metadata": {},
   "outputs": [],
   "source": []
  },
  {
   "cell_type": "code",
   "execution_count": 259,
   "id": "f069a88f-0edf-4da9-8db3-01f229258c75",
   "metadata": {},
   "outputs": [
    {
     "name": "stdin",
     "output_type": "stream",
     "text": [
      "자연수만 입력해주세요. 0\n",
      "자연수만 입력해주세요. 5\n"
     ]
    },
    {
     "name": "stdout",
     "output_type": "stream",
     "text": [
      "[ 3  4 11 21 25 44]\n",
      "[19 26 30 31 34 38]\n",
      "[ 9 14 15 21 30 44]\n",
      "[ 2  7 18 19 26 31]\n",
      "[ 7 10 29 32 37 40]\n"
     ]
    }
   ],
   "source": [
    "# Q19.\n",
    "while True:\n",
    "    a = int(input(\"자연수만 입력해주세요.\"))\n",
    "    if a > 0 and type(a) == int:\n",
    "        try:\n",
    "            num = np.arange(1, 46)          \n",
    "            for i in range(a):\n",
    "                lt = np.sort(np.array(np.random.choice(num, 6, replace = False)))\n",
    "                print(lt)\n",
    "            break\n",
    "        except TypeError:\n",
    "            continue\n",
    "    else:\n",
    "        continue"
   ]
  },
  {
   "cell_type": "code",
   "execution_count": 247,
   "id": "aa0b4242-3ebb-4435-ba69-7084a669fa45",
   "metadata": {},
   "outputs": [
    {
     "data": {
      "text/plain": [
       "numpy.ndarray"
      ]
     },
     "execution_count": 247,
     "metadata": {},
     "output_type": "execute_result"
    }
   ],
   "source": [
    "type(lt)"
   ]
  },
  {
   "cell_type": "code",
   "execution_count": 235,
   "id": "2ca7de73-0d83-49f5-bb09-6c57d04ceb5b",
   "metadata": {},
   "outputs": [
    {
     "name": "stdin",
     "output_type": "stream",
     "text": [
      "로또 몇 개 드릴까요? 2\n"
     ]
    },
    {
     "data": {
      "text/plain": [
       "[array([12, 14, 25, 26, 27, 35]), array([10, 17, 21, 29, 43, 44])]"
      ]
     },
     "metadata": {},
     "output_type": "display_data"
    }
   ],
   "source": [
    "# Q19 풀이\n",
    "while True:\n",
    "    try:\n",
    "        count = int(input(\"로또 몇 개 드릴까요?\"))\n",
    "        if count < 0:\n",
    "            raise Error\n",
    "        numbers = np.arange(1, 46)\n",
    "        lottos = [np.sort(np.random.choice(numbers, 6, replace = False)) for _ in range(count)]\n",
    "        display(lottos)\n",
    "        break\n",
    "    except:\n",
    "        print(\"자연수만 입력해주세요.\")"
   ]
  },
  {
   "cell_type": "code",
   "execution_count": null,
   "id": "463065f7-ec67-429f-913c-3a121cd90edd",
   "metadata": {},
   "outputs": [],
   "source": []
  },
  {
   "cell_type": "code",
   "execution_count": 253,
   "id": "1aa0ca78-e821-4b1d-8e0d-0d049dd7f394",
   "metadata": {},
   "outputs": [
    {
     "data": {
      "text/plain": [
       "8"
      ]
     },
     "execution_count": 253,
     "metadata": {},
     "output_type": "execute_result"
    }
   ],
   "source": [
    "# Q20. 복습!!\n",
    "resp_time = np. array([158,  85, 205,  24,  42, 175, 188, 149, 153, 171, 137,  55, 108,\n",
    "                       199, 177, 209, 218,  76, 103, 189, 110, 192, 136, 119,   4, 102,\n",
    "                       177, 212, 110,  37, 163,  32,  77,  22, 125, 184,  46, 139,  72,\n",
    "                       168, 133, 209, 148,  47, 102,  65, 160,  56,  11,  96, 169, 118,\n",
    "                        55, 135, 217,  49, 100,  85, 179,  15, 139, 199, 124, 142,  15,\n",
    "                        49, 168, 171, 168, 177, 147,  23, 199,  26,  51,  42,  90, 128,\n",
    "                       186, 169, 129,  70, 198, 111,  81, 150,  17, 177, 201,  10,  75,\n",
    "                       199,  55, 151, 183, 152, 119, 193, 110, 204])\n",
    "\n",
    "len(resp_time[resp_time>200])"
   ]
  },
  {
   "cell_type": "code",
   "execution_count": 254,
   "id": "4f2c5653-f4de-4a9f-b68f-135e72082531",
   "metadata": {},
   "outputs": [
    {
     "data": {
      "text/plain": [
       "array([205, 209, 218, 212, 209, 217, 201, 204])"
      ]
     },
     "execution_count": 254,
     "metadata": {},
     "output_type": "execute_result"
    }
   ],
   "source": [
    "resp_time[resp_time > 200]"
   ]
  },
  {
   "cell_type": "code",
   "execution_count": 260,
   "id": "960e81f8-e4bd-49b1-8ee3-889708de1277",
   "metadata": {},
   "outputs": [
    {
     "data": {
      "text/plain": [
       "8"
      ]
     },
     "execution_count": 260,
     "metadata": {},
     "output_type": "execute_result"
    }
   ],
   "source": [
    "# Q20 다른 풀이\n",
    "(resp_time > 200).sum()"
   ]
  },
  {
   "cell_type": "code",
   "execution_count": null,
   "id": "f39e181c-9550-4afd-8fa0-a50492d48885",
   "metadata": {},
   "outputs": [],
   "source": []
  },
  {
   "cell_type": "code",
   "execution_count": 264,
   "id": "9ba30118-bf5d-4017-b061-1e3d68c99727",
   "metadata": {},
   "outputs": [
    {
     "name": "stdout",
     "output_type": "stream",
     "text": [
      "71.5\n",
      "131.0\n",
      "175.5\n",
      "218.0\n"
     ]
    }
   ],
   "source": [
    "# Q21.\n",
    "resp_time = np. array([158,  85, 205,  24,  42, 175, 188, 149, 153, 171, 137,  55, 108,\n",
    "                       199, 177, 209, 218,  76, 103, 189, 110, 192, 136, 119,   4, 102,\n",
    "                       177, 212, 110,  37, 163,  32,  77,  22, 125, 184,  46, 139,  72,\n",
    "                       168, 133, 209, 148,  47, 102,  65, 160,  56,  11,  96, 169, 118,\n",
    "                        55, 135, 217,  49, 100,  85, 179,  15, 139, 199, 124, 142,  15,\n",
    "                        49, 168, 171, 168, 177, 147,  23, 199,  26,  51,  42,  90, 128,\n",
    "                       186, 169, 129,  70, 198, 111,  81, 150,  17, 177, 201,  10,  75,\n",
    "                       199,  55, 151, 183, 152, 119, 193, 110, 204])\n",
    "\n",
    "print(np.percentile(resp_time, 25))   # 1사분위수\n",
    "print(np.percentile(resp_time, 50))   # 2사분위수\n",
    "print(np.percentile(resp_time, 75))   # 3사분위수\n",
    "print(np.percentile(resp_time, 100))  # 4사분위수"
   ]
  },
  {
   "cell_type": "code",
   "execution_count": 266,
   "id": "00854b15-178e-40e4-9695-20d1e7596ae5",
   "metadata": {},
   "outputs": [
    {
     "name": "stdout",
     "output_type": "stream",
     "text": [
      "1분위(25%) 값: 71.5ms\n",
      "2분위(50%) 값: 131.0ms\n",
      "3분위(75%) 값: 175.5ms\n"
     ]
    }
   ],
   "source": [
    "# Q21 풀이\n",
    "for i, v in enumerate(range(25, 76, 25)):\n",
    "    print(f\"{i + 1}분위({v}%) 값: {np.percentile(resp_time, v)}ms\")"
   ]
  },
  {
   "cell_type": "code",
   "execution_count": 269,
   "id": "c118cdbf-415d-4cba-a9b0-13463f42c335",
   "metadata": {},
   "outputs": [
    {
     "name": "stdout",
     "output_type": "stream",
     "text": [
      "71.5\n",
      "131.0\n",
      "175.5\n"
     ]
    }
   ],
   "source": [
    "# Q21 다른 풀이 2\n",
    "print(np.quantile(resp_time, 0.25))  # 1사분위수\n",
    "print(np.quantile(resp_time, 0.5))   # 2사분위수\n",
    "print(np.quantile(resp_time, 0.75))  # 3사분위수"
   ]
  },
  {
   "cell_type": "code",
   "execution_count": null,
   "id": "1f71d068-7c3a-452b-8820-8781d0ece529",
   "metadata": {},
   "outputs": [],
   "source": []
  },
  {
   "cell_type": "code",
   "execution_count": 279,
   "id": "f9e32a8e-ce84-4211-873a-d3637b076144",
   "metadata": {},
   "outputs": [
    {
     "name": "stdout",
     "output_type": "stream",
     "text": [
      "[81 53 66]\n",
      "뽀로로가 81표로 반장으로 선출되었습니다.\n"
     ]
    }
   ],
   "source": [
    "# Q22.\n",
    "p = [\"뽀로로\", \"루피\", \"크롱\"]\n",
    "result = np.array([2, 1, 2, 2, 2, 2, 0, 2, 1, 1, 0, 0, 2, 0, 0, 1, 1, 2, 2, 2, 1, 1, 1, 2, 0, 2, 2, 0,\n",
    "                   1, 1, 0, 2, 1, 0, 1, 2, 0, 0, 1, 0, 1, 1, 1, 2, 1, 1, 1, 0, 0, 0, 0, 1, 0, 0, 2, 0,\n",
    "                   2, 2, 0, 0, 1, 1, 1, 0, 0, 2, 2, 1, 0, 1, 2, 0, 2, 0, 0, 0, 2, 0, 0, 0, 0, 0, 1, 2,\n",
    "                   1, 1, 2, 0, 2, 0, 0, 0, 0, 2, 1, 2, 0, 2, 0, 0, 1, 0, 1, 2, 1, 2, 0, 2, 2, 1, 2, 0,\n",
    "                   0, 1, 1, 0, 1, 2, 1, 2, 0, 2, 2, 2, 2, 0, 2, 2, 0, 2, 0, 2, 1, 1, 2, 1, 1, 0, 0, 1,\n",
    "                   0, 0, 0, 2, 2, 0, 2, 0, 0, 0, 2, 0, 0, 0, 2, 0, 1, 2, 1, 0, 2, 0, 0, 1, 2, 1, 1, 2,\n",
    "                   2, 0, 0, 0, 0, 2, 2, 1, 0, 1, 1, 2, 2, 1, 0, 0, 2, 0, 0, 0, 2, 0, 2, 2, 0, 2, 1, 0,\n",
    "                   0, 2, 0, 1])\n",
    "\n",
    "index, count = np.unique(result, return_counts = True)\n",
    "print(count)\n",
    "print(f\"{p[np.argmax(count)]}가 {count.max()}표로 반장으로 선출되었습니다.\")"
   ]
  },
  {
   "cell_type": "code",
   "execution_count": 286,
   "id": "eb8c88bd-fc70-448b-8eb9-a0c417234659",
   "metadata": {},
   "outputs": [
    {
     "name": "stdout",
     "output_type": "stream",
     "text": [
      "뽀로로\n"
     ]
    }
   ],
   "source": [
    "index, count = np.unique(result, return_counts=True)\n",
    "print(p[np.argmax(count)])"
   ]
  },
  {
   "cell_type": "code",
   "execution_count": 287,
   "id": "fb9b3f7f-1cc6-4d65-a142-b3c2f2c187bb",
   "metadata": {},
   "outputs": [
    {
     "name": "stdout",
     "output_type": "stream",
     "text": [
      "뽀로로가 81표로 반장으로 선출되었습니다.\n"
     ]
    }
   ],
   "source": [
    "# Q22 풀이\n",
    "count = np.bincount(result, minlength = 3)\n",
    "winner_index = count.argmax()\n",
    "print(f\"{p[winner_index]}가 {count[winner_index]}표로 반장으로 선출되었습니다.\")"
   ]
  },
  {
   "cell_type": "code",
   "execution_count": null,
   "id": "40b09d54-8d42-464b-885c-b77a1b7b1d94",
   "metadata": {},
   "outputs": [],
   "source": []
  }
 ],
 "metadata": {
  "kernelspec": {
   "display_name": "Python 3 (ipykernel)",
   "language": "python",
   "name": "python3"
  },
  "language_info": {
   "codemirror_mode": {
    "name": "ipython",
    "version": 3
   },
   "file_extension": ".py",
   "mimetype": "text/x-python",
   "name": "python",
   "nbconvert_exporter": "python",
   "pygments_lexer": "ipython3",
   "version": "3.9.13"
  }
 },
 "nbformat": 4,
 "nbformat_minor": 5
}
