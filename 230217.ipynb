{
 "cells": [
  {
   "cell_type": "code",
   "execution_count": 1,
   "id": "f481758c-bf77-4c37-8276-b5ebfd6583b3",
   "metadata": {},
   "outputs": [],
   "source": [
    "##### 복습 문제"
   ]
  },
  {
   "cell_type": "code",
   "execution_count": 12,
   "id": "c84f9366-3442-479a-afa8-5ca3f94c7c9c",
   "metadata": {},
   "outputs": [
    {
     "name": "stdout",
     "output_type": "stream",
     "text": [
      "1 2 3 4 5 6 7 8 9 10 "
     ]
    }
   ],
   "source": [
    "# Q1.\n",
    "for i in range(1, 11):\n",
    "    print(i, end = \" \")"
   ]
  },
  {
   "cell_type": "code",
   "execution_count": 14,
   "id": "6c6fab41-80a0-4070-943d-8aa2a8ff16d8",
   "metadata": {},
   "outputs": [
    {
     "name": "stdout",
     "output_type": "stream",
     "text": [
      "1 2 3 4 5 6 7 8 9 10 "
     ]
    }
   ],
   "source": [
    "i = 1\n",
    "while i <= 10:\n",
    "    print(i, end = \" \")\n",
    "    i += 1"
   ]
  },
  {
   "cell_type": "code",
   "execution_count": null,
   "id": "9873c0d9-78d2-4f6e-beb0-8d9733063249",
   "metadata": {},
   "outputs": [],
   "source": []
  },
  {
   "cell_type": "code",
   "execution_count": 6,
   "id": "58638236-124d-474d-bf10-8e341add6822",
   "metadata": {},
   "outputs": [
    {
     "name": "stdout",
     "output_type": "stream",
     "text": [
      "79.0\n"
     ]
    }
   ],
   "source": [
    "# Q2. (복습!!!)\n",
    "class_a = (70, 60, 55, 75, 95, 90, 80, 80, 85, 100)\n",
    "i = 0\n",
    "sum = 0\n",
    "\n",
    "while i < len(class_a):\n",
    "    sum += class_a[i]\n",
    "    i += 1\n",
    "\n",
    "avg = sum / len(class_a)\n",
    "print(avg)"
   ]
  },
  {
   "cell_type": "code",
   "execution_count": null,
   "id": "ca4f6e38-74dc-4bad-87e6-d1c540269132",
   "metadata": {},
   "outputs": [],
   "source": []
  },
  {
   "cell_type": "code",
   "execution_count": null,
   "id": "724048ea-d0a1-4dc7-ae6a-9737b370480b",
   "metadata": {},
   "outputs": [],
   "source": []
  },
  {
   "cell_type": "code",
   "execution_count": 8,
   "id": "e9445413-1c4f-45e8-8284-3bdeb679836b",
   "metadata": {},
   "outputs": [],
   "source": [
    "##### break"
   ]
  },
  {
   "cell_type": "code",
   "execution_count": null,
   "id": "af75eabf-8e53-40a7-84e2-f0052f9b4b57",
   "metadata": {},
   "outputs": [],
   "source": [
    "# for, while등의 반복문을 빠져나감"
   ]
  },
  {
   "cell_type": "code",
   "execution_count": 12,
   "id": "ca75191c-ea0f-4d7e-b337-a314605ec88e",
   "metadata": {
    "scrolled": true,
    "tags": []
   },
   "outputs": [
    {
     "name": "stdout",
     "output_type": "stream",
     "text": [
      "0\n",
      "1\n",
      "2\n",
      "3\n",
      "4\n",
      "5\n",
      "6\n",
      "7\n",
      "8\n",
      "9\n",
      "10\n",
      "11\n",
      "12\n",
      "13\n",
      "14\n",
      "15\n",
      "16\n",
      "17\n",
      "18\n",
      "19\n",
      "20\n",
      "21\n",
      "22\n",
      "23\n",
      "24\n",
      "25\n",
      "26\n",
      "27\n",
      "28\n",
      "29\n",
      "30\n",
      "31\n",
      "32\n",
      "33\n",
      "34\n",
      "35\n",
      "36\n",
      "37\n",
      "38\n",
      "39\n",
      "40\n",
      "41\n",
      "42\n",
      "43\n",
      "44\n",
      "45\n",
      "46\n",
      "47\n",
      "48\n",
      "49\n",
      "50\n",
      "51\n",
      "52\n",
      "53\n",
      "54\n",
      "55\n",
      "56\n",
      "57\n",
      "58\n",
      "59\n",
      "60\n",
      "61\n",
      "62\n",
      "63\n",
      "64\n",
      "65\n",
      "66\n",
      "67\n",
      "68\n",
      "69\n",
      "70\n",
      "71\n",
      "72\n",
      "73\n",
      "74\n",
      "75\n",
      "76\n",
      "77\n",
      "78\n",
      "79\n",
      "80\n",
      "81\n",
      "82\n",
      "83\n",
      "84\n",
      "85\n",
      "86\n",
      "87\n",
      "88\n",
      "89\n",
      "90\n",
      "91\n",
      "92\n",
      "93\n",
      "94\n",
      "95\n",
      "96\n",
      "97\n",
      "98\n",
      "99\n",
      "100\n"
     ]
    }
   ],
   "source": [
    "for _ in range(10000):\n",
    "    print(_)\n",
    "    if _ == 100:\n",
    "        break"
   ]
  },
  {
   "cell_type": "code",
   "execution_count": null,
   "id": "95b43a37-5106-4ba2-ab84-183643d5bbff",
   "metadata": {},
   "outputs": [],
   "source": []
  },
  {
   "cell_type": "code",
   "execution_count": 22,
   "id": "c38992e2-00fe-4020-9a06-f25fc1b23594",
   "metadata": {},
   "outputs": [
    {
     "name": "stdout",
     "output_type": "stream",
     "text": [
      "5050\n"
     ]
    }
   ],
   "source": [
    "# Q1.\n",
    "i = 0\n",
    "total = 0\n",
    "while True:\n",
    "    i += 1\n",
    "    total += i\n",
    "    if i == 100:\n",
    "        break\n",
    "print(total)"
   ]
  },
  {
   "cell_type": "code",
   "execution_count": 21,
   "id": "0ec704d7-5e94-4bef-a0f7-44576d935f5c",
   "metadata": {},
   "outputs": [],
   "source": [
    "i = 0\n",
    "sum = 0\n",
    "\n",
    "while i < len(class_a):\n",
    "    sum += class_a[i]\n",
    "    i += 1"
   ]
  },
  {
   "cell_type": "code",
   "execution_count": null,
   "id": "798ccc49-1b34-4702-80aa-e76ad28c5b8f",
   "metadata": {},
   "outputs": [],
   "source": []
  },
  {
   "cell_type": "code",
   "execution_count": null,
   "id": "0c0fa0d8-d6a2-42c1-bf6f-b3c7f3315634",
   "metadata": {},
   "outputs": [],
   "source": [
    "# 무한루프 활용 - input()과의 조합"
   ]
  },
  {
   "cell_type": "code",
   "execution_count": 23,
   "id": "ba2fb93a-7b2e-45ed-83f5-a38e6494d1ba",
   "metadata": {},
   "outputs": [
    {
     "name": "stdin",
     "output_type": "stream",
     "text": [
      "q를 입력하면 종료됩니다. 리얼?\n",
      "q를 입력하면 종료됩니다. 트루?\n",
      "q를 입력하면 종료됩니다. q\n"
     ]
    },
    {
     "name": "stdout",
     "output_type": "stream",
     "text": [
      "프로그램을 종료합니다.\n"
     ]
    }
   ],
   "source": [
    "while True:\n",
    "    input_value = input(\"q를 입력하면 종료됩니다.\")\n",
    "    if input_value == \"q\": break\n",
    "print(\"프로그램을 종료합니다.\")"
   ]
  },
  {
   "cell_type": "code",
   "execution_count": null,
   "id": "64cf3355-2e68-4dfc-a8f1-e8ec338f984b",
   "metadata": {},
   "outputs": [],
   "source": []
  },
  {
   "cell_type": "code",
   "execution_count": null,
   "id": "f3dac899-3b36-4c42-b755-6ac50ba09277",
   "metadata": {},
   "outputs": [],
   "source": []
  },
  {
   "cell_type": "code",
   "execution_count": 24,
   "id": "c4ef9db6-8cd6-4f95-ac58-4b5d195407e6",
   "metadata": {},
   "outputs": [],
   "source": [
    "##### continue"
   ]
  },
  {
   "cell_type": "markdown",
   "id": "4b2e1ce5-5cec-4dfd-a272-6642e36654f3",
   "metadata": {},
   "source": [
    "# 제어흐름 유지. 특정 부분에 대해서만 빠져나간 뒤 반복문의 첫줄로 되돌아감\n",
    "# for문  -> 요소가 있는지 확인      while  -> 조건이 True인지 확인"
   ]
  },
  {
   "cell_type": "code",
   "execution_count": 27,
   "id": "82ea7363-62c7-4c04-8a96-82834b3ff902",
   "metadata": {},
   "outputs": [
    {
     "name": "stdout",
     "output_type": "stream",
     "text": [
      "1\t3\t5\t7\t9\t11\t13\t15\t17\t19\t21\t23\t25\t27\t29\t31\t33\t35\t37\t39\t41\t43\t45\t47\t49\t51\t53\t55\t57\t59\t61\t63\t65\t67\t69\t71\t73\t75\t77\t79\t81\t83\t85\t87\t89\t91\t93\t95\t97\t99\t"
     ]
    }
   ],
   "source": [
    "# ex) 홀수만 출력하기\n",
    "\n",
    "for i in range(100):\n",
    "    if i % 2 == 0:\n",
    "        continue\n",
    "    print(i, end = \"\\t\")"
   ]
  },
  {
   "cell_type": "code",
   "execution_count": 32,
   "id": "b2a49269-1f67-4eaa-9d2c-c60ca1e5f004",
   "metadata": {},
   "outputs": [
    {
     "name": "stdin",
     "output_type": "stream",
     "text": [
      "시작하는 정수 입력: 1\n",
      "끝나는 정수 입력: 10\n"
     ]
    },
    {
     "name": "stdout",
     "output_type": "stream",
     "text": [
      "1부터 10까지의 합은 55 입니다.\n"
     ]
    }
   ],
   "source": [
    "# Q1. - for문\n",
    "n = int(input(\"시작하는 정수 입력:\"))\n",
    "m = int(input(\"끝나는 정수 입력:\"))\n",
    "sum = 0\n",
    "\n",
    "for i in range(m + 1):\n",
    "    sum += i\n",
    "    if i == m:\n",
    "        continue\n",
    "print(f\"{n}부터\", f\"{m}까지의 합은\", f\"{sum} 입니다.\")"
   ]
  },
  {
   "cell_type": "code",
   "execution_count": 34,
   "id": "f0352833-0443-4e05-ac2b-bd0cd8242e17",
   "metadata": {},
   "outputs": [
    {
     "name": "stdin",
     "output_type": "stream",
     "text": [
      "시작하는 정수 입력: 1\n",
      "끝나는 정수 입력: 10\n"
     ]
    },
    {
     "ename": "KeyboardInterrupt",
     "evalue": "",
     "output_type": "error",
     "traceback": [
      "\u001b[1;31m---------------------------------------------------------------------------\u001b[0m",
      "\u001b[1;31mKeyboardInterrupt\u001b[0m                         Traceback (most recent call last)",
      "\u001b[1;32m~\\AppData\\Local\\Temp\\ipykernel_12080\\3717443904.py\u001b[0m in \u001b[0;36m<module>\u001b[1;34m\u001b[0m\n\u001b[0;32m      6\u001b[0m \u001b[1;33m\u001b[0m\u001b[0m\n\u001b[0;32m      7\u001b[0m \u001b[1;32mwhile\u001b[0m \u001b[1;32mTrue\u001b[0m\u001b[1;33m:\u001b[0m\u001b[1;33m\u001b[0m\u001b[1;33m\u001b[0m\u001b[0m\n\u001b[1;32m----> 8\u001b[1;33m     \u001b[0mi\u001b[0m \u001b[1;33m+=\u001b[0m \u001b[1;36m1\u001b[0m\u001b[1;33m\u001b[0m\u001b[1;33m\u001b[0m\u001b[0m\n\u001b[0m\u001b[0;32m      9\u001b[0m     \u001b[0msum\u001b[0m \u001b[1;33m+=\u001b[0m \u001b[0mi\u001b[0m\u001b[1;33m\u001b[0m\u001b[1;33m\u001b[0m\u001b[0m\n\u001b[0;32m     10\u001b[0m     \u001b[1;32mif\u001b[0m \u001b[0mi\u001b[0m \u001b[1;33m==\u001b[0m \u001b[0mm\u001b[0m\u001b[1;33m:\u001b[0m\u001b[1;33m\u001b[0m\u001b[1;33m\u001b[0m\u001b[0m\n",
      "\u001b[1;31mKeyboardInterrupt\u001b[0m: "
     ]
    }
   ],
   "source": [
    "# Q1. - while문 (???????????)  꼭 다시 해보자\n",
    "n = int(input(\"시작하는 정수 입력:\"))\n",
    "m = int(input(\"끝나는 정수 입력:\"))\n",
    "i = 0\n",
    "sum = 0\n",
    "\n",
    "while True:\n",
    "    i += 1\n",
    "    sum += i\n",
    "    if i == m:\n",
    "        continue\n",
    "print(f\"{n}부터\", f\"{m}까지의 합은\", f\"{sum} 입니다.\")\n"
   ]
  },
  {
   "cell_type": "code",
   "execution_count": 35,
   "id": "286dfcdc-7945-47dc-8fb4-68817b90848b",
   "metadata": {},
   "outputs": [
    {
     "name": "stdin",
     "output_type": "stream",
     "text": [
      "시작하는 정수 입력: 1\n",
      "끝나는 정수 입력: 10\n"
     ]
    },
    {
     "name": "stdout",
     "output_type": "stream",
     "text": [
      "1 부터 10 까지의 합은 55 입니다.\n"
     ]
    }
   ],
   "source": [
    "# Q1 정답 - for문\n",
    "n = int(input(\"시작하는 정수 입력:\"))\n",
    "m = int(input(\"끝나는 정수 입력:\"))\n",
    "total = 0\n",
    "\n",
    "for i in range(n, m + 1):\n",
    "    total += i\n",
    "print(n, \"부터\", m, \"까지의 합은\", total, \"입니다.\")"
   ]
  },
  {
   "cell_type": "code",
   "execution_count": null,
   "id": "2a4eb3e6-0676-42fb-9559-8b8cf009bf05",
   "metadata": {},
   "outputs": [],
   "source": []
  },
  {
   "cell_type": "code",
   "execution_count": null,
   "id": "0a407d5e-db95-4af0-8fc7-9a776f80ff18",
   "metadata": {},
   "outputs": [],
   "source": []
  },
  {
   "cell_type": "code",
   "execution_count": 37,
   "id": "4b46211f-7576-4da4-a34d-3f94216bd5d8",
   "metadata": {},
   "outputs": [],
   "source": [
    "##### 딕셔너리 자료형(Dictionary type)"
   ]
  },
  {
   "cell_type": "markdown",
   "id": "775fc8d7-32e7-4f5b-9f8a-c476e1464d4b",
   "metadata": {},
   "source": [
    "### 특징 ###\n",
    "# 중괄호 {} 사용\n",
    "# key와 value는 콜론(:)으로, key:value의 pair는 콤마(,)로 구분\n",
    "# key:value  -> key-value pair\n",
    "# 비(非)시퀀스 자료형  -> 순서 없음 = 인덱스 붙일 수 않음\n",
    "# 어떻게 접근할까?  -> Key 사용: 특정 값(Value)에 접근할 수 있는 값(type)\n",
    "\n",
    "# 인덱스 대신 고유한 키(Key)값을 가짐 (딕셔너리 내 유일하게 존재)\n",
    "# 값(Value)은 다른 키(Key)에 대하여 중복될 수 있음\n",
    "# 키(Key)는 1:1로 매칭되는 값(Value)을 가짐"
   ]
  },
  {
   "cell_type": "code",
   "execution_count": 39,
   "id": "a6905663-8afa-4ad4-8888-9543bf56af2b",
   "metadata": {},
   "outputs": [
    {
     "name": "stdout",
     "output_type": "stream",
     "text": [
      "<class 'dict'>\n",
      "{'key': 'value'}\n"
     ]
    }
   ],
   "source": [
    "dic_var = {\"key\" : \"value\"}\n",
    "print(type(dic_var))\n",
    "print(dic_var)"
   ]
  },
  {
   "cell_type": "markdown",
   "id": "026e4b04-b217-4bfa-aad4-008ff58f58c3",
   "metadata": {},
   "source": [
    "# () -> Tuple  <시퀀스>\n",
    "# [] -> List   <시퀀스>\n",
    "# {} -> Dictionary(Key:Value), set(Key)   <비(非)시퀀스>\n",
    "# 딕셔너리는 Python 3.6 ver 이상부터 순서 보정 But set은 순서 X"
   ]
  },
  {
   "cell_type": "code",
   "execution_count": 41,
   "id": "fef633d0-9579-48dd-b2a7-b742c08dfa01",
   "metadata": {},
   "outputs": [
    {
     "name": "stdout",
     "output_type": "stream",
     "text": [
      "{'key': 'last value'}\n"
     ]
    }
   ],
   "source": [
    "# ex)\n",
    "dic_var = {\"key\": \"value\", \"key\": \"last value\"}\n",
    "print(dic_var)\n",
    "\n",
    "# 하나의 Key에 대해 중복된 Value가 들어온 경우, 가장 최근에 지정한 값으로 적용됨\n",
    "# Key에는 리스트, 딕셔너리, 집합을 사용할 수 없음"
   ]
  },
  {
   "cell_type": "code",
   "execution_count": 167,
   "id": "d30a013d-9842-4367-ba46-a297db1efdf3",
   "metadata": {
    "tags": []
   },
   "outputs": [
    {
     "name": "stdout",
     "output_type": "stream",
     "text": [
      "[<class 'str'>, <class 'int'>, <class 'float'>, <class 'tuple'>]\n"
     ]
    }
   ],
   "source": [
    "dic_var = {\"key\": \"value\",\n",
    "           1: \"value2\",\n",
    "           1.1: \"value3\",\n",
    "           True: \"value4\",\n",
    "           (\"key\", 1, 1.1, True): \"value2\"}\n",
    "print(list(map(type, dic_var.keys())))"
   ]
  },
  {
   "cell_type": "code",
   "execution_count": null,
   "id": "ddd7f6e8-49a4-4a1c-bfbd-b16b82a9d51a",
   "metadata": {},
   "outputs": [],
   "source": [
    "# <class 'bool'>이 왜 안나오나?\n",
    "# dic_var[True] = dic_var[1]이 같아서 발생함\n",
    "# 딕셔너리의 Key에는 중복되는 값이 올 수 없으니까!\n",
    "# 1과 True는 같음"
   ]
  },
  {
   "cell_type": "code",
   "execution_count": 48,
   "id": "d27ef986-494c-4f34-a305-4425b77c04ee",
   "metadata": {},
   "outputs": [
    {
     "name": "stdout",
     "output_type": "stream",
     "text": [
      "[<class 'str'>, <class 'bool'>, <class 'float'>, <class 'tuple'>, <class 'list'>, <class 'dict'>, <class 'set'>]\n"
     ]
    }
   ],
   "source": [
    "dic_var = {\"key\": \"value\",\n",
    "           1: 1,\n",
    "           1.1: 1.1,\n",
    "           True: False,\n",
    "           (\"key\", 1, 1.1, True): (\"key\", 1, 1.1, True),\n",
    "          \"list\": [1, \"가\", 1.1, True, (1, \"나\")],\n",
    "          \"dict\": {\"key\": \"value\", \"key2\": \"value2\"},\n",
    "           \"set\": {\"key\", \"value\"}\n",
    "          }\n",
    "print(list(map(type, dic_var.values())))"
   ]
  },
  {
   "cell_type": "code",
   "execution_count": null,
   "id": "bd25df1d-348b-46d4-a264-6c56cce26241",
   "metadata": {},
   "outputs": [],
   "source": []
  },
  {
   "cell_type": "code",
   "execution_count": 52,
   "id": "4faa23f6-40ba-40f0-9abb-37216e73604d",
   "metadata": {},
   "outputs": [
    {
     "name": "stdout",
     "output_type": "stream",
     "text": [
      "{}\n",
      "<class 'dict'>\n"
     ]
    }
   ],
   "source": [
    "print(empty_dict)\n",
    "print(type(empty_dict))"
   ]
  },
  {
   "cell_type": "code",
   "execution_count": 54,
   "id": "ed0f7598-ec1d-45d6-9ff5-4a082a2445e6",
   "metadata": {},
   "outputs": [
    {
     "data": {
      "text/plain": [
       "set()"
      ]
     },
     "execution_count": 54,
     "metadata": {},
     "output_type": "execute_result"
    }
   ],
   "source": [
    "# 빈 자료형\n",
    "empty_list = []\n",
    "empty_tuple = ()\n",
    "empty_dict = {}\n",
    "set()  # set은 딕셔너리 {}와의 구분을 위해 함수처럼 씀"
   ]
  },
  {
   "cell_type": "code",
   "execution_count": null,
   "id": "2b89fbed-f098-45ca-b5a7-35704913f453",
   "metadata": {},
   "outputs": [],
   "source": []
  },
  {
   "cell_type": "code",
   "execution_count": null,
   "id": "9b64c017-32d6-43ac-ac65-5ec07058e450",
   "metadata": {},
   "outputs": [],
   "source": [
    "## dict()"
   ]
  },
  {
   "cell_type": "code",
   "execution_count": 57,
   "id": "4f3de321-a106-47cf-aa02-6c56ec31e3dc",
   "metadata": {},
   "outputs": [
    {
     "name": "stdout",
     "output_type": "stream",
     "text": [
      "{'key': 'value', 'key2': 'value2', 'key3': 'value3'}\n"
     ]
    }
   ],
   "source": [
    "dict_a = dict(key = \"value\", key2 = \"value2\", key3 = \"value3\")\n",
    "print(dict_a)\n",
    "\n",
    "# dict()함수는 Key값을 문자열(string)로 지정해서 넣음"
   ]
  },
  {
   "cell_type": "code",
   "execution_count": 152,
   "id": "29a50653-5605-4f8b-a6a0-c625c7a27458",
   "metadata": {},
   "outputs": [
    {
     "data": {
      "text/plain": [
       "{'key': 'value', True: 'value2', 23: 'value3', 'key2': 432}"
      ]
     },
     "execution_count": 152,
     "metadata": {},
     "output_type": "execute_result"
    }
   ],
   "source": [
    "dict([(\"key\", \"value\"), (True, \"value2\"), (23, \"value3\"), (\"key2\", 432)])\n",
    "\n",
    "# Key와 Value가 콜론(:)이 아니어도 짝지을 수 있음\n",
    "# 이를 통해 Key와 Value의 구조형이 좀 더 유연해질 수 있음 (= 문자열에만 한정되지 않음)"
   ]
  },
  {
   "cell_type": "code",
   "execution_count": null,
   "id": "696fa059-d9e8-475e-98e2-9b5a29e66136",
   "metadata": {},
   "outputs": [],
   "source": []
  },
  {
   "cell_type": "code",
   "execution_count": null,
   "id": "0511018a-fe74-40f1-a659-069395bbcaa1",
   "metadata": {},
   "outputs": [],
   "source": [
    "## zip(a, b) - 시퀀스 자료형 a, b를 딕셔너리로 만들어 주는 것\n",
    "# zip()은 함수\n",
    "# dict()를 씌워야만 딕셔너리가 됨"
   ]
  },
  {
   "cell_type": "code",
   "execution_count": 111,
   "id": "cb59d310-3fa8-436e-b363-7fd83aca2244",
   "metadata": {},
   "outputs": [
    {
     "name": "stdout",
     "output_type": "stream",
     "text": [
      "{'key': 'value', 'key2': 'value2', 'key3': 'value3'}\n"
     ]
    }
   ],
   "source": [
    "dict_b = dict(zip([\"key\", \"key2\", \"key3\"], [\"value\", \"value2\", \"value3\"]))\n",
    "print(dict_b)"
   ]
  },
  {
   "cell_type": "code",
   "execution_count": 112,
   "id": "64ce0f84-e6cc-480c-b678-c58693c4b851",
   "metadata": {},
   "outputs": [
    {
     "ename": "SyntaxError",
     "evalue": "invalid syntax (3620481546.py, line 1)",
     "output_type": "error",
     "traceback": [
      "\u001b[1;36m  File \u001b[1;32m\"C:\\Users\\Playdata\\AppData\\Local\\Temp\\ipykernel_12080\\3620481546.py\"\u001b[1;36m, line \u001b[1;32m1\u001b[0m\n\u001b[1;33m    dict_c = dict(zip([\"key\":\"value\", \"key2\":\"value2\", \"key3\":\"value3\"]))\u001b[0m\n\u001b[1;37m                            ^\u001b[0m\n\u001b[1;31mSyntaxError\u001b[0m\u001b[1;31m:\u001b[0m invalid syntax\n"
     ]
    }
   ],
   "source": [
    "dict_c = dict(zip([\"key\": \"value\", \"key2\": \"value2\", \"key3\":\"value3\"]))\n",
    "print(dict_c)  # 에러 발생"
   ]
  },
  {
   "cell_type": "code",
   "execution_count": null,
   "id": "080ebaf7-42f3-4713-89c9-8e916bb40721",
   "metadata": {},
   "outputs": [],
   "source": []
  },
  {
   "cell_type": "code",
   "execution_count": 61,
   "id": "cd11fb83-0264-41b0-97ed-5361d3ef37ff",
   "metadata": {},
   "outputs": [
    {
     "name": "stdout",
     "output_type": "stream",
     "text": [
      "<zip object at 0x000002564D785A80>\n"
     ]
    }
   ],
   "source": [
    "print(zip([\"key\", \"key2\", \"key3\"], [\"value\", \"value2\", \"value3\"]))"
   ]
  },
  {
   "cell_type": "code",
   "execution_count": 233,
   "id": "c3a952bc-8b78-4670-8c86-13d85cb36f27",
   "metadata": {},
   "outputs": [
    {
     "data": {
      "text/plain": [
       "[('key', 'value'), ('key2', 'value2'), ('key3', 'value3')]"
      ]
     },
     "execution_count": 233,
     "metadata": {},
     "output_type": "execute_result"
    }
   ],
   "source": [
    "[_ for _ in zip([\"key\", \"key2\", \"key3\"], [\"value\", \"value2\", \"value3\"])]"
   ]
  },
  {
   "cell_type": "code",
   "execution_count": 70,
   "id": "632155cc-e1dd-4493-9271-c8fe9026df23",
   "metadata": {},
   "outputs": [
    {
     "name": "stdout",
     "output_type": "stream",
     "text": [
      "('key1', 'value1')\n",
      "('key2', 'value2')\n",
      "('key3', 'value3')\n"
     ]
    }
   ],
   "source": [
    "keys = (\"key1\", \"key2\", \"key3\")\n",
    "values = (\"value1\", \"value2\", \"value3\")\n",
    "\n",
    "sam_list = []  # 질문!\n",
    "for index in range(len(keys)):\n",
    "    print((keys[index], values[index]))"
   ]
  },
  {
   "cell_type": "code",
   "execution_count": 71,
   "id": "dc00f853-8d6f-470d-9e2c-eabd2cbfdeb3",
   "metadata": {},
   "outputs": [
    {
     "data": {
      "text/plain": [
       "[('key1', 'value1'), ('key2', 'value2'), ('key3', 'value3')]"
      ]
     },
     "execution_count": 71,
     "metadata": {},
     "output_type": "execute_result"
    }
   ],
   "source": [
    "list(zip(keys, values))"
   ]
  },
  {
   "cell_type": "code",
   "execution_count": 72,
   "id": "000140c4-10c0-4ce3-9b91-2ff079d2d91f",
   "metadata": {},
   "outputs": [
    {
     "data": {
      "text/plain": [
       "{}"
      ]
     },
     "execution_count": 72,
     "metadata": {},
     "output_type": "execute_result"
    }
   ],
   "source": [
    "dict(sam_list)  # ???????????"
   ]
  },
  {
   "cell_type": "code",
   "execution_count": null,
   "id": "52829090-69e4-46c3-b6e2-863445778202",
   "metadata": {},
   "outputs": [],
   "source": []
  },
  {
   "cell_type": "code",
   "execution_count": null,
   "id": "75bc453e-1adc-46c5-8d06-88315fcf1ede",
   "metadata": {},
   "outputs": [],
   "source": [
    "# Key로 Value에 접근하기"
   ]
  },
  {
   "cell_type": "code",
   "execution_count": 77,
   "id": "90b359a8-ff5d-4808-a2c8-b23ddd94c9bf",
   "metadata": {},
   "outputs": [
    {
     "name": "stdout",
     "output_type": "stream",
     "text": [
      "{'key': 'value', 'key2': 'value2', 'key3': 'value3'}\n",
      "value\n"
     ]
    }
   ],
   "source": [
    "dict_b = dict(zip([\"key\", \"key2\", \"key3\"], [\"value\", \"value2\", \"value3\"]))\n",
    "print(dict_b)\n",
    "print(dict_b[\"key\"])"
   ]
  },
  {
   "cell_type": "code",
   "execution_count": null,
   "id": "3b51a99f-1543-4fd6-9319-03691239e484",
   "metadata": {},
   "outputs": [],
   "source": []
  },
  {
   "cell_type": "code",
   "execution_count": null,
   "id": "c8ab37d2-20e1-4ddf-ac1f-2700214fe7d3",
   "metadata": {},
   "outputs": [],
   "source": [
    "# Key, Value 추가"
   ]
  },
  {
   "cell_type": "code",
   "execution_count": 78,
   "id": "e77e55d7-7f5c-488d-91e3-e60adda2826b",
   "metadata": {},
   "outputs": [
    {
     "name": "stdout",
     "output_type": "stream",
     "text": [
      "{'key': 'value', 'key2': 'value2', 'key3': 'value3'}\n",
      "{'key': 'super value', 'key2': 'value2', 'key3': 'value3'}\n"
     ]
    }
   ],
   "source": [
    "print(dict_b)\n",
    "dict_b[\"key\"] = \"super value\"\n",
    "print(dict_b)"
   ]
  },
  {
   "cell_type": "code",
   "execution_count": 80,
   "id": "8270b045-fe60-4769-ab07-9d5cacbab50b",
   "metadata": {},
   "outputs": [
    {
     "name": "stdout",
     "output_type": "stream",
     "text": [
      "{'key': 'super value', 'key2': 'value2', 'key3': 'value3'}\n",
      "{'key': 'super value', 'key2': 'value2', 'key3': 'value3', 'new one': 'new value'}\n"
     ]
    }
   ],
   "source": [
    "print(dict_b)\n",
    "dict_b[\"new one\"] = \"new value\"\n",
    "print(dict_b)\n",
    "\n",
    "# 없는 키 이름과 값에 대해서는 오류 발생 없이 새로 추가함"
   ]
  },
  {
   "cell_type": "code",
   "execution_count": 81,
   "id": "bfb37960-e20d-4898-bbec-36a5bc1b10c7",
   "metadata": {},
   "outputs": [
    {
     "name": "stdout",
     "output_type": "stream",
     "text": [
      "{'key': 'super value', 'key2': 'value2', 'key3': 'value3', 'new one': 'new value'}\n"
     ]
    },
    {
     "ename": "KeyError",
     "evalue": "'없는 키'",
     "output_type": "error",
     "traceback": [
      "\u001b[1;31m---------------------------------------------------------------------------\u001b[0m",
      "\u001b[1;31mKeyError\u001b[0m                                  Traceback (most recent call last)",
      "\u001b[1;32m~\\AppData\\Local\\Temp\\ipykernel_12080\\3708490652.py\u001b[0m in \u001b[0;36m<module>\u001b[1;34m\u001b[0m\n\u001b[0;32m      1\u001b[0m \u001b[0mprint\u001b[0m\u001b[1;33m(\u001b[0m\u001b[0mdict_b\u001b[0m\u001b[1;33m)\u001b[0m\u001b[1;33m\u001b[0m\u001b[1;33m\u001b[0m\u001b[0m\n\u001b[1;32m----> 2\u001b[1;33m \u001b[0mprint\u001b[0m\u001b[1;33m(\u001b[0m\u001b[0mdict_b\u001b[0m\u001b[1;33m[\u001b[0m\u001b[1;34m'없는 키'\u001b[0m\u001b[1;33m]\u001b[0m\u001b[1;33m)\u001b[0m\u001b[1;33m\u001b[0m\u001b[1;33m\u001b[0m\u001b[0m\n\u001b[0m",
      "\u001b[1;31mKeyError\u001b[0m: '없는 키'"
     ]
    }
   ],
   "source": [
    "print(dict_b)\n",
    "print(dict_b['없는 키'])  # 에러 발생"
   ]
  },
  {
   "cell_type": "code",
   "execution_count": null,
   "id": "aaef95ec-1d81-42d7-8800-a5b1fb5f42f6",
   "metadata": {},
   "outputs": [],
   "source": []
  },
  {
   "cell_type": "code",
   "execution_count": null,
   "id": "dfb2a21e-fddd-4b85-8869-b494b5318b18",
   "metadata": {},
   "outputs": [],
   "source": [
    "# 특정 키가 딕셔너리 안에 있는지 확인하기"
   ]
  },
  {
   "cell_type": "code",
   "execution_count": 83,
   "id": "486323be-85a4-4b7f-a795-f0d533e6110b",
   "metadata": {},
   "outputs": [
    {
     "name": "stdout",
     "output_type": "stream",
     "text": [
      "{'key': 'super value', 'key2': 'value2', 'key3': 'value3', 'new one': 'new value'}\n",
      "True\n"
     ]
    }
   ],
   "source": [
    "# Key 찾기\n",
    "print(dict_b)\n",
    "print(\"key\" in dict_b)"
   ]
  },
  {
   "cell_type": "code",
   "execution_count": 84,
   "id": "4bb66c25-eb19-4b08-ba04-934266e0db97",
   "metadata": {},
   "outputs": [
    {
     "name": "stdout",
     "output_type": "stream",
     "text": [
      "{'key': 'super value', 'key2': 'value2', 'key3': 'value3', 'new one': 'new value'}\n",
      "True\n"
     ]
    }
   ],
   "source": [
    "# Value 찾기\n",
    "print(dict_b)\n",
    "print(\"super value\" in dict_b.values())"
   ]
  },
  {
   "cell_type": "code",
   "execution_count": null,
   "id": "66a9285f-0747-4d22-a127-af657bace1bc",
   "metadata": {},
   "outputs": [],
   "source": []
  },
  {
   "cell_type": "code",
   "execution_count": 85,
   "id": "ab5e6870-5564-46e3-b435-205f472fedcf",
   "metadata": {},
   "outputs": [],
   "source": [
    "# 삭제"
   ]
  },
  {
   "cell_type": "code",
   "execution_count": 86,
   "id": "fc6a73d6-c98b-486c-a295-c3c4ea79cefa",
   "metadata": {},
   "outputs": [
    {
     "name": "stdout",
     "output_type": "stream",
     "text": [
      "{'key': 'super value', 'key2': 'value2', 'key3': 'value3', 'new one': 'new value'}\n",
      "{'key': 'super value', 'key2': 'value2', 'key3': 'value3'}\n"
     ]
    }
   ],
   "source": [
    "print(dict_b)\n",
    "del dict_b['new one']\n",
    "print(dict_b)"
   ]
  },
  {
   "cell_type": "code",
   "execution_count": null,
   "id": "f9893da8-d2e2-4637-80e7-c105fd7f5455",
   "metadata": {},
   "outputs": [],
   "source": []
  },
  {
   "cell_type": "code",
   "execution_count": null,
   "id": "b1a64064-a62e-4050-8cab-92c54a52ad93",
   "metadata": {},
   "outputs": [],
   "source": [
    "# 키:값의 쌍 개수 출력"
   ]
  },
  {
   "cell_type": "code",
   "execution_count": 87,
   "id": "1626e1a0-f5f6-48fa-9193-11eb2c991437",
   "metadata": {},
   "outputs": [
    {
     "name": "stdout",
     "output_type": "stream",
     "text": [
      "{'key': 'super value', 'key2': 'value2', 'key3': 'value3'}\n"
     ]
    },
    {
     "data": {
      "text/plain": [
       "3"
      ]
     },
     "execution_count": 87,
     "metadata": {},
     "output_type": "execute_result"
    }
   ],
   "source": [
    "print(dict_b)\n",
    "len(dict_b)"
   ]
  },
  {
   "cell_type": "code",
   "execution_count": null,
   "id": "f8cad64b-4ee4-46e9-9c7c-b72ccbf5afc6",
   "metadata": {},
   "outputs": [],
   "source": []
  },
  {
   "cell_type": "code",
   "execution_count": null,
   "id": "6a12a889-d23e-4f20-ad76-11342ba372ec",
   "metadata": {},
   "outputs": [],
   "source": [
    "# Q1."
   ]
  },
  {
   "cell_type": "code",
   "execution_count": 106,
   "id": "78c574ec-8a90-4985-9aba-9fe8e55bb313",
   "metadata": {},
   "outputs": [
    {
     "name": "stdin",
     "output_type": "stream",
     "text": [
      "과일 이름을 입력하세요. 바나나\n"
     ]
    },
    {
     "name": "stdout",
     "output_type": "stream",
     "text": [
      "700\n"
     ]
    }
   ],
   "source": [
    "# 혼자 해보기\n",
    "a = dict(zip([\"사과\", \"바나나\", \"오렌지\", \"파인애플\"], [1000, 700, 1500, 2000]))\n",
    "print(a[input(\"과일 이름을 입력하세요.\")])"
   ]
  },
  {
   "cell_type": "code",
   "execution_count": 107,
   "id": "7039fb63-d03f-4ce1-b7f8-b7b660f49afb",
   "metadata": {},
   "outputs": [
    {
     "name": "stdin",
     "output_type": "stream",
     "text": [
      "과일 이름을 입력하세요. 사과\n"
     ]
    },
    {
     "name": "stdout",
     "output_type": "stream",
     "text": [
      "사과의 가격은 1000원입니다.\n"
     ]
    }
   ],
   "source": [
    "# Q1 다른 풀이\n",
    "dict_fruits = {\"사과\": 1000, \"바나나\": 700, \"오렌지\": 1500, \"파인애플\":2000}\n",
    "\n",
    "input_fruit = input(\"과일 이름을 입력하세요.\")\n",
    "print(f\"{input_fruit}의 가격은 {dict_fruits[input_fruit]}원입니다.\")"
   ]
  },
  {
   "cell_type": "code",
   "execution_count": null,
   "id": "04689714-ca42-42c3-a070-feb099ddace0",
   "metadata": {},
   "outputs": [],
   "source": []
  },
  {
   "cell_type": "code",
   "execution_count": 151,
   "id": "98ebd3de-db96-4400-87c5-7c14a5cc4e18",
   "metadata": {},
   "outputs": [
    {
     "name": "stdin",
     "output_type": "stream",
     "text": [
      "이름을 기입해주세요. 뽀로로 루피 크롱 스누피\n",
      "몸무게를 입력해주세요. 20.4 16.2 22.3 5.2\n"
     ]
    },
    {
     "name": "stdout",
     "output_type": "stream",
     "text": [
      "<map object at 0x000002564E784640>\n",
      "{'뽀로로': 20.4, '루피': 16.2, '크롱': 22.3, '스누피': 5.2}\n"
     ]
    }
   ],
   "source": [
    "# Q2.\n",
    "a = list(input(\"이름을 기입해주세요.\").split())\n",
    "b = list(input(\"몸무게를 입력해주세요.\").split())\n",
    "\n",
    "b = map(float, b)\n",
    "print(b)\n",
    "type(b)\n",
    "\n",
    "dic = dict(zip(a, b))\n",
    "print(dic)\n",
    "\n",
    "# 어려움. 복습 필수!!"
   ]
  },
  {
   "cell_type": "code",
   "execution_count": 150,
   "id": "339faa1d-1e70-490c-9a6c-b8f3bd9f6483",
   "metadata": {},
   "outputs": [
    {
     "name": "stdin",
     "output_type": "stream",
     "text": [
      "이름을 기입해주세요. 뽀로로 루피 크롱 스누피\n",
      "몸무게를 입력해주세요. 20.4 16.2 22.3 5.2\n"
     ]
    },
    {
     "name": "stdout",
     "output_type": "stream",
     "text": [
      "{'뽀로로': 20.4, '루피': 16.2, '크롱': 22.3, '스누피': 5.2}\n"
     ]
    }
   ],
   "source": [
    "# Q2 풀이\n",
    "names = input(\"이름을 기입해주세요.\").split()\n",
    "weights = map(float, input(\"몸무게를 입력해주세요.\").split())\n",
    "\n",
    "dict_info = dict(zip(names, weights))\n",
    "print(dict_info)\n",
    "\n",
    "# float(input(\"\").split())로 돌리면 에러 발생\n",
    "# 왜?? 리스트를 float로 바꿀 수 없으므로"
   ]
  },
  {
   "cell_type": "code",
   "execution_count": null,
   "id": "712d2386-2f63-4dfe-a3ba-ed04a10a4dc6",
   "metadata": {},
   "outputs": [],
   "source": []
  },
  {
   "cell_type": "code",
   "execution_count": null,
   "id": "950adc08-5d16-4b42-b7c9-78778e7afecb",
   "metadata": {},
   "outputs": [],
   "source": []
  },
  {
   "cell_type": "code",
   "execution_count": 154,
   "id": "4eb9927c-727a-42d9-a28f-d8b94b5f37d7",
   "metadata": {},
   "outputs": [],
   "source": [
    "##### 리스트 탐구 <심화>"
   ]
  },
  {
   "cell_type": "code",
   "execution_count": 155,
   "id": "84cf37a5-74a8-4bb8-b29a-3cbd606229c6",
   "metadata": {},
   "outputs": [
    {
     "name": "stdout",
     "output_type": "stream",
     "text": [
      "<class 'list'>\n",
      "[48, 48, 33, 95]\n"
     ]
    }
   ],
   "source": [
    "list_a = [48, 48, 33, 95]\n",
    "print(type(list_a))\n",
    "print(list_a)\n",
    "\n",
    "# List 클래스로 만들어진 객체\n",
    "# 대괄호 사용, 콤마(,)로 구분"
   ]
  },
  {
   "cell_type": "code",
   "execution_count": null,
   "id": "3ffeea35-0474-4965-b865-ed4e35dc6d7d",
   "metadata": {},
   "outputs": [],
   "source": []
  },
  {
   "cell_type": "code",
   "execution_count": 156,
   "id": "f988211f-8b46-4e19-8c34-f4014af55657",
   "metadata": {},
   "outputs": [
    {
     "name": "stdout",
     "output_type": "stream",
     "text": [
      "[]\n",
      "<class 'list'>\n"
     ]
    }
   ],
   "source": [
    "empty_list = []\n",
    "print(empty_list)\n",
    "print(type(empty_list))"
   ]
  },
  {
   "cell_type": "code",
   "execution_count": 158,
   "id": "a6cd66c4-62c7-4e40-aa82-a98a7ef1a89f",
   "metadata": {},
   "outputs": [
    {
     "name": "stdout",
     "output_type": "stream",
     "text": [
      "[]\n",
      "<class 'list'>\n"
     ]
    }
   ],
   "source": [
    "empty_list = list()\n",
    "print(empty_list)\n",
    "print(type(empty_list))"
   ]
  },
  {
   "cell_type": "code",
   "execution_count": null,
   "id": "3215b4e3-d415-4adb-aa4a-7192bbe9adee",
   "metadata": {},
   "outputs": [],
   "source": []
  },
  {
   "cell_type": "code",
   "execution_count": null,
   "id": "7d9f4241-bc09-4a47-bfe2-06a0aaf28fa7",
   "metadata": {},
   "outputs": [],
   "source": [
    "# 리스트 생성 방법 -> 문자열.split()"
   ]
  },
  {
   "cell_type": "code",
   "execution_count": 160,
   "id": "317e8b48-891a-4ccb-813b-5848c3963fa8",
   "metadata": {},
   "outputs": [
    {
     "name": "stdin",
     "output_type": "stream",
     "text": [
      "숫자를 띄어쓰기로 구분하여 여려개 입력해보세요. 52 36 32 19\n"
     ]
    },
    {
     "name": "stdout",
     "output_type": "stream",
     "text": [
      "<class 'list'>\n",
      "[52, 36, 32, 19]\n"
     ]
    }
   ],
   "source": [
    "list_b = list(map(int, input(\"숫자를 띄어쓰기로 구분하여 여려개 입력해보세요.\").split()))\n",
    "print(type(list_b))\n",
    "print(list_b)"
   ]
  },
  {
   "cell_type": "code",
   "execution_count": 161,
   "id": "2a7dad70-9045-4321-abba-aa18ebd79d1b",
   "metadata": {},
   "outputs": [],
   "source": [
    "# int(list())~~~ 로 치면 오류 발생"
   ]
  },
  {
   "cell_type": "code",
   "execution_count": null,
   "id": "4fea5cc3-7c25-44ec-ae9c-8b6b00325f8a",
   "metadata": {},
   "outputs": [],
   "source": []
  },
  {
   "cell_type": "code",
   "execution_count": 162,
   "id": "c7f9c0bd-420b-400f-a84e-a3c39ecf383c",
   "metadata": {},
   "outputs": [],
   "source": [
    "### List Comprehension"
   ]
  },
  {
   "cell_type": "code",
   "execution_count": 163,
   "id": "e09ba0b2-ebe8-4b27-bb3e-2bb087673d57",
   "metadata": {},
   "outputs": [],
   "source": [
    "# 대괄호 [ ]안에 표현식, for문 작성해서 사용하는 것\n",
    "# list_variable = [expression for 변수 in iterable]\n",
    "# 아래의 i ** 2가 expression\n",
    "# 아래의 list(range(10))이 iterable"
   ]
  },
  {
   "cell_type": "code",
   "execution_count": 164,
   "id": "6a74bc0c-c70a-43c0-b0a6-e4e7ff574be7",
   "metadata": {},
   "outputs": [
    {
     "data": {
      "text/plain": [
       "[0, 1, 4, 9, 16, 25, 36, 49, 64, 81]"
      ]
     },
     "execution_count": 164,
     "metadata": {},
     "output_type": "execute_result"
    }
   ],
   "source": [
    "# ex)\n",
    "[i ** 2 for i in list(range(10))]  # List: [0, 1, ..., 9]"
   ]
  },
  {
   "cell_type": "code",
   "execution_count": 165,
   "id": "48f35164-b974-41b1-b2e8-bf1c9d80ba9c",
   "metadata": {},
   "outputs": [
    {
     "name": "stdout",
     "output_type": "stream",
     "text": [
      "[1, 2, 3, 4, 5, 6, 7, 8, 9]\n"
     ]
    }
   ],
   "source": [
    "# ex2)\n",
    "list_c = [i for i in range(1, 10)]\n",
    "print(list_c)"
   ]
  },
  {
   "cell_type": "code",
   "execution_count": null,
   "id": "815cdb2b-99a5-44dd-a223-0c8e9bc2ab5f",
   "metadata": {},
   "outputs": [],
   "source": []
  },
  {
   "cell_type": "code",
   "execution_count": 166,
   "id": "42053579-0096-4c37-a2d6-3d08af2f78dd",
   "metadata": {},
   "outputs": [
    {
     "name": "stdout",
     "output_type": "stream",
     "text": [
      "<class 'list'>\n",
      "[1, 4, 9, 16, 25, 36, 49, 64, 81]\n"
     ]
    }
   ],
   "source": [
    "# Q1.\n",
    "prac_result = [i ** 2 for i in range(1, 10)]\n",
    "print(type(prac_result))\n",
    "print(prac_result)"
   ]
  },
  {
   "cell_type": "code",
   "execution_count": null,
   "id": "269793c3-c74a-4620-a1c8-d32726d8c4de",
   "metadata": {},
   "outputs": [],
   "source": []
  },
  {
   "cell_type": "code",
   "execution_count": 182,
   "id": "b5893a68-abb3-4380-83bf-a6cfb637df59",
   "metadata": {},
   "outputs": [
    {
     "name": "stdout",
     "output_type": "stream",
     "text": [
      "[1, 3, 5, 7, 9]\n"
     ]
    }
   ],
   "source": [
    "# Q2.\n",
    "prac_result2 = [2 * i - 1 for i in range(1, 6)]\n",
    "print(prac_result2)"
   ]
  },
  {
   "cell_type": "code",
   "execution_count": null,
   "id": "59079671-afa5-450a-a6a1-cbcaa2e5fdce",
   "metadata": {},
   "outputs": [],
   "source": []
  },
  {
   "cell_type": "code",
   "execution_count": 188,
   "id": "5cb5c115-3bee-4404-85b7-a92ceff207b5",
   "metadata": {},
   "outputs": [
    {
     "name": "stdout",
     "output_type": "stream",
     "text": [
      "['a', 'b', 'c', 'd', 'e', 'f', 'g', 'h', 'i', 'j', 'k', 'l', 'm', 'n', 'o', 'p', 'q', 'r', 's', 't', 'u', 'v', 'w', 'x', 'y', 'z']\n"
     ]
    }
   ],
   "source": [
    "# Q3.\n",
    "prac_result3 = [i for i in \"abcdefghijklmnopqrstuvwxyz\"]\n",
    "print(prac_result3)\n",
    "\n",
    "# 문자열 반복문? 문제 이해 X  -> 그냥 입력하셈"
   ]
  },
  {
   "cell_type": "code",
   "execution_count": null,
   "id": "ec601939-9d7a-40a9-99ca-2cc3675ef4e2",
   "metadata": {},
   "outputs": [],
   "source": []
  },
  {
   "cell_type": "code",
   "execution_count": 192,
   "id": "16f80ee2-a941-4103-92c0-ad8c0c4ec126",
   "metadata": {},
   "outputs": [
    {
     "name": "stdout",
     "output_type": "stream",
     "text": [
      "['2', '3', '4', '5', '6', '7', '8', '9', '10']\n"
     ]
    }
   ],
   "source": [
    "# Q4.\n",
    "prac_result4 = [str(i) for i in range(2, 11)]\n",
    "print(prac_result4)"
   ]
  },
  {
   "cell_type": "code",
   "execution_count": 195,
   "id": "03d12614-c4bc-4c8a-a369-810f026f1ead",
   "metadata": {},
   "outputs": [
    {
     "name": "stdout",
     "output_type": "stream",
     "text": [
      "['2', '3', '4', '5', '6', '7', '8', '9', '10', 'J', 'Q', 'K', 'A']\n",
      "['2', '3', '4', '5', '6', '7', '8', '9', '10', 'J', 'Q', 'K', 'A']\n"
     ]
    }
   ],
   "source": [
    "# Q4 다른 풀이\n",
    "prac_result4 = [str(i) for i in range(2, 11)] + [i for i in \"JQKA\"]\n",
    "print(prac_result4)\n",
    "\n",
    "prac_result4 = [str(i) for i in range(2, 11)]\n",
    "prac_result4.extend([i for i in \"JQKA\"])\n",
    "print(prac_result4)"
   ]
  },
  {
   "cell_type": "code",
   "execution_count": null,
   "id": "a83d155a-9cf6-4f07-9b99-a989935a2c3d",
   "metadata": {},
   "outputs": [],
   "source": []
  },
  {
   "cell_type": "code",
   "execution_count": 206,
   "id": "41210fd9-39cb-4575-8b80-c422adef0f58",
   "metadata": {},
   "outputs": [
    {
     "name": "stdout",
     "output_type": "stream",
     "text": [
      "['2', '3', '4', '5', '6', '7', '8', '9', '10', 'J', 'Q', 'K', 'A', 'J', 'Q', 'K', 'A', 'J', 'Q', 'K', 'A', 'J', 'Q', 'K', 'A']\n"
     ]
    }
   ],
   "source": [
    "# Q5.\n",
    "prac_result5 = [str(i) for i in range(2, 11)] + [i for i in \"JQKA\"] * 4\n",
    "print(prac_result5)\n",
    "\n",
    "# 제일 쉽다고? 왜? 어째서?"
   ]
  },
  {
   "cell_type": "code",
   "execution_count": 207,
   "id": "1c845695-6a0f-4c46-8ebc-4a652d2fbf49",
   "metadata": {},
   "outputs": [
    {
     "name": "stdout",
     "output_type": "stream",
     "text": [
      "[['2', '3', '4', '5', '6', '7', '8', '9', '10', 'J', 'Q', 'K', 'A'], ['2', '3', '4', '5', '6', '7', '8', '9', '10', 'J', 'Q', 'K', 'A'], ['2', '3', '4', '5', '6', '7', '8', '9', '10', 'J', 'Q', 'K', 'A'], ['2', '3', '4', '5', '6', '7', '8', '9', '10', 'J', 'Q', 'K', 'A']]\n"
     ]
    }
   ],
   "source": [
    "# Q5 정답\n",
    "prac_result5 = [prac_result4 for _ in range(4)]\n",
    "print(prac_result5)"
   ]
  },
  {
   "cell_type": "code",
   "execution_count": null,
   "id": "22c594ae-994e-447a-8ad6-b4514e484f1f",
   "metadata": {},
   "outputs": [],
   "source": []
  },
  {
   "cell_type": "code",
   "execution_count": 208,
   "id": "beabcb35-c4f2-463b-b88e-2fc6e7dd9d57",
   "metadata": {},
   "outputs": [
    {
     "name": "stdout",
     "output_type": "stream",
     "text": [
      "['two', '3', '4', '5', '6', '7', '8', '9', '10', 'J', 'Q', 'K', 'A']\n"
     ]
    }
   ],
   "source": [
    "prac_result4[0] = \"two\"\n",
    "print(prac_result4)\n",
    "\n",
    "# prac_result4의 첫 번재 원소를 수정함"
   ]
  },
  {
   "cell_type": "code",
   "execution_count": 209,
   "id": "f65413ea-07b9-41ce-9841-dcf6aa11095d",
   "metadata": {},
   "outputs": [
    {
     "name": "stdout",
     "output_type": "stream",
     "text": [
      "[['two', '3', '4', '5', '6', '7', '8', '9', '10', 'J', 'Q', 'K', 'A'], ['two', '3', '4', '5', '6', '7', '8', '9', '10', 'J', 'Q', 'K', 'A'], ['two', '3', '4', '5', '6', '7', '8', '9', '10', 'J', 'Q', 'K', 'A'], ['two', '3', '4', '5', '6', '7', '8', '9', '10', 'J', 'Q', 'K', 'A']]\n"
     ]
    }
   ],
   "source": [
    "print(prac_result5)\n",
    "\n",
    "# prac_result5를 따로 수정하지 않았음에도 prac_result5[0]도 자동으로 수정됨"
   ]
  },
  {
   "cell_type": "code",
   "execution_count": null,
   "id": "870f5c28-62c8-44a7-8aa1-b5ce7b3e5887",
   "metadata": {},
   "outputs": [],
   "source": []
  },
  {
   "cell_type": "code",
   "execution_count": 218,
   "id": "90b517ad-e171-43ae-b377-bd2d3c51963f",
   "metadata": {},
   "outputs": [],
   "source": [
    "# id()"
   ]
  },
  {
   "cell_type": "code",
   "execution_count": null,
   "id": "8ebd4dbd-7bca-45cf-95ce-36e1439ba515",
   "metadata": {},
   "outputs": [],
   "source": [
    "# 슬라이싱으로 반환받는 리스트 객체는 같은 객체이다!\n",
    "# 어떻게 알지?"
   ]
  },
  {
   "cell_type": "code",
   "execution_count": 211,
   "id": "b9a72eef-6121-4f29-ae70-7a735aae2b1f",
   "metadata": {},
   "outputs": [
    {
     "name": "stdout",
     "output_type": "stream",
     "text": [
      "prac_result4의 id: 2569708486464\n",
      "prac_result5[0] : 2569708486464\n",
      "prac_result5[1] : 2569708486464\n",
      "prac_result5[2] : 2569708486464\n",
      "prac_result5[3] : 2569708486464\n"
     ]
    }
   ],
   "source": [
    "print(\"prac_result4의 id:\", id(prac_result4))\n",
    "\n",
    "for i, v in enumerate(prac_result5):\n",
    "    print(\"prac_result5[\", i, \"] : \", id(v), sep = \"\")\n",
    "\n",
    "# 2569~~숫자가 모두 같음 -> 특정 범위에 대한 Slicing은 참조하는 객체가 같음\n",
    "# 즉, 참조되는 객체의 번지수가 같음\n",
    "# enumerate(): 각 index와 값 모두를 얻고 싶을 때(Unpacking) 사용"
   ]
  },
  {
   "cell_type": "code",
   "execution_count": null,
   "id": "c8b88d6a-50cc-4968-b0e2-6a6aea9fc9d0",
   "metadata": {},
   "outputs": [],
   "source": []
  },
  {
   "cell_type": "code",
   "execution_count": 212,
   "id": "8e572f78-8b65-4854-bbbe-04bd670e5d85",
   "metadata": {},
   "outputs": [
    {
     "data": {
      "text/plain": [
       "[0, 1, 2, 3, 4, 5, 6, 7, 8, 9]"
      ]
     },
     "execution_count": 212,
     "metadata": {},
     "output_type": "execute_result"
    }
   ],
   "source": [
    "test = [i for i in range(10)]\n",
    "test"
   ]
  },
  {
   "cell_type": "code",
   "execution_count": 214,
   "id": "704d241c-cd2e-4869-9a6e-feb74d583e7d",
   "metadata": {},
   "outputs": [
    {
     "data": {
      "text/plain": [
       "[0, 1, 2, 3, 4, 5, 6, 7, 8, 9]"
      ]
     },
     "execution_count": 214,
     "metadata": {},
     "output_type": "execute_result"
    }
   ],
   "source": [
    "test[:]"
   ]
  },
  {
   "cell_type": "code",
   "execution_count": 215,
   "id": "0fac1165-1103-4b92-bf74-94c47e00411b",
   "metadata": {},
   "outputs": [
    {
     "data": {
      "text/plain": [
       "list"
      ]
     },
     "execution_count": 215,
     "metadata": {},
     "output_type": "execute_result"
    }
   ],
   "source": [
    "type(test)"
   ]
  },
  {
   "cell_type": "code",
   "execution_count": 216,
   "id": "44cd6bc4-5633-42f7-8836-5e78d0f10f29",
   "metadata": {},
   "outputs": [
    {
     "data": {
      "text/plain": [
       "tuple"
      ]
     },
     "execution_count": 216,
     "metadata": {},
     "output_type": "execute_result"
    }
   ],
   "source": [
    "test2 = tuple(test)\n",
    "type(test2)"
   ]
  },
  {
   "cell_type": "code",
   "execution_count": 217,
   "id": "92f9690c-cf22-4f1e-b0ba-b59c34325671",
   "metadata": {},
   "outputs": [
    {
     "data": {
      "text/plain": [
       "[0, 1]"
      ]
     },
     "execution_count": 217,
     "metadata": {},
     "output_type": "execute_result"
    }
   ],
   "source": [
    "test[:2]"
   ]
  },
  {
   "cell_type": "code",
   "execution_count": null,
   "id": "b13e6061-b3b7-45c4-9948-7fbe998a2ec1",
   "metadata": {},
   "outputs": [],
   "source": []
  },
  {
   "cell_type": "code",
   "execution_count": 219,
   "id": "b7318e7e-cd49-485d-a7ba-692ce3b6db78",
   "metadata": {},
   "outputs": [
    {
     "name": "stdout",
     "output_type": "stream",
     "text": [
      "prac_result4의 id: 2569708486464\n",
      "prac_result6[0] : 2569709065856\n",
      "prac_result6[1] : 2569708435456\n",
      "prac_result6[2] : 2569708484736\n",
      "prac_result6[3] : 2569709119488\n"
     ]
    }
   ],
   "source": [
    "prac_result6 = [prac_result4[:] for _ in range(4)]  # 전체 범위에 대한 Slicing\n",
    "\n",
    "print(\"prac_result4의 id:\", id(prac_result4))\n",
    "for i, v in enumerate(prac_result6):\n",
    "    print(\"prac_result6[\", i, \"] : \", id(v), sep = \"\")"
   ]
  },
  {
   "cell_type": "markdown",
   "id": "264e40b6-8b60-4d8d-a8e6-f565d36ee33f",
   "metadata": {},
   "source": [
    "# 전체 범위에 대한 슬라이싱은 새로운 객체를 만들어 반환한다."
   ]
  },
  {
   "cell_type": "code",
   "execution_count": null,
   "id": "d07c2bd4-b235-421b-9614-dc289047bb0e",
   "metadata": {},
   "outputs": [],
   "source": []
  },
  {
   "cell_type": "code",
   "execution_count": 223,
   "id": "31215493-2dda-4533-8b75-d40eb6d7c562",
   "metadata": {},
   "outputs": [
    {
     "name": "stdout",
     "output_type": "stream",
     "text": [
      "2569709223360\n",
      "2569708436480\n",
      "False\n",
      "True\n"
     ]
    }
   ],
   "source": [
    "# Q6. - id()함수의 결과 비교\n",
    "old_list = list(range(10))\n",
    "new_list = old_list[:]\n",
    "\n",
    "print(id(old_list))\n",
    "print(id(new_list))\n",
    "# id 다름 = 두 객체는 다른 위치에 저장되어 있다!\n",
    "\n",
    "print(old_list is new_list)  # False\n",
    "print(old_list == new_list)  # True\n",
    "\n",
    "# 다른 건 무엇이 다를까?\n",
    "# 객체를 비교한다! (is)  -> 다름, False\n",
    "\n",
    "# 같은 건 어떤 점에서 같을까?\n",
    "# (객체는 달라도) 값에 대해서 비교한다! (==)  -> 같음, True"
   ]
  },
  {
   "cell_type": "code",
   "execution_count": null,
   "id": "6b7a011c-b9bc-4d04-b3e7-6aca9fbe95b7",
   "metadata": {},
   "outputs": [],
   "source": []
  },
  {
   "cell_type": "code",
   "execution_count": 224,
   "id": "0cc80a91-d1c2-4b92-8285-e58d0111f0f1",
   "metadata": {},
   "outputs": [
    {
     "name": "stdout",
     "output_type": "stream",
     "text": [
      "2569689931584\n",
      "2569689931584\n",
      "True\n",
      "True\n"
     ]
    }
   ],
   "source": [
    "# Tuple의 경우?\n",
    "# Tuple이 불변(immutable)의 성격을 가진 이유\n",
    "\n",
    "old_tuple = tuple(range(10))\n",
    "new_tuple = old_tuple[:]\n",
    "\n",
    "print(id(old_tuple))\n",
    "print(id(new_tuple))\n",
    "# id값 같음 = 두 객체는 같은 위치에 저장되어 있다!\n",
    "\n",
    "print(old_tuple is new_tuple)\n",
    "print(old_tuple == new_tuple)\n",
    "# 값에 대한 비교  -> 같음, True"
   ]
  },
  {
   "cell_type": "code",
   "execution_count": null,
   "id": "f016d24b-4f72-4e28-b919-bedfbd75df9b",
   "metadata": {},
   "outputs": [],
   "source": []
  },
  {
   "cell_type": "code",
   "execution_count": 227,
   "id": "e3955090-fbbb-4278-80b2-a5cb97ebbc01",
   "metadata": {},
   "outputs": [],
   "source": [
    "# list_xxx  -> 나중에 강의노트 보면서 정리"
   ]
  },
  {
   "cell_type": "code",
   "execution_count": null,
   "id": "4284acbb-9aa9-41a2-8a80-9c0812213469",
   "metadata": {},
   "outputs": [],
   "source": []
  },
  {
   "cell_type": "code",
   "execution_count": null,
   "id": "5ca6ac03-9ea8-4582-8444-92652ec8dc84",
   "metadata": {},
   "outputs": [],
   "source": [
    "# 얕은 복사(Shallow copy) ...??"
   ]
  },
  {
   "cell_type": "code",
   "execution_count": 1,
   "id": "1699bc47-bab6-4bfb-9bf2-b78c71720a74",
   "metadata": {},
   "outputs": [
    {
     "name": "stdout",
     "output_type": "stream",
     "text": [
      "1834569459008\n",
      "1834570332480\n",
      "False\n"
     ]
    }
   ],
   "source": [
    "list_g = list(range(10))\n",
    "list_h = list_g.copy()  # copy()는 별개의 메모리 주소를 만듦\n",
    "print(id(list_g))\n",
    "print(id(list_h))\n",
    "print(list_g is list_h)\n",
    "\n",
    "# list_g와 list_h는 서로 다른 메모리 주소를 가짐"
   ]
  },
  {
   "cell_type": "code",
   "execution_count": 2,
   "id": "70b79788-ba29-41d1-8817-97d21baed15d",
   "metadata": {},
   "outputs": [
    {
     "name": "stdout",
     "output_type": "stream",
     "text": [
      "[999, 1, 2, 3, 4, 5, 6, 7, 8, 9]\n",
      "[0, 1, 2, 3, 4, 5, 6, 7, 8, 9]\n"
     ]
    }
   ],
   "source": [
    "list_g[0] = 999\n",
    "print(list_g)  # 값 변화함\n",
    "print(list_h)  # 값 변하지 않음"
   ]
  },
  {
   "cell_type": "code",
   "execution_count": 3,
   "id": "2c474122-daa9-45d6-a963-144d9cb7eb55",
   "metadata": {},
   "outputs": [
    {
     "name": "stdout",
     "output_type": "stream",
     "text": [
      "[[0], [0], [0]]\n"
     ]
    }
   ],
   "source": [
    "list_i = [[0]] * 3\n",
    "print(list_i)\n",
    "# 리스트 안의 리스트, 3번 반복"
   ]
  },
  {
   "cell_type": "code",
   "execution_count": 4,
   "id": "5785bdc7-4657-46e1-89d5-468191cf01bb",
   "metadata": {},
   "outputs": [
    {
     "name": "stdout",
     "output_type": "stream",
     "text": [
      "[[999], [999], [999]]\n"
     ]
    }
   ],
   "source": [
    "list_i[0][0] = 999\n",
    "print(list_i)\n",
    "\n",
    "# 첫 번째 [0]만 바꾸고 싶었으나, 모든 요소의 값이 변경됨"
   ]
  },
  {
   "cell_type": "code",
   "execution_count": 5,
   "id": "a3addf8c-4d3a-42cd-82ed-52c53e1002fe",
   "metadata": {},
   "outputs": [
    {
     "data": {
      "text/plain": [
       "True"
      ]
     },
     "execution_count": 9,
     "metadata": {},
     "output_type": "execute_result"
    }
   ],
   "source": [
    "list_i[0][0] is list_i[1][0]"
   ]
  },
  {
   "cell_type": "code",
   "execution_count": 6,
   "id": "a594e31e-d7b2-4227-9bf7-bfb7697b6d2c",
   "metadata": {},
   "outputs": [
    {
     "data": {
      "text/plain": [
       "True"
      ]
     },
     "execution_count": 6,
     "metadata": {},
     "output_type": "execute_result"
    }
   ],
   "source": [
    "list_i[1][0] is list_i[2][0]"
   ]
  },
  {
   "cell_type": "code",
   "execution_count": 7,
   "id": "76dfd529-ae76-46d6-bcac-d2012d272077",
   "metadata": {},
   "outputs": [
    {
     "data": {
      "text/plain": [
       "True"
      ]
     },
     "execution_count": 7,
     "metadata": {},
     "output_type": "execute_result"
    }
   ],
   "source": [
    "list_i[0][0] is list_i[2][0]"
   ]
  },
  {
   "cell_type": "code",
   "execution_count": null,
   "id": "9fdf1dcc-fde3-44f4-9993-a924c95599c7",
   "metadata": {},
   "outputs": [],
   "source": [
    "# 리스트 내에 있는 모든 요소가 사실은 같은 객체였음"
   ]
  },
  {
   "cell_type": "code",
   "execution_count": 8,
   "id": "d20c8660-f7c8-439a-93aa-ab47f15c97e8",
   "metadata": {},
   "outputs": [
    {
     "data": {
      "text/plain": [
       "[[0], [0], [0]]"
      ]
     },
     "execution_count": 8,
     "metadata": {},
     "output_type": "execute_result"
    }
   ],
   "source": [
    "a = [[0]] * 3\n",
    "a"
   ]
  },
  {
   "cell_type": "code",
   "execution_count": 10,
   "id": "2802298b-1496-492a-83cf-129b945ca4fa",
   "metadata": {},
   "outputs": [
    {
     "name": "stdout",
     "output_type": "stream",
     "text": [
      "1834487605520\n",
      "1834487605520\n",
      "1834487605520\n"
     ]
    }
   ],
   "source": [
    "print(id(a[0][0]))\n",
    "print(id(a[1][0]))\n",
    "print(id(a[2][0]))"
   ]
  },
  {
   "cell_type": "code",
   "execution_count": 11,
   "id": "52a8bbd3-891b-489f-89fd-2e2f9dd6413d",
   "metadata": {},
   "outputs": [],
   "source": [
    "row = [0]\n",
    "a = []\n",
    "for i in range(3):\n",
    "    a.append(row)"
   ]
  },
  {
   "cell_type": "code",
   "execution_count": 12,
   "id": "926c462d-cb20-47d4-a4c6-9dae3be51bb2",
   "metadata": {},
   "outputs": [
    {
     "name": "stdout",
     "output_type": "stream",
     "text": [
      "1834487605520\n",
      "1834487605520\n",
      "1834487605520\n"
     ]
    }
   ],
   "source": [
    "print(id(a[0][0]))\n",
    "print(id(a[1][0]))\n",
    "print(id(a[2][0]))\n",
    "\n",
    "# 두 행 위의 결과와 같게 나옴\n",
    "# [주소 a]를 위 3개가 똑같이 참조 "
   ]
  },
  {
   "cell_type": "code",
   "execution_count": null,
   "id": "e9522126-ed69-4d24-b66d-ef6384d5ab54",
   "metadata": {},
   "outputs": [],
   "source": []
  },
  {
   "cell_type": "code",
   "execution_count": 13,
   "id": "fe80fc29-6182-45ba-a287-1894740804e5",
   "metadata": {},
   "outputs": [],
   "source": [
    "b = []\n",
    "for i in range(3):\n",
    "    row = [0]  # for문이 반복될 때마다 리스트를 새롭게 생성하는 변수\n",
    "    b.append(row)"
   ]
  },
  {
   "cell_type": "code",
   "execution_count": 15,
   "id": "937247ca-5b55-486b-977e-389f4fbb0eaa",
   "metadata": {},
   "outputs": [
    {
     "name": "stdout",
     "output_type": "stream",
     "text": [
      "1834570333312\n",
      "1834570273408\n",
      "1834570332672\n"
     ]
    }
   ],
   "source": [
    "print(id(b[0]))\n",
    "print(id(b[1]))\n",
    "print(id(b[2]))\n",
    "\n",
    "# 3개 결과물 모두가 서로 다른 리스트를 가짐"
   ]
  },
  {
   "cell_type": "code",
   "execution_count": null,
   "id": "f60bd073-1e84-418d-aec5-24db8edffa56",
   "metadata": {},
   "outputs": [],
   "source": []
  },
  {
   "cell_type": "code",
   "execution_count": null,
   "id": "de3ca951-051b-40dc-a45b-a398f2c3ef86",
   "metadata": {},
   "outputs": [],
   "source": [
    "# 256보다 크면 숫자가 같더라도 e와 f는 다르다고 찍힘"
   ]
  },
  {
   "cell_type": "code",
   "execution_count": 16,
   "id": "e9c105ad-93ff-4941-8e9c-8075a44c655b",
   "metadata": {},
   "outputs": [
    {
     "data": {
      "text/plain": [
       "True"
      ]
     },
     "execution_count": 16,
     "metadata": {},
     "output_type": "execute_result"
    }
   ],
   "source": [
    "e = 256\n",
    "f = 256\n",
    "e is f"
   ]
  },
  {
   "cell_type": "code",
   "execution_count": 18,
   "id": "ce33dc61-ff60-4580-83f3-f1e9a1594832",
   "metadata": {},
   "outputs": [
    {
     "data": {
      "text/plain": [
       "False"
      ]
     },
     "execution_count": 18,
     "metadata": {},
     "output_type": "execute_result"
    }
   ],
   "source": [
    "g = 257\n",
    "h = 257\n",
    "g is h"
   ]
  },
  {
   "cell_type": "code",
   "execution_count": null,
   "id": "0404f564-a6f7-4ba6-b8be-b7ed537265cd",
   "metadata": {},
   "outputs": [],
   "source": []
  },
  {
   "cell_type": "code",
   "execution_count": null,
   "id": "fe0d7028-9885-430b-9796-a79eb9c50119",
   "metadata": {},
   "outputs": [],
   "source": [
    "# 슬라이싱으로 복사"
   ]
  },
  {
   "cell_type": "code",
   "execution_count": 20,
   "id": "dd33a5cc-b357-44dd-86b4-a1d447429a66",
   "metadata": {},
   "outputs": [
    {
     "name": "stdout",
     "output_type": "stream",
     "text": [
      "True\n"
     ]
    }
   ],
   "source": [
    "list_j = [[1, 2], [3, 4]]\n",
    "list_k = list_j[:]\n",
    "print(list_k[0] is list_j[0])"
   ]
  },
  {
   "cell_type": "code",
   "execution_count": 21,
   "id": "5fef861c-3403-455f-9f4a-295b89423683",
   "metadata": {},
   "outputs": [
    {
     "name": "stdout",
     "output_type": "stream",
     "text": [
      "[[1, 4], [3, 4]]\n",
      "[[1, 4], [3, 4]]\n"
     ]
    }
   ],
   "source": [
    "list_j[0][1] = 2 ** 2\n",
    "print(list_j)\n",
    "print(list_k)"
   ]
  },
  {
   "cell_type": "code",
   "execution_count": null,
   "id": "3f75f344-6886-41a9-89d2-4c793b3d9fb6",
   "metadata": {},
   "outputs": [],
   "source": []
  },
  {
   "cell_type": "code",
   "execution_count": null,
   "id": "a6d9a426-495a-41fc-b942-65a2d7f34022",
   "metadata": {},
   "outputs": [],
   "source": [
    "# copy() 메서드로 복사"
   ]
  },
  {
   "cell_type": "code",
   "execution_count": 22,
   "id": "166b31f7-6566-4db7-b2b8-0e3d87d9c18e",
   "metadata": {},
   "outputs": [
    {
     "name": "stdout",
     "output_type": "stream",
     "text": [
      "True\n"
     ]
    }
   ],
   "source": [
    "list_l = [[5, 6], [7, 8]]\n",
    "list_m = list_l.copy()\n",
    "print(list_l[0] is list_m[0])"
   ]
  },
  {
   "cell_type": "code",
   "execution_count": 23,
   "id": "f4c62468-ffcc-4d94-9f31-fa78e77f127c",
   "metadata": {},
   "outputs": [
    {
     "name": "stdout",
     "output_type": "stream",
     "text": [
      "[[5, 999], [7, 8]]\n",
      "[[5, 999], [7, 8]]\n"
     ]
    }
   ],
   "source": [
    "list_l[0][1] = 999\n",
    "print(list_l)\n",
    "print(list_m)"
   ]
  },
  {
   "cell_type": "code",
   "execution_count": null,
   "id": "67bae450-5160-458c-b530-efbbe172aedd",
   "metadata": {},
   "outputs": [],
   "source": []
  },
  {
   "cell_type": "code",
   "execution_count": null,
   "id": "0bcc7f67-2d16-4127-8a6f-51f36e61bdbe",
   "metadata": {},
   "outputs": [],
   "source": [
    "##### 깊은 복사"
   ]
  },
  {
   "cell_type": "code",
   "execution_count": 24,
   "id": "1bd75fa7-8daa-40a6-a38b-ef0524b4f4d0",
   "metadata": {},
   "outputs": [
    {
     "name": "stdout",
     "output_type": "stream",
     "text": [
      "False\n"
     ]
    }
   ],
   "source": [
    "import copy\n",
    "list_n = [[9, 10], [11, 12]]\n",
    "list_o = copy.deepcopy(list_n)\n",
    "print(list_n[0] is list_o)"
   ]
  },
  {
   "cell_type": "code",
   "execution_count": 25,
   "id": "f1e55cb8-25fe-4ff7-ae35-bcf2939bb69f",
   "metadata": {},
   "outputs": [
    {
     "name": "stdout",
     "output_type": "stream",
     "text": [
      "[[9, 999], [11, 12]]\n",
      "[[9, 10], [11, 12]]\n"
     ]
    }
   ],
   "source": [
    "list_n[0][1] = 999\n",
    "print(list_n)  # 변경\n",
    "print(list_o)  # 변경 X"
   ]
  },
  {
   "cell_type": "code",
   "execution_count": null,
   "id": "b41ee827-4975-47f0-bdd5-b6d1936ea84a",
   "metadata": {},
   "outputs": [],
   "source": [
    "# 다음 주 이어서..."
   ]
  }
 ],
 "metadata": {
  "kernelspec": {
   "display_name": "Python 3 (ipykernel)",
   "language": "python",
   "name": "python3"
  },
  "language_info": {
   "codemirror_mode": {
    "name": "ipython",
    "version": 3
   },
   "file_extension": ".py",
   "mimetype": "text/x-python",
   "name": "python",
   "nbconvert_exporter": "python",
   "pygments_lexer": "ipython3",
   "version": "3.9.13"
  }
 },
 "nbformat": 4,
 "nbformat_minor": 5
}
