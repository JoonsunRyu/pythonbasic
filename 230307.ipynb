{
 "cells": [
  {
   "cell_type": "code",
   "execution_count": 1,
   "id": "a543044b-9aa0-42aa-8131-96df486d23f6",
   "metadata": {},
   "outputs": [],
   "source": [
    "##### Series_2차시"
   ]
  },
  {
   "cell_type": "code",
   "execution_count": 1,
   "id": "71db4fff-7614-4052-a72d-a3f9254217f6",
   "metadata": {},
   "outputs": [],
   "source": [
    "import pandas as pd\n",
    "import numpy as np"
   ]
  },
  {
   "cell_type": "code",
   "execution_count": 2,
   "id": "e5d2eac2-8fc8-4665-bd72-d08dfd625c40",
   "metadata": {},
   "outputs": [
    {
     "data": {
      "text/plain": [
       "0        0\n",
       "1        1\n",
       "2        2\n",
       "3        3\n",
       "4        4\n",
       "      ... \n",
       "495    495\n",
       "496    496\n",
       "497    497\n",
       "498    498\n",
       "499    499\n",
       "Length: 500, dtype: int64"
      ]
     },
     "execution_count": 2,
     "metadata": {},
     "output_type": "execute_result"
    }
   ],
   "source": [
    "nums = pd.Series(range(500))\n",
    "nums"
   ]
  },
  {
   "cell_type": "code",
   "execution_count": 3,
   "id": "f30ae9a0-fece-4988-a431-2c230effcd6a",
   "metadata": {},
   "outputs": [
    {
     "data": {
      "text/plain": [
       "0    0\n",
       "1    1\n",
       "2    2\n",
       "3    3\n",
       "4    4\n",
       "dtype: int64"
      ]
     },
     "execution_count": 3,
     "metadata": {},
     "output_type": "execute_result"
    }
   ],
   "source": [
    "nums.head()  # Default = 5"
   ]
  },
  {
   "cell_type": "code",
   "execution_count": 4,
   "id": "ca98608d-b554-49b5-b0ce-df2446fba37d",
   "metadata": {},
   "outputs": [
    {
     "data": {
      "text/plain": [
       "0    0\n",
       "1    1\n",
       "2    2\n",
       "3    3\n",
       "4    4\n",
       "5    5\n",
       "6    6\n",
       "7    7\n",
       "8    8\n",
       "9    9\n",
       "dtype: int64"
      ]
     },
     "execution_count": 4,
     "metadata": {},
     "output_type": "execute_result"
    }
   ],
   "source": [
    "nums.head(10)"
   ]
  },
  {
   "cell_type": "code",
   "execution_count": 5,
   "id": "a658f762-928b-4a9a-8226-78020b5b308f",
   "metadata": {},
   "outputs": [
    {
     "data": {
      "text/plain": [
       "495    495\n",
       "496    496\n",
       "497    497\n",
       "498    498\n",
       "499    499\n",
       "dtype: int64"
      ]
     },
     "execution_count": 5,
     "metadata": {},
     "output_type": "execute_result"
    }
   ],
   "source": [
    "nums.tail()  # Default = 5"
   ]
  },
  {
   "cell_type": "code",
   "execution_count": 6,
   "id": "2aec4874-5f5c-47d7-8cc7-8d6103c086e4",
   "metadata": {},
   "outputs": [
    {
     "data": {
      "text/plain": [
       "490    490\n",
       "491    491\n",
       "492    492\n",
       "493    493\n",
       "494    494\n",
       "495    495\n",
       "496    496\n",
       "497    497\n",
       "498    498\n",
       "499    499\n",
       "dtype: int64"
      ]
     },
     "execution_count": 6,
     "metadata": {},
     "output_type": "execute_result"
    }
   ],
   "source": [
    "nums.tail(10)"
   ]
  },
  {
   "cell_type": "code",
   "execution_count": null,
   "id": "626349d4-781b-4c8d-b048-ff6f25887b46",
   "metadata": {},
   "outputs": [],
   "source": []
  },
  {
   "cell_type": "code",
   "execution_count": 7,
   "id": "79debbbb-926b-4f4c-b2f6-e61a204d9ee8",
   "metadata": {},
   "outputs": [
    {
     "data": {
      "text/plain": [
       "0    1.0\n",
       "1    2.0\n",
       "2    NaN\n",
       "3    4.0\n",
       "4    5.0\n",
       "dtype: float64"
      ]
     },
     "execution_count": 7,
     "metadata": {},
     "output_type": "execute_result"
    }
   ],
   "source": [
    "nums = pd.Series([1, 2, np.nan, 4, 5])\n",
    "nums"
   ]
  },
  {
   "cell_type": "code",
   "execution_count": 8,
   "id": "b9dfb95c-38bf-4935-a046-0ebf7e66f17f",
   "metadata": {},
   "outputs": [
    {
     "data": {
      "text/plain": [
       "0    h\n",
       "1    e\n",
       "2    l\n",
       "3    l\n",
       "4    o\n",
       "dtype: object"
      ]
     },
     "execution_count": 8,
     "metadata": {},
     "output_type": "execute_result"
    }
   ],
   "source": [
    "hello = pd.Series(list(\"hello\"))  # List 객체 ['h', 'e', 'l', 'l', 'o']를 Series로\n",
    "hello"
   ]
  },
  {
   "cell_type": "code",
   "execution_count": 9,
   "id": "d1973d2e-1c38-4ba2-842c-0501deb88b88",
   "metadata": {},
   "outputs": [
    {
     "data": {
      "text/plain": [
       "4"
      ]
     },
     "execution_count": 9,
     "metadata": {},
     "output_type": "execute_result"
    }
   ],
   "source": [
    "hello.nunique()  # 원소의 고유값 출력 (= 중복 없이 개수 셈)"
   ]
  },
  {
   "cell_type": "code",
   "execution_count": 10,
   "id": "a13d2cf4-f8da-48b9-b327-314375f96fe2",
   "metadata": {},
   "outputs": [
    {
     "data": {
      "text/plain": [
       "4"
      ]
     },
     "execution_count": 10,
     "metadata": {},
     "output_type": "execute_result"
    }
   ],
   "source": [
    "nums.count()  # NaN 제외한 길이 출력"
   ]
  },
  {
   "cell_type": "code",
   "execution_count": 11,
   "id": "5b3b1aec-6dd6-4e7e-9f34-d46f83c71f1e",
   "metadata": {},
   "outputs": [
    {
     "data": {
      "text/plain": [
       "5"
      ]
     },
     "execution_count": 11,
     "metadata": {},
     "output_type": "execute_result"
    }
   ],
   "source": [
    "len(nums)  # 전체 길이 출력"
   ]
  },
  {
   "cell_type": "code",
   "execution_count": null,
   "id": "586190bb-70ff-4604-861a-bd2aaaf3a2d8",
   "metadata": {},
   "outputs": [],
   "source": []
  },
  {
   "cell_type": "code",
   "execution_count": null,
   "id": "b9991104-ada4-40cf-86ae-1ac7b6f11603",
   "metadata": {},
   "outputs": [],
   "source": [
    "## Series 수학연산"
   ]
  },
  {
   "cell_type": "code",
   "execution_count": 12,
   "id": "2c278858-03d6-4533-be69-ced896bf12c9",
   "metadata": {},
   "outputs": [
    {
     "data": {
      "text/plain": [
       "12.0"
      ]
     },
     "execution_count": 12,
     "metadata": {},
     "output_type": "execute_result"
    }
   ],
   "source": [
    "nums.sum()"
   ]
  },
  {
   "cell_type": "code",
   "execution_count": 13,
   "id": "25f8a225-4c35-4c97-933a-f59feff53e37",
   "metadata": {},
   "outputs": [
    {
     "data": {
      "text/plain": [
       "nan"
      ]
     },
     "execution_count": 13,
     "metadata": {},
     "output_type": "execute_result"
    }
   ],
   "source": [
    "nums.sum(skipna = False)"
   ]
  },
  {
   "cell_type": "code",
   "execution_count": 14,
   "id": "e70d9621-c95e-4b06-9450-37b67325a12f",
   "metadata": {},
   "outputs": [
    {
     "data": {
      "text/plain": [
       "3.0"
      ]
     },
     "execution_count": 14,
     "metadata": {},
     "output_type": "execute_result"
    }
   ],
   "source": [
    "nums.mean()"
   ]
  },
  {
   "cell_type": "code",
   "execution_count": 15,
   "id": "110e1766-433d-45d5-9473-c202d10caeb5",
   "metadata": {},
   "outputs": [
    {
     "data": {
      "text/plain": [
       "3.0"
      ]
     },
     "execution_count": 15,
     "metadata": {},
     "output_type": "execute_result"
    }
   ],
   "source": [
    "nums.median()"
   ]
  },
  {
   "cell_type": "code",
   "execution_count": 16,
   "id": "1e540d00-2115-415a-8eef-873f4134940c",
   "metadata": {},
   "outputs": [
    {
     "data": {
      "text/plain": [
       "1.8257418583505538"
      ]
     },
     "execution_count": 16,
     "metadata": {},
     "output_type": "execute_result"
    }
   ],
   "source": [
    "nums.std()"
   ]
  },
  {
   "cell_type": "code",
   "execution_count": 17,
   "id": "b7848701-5b87-489d-880e-15646a1f2b57",
   "metadata": {},
   "outputs": [
    {
     "data": {
      "text/plain": [
       "5.0"
      ]
     },
     "execution_count": 17,
     "metadata": {},
     "output_type": "execute_result"
    }
   ],
   "source": [
    "nums.max()"
   ]
  },
  {
   "cell_type": "code",
   "execution_count": 18,
   "id": "9491ce18-34cc-422c-a6f5-76eef270d302",
   "metadata": {},
   "outputs": [
    {
     "data": {
      "text/plain": [
       "1.0"
      ]
     },
     "execution_count": 18,
     "metadata": {},
     "output_type": "execute_result"
    }
   ],
   "source": [
    "nums.min()"
   ]
  },
  {
   "cell_type": "code",
   "execution_count": 19,
   "id": "dffbe068-ef0f-4364-aa88-a609c775ee60",
   "metadata": {},
   "outputs": [
    {
     "data": {
      "text/plain": [
       "0    A\n",
       "1    a\n",
       "2    B\n",
       "3    b\n",
       "4    C\n",
       "5    c\n",
       "dtype: object"
      ]
     },
     "execution_count": 19,
     "metadata": {},
     "output_type": "execute_result"
    }
   ],
   "source": [
    "somechar = pd.Series(list(\"AaBbCc\"))\n",
    "somechar"
   ]
  },
  {
   "cell_type": "code",
   "execution_count": null,
   "id": "85597616-5cb6-4327-b5a2-bedd9fbed08d",
   "metadata": {},
   "outputs": [],
   "source": [
    "## ord() - Unicode방식 숫자"
   ]
  },
  {
   "cell_type": "code",
   "execution_count": 20,
   "id": "607f0b99-d79d-4eca-bb27-a9749f5b127e",
   "metadata": {},
   "outputs": [
    {
     "data": {
      "text/plain": [
       "97"
      ]
     },
     "execution_count": 20,
     "metadata": {},
     "output_type": "execute_result"
    }
   ],
   "source": [
    "ord('a')"
   ]
  },
  {
   "cell_type": "code",
   "execution_count": 21,
   "id": "3d512811-327d-46ec-a620-3265c1b88a84",
   "metadata": {},
   "outputs": [
    {
     "data": {
      "text/plain": [
       "65"
      ]
     },
     "execution_count": 21,
     "metadata": {},
     "output_type": "execute_result"
    }
   ],
   "source": [
    "ord('A')"
   ]
  },
  {
   "cell_type": "code",
   "execution_count": 22,
   "id": "b4846800-e602-4889-9f41-35cbb66d9ab9",
   "metadata": {},
   "outputs": [
    {
     "data": {
      "text/plain": [
       "'c'"
      ]
     },
     "execution_count": 22,
     "metadata": {},
     "output_type": "execute_result"
    }
   ],
   "source": [
    "somechar.max()"
   ]
  },
  {
   "cell_type": "code",
   "execution_count": 23,
   "id": "46fb1906-ad0d-4bda-a375-c53714b50dfa",
   "metadata": {},
   "outputs": [
    {
     "data": {
      "text/plain": [
       "'A'"
      ]
     },
     "execution_count": 23,
     "metadata": {},
     "output_type": "execute_result"
    }
   ],
   "source": [
    "somechar.min()"
   ]
  },
  {
   "cell_type": "code",
   "execution_count": 26,
   "id": "b28c0ccc-569d-4fbc-9f0c-78641d03e1c5",
   "metadata": {},
   "outputs": [],
   "source": [
    "# 문자, 한글 등도 유니코드 숫자값을 가지고 있음\n",
    "# max(), min()값이 구해지는 이유"
   ]
  },
  {
   "cell_type": "code",
   "execution_count": null,
   "id": "6ff1c455-d3ea-412b-9df1-75f03f6cc141",
   "metadata": {},
   "outputs": [],
   "source": []
  },
  {
   "cell_type": "code",
   "execution_count": 24,
   "id": "bf900f6a-6d4c-4ed7-ba72-f4fbfabec13d",
   "metadata": {},
   "outputs": [
    {
     "data": {
      "text/plain": [
       "count    4.000000\n",
       "mean     3.000000\n",
       "std      1.825742\n",
       "min      1.000000\n",
       "25%      1.750000\n",
       "50%      3.000000\n",
       "75%      4.250000\n",
       "max      5.000000\n",
       "dtype: float64"
      ]
     },
     "execution_count": 24,
     "metadata": {},
     "output_type": "execute_result"
    }
   ],
   "source": [
    "nums.describe()  # 기술통계(수학연산)"
   ]
  },
  {
   "cell_type": "code",
   "execution_count": 25,
   "id": "bfcb859a-a2a3-42c7-a0be-6b9ee4be6836",
   "metadata": {},
   "outputs": [
    {
     "data": {
      "text/plain": [
       "count     5\n",
       "unique    4\n",
       "top       l\n",
       "freq      2\n",
       "dtype: object"
      ]
     },
     "execution_count": 25,
     "metadata": {},
     "output_type": "execute_result"
    }
   ],
   "source": [
    "hello.describe()  # 빈도"
   ]
  },
  {
   "cell_type": "code",
   "execution_count": 29,
   "id": "fd9106b2-6a08-4ef2-bbdf-6f1484f9a58c",
   "metadata": {},
   "outputs": [],
   "source": [
    "# 문자열 describe와 숫자형 describe와 출력 내용이 다름"
   ]
  },
  {
   "cell_type": "code",
   "execution_count": null,
   "id": "80d7c4f2-557b-4e53-b43d-0f14e106a0f1",
   "metadata": {},
   "outputs": [],
   "source": []
  },
  {
   "cell_type": "code",
   "execution_count": null,
   "id": "26ef3cd8-b0a8-4945-82a2-4acfa9f1dfb5",
   "metadata": {},
   "outputs": [],
   "source": [
    "## Series를 다른 자료형으로"
   ]
  },
  {
   "cell_type": "code",
   "execution_count": 26,
   "id": "3e74307c-0941-421f-b973-9c0226961443",
   "metadata": {},
   "outputs": [
    {
     "data": {
      "text/plain": [
       "0    1.0\n",
       "1    2.0\n",
       "2    NaN\n",
       "3    4.0\n",
       "4    5.0\n",
       "dtype: float64"
      ]
     },
     "execution_count": 26,
     "metadata": {},
     "output_type": "execute_result"
    }
   ],
   "source": [
    "nums"
   ]
  },
  {
   "cell_type": "code",
   "execution_count": 27,
   "id": "c0a230f0-9a0a-434d-9c04-6d6d45827001",
   "metadata": {},
   "outputs": [
    {
     "data": {
      "text/plain": [
       "[1.0, 2.0, nan, 4.0, 5.0]"
      ]
     },
     "execution_count": 27,
     "metadata": {},
     "output_type": "execute_result"
    }
   ],
   "source": [
    "list(nums)  # Series -> List"
   ]
  },
  {
   "cell_type": "code",
   "execution_count": 28,
   "id": "bfc786d8-8bbd-4c34-b9bc-97fcd4305027",
   "metadata": {},
   "outputs": [
    {
     "data": {
      "text/plain": [
       "{0: 1.0, 1: 2.0, 2: nan, 3: 4.0, 4: 5.0}"
      ]
     },
     "execution_count": 28,
     "metadata": {},
     "output_type": "execute_result"
    }
   ],
   "source": [
    "dict(nums)  # Series -> Dictionary"
   ]
  },
  {
   "cell_type": "code",
   "execution_count": null,
   "id": "ce2697f3-ccc3-40a3-b7bf-9638337f3715",
   "metadata": {},
   "outputs": [],
   "source": []
  },
  {
   "cell_type": "code",
   "execution_count": 29,
   "id": "b79cab08-edd0-4cb0-8564-a6f91e9e666b",
   "metadata": {},
   "outputs": [
    {
     "data": {
      "text/plain": [
       "Batman             100\n",
       "Superman           120\n",
       "Spider-Man          90\n",
       "Iron Man            95\n",
       "Captain America    110\n",
       "Wonder Woman       120\n",
       "dtype: int64"
      ]
     },
     "execution_count": 29,
     "metadata": {},
     "output_type": "execute_result"
    }
   ],
   "source": [
    "# Q1. Series 생성\n",
    "superheros = [\"Batman\", \"Superman\", \"Spider-Man\", \"Iron Man\", \"Captain America\", \"Wonder Woman\"]\n",
    "strength_levels = (100, 120, 90, 95, 110, 120)\n",
    "\n",
    "heros = pd.Series(data = strength_levels, index = superheros)\n",
    "heros"
   ]
  },
  {
   "cell_type": "code",
   "execution_count": null,
   "id": "17a37859-06c7-4648-b1c1-4d3fd3f8767c",
   "metadata": {},
   "outputs": [],
   "source": []
  },
  {
   "cell_type": "code",
   "execution_count": 30,
   "id": "28bbb406-b4f0-4d64-8670-19c0282a05df",
   "metadata": {},
   "outputs": [
    {
     "data": {
      "text/plain": [
       "Spider-Man          90\n",
       "Iron Man            95\n",
       "Captain America    110\n",
       "Wonder Woman       120\n",
       "dtype: int64"
      ]
     },
     "execution_count": 30,
     "metadata": {},
     "output_type": "execute_result"
    }
   ],
   "source": [
    "# Q2. 마지막 4개 데이터 추출\n",
    "heros.tail(4)"
   ]
  },
  {
   "cell_type": "code",
   "execution_count": null,
   "id": "cf4f5957-fc10-436f-853d-6af01badad48",
   "metadata": {},
   "outputs": [],
   "source": []
  },
  {
   "cell_type": "code",
   "execution_count": 31,
   "id": "e4779037-a5c4-4927-a270-9e16d731619c",
   "metadata": {},
   "outputs": [
    {
     "data": {
      "text/plain": [
       "6"
      ]
     },
     "execution_count": 31,
     "metadata": {},
     "output_type": "execute_result"
    }
   ],
   "source": [
    "# Q3. Series의 고유한 값 개수\n",
    "heros.count()"
   ]
  },
  {
   "cell_type": "code",
   "execution_count": null,
   "id": "45ea6788-a4e7-4500-8a13-05a88ce5e303",
   "metadata": {},
   "outputs": [],
   "source": []
  },
  {
   "cell_type": "code",
   "execution_count": 32,
   "id": "970d5a60-741e-4c3c-b45e-f2e47f3d4a16",
   "metadata": {},
   "outputs": [
    {
     "name": "stdout",
     "output_type": "stream",
     "text": [
      "105.83333333333333\n",
      "105.0\n",
      "120\n",
      "90\n"
     ]
    }
   ],
   "source": [
    "# Q4.평균, 중앙값, 최대/최솟값 각각 구하기\n",
    "print(heros.mean())\n",
    "print(heros.median())\n",
    "print(heros.max())\n",
    "print(heros.min())"
   ]
  },
  {
   "cell_type": "code",
   "execution_count": 33,
   "id": "68961d83-12e0-48bb-bd81-7ae4e76f27be",
   "metadata": {},
   "outputs": [
    {
     "data": {
      "text/plain": [
       "(105.83333333333333, 105.0, 120, 90)"
      ]
     },
     "execution_count": 33,
     "metadata": {},
     "output_type": "execute_result"
    }
   ],
   "source": [
    "# 다른 입력방법\n",
    "heros.mean(), heros.median(), heros.max(), heros.min()"
   ]
  },
  {
   "cell_type": "code",
   "execution_count": null,
   "id": "e5458e5b-d700-4558-961f-9f78970666cf",
   "metadata": {},
   "outputs": [],
   "source": []
  },
  {
   "cell_type": "code",
   "execution_count": 34,
   "id": "6d59ce6c-1feb-47b4-a092-5a9e87ee47d6",
   "metadata": {},
   "outputs": [
    {
     "data": {
      "text/plain": [
       "{'Batman': 100,\n",
       " 'Superman': 120,\n",
       " 'Spider-Man': 90,\n",
       " 'Iron Man': 95,\n",
       " 'Captain America': 110,\n",
       " 'Wonder Woman': 120}"
      ]
     },
     "execution_count": 34,
     "metadata": {},
     "output_type": "execute_result"
    }
   ],
   "source": [
    "# Q5. Series -> Dictionary\n",
    "heros_dic = dict(heros)\n",
    "heros_dic"
   ]
  },
  {
   "cell_type": "code",
   "execution_count": null,
   "id": "5ab4921d-9ebf-4363-98de-059b2cf7e5e8",
   "metadata": {},
   "outputs": [],
   "source": []
  },
  {
   "cell_type": "code",
   "execution_count": null,
   "id": "a39165ab-41f7-45f3-aa39-5dfb5b55284d",
   "metadata": {},
   "outputs": [],
   "source": []
  },
  {
   "cell_type": "code",
   "execution_count": 44,
   "id": "edfba7cd-7662-4aa2-8e68-7f39c58e3e92",
   "metadata": {},
   "outputs": [],
   "source": [
    "##### Pandas 데이터 입출력 - Series"
   ]
  },
  {
   "cell_type": "code",
   "execution_count": null,
   "id": "d294d499-46c1-4854-b1ba-b0ca9145fd7e",
   "metadata": {},
   "outputs": [],
   "source": [
    "## CSV파일 이용"
   ]
  },
  {
   "cell_type": "code",
   "execution_count": 35,
   "id": "9e3ae54f-a4c9-4f87-81cc-0d7560f1a0e3",
   "metadata": {},
   "outputs": [],
   "source": [
    "import pandas as pd\n",
    "import numpy as np"
   ]
  },
  {
   "cell_type": "code",
   "execution_count": null,
   "id": "2b9ed3eb-95f3-4dda-ad21-965305d6a707",
   "metadata": {},
   "outputs": [],
   "source": [
    "# Series로 읽어오기"
   ]
  },
  {
   "cell_type": "code",
   "execution_count": 36,
   "id": "25560f98-e681-42f3-90bc-3ca5be8e813b",
   "metadata": {},
   "outputs": [
    {
     "name": "stderr",
     "output_type": "stream",
     "text": [
      "C:\\Users\\Playdata\\AppData\\Local\\Temp\\ipykernel_2088\\4018176064.py:1: FutureWarning: The squeeze argument has been deprecated and will be removed in a future version. Append .squeeze(\"columns\") to the call to squeeze.\n",
      "\n",
      "\n",
      "  pokemons = pd.read_csv(\"datas/pokemon.csv\", index_col = \"Pokemon\", squeeze = True)\n"
     ]
    },
    {
     "data": {
      "text/plain": [
       "Pokemon\n",
       "Bulbasaur      Grass / Poison\n",
       "Ivysaur        Grass / Poison\n",
       "Venusaur       Grass / Poison\n",
       "Charmander               Fire\n",
       "Charmeleon               Fire\n",
       "                    ...      \n",
       "Stakataka        Rock / Steel\n",
       "Blacephalon      Fire / Ghost\n",
       "Zeraora              Electric\n",
       "Meltan                  Steel\n",
       "Melmetal                Steel\n",
       "Name: Type, Length: 809, dtype: object"
      ]
     },
     "execution_count": 36,
     "metadata": {},
     "output_type": "execute_result"
    }
   ],
   "source": [
    "pokemons = pd.read_csv(\"datas/pokemon.csv\", index_col = \"Pokemon\", squeeze = True)\n",
    "pokemons"
   ]
  },
  {
   "cell_type": "code",
   "execution_count": null,
   "id": "cc588ecd-eab3-4e09-8d46-b896bb6b22bf",
   "metadata": {},
   "outputs": [],
   "source": []
  },
  {
   "cell_type": "code",
   "execution_count": 37,
   "id": "01abe9f6-70f1-43e8-bf78-f3a1ff77a75c",
   "metadata": {},
   "outputs": [
    {
     "data": {
      "text/plain": [
       "pandas.core.series.Series"
      ]
     },
     "execution_count": 37,
     "metadata": {},
     "output_type": "execute_result"
    }
   ],
   "source": [
    "type(pokemons)"
   ]
  },
  {
   "cell_type": "code",
   "execution_count": 38,
   "id": "fe917317-533f-46e7-a314-931ea079de39",
   "metadata": {},
   "outputs": [
    {
     "data": {
      "text/plain": [
       "count        809\n",
       "unique       159\n",
       "top       Normal\n",
       "freq          65\n",
       "Name: Type, dtype: object"
      ]
     },
     "execution_count": 38,
     "metadata": {},
     "output_type": "execute_result"
    }
   ],
   "source": [
    "pokemons.describe()"
   ]
  },
  {
   "cell_type": "code",
   "execution_count": null,
   "id": "15afe4c9-0d34-48cf-b993-04135e7299dd",
   "metadata": {},
   "outputs": [],
   "source": []
  },
  {
   "cell_type": "code",
   "execution_count": 60,
   "id": "6336d26e-8fb7-4452-8f32-7ec60480c9d9",
   "metadata": {},
   "outputs": [],
   "source": [
    "## 정렬"
   ]
  },
  {
   "cell_type": "code",
   "execution_count": 39,
   "id": "91e87fcc-1b25-47ba-a6a4-d1b36a922e66",
   "metadata": {},
   "outputs": [
    {
     "data": {
      "text/plain": [
       "Pokemon\n",
       "Illumise                Bug\n",
       "Silcoon                 Bug\n",
       "Pinsir                  Bug\n",
       "Burmy                   Bug\n",
       "Wurmple                 Bug\n",
       "                  ...      \n",
       "Tirtouga       Water / Rock\n",
       "Relicanth      Water / Rock\n",
       "Corsola        Water / Rock\n",
       "Carracosta     Water / Rock\n",
       "Empoleon      Water / Steel\n",
       "Name: Type, Length: 809, dtype: object"
      ]
     },
     "execution_count": 39,
     "metadata": {},
     "output_type": "execute_result"
    }
   ],
   "source": [
    "pokemons.sort_values()  # 오름차순 정렬(Default)"
   ]
  },
  {
   "cell_type": "code",
   "execution_count": 40,
   "id": "b7d02e96-af74-49a4-93bf-59b4b2c47ecb",
   "metadata": {},
   "outputs": [
    {
     "data": {
      "text/plain": [
       "Pokemon\n",
       "Empoleon      Water / Steel\n",
       "Corsola        Water / Rock\n",
       "Relicanth      Water / Rock\n",
       "Carracosta     Water / Rock\n",
       "Tirtouga       Water / Rock\n",
       "                  ...      \n",
       "Kricketune              Bug\n",
       "Cascoon                 Bug\n",
       "Scatterbug              Bug\n",
       "Kricketot               Bug\n",
       "Grubbin                 Bug\n",
       "Name: Type, Length: 809, dtype: object"
      ]
     },
     "execution_count": 40,
     "metadata": {},
     "output_type": "execute_result"
    }
   ],
   "source": [
    "pokemons.sort_values(ascending = False)"
   ]
  },
  {
   "cell_type": "code",
   "execution_count": null,
   "id": "0dce75bc-f142-4ee2-a020-a87115eacb13",
   "metadata": {},
   "outputs": [],
   "source": []
  },
  {
   "cell_type": "code",
   "execution_count": null,
   "id": "ce33b2cf-f05d-4a59-aa8d-d9503d4bac40",
   "metadata": {},
   "outputs": [],
   "source": []
  },
  {
   "cell_type": "code",
   "execution_count": 41,
   "id": "9e6cb4b0-0ab4-4308-a43e-d1181c24017e",
   "metadata": {},
   "outputs": [
    {
     "name": "stderr",
     "output_type": "stream",
     "text": [
      "C:\\Users\\Playdata\\AppData\\Local\\Temp\\ipykernel_2088\\3172711056.py:1: FutureWarning: The squeeze argument has been deprecated and will be removed in a future version. Append .squeeze(\"columns\") to the call to squeeze.\n",
      "\n",
      "\n",
      "  google = pd.read_csv(\"datas/google_stocks.csv\",\n"
     ]
    },
    {
     "data": {
      "text/plain": [
       "Date\n",
       "2004-08-19      49.98\n",
       "2004-08-20      53.95\n",
       "2004-08-23      54.50\n",
       "2004-08-24      52.24\n",
       "2004-08-25      52.80\n",
       "               ...   \n",
       "2019-10-21    1246.15\n",
       "2019-10-22    1242.80\n",
       "2019-10-23    1259.13\n",
       "2019-10-24    1260.99\n",
       "2019-10-25    1265.13\n",
       "Name: Close, Length: 3824, dtype: float64"
      ]
     },
     "execution_count": 41,
     "metadata": {},
     "output_type": "execute_result"
    }
   ],
   "source": [
    "google = pd.read_csv(\"datas/google_stocks.csv\",\n",
    "                     parse_dates = [\"Date\"],  # parsing 할 column을 List로 전달\n",
    "                     index_col = \"Date\",\n",
    "                     squeeze = True)\n",
    "google"
   ]
  },
  {
   "cell_type": "code",
   "execution_count": null,
   "id": "c2fa28e1-a9f6-4376-8e84-e0588a660a78",
   "metadata": {},
   "outputs": [],
   "source": []
  },
  {
   "cell_type": "code",
   "execution_count": 42,
   "id": "b6f8cd78-72a4-4c2c-ad2c-28ce4511759a",
   "metadata": {},
   "outputs": [
    {
     "data": {
      "text/plain": [
       "Start Date\n",
       "1774-09-01    Massachusetts\n",
       "1774-12-14    New Hampshire\n",
       "1775-04-19    Massachusetts\n",
       "1775-04-19    Massachusetts\n",
       "1775-04-20         Virginia\n",
       "                  ...      \n",
       "1782-09-11         Virginia\n",
       "1782-09-13              NaN\n",
       "1782-10-18              NaN\n",
       "1782-12-06              NaN\n",
       "1783-01-22         Virginia\n",
       "Name: State, Length: 232, dtype: object"
      ]
     },
     "execution_count": 42,
     "metadata": {},
     "output_type": "execute_result"
    }
   ],
   "source": [
    "war = pd.read_csv(\"datas/revolutionary_war.csv\",\n",
    "                  usecols = [\"Start Date\", \"State\"],\n",
    "                  parse_dates = [\"Start Date\"],\n",
    "                  index_col = \"Start Date\").squeeze(\"columns\")\n",
    "war"
   ]
  },
  {
   "cell_type": "code",
   "execution_count": null,
   "id": "1aef645b-4fb4-4691-ae4b-4df5d906ef0b",
   "metadata": {},
   "outputs": [],
   "source": []
  },
  {
   "cell_type": "code",
   "execution_count": 43,
   "id": "3235519b-34b9-4d66-a382-0706a5814e56",
   "metadata": {},
   "outputs": [
    {
     "data": {
      "text/plain": [
       "70"
      ]
     },
     "execution_count": 43,
     "metadata": {},
     "output_type": "execute_result"
    }
   ],
   "source": [
    "# Q6. war 데이터 특징 파악\n",
    "\n",
    "# (1)\n",
    "len(war) - war.count()\n",
    "\n",
    "# war.isnull().sum()도 가능"
   ]
  },
  {
   "cell_type": "code",
   "execution_count": 44,
   "id": "84e75b6e-08c3-4224-a0d8-7062b5032335",
   "metadata": {},
   "outputs": [
    {
     "data": {
      "text/plain": [
       "162"
      ]
     },
     "execution_count": 44,
     "metadata": {},
     "output_type": "execute_result"
    }
   ],
   "source": [
    "# (2)\n",
    "war.count()"
   ]
  },
  {
   "cell_type": "code",
   "execution_count": 45,
   "id": "9f36fa9e-9251-4830-a0c0-5b0c03bc65e7",
   "metadata": {},
   "outputs": [
    {
     "data": {
      "text/plain": [
       "17"
      ]
     },
     "execution_count": 45,
     "metadata": {},
     "output_type": "execute_result"
    }
   ],
   "source": [
    "# (3)\n",
    "war.nunique()"
   ]
  },
  {
   "cell_type": "code",
   "execution_count": null,
   "id": "d6694916-1218-4864-9d70-0ffb5e45ed82",
   "metadata": {},
   "outputs": [],
   "source": []
  },
  {
   "cell_type": "code",
   "execution_count": null,
   "id": "13e187f3-2ede-43a3-bac5-1e8c329d0ca2",
   "metadata": {},
   "outputs": [],
   "source": [
    "## NaN 값들의 정렬 순서 지정"
   ]
  },
  {
   "cell_type": "code",
   "execution_count": 46,
   "id": "97ba7108-9ad6-41dc-b2bb-2e01ca619242",
   "metadata": {},
   "outputs": [
    {
     "data": {
      "text/plain": [
       "Start Date\n",
       "1775-09-17         NaN\n",
       "1775-12-31         NaN\n",
       "1776-03-03         NaN\n",
       "1776-03-25         NaN\n",
       "1776-05-18         NaN\n",
       "                ...   \n",
       "1781-07-06    Virginia\n",
       "1781-07-01    Virginia\n",
       "1781-06-26    Virginia\n",
       "1781-04-25    Virginia\n",
       "1783-01-22    Virginia\n",
       "Name: State, Length: 232, dtype: object"
      ]
     },
     "execution_count": 46,
     "metadata": {},
     "output_type": "execute_result"
    }
   ],
   "source": [
    "war.sort_values(na_position = \"first\")"
   ]
  },
  {
   "cell_type": "code",
   "execution_count": 47,
   "id": "669b928d-6fa8-4505-9e69-1f1bd5daf900",
   "metadata": {},
   "outputs": [
    {
     "data": {
      "text/plain": [
       "Start Date\n",
       "1781-09-06    Connecticut\n",
       "1779-07-05    Connecticut\n",
       "1777-04-27    Connecticut\n",
       "1777-09-03       Delaware\n",
       "1777-05-17        Florida\n",
       "                 ...     \n",
       "1782-08-08            NaN\n",
       "1782-08-25            NaN\n",
       "1782-09-13            NaN\n",
       "1782-10-18            NaN\n",
       "1782-12-06            NaN\n",
       "Name: State, Length: 232, dtype: object"
      ]
     },
     "execution_count": 47,
     "metadata": {},
     "output_type": "execute_result"
    }
   ],
   "source": [
    "war.sort_values(na_position = \"last\")"
   ]
  },
  {
   "cell_type": "code",
   "execution_count": null,
   "id": "31706244-8a1a-4fe1-b0bb-b48d32640ed8",
   "metadata": {},
   "outputs": [],
   "source": []
  },
  {
   "cell_type": "code",
   "execution_count": null,
   "id": "d4e7438d-b21b-40bc-a70b-c5a4eed52a86",
   "metadata": {},
   "outputs": [],
   "source": [
    "## NaN 배제"
   ]
  },
  {
   "cell_type": "code",
   "execution_count": 48,
   "id": "c0a6bbdb-79f8-44d5-9c82-04cf5659efa8",
   "metadata": {},
   "outputs": [
    {
     "data": {
      "text/plain": [
       "Start Date\n",
       "1774-09-01     Massachusetts\n",
       "1774-12-14     New Hampshire\n",
       "1775-04-19     Massachusetts\n",
       "1775-04-19     Massachusetts\n",
       "1775-04-20          Virginia\n",
       "                   ...      \n",
       "1782-08-15          Virginia\n",
       "1782-08-19          Virginia\n",
       "1782-08-26    South Carolina\n",
       "1782-09-11          Virginia\n",
       "1783-01-22          Virginia\n",
       "Name: State, Length: 162, dtype: object"
      ]
     },
     "execution_count": 48,
     "metadata": {},
     "output_type": "execute_result"
    }
   ],
   "source": [
    "war.dropna()"
   ]
  },
  {
   "cell_type": "code",
   "execution_count": null,
   "id": "ff87d4e3-ef9d-4d86-80fb-fa00d0252430",
   "metadata": {},
   "outputs": [],
   "source": []
  },
  {
   "cell_type": "code",
   "execution_count": 75,
   "id": "35bc3ef9-3143-40fc-9c61-7e70fb4c2059",
   "metadata": {},
   "outputs": [],
   "source": [
    "## index 기준 정렬"
   ]
  },
  {
   "cell_type": "code",
   "execution_count": 49,
   "id": "137f1a16-c45c-4309-a691-43984ff2b496",
   "metadata": {},
   "outputs": [
    {
     "data": {
      "text/plain": [
       "Pokemon\n",
       "Abomasnow        Grass / Ice\n",
       "Abra                 Psychic\n",
       "Absol                   Dark\n",
       "Accelgor                 Bug\n",
       "Aegislash      Steel / Ghost\n",
       "                  ...       \n",
       "Zoroark                 Dark\n",
       "Zorua                   Dark\n",
       "Zubat        Poison / Flying\n",
       "Zweilous       Dark / Dragon\n",
       "Zygarde      Dragon / Ground\n",
       "Name: Type, Length: 809, dtype: object"
      ]
     },
     "execution_count": 49,
     "metadata": {},
     "output_type": "execute_result"
    }
   ],
   "source": [
    "pokemons.sort_index(ascending = True)"
   ]
  },
  {
   "cell_type": "code",
   "execution_count": 50,
   "id": "63719b06-39be-4c68-a5e9-57a9c64eafa6",
   "metadata": {},
   "outputs": [
    {
     "data": {
      "text/plain": [
       "Start Date\n",
       "1774-09-01    Massachusetts\n",
       "1774-12-14    New Hampshire\n",
       "1775-04-19    Massachusetts\n",
       "1775-04-19    Massachusetts\n",
       "1775-04-20         Virginia\n",
       "                  ...      \n",
       "1783-01-22         Virginia\n",
       "NaT              New Jersey\n",
       "NaT                Virginia\n",
       "NaT                     NaN\n",
       "NaT                     NaN\n",
       "Name: State, Length: 232, dtype: object"
      ]
     },
     "execution_count": 50,
     "metadata": {},
     "output_type": "execute_result"
    }
   ],
   "source": [
    "war.sort_index()  # NaT = Not a Time (시간값을 갖지 않음)"
   ]
  },
  {
   "cell_type": "code",
   "execution_count": 51,
   "id": "1cb4c233-56b3-402e-92af-8cef86aa30c7",
   "metadata": {},
   "outputs": [
    {
     "data": {
      "text/plain": [
       "Start Date\n",
       "NaT              New Jersey\n",
       "NaT                Virginia\n",
       "NaT                     NaN\n",
       "NaT                     NaN\n",
       "1774-09-01    Massachusetts\n",
       "                  ...      \n",
       "1782-09-11         Virginia\n",
       "1782-09-13              NaN\n",
       "1782-10-18              NaN\n",
       "1782-12-06              NaN\n",
       "1783-01-22         Virginia\n",
       "Name: State, Length: 232, dtype: object"
      ]
     },
     "execution_count": 51,
     "metadata": {},
     "output_type": "execute_result"
    }
   ],
   "source": [
    "war.sort_index(na_position = \"first\")"
   ]
  },
  {
   "cell_type": "code",
   "execution_count": 52,
   "id": "674722a8-6f28-41b6-b9f6-edb303f271d9",
   "metadata": {},
   "outputs": [
    {
     "data": {
      "text/plain": [
       "Start Date\n",
       "1774-09-01    Massachusetts\n",
       "1774-12-14    New Hampshire\n",
       "1775-04-19    Massachusetts\n",
       "1775-04-19    Massachusetts\n",
       "1775-04-20         Virginia\n",
       "                  ...      \n",
       "1783-01-22         Virginia\n",
       "NaT              New Jersey\n",
       "NaT                Virginia\n",
       "NaT                     NaN\n",
       "NaT                     NaN\n",
       "Name: State, Length: 232, dtype: object"
      ]
     },
     "execution_count": 52,
     "metadata": {},
     "output_type": "execute_result"
    }
   ],
   "source": [
    "war.sort_index(na_position = \"last\")"
   ]
  },
  {
   "cell_type": "code",
   "execution_count": null,
   "id": "cebd21ed-96c7-4075-b09e-1f71d7b0fc93",
   "metadata": {},
   "outputs": [],
   "source": []
  },
  {
   "cell_type": "code",
   "execution_count": null,
   "id": "c797b48f-be4d-4188-a258-742dc2ccdaae",
   "metadata": {},
   "outputs": [],
   "source": [
    "## loc()"
   ]
  },
  {
   "cell_type": "code",
   "execution_count": 53,
   "id": "d81f9136-cdbe-40f7-8925-ded37d2d749d",
   "metadata": {},
   "outputs": [
    {
     "data": {
      "text/plain": [
       "Start Date\n",
       "1774-09-01    Massachusetts\n",
       "1774-12-14    New Hampshire\n",
       "1775-04-19    Massachusetts\n",
       "1775-04-19    Massachusetts\n",
       "1775-04-19    Massachusetts\n",
       "                  ...      \n",
       "1782-09-11         Virginia\n",
       "1782-09-13              NaN\n",
       "1782-10-18              NaN\n",
       "1782-12-06              NaN\n",
       "1783-01-22         Virginia\n",
       "Name: State, Length: 250, dtype: object"
      ]
     },
     "execution_count": 53,
     "metadata": {},
     "output_type": "execute_result"
    }
   ],
   "source": [
    "war.loc[war.index.dropna()]"
   ]
  },
  {
   "cell_type": "code",
   "execution_count": 54,
   "id": "7e86fb38-2346-4f34-b6e1-8797efa6bac4",
   "metadata": {},
   "outputs": [
    {
     "data": {
      "text/plain": [
       "Start Date\n",
       "1774-09-01    Massachusetts\n",
       "1774-12-14    New Hampshire\n",
       "1775-04-19    Massachusetts\n",
       "1775-04-19    Massachusetts\n",
       "1775-04-20         Virginia\n",
       "                  ...      \n",
       "1782-09-11         Virginia\n",
       "1782-09-13              NaN\n",
       "1782-10-18              NaN\n",
       "1782-12-06              NaN\n",
       "1783-01-22         Virginia\n",
       "Name: State, Length: 228, dtype: object"
      ]
     },
     "execution_count": 54,
     "metadata": {},
     "output_type": "execute_result"
    }
   ],
   "source": [
    "war.loc[war.index.notnull()]"
   ]
  },
  {
   "cell_type": "code",
   "execution_count": null,
   "id": "7da62bf9-508f-4de1-ba45-488bd82627e9",
   "metadata": {},
   "outputs": [],
   "source": [
    "# length가 다르다! -> 중복된 index가 11개 존재함"
   ]
  },
  {
   "cell_type": "code",
   "execution_count": 55,
   "id": "030b05a5-86de-4d0b-8b77-7d73ae18b243",
   "metadata": {},
   "outputs": [
    {
     "data": {
      "text/plain": [
       "1781-04-25    2\n",
       "1781-05-22    2\n",
       "1780-08-18    2\n",
       "1781-09-13    2\n",
       "1782-03-16    2\n",
       "1780-05-25    2\n",
       "1778-09-07    2\n",
       "1782-01-11    2\n",
       "1777-08-22    2\n",
       "1775-04-19    2\n",
       "1781-04-15    2\n",
       "Name: Start Date, dtype: int64"
      ]
     },
     "execution_count": 55,
     "metadata": {},
     "output_type": "execute_result"
    }
   ],
   "source": [
    "war.index.value_counts()[:11]"
   ]
  },
  {
   "cell_type": "code",
   "execution_count": 56,
   "id": "441842e0-f934-49da-8da0-4454d9d386ac",
   "metadata": {},
   "outputs": [
    {
     "data": {
      "text/plain": [
       "DatetimeIndex(['1774-09-01', '1774-12-14', '1775-04-19', '1775-04-19',\n",
       "               '1775-04-20', '1775-05-10', '1775-05-27', '1775-06-11',\n",
       "               '1775-06-17', '1775-08-08',\n",
       "               ...\n",
       "               '1782-08-08', '1782-08-15', '1782-08-19', '1782-08-26',\n",
       "               '1782-08-25', '1782-09-11', '1782-09-13', '1782-10-18',\n",
       "               '1782-12-06', '1783-01-22'],\n",
       "              dtype='datetime64[ns]', name='Start Date', length=228, freq=None)"
      ]
     },
     "execution_count": 56,
     "metadata": {},
     "output_type": "execute_result"
    }
   ],
   "source": [
    "war.index.dropna()"
   ]
  },
  {
   "cell_type": "code",
   "execution_count": 57,
   "id": "f83532fc-93d4-4aac-9424-38c2fdff4610",
   "metadata": {},
   "outputs": [
    {
     "data": {
      "text/plain": [
       "Start Date\n",
       "1781-04-25          Virginia\n",
       "1781-04-25    South Carolina\n",
       "1781-04-25          Virginia\n",
       "1781-04-25    South Carolina\n",
       "Name: State, dtype: object"
      ]
     },
     "execution_count": 57,
     "metadata": {},
     "output_type": "execute_result"
    }
   ],
   "source": [
    "war[[\"1781-04-25\", \"1781-04-25\"]]  # 중복된 값 확인"
   ]
  },
  {
   "cell_type": "code",
   "execution_count": null,
   "id": "958ac898-28eb-4eaa-aa4f-f113c614fa05",
   "metadata": {},
   "outputs": [],
   "source": [
    "# 더 정확한 결과물은 length = 228인 것. index.notnull()을 쓰는게 더 정확함"
   ]
  },
  {
   "cell_type": "code",
   "execution_count": null,
   "id": "cd3031db-8675-49fa-bb43-7a27a5108dbb",
   "metadata": {},
   "outputs": [],
   "source": []
  },
  {
   "cell_type": "code",
   "execution_count": 58,
   "id": "96e1641d-3fd7-483f-912c-4ecb1a4ce9ea",
   "metadata": {},
   "outputs": [
    {
     "name": "stderr",
     "output_type": "stream",
     "text": [
      "C:\\Users\\Playdata\\AppData\\Local\\Temp\\ipykernel_2088\\1141415911.py:2: FutureWarning: The squeeze argument has been deprecated and will be removed in a future version. Append .squeeze(\"columns\") to the call to squeeze.\n",
      "\n",
      "\n",
      "  google = pd.read_csv(\"datas/google_stocks.csv\",\n"
     ]
    },
    {
     "data": {
      "text/plain": [
       "Date\n",
       "2004-08-19      49.98\n",
       "2004-08-20      53.95\n",
       "2004-08-23      54.50\n",
       "2004-08-24      52.24\n",
       "2004-08-25      52.80\n",
       "               ...   \n",
       "2019-10-21    1246.15\n",
       "2019-10-22    1242.80\n",
       "2019-10-23    1259.13\n",
       "2019-10-24    1260.99\n",
       "2019-10-25    1265.13\n",
       "Name: Close, Length: 3824, dtype: float64"
      ]
     },
     "execution_count": 58,
     "metadata": {},
     "output_type": "execute_result"
    }
   ],
   "source": [
    "# Q7. google Series 객체에 대해 가장 큰 값 10개, 가장 작은 값 10개 출력\n",
    "google = pd.read_csv(\"datas/google_stocks.csv\",\n",
    "                     parse_dates = [\"Date\"],  # parsing 할 column을 List로 전달\n",
    "                     index_col = \"Date\",\n",
    "                     squeeze = True)\n",
    "google"
   ]
  },
  {
   "cell_type": "code",
   "execution_count": 59,
   "id": "685f7bd0-2e6f-4a88-a397-37d167f95de3",
   "metadata": {},
   "outputs": [
    {
     "data": {
      "text/plain": [
       "Date\n",
       "2004-09-03    49.82\n",
       "2004-09-01    49.94\n",
       "2004-08-19    49.98\n",
       "2004-09-02    50.57\n",
       "2004-09-07    50.60\n",
       "2004-08-30    50.81\n",
       "2004-09-08    50.96\n",
       "2004-09-09    50.96\n",
       "2004-08-31    50.99\n",
       "2004-08-24    52.24\n",
       "Name: Close, dtype: float64"
      ]
     },
     "execution_count": 59,
     "metadata": {},
     "output_type": "execute_result"
    }
   ],
   "source": [
    "google.sort_values().head(10)"
   ]
  },
  {
   "cell_type": "code",
   "execution_count": 60,
   "id": "ea4721b5-18dd-499f-ae9c-b05b2464a998",
   "metadata": {},
   "outputs": [
    {
     "data": {
      "text/plain": [
       "Date\n",
       "2019-04-29    1287.58\n",
       "2019-04-26    1272.18\n",
       "2018-07-26    1268.33\n",
       "2019-10-25    1265.13\n",
       "2019-04-23    1264.55\n",
       "2018-07-25    1263.70\n",
       "2019-04-25    1263.45\n",
       "2019-10-24    1260.99\n",
       "2019-10-23    1259.13\n",
       "2019-04-24    1256.00\n",
       "Name: Close, dtype: float64"
      ]
     },
     "execution_count": 60,
     "metadata": {},
     "output_type": "execute_result"
    }
   ],
   "source": [
    "google.sort_values(ascending = False).head(10)"
   ]
  },
  {
   "cell_type": "code",
   "execution_count": null,
   "id": "694a6c0d-158c-48b0-82bd-2e47933dad24",
   "metadata": {},
   "outputs": [],
   "source": []
  },
  {
   "cell_type": "code",
   "execution_count": null,
   "id": "e8a52605-1ca6-4519-a294-2ccb654064d4",
   "metadata": {},
   "outputs": [],
   "source": [
    "# head(), tail()쓰는 것과 결과 동일"
   ]
  },
  {
   "cell_type": "code",
   "execution_count": 61,
   "id": "52cc40ea-ab6d-4235-8ab7-468c9ab43bf2",
   "metadata": {},
   "outputs": [
    {
     "data": {
      "text/plain": [
       "Date\n",
       "2019-04-29    1287.58\n",
       "2019-04-26    1272.18\n",
       "2018-07-26    1268.33\n",
       "2019-10-25    1265.13\n",
       "2019-04-23    1264.55\n",
       "2018-07-25    1263.70\n",
       "2019-04-25    1263.45\n",
       "2019-10-24    1260.99\n",
       "2019-10-23    1259.13\n",
       "2019-04-24    1256.00\n",
       "Name: Close, dtype: float64"
      ]
     },
     "execution_count": 61,
     "metadata": {},
     "output_type": "execute_result"
    }
   ],
   "source": [
    "google.nlargest(10)"
   ]
  },
  {
   "cell_type": "code",
   "execution_count": 62,
   "id": "b91dfb26-e1d7-4611-8e04-f42b6927db89",
   "metadata": {},
   "outputs": [
    {
     "data": {
      "text/plain": [
       "Date\n",
       "2004-09-03    49.82\n",
       "2004-09-01    49.94\n",
       "2004-08-19    49.98\n",
       "2004-09-02    50.57\n",
       "2004-09-07    50.60\n",
       "2004-08-30    50.81\n",
       "2004-09-08    50.96\n",
       "2004-09-09    50.96\n",
       "2004-08-31    50.99\n",
       "2004-08-24    52.24\n",
       "Name: Close, dtype: float64"
      ]
     },
     "execution_count": 62,
     "metadata": {},
     "output_type": "execute_result"
    }
   ],
   "source": [
    "google.nsmallest(10)"
   ]
  },
  {
   "cell_type": "code",
   "execution_count": null,
   "id": "f39161f5-7b22-49f2-b11a-1e931a651cf5",
   "metadata": {},
   "outputs": [],
   "source": []
  },
  {
   "cell_type": "code",
   "execution_count": 63,
   "id": "625dc6b0-b05c-4eca-bf64-5cd48d104fc4",
   "metadata": {},
   "outputs": [
    {
     "data": {
      "text/plain": [
       "Normal                65\n",
       "Water                 61\n",
       "Grass                 38\n",
       "Psychic               35\n",
       "Fire                  30\n",
       "                      ..\n",
       "Fire / Psychic         1\n",
       "Normal / Ground        1\n",
       "Psychic / Fighting     1\n",
       "Dark / Ghost           1\n",
       "Fire / Ghost           1\n",
       "Name: Type, Length: 159, dtype: int64"
      ]
     },
     "execution_count": 63,
     "metadata": {},
     "output_type": "execute_result"
    }
   ],
   "source": [
    "pokemons.value_counts()"
   ]
  },
  {
   "cell_type": "code",
   "execution_count": null,
   "id": "eed558ac-deb1-43c6-b2dc-59e54381a387",
   "metadata": {},
   "outputs": [],
   "source": []
  },
  {
   "cell_type": "code",
   "execution_count": 64,
   "id": "2fc238ea-7db3-40f7-a73e-547f821d9550",
   "metadata": {},
   "outputs": [
    {
     "data": {
      "text/plain": [
       "array([   0.,  200.,  400.,  600.,  800., 1000., 1200., 1400.])"
      ]
     },
     "execution_count": 64,
     "metadata": {},
     "output_type": "execute_result"
    }
   ],
   "source": [
    "bins = np.linspace(0, 1400, 8)\n",
    "bins"
   ]
  },
  {
   "cell_type": "code",
   "execution_count": 65,
   "id": "cd3a116e-cd8a-4af8-af7b-424bc174aba8",
   "metadata": {},
   "outputs": [
    {
     "data": {
      "text/plain": [
       "(200.0, 400.0]      1568\n",
       "(-0.001, 200.0]      595\n",
       "(400.0, 600.0]       575\n",
       "(1000.0, 1200.0]     406\n",
       "(600.0, 800.0]       380\n",
       "(800.0, 1000.0]      207\n",
       "(1200.0, 1400.0]      93\n",
       "Name: Close, dtype: int64"
      ]
     },
     "execution_count": 65,
     "metadata": {},
     "output_type": "execute_result"
    }
   ],
   "source": [
    "google.value_counts(bins = bins)"
   ]
  },
  {
   "cell_type": "code",
   "execution_count": null,
   "id": "86440ca8-762c-436e-a8f2-1f1dc5df506e",
   "metadata": {},
   "outputs": [],
   "source": []
  },
  {
   "cell_type": "code",
   "execution_count": 66,
   "id": "4c1fe8b3-638a-48fa-8e19-a88a6c8c4785",
   "metadata": {},
   "outputs": [
    {
     "data": {
      "text/plain": [
       "(-0.001, 200.0]      595\n",
       "(200.0, 400.0]      1568\n",
       "(400.0, 600.0]       575\n",
       "(600.0, 800.0]       380\n",
       "(800.0, 1000.0]      207\n",
       "(1000.0, 1200.0]     406\n",
       "(1200.0, 1400.0]      93\n",
       "Name: Close, dtype: int64"
      ]
     },
     "execution_count": 66,
     "metadata": {},
     "output_type": "execute_result"
    }
   ],
   "source": [
    "# Q8.\n",
    "google.value_counts(bins = bins).sort_index()"
   ]
  },
  {
   "cell_type": "code",
   "execution_count": null,
   "id": "56a34706-f503-4e03-a7f0-5c040f53540d",
   "metadata": {},
   "outputs": [],
   "source": []
  },
  {
   "cell_type": "code",
   "execution_count": 67,
   "id": "414c8f4a-19d0-4bcd-bfb0-b62e74878c95",
   "metadata": {},
   "outputs": [
    {
     "data": {
      "text/plain": [
       "(48.581, 204.54]       651\n",
       "(204.54, 359.26]      1435\n",
       "(359.26, 513.98]       263\n",
       "(513.98, 668.7]        466\n",
       "(668.7, 823.42]        334\n",
       "(823.42, 978.14]       161\n",
       "(978.14, 1132.86]      283\n",
       "(1132.86, 1287.58]     231\n",
       "Name: Close, dtype: int64"
      ]
     },
     "execution_count": 67,
     "metadata": {},
     "output_type": "execute_result"
    }
   ],
   "source": [
    "google.value_counts(bins = 8, sort = False)"
   ]
  },
  {
   "cell_type": "code",
   "execution_count": null,
   "id": "53e9b35a-edcd-4ebe-96cc-9f3fb0dcaf3e",
   "metadata": {},
   "outputs": [],
   "source": []
  },
  {
   "cell_type": "code",
   "execution_count": 68,
   "id": "e7b01897-ff50-4f12-ac80-1889c8e5d1cb",
   "metadata": {},
   "outputs": [
    {
     "data": {
      "text/html": [
       "<div>\n",
       "<style scoped>\n",
       "    .dataframe tbody tr th:only-of-type {\n",
       "        vertical-align: middle;\n",
       "    }\n",
       "\n",
       "    .dataframe tbody tr th {\n",
       "        vertical-align: top;\n",
       "    }\n",
       "\n",
       "    .dataframe thead th {\n",
       "        text-align: right;\n",
       "    }\n",
       "</style>\n",
       "<table border=\"1\" class=\"dataframe\">\n",
       "  <thead>\n",
       "    <tr style=\"text-align: right;\">\n",
       "      <th></th>\n",
       "      <th>c1</th>\n",
       "      <th>c2</th>\n",
       "      <th>c3</th>\n",
       "    </tr>\n",
       "  </thead>\n",
       "  <tbody>\n",
       "    <tr>\n",
       "      <th>0</th>\n",
       "      <td>1</td>\n",
       "      <td>1.11</td>\n",
       "      <td>one</td>\n",
       "    </tr>\n",
       "    <tr>\n",
       "      <th>1</th>\n",
       "      <td>2</td>\n",
       "      <td></td>\n",
       "      <td>two</td>\n",
       "    </tr>\n",
       "    <tr>\n",
       "      <th>2</th>\n",
       "      <td>누락</td>\n",
       "      <td>3.33</td>\n",
       "      <td>three</td>\n",
       "    </tr>\n",
       "  </tbody>\n",
       "</table>\n",
       "</div>"
      ],
      "text/plain": [
       "   c1    c2     c3\n",
       "0   1  1.11    one\n",
       "1   2          two\n",
       "2  누락  3.33  three"
      ]
     },
     "execution_count": 68,
     "metadata": {},
     "output_type": "execute_result"
    }
   ],
   "source": [
    "# Q9.\n",
    "data = {\"c1\": [1, 2, \"누락\"],\n",
    "        \"c2\": [1.11, \"\", 3.33],\n",
    "        \"c3\": [\"one\", \"two\", \"three\"]\n",
    "}\n",
    "columns = [\"c1\", \"c2\", \"c3\"]\n",
    "\n",
    "df_csv = pd.DataFrame(data, columns = columns)\n",
    "df_csv"
   ]
  },
  {
   "cell_type": "code",
   "execution_count": 69,
   "id": "a408cc80-071c-4d98-b9b5-0042cb4a5f0b",
   "metadata": {},
   "outputs": [],
   "source": [
    "df_csv.to_csv(\"datas/sample1.csv\", index = False)  # csv파일로 저장"
   ]
  },
  {
   "cell_type": "code",
   "execution_count": null,
   "id": "70c52910-9fe9-4c41-9ae1-604f7dcfaa85",
   "metadata": {},
   "outputs": [],
   "source": []
  },
  {
   "cell_type": "code",
   "execution_count": null,
   "id": "686a65e7-0967-422e-b76e-83ebeba27383",
   "metadata": {},
   "outputs": [],
   "source": [
    "## 참고 ##"
   ]
  },
  {
   "cell_type": "code",
   "execution_count": 70,
   "id": "6e1e70fa-ab08-4ced-93fb-41e8b71a86fa",
   "metadata": {},
   "outputs": [
    {
     "data": {
      "text/plain": [
       "'C:\\\\python'"
      ]
     },
     "execution_count": 70,
     "metadata": {},
     "output_type": "execute_result"
    }
   ],
   "source": [
    "%pwd  # 현재 working directory 출력"
   ]
  },
  {
   "cell_type": "code",
   "execution_count": 73,
   "id": "92a9a8be-2548-4088-b9ec-431a182fca6c",
   "metadata": {},
   "outputs": [
    {
     "name": "stdout",
     "output_type": "stream",
     "text": [
      "C:\\python\\datas\n"
     ]
    }
   ],
   "source": [
    "%cd C:\\\\python\\\\datas"
   ]
  },
  {
   "cell_type": "code",
   "execution_count": null,
   "id": "5a2a0056-ac0a-4c7f-adca-a1346b827b2c",
   "metadata": {},
   "outputs": [],
   "source": [
    "# change directory. 불러올 파일 위치로 working directory 설정"
   ]
  },
  {
   "cell_type": "code",
   "execution_count": null,
   "id": "2f6b6f34-36b2-4048-9050-2f9bb18ed1c1",
   "metadata": {},
   "outputs": [],
   "source": []
  },
  {
   "cell_type": "code",
   "execution_count": null,
   "id": "54793e17-7805-4d55-8c3e-c1ef5335d5ae",
   "metadata": {},
   "outputs": [],
   "source": [
    "## CSV파일 불러오기"
   ]
  },
  {
   "cell_type": "code",
   "execution_count": 74,
   "id": "c78cc200-c032-41e4-a5a4-38dbfd205131",
   "metadata": {},
   "outputs": [
    {
     "data": {
      "text/html": [
       "<div>\n",
       "<style scoped>\n",
       "    .dataframe tbody tr th:only-of-type {\n",
       "        vertical-align: middle;\n",
       "    }\n",
       "\n",
       "    .dataframe tbody tr th {\n",
       "        vertical-align: top;\n",
       "    }\n",
       "\n",
       "    .dataframe thead th {\n",
       "        text-align: right;\n",
       "    }\n",
       "</style>\n",
       "<table border=\"1\" class=\"dataframe\">\n",
       "  <thead>\n",
       "    <tr style=\"text-align: right;\">\n",
       "      <th></th>\n",
       "      <th>c1</th>\n",
       "      <th>c2</th>\n",
       "      <th>c3</th>\n",
       "    </tr>\n",
       "  </thead>\n",
       "  <tbody>\n",
       "    <tr>\n",
       "      <th>0</th>\n",
       "      <td>1</td>\n",
       "      <td>1.11</td>\n",
       "      <td>one</td>\n",
       "    </tr>\n",
       "    <tr>\n",
       "      <th>1</th>\n",
       "      <td>2</td>\n",
       "      <td>NaN</td>\n",
       "      <td>two</td>\n",
       "    </tr>\n",
       "    <tr>\n",
       "      <th>2</th>\n",
       "      <td>누락</td>\n",
       "      <td>3.33</td>\n",
       "      <td>three</td>\n",
       "    </tr>\n",
       "  </tbody>\n",
       "</table>\n",
       "</div>"
      ],
      "text/plain": [
       "   c1    c2     c3\n",
       "0   1  1.11    one\n",
       "1   2   NaN    two\n",
       "2  누락  3.33  three"
      ]
     },
     "execution_count": 74,
     "metadata": {},
     "output_type": "execute_result"
    }
   ],
   "source": [
    "df_read = pd.read_csv(\"sample1.csv\")\n",
    "df_read  # 인덱스는 자동으로 추가됨"
   ]
  },
  {
   "cell_type": "code",
   "execution_count": null,
   "id": "f7a10080-935d-49f8-afa2-b262d45aae93",
   "metadata": {},
   "outputs": [],
   "source": []
  },
  {
   "cell_type": "code",
   "execution_count": null,
   "id": "a0ab61c4-66da-423c-8f9c-50797f529b06",
   "metadata": {},
   "outputs": [],
   "source": [
    "## header가 없는 CSV파일 호출"
   ]
  },
  {
   "cell_type": "code",
   "execution_count": 75,
   "id": "c761114a-9f81-4d66-a563-308a24bdb01e",
   "metadata": {},
   "outputs": [],
   "source": [
    "df_csv.to_csv(\"sample2.csv\", index = False, header = False)"
   ]
  },
  {
   "cell_type": "code",
   "execution_count": 76,
   "id": "ba08f523-0fba-439d-96ac-c9c01dde3b36",
   "metadata": {},
   "outputs": [
    {
     "data": {
      "text/html": [
       "<div>\n",
       "<style scoped>\n",
       "    .dataframe tbody tr th:only-of-type {\n",
       "        vertical-align: middle;\n",
       "    }\n",
       "\n",
       "    .dataframe tbody tr th {\n",
       "        vertical-align: top;\n",
       "    }\n",
       "\n",
       "    .dataframe thead th {\n",
       "        text-align: right;\n",
       "    }\n",
       "</style>\n",
       "<table border=\"1\" class=\"dataframe\">\n",
       "  <thead>\n",
       "    <tr style=\"text-align: right;\">\n",
       "      <th></th>\n",
       "      <th>c1</th>\n",
       "      <th>c2</th>\n",
       "      <th>c3</th>\n",
       "    </tr>\n",
       "  </thead>\n",
       "  <tbody>\n",
       "    <tr>\n",
       "      <th>0</th>\n",
       "      <td>1</td>\n",
       "      <td>1.11</td>\n",
       "      <td>one</td>\n",
       "    </tr>\n",
       "    <tr>\n",
       "      <th>1</th>\n",
       "      <td>2</td>\n",
       "      <td>NaN</td>\n",
       "      <td>two</td>\n",
       "    </tr>\n",
       "    <tr>\n",
       "      <th>2</th>\n",
       "      <td>누락</td>\n",
       "      <td>3.33</td>\n",
       "      <td>three</td>\n",
       "    </tr>\n",
       "  </tbody>\n",
       "</table>\n",
       "</div>"
      ],
      "text/plain": [
       "   c1    c2     c3\n",
       "0   1  1.11    one\n",
       "1   2   NaN    two\n",
       "2  누락  3.33  three"
      ]
     },
     "execution_count": 76,
     "metadata": {},
     "output_type": "execute_result"
    }
   ],
   "source": [
    "pd.read_csv(\"sample2.csv\", names = [\"c1\", \"c2\", \"c3\"])"
   ]
  },
  {
   "cell_type": "code",
   "execution_count": null,
   "id": "dc3f2cbb-880b-4f5f-88b0-ece8ac138ac3",
   "metadata": {},
   "outputs": [],
   "source": []
  },
  {
   "cell_type": "code",
   "execution_count": null,
   "id": "c2053a83-33db-4ca8-9867-a406faa5d006",
   "metadata": {},
   "outputs": [],
   "source": [
    "## txt파일 불러오기"
   ]
  },
  {
   "cell_type": "code",
   "execution_count": 77,
   "id": "d4ecf0a4-5cb2-409b-87ad-c561ff1a1c26",
   "metadata": {},
   "outputs": [
    {
     "name": "stdout",
     "output_type": "stream",
     "text": [
      "Writing sample3.txt\n"
     ]
    }
   ],
   "source": [
    "%%writefile sample3.txt\n",
    "c1        c2        c3        c4\n",
    "0.179181 -1.538472  1.347553  0.43381\n",
    "1.024209  0.087307 -1.281997  0.49265\n",
    "0.417899 -2.002308  0.255245 -1.10515"
   ]
  },
  {
   "cell_type": "code",
   "execution_count": 78,
   "id": "7730b0fb-3212-4db9-87ef-fb16f371acd9",
   "metadata": {},
   "outputs": [
    {
     "data": {
      "text/html": [
       "<div>\n",
       "<style scoped>\n",
       "    .dataframe tbody tr th:only-of-type {\n",
       "        vertical-align: middle;\n",
       "    }\n",
       "\n",
       "    .dataframe tbody tr th {\n",
       "        vertical-align: top;\n",
       "    }\n",
       "\n",
       "    .dataframe thead th {\n",
       "        text-align: right;\n",
       "    }\n",
       "</style>\n",
       "<table border=\"1\" class=\"dataframe\">\n",
       "  <thead>\n",
       "    <tr style=\"text-align: right;\">\n",
       "      <th></th>\n",
       "      <th>c1</th>\n",
       "      <th>c2</th>\n",
       "      <th>c3</th>\n",
       "      <th>c4</th>\n",
       "    </tr>\n",
       "  </thead>\n",
       "  <tbody>\n",
       "    <tr>\n",
       "      <th>0</th>\n",
       "      <td>0.179181</td>\n",
       "      <td>-1.538472</td>\n",
       "      <td>1.347553</td>\n",
       "      <td>0.43381</td>\n",
       "    </tr>\n",
       "    <tr>\n",
       "      <th>1</th>\n",
       "      <td>1.024209</td>\n",
       "      <td>0.087307</td>\n",
       "      <td>-1.281997</td>\n",
       "      <td>0.49265</td>\n",
       "    </tr>\n",
       "    <tr>\n",
       "      <th>2</th>\n",
       "      <td>0.417899</td>\n",
       "      <td>-2.002308</td>\n",
       "      <td>0.255245</td>\n",
       "      <td>-1.10515</td>\n",
       "    </tr>\n",
       "  </tbody>\n",
       "</table>\n",
       "</div>"
      ],
      "text/plain": [
       "         c1        c2        c3       c4\n",
       "0  0.179181 -1.538472  1.347553  0.43381\n",
       "1  1.024209  0.087307 -1.281997  0.49265\n",
       "2  0.417899 -2.002308  0.255245 -1.10515"
      ]
     },
     "execution_count": 78,
     "metadata": {},
     "output_type": "execute_result"
    }
   ],
   "source": [
    "pd.read_table(\"sample3.txt\", sep = \"\\s+\")\n",
    "\n",
    "# \"\\s+\"는 정규표현식으로, 공백이 하나 이상 존재한다는 뜻\n",
    "# 공백을 기준으로 값을 읽어온다."
   ]
  },
  {
   "cell_type": "code",
   "execution_count": 79,
   "id": "a8e6b30a-a1cb-4818-8272-2d598d859b87",
   "metadata": {},
   "outputs": [
    {
     "data": {
      "text/html": [
       "<div>\n",
       "<style scoped>\n",
       "    .dataframe tbody tr th:only-of-type {\n",
       "        vertical-align: middle;\n",
       "    }\n",
       "\n",
       "    .dataframe tbody tr th {\n",
       "        vertical-align: top;\n",
       "    }\n",
       "\n",
       "    .dataframe thead th {\n",
       "        text-align: right;\n",
       "    }\n",
       "</style>\n",
       "<table border=\"1\" class=\"dataframe\">\n",
       "  <thead>\n",
       "    <tr style=\"text-align: right;\">\n",
       "      <th></th>\n",
       "      <th>c1</th>\n",
       "      <th>c2</th>\n",
       "      <th>c3</th>\n",
       "      <th>c4</th>\n",
       "    </tr>\n",
       "  </thead>\n",
       "  <tbody>\n",
       "    <tr>\n",
       "      <th>0</th>\n",
       "      <td>0.179181</td>\n",
       "      <td>-1.538472</td>\n",
       "      <td>1.347553</td>\n",
       "      <td>0.43381</td>\n",
       "    </tr>\n",
       "    <tr>\n",
       "      <th>1</th>\n",
       "      <td>1.024209</td>\n",
       "      <td>0.087307</td>\n",
       "      <td>-1.281997</td>\n",
       "      <td>0.49265</td>\n",
       "    </tr>\n",
       "    <tr>\n",
       "      <th>2</th>\n",
       "      <td>0.417899</td>\n",
       "      <td>-2.002308</td>\n",
       "      <td>0.255245</td>\n",
       "      <td>-1.10515</td>\n",
       "    </tr>\n",
       "  </tbody>\n",
       "</table>\n",
       "</div>"
      ],
      "text/plain": [
       "         c1        c2        c3       c4\n",
       "0  0.179181 -1.538472  1.347553  0.43381\n",
       "1  1.024209  0.087307 -1.281997  0.49265\n",
       "2  0.417899 -2.002308  0.255245 -1.10515"
      ]
     },
     "execution_count": 79,
     "metadata": {},
     "output_type": "execute_result"
    }
   ],
   "source": [
    "pd.read_table(\"sample3.txt\", sep = \"\\s+\")"
   ]
  },
  {
   "cell_type": "code",
   "execution_count": null,
   "id": "0a5bfc8f-571b-4c8d-81c0-c67f4bcedb50",
   "metadata": {},
   "outputs": [],
   "source": [
    "## 참고2 ##\n",
    "# % 기호를 사용하는 코드 앞에는 주석이 있으면 안 됨!!\n",
    "# 즉, 무조건 % 기호가 무조건 해당 셀의 첫 문자여야 한다."
   ]
  },
  {
   "cell_type": "code",
   "execution_count": null,
   "id": "5d854208-5b7a-4245-9a6d-e3dbc9eafe21",
   "metadata": {},
   "outputs": [],
   "source": []
  },
  {
   "cell_type": "code",
   "execution_count": null,
   "id": "3a854dad-a21b-4693-bc9c-34ae9d586c76",
   "metadata": {},
   "outputs": [],
   "source": [
    "## 상단에 데이터 외 부가적인 텍스트가 있는 경우"
   ]
  },
  {
   "cell_type": "code",
   "execution_count": 80,
   "id": "a3b2fa77-dcee-4b4f-9f4d-9245f2b9e4a9",
   "metadata": {},
   "outputs": [
    {
     "name": "stdout",
     "output_type": "stream",
     "text": [
      "Writing sample4.txt\n"
     ]
    }
   ],
   "source": [
    "%%writefile sample4.txt\n",
    "파일 제목: sample4.txt\n",
    "데이터 포맷의 설명:\n",
    "c1, c2, c3\n",
    "1, 1.11, one\n",
    "2, 2.22, two\n",
    "3, 3.33, three"
   ]
  },
  {
   "cell_type": "code",
   "execution_count": 81,
   "id": "00b7bd36-ec5b-4688-a138-30be1ea2c362",
   "metadata": {},
   "outputs": [
    {
     "data": {
      "text/html": [
       "<div>\n",
       "<style scoped>\n",
       "    .dataframe tbody tr th:only-of-type {\n",
       "        vertical-align: middle;\n",
       "    }\n",
       "\n",
       "    .dataframe tbody tr th {\n",
       "        vertical-align: top;\n",
       "    }\n",
       "\n",
       "    .dataframe thead th {\n",
       "        text-align: right;\n",
       "    }\n",
       "</style>\n",
       "<table border=\"1\" class=\"dataframe\">\n",
       "  <thead>\n",
       "    <tr style=\"text-align: right;\">\n",
       "      <th></th>\n",
       "      <th>c1</th>\n",
       "      <th>c2</th>\n",
       "      <th>c3</th>\n",
       "    </tr>\n",
       "  </thead>\n",
       "  <tbody>\n",
       "    <tr>\n",
       "      <th>0</th>\n",
       "      <td>1</td>\n",
       "      <td>1.11</td>\n",
       "      <td>one</td>\n",
       "    </tr>\n",
       "    <tr>\n",
       "      <th>1</th>\n",
       "      <td>2</td>\n",
       "      <td>2.22</td>\n",
       "      <td>two</td>\n",
       "    </tr>\n",
       "    <tr>\n",
       "      <th>2</th>\n",
       "      <td>3</td>\n",
       "      <td>3.33</td>\n",
       "      <td>three</td>\n",
       "    </tr>\n",
       "  </tbody>\n",
       "</table>\n",
       "</div>"
      ],
      "text/plain": [
       "   c1    c2      c3\n",
       "0   1  1.11     one\n",
       "1   2  2.22     two\n",
       "2   3  3.33   three"
      ]
     },
     "execution_count": 81,
     "metadata": {},
     "output_type": "execute_result"
    }
   ],
   "source": [
    "pd.read_csv(\"sample4.txt\", skiprows = [0, 1])"
   ]
  },
  {
   "cell_type": "code",
   "execution_count": null,
   "id": "c1f522ff-1e30-46bf-8823-b747761cffbc",
   "metadata": {},
   "outputs": [],
   "source": []
  },
  {
   "cell_type": "code",
   "execution_count": null,
   "id": "b5148c4f-cb50-44b0-9f7f-6fc06b233a9f",
   "metadata": {},
   "outputs": [],
   "source": [
    "## 자료 내 특정 값을 NaN으로 취급할 때"
   ]
  },
  {
   "cell_type": "code",
   "execution_count": 82,
   "id": "ce406bd5-6f04-4a59-9533-991365174575",
   "metadata": {},
   "outputs": [
    {
     "data": {
      "text/html": [
       "<div>\n",
       "<style scoped>\n",
       "    .dataframe tbody tr th:only-of-type {\n",
       "        vertical-align: middle;\n",
       "    }\n",
       "\n",
       "    .dataframe tbody tr th {\n",
       "        vertical-align: top;\n",
       "    }\n",
       "\n",
       "    .dataframe thead th {\n",
       "        text-align: right;\n",
       "    }\n",
       "</style>\n",
       "<table border=\"1\" class=\"dataframe\">\n",
       "  <thead>\n",
       "    <tr style=\"text-align: right;\">\n",
       "      <th></th>\n",
       "      <th>c1</th>\n",
       "      <th>c2</th>\n",
       "      <th>c3</th>\n",
       "    </tr>\n",
       "  </thead>\n",
       "  <tbody>\n",
       "    <tr>\n",
       "      <th>0</th>\n",
       "      <td>1.0</td>\n",
       "      <td>1.11</td>\n",
       "      <td>one</td>\n",
       "    </tr>\n",
       "    <tr>\n",
       "      <th>1</th>\n",
       "      <td>2.0</td>\n",
       "      <td>NaN</td>\n",
       "      <td>two</td>\n",
       "    </tr>\n",
       "    <tr>\n",
       "      <th>2</th>\n",
       "      <td>NaN</td>\n",
       "      <td>3.33</td>\n",
       "      <td>three</td>\n",
       "    </tr>\n",
       "  </tbody>\n",
       "</table>\n",
       "</div>"
      ],
      "text/plain": [
       "    c1    c2     c3\n",
       "0  1.0  1.11    one\n",
       "1  2.0   NaN    two\n",
       "2  NaN  3.33  three"
      ]
     },
     "execution_count": 82,
     "metadata": {},
     "output_type": "execute_result"
    }
   ],
   "source": [
    "df_na_val = pd.read_csv(\"sample1.csv\", na_values = [\"누락\"])\n",
    "df_na_val  # '누락'이 NaN으로 변경"
   ]
  },
  {
   "cell_type": "code",
   "execution_count": null,
   "id": "0e05dd75-0768-4417-9f3f-c1711f041684",
   "metadata": {},
   "outputs": [],
   "source": []
  },
  {
   "cell_type": "code",
   "execution_count": null,
   "id": "737c0dc5-92c5-4147-925c-6e2292aa350b",
   "metadata": {},
   "outputs": [],
   "source": [
    "## 파일 저장 시에도 구분자 지정 가능"
   ]
  },
  {
   "cell_type": "code",
   "execution_count": 83,
   "id": "16363445-0cc7-4023-a02f-861f941554a8",
   "metadata": {},
   "outputs": [],
   "source": [
    "df_na_val.to_csv(\"sample5.txt\", sep = \"|\")"
   ]
  },
  {
   "cell_type": "code",
   "execution_count": null,
   "id": "4fb34327-6911-424b-9ee4-9a9b72b9e7f2",
   "metadata": {},
   "outputs": [],
   "source": []
  },
  {
   "cell_type": "code",
   "execution_count": null,
   "id": "6ba8340c-eb3e-4c10-9eb6-07e02135508e",
   "metadata": {},
   "outputs": [],
   "source": [
    "## 특정 값을 변경하면서 저장"
   ]
  },
  {
   "cell_type": "code",
   "execution_count": 84,
   "id": "d5f2f5e3-9dc5-4a77-a23c-45fff2866673",
   "metadata": {},
   "outputs": [],
   "source": [
    "df_na_val.to_csv(\"sample6.csv\", na_rep = \"누락\")"
   ]
  },
  {
   "cell_type": "code",
   "execution_count": null,
   "id": "29a7ee81-5a35-430f-8669-3f8cbf7b5c29",
   "metadata": {},
   "outputs": [],
   "source": []
  },
  {
   "cell_type": "code",
   "execution_count": null,
   "id": "3bb42c0e-bfab-44f7-bc74-eaa4183e8ff8",
   "metadata": {},
   "outputs": [],
   "source": []
  },
  {
   "cell_type": "code",
   "execution_count": 144,
   "id": "863058b6-45c8-4034-a5e8-248a22f7d485",
   "metadata": {},
   "outputs": [],
   "source": [
    "##### 온라인 상의 CSV파일 가져오기"
   ]
  },
  {
   "cell_type": "code",
   "execution_count": 85,
   "id": "cd0719c2-5176-4fb0-9b09-8f9437b7c252",
   "metadata": {},
   "outputs": [
    {
     "data": {
      "text/html": [
       "<div>\n",
       "<style scoped>\n",
       "    .dataframe tbody tr th:only-of-type {\n",
       "        vertical-align: middle;\n",
       "    }\n",
       "\n",
       "    .dataframe tbody tr th {\n",
       "        vertical-align: top;\n",
       "    }\n",
       "\n",
       "    .dataframe thead th {\n",
       "        text-align: right;\n",
       "    }\n",
       "</style>\n",
       "<table border=\"1\" class=\"dataframe\">\n",
       "  <thead>\n",
       "    <tr style=\"text-align: right;\">\n",
       "      <th></th>\n",
       "      <th>survived</th>\n",
       "      <th>sex</th>\n",
       "      <th>age</th>\n",
       "      <th>n_siblings_spouses</th>\n",
       "      <th>parch</th>\n",
       "      <th>fare</th>\n",
       "      <th>class</th>\n",
       "      <th>deck</th>\n",
       "      <th>embark_town</th>\n",
       "      <th>alone</th>\n",
       "    </tr>\n",
       "  </thead>\n",
       "  <tbody>\n",
       "    <tr>\n",
       "      <th>0</th>\n",
       "      <td>0</td>\n",
       "      <td>male</td>\n",
       "      <td>22.0</td>\n",
       "      <td>1</td>\n",
       "      <td>0</td>\n",
       "      <td>7.2500</td>\n",
       "      <td>Third</td>\n",
       "      <td>unknown</td>\n",
       "      <td>Southampton</td>\n",
       "      <td>n</td>\n",
       "    </tr>\n",
       "    <tr>\n",
       "      <th>1</th>\n",
       "      <td>1</td>\n",
       "      <td>female</td>\n",
       "      <td>38.0</td>\n",
       "      <td>1</td>\n",
       "      <td>0</td>\n",
       "      <td>71.2833</td>\n",
       "      <td>First</td>\n",
       "      <td>C</td>\n",
       "      <td>Cherbourg</td>\n",
       "      <td>n</td>\n",
       "    </tr>\n",
       "    <tr>\n",
       "      <th>2</th>\n",
       "      <td>1</td>\n",
       "      <td>female</td>\n",
       "      <td>26.0</td>\n",
       "      <td>0</td>\n",
       "      <td>0</td>\n",
       "      <td>7.9250</td>\n",
       "      <td>Third</td>\n",
       "      <td>unknown</td>\n",
       "      <td>Southampton</td>\n",
       "      <td>y</td>\n",
       "    </tr>\n",
       "    <tr>\n",
       "      <th>3</th>\n",
       "      <td>1</td>\n",
       "      <td>female</td>\n",
       "      <td>35.0</td>\n",
       "      <td>1</td>\n",
       "      <td>0</td>\n",
       "      <td>53.1000</td>\n",
       "      <td>First</td>\n",
       "      <td>C</td>\n",
       "      <td>Southampton</td>\n",
       "      <td>n</td>\n",
       "    </tr>\n",
       "    <tr>\n",
       "      <th>4</th>\n",
       "      <td>0</td>\n",
       "      <td>male</td>\n",
       "      <td>28.0</td>\n",
       "      <td>0</td>\n",
       "      <td>0</td>\n",
       "      <td>8.4583</td>\n",
       "      <td>Third</td>\n",
       "      <td>unknown</td>\n",
       "      <td>Queenstown</td>\n",
       "      <td>y</td>\n",
       "    </tr>\n",
       "    <tr>\n",
       "      <th>...</th>\n",
       "      <td>...</td>\n",
       "      <td>...</td>\n",
       "      <td>...</td>\n",
       "      <td>...</td>\n",
       "      <td>...</td>\n",
       "      <td>...</td>\n",
       "      <td>...</td>\n",
       "      <td>...</td>\n",
       "      <td>...</td>\n",
       "      <td>...</td>\n",
       "    </tr>\n",
       "    <tr>\n",
       "      <th>622</th>\n",
       "      <td>0</td>\n",
       "      <td>male</td>\n",
       "      <td>28.0</td>\n",
       "      <td>0</td>\n",
       "      <td>0</td>\n",
       "      <td>10.5000</td>\n",
       "      <td>Second</td>\n",
       "      <td>unknown</td>\n",
       "      <td>Southampton</td>\n",
       "      <td>y</td>\n",
       "    </tr>\n",
       "    <tr>\n",
       "      <th>623</th>\n",
       "      <td>0</td>\n",
       "      <td>male</td>\n",
       "      <td>25.0</td>\n",
       "      <td>0</td>\n",
       "      <td>0</td>\n",
       "      <td>7.0500</td>\n",
       "      <td>Third</td>\n",
       "      <td>unknown</td>\n",
       "      <td>Southampton</td>\n",
       "      <td>y</td>\n",
       "    </tr>\n",
       "    <tr>\n",
       "      <th>624</th>\n",
       "      <td>1</td>\n",
       "      <td>female</td>\n",
       "      <td>19.0</td>\n",
       "      <td>0</td>\n",
       "      <td>0</td>\n",
       "      <td>30.0000</td>\n",
       "      <td>First</td>\n",
       "      <td>B</td>\n",
       "      <td>Southampton</td>\n",
       "      <td>y</td>\n",
       "    </tr>\n",
       "    <tr>\n",
       "      <th>625</th>\n",
       "      <td>0</td>\n",
       "      <td>female</td>\n",
       "      <td>28.0</td>\n",
       "      <td>1</td>\n",
       "      <td>2</td>\n",
       "      <td>23.4500</td>\n",
       "      <td>Third</td>\n",
       "      <td>unknown</td>\n",
       "      <td>Southampton</td>\n",
       "      <td>n</td>\n",
       "    </tr>\n",
       "    <tr>\n",
       "      <th>626</th>\n",
       "      <td>0</td>\n",
       "      <td>male</td>\n",
       "      <td>32.0</td>\n",
       "      <td>0</td>\n",
       "      <td>0</td>\n",
       "      <td>7.7500</td>\n",
       "      <td>Third</td>\n",
       "      <td>unknown</td>\n",
       "      <td>Queenstown</td>\n",
       "      <td>y</td>\n",
       "    </tr>\n",
       "  </tbody>\n",
       "</table>\n",
       "<p>627 rows × 10 columns</p>\n",
       "</div>"
      ],
      "text/plain": [
       "     survived     sex   age  n_siblings_spouses  parch     fare   class  \\\n",
       "0           0    male  22.0                   1      0   7.2500   Third   \n",
       "1           1  female  38.0                   1      0  71.2833   First   \n",
       "2           1  female  26.0                   0      0   7.9250   Third   \n",
       "3           1  female  35.0                   1      0  53.1000   First   \n",
       "4           0    male  28.0                   0      0   8.4583   Third   \n",
       "..        ...     ...   ...                 ...    ...      ...     ...   \n",
       "622         0    male  28.0                   0      0  10.5000  Second   \n",
       "623         0    male  25.0                   0      0   7.0500   Third   \n",
       "624         1  female  19.0                   0      0  30.0000   First   \n",
       "625         0  female  28.0                   1      2  23.4500   Third   \n",
       "626         0    male  32.0                   0      0   7.7500   Third   \n",
       "\n",
       "        deck  embark_town alone  \n",
       "0    unknown  Southampton     n  \n",
       "1          C    Cherbourg     n  \n",
       "2    unknown  Southampton     y  \n",
       "3          C  Southampton     n  \n",
       "4    unknown   Queenstown     y  \n",
       "..       ...          ...   ...  \n",
       "622  unknown  Southampton     y  \n",
       "623  unknown  Southampton     y  \n",
       "624        B  Southampton     y  \n",
       "625  unknown  Southampton     n  \n",
       "626  unknown   Queenstown     y  \n",
       "\n",
       "[627 rows x 10 columns]"
      ]
     },
     "execution_count": 85,
     "metadata": {},
     "output_type": "execute_result"
    }
   ],
   "source": [
    "titanic = pd.read_csv(\"https://storage.googleapis.com/tf-datasets/titanic/train.csv\")\n",
    "titanic"
   ]
  },
  {
   "cell_type": "code",
   "execution_count": null,
   "id": "620ac3a0-e4a1-403f-9ee4-10f17cb7967b",
   "metadata": {},
   "outputs": [],
   "source": []
  },
  {
   "cell_type": "code",
   "execution_count": null,
   "id": "b140515f-c812-46a8-a1b8-7cb9b22cfa46",
   "metadata": {},
   "outputs": [],
   "source": []
  },
  {
   "cell_type": "code",
   "execution_count": null,
   "id": "ef318130-6580-434c-81c6-3813b68b068e",
   "metadata": {},
   "outputs": [],
   "source": [
    "##### CSV파일 찾아서 실습"
   ]
  },
  {
   "cell_type": "code",
   "execution_count": 86,
   "id": "3b2be021-9d54-4312-99fb-aca33b18c1b4",
   "metadata": {
    "scrolled": true,
    "tags": []
   },
   "outputs": [
    {
     "data": {
      "text/html": [
       "<div>\n",
       "<style scoped>\n",
       "    .dataframe tbody tr th:only-of-type {\n",
       "        vertical-align: middle;\n",
       "    }\n",
       "\n",
       "    .dataframe tbody tr th {\n",
       "        vertical-align: top;\n",
       "    }\n",
       "\n",
       "    .dataframe thead th {\n",
       "        text-align: right;\n",
       "    }\n",
       "</style>\n",
       "<table border=\"1\" class=\"dataframe\">\n",
       "  <thead>\n",
       "    <tr style=\"text-align: right;\">\n",
       "      <th></th>\n",
       "      <th>도로종류</th>\n",
       "      <th>기상상태</th>\n",
       "      <th>사고건수</th>\n",
       "      <th>사망자수</th>\n",
       "      <th>중상자수</th>\n",
       "      <th>경상자수</th>\n",
       "      <th>부상신고자수</th>\n",
       "    </tr>\n",
       "  </thead>\n",
       "  <tbody>\n",
       "    <tr>\n",
       "      <th>0</th>\n",
       "      <td>일반국도</td>\n",
       "      <td>맑음</td>\n",
       "      <td>16479</td>\n",
       "      <td>427</td>\n",
       "      <td>4985</td>\n",
       "      <td>19509</td>\n",
       "      <td>1354</td>\n",
       "    </tr>\n",
       "    <tr>\n",
       "      <th>1</th>\n",
       "      <td>일반국도</td>\n",
       "      <td>흐림</td>\n",
       "      <td>796</td>\n",
       "      <td>33</td>\n",
       "      <td>258</td>\n",
       "      <td>874</td>\n",
       "      <td>81</td>\n",
       "    </tr>\n",
       "    <tr>\n",
       "      <th>2</th>\n",
       "      <td>일반국도</td>\n",
       "      <td>비</td>\n",
       "      <td>1326</td>\n",
       "      <td>49</td>\n",
       "      <td>433</td>\n",
       "      <td>1573</td>\n",
       "      <td>93</td>\n",
       "    </tr>\n",
       "    <tr>\n",
       "      <th>3</th>\n",
       "      <td>일반국도</td>\n",
       "      <td>안개</td>\n",
       "      <td>43</td>\n",
       "      <td>6</td>\n",
       "      <td>22</td>\n",
       "      <td>37</td>\n",
       "      <td>0</td>\n",
       "    </tr>\n",
       "    <tr>\n",
       "      <th>4</th>\n",
       "      <td>일반국도</td>\n",
       "      <td>눈</td>\n",
       "      <td>165</td>\n",
       "      <td>4</td>\n",
       "      <td>48</td>\n",
       "      <td>221</td>\n",
       "      <td>20</td>\n",
       "    </tr>\n",
       "    <tr>\n",
       "      <th>5</th>\n",
       "      <td>일반국도</td>\n",
       "      <td>기타/불명</td>\n",
       "      <td>174</td>\n",
       "      <td>5</td>\n",
       "      <td>57</td>\n",
       "      <td>212</td>\n",
       "      <td>15</td>\n",
       "    </tr>\n",
       "    <tr>\n",
       "      <th>6</th>\n",
       "      <td>지방도</td>\n",
       "      <td>맑음</td>\n",
       "      <td>12256</td>\n",
       "      <td>271</td>\n",
       "      <td>3972</td>\n",
       "      <td>13464</td>\n",
       "      <td>1155</td>\n",
       "    </tr>\n",
       "    <tr>\n",
       "      <th>7</th>\n",
       "      <td>지방도</td>\n",
       "      <td>흐림</td>\n",
       "      <td>507</td>\n",
       "      <td>26</td>\n",
       "      <td>164</td>\n",
       "      <td>550</td>\n",
       "      <td>42</td>\n",
       "    </tr>\n",
       "    <tr>\n",
       "      <th>8</th>\n",
       "      <td>지방도</td>\n",
       "      <td>비</td>\n",
       "      <td>911</td>\n",
       "      <td>30</td>\n",
       "      <td>315</td>\n",
       "      <td>1061</td>\n",
       "      <td>77</td>\n",
       "    </tr>\n",
       "    <tr>\n",
       "      <th>9</th>\n",
       "      <td>지방도</td>\n",
       "      <td>안개</td>\n",
       "      <td>37</td>\n",
       "      <td>4</td>\n",
       "      <td>17</td>\n",
       "      <td>28</td>\n",
       "      <td>4</td>\n",
       "    </tr>\n",
       "    <tr>\n",
       "      <th>10</th>\n",
       "      <td>지방도</td>\n",
       "      <td>눈</td>\n",
       "      <td>138</td>\n",
       "      <td>4</td>\n",
       "      <td>39</td>\n",
       "      <td>173</td>\n",
       "      <td>12</td>\n",
       "    </tr>\n",
       "    <tr>\n",
       "      <th>11</th>\n",
       "      <td>지방도</td>\n",
       "      <td>기타/불명</td>\n",
       "      <td>142</td>\n",
       "      <td>6</td>\n",
       "      <td>48</td>\n",
       "      <td>141</td>\n",
       "      <td>15</td>\n",
       "    </tr>\n",
       "    <tr>\n",
       "      <th>12</th>\n",
       "      <td>특별광역시도</td>\n",
       "      <td>맑음</td>\n",
       "      <td>70945</td>\n",
       "      <td>557</td>\n",
       "      <td>17436</td>\n",
       "      <td>74588</td>\n",
       "      <td>5945</td>\n",
       "    </tr>\n",
       "    <tr>\n",
       "      <th>13</th>\n",
       "      <td>특별광역시도</td>\n",
       "      <td>흐림</td>\n",
       "      <td>2568</td>\n",
       "      <td>37</td>\n",
       "      <td>674</td>\n",
       "      <td>2570</td>\n",
       "      <td>190</td>\n",
       "    </tr>\n",
       "    <tr>\n",
       "      <th>14</th>\n",
       "      <td>특별광역시도</td>\n",
       "      <td>비</td>\n",
       "      <td>5286</td>\n",
       "      <td>65</td>\n",
       "      <td>1298</td>\n",
       "      <td>5675</td>\n",
       "      <td>397</td>\n",
       "    </tr>\n",
       "    <tr>\n",
       "      <th>15</th>\n",
       "      <td>특별광역시도</td>\n",
       "      <td>안개</td>\n",
       "      <td>14</td>\n",
       "      <td>1</td>\n",
       "      <td>4</td>\n",
       "      <td>16</td>\n",
       "      <td>1</td>\n",
       "    </tr>\n",
       "    <tr>\n",
       "      <th>16</th>\n",
       "      <td>특별광역시도</td>\n",
       "      <td>눈</td>\n",
       "      <td>463</td>\n",
       "      <td>3</td>\n",
       "      <td>80</td>\n",
       "      <td>601</td>\n",
       "      <td>25</td>\n",
       "    </tr>\n",
       "    <tr>\n",
       "      <th>17</th>\n",
       "      <td>특별광역시도</td>\n",
       "      <td>기타/불명</td>\n",
       "      <td>829</td>\n",
       "      <td>4</td>\n",
       "      <td>173</td>\n",
       "      <td>848</td>\n",
       "      <td>74</td>\n",
       "    </tr>\n",
       "    <tr>\n",
       "      <th>18</th>\n",
       "      <td>시도</td>\n",
       "      <td>맑음</td>\n",
       "      <td>57822</td>\n",
       "      <td>681</td>\n",
       "      <td>16158</td>\n",
       "      <td>62232</td>\n",
       "      <td>4016</td>\n",
       "    </tr>\n",
       "    <tr>\n",
       "      <th>19</th>\n",
       "      <td>시도</td>\n",
       "      <td>흐림</td>\n",
       "      <td>2211</td>\n",
       "      <td>57</td>\n",
       "      <td>678</td>\n",
       "      <td>2271</td>\n",
       "      <td>132</td>\n",
       "    </tr>\n",
       "    <tr>\n",
       "      <th>20</th>\n",
       "      <td>시도</td>\n",
       "      <td>비</td>\n",
       "      <td>4384</td>\n",
       "      <td>71</td>\n",
       "      <td>1259</td>\n",
       "      <td>4819</td>\n",
       "      <td>277</td>\n",
       "    </tr>\n",
       "    <tr>\n",
       "      <th>21</th>\n",
       "      <td>시도</td>\n",
       "      <td>안개</td>\n",
       "      <td>76</td>\n",
       "      <td>9</td>\n",
       "      <td>29</td>\n",
       "      <td>65</td>\n",
       "      <td>8</td>\n",
       "    </tr>\n",
       "    <tr>\n",
       "      <th>22</th>\n",
       "      <td>시도</td>\n",
       "      <td>눈</td>\n",
       "      <td>426</td>\n",
       "      <td>6</td>\n",
       "      <td>98</td>\n",
       "      <td>543</td>\n",
       "      <td>35</td>\n",
       "    </tr>\n",
       "    <tr>\n",
       "      <th>23</th>\n",
       "      <td>시도</td>\n",
       "      <td>기타/불명</td>\n",
       "      <td>576</td>\n",
       "      <td>10</td>\n",
       "      <td>155</td>\n",
       "      <td>587</td>\n",
       "      <td>44</td>\n",
       "    </tr>\n",
       "    <tr>\n",
       "      <th>24</th>\n",
       "      <td>군도</td>\n",
       "      <td>맑음</td>\n",
       "      <td>6008</td>\n",
       "      <td>174</td>\n",
       "      <td>2369</td>\n",
       "      <td>5757</td>\n",
       "      <td>428</td>\n",
       "    </tr>\n",
       "    <tr>\n",
       "      <th>25</th>\n",
       "      <td>군도</td>\n",
       "      <td>흐림</td>\n",
       "      <td>283</td>\n",
       "      <td>16</td>\n",
       "      <td>122</td>\n",
       "      <td>236</td>\n",
       "      <td>16</td>\n",
       "    </tr>\n",
       "    <tr>\n",
       "      <th>26</th>\n",
       "      <td>군도</td>\n",
       "      <td>비</td>\n",
       "      <td>421</td>\n",
       "      <td>12</td>\n",
       "      <td>160</td>\n",
       "      <td>413</td>\n",
       "      <td>25</td>\n",
       "    </tr>\n",
       "    <tr>\n",
       "      <th>27</th>\n",
       "      <td>군도</td>\n",
       "      <td>안개</td>\n",
       "      <td>18</td>\n",
       "      <td>0</td>\n",
       "      <td>7</td>\n",
       "      <td>19</td>\n",
       "      <td>0</td>\n",
       "    </tr>\n",
       "    <tr>\n",
       "      <th>28</th>\n",
       "      <td>군도</td>\n",
       "      <td>눈</td>\n",
       "      <td>53</td>\n",
       "      <td>1</td>\n",
       "      <td>15</td>\n",
       "      <td>63</td>\n",
       "      <td>3</td>\n",
       "    </tr>\n",
       "    <tr>\n",
       "      <th>29</th>\n",
       "      <td>군도</td>\n",
       "      <td>기타/불명</td>\n",
       "      <td>65</td>\n",
       "      <td>5</td>\n",
       "      <td>17</td>\n",
       "      <td>68</td>\n",
       "      <td>1</td>\n",
       "    </tr>\n",
       "    <tr>\n",
       "      <th>30</th>\n",
       "      <td>고속국도</td>\n",
       "      <td>맑음</td>\n",
       "      <td>4255</td>\n",
       "      <td>138</td>\n",
       "      <td>1331</td>\n",
       "      <td>6582</td>\n",
       "      <td>566</td>\n",
       "    </tr>\n",
       "    <tr>\n",
       "      <th>31</th>\n",
       "      <td>고속국도</td>\n",
       "      <td>흐림</td>\n",
       "      <td>147</td>\n",
       "      <td>16</td>\n",
       "      <td>52</td>\n",
       "      <td>216</td>\n",
       "      <td>20</td>\n",
       "    </tr>\n",
       "    <tr>\n",
       "      <th>32</th>\n",
       "      <td>고속국도</td>\n",
       "      <td>비</td>\n",
       "      <td>403</td>\n",
       "      <td>29</td>\n",
       "      <td>161</td>\n",
       "      <td>553</td>\n",
       "      <td>63</td>\n",
       "    </tr>\n",
       "    <tr>\n",
       "      <th>33</th>\n",
       "      <td>고속국도</td>\n",
       "      <td>안개</td>\n",
       "      <td>10</td>\n",
       "      <td>2</td>\n",
       "      <td>10</td>\n",
       "      <td>13</td>\n",
       "      <td>1</td>\n",
       "    </tr>\n",
       "    <tr>\n",
       "      <th>34</th>\n",
       "      <td>고속국도</td>\n",
       "      <td>눈</td>\n",
       "      <td>61</td>\n",
       "      <td>4</td>\n",
       "      <td>29</td>\n",
       "      <td>81</td>\n",
       "      <td>14</td>\n",
       "    </tr>\n",
       "    <tr>\n",
       "      <th>35</th>\n",
       "      <td>고속국도</td>\n",
       "      <td>기타/불명</td>\n",
       "      <td>7</td>\n",
       "      <td>2</td>\n",
       "      <td>9</td>\n",
       "      <td>7</td>\n",
       "      <td>0</td>\n",
       "    </tr>\n",
       "    <tr>\n",
       "      <th>36</th>\n",
       "      <td>기타</td>\n",
       "      <td>맑음</td>\n",
       "      <td>11148</td>\n",
       "      <td>124</td>\n",
       "      <td>2821</td>\n",
       "      <td>10918</td>\n",
       "      <td>1100</td>\n",
       "    </tr>\n",
       "    <tr>\n",
       "      <th>37</th>\n",
       "      <td>기타</td>\n",
       "      <td>흐림</td>\n",
       "      <td>470</td>\n",
       "      <td>12</td>\n",
       "      <td>114</td>\n",
       "      <td>454</td>\n",
       "      <td>63</td>\n",
       "    </tr>\n",
       "    <tr>\n",
       "      <th>38</th>\n",
       "      <td>기타</td>\n",
       "      <td>비</td>\n",
       "      <td>642</td>\n",
       "      <td>11</td>\n",
       "      <td>160</td>\n",
       "      <td>637</td>\n",
       "      <td>56</td>\n",
       "    </tr>\n",
       "    <tr>\n",
       "      <th>39</th>\n",
       "      <td>기타</td>\n",
       "      <td>안개</td>\n",
       "      <td>9</td>\n",
       "      <td>0</td>\n",
       "      <td>3</td>\n",
       "      <td>8</td>\n",
       "      <td>2</td>\n",
       "    </tr>\n",
       "    <tr>\n",
       "      <th>40</th>\n",
       "      <td>기타</td>\n",
       "      <td>눈</td>\n",
       "      <td>89</td>\n",
       "      <td>1</td>\n",
       "      <td>11</td>\n",
       "      <td>96</td>\n",
       "      <td>10</td>\n",
       "    </tr>\n",
       "    <tr>\n",
       "      <th>41</th>\n",
       "      <td>기타</td>\n",
       "      <td>기타/불명</td>\n",
       "      <td>467</td>\n",
       "      <td>3</td>\n",
       "      <td>114</td>\n",
       "      <td>504</td>\n",
       "      <td>40</td>\n",
       "    </tr>\n",
       "  </tbody>\n",
       "</table>\n",
       "</div>"
      ],
      "text/plain": [
       "      도로종류   기상상태   사고건수  사망자수   중상자수   경상자수  부상신고자수\n",
       "0     일반국도     맑음  16479   427   4985  19509    1354\n",
       "1     일반국도     흐림    796    33    258    874      81\n",
       "2     일반국도      비   1326    49    433   1573      93\n",
       "3     일반국도     안개     43     6     22     37       0\n",
       "4     일반국도      눈    165     4     48    221      20\n",
       "5     일반국도  기타/불명    174     5     57    212      15\n",
       "6      지방도     맑음  12256   271   3972  13464    1155\n",
       "7      지방도     흐림    507    26    164    550      42\n",
       "8      지방도      비    911    30    315   1061      77\n",
       "9      지방도     안개     37     4     17     28       4\n",
       "10     지방도      눈    138     4     39    173      12\n",
       "11     지방도  기타/불명    142     6     48    141      15\n",
       "12  특별광역시도     맑음  70945   557  17436  74588    5945\n",
       "13  특별광역시도     흐림   2568    37    674   2570     190\n",
       "14  특별광역시도      비   5286    65   1298   5675     397\n",
       "15  특별광역시도     안개     14     1      4     16       1\n",
       "16  특별광역시도      눈    463     3     80    601      25\n",
       "17  특별광역시도  기타/불명    829     4    173    848      74\n",
       "18      시도     맑음  57822   681  16158  62232    4016\n",
       "19      시도     흐림   2211    57    678   2271     132\n",
       "20      시도      비   4384    71   1259   4819     277\n",
       "21      시도     안개     76     9     29     65       8\n",
       "22      시도      눈    426     6     98    543      35\n",
       "23      시도  기타/불명    576    10    155    587      44\n",
       "24      군도     맑음   6008   174   2369   5757     428\n",
       "25      군도     흐림    283    16    122    236      16\n",
       "26      군도      비    421    12    160    413      25\n",
       "27      군도     안개     18     0      7     19       0\n",
       "28      군도      눈     53     1     15     63       3\n",
       "29      군도  기타/불명     65     5     17     68       1\n",
       "30    고속국도     맑음   4255   138   1331   6582     566\n",
       "31    고속국도     흐림    147    16     52    216      20\n",
       "32    고속국도      비    403    29    161    553      63\n",
       "33    고속국도     안개     10     2     10     13       1\n",
       "34    고속국도      눈     61     4     29     81      14\n",
       "35    고속국도  기타/불명      7     2      9      7       0\n",
       "36      기타     맑음  11148   124   2821  10918    1100\n",
       "37      기타     흐림    470    12    114    454      63\n",
       "38      기타      비    642    11    160    637      56\n",
       "39      기타     안개      9     0      3      8       2\n",
       "40      기타      눈     89     1     11     96      10\n",
       "41      기타  기타/불명    467     3    114    504      40"
      ]
     },
     "execution_count": 86,
     "metadata": {},
     "output_type": "execute_result"
    }
   ],
   "source": [
    "accident = pd.read_csv(\"도로교통공단_도로종류별 기상상태별 교통사고 통계.csv\", encoding = 'cp949')\n",
    "accident"
   ]
  },
  {
   "cell_type": "code",
   "execution_count": 87,
   "id": "46714af6-d53d-4128-bcab-3be08d760fc9",
   "metadata": {},
   "outputs": [
    {
     "data": {
      "text/html": [
       "<div>\n",
       "<style scoped>\n",
       "    .dataframe tbody tr th:only-of-type {\n",
       "        vertical-align: middle;\n",
       "    }\n",
       "\n",
       "    .dataframe tbody tr th {\n",
       "        vertical-align: top;\n",
       "    }\n",
       "\n",
       "    .dataframe thead th {\n",
       "        text-align: right;\n",
       "    }\n",
       "</style>\n",
       "<table border=\"1\" class=\"dataframe\">\n",
       "  <thead>\n",
       "    <tr style=\"text-align: right;\">\n",
       "      <th></th>\n",
       "      <th>기상상태</th>\n",
       "      <th>사고건수</th>\n",
       "      <th>사망자수</th>\n",
       "      <th>중상자수</th>\n",
       "      <th>경상자수</th>\n",
       "      <th>부상신고자수</th>\n",
       "    </tr>\n",
       "    <tr>\n",
       "      <th>도로종류</th>\n",
       "      <th></th>\n",
       "      <th></th>\n",
       "      <th></th>\n",
       "      <th></th>\n",
       "      <th></th>\n",
       "      <th></th>\n",
       "    </tr>\n",
       "  </thead>\n",
       "  <tbody>\n",
       "    <tr>\n",
       "      <th>일반국도</th>\n",
       "      <td>맑음</td>\n",
       "      <td>16479</td>\n",
       "      <td>427</td>\n",
       "      <td>4985</td>\n",
       "      <td>19509</td>\n",
       "      <td>1354</td>\n",
       "    </tr>\n",
       "    <tr>\n",
       "      <th>일반국도</th>\n",
       "      <td>흐림</td>\n",
       "      <td>796</td>\n",
       "      <td>33</td>\n",
       "      <td>258</td>\n",
       "      <td>874</td>\n",
       "      <td>81</td>\n",
       "    </tr>\n",
       "    <tr>\n",
       "      <th>일반국도</th>\n",
       "      <td>비</td>\n",
       "      <td>1326</td>\n",
       "      <td>49</td>\n",
       "      <td>433</td>\n",
       "      <td>1573</td>\n",
       "      <td>93</td>\n",
       "    </tr>\n",
       "    <tr>\n",
       "      <th>일반국도</th>\n",
       "      <td>안개</td>\n",
       "      <td>43</td>\n",
       "      <td>6</td>\n",
       "      <td>22</td>\n",
       "      <td>37</td>\n",
       "      <td>0</td>\n",
       "    </tr>\n",
       "    <tr>\n",
       "      <th>일반국도</th>\n",
       "      <td>눈</td>\n",
       "      <td>165</td>\n",
       "      <td>4</td>\n",
       "      <td>48</td>\n",
       "      <td>221</td>\n",
       "      <td>20</td>\n",
       "    </tr>\n",
       "    <tr>\n",
       "      <th>일반국도</th>\n",
       "      <td>기타/불명</td>\n",
       "      <td>174</td>\n",
       "      <td>5</td>\n",
       "      <td>57</td>\n",
       "      <td>212</td>\n",
       "      <td>15</td>\n",
       "    </tr>\n",
       "    <tr>\n",
       "      <th>지방도</th>\n",
       "      <td>맑음</td>\n",
       "      <td>12256</td>\n",
       "      <td>271</td>\n",
       "      <td>3972</td>\n",
       "      <td>13464</td>\n",
       "      <td>1155</td>\n",
       "    </tr>\n",
       "    <tr>\n",
       "      <th>지방도</th>\n",
       "      <td>흐림</td>\n",
       "      <td>507</td>\n",
       "      <td>26</td>\n",
       "      <td>164</td>\n",
       "      <td>550</td>\n",
       "      <td>42</td>\n",
       "    </tr>\n",
       "    <tr>\n",
       "      <th>지방도</th>\n",
       "      <td>비</td>\n",
       "      <td>911</td>\n",
       "      <td>30</td>\n",
       "      <td>315</td>\n",
       "      <td>1061</td>\n",
       "      <td>77</td>\n",
       "    </tr>\n",
       "    <tr>\n",
       "      <th>지방도</th>\n",
       "      <td>안개</td>\n",
       "      <td>37</td>\n",
       "      <td>4</td>\n",
       "      <td>17</td>\n",
       "      <td>28</td>\n",
       "      <td>4</td>\n",
       "    </tr>\n",
       "    <tr>\n",
       "      <th>지방도</th>\n",
       "      <td>눈</td>\n",
       "      <td>138</td>\n",
       "      <td>4</td>\n",
       "      <td>39</td>\n",
       "      <td>173</td>\n",
       "      <td>12</td>\n",
       "    </tr>\n",
       "    <tr>\n",
       "      <th>지방도</th>\n",
       "      <td>기타/불명</td>\n",
       "      <td>142</td>\n",
       "      <td>6</td>\n",
       "      <td>48</td>\n",
       "      <td>141</td>\n",
       "      <td>15</td>\n",
       "    </tr>\n",
       "    <tr>\n",
       "      <th>특별광역시도</th>\n",
       "      <td>맑음</td>\n",
       "      <td>70945</td>\n",
       "      <td>557</td>\n",
       "      <td>17436</td>\n",
       "      <td>74588</td>\n",
       "      <td>5945</td>\n",
       "    </tr>\n",
       "    <tr>\n",
       "      <th>특별광역시도</th>\n",
       "      <td>흐림</td>\n",
       "      <td>2568</td>\n",
       "      <td>37</td>\n",
       "      <td>674</td>\n",
       "      <td>2570</td>\n",
       "      <td>190</td>\n",
       "    </tr>\n",
       "    <tr>\n",
       "      <th>특별광역시도</th>\n",
       "      <td>비</td>\n",
       "      <td>5286</td>\n",
       "      <td>65</td>\n",
       "      <td>1298</td>\n",
       "      <td>5675</td>\n",
       "      <td>397</td>\n",
       "    </tr>\n",
       "    <tr>\n",
       "      <th>특별광역시도</th>\n",
       "      <td>안개</td>\n",
       "      <td>14</td>\n",
       "      <td>1</td>\n",
       "      <td>4</td>\n",
       "      <td>16</td>\n",
       "      <td>1</td>\n",
       "    </tr>\n",
       "    <tr>\n",
       "      <th>특별광역시도</th>\n",
       "      <td>눈</td>\n",
       "      <td>463</td>\n",
       "      <td>3</td>\n",
       "      <td>80</td>\n",
       "      <td>601</td>\n",
       "      <td>25</td>\n",
       "    </tr>\n",
       "    <tr>\n",
       "      <th>특별광역시도</th>\n",
       "      <td>기타/불명</td>\n",
       "      <td>829</td>\n",
       "      <td>4</td>\n",
       "      <td>173</td>\n",
       "      <td>848</td>\n",
       "      <td>74</td>\n",
       "    </tr>\n",
       "    <tr>\n",
       "      <th>시도</th>\n",
       "      <td>맑음</td>\n",
       "      <td>57822</td>\n",
       "      <td>681</td>\n",
       "      <td>16158</td>\n",
       "      <td>62232</td>\n",
       "      <td>4016</td>\n",
       "    </tr>\n",
       "    <tr>\n",
       "      <th>시도</th>\n",
       "      <td>흐림</td>\n",
       "      <td>2211</td>\n",
       "      <td>57</td>\n",
       "      <td>678</td>\n",
       "      <td>2271</td>\n",
       "      <td>132</td>\n",
       "    </tr>\n",
       "    <tr>\n",
       "      <th>시도</th>\n",
       "      <td>비</td>\n",
       "      <td>4384</td>\n",
       "      <td>71</td>\n",
       "      <td>1259</td>\n",
       "      <td>4819</td>\n",
       "      <td>277</td>\n",
       "    </tr>\n",
       "    <tr>\n",
       "      <th>시도</th>\n",
       "      <td>안개</td>\n",
       "      <td>76</td>\n",
       "      <td>9</td>\n",
       "      <td>29</td>\n",
       "      <td>65</td>\n",
       "      <td>8</td>\n",
       "    </tr>\n",
       "    <tr>\n",
       "      <th>시도</th>\n",
       "      <td>눈</td>\n",
       "      <td>426</td>\n",
       "      <td>6</td>\n",
       "      <td>98</td>\n",
       "      <td>543</td>\n",
       "      <td>35</td>\n",
       "    </tr>\n",
       "    <tr>\n",
       "      <th>시도</th>\n",
       "      <td>기타/불명</td>\n",
       "      <td>576</td>\n",
       "      <td>10</td>\n",
       "      <td>155</td>\n",
       "      <td>587</td>\n",
       "      <td>44</td>\n",
       "    </tr>\n",
       "    <tr>\n",
       "      <th>군도</th>\n",
       "      <td>맑음</td>\n",
       "      <td>6008</td>\n",
       "      <td>174</td>\n",
       "      <td>2369</td>\n",
       "      <td>5757</td>\n",
       "      <td>428</td>\n",
       "    </tr>\n",
       "    <tr>\n",
       "      <th>군도</th>\n",
       "      <td>흐림</td>\n",
       "      <td>283</td>\n",
       "      <td>16</td>\n",
       "      <td>122</td>\n",
       "      <td>236</td>\n",
       "      <td>16</td>\n",
       "    </tr>\n",
       "    <tr>\n",
       "      <th>군도</th>\n",
       "      <td>비</td>\n",
       "      <td>421</td>\n",
       "      <td>12</td>\n",
       "      <td>160</td>\n",
       "      <td>413</td>\n",
       "      <td>25</td>\n",
       "    </tr>\n",
       "    <tr>\n",
       "      <th>군도</th>\n",
       "      <td>안개</td>\n",
       "      <td>18</td>\n",
       "      <td>0</td>\n",
       "      <td>7</td>\n",
       "      <td>19</td>\n",
       "      <td>0</td>\n",
       "    </tr>\n",
       "    <tr>\n",
       "      <th>군도</th>\n",
       "      <td>눈</td>\n",
       "      <td>53</td>\n",
       "      <td>1</td>\n",
       "      <td>15</td>\n",
       "      <td>63</td>\n",
       "      <td>3</td>\n",
       "    </tr>\n",
       "    <tr>\n",
       "      <th>군도</th>\n",
       "      <td>기타/불명</td>\n",
       "      <td>65</td>\n",
       "      <td>5</td>\n",
       "      <td>17</td>\n",
       "      <td>68</td>\n",
       "      <td>1</td>\n",
       "    </tr>\n",
       "    <tr>\n",
       "      <th>고속국도</th>\n",
       "      <td>맑음</td>\n",
       "      <td>4255</td>\n",
       "      <td>138</td>\n",
       "      <td>1331</td>\n",
       "      <td>6582</td>\n",
       "      <td>566</td>\n",
       "    </tr>\n",
       "    <tr>\n",
       "      <th>고속국도</th>\n",
       "      <td>흐림</td>\n",
       "      <td>147</td>\n",
       "      <td>16</td>\n",
       "      <td>52</td>\n",
       "      <td>216</td>\n",
       "      <td>20</td>\n",
       "    </tr>\n",
       "    <tr>\n",
       "      <th>고속국도</th>\n",
       "      <td>비</td>\n",
       "      <td>403</td>\n",
       "      <td>29</td>\n",
       "      <td>161</td>\n",
       "      <td>553</td>\n",
       "      <td>63</td>\n",
       "    </tr>\n",
       "    <tr>\n",
       "      <th>고속국도</th>\n",
       "      <td>안개</td>\n",
       "      <td>10</td>\n",
       "      <td>2</td>\n",
       "      <td>10</td>\n",
       "      <td>13</td>\n",
       "      <td>1</td>\n",
       "    </tr>\n",
       "    <tr>\n",
       "      <th>고속국도</th>\n",
       "      <td>눈</td>\n",
       "      <td>61</td>\n",
       "      <td>4</td>\n",
       "      <td>29</td>\n",
       "      <td>81</td>\n",
       "      <td>14</td>\n",
       "    </tr>\n",
       "    <tr>\n",
       "      <th>고속국도</th>\n",
       "      <td>기타/불명</td>\n",
       "      <td>7</td>\n",
       "      <td>2</td>\n",
       "      <td>9</td>\n",
       "      <td>7</td>\n",
       "      <td>0</td>\n",
       "    </tr>\n",
       "    <tr>\n",
       "      <th>기타</th>\n",
       "      <td>맑음</td>\n",
       "      <td>11148</td>\n",
       "      <td>124</td>\n",
       "      <td>2821</td>\n",
       "      <td>10918</td>\n",
       "      <td>1100</td>\n",
       "    </tr>\n",
       "    <tr>\n",
       "      <th>기타</th>\n",
       "      <td>흐림</td>\n",
       "      <td>470</td>\n",
       "      <td>12</td>\n",
       "      <td>114</td>\n",
       "      <td>454</td>\n",
       "      <td>63</td>\n",
       "    </tr>\n",
       "    <tr>\n",
       "      <th>기타</th>\n",
       "      <td>비</td>\n",
       "      <td>642</td>\n",
       "      <td>11</td>\n",
       "      <td>160</td>\n",
       "      <td>637</td>\n",
       "      <td>56</td>\n",
       "    </tr>\n",
       "    <tr>\n",
       "      <th>기타</th>\n",
       "      <td>안개</td>\n",
       "      <td>9</td>\n",
       "      <td>0</td>\n",
       "      <td>3</td>\n",
       "      <td>8</td>\n",
       "      <td>2</td>\n",
       "    </tr>\n",
       "    <tr>\n",
       "      <th>기타</th>\n",
       "      <td>눈</td>\n",
       "      <td>89</td>\n",
       "      <td>1</td>\n",
       "      <td>11</td>\n",
       "      <td>96</td>\n",
       "      <td>10</td>\n",
       "    </tr>\n",
       "    <tr>\n",
       "      <th>기타</th>\n",
       "      <td>기타/불명</td>\n",
       "      <td>467</td>\n",
       "      <td>3</td>\n",
       "      <td>114</td>\n",
       "      <td>504</td>\n",
       "      <td>40</td>\n",
       "    </tr>\n",
       "  </tbody>\n",
       "</table>\n",
       "</div>"
      ],
      "text/plain": [
       "         기상상태   사고건수  사망자수   중상자수   경상자수  부상신고자수\n",
       "도로종류                                            \n",
       "일반국도       맑음  16479   427   4985  19509    1354\n",
       "일반국도       흐림    796    33    258    874      81\n",
       "일반국도        비   1326    49    433   1573      93\n",
       "일반국도       안개     43     6     22     37       0\n",
       "일반국도        눈    165     4     48    221      20\n",
       "일반국도    기타/불명    174     5     57    212      15\n",
       "지방도        맑음  12256   271   3972  13464    1155\n",
       "지방도        흐림    507    26    164    550      42\n",
       "지방도         비    911    30    315   1061      77\n",
       "지방도        안개     37     4     17     28       4\n",
       "지방도         눈    138     4     39    173      12\n",
       "지방도     기타/불명    142     6     48    141      15\n",
       "특별광역시도     맑음  70945   557  17436  74588    5945\n",
       "특별광역시도     흐림   2568    37    674   2570     190\n",
       "특별광역시도      비   5286    65   1298   5675     397\n",
       "특별광역시도     안개     14     1      4     16       1\n",
       "특별광역시도      눈    463     3     80    601      25\n",
       "특별광역시도  기타/불명    829     4    173    848      74\n",
       "시도         맑음  57822   681  16158  62232    4016\n",
       "시도         흐림   2211    57    678   2271     132\n",
       "시도          비   4384    71   1259   4819     277\n",
       "시도         안개     76     9     29     65       8\n",
       "시도          눈    426     6     98    543      35\n",
       "시도      기타/불명    576    10    155    587      44\n",
       "군도         맑음   6008   174   2369   5757     428\n",
       "군도         흐림    283    16    122    236      16\n",
       "군도          비    421    12    160    413      25\n",
       "군도         안개     18     0      7     19       0\n",
       "군도          눈     53     1     15     63       3\n",
       "군도      기타/불명     65     5     17     68       1\n",
       "고속국도       맑음   4255   138   1331   6582     566\n",
       "고속국도       흐림    147    16     52    216      20\n",
       "고속국도        비    403    29    161    553      63\n",
       "고속국도       안개     10     2     10     13       1\n",
       "고속국도        눈     61     4     29     81      14\n",
       "고속국도    기타/불명      7     2      9      7       0\n",
       "기타         맑음  11148   124   2821  10918    1100\n",
       "기타         흐림    470    12    114    454      63\n",
       "기타          비    642    11    160    637      56\n",
       "기타         안개      9     0      3      8       2\n",
       "기타          눈     89     1     11     96      10\n",
       "기타      기타/불명    467     3    114    504      40"
      ]
     },
     "execution_count": 87,
     "metadata": {},
     "output_type": "execute_result"
    }
   ],
   "source": [
    "accident2 = pd.read_csv(\"도로교통공단_도로종류별 기상상태별 교통사고 통계.csv\", \n",
    "                        index_col = \"도로종류\",\n",
    "                        encoding = 'cp949')\n",
    "accident2"
   ]
  },
  {
   "cell_type": "code",
   "execution_count": 88,
   "id": "f39a07a2-37fa-4397-80d7-9f083cae7fe1",
   "metadata": {},
   "outputs": [
    {
     "data": {
      "text/html": [
       "<div>\n",
       "<style scoped>\n",
       "    .dataframe tbody tr th:only-of-type {\n",
       "        vertical-align: middle;\n",
       "    }\n",
       "\n",
       "    .dataframe tbody tr th {\n",
       "        vertical-align: top;\n",
       "    }\n",
       "\n",
       "    .dataframe thead th {\n",
       "        text-align: right;\n",
       "    }\n",
       "</style>\n",
       "<table border=\"1\" class=\"dataframe\">\n",
       "  <thead>\n",
       "    <tr style=\"text-align: right;\">\n",
       "      <th></th>\n",
       "      <th>기상상태</th>\n",
       "      <th>사고건수</th>\n",
       "    </tr>\n",
       "    <tr>\n",
       "      <th>도로종류</th>\n",
       "      <th></th>\n",
       "      <th></th>\n",
       "    </tr>\n",
       "  </thead>\n",
       "  <tbody>\n",
       "    <tr>\n",
       "      <th>일반국도</th>\n",
       "      <td>맑음</td>\n",
       "      <td>16479</td>\n",
       "    </tr>\n",
       "    <tr>\n",
       "      <th>일반국도</th>\n",
       "      <td>흐림</td>\n",
       "      <td>796</td>\n",
       "    </tr>\n",
       "    <tr>\n",
       "      <th>일반국도</th>\n",
       "      <td>비</td>\n",
       "      <td>1326</td>\n",
       "    </tr>\n",
       "    <tr>\n",
       "      <th>일반국도</th>\n",
       "      <td>안개</td>\n",
       "      <td>43</td>\n",
       "    </tr>\n",
       "    <tr>\n",
       "      <th>일반국도</th>\n",
       "      <td>눈</td>\n",
       "      <td>165</td>\n",
       "    </tr>\n",
       "    <tr>\n",
       "      <th>일반국도</th>\n",
       "      <td>기타/불명</td>\n",
       "      <td>174</td>\n",
       "    </tr>\n",
       "    <tr>\n",
       "      <th>지방도</th>\n",
       "      <td>맑음</td>\n",
       "      <td>12256</td>\n",
       "    </tr>\n",
       "    <tr>\n",
       "      <th>지방도</th>\n",
       "      <td>흐림</td>\n",
       "      <td>507</td>\n",
       "    </tr>\n",
       "    <tr>\n",
       "      <th>지방도</th>\n",
       "      <td>비</td>\n",
       "      <td>911</td>\n",
       "    </tr>\n",
       "    <tr>\n",
       "      <th>지방도</th>\n",
       "      <td>안개</td>\n",
       "      <td>37</td>\n",
       "    </tr>\n",
       "    <tr>\n",
       "      <th>지방도</th>\n",
       "      <td>눈</td>\n",
       "      <td>138</td>\n",
       "    </tr>\n",
       "    <tr>\n",
       "      <th>지방도</th>\n",
       "      <td>기타/불명</td>\n",
       "      <td>142</td>\n",
       "    </tr>\n",
       "    <tr>\n",
       "      <th>특별광역시도</th>\n",
       "      <td>맑음</td>\n",
       "      <td>70945</td>\n",
       "    </tr>\n",
       "    <tr>\n",
       "      <th>특별광역시도</th>\n",
       "      <td>흐림</td>\n",
       "      <td>2568</td>\n",
       "    </tr>\n",
       "    <tr>\n",
       "      <th>특별광역시도</th>\n",
       "      <td>비</td>\n",
       "      <td>5286</td>\n",
       "    </tr>\n",
       "    <tr>\n",
       "      <th>특별광역시도</th>\n",
       "      <td>안개</td>\n",
       "      <td>14</td>\n",
       "    </tr>\n",
       "    <tr>\n",
       "      <th>특별광역시도</th>\n",
       "      <td>눈</td>\n",
       "      <td>463</td>\n",
       "    </tr>\n",
       "    <tr>\n",
       "      <th>특별광역시도</th>\n",
       "      <td>기타/불명</td>\n",
       "      <td>829</td>\n",
       "    </tr>\n",
       "    <tr>\n",
       "      <th>시도</th>\n",
       "      <td>맑음</td>\n",
       "      <td>57822</td>\n",
       "    </tr>\n",
       "    <tr>\n",
       "      <th>시도</th>\n",
       "      <td>흐림</td>\n",
       "      <td>2211</td>\n",
       "    </tr>\n",
       "    <tr>\n",
       "      <th>시도</th>\n",
       "      <td>비</td>\n",
       "      <td>4384</td>\n",
       "    </tr>\n",
       "    <tr>\n",
       "      <th>시도</th>\n",
       "      <td>안개</td>\n",
       "      <td>76</td>\n",
       "    </tr>\n",
       "    <tr>\n",
       "      <th>시도</th>\n",
       "      <td>눈</td>\n",
       "      <td>426</td>\n",
       "    </tr>\n",
       "    <tr>\n",
       "      <th>시도</th>\n",
       "      <td>기타/불명</td>\n",
       "      <td>576</td>\n",
       "    </tr>\n",
       "    <tr>\n",
       "      <th>군도</th>\n",
       "      <td>맑음</td>\n",
       "      <td>6008</td>\n",
       "    </tr>\n",
       "    <tr>\n",
       "      <th>군도</th>\n",
       "      <td>흐림</td>\n",
       "      <td>283</td>\n",
       "    </tr>\n",
       "    <tr>\n",
       "      <th>군도</th>\n",
       "      <td>비</td>\n",
       "      <td>421</td>\n",
       "    </tr>\n",
       "    <tr>\n",
       "      <th>군도</th>\n",
       "      <td>안개</td>\n",
       "      <td>18</td>\n",
       "    </tr>\n",
       "    <tr>\n",
       "      <th>군도</th>\n",
       "      <td>눈</td>\n",
       "      <td>53</td>\n",
       "    </tr>\n",
       "    <tr>\n",
       "      <th>군도</th>\n",
       "      <td>기타/불명</td>\n",
       "      <td>65</td>\n",
       "    </tr>\n",
       "    <tr>\n",
       "      <th>고속국도</th>\n",
       "      <td>맑음</td>\n",
       "      <td>4255</td>\n",
       "    </tr>\n",
       "    <tr>\n",
       "      <th>고속국도</th>\n",
       "      <td>흐림</td>\n",
       "      <td>147</td>\n",
       "    </tr>\n",
       "    <tr>\n",
       "      <th>고속국도</th>\n",
       "      <td>비</td>\n",
       "      <td>403</td>\n",
       "    </tr>\n",
       "    <tr>\n",
       "      <th>고속국도</th>\n",
       "      <td>안개</td>\n",
       "      <td>10</td>\n",
       "    </tr>\n",
       "    <tr>\n",
       "      <th>고속국도</th>\n",
       "      <td>눈</td>\n",
       "      <td>61</td>\n",
       "    </tr>\n",
       "    <tr>\n",
       "      <th>고속국도</th>\n",
       "      <td>기타/불명</td>\n",
       "      <td>7</td>\n",
       "    </tr>\n",
       "    <tr>\n",
       "      <th>기타</th>\n",
       "      <td>맑음</td>\n",
       "      <td>11148</td>\n",
       "    </tr>\n",
       "    <tr>\n",
       "      <th>기타</th>\n",
       "      <td>흐림</td>\n",
       "      <td>470</td>\n",
       "    </tr>\n",
       "    <tr>\n",
       "      <th>기타</th>\n",
       "      <td>비</td>\n",
       "      <td>642</td>\n",
       "    </tr>\n",
       "    <tr>\n",
       "      <th>기타</th>\n",
       "      <td>안개</td>\n",
       "      <td>9</td>\n",
       "    </tr>\n",
       "    <tr>\n",
       "      <th>기타</th>\n",
       "      <td>눈</td>\n",
       "      <td>89</td>\n",
       "    </tr>\n",
       "    <tr>\n",
       "      <th>기타</th>\n",
       "      <td>기타/불명</td>\n",
       "      <td>467</td>\n",
       "    </tr>\n",
       "  </tbody>\n",
       "</table>\n",
       "</div>"
      ],
      "text/plain": [
       "         기상상태   사고건수\n",
       "도로종류                \n",
       "일반국도       맑음  16479\n",
       "일반국도       흐림    796\n",
       "일반국도        비   1326\n",
       "일반국도       안개     43\n",
       "일반국도        눈    165\n",
       "일반국도    기타/불명    174\n",
       "지방도        맑음  12256\n",
       "지방도        흐림    507\n",
       "지방도         비    911\n",
       "지방도        안개     37\n",
       "지방도         눈    138\n",
       "지방도     기타/불명    142\n",
       "특별광역시도     맑음  70945\n",
       "특별광역시도     흐림   2568\n",
       "특별광역시도      비   5286\n",
       "특별광역시도     안개     14\n",
       "특별광역시도      눈    463\n",
       "특별광역시도  기타/불명    829\n",
       "시도         맑음  57822\n",
       "시도         흐림   2211\n",
       "시도          비   4384\n",
       "시도         안개     76\n",
       "시도          눈    426\n",
       "시도      기타/불명    576\n",
       "군도         맑음   6008\n",
       "군도         흐림    283\n",
       "군도          비    421\n",
       "군도         안개     18\n",
       "군도          눈     53\n",
       "군도      기타/불명     65\n",
       "고속국도       맑음   4255\n",
       "고속국도       흐림    147\n",
       "고속국도        비    403\n",
       "고속국도       안개     10\n",
       "고속국도        눈     61\n",
       "고속국도    기타/불명      7\n",
       "기타         맑음  11148\n",
       "기타         흐림    470\n",
       "기타          비    642\n",
       "기타         안개      9\n",
       "기타          눈     89\n",
       "기타      기타/불명    467"
      ]
     },
     "execution_count": 88,
     "metadata": {},
     "output_type": "execute_result"
    }
   ],
   "source": [
    "dfr = accident2.loc[:,\"기상상태\":\"사고건수\"]\n",
    "dfr"
   ]
  },
  {
   "cell_type": "code",
   "execution_count": 89,
   "id": "dd464bf5-2a87-4c3b-8bea-9013f2d20832",
   "metadata": {},
   "outputs": [
    {
     "data": {
      "text/html": [
       "<div>\n",
       "<style scoped>\n",
       "    .dataframe tbody tr th:only-of-type {\n",
       "        vertical-align: middle;\n",
       "    }\n",
       "\n",
       "    .dataframe tbody tr th {\n",
       "        vertical-align: top;\n",
       "    }\n",
       "\n",
       "    .dataframe thead th {\n",
       "        text-align: right;\n",
       "    }\n",
       "</style>\n",
       "<table border=\"1\" class=\"dataframe\">\n",
       "  <thead>\n",
       "    <tr style=\"text-align: right;\">\n",
       "      <th></th>\n",
       "      <th>기상상태</th>\n",
       "      <th>사고건수</th>\n",
       "    </tr>\n",
       "    <tr>\n",
       "      <th>도로종류</th>\n",
       "      <th></th>\n",
       "      <th></th>\n",
       "    </tr>\n",
       "  </thead>\n",
       "  <tbody>\n",
       "    <tr>\n",
       "      <th>일반국도</th>\n",
       "      <td>맑음</td>\n",
       "      <td>16479</td>\n",
       "    </tr>\n",
       "    <tr>\n",
       "      <th>일반국도</th>\n",
       "      <td>흐림</td>\n",
       "      <td>796</td>\n",
       "    </tr>\n",
       "    <tr>\n",
       "      <th>일반국도</th>\n",
       "      <td>비</td>\n",
       "      <td>1326</td>\n",
       "    </tr>\n",
       "    <tr>\n",
       "      <th>일반국도</th>\n",
       "      <td>안개</td>\n",
       "      <td>43</td>\n",
       "    </tr>\n",
       "    <tr>\n",
       "      <th>일반국도</th>\n",
       "      <td>눈</td>\n",
       "      <td>165</td>\n",
       "    </tr>\n",
       "    <tr>\n",
       "      <th>일반국도</th>\n",
       "      <td>기타/불명</td>\n",
       "      <td>174</td>\n",
       "    </tr>\n",
       "  </tbody>\n",
       "</table>\n",
       "</div>"
      ],
      "text/plain": [
       "       기상상태   사고건수\n",
       "도로종류              \n",
       "일반국도     맑음  16479\n",
       "일반국도     흐림    796\n",
       "일반국도      비   1326\n",
       "일반국도     안개     43\n",
       "일반국도      눈    165\n",
       "일반국도  기타/불명    174"
      ]
     },
     "execution_count": 89,
     "metadata": {},
     "output_type": "execute_result"
    }
   ],
   "source": [
    "dfr.loc[\"일반국도\"]"
   ]
  },
  {
   "cell_type": "code",
   "execution_count": null,
   "id": "541a4b43-74e3-4885-8e1c-8d6e3283bbb0",
   "metadata": {},
   "outputs": [],
   "source": []
  },
  {
   "cell_type": "code",
   "execution_count": null,
   "id": "70f2bc9e-92a7-4a5b-8c0d-c0b8501742bd",
   "metadata": {},
   "outputs": [],
   "source": []
  },
  {
   "cell_type": "code",
   "execution_count": null,
   "id": "7f642c6c-dd43-4f32-8d43-e7de78e981ce",
   "metadata": {},
   "outputs": [],
   "source": [
    "##### API 불러오기"
   ]
  },
  {
   "cell_type": "code",
   "execution_count": 90,
   "id": "b1082747-7cfa-42a8-9bab-b3564a840583",
   "metadata": {},
   "outputs": [],
   "source": [
    "import requests\n",
    "import json\n",
    "subway = requests.get(\"https://api.odcloud.kr/api/15071311/v1/uddi:b3803d43-ffe3-4d17-9024-fd6cfa37c284?page=1&perPage=10\",\n",
    "                        params = {'serviceKey':'YNYne3UCQg4k1qgxzFhcz8VccfoDUbD3z24yjD6L64iETdS+abaluSKcP15Z3+XNppqSO+bYUJNwW8QJimsJbg=='},\n",
    "                        headers = {\"accept\": \"application/json\"})\n",
    "# params의 key는 Decoding 코드 이용"
   ]
  },
  {
   "cell_type": "code",
   "execution_count": 91,
   "id": "0e05d1bf-6240-40f0-82f4-e816dd1d747e",
   "metadata": {},
   "outputs": [
    {
     "name": "stdout",
     "output_type": "stream",
     "text": [
      "200\n"
     ]
    }
   ],
   "source": [
    "print(subway.status_code)"
   ]
  },
  {
   "cell_type": "code",
   "execution_count": 92,
   "id": "496bad74-05b9-4a5f-9fd2-868ad8842a59",
   "metadata": {
    "scrolled": true,
    "tags": []
   },
   "outputs": [
    {
     "name": "stdout",
     "output_type": "stream",
     "text": [
      "{'currentCount': 10, 'data': [{'10시00분': '26.6', '10시30분': '23.4', '11시00분': '22.4', '11시30분': '22.1', '12시00분': '21.5', '12시30분': '27.2', '13시00분': '21.2', '13시30분': '24.1', '14시00분': '21.7', '14시30분': '18.7', '15시00분': '18.5', '15시30분': '18.4', '16시00분': '16.4', '16시30분': '17.7', '17시00분': '16.7', '17시30분': '24.1', '18시00분': '30.8', '18시30분': '28.7', '19시00분': '20.0', '19시30분': '15.1', '20시00분': '11.1', '20시30분': '12.0', '21시00분': '12.5', '21시30분': '10.1', '22시00분': '10.4', '22시30분': '16.4', '23시00분': '7.8', '23시30분': '6.1', '5시30분': '6.2', '6시00분': '14.6', '6시30분': '13.4', '7시00분': '26.8', '7시30분': '43.3', '8시00분': '53.6', '8시30분': '70.9', '9시00분': '40.4', '9시30분': '38.0', '구분': '상선', '역명': '서울역', '역번호': 150, '연번': 1, '조사일자': '평일', '호선': 1}, {'10시00분': '13.9', '10시30분': '15.2', '11시00분': '14.6', '11시30분': '14.2', '12시00분': '17.6', '12시30분': '19.6', '13시00분': '20.3', '13시30분': '20.5', '14시00분': '25.4', '14시30분': '22.0', '15시00분': '30.1', '15시30분': '24.4', '16시00분': '33.8', '16시30분': '36.7', '17시00분': '43.8', '17시30분': '49.7', '18시00분': '84.0', '18시30분': '65.1', '19시00분': '37.5', '19시30분': '26.5', '20시00분': '25.5', '20시30분': '26.4', '21시00분': '26.3', '21시30분': '21.1', '22시00분': '32.1', '22시30분': '20.3', '23시00분': '12.6', '23시30분': '10.3', '5시30분': '9.1', '6시00분': '8.6', '6시30분': '9.3', '7시00분': '15.2', '7시30분': '29.3', '8시00분': '27.7', '8시30분': '19.0', '9시00분': '18.5', '9시30분': '15.1', '구분': '하선', '역명': '서울역', '역번호': 150, '연번': 2, '조사일자': '평일', '호선': 1}, {'10시00분': '20.2', '10시30분': '21.9', '11시00분': '20.8', '11시30분': '20.0', '12시00분': '21.7', '12시30분': '24.4', '13시00분': '21.7', '13시30분': '23.7', '14시00분': '21.5', '14시30분': '20.7', '15시00분': '20.3', '15시30분': '19.3', '16시00분': '18.0', '16시30분': '19.4', '17시00분': '18.7', '17시30분': '26.5', '18시00분': '41.5', '18시30분': '35.6', '19시00분': '24.1', '19시30분': '17.4', '20시00분': '13.7', '20시30분': '14.5', '21시00분': '15.8', '21시30분': '12.1', '22시00분': '14.5', '22시30분': '18.3', '23시00분': '11.7', '23시30분': '11.7', '5시30분': '5.4', '6시00분': '10.1', '6시30분': '13.0', '7시00분': '20.8', '7시30분': '32.0', '8시00분': '40.6', '8시30분': '50.9', '9시00분': '30.8', '9시30분': '35.8', '구분': '상선', '역명': '시청', '역번호': 151, '연번': 3, '조사일자': '평일', '호선': 1}, {'10시00분': '13.5', '10시30분': '14.2', '11시00분': '13.7', '11시30분': '13.2', '12시00분': '17.3', '12시30분': '18.4', '13시00분': '19.6', '13시30분': '19.4', '14시00분': '24.2', '14시30분': '22.9', '15시00분': '27.0', '15시30분': '26.4', '16시00분': '30.6', '16시30분': '30.5', '17시00분': '41.1', '17시30분': '45.3', '18시00분': '81.2', '18시30분': '59.2', '19시00분': '33.8', '19시30분': '22.9', '20시00분': '22.0', '20시30분': '24.1', '21시00분': '23.0', '21시30분': '21.0', '22시00분': '24.8', '22시30분': '18.5', '23시00분': '11.8', '23시30분': '9.1', '5시30분': '7.0', '6시00분': '6.8', '6시30분': '10.2', '7시00분': '14.5', '7시30분': '27.0', '8시00분': '24.7', '8시30분': '20.0', '9시00분': '18.4', '9시30분': '14.5', '구분': '하선', '역명': '시청', '역번호': 151, '연번': 4, '조사일자': '평일', '호선': 1}, {'10시00분': '17.0', '10시30분': '18.4', '11시00분': '19.4', '11시30분': '16.9', '12시00분': '21.2', '12시30분': '23.2', '13시00분': '21.0', '13시30분': '22.8', '14시00분': '23.8', '14시30분': '21.0', '15시00분': '23.7', '15시30분': '22.3', '16시00분': '20.6', '16시30분': '21.0', '17시00분': '24.1', '17시30분': '29.1', '18시00분': '54.5', '18시30분': '42.0', '19시00분': '28.8', '19시30분': '20.2', '20시00분': '19.1', '20시30분': '18.7', '21시00분': '22.2', '21시30분': '16.1', '22시00분': '21.8', '22시30분': '25.1', '23시00분': '16.3', '23시30분': '14.8', '5시30분': '5.2', '6시00분': '10.8', '6시30분': '9.3', '7시00분': '13.6', '7시30분': '19.6', '8시00분': '25.5', '8시30분': '26.5', '9시00분': '19.2', '9시30분': '26.2', '구분': '상선', '역명': '종각', '역번호': 152, '연번': 5, '조사일자': '평일', '호선': 1}, {'10시00분': '14.9', '10시30분': '15.6', '11시00분': '15.0', '11시30분': '14.4', '12시00분': '16.5', '12시30분': '19.9', '13시00분': '19.2', '13시30분': '20.5', '14시00분': '25.9', '14시30분': '20.0', '15시00분': '29.0', '15시30분': '21.0', '16시00분': '30.6', '16시30분': '26.0', '17시00분': '37.8', '17시30분': '38.3', '18시00분': '60.2', '18시30분': '44.2', '19시00분': '22.1', '19시30분': '21.2', '20시00분': '17.6', '20시30분': '19.2', '21시00분': '18.2', '21시30분': '17.0', '22시00분': '21.1', '22시30분': '15.1', '23시00분': '10.7', '23시30분': '7.1', '5시30분': '7.8', '6시00분': '7.4', '6시30분': '10.9', '7시00분': '18.7', '7시30분': '29.7', '8시00분': '37.8', '8시30분': '31.3', '9시00분': '24.1', '9시30분': '18.5', '구분': '하선', '역명': '종각', '역번호': 152, '연번': 6, '조사일자': '평일', '호선': 1}, {'10시00분': '19.7', '10시30분': '21.4', '11시00분': '16.6', '11시30분': '18.0', '12시00분': '22.7', '12시30분': '25.0', '13시00분': '27.6', '13시30분': '21.0', '14시00분': '25.7', '14시30분': '24.6', '15시00분': '26.7', '15시30분': '25.5', '16시00분': '22.8', '16시30분': '25.6', '17시00분': '26.5', '17시30분': '32.3', '18시00분': '57.5', '18시30분': '51.2', '19시00분': '29.6', '19시30분': '22.2', '20시00분': '21.0', '20시30분': '18.9', '21시00분': '26.1', '21시30분': '18.3', '22시00분': '22.8', '22시30분': '29.0', '23시00분': '18.2', '23시30분': '16.6', '5시30분': '4.8', '6시00분': '9.8', '6시30분': '9.0', '7시00분': '12.9', '7시30분': '20.4', '8시00분': '30.8', '8시30분': '25.5', '9시00분': '18.9', '9시30분': '23.6', '구분': '상선', '역명': '종로3가', '역번호': 153, '연번': 7, '조사일자': '평일', '호선': 1}, {'10시00분': '17.5', '10시30분': '18.7', '11시00분': '14.6', '11시30분': '17.7', '12시00분': '18.7', '12시30분': '19.3', '13시00분': '19.2', '13시30분': '20.3', '14시00분': '25.6', '14시30분': '18.7', '15시00분': '27.2', '15시30분': '20.4', '16시00분': '27.2', '16시30분': '23.7', '17시00분': '26.6', '17시30분': '34.6', '18시00분': '39.9', '18시30분': '34.5', '19시00분': '16.8', '19시30분': '16.0', '20시00분': '12.8', '20시30분': '13.2', '21시00분': '11.7', '21시30분': '10.1', '22시00분': '12.9', '22시30분': '9.6', '23시00분': '6.9', '23시30분': '4.9', '5시30분': '9.1', '6시00분': '7.3', '6시30분': '14.0', '7시00분': '23.3', '7시30분': '38.8', '8시00분': '51.6', '8시30분': '49.6', '9시00분': '35.6', '9시30분': '26.5', '구분': '하선', '역명': '종로3가', '역번호': 153, '연번': 8, '조사일자': '평일', '호선': 1}, {'10시00분': '18.7', '10시30분': '15.4', '11시00분': '14.2', '11시30분': '15.3', '12시00분': '23.7', '12시30분': '18.7', '13시00분': '25.8', '13시30분': '17.7', '14시00분': '25.3', '14시30분': '24.2', '15시00분': '30.1', '15시30분': '22.6', '16시00분': '23.3', '16시30분': '26.9', '17시00분': '25.2', '17시30분': '35.6', '18시00분': '60.4', '18시30분': '54.6', '19시00분': '34.3', '19시30분': '22.8', '20시00분': '21.5', '20시30분': '21.9', '21시00분': '27.8', '21시30분': '22.4', '22시00분': '20.8', '22시30분': '29.8', '23시00분': '18.7', '23시30분': '16.7', '5시30분': '4.3', '6시00분': '7.9', '6시30분': '7.4', '7시00분': '9.9', '7시30분': '15.6', '8시00분': '22.2', '8시30분': '16.7', '9시00분': '16.5', '9시30분': '15.8', '구분': '상선', '역명': '종로5가', '역번호': 154, '연번': 9, '조사일자': '평일', '호선': 1}, {'10시00분': '20.9', '10시30분': '24.3', '11시00분': '19.0', '11시30분': '17.3', '12시00분': '24.8', '12시30분': '25.9', '13시00분': '18.1', '13시30분': '23.0', '14시00분': '25.0', '14시30분': '24.4', '15시00분': '25.7', '15시30분': '24.1', '16시00분': '24.9', '16시30분': '28.3', '17시00분': '26.9', '17시30분': '34.6', '18시00분': '40.5', '18시30분': '27.4', '19시00분': '18.3', '19시30분': '13.8', '20시00분': '12.2', '20시30분': '12.1', '21시00분': '10.8', '21시30분': '9.6', '22시00분': '11.1', '22시30분': '7.9', '23시00분': '6.7', '23시30분': '4.3', '5시30분': '10.8', '6시00분': '7.9', '6시30분': '16.4', '7시00분': '28.4', '7시30분': '40.7', '8시00분': '58.7', '8시30분': '50.7', '9시00분': '42.7', '9시30분': '28.5', '구분': '하선', '역명': '종로5가', '역번호': 154, '연번': 10, '조사일자': '평일', '호선': 1}], 'matchCount': 1704, 'page': 1, 'perPage': 10, 'totalCount': 1704}\n"
     ]
    }
   ],
   "source": [
    "subway_dict = subway.json()\n",
    "print(subway_dict)"
   ]
  },
  {
   "cell_type": "code",
   "execution_count": 93,
   "id": "0552a3cc-5e8a-4643-ac54-8990737ec779",
   "metadata": {},
   "outputs": [
    {
     "data": {
      "text/html": [
       "<div>\n",
       "<style scoped>\n",
       "    .dataframe tbody tr th:only-of-type {\n",
       "        vertical-align: middle;\n",
       "    }\n",
       "\n",
       "    .dataframe tbody tr th {\n",
       "        vertical-align: top;\n",
       "    }\n",
       "\n",
       "    .dataframe thead th {\n",
       "        text-align: right;\n",
       "    }\n",
       "</style>\n",
       "<table border=\"1\" class=\"dataframe\">\n",
       "  <thead>\n",
       "    <tr style=\"text-align: right;\">\n",
       "      <th></th>\n",
       "      <th>10시00분</th>\n",
       "      <th>10시30분</th>\n",
       "      <th>11시00분</th>\n",
       "      <th>11시30분</th>\n",
       "      <th>12시00분</th>\n",
       "      <th>12시30분</th>\n",
       "      <th>13시00분</th>\n",
       "      <th>13시30분</th>\n",
       "      <th>14시00분</th>\n",
       "      <th>14시30분</th>\n",
       "      <th>...</th>\n",
       "      <th>8시00분</th>\n",
       "      <th>8시30분</th>\n",
       "      <th>9시00분</th>\n",
       "      <th>9시30분</th>\n",
       "      <th>구분</th>\n",
       "      <th>역명</th>\n",
       "      <th>역번호</th>\n",
       "      <th>연번</th>\n",
       "      <th>조사일자</th>\n",
       "      <th>호선</th>\n",
       "    </tr>\n",
       "  </thead>\n",
       "  <tbody>\n",
       "    <tr>\n",
       "      <th>0</th>\n",
       "      <td>26.6</td>\n",
       "      <td>23.4</td>\n",
       "      <td>22.4</td>\n",
       "      <td>22.1</td>\n",
       "      <td>21.5</td>\n",
       "      <td>27.2</td>\n",
       "      <td>21.2</td>\n",
       "      <td>24.1</td>\n",
       "      <td>21.7</td>\n",
       "      <td>18.7</td>\n",
       "      <td>...</td>\n",
       "      <td>53.6</td>\n",
       "      <td>70.9</td>\n",
       "      <td>40.4</td>\n",
       "      <td>38.0</td>\n",
       "      <td>상선</td>\n",
       "      <td>서울역</td>\n",
       "      <td>150</td>\n",
       "      <td>1</td>\n",
       "      <td>평일</td>\n",
       "      <td>1</td>\n",
       "    </tr>\n",
       "    <tr>\n",
       "      <th>1</th>\n",
       "      <td>13.9</td>\n",
       "      <td>15.2</td>\n",
       "      <td>14.6</td>\n",
       "      <td>14.2</td>\n",
       "      <td>17.6</td>\n",
       "      <td>19.6</td>\n",
       "      <td>20.3</td>\n",
       "      <td>20.5</td>\n",
       "      <td>25.4</td>\n",
       "      <td>22.0</td>\n",
       "      <td>...</td>\n",
       "      <td>27.7</td>\n",
       "      <td>19.0</td>\n",
       "      <td>18.5</td>\n",
       "      <td>15.1</td>\n",
       "      <td>하선</td>\n",
       "      <td>서울역</td>\n",
       "      <td>150</td>\n",
       "      <td>2</td>\n",
       "      <td>평일</td>\n",
       "      <td>1</td>\n",
       "    </tr>\n",
       "    <tr>\n",
       "      <th>2</th>\n",
       "      <td>20.2</td>\n",
       "      <td>21.9</td>\n",
       "      <td>20.8</td>\n",
       "      <td>20.0</td>\n",
       "      <td>21.7</td>\n",
       "      <td>24.4</td>\n",
       "      <td>21.7</td>\n",
       "      <td>23.7</td>\n",
       "      <td>21.5</td>\n",
       "      <td>20.7</td>\n",
       "      <td>...</td>\n",
       "      <td>40.6</td>\n",
       "      <td>50.9</td>\n",
       "      <td>30.8</td>\n",
       "      <td>35.8</td>\n",
       "      <td>상선</td>\n",
       "      <td>시청</td>\n",
       "      <td>151</td>\n",
       "      <td>3</td>\n",
       "      <td>평일</td>\n",
       "      <td>1</td>\n",
       "    </tr>\n",
       "    <tr>\n",
       "      <th>3</th>\n",
       "      <td>13.5</td>\n",
       "      <td>14.2</td>\n",
       "      <td>13.7</td>\n",
       "      <td>13.2</td>\n",
       "      <td>17.3</td>\n",
       "      <td>18.4</td>\n",
       "      <td>19.6</td>\n",
       "      <td>19.4</td>\n",
       "      <td>24.2</td>\n",
       "      <td>22.9</td>\n",
       "      <td>...</td>\n",
       "      <td>24.7</td>\n",
       "      <td>20.0</td>\n",
       "      <td>18.4</td>\n",
       "      <td>14.5</td>\n",
       "      <td>하선</td>\n",
       "      <td>시청</td>\n",
       "      <td>151</td>\n",
       "      <td>4</td>\n",
       "      <td>평일</td>\n",
       "      <td>1</td>\n",
       "    </tr>\n",
       "    <tr>\n",
       "      <th>4</th>\n",
       "      <td>17.0</td>\n",
       "      <td>18.4</td>\n",
       "      <td>19.4</td>\n",
       "      <td>16.9</td>\n",
       "      <td>21.2</td>\n",
       "      <td>23.2</td>\n",
       "      <td>21.0</td>\n",
       "      <td>22.8</td>\n",
       "      <td>23.8</td>\n",
       "      <td>21.0</td>\n",
       "      <td>...</td>\n",
       "      <td>25.5</td>\n",
       "      <td>26.5</td>\n",
       "      <td>19.2</td>\n",
       "      <td>26.2</td>\n",
       "      <td>상선</td>\n",
       "      <td>종각</td>\n",
       "      <td>152</td>\n",
       "      <td>5</td>\n",
       "      <td>평일</td>\n",
       "      <td>1</td>\n",
       "    </tr>\n",
       "    <tr>\n",
       "      <th>5</th>\n",
       "      <td>14.9</td>\n",
       "      <td>15.6</td>\n",
       "      <td>15.0</td>\n",
       "      <td>14.4</td>\n",
       "      <td>16.5</td>\n",
       "      <td>19.9</td>\n",
       "      <td>19.2</td>\n",
       "      <td>20.5</td>\n",
       "      <td>25.9</td>\n",
       "      <td>20.0</td>\n",
       "      <td>...</td>\n",
       "      <td>37.8</td>\n",
       "      <td>31.3</td>\n",
       "      <td>24.1</td>\n",
       "      <td>18.5</td>\n",
       "      <td>하선</td>\n",
       "      <td>종각</td>\n",
       "      <td>152</td>\n",
       "      <td>6</td>\n",
       "      <td>평일</td>\n",
       "      <td>1</td>\n",
       "    </tr>\n",
       "    <tr>\n",
       "      <th>6</th>\n",
       "      <td>19.7</td>\n",
       "      <td>21.4</td>\n",
       "      <td>16.6</td>\n",
       "      <td>18.0</td>\n",
       "      <td>22.7</td>\n",
       "      <td>25.0</td>\n",
       "      <td>27.6</td>\n",
       "      <td>21.0</td>\n",
       "      <td>25.7</td>\n",
       "      <td>24.6</td>\n",
       "      <td>...</td>\n",
       "      <td>30.8</td>\n",
       "      <td>25.5</td>\n",
       "      <td>18.9</td>\n",
       "      <td>23.6</td>\n",
       "      <td>상선</td>\n",
       "      <td>종로3가</td>\n",
       "      <td>153</td>\n",
       "      <td>7</td>\n",
       "      <td>평일</td>\n",
       "      <td>1</td>\n",
       "    </tr>\n",
       "    <tr>\n",
       "      <th>7</th>\n",
       "      <td>17.5</td>\n",
       "      <td>18.7</td>\n",
       "      <td>14.6</td>\n",
       "      <td>17.7</td>\n",
       "      <td>18.7</td>\n",
       "      <td>19.3</td>\n",
       "      <td>19.2</td>\n",
       "      <td>20.3</td>\n",
       "      <td>25.6</td>\n",
       "      <td>18.7</td>\n",
       "      <td>...</td>\n",
       "      <td>51.6</td>\n",
       "      <td>49.6</td>\n",
       "      <td>35.6</td>\n",
       "      <td>26.5</td>\n",
       "      <td>하선</td>\n",
       "      <td>종로3가</td>\n",
       "      <td>153</td>\n",
       "      <td>8</td>\n",
       "      <td>평일</td>\n",
       "      <td>1</td>\n",
       "    </tr>\n",
       "    <tr>\n",
       "      <th>8</th>\n",
       "      <td>18.7</td>\n",
       "      <td>15.4</td>\n",
       "      <td>14.2</td>\n",
       "      <td>15.3</td>\n",
       "      <td>23.7</td>\n",
       "      <td>18.7</td>\n",
       "      <td>25.8</td>\n",
       "      <td>17.7</td>\n",
       "      <td>25.3</td>\n",
       "      <td>24.2</td>\n",
       "      <td>...</td>\n",
       "      <td>22.2</td>\n",
       "      <td>16.7</td>\n",
       "      <td>16.5</td>\n",
       "      <td>15.8</td>\n",
       "      <td>상선</td>\n",
       "      <td>종로5가</td>\n",
       "      <td>154</td>\n",
       "      <td>9</td>\n",
       "      <td>평일</td>\n",
       "      <td>1</td>\n",
       "    </tr>\n",
       "    <tr>\n",
       "      <th>9</th>\n",
       "      <td>20.9</td>\n",
       "      <td>24.3</td>\n",
       "      <td>19.0</td>\n",
       "      <td>17.3</td>\n",
       "      <td>24.8</td>\n",
       "      <td>25.9</td>\n",
       "      <td>18.1</td>\n",
       "      <td>23.0</td>\n",
       "      <td>25.0</td>\n",
       "      <td>24.4</td>\n",
       "      <td>...</td>\n",
       "      <td>58.7</td>\n",
       "      <td>50.7</td>\n",
       "      <td>42.7</td>\n",
       "      <td>28.5</td>\n",
       "      <td>하선</td>\n",
       "      <td>종로5가</td>\n",
       "      <td>154</td>\n",
       "      <td>10</td>\n",
       "      <td>평일</td>\n",
       "      <td>1</td>\n",
       "    </tr>\n",
       "  </tbody>\n",
       "</table>\n",
       "<p>10 rows × 43 columns</p>\n",
       "</div>"
      ],
      "text/plain": [
       "  10시00분 10시30분 11시00분 11시30분 12시00분 12시30분 13시00분 13시30분 14시00분 14시30분  ...  \\\n",
       "0   26.6   23.4   22.4   22.1   21.5   27.2   21.2   24.1   21.7   18.7  ...   \n",
       "1   13.9   15.2   14.6   14.2   17.6   19.6   20.3   20.5   25.4   22.0  ...   \n",
       "2   20.2   21.9   20.8   20.0   21.7   24.4   21.7   23.7   21.5   20.7  ...   \n",
       "3   13.5   14.2   13.7   13.2   17.3   18.4   19.6   19.4   24.2   22.9  ...   \n",
       "4   17.0   18.4   19.4   16.9   21.2   23.2   21.0   22.8   23.8   21.0  ...   \n",
       "5   14.9   15.6   15.0   14.4   16.5   19.9   19.2   20.5   25.9   20.0  ...   \n",
       "6   19.7   21.4   16.6   18.0   22.7   25.0   27.6   21.0   25.7   24.6  ...   \n",
       "7   17.5   18.7   14.6   17.7   18.7   19.3   19.2   20.3   25.6   18.7  ...   \n",
       "8   18.7   15.4   14.2   15.3   23.7   18.7   25.8   17.7   25.3   24.2  ...   \n",
       "9   20.9   24.3   19.0   17.3   24.8   25.9   18.1   23.0   25.0   24.4  ...   \n",
       "\n",
       "  8시00분 8시30분 9시00분 9시30분  구분    역명  역번호  연번 조사일자 호선  \n",
       "0  53.6  70.9  40.4  38.0  상선   서울역  150   1   평일  1  \n",
       "1  27.7  19.0  18.5  15.1  하선   서울역  150   2   평일  1  \n",
       "2  40.6  50.9  30.8  35.8  상선    시청  151   3   평일  1  \n",
       "3  24.7  20.0  18.4  14.5  하선    시청  151   4   평일  1  \n",
       "4  25.5  26.5  19.2  26.2  상선    종각  152   5   평일  1  \n",
       "5  37.8  31.3  24.1  18.5  하선    종각  152   6   평일  1  \n",
       "6  30.8  25.5  18.9  23.6  상선  종로3가  153   7   평일  1  \n",
       "7  51.6  49.6  35.6  26.5  하선  종로3가  153   8   평일  1  \n",
       "8  22.2  16.7  16.5  15.8  상선  종로5가  154   9   평일  1  \n",
       "9  58.7  50.7  42.7  28.5  하선  종로5가  154  10   평일  1  \n",
       "\n",
       "[10 rows x 43 columns]"
      ]
     },
     "execution_count": 93,
     "metadata": {},
     "output_type": "execute_result"
    }
   ],
   "source": [
    "sub_dic = pd.DataFrame(subway_dict['data'])\n",
    "sub_dic"
   ]
  },
  {
   "cell_type": "code",
   "execution_count": 94,
   "id": "911706e2-b47c-42af-bd4c-089c41ab946f",
   "metadata": {},
   "outputs": [],
   "source": [
    "sub_dic.to_csv(\"subway_data.csv\", index = False)"
   ]
  },
  {
   "cell_type": "code",
   "execution_count": 95,
   "id": "ee9c3413-84e4-4004-a169-4c8d2b55bace",
   "metadata": {},
   "outputs": [
    {
     "data": {
      "text/html": [
       "<div>\n",
       "<style scoped>\n",
       "    .dataframe tbody tr th:only-of-type {\n",
       "        vertical-align: middle;\n",
       "    }\n",
       "\n",
       "    .dataframe tbody tr th {\n",
       "        vertical-align: top;\n",
       "    }\n",
       "\n",
       "    .dataframe thead th {\n",
       "        text-align: right;\n",
       "    }\n",
       "</style>\n",
       "<table border=\"1\" class=\"dataframe\">\n",
       "  <thead>\n",
       "    <tr style=\"text-align: right;\">\n",
       "      <th></th>\n",
       "      <th>10시00분</th>\n",
       "      <th>10시30분</th>\n",
       "      <th>11시00분</th>\n",
       "      <th>11시30분</th>\n",
       "      <th>12시00분</th>\n",
       "      <th>12시30분</th>\n",
       "      <th>13시00분</th>\n",
       "      <th>13시30분</th>\n",
       "      <th>14시00분</th>\n",
       "      <th>14시30분</th>\n",
       "      <th>...</th>\n",
       "      <th>8시00분</th>\n",
       "      <th>8시30분</th>\n",
       "      <th>9시00분</th>\n",
       "      <th>9시30분</th>\n",
       "      <th>구분</th>\n",
       "      <th>역명</th>\n",
       "      <th>역번호</th>\n",
       "      <th>연번</th>\n",
       "      <th>조사일자</th>\n",
       "      <th>호선</th>\n",
       "    </tr>\n",
       "  </thead>\n",
       "  <tbody>\n",
       "    <tr>\n",
       "      <th>0</th>\n",
       "      <td>26.6</td>\n",
       "      <td>23.4</td>\n",
       "      <td>22.4</td>\n",
       "      <td>22.1</td>\n",
       "      <td>21.5</td>\n",
       "      <td>27.2</td>\n",
       "      <td>21.2</td>\n",
       "      <td>24.1</td>\n",
       "      <td>21.7</td>\n",
       "      <td>18.7</td>\n",
       "      <td>...</td>\n",
       "      <td>53.6</td>\n",
       "      <td>70.9</td>\n",
       "      <td>40.4</td>\n",
       "      <td>38.0</td>\n",
       "      <td>상선</td>\n",
       "      <td>서울역</td>\n",
       "      <td>150</td>\n",
       "      <td>1</td>\n",
       "      <td>평일</td>\n",
       "      <td>1</td>\n",
       "    </tr>\n",
       "    <tr>\n",
       "      <th>1</th>\n",
       "      <td>13.9</td>\n",
       "      <td>15.2</td>\n",
       "      <td>14.6</td>\n",
       "      <td>14.2</td>\n",
       "      <td>17.6</td>\n",
       "      <td>19.6</td>\n",
       "      <td>20.3</td>\n",
       "      <td>20.5</td>\n",
       "      <td>25.4</td>\n",
       "      <td>22.0</td>\n",
       "      <td>...</td>\n",
       "      <td>27.7</td>\n",
       "      <td>19.0</td>\n",
       "      <td>18.5</td>\n",
       "      <td>15.1</td>\n",
       "      <td>하선</td>\n",
       "      <td>서울역</td>\n",
       "      <td>150</td>\n",
       "      <td>2</td>\n",
       "      <td>평일</td>\n",
       "      <td>1</td>\n",
       "    </tr>\n",
       "    <tr>\n",
       "      <th>2</th>\n",
       "      <td>20.2</td>\n",
       "      <td>21.9</td>\n",
       "      <td>20.8</td>\n",
       "      <td>20.0</td>\n",
       "      <td>21.7</td>\n",
       "      <td>24.4</td>\n",
       "      <td>21.7</td>\n",
       "      <td>23.7</td>\n",
       "      <td>21.5</td>\n",
       "      <td>20.7</td>\n",
       "      <td>...</td>\n",
       "      <td>40.6</td>\n",
       "      <td>50.9</td>\n",
       "      <td>30.8</td>\n",
       "      <td>35.8</td>\n",
       "      <td>상선</td>\n",
       "      <td>시청</td>\n",
       "      <td>151</td>\n",
       "      <td>3</td>\n",
       "      <td>평일</td>\n",
       "      <td>1</td>\n",
       "    </tr>\n",
       "    <tr>\n",
       "      <th>3</th>\n",
       "      <td>13.5</td>\n",
       "      <td>14.2</td>\n",
       "      <td>13.7</td>\n",
       "      <td>13.2</td>\n",
       "      <td>17.3</td>\n",
       "      <td>18.4</td>\n",
       "      <td>19.6</td>\n",
       "      <td>19.4</td>\n",
       "      <td>24.2</td>\n",
       "      <td>22.9</td>\n",
       "      <td>...</td>\n",
       "      <td>24.7</td>\n",
       "      <td>20.0</td>\n",
       "      <td>18.4</td>\n",
       "      <td>14.5</td>\n",
       "      <td>하선</td>\n",
       "      <td>시청</td>\n",
       "      <td>151</td>\n",
       "      <td>4</td>\n",
       "      <td>평일</td>\n",
       "      <td>1</td>\n",
       "    </tr>\n",
       "    <tr>\n",
       "      <th>4</th>\n",
       "      <td>17.0</td>\n",
       "      <td>18.4</td>\n",
       "      <td>19.4</td>\n",
       "      <td>16.9</td>\n",
       "      <td>21.2</td>\n",
       "      <td>23.2</td>\n",
       "      <td>21.0</td>\n",
       "      <td>22.8</td>\n",
       "      <td>23.8</td>\n",
       "      <td>21.0</td>\n",
       "      <td>...</td>\n",
       "      <td>25.5</td>\n",
       "      <td>26.5</td>\n",
       "      <td>19.2</td>\n",
       "      <td>26.2</td>\n",
       "      <td>상선</td>\n",
       "      <td>종각</td>\n",
       "      <td>152</td>\n",
       "      <td>5</td>\n",
       "      <td>평일</td>\n",
       "      <td>1</td>\n",
       "    </tr>\n",
       "    <tr>\n",
       "      <th>5</th>\n",
       "      <td>14.9</td>\n",
       "      <td>15.6</td>\n",
       "      <td>15.0</td>\n",
       "      <td>14.4</td>\n",
       "      <td>16.5</td>\n",
       "      <td>19.9</td>\n",
       "      <td>19.2</td>\n",
       "      <td>20.5</td>\n",
       "      <td>25.9</td>\n",
       "      <td>20.0</td>\n",
       "      <td>...</td>\n",
       "      <td>37.8</td>\n",
       "      <td>31.3</td>\n",
       "      <td>24.1</td>\n",
       "      <td>18.5</td>\n",
       "      <td>하선</td>\n",
       "      <td>종각</td>\n",
       "      <td>152</td>\n",
       "      <td>6</td>\n",
       "      <td>평일</td>\n",
       "      <td>1</td>\n",
       "    </tr>\n",
       "    <tr>\n",
       "      <th>6</th>\n",
       "      <td>19.7</td>\n",
       "      <td>21.4</td>\n",
       "      <td>16.6</td>\n",
       "      <td>18.0</td>\n",
       "      <td>22.7</td>\n",
       "      <td>25.0</td>\n",
       "      <td>27.6</td>\n",
       "      <td>21.0</td>\n",
       "      <td>25.7</td>\n",
       "      <td>24.6</td>\n",
       "      <td>...</td>\n",
       "      <td>30.8</td>\n",
       "      <td>25.5</td>\n",
       "      <td>18.9</td>\n",
       "      <td>23.6</td>\n",
       "      <td>상선</td>\n",
       "      <td>종로3가</td>\n",
       "      <td>153</td>\n",
       "      <td>7</td>\n",
       "      <td>평일</td>\n",
       "      <td>1</td>\n",
       "    </tr>\n",
       "    <tr>\n",
       "      <th>7</th>\n",
       "      <td>17.5</td>\n",
       "      <td>18.7</td>\n",
       "      <td>14.6</td>\n",
       "      <td>17.7</td>\n",
       "      <td>18.7</td>\n",
       "      <td>19.3</td>\n",
       "      <td>19.2</td>\n",
       "      <td>20.3</td>\n",
       "      <td>25.6</td>\n",
       "      <td>18.7</td>\n",
       "      <td>...</td>\n",
       "      <td>51.6</td>\n",
       "      <td>49.6</td>\n",
       "      <td>35.6</td>\n",
       "      <td>26.5</td>\n",
       "      <td>하선</td>\n",
       "      <td>종로3가</td>\n",
       "      <td>153</td>\n",
       "      <td>8</td>\n",
       "      <td>평일</td>\n",
       "      <td>1</td>\n",
       "    </tr>\n",
       "    <tr>\n",
       "      <th>8</th>\n",
       "      <td>18.7</td>\n",
       "      <td>15.4</td>\n",
       "      <td>14.2</td>\n",
       "      <td>15.3</td>\n",
       "      <td>23.7</td>\n",
       "      <td>18.7</td>\n",
       "      <td>25.8</td>\n",
       "      <td>17.7</td>\n",
       "      <td>25.3</td>\n",
       "      <td>24.2</td>\n",
       "      <td>...</td>\n",
       "      <td>22.2</td>\n",
       "      <td>16.7</td>\n",
       "      <td>16.5</td>\n",
       "      <td>15.8</td>\n",
       "      <td>상선</td>\n",
       "      <td>종로5가</td>\n",
       "      <td>154</td>\n",
       "      <td>9</td>\n",
       "      <td>평일</td>\n",
       "      <td>1</td>\n",
       "    </tr>\n",
       "    <tr>\n",
       "      <th>9</th>\n",
       "      <td>20.9</td>\n",
       "      <td>24.3</td>\n",
       "      <td>19.0</td>\n",
       "      <td>17.3</td>\n",
       "      <td>24.8</td>\n",
       "      <td>25.9</td>\n",
       "      <td>18.1</td>\n",
       "      <td>23.0</td>\n",
       "      <td>25.0</td>\n",
       "      <td>24.4</td>\n",
       "      <td>...</td>\n",
       "      <td>58.7</td>\n",
       "      <td>50.7</td>\n",
       "      <td>42.7</td>\n",
       "      <td>28.5</td>\n",
       "      <td>하선</td>\n",
       "      <td>종로5가</td>\n",
       "      <td>154</td>\n",
       "      <td>10</td>\n",
       "      <td>평일</td>\n",
       "      <td>1</td>\n",
       "    </tr>\n",
       "  </tbody>\n",
       "</table>\n",
       "<p>10 rows × 43 columns</p>\n",
       "</div>"
      ],
      "text/plain": [
       "   10시00분  10시30분  11시00분  11시30분  12시00분  12시30분  13시00분  13시30분  14시00분  \\\n",
       "0    26.6    23.4    22.4    22.1    21.5    27.2    21.2    24.1    21.7   \n",
       "1    13.9    15.2    14.6    14.2    17.6    19.6    20.3    20.5    25.4   \n",
       "2    20.2    21.9    20.8    20.0    21.7    24.4    21.7    23.7    21.5   \n",
       "3    13.5    14.2    13.7    13.2    17.3    18.4    19.6    19.4    24.2   \n",
       "4    17.0    18.4    19.4    16.9    21.2    23.2    21.0    22.8    23.8   \n",
       "5    14.9    15.6    15.0    14.4    16.5    19.9    19.2    20.5    25.9   \n",
       "6    19.7    21.4    16.6    18.0    22.7    25.0    27.6    21.0    25.7   \n",
       "7    17.5    18.7    14.6    17.7    18.7    19.3    19.2    20.3    25.6   \n",
       "8    18.7    15.4    14.2    15.3    23.7    18.7    25.8    17.7    25.3   \n",
       "9    20.9    24.3    19.0    17.3    24.8    25.9    18.1    23.0    25.0   \n",
       "\n",
       "   14시30분  ...  8시00분  8시30분  9시00분  9시30분  구분    역명  역번호  연번  조사일자  호선  \n",
       "0    18.7  ...   53.6   70.9   40.4   38.0  상선   서울역  150   1    평일   1  \n",
       "1    22.0  ...   27.7   19.0   18.5   15.1  하선   서울역  150   2    평일   1  \n",
       "2    20.7  ...   40.6   50.9   30.8   35.8  상선    시청  151   3    평일   1  \n",
       "3    22.9  ...   24.7   20.0   18.4   14.5  하선    시청  151   4    평일   1  \n",
       "4    21.0  ...   25.5   26.5   19.2   26.2  상선    종각  152   5    평일   1  \n",
       "5    20.0  ...   37.8   31.3   24.1   18.5  하선    종각  152   6    평일   1  \n",
       "6    24.6  ...   30.8   25.5   18.9   23.6  상선  종로3가  153   7    평일   1  \n",
       "7    18.7  ...   51.6   49.6   35.6   26.5  하선  종로3가  153   8    평일   1  \n",
       "8    24.2  ...   22.2   16.7   16.5   15.8  상선  종로5가  154   9    평일   1  \n",
       "9    24.4  ...   58.7   50.7   42.7   28.5  하선  종로5가  154  10    평일   1  \n",
       "\n",
       "[10 rows x 43 columns]"
      ]
     },
     "execution_count": 95,
     "metadata": {},
     "output_type": "execute_result"
    }
   ],
   "source": [
    "df_subway = pd.read_csv(\"subway_data.csv\")\n",
    "df_subway"
   ]
  },
  {
   "cell_type": "code",
   "execution_count": null,
   "id": "b66e0210-1815-4701-bf64-97c71168a275",
   "metadata": {},
   "outputs": [],
   "source": []
  }
 ],
 "metadata": {
  "kernelspec": {
   "display_name": "Python 3 (ipykernel)",
   "language": "python",
   "name": "python3"
  },
  "language_info": {
   "codemirror_mode": {
    "name": "ipython",
    "version": 3
   },
   "file_extension": ".py",
   "mimetype": "text/x-python",
   "name": "python",
   "nbconvert_exporter": "python",
   "pygments_lexer": "ipython3",
   "version": "3.9.13"
  }
 },
 "nbformat": 4,
 "nbformat_minor": 5
}
