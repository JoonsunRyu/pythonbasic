{
 "cells": [
  {
   "cell_type": "code",
   "execution_count": 1,
   "id": "ea490047-3733-4d87-99d4-de203b40c34b",
   "metadata": {},
   "outputs": [],
   "source": [
    "##### Review - List comprehension"
   ]
  },
  {
   "cell_type": "code",
   "execution_count": 2,
   "id": "5dfb3cc3-db97-4ad2-9e79-c6523c6a3e8a",
   "metadata": {},
   "outputs": [
    {
     "data": {
      "text/plain": [
       "['2', '3', '4', '5', '6', '7', '8', '9', '10', 'J', 'Q', 'K', 'A']"
      ]
     },
     "execution_count": 2,
     "metadata": {},
     "output_type": "execute_result"
    }
   ],
   "source": [
    "[str(i) for i in range(2, 11)] + list(\"JQKA\")\n",
    "\n",
    "# 리스트를 만든다는 것을 직관적으로 알 수 있음\n",
    "# 너무 많아지면 가독성 저하. 이 때는 for문 사용\n",
    "# set에서의 Comprehension은 \"중괄호 { }\" 사용"
   ]
  },
  {
   "cell_type": "code",
   "execution_count": null,
   "id": "5d80eba9-239c-4091-a2c8-eb2d90cfc249",
   "metadata": {},
   "outputs": [],
   "source": []
  },
  {
   "cell_type": "code",
   "execution_count": null,
   "id": "c2858379-79b9-4936-974d-800144b4bb82",
   "metadata": {},
   "outputs": [],
   "source": []
  },
  {
   "cell_type": "code",
   "execution_count": 3,
   "id": "9f7424af-af28-4aa0-addb-ea9a31569a90",
   "metadata": {},
   "outputs": [],
   "source": [
    "##### Set() 연습문제"
   ]
  },
  {
   "cell_type": "code",
   "execution_count": 9,
   "id": "90e90376-bf91-44de-aa38-fffabbd23d34",
   "metadata": {},
   "outputs": [
    {
     "name": "stdout",
     "output_type": "stream",
     "text": [
      "{75, 45, 15, 90, 60, 30}\n",
      "{75, 45, 15, 90, 60, 30}\n"
     ]
    }
   ],
   "source": [
    "# Q1.\n",
    "set_3 = {i for i in range(3, 101) if i % 3 == 0}\n",
    "set_5 = {j for j in range(5, 101) if j % 5 == 0}\n",
    "\n",
    "result_set = set_3 & set_5\n",
    "print(result_set)\n",
    "print(set.intersection(set_3, set_5))"
   ]
  },
  {
   "cell_type": "code",
   "execution_count": null,
   "id": "6c1173aa-d3e1-472c-8de3-050e4eb3f22d",
   "metadata": {},
   "outputs": [],
   "source": []
  },
  {
   "cell_type": "code",
   "execution_count": 47,
   "id": "0fd0be97-5668-465a-b0db-2a8e829a0c51",
   "metadata": {},
   "outputs": [
    {
     "name": "stdout",
     "output_type": "stream",
     "text": [
      "회계 관리, 구매 관리, 근태 관리, 인사 관리, 개인정보 조회, 시스템 관리\n"
     ]
    }
   ],
   "source": [
    "# Q2.\n",
    "role_admin = (\"회계 관리\", \"인사 관리\", \"구매 관리\", \"시스템 관리\")\n",
    "role_hr = (\"인사 관리\", \"개인정보 조회\", \"회계 관리\", \"근태 관리\")\n",
    "role_user = (\"개인정보 조회\", \"근태 관리\")\n",
    "\n",
    "dep = list(set(role_admin + role_hr + role_user))\n",
    "sorted(dep)\n",
    "print(\", \".join(dep))\n",
    "\n",
    "# join()"
   ]
  },
  {
   "cell_type": "code",
   "execution_count": 44,
   "id": "7dd2f150-8656-4161-9319-653fdeb62f6f",
   "metadata": {},
   "outputs": [
    {
     "name": "stdout",
     "output_type": "stream",
     "text": [
      "개인정보 조회, 구매 관리, 근태 관리, 시스템 관리, 인사 관리, 회계 관리"
     ]
    }
   ],
   "source": [
    "# Q2 풀이 - for문\n",
    "menus = list(set(role_admin + role_hr + role_user))\n",
    "menus.sort()\n",
    "end_char = \", \"\n",
    "for menu in menus:\n",
    "    if menus[-1] == menu:\n",
    "        end_char = \"\"\n",
    "    print(menu, end = end_char)"
   ]
  },
  {
   "cell_type": "code",
   "execution_count": 45,
   "id": "9bcdd055-7a45-4d2a-a675-a785a72f433b",
   "metadata": {},
   "outputs": [],
   "source": [
    "# sorted() VS 리스트명.sort()\n",
    "# sorted(): ()안 인수를 정렬한 값을 새롭게 반환함\n",
    "# 리스트명.sort() 리스트에만 있는 sort 메서드로 .앞의 리스트 원소 순서를 바꾸지만 반환값 출력 안 함"
   ]
  },
  {
   "cell_type": "code",
   "execution_count": null,
   "id": "bd5bf319-7240-4c96-8a17-51b694a0f409",
   "metadata": {},
   "outputs": [],
   "source": []
  },
  {
   "cell_type": "code",
   "execution_count": null,
   "id": "f9e2fdc7-fd41-4855-9f87-a53b0ed7cd11",
   "metadata": {},
   "outputs": [],
   "source": []
  },
  {
   "cell_type": "code",
   "execution_count": 46,
   "id": "4948e5a9-616b-4e22-970a-5c472e3f018b",
   "metadata": {},
   "outputs": [],
   "source": [
    "##### 함수(Function)"
   ]
  },
  {
   "cell_type": "code",
   "execution_count": 48,
   "id": "359325ed-b357-4d9b-abf6-cfcfe4ed3bed",
   "metadata": {},
   "outputs": [],
   "source": [
    "# <형식> #\n",
    "# def 함수명(parameter):     # 함수명(인자, 인자2, ...)를 합쳐서 argument라고 함\n",
    "#    수식\n",
    "#    return 반환값\n",
    "\n",
    "# 콜론(:) 뒤 들여쓰기 필수\n",
    "# 클래스에 포함되지 않고 사용  <-> 메서드: 객체의 종류에 따라 쓸 수 있는게 다름"
   ]
  },
  {
   "cell_type": "code",
   "execution_count": 51,
   "id": "57c04eb4-0dec-46c6-9d68-ebb48060393c",
   "metadata": {},
   "outputs": [],
   "source": [
    "# print(), len(), reversed() 등도 모두 함수.\n",
    "# 한 번 정의해두면 필요할 때마다 사용 가능  -> 중복 감소\n",
    "# 호출부는 그대로, 함수의 body 부분만 수정하면 됨\n",
    "# 효율적, 유지/보수성 좋음\n",
    "# 함수 첫 줄에 오는 string을 Doc String이라고 함. 함수에 대한 설명을 적는다. (회사마다 스타일 다름)"
   ]
  },
  {
   "cell_type": "code",
   "execution_count": 68,
   "id": "c4683622-f81e-48ab-9ca3-05d5d617139f",
   "metadata": {},
   "outputs": [],
   "source": [
    "# ex)\n",
    "def print_ten():\n",
    "    \"\"\"print(\"hello\")를 10번 출력합니다.\"\"\"\n",
    "    for _ in range(10):\n",
    "        print(\"hello\")"
   ]
  },
  {
   "cell_type": "code",
   "execution_count": 299,
   "id": "e32e9f70-d3dd-46f9-a545-2d19c4e39bd9",
   "metadata": {},
   "outputs": [
    {
     "name": "stdout",
     "output_type": "stream",
     "text": [
      "hello\n",
      "hello\n",
      "hello\n",
      "hello\n",
      "hello\n",
      "hello\n",
      "hello\n",
      "hello\n",
      "hello\n",
      "hello\n"
     ]
    }
   ],
   "source": [
    "print_ten.__doc__  # 언더바(_) 2개\n",
    "print_ten()\n",
    "\n",
    "# 프로젝트에서 __doc__string을 써주면 좋은 인상을 남길 수 있음"
   ]
  },
  {
   "cell_type": "code",
   "execution_count": 297,
   "id": "ad6db64a-0419-4a2a-8fc9-a085858f90d5",
   "metadata": {},
   "outputs": [
    {
     "name": "stdout",
     "output_type": "stream",
     "text": [
      "print(value, ..., sep=' ', end='\\n', file=sys.stdout, flush=False)\n",
      "\n",
      "Prints the values to a stream, or to sys.stdout by default.\n",
      "Optional keyword arguments:\n",
      "file:  a file-like object (stream); defaults to the current sys.stdout.\n",
      "sep:   string inserted between values, default a space.\n",
      "end:   string appended after the last value, default a newline.\n",
      "flush: whether to forcibly flush the stream.\n"
     ]
    }
   ],
   "source": [
    "print(print.__doc__)  # __doc__를 '특별 메서드'라고 함"
   ]
  },
  {
   "cell_type": "code",
   "execution_count": null,
   "id": "71df5d78-618b-4335-ba08-7b2dbeb15403",
   "metadata": {},
   "outputs": [],
   "source": []
  },
  {
   "cell_type": "code",
   "execution_count": 302,
   "id": "2a18f579-5244-42c0-b34c-59ad3764078c",
   "metadata": {},
   "outputs": [],
   "source": [
    "def print_ten(some_str):\n",
    "    \"\"\"print(\"문자열\")를 10번 출력합니다.\"\"\"\n",
    "    for _ in range(10):\n",
    "        print(some_str)"
   ]
  },
  {
   "cell_type": "code",
   "execution_count": 304,
   "id": "1e2b3ec4-ff73-4397-893c-ade7bd38936f",
   "metadata": {},
   "outputs": [
    {
     "name": "stdout",
     "output_type": "stream",
     "text": [
      "문자열\n",
      "문자열\n",
      "문자열\n",
      "문자열\n",
      "문자열\n",
      "문자열\n",
      "문자열\n",
      "문자열\n",
      "문자열\n",
      "문자열\n"
     ]
    }
   ],
   "source": [
    "print_ten(\"문자열\")"
   ]
  },
  {
   "cell_type": "code",
   "execution_count": null,
   "id": "a8dcaeab-feab-4732-bbf6-080a309746bb",
   "metadata": {},
   "outputs": [],
   "source": []
  },
  {
   "cell_type": "code",
   "execution_count": 64,
   "id": "63906690-faa2-49a3-9bad-690981a66bdc",
   "metadata": {},
   "outputs": [],
   "source": [
    "# 위치-키워드(positional or keyword)\n",
    "# 위치 전용(positional-only)\n",
    "# 키워드 전용(keyword-only)\n",
    "# 가변 위치(var positional) -> packing 사용\n",
    "# 가변 키워드(var keyword)"
   ]
  },
  {
   "cell_type": "code",
   "execution_count": null,
   "id": "5e23b384-08f6-4703-9727-9a4ffa41f9cf",
   "metadata": {},
   "outputs": [],
   "source": []
  },
  {
   "cell_type": "code",
   "execution_count": null,
   "id": "4367613d-e2b9-471d-858a-b2beeaefcdb1",
   "metadata": {},
   "outputs": [],
   "source": [
    "### 위치-키워드 인자"
   ]
  },
  {
   "cell_type": "code",
   "execution_count": 75,
   "id": "410db956-762f-49fe-8f7b-e0eb88e365ce",
   "metadata": {},
   "outputs": [],
   "source": [
    "def greeting(name, age):\n",
    "    print(f\"{name} 씨 안녕하세요. 약 {age * 365.25}일 되었습니다.\")"
   ]
  },
  {
   "cell_type": "code",
   "execution_count": 76,
   "id": "c55a70d5-f3a5-4c80-be97-c3f5e66f6f8a",
   "metadata": {},
   "outputs": [
    {
     "name": "stdout",
     "output_type": "stream",
     "text": [
      "파이썬 씨 안녕하세요. 약 11688.0일 되었습니다.\n"
     ]
    }
   ],
   "source": [
    "greeting(\"파이썬\", 32)  # 위치 인수만으로 호출"
   ]
  },
  {
   "cell_type": "code",
   "execution_count": 87,
   "id": "c5f37bb9-1aa4-4a93-abb2-57132c7061bb",
   "metadata": {},
   "outputs": [
    {
     "name": "stdout",
     "output_type": "stream",
     "text": [
      "파이썬 씨 안녕하세요. 약 11688.0일 되었습니다.\n"
     ]
    }
   ],
   "source": [
    "greeting(name = \"파이썬\", age = 32)  # 키워드 인수만으로 호출"
   ]
  },
  {
   "cell_type": "code",
   "execution_count": 86,
   "id": "4973ddce-bf13-4a9b-b6c7-860f2caaf14f",
   "metadata": {},
   "outputs": [
    {
     "name": "stdout",
     "output_type": "stream",
     "text": [
      "파이썬 씨 안녕하세요. 약 11688.0일 되었습니다.\n"
     ]
    }
   ],
   "source": [
    "greeting(age = 32, name = \"파이썬\")  # 키워드 인수로만 호출. 입력순서가 달라도 잘 출력함"
   ]
  },
  {
   "cell_type": "code",
   "execution_count": 89,
   "id": "64ba2e08-7e36-4615-add7-7797212125df",
   "metadata": {},
   "outputs": [
    {
     "name": "stdout",
     "output_type": "stream",
     "text": [
      "파이썬 씨 안녕하세요. 약 11688.0일 되었습니다.\n"
     ]
    }
   ],
   "source": [
    "greeting(\"파이썬\", age = 32)  # 위치 인수와 키워드 인수로 호출\n",
    "\n",
    "# 위치 인수가 키워드 인수보다 선행해야 한다!! #"
   ]
  },
  {
   "cell_type": "code",
   "execution_count": null,
   "id": "fc56a11d-748c-4437-9965-8ea50711df49",
   "metadata": {},
   "outputs": [],
   "source": []
  },
  {
   "cell_type": "code",
   "execution_count": 81,
   "id": "0978098e-7406-43a4-b198-46c3c888ebec",
   "metadata": {},
   "outputs": [
    {
     "ename": "TypeError",
     "evalue": "greeting() missing 2 required positional arguments: 'name' and 'age'",
     "output_type": "error",
     "traceback": [
      "\u001b[1;31m---------------------------------------------------------------------------\u001b[0m",
      "\u001b[1;31mTypeError\u001b[0m                                 Traceback (most recent call last)",
      "\u001b[1;32m~\\AppData\\Local\\Temp\\ipykernel_9796\\3595202211.py\u001b[0m in \u001b[0;36m<module>\u001b[1;34m\u001b[0m\n\u001b[1;32m----> 1\u001b[1;33m \u001b[0mgreeting\u001b[0m\u001b[1;33m(\u001b[0m\u001b[1;33m)\u001b[0m\u001b[1;33m\u001b[0m\u001b[1;33m\u001b[0m\u001b[0m\n\u001b[0m",
      "\u001b[1;31mTypeError\u001b[0m: greeting() missing 2 required positional arguments: 'name' and 'age'"
     ]
    }
   ],
   "source": [
    "greeting()  # 에러 발생\n",
    "\n",
    "# 기본값을 가지고 있지 않아서 생기는 오류.  -> name, age에 대한 값"
   ]
  },
  {
   "cell_type": "code",
   "execution_count": 82,
   "id": "aa7ee59e-b89d-4a87-80ed-54335b3ed975",
   "metadata": {},
   "outputs": [
    {
     "ename": "TypeError",
     "evalue": "can't multiply sequence by non-int of type 'float'",
     "output_type": "error",
     "traceback": [
      "\u001b[1;31m---------------------------------------------------------------------------\u001b[0m",
      "\u001b[1;31mTypeError\u001b[0m                                 Traceback (most recent call last)",
      "\u001b[1;32m~\\AppData\\Local\\Temp\\ipykernel_9796\\3709304520.py\u001b[0m in \u001b[0;36m<module>\u001b[1;34m\u001b[0m\n\u001b[1;32m----> 1\u001b[1;33m \u001b[0mgreeting\u001b[0m\u001b[1;33m(\u001b[0m\u001b[1;36m32\u001b[0m\u001b[1;33m,\u001b[0m \u001b[1;34m\"파이썬\"\u001b[0m\u001b[1;33m)\u001b[0m\u001b[1;33m\u001b[0m\u001b[1;33m\u001b[0m\u001b[0m\n\u001b[0m",
      "\u001b[1;32m~\\AppData\\Local\\Temp\\ipykernel_9796\\7507693.py\u001b[0m in \u001b[0;36mgreeting\u001b[1;34m(name, age)\u001b[0m\n\u001b[0;32m      1\u001b[0m \u001b[1;31m# ex)\u001b[0m\u001b[1;33m\u001b[0m\u001b[1;33m\u001b[0m\u001b[0m\n\u001b[0;32m      2\u001b[0m \u001b[1;32mdef\u001b[0m \u001b[0mgreeting\u001b[0m\u001b[1;33m(\u001b[0m\u001b[0mname\u001b[0m\u001b[1;33m,\u001b[0m \u001b[0mage\u001b[0m\u001b[1;33m)\u001b[0m\u001b[1;33m:\u001b[0m\u001b[1;33m\u001b[0m\u001b[1;33m\u001b[0m\u001b[0m\n\u001b[1;32m----> 3\u001b[1;33m     \u001b[0mprint\u001b[0m\u001b[1;33m(\u001b[0m\u001b[1;34mf\"{name} 씨 안녕하세요. 약 {age * 365.25}일 되었습니다.\"\u001b[0m\u001b[1;33m)\u001b[0m\u001b[1;33m\u001b[0m\u001b[1;33m\u001b[0m\u001b[0m\n\u001b[0m",
      "\u001b[1;31mTypeError\u001b[0m: can't multiply sequence by non-int of type 'float'"
     ]
    }
   ],
   "source": [
    "greeting(32, \"파이썬\")  # 에러 발생\n",
    "\n",
    "# 기본값 입력 순서가 잘못되어도 발생"
   ]
  },
  {
   "cell_type": "code",
   "execution_count": null,
   "id": "21c8d5c9-5320-45d1-9701-3a91108a1651",
   "metadata": {},
   "outputs": [],
   "source": []
  },
  {
   "cell_type": "code",
   "execution_count": 84,
   "id": "3f2fb2d4-bd6a-4bb5-95aa-94e8f38951fa",
   "metadata": {},
   "outputs": [
    {
     "ename": "SyntaxError",
     "evalue": "positional argument follows keyword argument (3970514293.py, line 1)",
     "output_type": "error",
     "traceback": [
      "\u001b[1;36m  File \u001b[1;32m\"C:\\Users\\Playdata\\AppData\\Local\\Temp\\ipykernel_9796\\3970514293.py\"\u001b[1;36m, line \u001b[1;32m1\u001b[0m\n\u001b[1;33m    greeting(name = \"파이썬\", 32)\u001b[0m\n\u001b[1;37m                             ^\u001b[0m\n\u001b[1;31mSyntaxError\u001b[0m\u001b[1;31m:\u001b[0m positional argument follows keyword argument\n"
     ]
    }
   ],
   "source": [
    "greeting(name = \"파이썬\", 32)  # 에러 발생\n",
    "\n",
    "# positional argument가 keyword argument보다 선행해야 함. 따라야 하는 문법"
   ]
  },
  {
   "cell_type": "code",
   "execution_count": null,
   "id": "00e26ffc-61fb-477c-a9fd-a8597bb1813c",
   "metadata": {},
   "outputs": [],
   "source": []
  },
  {
   "cell_type": "code",
   "execution_count": 90,
   "id": "64b1b32c-2809-4f89-8f68-2eeaf9e137c1",
   "metadata": {},
   "outputs": [
    {
     "ename": "SyntaxError",
     "evalue": "non-default argument follows default argument (108284344.py, line 1)",
     "output_type": "error",
     "traceback": [
      "\u001b[1;36m  File \u001b[1;32m\"C:\\Users\\Playdata\\AppData\\Local\\Temp\\ipykernel_9796\\108284344.py\"\u001b[1;36m, line \u001b[1;32m1\u001b[0m\n\u001b[1;33m    def greeting(name = \"default\", age):\u001b[0m\n\u001b[1;37m                                      ^\u001b[0m\n\u001b[1;31mSyntaxError\u001b[0m\u001b[1;31m:\u001b[0m non-default argument follows default argument\n"
     ]
    }
   ],
   "source": [
    "def greeting(name = \"default\", age):\n",
    "    print(f\"{name} 씨 안녕하세요. 약 {age * 365.25} 일 되었습니다.\")  # 에러 발생\n",
    "    \n",
    "# Non-default parameter가 default parameter보다 선행해야 한다."
   ]
  },
  {
   "cell_type": "code",
   "execution_count": null,
   "id": "cb31356d-adc6-464d-8741-f333ef57ee69",
   "metadata": {},
   "outputs": [],
   "source": []
  },
  {
   "cell_type": "code",
   "execution_count": null,
   "id": "46eeaf90-0e28-42ca-a52a-29bf38615d68",
   "metadata": {},
   "outputs": [],
   "source": [
    "# ex2)"
   ]
  },
  {
   "cell_type": "code",
   "execution_count": 92,
   "id": "c3b0510c-b51d-4a9a-a3d3-f8cbbd1ef25a",
   "metadata": {},
   "outputs": [],
   "source": [
    "def greeting(name, age = 32):\n",
    "    print(f\"{name} 씨 안녕하세요. 약 {age * 365.25} 일 되었습니다.\")"
   ]
  },
  {
   "cell_type": "code",
   "execution_count": 93,
   "id": "4ff794a2-18b4-46b0-bf25-6c58cb5c2fd8",
   "metadata": {},
   "outputs": [
    {
     "name": "stdout",
     "output_type": "stream",
     "text": [
      "파이썬 씨 안녕하세요. 약 11688.0 일 되었습니다.\n"
     ]
    }
   ],
   "source": [
    "greeting(\"파이썬\", 32)  # 위치 인수만으로 호출"
   ]
  },
  {
   "cell_type": "code",
   "execution_count": 94,
   "id": "3b103345-50da-42d8-8563-57e2e0196575",
   "metadata": {},
   "outputs": [
    {
     "name": "stdout",
     "output_type": "stream",
     "text": [
      "파이썬 씨 안녕하세요. 약 11688.0 일 되었습니다.\n"
     ]
    }
   ],
   "source": [
    "greeting(\"파이썬\")  # 기본값이 있는 인자는 인수 전달을 생략할 수 있음"
   ]
  },
  {
   "cell_type": "code",
   "execution_count": 95,
   "id": "3caa5fd3-3082-4aff-9f3b-6758ea36f633",
   "metadata": {},
   "outputs": [
    {
     "name": "stdout",
     "output_type": "stream",
     "text": [
      "파이썬 씨 안녕하세요. 약 11688.0 일 되었습니다.\n"
     ]
    }
   ],
   "source": [
    "greeting(name = \"파이썬\")  # 기본값이 없는 인자에 키워드 인수로 값 전달 가능"
   ]
  },
  {
   "cell_type": "code",
   "execution_count": 96,
   "id": "c4c8e430-616d-45cd-9e05-0f0ed59101ce",
   "metadata": {},
   "outputs": [
    {
     "name": "stdout",
     "output_type": "stream",
     "text": [
      "파이썬 씨 안녕하세요. 약 11688.0 일 되었습니다.\n"
     ]
    }
   ],
   "source": [
    "greeting(age = 32, name = \"파이썬\")  # 키워드 인수만으로 호출 시 인수 순서 상관 X"
   ]
  },
  {
   "cell_type": "code",
   "execution_count": null,
   "id": "c1cf1b77-64f4-4ef2-966c-96b5d686c22e",
   "metadata": {},
   "outputs": [],
   "source": []
  },
  {
   "cell_type": "code",
   "execution_count": 97,
   "id": "22652def-7f9c-456e-910b-15d854e2574b",
   "metadata": {},
   "outputs": [],
   "source": [
    "### 위치 전용 인자(positional-only parameters)"
   ]
  },
  {
   "cell_type": "code",
   "execution_count": 100,
   "id": "926d452e-6c84-44af-9a10-39ff5059fc0a",
   "metadata": {},
   "outputs": [],
   "source": [
    "def posonly(posonly, /):    # / 기준 왼쪽 인자(정의부)는 위치 전용 인자.\n",
    "    print(posonly)"
   ]
  },
  {
   "cell_type": "code",
   "execution_count": 101,
   "id": "875ddb25-1dda-43fb-9469-3095b931a861",
   "metadata": {},
   "outputs": [
    {
     "name": "stdout",
     "output_type": "stream",
     "text": [
      "값만 입력해야 합니다.\n"
     ]
    }
   ],
   "source": [
    "posonly(\"값만 입력해야 합니다.\")"
   ]
  },
  {
   "cell_type": "code",
   "execution_count": 102,
   "id": "19ae2ce4-0684-46f7-9d75-4058248790a7",
   "metadata": {},
   "outputs": [
    {
     "ename": "TypeError",
     "evalue": "posonly() got some positional-only arguments passed as keyword arguments: 'posonly'",
     "output_type": "error",
     "traceback": [
      "\u001b[1;31m---------------------------------------------------------------------------\u001b[0m",
      "\u001b[1;31mTypeError\u001b[0m                                 Traceback (most recent call last)",
      "\u001b[1;32m~\\AppData\\Local\\Temp\\ipykernel_9796\\641642284.py\u001b[0m in \u001b[0;36m<module>\u001b[1;34m\u001b[0m\n\u001b[1;32m----> 1\u001b[1;33m \u001b[0mposonly\u001b[0m\u001b[1;33m(\u001b[0m\u001b[0mposonly\u001b[0m \u001b[1;33m=\u001b[0m \u001b[1;34m\"키워드 인수로 전달하면 오류 발생!\"\u001b[0m\u001b[1;33m)\u001b[0m\u001b[1;33m\u001b[0m\u001b[1;33m\u001b[0m\u001b[0m\n\u001b[0m",
      "\u001b[1;31mTypeError\u001b[0m: posonly() got some positional-only arguments passed as keyword arguments: 'posonly'"
     ]
    }
   ],
   "source": [
    "posonly(posonly = \"키워드 인수로 전달하면 오류 발생!\")"
   ]
  },
  {
   "cell_type": "code",
   "execution_count": null,
   "id": "777fcf83-28ca-4a28-88bb-e250fceedb44",
   "metadata": {},
   "outputs": [],
   "source": []
  },
  {
   "cell_type": "code",
   "execution_count": null,
   "id": "9b8eaa77-3791-444f-8640-37cc25974efe",
   "metadata": {},
   "outputs": [],
   "source": [
    "### 키워드 전용 인자(keyword-only parameters)"
   ]
  },
  {
   "cell_type": "code",
   "execution_count": 104,
   "id": "432b6177-5f63-40e2-b0f6-7f054a9c445f",
   "metadata": {},
   "outputs": [],
   "source": [
    "def keyonly(*, keyonly = \"default\"):\n",
    "    print(keyonly)"
   ]
  },
  {
   "cell_type": "code",
   "execution_count": 105,
   "id": "ad81f8ad-af03-46f8-9ac2-3f65fb28e230",
   "metadata": {},
   "outputs": [
    {
     "name": "stdout",
     "output_type": "stream",
     "text": [
      "default\n"
     ]
    }
   ],
   "source": [
    "keyonly()"
   ]
  },
  {
   "cell_type": "code",
   "execution_count": 106,
   "id": "99479470-2989-4ea5-a0e4-269e84b7efe6",
   "metadata": {},
   "outputs": [
    {
     "name": "stdout",
     "output_type": "stream",
     "text": [
      "print할 값\n"
     ]
    }
   ],
   "source": [
    "keyonly(keyonly = \"print할 값\")"
   ]
  },
  {
   "cell_type": "code",
   "execution_count": 107,
   "id": "0e6ffa2f-cb3e-410d-a83a-852069816c13",
   "metadata": {},
   "outputs": [
    {
     "ename": "TypeError",
     "evalue": "keyonly() takes 0 positional arguments but 1 was given",
     "output_type": "error",
     "traceback": [
      "\u001b[1;31m---------------------------------------------------------------------------\u001b[0m",
      "\u001b[1;31mTypeError\u001b[0m                                 Traceback (most recent call last)",
      "\u001b[1;32m~\\AppData\\Local\\Temp\\ipykernel_9796\\4057244264.py\u001b[0m in \u001b[0;36m<module>\u001b[1;34m\u001b[0m\n\u001b[1;32m----> 1\u001b[1;33m \u001b[0mkeyonly\u001b[0m\u001b[1;33m(\u001b[0m\u001b[1;34m\"print할 값\"\u001b[0m\u001b[1;33m)\u001b[0m\u001b[1;33m\u001b[0m\u001b[1;33m\u001b[0m\u001b[0m\n\u001b[0m",
      "\u001b[1;31mTypeError\u001b[0m: keyonly() takes 0 positional arguments but 1 was given"
     ]
    }
   ],
   "source": [
    "keyonly(\"print할 값\")  # 에러 발생\n",
    "\n",
    "# 키워드 없이 사용했으므로"
   ]
  },
  {
   "cell_type": "code",
   "execution_count": null,
   "id": "20dd72c0-6a98-49ff-be21-f702e0372692",
   "metadata": {},
   "outputs": [],
   "source": []
  },
  {
   "cell_type": "code",
   "execution_count": null,
   "id": "d0deeb29-975b-41d3-92c3-d3f9021401da",
   "metadata": {},
   "outputs": [],
   "source": [
    "# ex2)"
   ]
  },
  {
   "cell_type": "code",
   "execution_count": 108,
   "id": "f0efe61a-1631-424a-b9ba-93b192f32ffc",
   "metadata": {},
   "outputs": [],
   "source": [
    "def keyonly(*, keyonly):  # *을 인자로 위치시키면 오른쪽 parameter는 keyword-only paramger가 됨\n",
    "    print(keyonly)"
   ]
  },
  {
   "cell_type": "code",
   "execution_count": 109,
   "id": "80beb556-598b-48ec-8038-c9ef7bc7816a",
   "metadata": {},
   "outputs": [
    {
     "name": "stdout",
     "output_type": "stream",
     "text": [
      "키워드로만 입력해야 합니다.\n"
     ]
    }
   ],
   "source": [
    "keyonly(keyonly = \"키워드로만 입력해야 합니다.\")"
   ]
  },
  {
   "cell_type": "code",
   "execution_count": 110,
   "id": "c3ef6e84-3197-4583-b1ab-7c6eb45c7c6f",
   "metadata": {},
   "outputs": [
    {
     "ename": "TypeError",
     "evalue": "keyonly() takes 0 positional arguments but 1 was given",
     "output_type": "error",
     "traceback": [
      "\u001b[1;31m---------------------------------------------------------------------------\u001b[0m",
      "\u001b[1;31mTypeError\u001b[0m                                 Traceback (most recent call last)",
      "\u001b[1;32m~\\AppData\\Local\\Temp\\ipykernel_9796\\1616370153.py\u001b[0m in \u001b[0;36m<module>\u001b[1;34m\u001b[0m\n\u001b[1;32m----> 1\u001b[1;33m \u001b[0mkeyonly\u001b[0m\u001b[1;33m(\u001b[0m\u001b[1;34m\"키워드로만 입력해야 합니다.\"\u001b[0m\u001b[1;33m)\u001b[0m  \u001b[1;31m# 에러 발생\u001b[0m\u001b[1;33m\u001b[0m\u001b[1;33m\u001b[0m\u001b[0m\n\u001b[0m",
      "\u001b[1;31mTypeError\u001b[0m: keyonly() takes 0 positional arguments but 1 was given"
     ]
    }
   ],
   "source": [
    "keyonly(\"키워드로만 입력해야 합니다.\")  # 에러 발생"
   ]
  },
  {
   "cell_type": "code",
   "execution_count": null,
   "id": "c17ac9f2-8a77-48f0-a83c-47d86978ee78",
   "metadata": {},
   "outputs": [],
   "source": []
  },
  {
   "cell_type": "code",
   "execution_count": 111,
   "id": "df49adf0-b204-4aff-b65a-ce50f948b9c7",
   "metadata": {},
   "outputs": [],
   "source": [
    "### 가변-위치 인자(var-positional parameters)"
   ]
  },
  {
   "cell_type": "code",
   "execution_count": 113,
   "id": "f91161bd-fee8-4fff-961f-ee0c32f3fe85",
   "metadata": {},
   "outputs": [],
   "source": [
    "def var_positional(*args):  # 변수 앞에 공백 없이 *을 1개 붙이면 가변-위치 인자로 사용 가능\n",
    "    print(type(args))\n",
    "    return sum([_ for _ in args])  # (값1, 값2, ...)내 모든 요소들을 더한다."
   ]
  },
  {
   "cell_type": "code",
   "execution_count": 114,
   "id": "a0c312eb-412c-432c-8a59-5a28b43941c0",
   "metadata": {},
   "outputs": [
    {
     "name": "stdout",
     "output_type": "stream",
     "text": [
      "<class 'tuple'>\n",
      "15\n"
     ]
    }
   ],
   "source": [
    "print(var_positional(1, 2, 3, 4, 5))  # 인자 개수에 상관 없이(= 가변) 결과 호출 가능\n",
    "\n",
    "# Tuple로 packing 후 결과 출력"
   ]
  },
  {
   "cell_type": "code",
   "execution_count": 115,
   "id": "6b34f5b5-def4-42d8-9421-968ba3a736b1",
   "metadata": {},
   "outputs": [
    {
     "name": "stdout",
     "output_type": "stream",
     "text": [
      "<class 'tuple'>\n",
      "0\n"
     ]
    }
   ],
   "source": [
    "print(var_positional())  # 가변-위치 인자에 전달할 인수 없이(빈 값으로) 호출 가능"
   ]
  },
  {
   "cell_type": "code",
   "execution_count": null,
   "id": "535ecf36-7515-4dd3-a823-42c651c68585",
   "metadata": {},
   "outputs": [],
   "source": []
  },
  {
   "cell_type": "code",
   "execution_count": 116,
   "id": "7a2363b5-42d2-4c26-a847-c0c3dc8be3aa",
   "metadata": {},
   "outputs": [],
   "source": [
    "### 가변-키워드 인자(var-keyword paramters)"
   ]
  },
  {
   "cell_type": "code",
   "execution_count": 117,
   "id": "b1551dab-fbe3-411b-9029-0030948c31e9",
   "metadata": {},
   "outputs": [],
   "source": [
    "def var_keyword(**kwargs):  # 가변 변수 앞에 **를 붙인다\n",
    "    print(type(kwargs))\n",
    "    return kwargs"
   ]
  },
  {
   "cell_type": "code",
   "execution_count": 118,
   "id": "026bb894-4b4e-44db-8050-4e1fc9fbe04c",
   "metadata": {},
   "outputs": [
    {
     "name": "stdout",
     "output_type": "stream",
     "text": [
      "<class 'dict'>\n",
      "{'key': 'value', 'key2': 'value2'}\n"
     ]
    }
   ],
   "source": [
    "print(var_keyword(key = \"value\", key2 = \"value2\"))  # dict()의 결과와 같음)"
   ]
  },
  {
   "cell_type": "code",
   "execution_count": 119,
   "id": "9268f4b7-922b-445b-8412-36a9d7ed4e90",
   "metadata": {},
   "outputs": [
    {
     "name": "stdout",
     "output_type": "stream",
     "text": [
      "<class 'dict'>\n",
      "{}\n"
     ]
    }
   ],
   "source": [
    "print(var_keyword())  # 가변-키워드 인자에 전달할 인수 없이(빈 값으로) 호출 가능"
   ]
  },
  {
   "cell_type": "code",
   "execution_count": null,
   "id": "bad5adad-0323-497c-9f9a-ddf40abc3508",
   "metadata": {},
   "outputs": [],
   "source": [
    "# return 키워드를 만나면 함수를 빠져나감  -> break와 역할 비슷함\n",
    "# 함수로 호출한 부분에 값을 전달한다는 점에서 차이가 있음"
   ]
  },
  {
   "cell_type": "code",
   "execution_count": null,
   "id": "c2ccf480-2c8a-42d1-be50-f7687788d623",
   "metadata": {},
   "outputs": [],
   "source": []
  },
  {
   "cell_type": "code",
   "execution_count": 123,
   "id": "ec8036e5-5263-4a94-a748-9a26e57e60bc",
   "metadata": {},
   "outputs": [],
   "source": [
    "# Q1.\n",
    "def plus_ten(i, /):\n",
    "    print(\"반환 값:\", i + 10)"
   ]
  },
  {
   "cell_type": "code",
   "execution_count": 124,
   "id": "065f170f-f2b5-439b-9580-95e5120667ea",
   "metadata": {},
   "outputs": [
    {
     "name": "stdout",
     "output_type": "stream",
     "text": [
      "반환 값: 80\n"
     ]
    }
   ],
   "source": [
    "plus_ten(70)"
   ]
  },
  {
   "cell_type": "code",
   "execution_count": 136,
   "id": "f0ce64e1-a4c5-46c7-a69d-f238e4c0ba9a",
   "metadata": {},
   "outputs": [],
   "source": [
    "# Q1 풀이 -> 이렇게 풀어야 함\n",
    "def plus_ten(i):  # 변수 앞에 공백 없이 *을 1개 붙이면 가변-위치 인자로 사용 가능\n",
    "    return i + 10"
   ]
  },
  {
   "cell_type": "code",
   "execution_count": 138,
   "id": "a4050503-575e-4e32-a7a5-de922c2ae617",
   "metadata": {},
   "outputs": [
    {
     "name": "stdout",
     "output_type": "stream",
     "text": [
      "반환 값: 80\n"
     ]
    }
   ],
   "source": [
    "print(\"반환 값:\", plus_ten(70))"
   ]
  },
  {
   "cell_type": "code",
   "execution_count": null,
   "id": "b28f8333-5277-42c9-9ab5-fd65c57af656",
   "metadata": {},
   "outputs": [],
   "source": []
  },
  {
   "cell_type": "code",
   "execution_count": 139,
   "id": "c0760b61-f972-44a6-98b8-8b548865ecb6",
   "metadata": {},
   "outputs": [],
   "source": [
    "# Q2.\n",
    "def to_celsius(fahrenheit):\n",
    "    fahrenheit = (fahrenheit - 32) * (5/9)\n",
    "    return fahrenheit"
   ]
  },
  {
   "cell_type": "code",
   "execution_count": 141,
   "id": "392d3ba9-f648-4695-b4fe-3b6872dc6801",
   "metadata": {},
   "outputs": [
    {
     "name": "stdout",
     "output_type": "stream",
     "text": [
      "반환 값: 21.11111111111111\n"
     ]
    }
   ],
   "source": [
    "print(\"반환 값:\", to_celsius(70))"
   ]
  },
  {
   "cell_type": "code",
   "execution_count": 142,
   "id": "ecd08df0-4031-470e-9b67-931e3fb8bc1c",
   "metadata": {},
   "outputs": [],
   "source": [
    "# Q2 풀이\n",
    "def to_celsius(fahrenheit):\n",
    "    return(fahrenheit - 32) * ( 5/9)"
   ]
  },
  {
   "cell_type": "code",
   "execution_count": 143,
   "id": "1ccadceb-4c95-4e9c-b848-de57faf5c04d",
   "metadata": {},
   "outputs": [
    {
     "name": "stdout",
     "output_type": "stream",
     "text": [
      "21.11111111111111\n"
     ]
    }
   ],
   "source": [
    "print(to_celsius(70))"
   ]
  },
  {
   "cell_type": "code",
   "execution_count": null,
   "id": "f961f9e0-af72-45a4-8573-958e033774ba",
   "metadata": {},
   "outputs": [],
   "source": []
  },
  {
   "cell_type": "code",
   "execution_count": 162,
   "id": "44d238dd-9e94-4833-b8f9-e4740db7ef4d",
   "metadata": {},
   "outputs": [],
   "source": [
    "# Q3.\n",
    "def odd_even(number):\n",
    "    \"\"\"number가 짝수면 \"짝수\", 홀수면 \"홀수\" 반환\"\"\"\n",
    "    if type(number) is str:\n",
    "        return\n",
    "    elif number < 1:\n",
    "        return\n",
    "    else:\n",
    "        if number % 2 == 1:\n",
    "            return \"홀수\"\n",
    "        elif number % 2 == 0:\n",
    "            return \"짝수\"\n",
    "    return number   "
   ]
  },
  {
   "cell_type": "code",
   "execution_count": 163,
   "id": "40a9a207-1658-4ada-b515-a1a33e6274a4",
   "metadata": {},
   "outputs": [
    {
     "name": "stdout",
     "output_type": "stream",
     "text": [
      "number가 짝수면 \"짝수\", 홀수면 \"홀수\" 반환\n",
      "짝수\n",
      "홀수\n",
      "None\n"
     ]
    }
   ],
   "source": [
    "print(odd_even.__doc__)\n",
    "print(odd_even(10))\n",
    "print(odd_even(9))\n",
    "print(odd_even(\"가\"))"
   ]
  },
  {
   "cell_type": "code",
   "execution_count": 164,
   "id": "dbe7fc99-a303-4276-a068-2f31de5d1e1b",
   "metadata": {},
   "outputs": [],
   "source": [
    "# Q3 풀이\n",
    "def odd_even(number):\n",
    "    \"\"\"number가 짝수면 \"짝수\", 홀수면 \"홀수\" 반환\"\"\"\n",
    "    if type(number) is int and number > 0:\n",
    "        return \"짝수\" * (number % 2 == 0) or \"홀수\"  # (*): (number % 2 == 0)\n",
    "    else:\n",
    "        return\n",
    "\n",
    "# (*) 부분이 True면 1 -> 짝수 1번 출력\n",
    "# (*) 부분이 False면 0 -> in string으로 처리, * 앞 문자 출력 X -> or 뒤 문자인 \"홀수\" 출력"
   ]
  },
  {
   "cell_type": "code",
   "execution_count": 165,
   "id": "8cf1c83b-4d98-4ec2-ab8b-83f313ce4cd6",
   "metadata": {},
   "outputs": [
    {
     "name": "stdout",
     "output_type": "stream",
     "text": [
      "number가 짝수면 \"짝수\", 홀수면 \"홀수\" 반환\n",
      "짝수\n",
      "홀수\n",
      "None\n"
     ]
    }
   ],
   "source": [
    "print(odd_even.__doc__)\n",
    "print(odd_even(10))\n",
    "print(odd_even(9))\n",
    "print(odd_even(\"가\"))"
   ]
  },
  {
   "cell_type": "code",
   "execution_count": null,
   "id": "20d80697-a8a9-441c-8f95-ddefc8f0abe5",
   "metadata": {},
   "outputs": [],
   "source": []
  },
  {
   "cell_type": "code",
   "execution_count": 166,
   "id": "2c139f3a-0e91-4a04-8177-88fb90d92e0c",
   "metadata": {},
   "outputs": [],
   "source": [
    "# 참고 - isdecimal(), isdigit(), isnumeric()"
   ]
  },
  {
   "cell_type": "code",
   "execution_count": 169,
   "id": "e9255718-70e6-4e71-9b1f-0ced9cc81a22",
   "metadata": {},
   "outputs": [
    {
     "name": "stdin",
     "output_type": "stream",
     "text": [
      "숫자를 입력하세요 10\n"
     ]
    },
    {
     "name": "stdout",
     "output_type": "stream",
     "text": [
      "10\n"
     ]
    }
   ],
   "source": [
    "number = input(\"숫자를 입력하세요\")\n",
    "print(number)"
   ]
  },
  {
   "cell_type": "code",
   "execution_count": 168,
   "id": "6048745e-40de-4eb5-8eee-8599424db620",
   "metadata": {},
   "outputs": [
    {
     "data": {
      "text/plain": [
       "str"
      ]
     },
     "execution_count": 168,
     "metadata": {},
     "output_type": "execute_result"
    }
   ],
   "source": [
    "type(number)"
   ]
  },
  {
   "cell_type": "code",
   "execution_count": 170,
   "id": "8d11ff4b-56dd-4a3d-9f91-8eb4fcdce49d",
   "metadata": {},
   "outputs": [
    {
     "data": {
      "text/plain": [
       "True"
      ]
     },
     "execution_count": 170,
     "metadata": {},
     "output_type": "execute_result"
    }
   ],
   "source": [
    "number.isdecimal()"
   ]
  },
  {
   "cell_type": "code",
   "execution_count": null,
   "id": "91679490-ef2c-4337-b080-378cd69528ab",
   "metadata": {},
   "outputs": [],
   "source": []
  },
  {
   "cell_type": "code",
   "execution_count": 171,
   "id": "ae99d016-e135-4b20-b0f6-0dfd5670adcc",
   "metadata": {},
   "outputs": [
    {
     "name": "stdin",
     "output_type": "stream",
     "text": [
      "숫자를 입력하세요 10.1\n"
     ]
    },
    {
     "name": "stdout",
     "output_type": "stream",
     "text": [
      "10.1\n"
     ]
    }
   ],
   "source": [
    "number = input(\"숫자를 입력하세요\")\n",
    "print(number)"
   ]
  },
  {
   "cell_type": "code",
   "execution_count": 172,
   "id": "6e27d7fb-0bda-42ab-b798-858d4d1c7977",
   "metadata": {},
   "outputs": [
    {
     "data": {
      "text/plain": [
       "str"
      ]
     },
     "execution_count": 172,
     "metadata": {},
     "output_type": "execute_result"
    }
   ],
   "source": [
    "type(number)"
   ]
  },
  {
   "cell_type": "code",
   "execution_count": 173,
   "id": "da88de8d-d381-431f-805a-7463a71d56ee",
   "metadata": {},
   "outputs": [
    {
     "data": {
      "text/plain": [
       "False"
      ]
     },
     "execution_count": 173,
     "metadata": {},
     "output_type": "execute_result"
    }
   ],
   "source": [
    "number.isdecimal()"
   ]
  },
  {
   "cell_type": "code",
   "execution_count": 174,
   "id": "4891b6a5-f220-45c9-8140-93fdbe27a9bc",
   "metadata": {},
   "outputs": [
    {
     "ename": "ValueError",
     "evalue": "invalid literal for int() with base 10: '10.1'",
     "output_type": "error",
     "traceback": [
      "\u001b[1;31m---------------------------------------------------------------------------\u001b[0m",
      "\u001b[1;31mValueError\u001b[0m                                Traceback (most recent call last)",
      "\u001b[1;32m~\\AppData\\Local\\Temp\\ipykernel_9796\\1046489479.py\u001b[0m in \u001b[0;36m<module>\u001b[1;34m\u001b[0m\n\u001b[1;32m----> 1\u001b[1;33m \u001b[0mint\u001b[0m\u001b[1;33m(\u001b[0m\u001b[0mnumber\u001b[0m\u001b[1;33m)\u001b[0m\u001b[1;33m\u001b[0m\u001b[1;33m\u001b[0m\u001b[0m\n\u001b[0m",
      "\u001b[1;31mValueError\u001b[0m: invalid literal for int() with base 10: '10.1'"
     ]
    }
   ],
   "source": [
    "int(number)  # 에러 발생  -> 실수형을 정수형으로 바꾸려고 했으므로"
   ]
  },
  {
   "cell_type": "code",
   "execution_count": 175,
   "id": "2468a5a7-1f33-4171-be65-9c8a369a80f1",
   "metadata": {},
   "outputs": [
    {
     "data": {
      "text/plain": [
       "10"
      ]
     },
     "execution_count": 175,
     "metadata": {},
     "output_type": "execute_result"
    }
   ],
   "source": [
    "int(float(number))  # 이렇게 해결"
   ]
  },
  {
   "cell_type": "code",
   "execution_count": null,
   "id": "ff70b573-8413-4619-926a-134e4b82f139",
   "metadata": {},
   "outputs": [],
   "source": []
  },
  {
   "cell_type": "code",
   "execution_count": 176,
   "id": "670f588a-0f19-4c11-9b99-c504afcedab2",
   "metadata": {},
   "outputs": [],
   "source": [
    "def to_int(number):\n",
    "    if number.isdecimal():\n",
    "        return int(number)\n",
    "    return"
   ]
  },
  {
   "cell_type": "code",
   "execution_count": 177,
   "id": "ba947d6c-113c-46dc-a4b5-5f96087075bc",
   "metadata": {},
   "outputs": [
    {
     "name": "stdout",
     "output_type": "stream",
     "text": [
      "None\n"
     ]
    }
   ],
   "source": [
    "print(to_int(number))"
   ]
  },
  {
   "cell_type": "code",
   "execution_count": null,
   "id": "bf4d9c93-e0ea-4de6-8db1-6f070702f249",
   "metadata": {},
   "outputs": [],
   "source": []
  },
  {
   "cell_type": "code",
   "execution_count": 183,
   "id": "23c62adc-a545-4f5e-b6a2-1f2c140ef17c",
   "metadata": {},
   "outputs": [
    {
     "name": "stdin",
     "output_type": "stream",
     "text": [
      "년도 입력 2000\n"
     ]
    },
    {
     "name": "stdout",
     "output_type": "stream",
     "text": [
      "윤년\n"
     ]
    }
   ],
   "source": [
    "# Q4.\n",
    "year = int(input(\"년도 입력\"))\n",
    "\n",
    "def check_leap_year(year):\n",
    "    if year % 4 != 0:\n",
    "        return \"평년\"\n",
    "    elif year % 100 == 0 and year % 400 != 0:\n",
    "        return \"평년\"\n",
    "    else:\n",
    "        return \"윤년\"\n",
    "\n",
    "print(check_leap_year(year))"
   ]
  },
  {
   "cell_type": "code",
   "execution_count": 184,
   "id": "df7d0e9c-bc33-4741-9eb7-1e3dc83f93ab",
   "metadata": {},
   "outputs": [
    {
     "ename": "SyntaxError",
     "evalue": "invalid syntax (1714513332.py, line 2)",
     "output_type": "error",
     "traceback": [
      "\u001b[1;36m  File \u001b[1;32m\"C:\\Users\\Playdata\\AppData\\Local\\Temp\\ipykernel_9796\\1714513332.py\"\u001b[1;36m, line \u001b[1;32m2\u001b[0m\n\u001b[1;33m    if y % 4 == 0 and (y % 100 != 0 or y % 400 ==):\u001b[0m\n\u001b[1;37m                                                 ^\u001b[0m\n\u001b[1;31mSyntaxError\u001b[0m\u001b[1;31m:\u001b[0m invalid syntax\n"
     ]
    }
   ],
   "source": [
    "# Q4 풀이 - 다시 정리\n",
    "def check_leap_year(y):\n",
    "    if y % 4 == 0 and (y % 100 != 0 or y % 400 ==):\n",
    "        return \"평년\""
   ]
  },
  {
   "cell_type": "code",
   "execution_count": null,
   "id": "1b51fdd6-bf65-4fdf-8a1f-3aa3dc20ef2e",
   "metadata": {},
   "outputs": [],
   "source": []
  },
  {
   "cell_type": "code",
   "execution_count": 256,
   "id": "a79f1cda-d06f-4980-b165-3a67ac14f9f6",
   "metadata": {},
   "outputs": [
    {
     "name": "stdin",
     "output_type": "stream",
     "text": [
      "년도 입력: 2016\n",
      "월 입력: 2\n"
     ]
    },
    {
     "name": "stdout",
     "output_type": "stream",
     "text": [
      "29\n"
     ]
    }
   ],
   "source": [
    "# Q5.\n",
    "year = int(input(\"년도 입력:\"))\n",
    "mon = int(input(\"월 입력:\"))\n",
    "\n",
    "def days(mon):\n",
    "    if mon in (1, 3, 5, 7, 8, 10, 12):\n",
    "        return 31\n",
    "    elif mon in (4, 6, 9, 11):\n",
    "        return 30\n",
    "    elif mon == 2:\n",
    "        if year % 4 == 0 and (year % 400 == 0 or year % 100 != 0) and mon == 2:\n",
    "            return 29\n",
    "        else:\n",
    "            return 28\n",
    "\n",
    "print(days(mon))"
   ]
  },
  {
   "cell_type": "code",
   "execution_count": null,
   "id": "6cabda38-2961-4531-9654-828331b48d6c",
   "metadata": {},
   "outputs": [],
   "source": []
  },
  {
   "cell_type": "code",
   "execution_count": 259,
   "id": "f21e366b-c64d-41f3-94dc-7e1bb7ee8a2d",
   "metadata": {},
   "outputs": [
    {
     "name": "stdin",
     "output_type": "stream",
     "text": [
      "년도 입력: 2023\n",
      "월 입력: 2\n"
     ]
    },
    {
     "name": "stdout",
     "output_type": "stream",
     "text": [
      "28\n"
     ]
    }
   ],
   "source": [
    "# Q6.\n",
    "year = int(input(\"년도 입력:\"))\n",
    "mon = int(input(\"월 입력:\"))\n",
    "\n",
    "def days(year, mon):\n",
    "    if year % 4 == 0 and (year % 400 == 0 or year % 100 != 0) and mon == 2:\n",
    "        return 29\n",
    "    else:\n",
    "        if mon in (1, 3, 5, 7, 8, 10, 12):\n",
    "            return 31\n",
    "        elif mon in (4, 6, 9, 11):\n",
    "            return 30\n",
    "        else:\n",
    "            return 28\n",
    "\n",
    "print(days(year, mon))"
   ]
  },
  {
   "cell_type": "code",
   "execution_count": 260,
   "id": "41008668-b28a-46ea-9e1b-687870198fe1",
   "metadata": {},
   "outputs": [
    {
     "ename": "SyntaxError",
     "evalue": "invalid syntax (3375955703.py, line 7)",
     "output_type": "error",
     "traceback": [
      "\u001b[1;36m  File \u001b[1;32m\"C:\\Users\\Playdata\\AppData\\Local\\Temp\\ipykernel_9796\\3375955703.py\"\u001b[1;36m, line \u001b[1;32m7\u001b[0m\n\u001b[1;33m    elif y % 4 == 0 and (y % 100 != 0 and y % 400 == 0)\u001b[0m\n\u001b[1;37m                                                       ^\u001b[0m\n\u001b[1;31mSyntaxError\u001b[0m\u001b[1;31m:\u001b[0m invalid syntax\n"
     ]
    }
   ],
   "source": [
    "# Q6 풀이 - 다시 정리\n",
    "def days(y, m):\n",
    "    if m in (1, 3, 5, 7, 8, 10, 12):\n",
    "        return 31\n",
    "    elif m in (4, 6, 9, 11):\n",
    "        return 30\n",
    "    elif y % 4 == 0 and (y % 100 != 0 and y % 400 == 0)"
   ]
  },
  {
   "cell_type": "code",
   "execution_count": null,
   "id": "19c57975-4373-44aa-a8e0-b3267548bf1e",
   "metadata": {},
   "outputs": [],
   "source": []
  },
  {
   "cell_type": "code",
   "execution_count": null,
   "id": "d1725684-588b-44f1-a4d0-e3842c408eaa",
   "metadata": {},
   "outputs": [],
   "source": []
  },
  {
   "cell_type": "code",
   "execution_count": 264,
   "id": "32fd4d94-b705-458e-a03d-1ef5d0402b5b",
   "metadata": {},
   "outputs": [],
   "source": [
    "##### 변수의 범위 - 전역변수 VS 지역변수"
   ]
  },
  {
   "cell_type": "code",
   "execution_count": null,
   "id": "4548bef3-226f-4b9d-a27b-76f6aa3395f2",
   "metadata": {},
   "outputs": [],
   "source": [
    "### 전역 변수(Global variable)\n",
    "# 스크립트 전체에서 접근 가능"
   ]
  },
  {
   "cell_type": "code",
   "execution_count": 262,
   "id": "2c67003a-0f56-4306-aff9-ec37de377885",
   "metadata": {},
   "outputs": [
    {
     "name": "stdout",
     "output_type": "stream",
     "text": [
      "global_variable in global scope => This is global world.\n",
      "0x15cd862f620\n"
     ]
    }
   ],
   "source": [
    "global_variable = \"This is global world.\"\n",
    "\n",
    "print(f\"global_variable in global scope => {global_variable}\")\n",
    "print(hex(id(global_variable)))\n",
    "\n",
    "def local_world():\n",
    "    print(f\"global_variable in global scope => {global_variable}\")\n",
    "    print(hex(id(global_variable)))"
   ]
  },
  {
   "cell_type": "code",
   "execution_count": null,
   "id": "1fd9a86b-10e6-4bab-ab7d-a2f143c4ba51",
   "metadata": {},
   "outputs": [],
   "source": []
  },
  {
   "cell_type": "code",
   "execution_count": null,
   "id": "57695fb9-7296-46a8-82c6-939749b9f850",
   "metadata": {},
   "outputs": [],
   "source": [
    "### 지역 변수(Local variable)"
   ]
  },
  {
   "cell_type": "code",
   "execution_count": 263,
   "id": "1ef59c6d-2483-4d53-9e11-52c388fb39fc",
   "metadata": {},
   "outputs": [
    {
     "ename": "NameError",
     "evalue": "name 'my_variable' is not defined",
     "output_type": "error",
     "traceback": [
      "\u001b[1;31m---------------------------------------------------------------------------\u001b[0m",
      "\u001b[1;31mNameError\u001b[0m                                 Traceback (most recent call last)",
      "\u001b[1;32m~\\AppData\\Local\\Temp\\ipykernel_9796\\3526018838.py\u001b[0m in \u001b[0;36m<module>\u001b[1;34m\u001b[0m\n\u001b[0;32m      2\u001b[0m     \u001b[0mmy_variable\u001b[0m \u001b[1;33m=\u001b[0m \u001b[1;34m\"This is my little world.\"\u001b[0m\u001b[1;33m\u001b[0m\u001b[1;33m\u001b[0m\u001b[0m\n\u001b[0;32m      3\u001b[0m \u001b[1;33m\u001b[0m\u001b[0m\n\u001b[1;32m----> 4\u001b[1;33m \u001b[0mprint\u001b[0m\u001b[1;33m(\u001b[0m\u001b[0mmy_variable\u001b[0m\u001b[1;33m)\u001b[0m\u001b[1;33m\u001b[0m\u001b[1;33m\u001b[0m\u001b[0m\n\u001b[0m",
      "\u001b[1;31mNameError\u001b[0m: name 'my_variable' is not defined"
     ]
    }
   ],
   "source": [
    "def my_little_world():\n",
    "    my_variable = \"This is my little world.\"\n",
    "\n",
    "print(my_variable)  # 에러 발생\n",
    "\n",
    "# 분명히 정의 했는데 왜 오류가 뜰까?  -> 범위(Local scope)를 벗어나 my_variable이 사라져서"
   ]
  },
  {
   "cell_type": "code",
   "execution_count": 266,
   "id": "f2307eea-8b69-4b30-bb06-515a49bfeb3d",
   "metadata": {},
   "outputs": [
    {
     "name": "stdout",
     "output_type": "stream",
     "text": [
      "중요한 것은 꺾이지 않는 마음\n"
     ]
    }
   ],
   "source": [
    "important_is_an_unbroken_heart = \"중요한 것은 꺾이지 않는 마음\"\n",
    "\n",
    "def trials_and_tribulations():\n",
    "    important_is_an_unbroken_heart = \"흔들흔들\"\n",
    "\n",
    "trials_and_tribulations()\n",
    "print(important_is_an_unbroken_heart)  # '흔들흔들'로 변경 안 됨\n",
    "\n",
    "# 지역변수는 해당 local scope를 벗어나면 사라짐"
   ]
  },
  {
   "cell_type": "code",
   "execution_count": null,
   "id": "591ed871-bd80-435f-8612-c492e9d52ea8",
   "metadata": {},
   "outputs": [],
   "source": []
  },
  {
   "cell_type": "code",
   "execution_count": 267,
   "id": "b2273803-2c4f-4fef-a521-8fc0e87fac3e",
   "metadata": {},
   "outputs": [
    {
     "name": "stdout",
     "output_type": "stream",
     "text": [
      "global 키워드 활용해서 변경 완료\n"
     ]
    }
   ],
   "source": [
    "global_variable = \"변경이 됩니까?\"\n",
    "def heartbreaker():\n",
    "    global global_variable  # 키워드 global을 활용하면 바꿀 수 있음\n",
    "    global_variable = \"global 키워드 활용해서 변경 완료\"\n",
    "\n",
    "heartbreaker()\n",
    "print(global_variable)"
   ]
  },
  {
   "cell_type": "code",
   "execution_count": null,
   "id": "99195ccc-a108-432a-a9dd-ffae0c10ea6d",
   "metadata": {},
   "outputs": [],
   "source": []
  },
  {
   "cell_type": "code",
   "execution_count": 268,
   "id": "eac4d799-11d4-4b95-8d40-f0e36ebe39a7",
   "metadata": {},
   "outputs": [],
   "source": [
    "def level1():\n",
    "    message = \"This is level 1.\"\n",
    "    def level2():\n",
    "        print(message)\n",
    "    level2()\n",
    "\n",
    "# Local scope 내 Local scope -> 조회에는 문제 없음. 상위 Local에 대하여 출력"
   ]
  },
  {
   "cell_type": "code",
   "execution_count": 269,
   "id": "b42de132-23bf-4f16-87d8-d99ceffbebce",
   "metadata": {},
   "outputs": [
    {
     "name": "stdout",
     "output_type": "stream",
     "text": [
      "This is level 1.\n"
     ]
    }
   ],
   "source": [
    "level1()"
   ]
  },
  {
   "cell_type": "code",
   "execution_count": 270,
   "id": "3f2e62cd-b814-46b4-bfc7-a83dd6aa3848",
   "metadata": {},
   "outputs": [],
   "source": [
    "def level1():\n",
    "    message = \"This is level 1.\"\n",
    "    def level2():\n",
    "        message = \"Level2 is better than level1.\"  # message 내용 변경 실패\n",
    "    level2()\n",
    "    print(message)"
   ]
  },
  {
   "cell_type": "code",
   "execution_count": 273,
   "id": "e3f99fba-584a-4f81-bd35-5d411a4a7f01",
   "metadata": {},
   "outputs": [
    {
     "name": "stdout",
     "output_type": "stream",
     "text": [
      "This is level 1.\n"
     ]
    }
   ],
   "source": [
    "level1()"
   ]
  },
  {
   "cell_type": "code",
   "execution_count": 274,
   "id": "45691bfc-9a80-4429-b504-1e5830826723",
   "metadata": {},
   "outputs": [],
   "source": [
    "def level1():\n",
    "    message = \"This is level 1.\"\n",
    "    def level2():\n",
    "        nonlocal message  # 현재 영역 밖으로 빠져나간 뒤 가장 가까운 변수 값으로 변경됨\n",
    "        message = \"Level2 is better than level1.\"\n",
    "    level2()\n",
    "    print(message)"
   ]
  },
  {
   "cell_type": "code",
   "execution_count": 275,
   "id": "16ae3aca-2a4d-4e50-ada8-f918c57ef384",
   "metadata": {},
   "outputs": [
    {
     "name": "stdout",
     "output_type": "stream",
     "text": [
      "Level2 is better than level1.\n"
     ]
    }
   ],
   "source": [
    "level1()"
   ]
  },
  {
   "cell_type": "code",
   "execution_count": 276,
   "id": "1b93dfee-8cda-4c42-b901-b81b5e03c73a",
   "metadata": {},
   "outputs": [],
   "source": [
    "## 추천 사항 ## - 함수마다 다른 변수명 사용하는게 좋음"
   ]
  },
  {
   "cell_type": "code",
   "execution_count": null,
   "id": "d3981ee0-2774-4e19-aa76-2931b9dd1bac",
   "metadata": {},
   "outputs": [],
   "source": []
  },
  {
   "cell_type": "code",
   "execution_count": null,
   "id": "fd81788d-0bbf-4f48-9d49-8621c86cfe61",
   "metadata": {},
   "outputs": [],
   "source": []
  },
  {
   "cell_type": "code",
   "execution_count": 277,
   "id": "2beedef3-4ec4-40cb-8395-49939d4091e6",
   "metadata": {},
   "outputs": [],
   "source": [
    "##### lambda"
   ]
  },
  {
   "cell_type": "code",
   "execution_count": 278,
   "id": "c18ec55a-893c-4f34-a6a0-cd2730823254",
   "metadata": {},
   "outputs": [],
   "source": [
    "# lambda[parameters]: expression\n",
    "# 이름 없이 한 줄로 표현 가능한 함수 (in-line 함수)\n",
    "# 변수 지정 후 호출 가능"
   ]
  },
  {
   "cell_type": "code",
   "execution_count": 280,
   "id": "9683fd83-391d-4833-be61-dde308790738",
   "metadata": {},
   "outputs": [
    {
     "data": {
      "text/plain": [
       "20"
      ]
     },
     "execution_count": 280,
     "metadata": {},
     "output_type": "execute_result"
    }
   ],
   "source": [
    "(lambda x: x + 10)(10)"
   ]
  },
  {
   "cell_type": "code",
   "execution_count": 281,
   "id": "27abbecd-08b0-4473-bd73-b0a881a19a19",
   "metadata": {},
   "outputs": [
    {
     "name": "stdout",
     "output_type": "stream",
     "text": [
      "20\n"
     ]
    }
   ],
   "source": [
    "twice = lambda x: x * 2\n",
    "print(twice(10))"
   ]
  },
  {
   "cell_type": "code",
   "execution_count": 282,
   "id": "289eeb98-83d4-461f-b847-6400083a151c",
   "metadata": {},
   "outputs": [
    {
     "ename": "SyntaxError",
     "evalue": "invalid syntax (2333446955.py, line 1)",
     "output_type": "error",
     "traceback": [
      "\u001b[1;36m  File \u001b[1;32m\"C:\\Users\\Playdata\\AppData\\Local\\Temp\\ipykernel_9796\\2333446955.py\"\u001b[1;36m, line \u001b[1;32m1\u001b[0m\n\u001b[1;33m    (lambda x: y = 10; x + y)(1)\u001b[0m\n\u001b[1;37m                 ^\u001b[0m\n\u001b[1;31mSyntaxError\u001b[0m\u001b[1;31m:\u001b[0m invalid syntax\n"
     ]
    }
   ],
   "source": [
    "(lambda x: y = 10; x + y)(1)  # 에러 발생\n",
    "\n",
    "# 콜론(:) 뒤에 새로운 변수 지정 불가\n",
    "# 세미콜론을 사용함으로써 1줄도 아니게 됨"
   ]
  },
  {
   "cell_type": "code",
   "execution_count": null,
   "id": "17d4203b-17a6-463c-ac48-c09b80e8bf77",
   "metadata": {},
   "outputs": [],
   "source": []
  },
  {
   "cell_type": "code",
   "execution_count": 283,
   "id": "f9ea75af-011f-42d0-a73b-6d7dba6589e3",
   "metadata": {},
   "outputs": [],
   "source": [
    "### 조건 표현식(Conditional Expression) - inline if else"
   ]
  },
  {
   "cell_type": "code",
   "execution_count": 284,
   "id": "5e8a753c-f408-4783-90b6-3729d5072619",
   "metadata": {},
   "outputs": [],
   "source": [
    "# 식 형태: True value if 조건식 else False value\n",
    "\n",
    "# if else를 한 줄로 작성하는 방법.\n",
    "# if만 사용할 수 없음! 반드시 else와 같이 와야 함\n",
    "# 중첩이 많아질 경우 가독성이 떨어짐"
   ]
  },
  {
   "cell_type": "code",
   "execution_count": 285,
   "id": "159e9c70-1df0-408f-8153-dce322a62a5d",
   "metadata": {},
   "outputs": [
    {
     "data": {
      "text/plain": [
       "'B'"
      ]
     },
     "execution_count": 285,
     "metadata": {},
     "output_type": "execute_result"
    }
   ],
   "source": [
    "score = 90\n",
    "\"A\" if 90 < score <=100 else \"B\" if 80 < score else \"C\""
   ]
  },
  {
   "cell_type": "code",
   "execution_count": null,
   "id": "4a39738b-9a99-44c5-b71c-643c130d485a",
   "metadata": {},
   "outputs": [],
   "source": []
  },
  {
   "cell_type": "code",
   "execution_count": 286,
   "id": "b98357c0-038a-4781-ae47-bc25e69bae52",
   "metadata": {},
   "outputs": [],
   "source": [
    "### map()과 같이 쓰기"
   ]
  },
  {
   "cell_type": "code",
   "execution_count": null,
   "id": "914971ed-1fcc-4614-a3ed-314eae7ee0fd",
   "metadata": {},
   "outputs": [],
   "source": [
    "# map(lambda parameter1, parameter2, ...: expression)"
   ]
  },
  {
   "cell_type": "code",
   "execution_count": 287,
   "id": "3c28b5a3-8f59-4f7b-99e5-daa41ffe7d7a",
   "metadata": {},
   "outputs": [
    {
     "name": "stdout",
     "output_type": "stream",
     "text": [
      "[2, 8, 18, 32, 50]\n"
     ]
    }
   ],
   "source": [
    "a = [_ for _ in range(1, 6)]      # 1, 2, 3, 4, 5\n",
    "b = [_ for _ in range(2, 11, 2)]  # 2, 4, 6, 8, 10\n",
    "print(list(map(lambda x, y: x * y, a, b)))"
   ]
  },
  {
   "cell_type": "code",
   "execution_count": null,
   "id": "a9052ae2-cb9c-42b6-99b2-9a32bb1567aa",
   "metadata": {},
   "outputs": [],
   "source": []
  },
  {
   "cell_type": "code",
   "execution_count": null,
   "id": "967e62bc-eaf3-4afc-a92e-17a6c3bf746c",
   "metadata": {},
   "outputs": [],
   "source": [
    "### filter()와 같이 쓰기"
   ]
  },
  {
   "cell_type": "code",
   "execution_count": 288,
   "id": "8f72a43d-d825-486c-94b5-392c2ad498f6",
   "metadata": {},
   "outputs": [
    {
     "data": {
      "text/plain": [
       "[3, 9, 9]"
      ]
     },
     "execution_count": 288,
     "metadata": {},
     "output_type": "execute_result"
    }
   ],
   "source": [
    "a = [3, 2, 8, 22, 10, 7, 0, 11, 9, 9]\n",
    "list(filter(lambda x: x % 3 == 0 and 0 < x < 10, a))\n",
    "\n",
    "# 속도, 가독성 모두 List Comprehension이 더 좋음"
   ]
  },
  {
   "cell_type": "code",
   "execution_count": null,
   "id": "19af4870-b8fa-48d6-9242-395ba1aef426",
   "metadata": {},
   "outputs": [],
   "source": []
  },
  {
   "cell_type": "code",
   "execution_count": null,
   "id": "f1255e4d-5a02-4757-a113-2b8fe3bb18d8",
   "metadata": {},
   "outputs": [],
   "source": []
  },
  {
   "cell_type": "code",
   "execution_count": 289,
   "id": "19303166-d87e-479a-bef1-b02f7cfce9eb",
   "metadata": {},
   "outputs": [],
   "source": [
    "##### 객체지향 맛보기"
   ]
  },
  {
   "cell_type": "code",
   "execution_count": 290,
   "id": "b5d7782f-14a4-4367-ad31-50b77b709a5d",
   "metadata": {},
   "outputs": [],
   "source": [
    "# student - name, age, address 등의 자료가 있다고 하자\n",
    "\n",
    "student[name, age, address]\n",
    "name = \"JS\"\n",
    "age = 26\n",
    "address = \"서울\"\n",
    "\n",
    "# 이런 자료가 100개 있다면?   갑자기 address를 빼라고 한다면?\n",
    "# 관리, 수정 매우 골치아플테니 객체(object)로 관리하자!"
   ]
  }
 ],
 "metadata": {
  "kernelspec": {
   "display_name": "Python 3 (ipykernel)",
   "language": "python",
   "name": "python3"
  },
  "language_info": {
   "codemirror_mode": {
    "name": "ipython",
    "version": 3
   },
   "file_extension": ".py",
   "mimetype": "text/x-python",
   "name": "python",
   "nbconvert_exporter": "python",
   "pygments_lexer": "ipython3",
   "version": "3.9.13"
  }
 },
 "nbformat": 4,
 "nbformat_minor": 5
}
