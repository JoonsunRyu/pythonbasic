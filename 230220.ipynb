{
 "cells": [
  {
   "cell_type": "code",
   "execution_count": 1,
   "id": "07328998-1fb3-4a11-81ed-7fa56cc707f6",
   "metadata": {},
   "outputs": [],
   "source": [
    "##### 깊은 복사 이어서"
   ]
  },
  {
   "cell_type": "code",
   "execution_count": null,
   "id": "a6a0795c-bc5b-44b8-a7c0-9853765dbabd",
   "metadata": {},
   "outputs": [],
   "source": [
    "# List"
   ]
  },
  {
   "cell_type": "code",
   "execution_count": 3,
   "id": "aa03762e-d841-4090-8532-b3138e35e92b",
   "metadata": {},
   "outputs": [
    {
     "data": {
      "text/plain": [
       "False"
      ]
     },
     "execution_count": 3,
     "metadata": {},
     "output_type": "execute_result"
    }
   ],
   "source": [
    "l1 = [1, 2, [3, 4]]\n",
    "l2 = l1.copy()  # copy()\n",
    "\n",
    "l1 is l2"
   ]
  },
  {
   "cell_type": "code",
   "execution_count": 5,
   "id": "d0e6cb75-398e-4057-ad8d-230806d1d62a",
   "metadata": {},
   "outputs": [
    {
     "data": {
      "text/plain": [
       "True"
      ]
     },
     "execution_count": 5,
     "metadata": {},
     "output_type": "execute_result"
    }
   ],
   "source": [
    "l1[-1] is l2[-1]"
   ]
  },
  {
   "cell_type": "code",
   "execution_count": 4,
   "id": "dc972678-3bb2-4442-9d70-608ba5fd7780",
   "metadata": {},
   "outputs": [
    {
     "data": {
      "text/plain": [
       "False"
      ]
     },
     "execution_count": 4,
     "metadata": {},
     "output_type": "execute_result"
    }
   ],
   "source": [
    "l3 = [5, 6]\n",
    "l4 = l3[:]  # 슬라이싱\n",
    "\n",
    "l3 is l4"
   ]
  },
  {
   "cell_type": "code",
   "execution_count": null,
   "id": "b8ad85cf-fc08-4c1b-9a56-0a01e74e7ad5",
   "metadata": {},
   "outputs": [],
   "source": []
  },
  {
   "cell_type": "code",
   "execution_count": 6,
   "id": "94c3fc4b-4f3a-4ac2-a7bf-6911b033544b",
   "metadata": {},
   "outputs": [],
   "source": [
    "# Tuple"
   ]
  },
  {
   "cell_type": "code",
   "execution_count": 7,
   "id": "ab3c5024-f958-4d02-9ca5-07f2b2df9047",
   "metadata": {},
   "outputs": [
    {
     "data": {
      "text/plain": [
       "False"
      ]
     },
     "execution_count": 7,
     "metadata": {},
     "output_type": "execute_result"
    }
   ],
   "source": [
    "l5 = [7, 8, (9, 10)]\n",
    "l6 = l5.copy()\n",
    "\n",
    "l5 is l6"
   ]
  },
  {
   "cell_type": "code",
   "execution_count": 8,
   "id": "0e13678d-ac22-410c-af11-7df7830f441c",
   "metadata": {},
   "outputs": [
    {
     "data": {
      "text/plain": [
       "True"
      ]
     },
     "execution_count": 8,
     "metadata": {},
     "output_type": "execute_result"
    }
   ],
   "source": [
    "l5[-1] is l6[-1]"
   ]
  },
  {
   "cell_type": "code",
   "execution_count": null,
   "id": "16701222-9f8a-4a08-811e-d5579a1f6d9b",
   "metadata": {},
   "outputs": [],
   "source": []
  },
  {
   "cell_type": "code",
   "execution_count": null,
   "id": "8d71828d-5dd2-4c71-a8c6-245a381db52b",
   "metadata": {},
   "outputs": [],
   "source": []
  },
  {
   "cell_type": "code",
   "execution_count": 9,
   "id": "516e106c-d82f-4948-8230-7acecef24cd3",
   "metadata": {},
   "outputs": [],
   "source": [
    "##### List comprehension"
   ]
  },
  {
   "cell_type": "code",
   "execution_count": null,
   "id": "69845ea0-f640-41d3-8336-887404af8c4e",
   "metadata": {},
   "outputs": [],
   "source": [
    "# list_variable = [expression for 변수명 in iterable if 조건식]"
   ]
  },
  {
   "cell_type": "code",
   "execution_count": 13,
   "id": "2793a67e-e72e-452f-9ce9-29206b59ea83",
   "metadata": {},
   "outputs": [
    {
     "name": "stdout",
     "output_type": "stream",
     "text": [
      "[0, 3, 6, 9]\n"
     ]
    }
   ],
   "source": [
    "list_p = [i for i in range(10) if i % 3 == 0]\n",
    "print(list_p)"
   ]
  },
  {
   "cell_type": "code",
   "execution_count": 14,
   "id": "73a1ab65-a2fa-4215-93fe-88f44c006540",
   "metadata": {},
   "outputs": [],
   "source": [
    "# [expression for 변수명1 in iterable for 변수명2 in iterable]\n",
    "\n",
    "# 오른쪽에서 왼쪽으로 수행\n",
    "# [(a, b) for a in range(1, 4) for b in range(3, 6)]\n",
    "# 출력 순서: (1, 3), (1, 4), (1, 5), (2, 3), (2, 4), (2, 5), (3, 3), (3, 4), (3, 5)"
   ]
  },
  {
   "cell_type": "code",
   "execution_count": 15,
   "id": "05dc4e52-692e-48ba-9a7f-937eeef5d876",
   "metadata": {},
   "outputs": [],
   "source": [
    "# 줄바꿈도 가능  -> 가독성을 위해 (for문이 2개 이상일 경우)\n",
    "# [expression for 변수 in iterable\n",
    "#             for 변수 in iterable\n",
    "#             for 변수 in iterable\n",
    "#             for 변수 in iterable]"
   ]
  },
  {
   "cell_type": "code",
   "execution_count": null,
   "id": "ec49917c-4f67-4042-83df-0029416d6129",
   "metadata": {},
   "outputs": [],
   "source": []
  },
  {
   "cell_type": "code",
   "execution_count": null,
   "id": "bc5c996d-34b8-4932-92c7-ba8ff1cf518b",
   "metadata": {},
   "outputs": [],
   "source": []
  },
  {
   "cell_type": "code",
   "execution_count": 16,
   "id": "fa3b56a6-8a61-4210-92a2-0a47431a9a46",
   "metadata": {},
   "outputs": [],
   "source": [
    "##### 중첩 리스트"
   ]
  },
  {
   "cell_type": "code",
   "execution_count": 17,
   "id": "1d8e29b4-6796-4781-865e-8c4c44982448",
   "metadata": {},
   "outputs": [],
   "source": [
    "# 리스트는 수학의 배열과 다름. 적절하지도 않음\n",
    "# 중첩되었다고 해서 차원으로 이해하면 안 됨!"
   ]
  },
  {
   "cell_type": "code",
   "execution_count": 19,
   "id": "c2822046-1399-44a7-bf62-cf749976ce64",
   "metadata": {},
   "outputs": [
    {
     "name": "stdout",
     "output_type": "stream",
     "text": [
      "1\n",
      "2\n",
      "3\n",
      "4\n",
      "5\n",
      "3\n",
      "4\n"
     ]
    }
   ],
   "source": [
    "easy_list = [[1, 2, 3, 4, 5], [3, 4]]\n",
    "for item in easy_list:\n",
    "    for i in item:\n",
    "        print(i)"
   ]
  },
  {
   "cell_type": "code",
   "execution_count": 22,
   "id": "f82a5fc6-1bd0-4be7-b4f8-f988ed6d3eb2",
   "metadata": {},
   "outputs": [
    {
     "data": {
      "text/plain": [
       "[1, 2, 3, 4, 5]"
      ]
     },
     "execution_count": 22,
     "metadata": {},
     "output_type": "execute_result"
    }
   ],
   "source": [
    "easy_list[0]"
   ]
  },
  {
   "cell_type": "code",
   "execution_count": 23,
   "id": "aeb6a263-f784-4fad-87cb-37b2c9380117",
   "metadata": {},
   "outputs": [
    {
     "name": "stdout",
     "output_type": "stream",
     "text": [
      "1\n",
      "2\n",
      "3\n",
      "4\n",
      "5\n",
      "3\n",
      "4\n"
     ]
    }
   ],
   "source": [
    "easy_list = [[1, 2, 3, 4, 5], [3, 4]]\n",
    "i = 0  # [1, 2, 3, 4, 5] [3, 4]에 대한 while문\n",
    "\n",
    "while i < len(easy_list):  # i는 [1, 2, 3, 4, 5], [3, 4] 2개 리스트에 대하여 반복\n",
    "    j = 0  # 하위 리스트의 각 원소(1, 2, 3, 4, 5, 3, 4)에 대하여 반복\n",
    "    while j < len(easy_list[i]):\n",
    "        print(easy_list[i][j])\n",
    "        j += 1\n",
    "    i += 1"
   ]
  },
  {
   "cell_type": "code",
   "execution_count": null,
   "id": "f10ffb2e-149d-4733-9763-a3b46b7a54d2",
   "metadata": {},
   "outputs": [],
   "source": []
  },
  {
   "cell_type": "code",
   "execution_count": null,
   "id": "6a689258-902b-4227-8c13-1fdbabe21be4",
   "metadata": {},
   "outputs": [],
   "source": []
  },
  {
   "cell_type": "code",
   "execution_count": 24,
   "id": "d2ed7d3e-5ca6-4c34-ad9d-4a0b0e5dd06a",
   "metadata": {},
   "outputs": [],
   "source": [
    "##### Tuple용 Comprehension - Generator comprehension"
   ]
  },
  {
   "cell_type": "code",
   "execution_count": 2,
   "id": "37a98fa5-47f0-4c83-a97e-e59129693a02",
   "metadata": {},
   "outputs": [],
   "source": [
    "gen = (i for i in range(10))\n",
    "\n",
    "# 리스트와 유사. 필요할 때만 하나씩 사용(리스트와의 차이점)"
   ]
  },
  {
   "cell_type": "code",
   "execution_count": 3,
   "id": "a75d3535-4f9d-425b-9a24-5a226cf44df6",
   "metadata": {},
   "outputs": [
    {
     "data": {
      "text/plain": [
       "generator"
      ]
     },
     "execution_count": 3,
     "metadata": {},
     "output_type": "execute_result"
    }
   ],
   "source": [
    "type(gen)"
   ]
  },
  {
   "cell_type": "code",
   "execution_count": 27,
   "id": "c75c536d-1ee5-47a0-bb2a-70642eeaf6a5",
   "metadata": {},
   "outputs": [
    {
     "data": {
      "text/plain": [
       "(0, 1, 2, 3, 4, 5, 6, 7, 8, 9)"
      ]
     },
     "execution_count": 27,
     "metadata": {},
     "output_type": "execute_result"
    }
   ],
   "source": [
    "tuple(gen)"
   ]
  },
  {
   "cell_type": "code",
   "execution_count": 28,
   "id": "61ca8fc0-732f-4384-91ca-5e21775a1579",
   "metadata": {},
   "outputs": [
    {
     "data": {
      "text/plain": [
       "tuple"
      ]
     },
     "execution_count": 28,
     "metadata": {},
     "output_type": "execute_result"
    }
   ],
   "source": [
    "tup = tuple(i for i in range(10))\n",
    "type(tup)"
   ]
  },
  {
   "cell_type": "code",
   "execution_count": null,
   "id": "3cd942b2-642d-4d79-aee4-9447d290841b",
   "metadata": {},
   "outputs": [],
   "source": []
  },
  {
   "cell_type": "code",
   "execution_count": 36,
   "id": "e08007dd-6690-4897-8083-115089cbcf30",
   "metadata": {},
   "outputs": [
    {
     "name": "stdout",
     "output_type": "stream",
     "text": [
      "['alpha', 'brabo', 'delta', 'hotel', 'india']\n"
     ]
    }
   ],
   "source": [
    "# Q1.\n",
    "a = [\"alpha\", \"brabo\", \"charlie\", \"delta\", \"echo\", \"foxtrot\", \"golf\", \"hotel\", \"india\"]\n",
    "b = [a[i] for i in range(len(a)) if len(a[i]) == 5]\n",
    "print(b)"
   ]
  },
  {
   "cell_type": "code",
   "execution_count": 38,
   "id": "75088ebf-fe28-44f8-bee7-2868efc6494e",
   "metadata": {},
   "outputs": [
    {
     "name": "stdout",
     "output_type": "stream",
     "text": [
      "['alpha', 'brabo', 'delta', 'hotel', 'india']\n"
     ]
    }
   ],
   "source": [
    "# Q1 다른 풀이\n",
    "a = [\"alpha\", \"brabo\", \"charlie\", \"delta\", \"echo\", \"foxtrot\", \"golf\", \"hotel\", \"india\"]\n",
    "b = [s for s in a if len(s) == 5]\n",
    "print(b)"
   ]
  },
  {
   "cell_type": "code",
   "execution_count": null,
   "id": "b55f7530-c541-4820-84a4-7a28233d9848",
   "metadata": {},
   "outputs": [],
   "source": []
  },
  {
   "cell_type": "code",
   "execution_count": 202,
   "id": "2484a255-9483-4d98-a9e5-f8ad6b11707a",
   "metadata": {},
   "outputs": [
    {
     "name": "stdin",
     "output_type": "stream",
     "text": [
      "정수 두 개를 입력하세요: 4 11\n"
     ]
    },
    {
     "name": "stdout",
     "output_type": "stream",
     "text": [
      "두번째 값의 범위는 10 ~ 30입니다.\n"
     ]
    },
    {
     "ename": "KeyboardInterrupt",
     "evalue": "Interrupted by user",
     "output_type": "error",
     "traceback": [
      "\u001b[1;31m---------------------------------------------------------------------------\u001b[0m",
      "\u001b[1;31mKeyboardInterrupt\u001b[0m                         Traceback (most recent call last)",
      "\u001b[1;32m~\\AppData\\Local\\Temp\\ipykernel_7524\\3449425643.py\u001b[0m in \u001b[0;36m<module>\u001b[1;34m\u001b[0m\n\u001b[0;32m      1\u001b[0m \u001b[1;31m# Q2.\u001b[0m\u001b[1;33m\u001b[0m\u001b[1;33m\u001b[0m\u001b[0m\n\u001b[0;32m      2\u001b[0m \u001b[1;32mwhile\u001b[0m \u001b[1;32mTrue\u001b[0m\u001b[1;33m:\u001b[0m\u001b[1;33m\u001b[0m\u001b[1;33m\u001b[0m\u001b[0m\n\u001b[1;32m----> 3\u001b[1;33m     \u001b[0ma\u001b[0m \u001b[1;33m=\u001b[0m \u001b[0minput\u001b[0m\u001b[1;33m(\u001b[0m\u001b[1;34m\"정수 두 개를 입력하세요:\"\u001b[0m\u001b[1;33m)\u001b[0m\u001b[1;33m.\u001b[0m\u001b[0msplit\u001b[0m\u001b[1;33m(\u001b[0m\u001b[1;34m\" \"\u001b[0m\u001b[1;33m)\u001b[0m\u001b[1;33m\u001b[0m\u001b[1;33m\u001b[0m\u001b[0m\n\u001b[0m\u001b[0;32m      4\u001b[0m     \u001b[0ma\u001b[0m \u001b[1;33m=\u001b[0m \u001b[0mlist\u001b[0m\u001b[1;33m(\u001b[0m\u001b[0mmap\u001b[0m\u001b[1;33m(\u001b[0m\u001b[0mint\u001b[0m\u001b[1;33m,\u001b[0m \u001b[0ma\u001b[0m\u001b[1;33m)\u001b[0m\u001b[1;33m)\u001b[0m\u001b[1;33m\u001b[0m\u001b[1;33m\u001b[0m\u001b[0m\n\u001b[0;32m      5\u001b[0m     \u001b[0mi\u001b[0m \u001b[1;33m=\u001b[0m \u001b[1;36m0\u001b[0m\u001b[1;33m\u001b[0m\u001b[1;33m\u001b[0m\u001b[0m\n",
      "\u001b[1;32m~\\anaconda3\\lib\\site-packages\\ipykernel\\kernelbase.py\u001b[0m in \u001b[0;36mraw_input\u001b[1;34m(self, prompt)\u001b[0m\n\u001b[0;32m   1175\u001b[0m                 \u001b[1;34m\"raw_input was called, but this frontend does not support input requests.\"\u001b[0m\u001b[1;33m\u001b[0m\u001b[1;33m\u001b[0m\u001b[0m\n\u001b[0;32m   1176\u001b[0m             )\n\u001b[1;32m-> 1177\u001b[1;33m         return self._input_request(\n\u001b[0m\u001b[0;32m   1178\u001b[0m             \u001b[0mstr\u001b[0m\u001b[1;33m(\u001b[0m\u001b[0mprompt\u001b[0m\u001b[1;33m)\u001b[0m\u001b[1;33m,\u001b[0m\u001b[1;33m\u001b[0m\u001b[1;33m\u001b[0m\u001b[0m\n\u001b[0;32m   1179\u001b[0m             \u001b[0mself\u001b[0m\u001b[1;33m.\u001b[0m\u001b[0m_parent_ident\u001b[0m\u001b[1;33m[\u001b[0m\u001b[1;34m\"shell\"\u001b[0m\u001b[1;33m]\u001b[0m\u001b[1;33m,\u001b[0m\u001b[1;33m\u001b[0m\u001b[1;33m\u001b[0m\u001b[0m\n",
      "\u001b[1;32m~\\anaconda3\\lib\\site-packages\\ipykernel\\kernelbase.py\u001b[0m in \u001b[0;36m_input_request\u001b[1;34m(self, prompt, ident, parent, password)\u001b[0m\n\u001b[0;32m   1217\u001b[0m             \u001b[1;32mexcept\u001b[0m \u001b[0mKeyboardInterrupt\u001b[0m\u001b[1;33m:\u001b[0m\u001b[1;33m\u001b[0m\u001b[1;33m\u001b[0m\u001b[0m\n\u001b[0;32m   1218\u001b[0m                 \u001b[1;31m# re-raise KeyboardInterrupt, to truncate traceback\u001b[0m\u001b[1;33m\u001b[0m\u001b[1;33m\u001b[0m\u001b[0m\n\u001b[1;32m-> 1219\u001b[1;33m                 \u001b[1;32mraise\u001b[0m \u001b[0mKeyboardInterrupt\u001b[0m\u001b[1;33m(\u001b[0m\u001b[1;34m\"Interrupted by user\"\u001b[0m\u001b[1;33m)\u001b[0m \u001b[1;32mfrom\u001b[0m \u001b[1;32mNone\u001b[0m\u001b[1;33m\u001b[0m\u001b[1;33m\u001b[0m\u001b[0m\n\u001b[0m\u001b[0;32m   1220\u001b[0m             \u001b[1;32mexcept\u001b[0m \u001b[0mException\u001b[0m\u001b[1;33m:\u001b[0m\u001b[1;33m\u001b[0m\u001b[1;33m\u001b[0m\u001b[0m\n\u001b[0;32m   1221\u001b[0m                 \u001b[0mself\u001b[0m\u001b[1;33m.\u001b[0m\u001b[0mlog\u001b[0m\u001b[1;33m.\u001b[0m\u001b[0mwarning\u001b[0m\u001b[1;33m(\u001b[0m\u001b[1;34m\"Invalid Message:\"\u001b[0m\u001b[1;33m,\u001b[0m \u001b[0mexc_info\u001b[0m\u001b[1;33m=\u001b[0m\u001b[1;32mTrue\u001b[0m\u001b[1;33m)\u001b[0m\u001b[1;33m\u001b[0m\u001b[1;33m\u001b[0m\u001b[0m\n",
      "\u001b[1;31mKeyboardInterrupt\u001b[0m: Interrupted by user"
     ]
    }
   ],
   "source": [
    "# Q2. - 망했...\n",
    "while True:\n",
    "    a = input(\"정수 두 개를 입력하세요:\").split(\" \")\n",
    "    a = list(map(int, a))\n",
    "    i = 0\n",
    "    j = 0\n",
    "    if a[i] < 1 or a[i] > 20:\n",
    "        print(\"첫번째 값의 범위는 1 ~ 20입니다.\")\n",
    "        i += 1\n",
    "        continue\n",
    "    elif a[j] < 10 or a[j] > 30:\n",
    "        print(\"두번째 값의 범위는 10 ~ 30입니다.\")\n",
    "        j += 1\n",
    "        continue\n",
    "    elif a[i] > a[j]:\n",
    "        print(\"첫 번째 입력 값은 두 번째 입력 값보다 작게 입력하세요.\")\n",
    "        i += 1\n",
    "        j += 1\n",
    "        break\n",
    "\n",
    "print(a)\n"
   ]
  },
  {
   "cell_type": "code",
   "execution_count": 80,
   "id": "809f9024-da47-4e55-b770-cae69874c417",
   "metadata": {},
   "outputs": [
    {
     "name": "stdin",
     "output_type": "stream",
     "text": [
      "정수 두 개 입력하세요:  21 11\n"
     ]
    },
    {
     "name": "stdout",
     "output_type": "stream",
     "text": [
      "첫번째 값의 범위는 1 ~ 20입니다.\n"
     ]
    },
    {
     "name": "stdin",
     "output_type": "stream",
     "text": [
      "정수 두 개 입력하세요:  20 31\n"
     ]
    },
    {
     "name": "stdout",
     "output_type": "stream",
     "text": [
      "두번째 값의 범위는 10 ~ 30입니다.\n"
     ]
    },
    {
     "name": "stdin",
     "output_type": "stream",
     "text": [
      "정수 두 개 입력하세요:  11 10\n"
     ]
    },
    {
     "name": "stdout",
     "output_type": "stream",
     "text": [
      "첫 번째 입력 값은 두 번째 입력 값보다 작게 입력하세요.\n"
     ]
    },
    {
     "name": "stdin",
     "output_type": "stream",
     "text": [
      "정수 두 개 입력하세요:  4 11\n"
     ]
    },
    {
     "name": "stdout",
     "output_type": "stream",
     "text": [
      "[16, 64, 128, 256, 512, 2048]\n"
     ]
    }
   ],
   "source": [
    "# Q2 풀이\n",
    "while True:\n",
    "    num_1st, num_2nd = map(int, input(\"정수 두 개 입력하세요: \").split())\n",
    "    \n",
    "    if num_1st < 1 or num_1st > 20:\n",
    "        print(\"첫번째 값의 범위는 1 ~ 20입니다.\")\n",
    "    elif num_2nd < 10 or num_2nd > 30:\n",
    "        print(\"두번째 값의 범위는 10 ~ 30입니다.\")\n",
    "    elif num_1st >= num_2nd:\n",
    "        print(\"첫 번째 입력 값은 두 번째 입력 값보다 작게 입력하세요.\")\n",
    "    else:\n",
    "        power_of_2 = [2 ** i for i in range (num_1st, num_2nd + 1)]\n",
    "        del power_of_2 [1]\n",
    "        del power_of_2[len(power_of_2) - 2]\n",
    "        print(power_of_2)\n",
    "        break\n",
    "    continue  # 없어도 됨"
   ]
  },
  {
   "cell_type": "code",
   "execution_count": null,
   "id": "8bcd8cd8-bdb7-44d5-8425-b9ace4ee2d59",
   "metadata": {},
   "outputs": [],
   "source": []
  },
  {
   "cell_type": "code",
   "execution_count": 210,
   "id": "87e39bc6-97da-4470-87f3-04ef68a5c15e",
   "metadata": {},
   "outputs": [
    {
     "name": "stdout",
     "output_type": "stream",
     "text": [
      "2부터 입력하신 수까지의 모든 소수를 찾는 프로그램입니다.\n"
     ]
    },
    {
     "name": "stdin",
     "output_type": "stream",
     "text": [
      "찾는 범위를 입력하세요 : 23\n"
     ]
    },
    {
     "name": "stdout",
     "output_type": "stream",
     "text": [
      "2 3 5 7 11 13 17 \n",
      "19 23 "
     ]
    }
   ],
   "source": [
    "# Q3. - for문\n",
    "print(\"2부터 입력하신 수까지의 모든 소수를 찾는 프로그램입니다.\")\n",
    "a = int(input(\"찾는 범위를 입력하세요 :\"))\n",
    "len = 0\n",
    "\n",
    "for i in range(2, a + 1):\n",
    "    for j in range(2, i+1):\n",
    "        if i%j==0 and i != j:\n",
    "            break\n",
    "        elif i % j == 0 and i == j:\n",
    "            print(i, end = \" \")\n",
    "            len += 1\n",
    "            if len == 7:\n",
    "                print()\n"
   ]
  },
  {
   "cell_type": "code",
   "execution_count": 106,
   "id": "4684fed9-7e0d-4808-8189-7ac610d21859",
   "metadata": {},
   "outputs": [
    {
     "name": "stdout",
     "output_type": "stream",
     "text": [
      "2부터 입력하신 수까지의 모든 소수를 찾는 프로그램입니다.\n"
     ]
    },
    {
     "name": "stdin",
     "output_type": "stream",
     "text": [
      "찾는 범위를 입력하세요 : 100\n"
     ]
    },
    {
     "name": "stdout",
     "output_type": "stream",
     "text": [
      "2 3 5 7 11 13 17 \n",
      "19 23 29 31 37 41 43 \n",
      "47 53 59 61 67 71 73 \n",
      "79 83 89 97 "
     ]
    }
   ],
   "source": [
    "# Q3 풀이 - while문\n",
    "print(\"2부터 입력하신 수까지의 모든 소수를 찾는 프로그램입니다.\")\n",
    "inData = int(input(\"찾는 범위를 입력하세요 :\"))\n",
    "\n",
    "i = 2\n",
    "line = 0\n",
    "\n",
    "while i <= inData:\n",
    "    j = 2\n",
    "    while j <= i:\n",
    "        if i % j == 0:\n",
    "            break\n",
    "        j += 1\n",
    "    if i == j:\n",
    "        print(i, end = \" \")\n",
    "        line = line + 1\n",
    "        if line == 7:\n",
    "            line = 0\n",
    "            print()\n",
    "    i += 1"
   ]
  },
  {
   "cell_type": "code",
   "execution_count": null,
   "id": "9ae4cbdf-1165-42af-a97c-49535dd27629",
   "metadata": {},
   "outputs": [],
   "source": []
  },
  {
   "cell_type": "code",
   "execution_count": null,
   "id": "45161e96-15a9-4199-9f76-885609507e2a",
   "metadata": {},
   "outputs": [],
   "source": []
  },
  {
   "cell_type": "code",
   "execution_count": 115,
   "id": "b562b61e-bf05-4d63-96e4-c343955408cd",
   "metadata": {},
   "outputs": [],
   "source": [
    "##### random 라이브러리"
   ]
  },
  {
   "cell_type": "code",
   "execution_count": null,
   "id": "8b7eb97a-3d17-4ddb-b625-a6caa1f6b73c",
   "metadata": {},
   "outputs": [],
   "source": [
    "# random은 표준 라이브러리 (PSL)"
   ]
  },
  {
   "cell_type": "code",
   "execution_count": 125,
   "id": "5fb6c540-27cf-4b52-92dd-291f8d9e9fed",
   "metadata": {},
   "outputs": [
    {
     "name": "stdout",
     "output_type": "stream",
     "text": [
      "[1, 3, 7, 1, 2, 6, 1, 2, 5, 6]\n"
     ]
    }
   ],
   "source": [
    "import random\n",
    "random_list = [random.randint(1, 7) for _ in range(10)]\n",
    "print(random_list)"
   ]
  },
  {
   "cell_type": "code",
   "execution_count": null,
   "id": "1ad1dbbe-6867-49ff-b14e-12a9da37111a",
   "metadata": {},
   "outputs": [],
   "source": []
  },
  {
   "cell_type": "code",
   "execution_count": 146,
   "id": "dabffc23-2446-4927-ab36-3d04e2d0c4b0",
   "metadata": {},
   "outputs": [
    {
     "name": "stdin",
     "output_type": "stream",
     "text": [
      "숫자 입력:  50\n"
     ]
    },
    {
     "name": "stdout",
     "output_type": "stream",
     "text": [
      "그보다 작습니다.\n"
     ]
    },
    {
     "name": "stdin",
     "output_type": "stream",
     "text": [
      "숫자 입력:  25\n"
     ]
    },
    {
     "name": "stdout",
     "output_type": "stream",
     "text": [
      "그보다 작습니다.\n"
     ]
    },
    {
     "name": "stdin",
     "output_type": "stream",
     "text": [
      "숫자 입력:  20\n"
     ]
    },
    {
     "name": "stdout",
     "output_type": "stream",
     "text": [
      "그보다 작습니다.\n"
     ]
    },
    {
     "name": "stdin",
     "output_type": "stream",
     "text": [
      "숫자 입력:  16\n"
     ]
    },
    {
     "name": "stdout",
     "output_type": "stream",
     "text": [
      "맞췄습니다!\n",
      "bye\n"
     ]
    }
   ],
   "source": [
    "# Q1.\n",
    "import random\n",
    "a = random.randint(1, 100)\n",
    "\n",
    "while True:\n",
    "    b = int(input(\"숫자 입력: \"))\n",
    "    if b < 1 or b > 100:\n",
    "        print(\"다시 입력하세요\")\n",
    "        continue\n",
    "    elif b > a:\n",
    "        print(\"그보다 작습니다.\")\n",
    "        continue\n",
    "    elif b < a:\n",
    "        print(\"그보다 큽니다.\")\n",
    "        continue\n",
    "    else:\n",
    "        print(\"맞췄습니다!\")\n",
    "    break\n",
    "\n",
    "print(\"bye\")\n",
    "\n",
    "# 구현 실패항목\n",
    "# 몇 번만에 맞췄는지?\n",
    "# 입력한 숫자 저장?"
   ]
  },
  {
   "cell_type": "code",
   "execution_count": 132,
   "id": "77ff03ca-ec53-473a-a131-7bc0f4251227",
   "metadata": {},
   "outputs": [
    {
     "name": "stdout",
     "output_type": "stream",
     "text": [
      "<map object at 0x00000275717AF7F0>\n"
     ]
    }
   ],
   "source": [
    "import random\n",
    "\n",
    "target_number = random.randint(1, 100)\n",
    "input_values = []\n",
    "\n",
    "while True:\n",
    "    input_values.append(input(\"1~100 중 숫자를 맞춰보세요:\"))\n",
    "    _ = int(input_values[-1])\n",
    "    if _ < 0 or _ > 100:\n",
    "        print(\"1~100 사이의 숫자를 입력하세요.\")\n",
    "    elif _ < target_number:"
   ]
  },
  {
   "cell_type": "code",
   "execution_count": null,
   "id": "b1208829-5160-419a-8aa5-05b128998006",
   "metadata": {},
   "outputs": [],
   "source": []
  },
  {
   "cell_type": "code",
   "execution_count": null,
   "id": "5e05cb8b-af85-4411-a686-b26cd60b5e38",
   "metadata": {},
   "outputs": [],
   "source": [
    "# .join() - 특정 문자열 삽입"
   ]
  },
  {
   "cell_type": "code",
   "execution_count": 147,
   "id": "e3ec85f9-7d01-4938-b91d-26aca6da20ac",
   "metadata": {},
   "outputs": [],
   "source": [
    "a = list(\"안녕하세요\")"
   ]
  },
  {
   "cell_type": "code",
   "execution_count": 148,
   "id": "b63ba037-192e-41f3-bd95-c82d4d2a9915",
   "metadata": {},
   "outputs": [
    {
     "data": {
      "text/plain": [
       "'안,녕,하,세,요'"
      ]
     },
     "execution_count": 148,
     "metadata": {},
     "output_type": "execute_result"
    }
   ],
   "source": [
    "\",\".join(a)"
   ]
  },
  {
   "cell_type": "code",
   "execution_count": null,
   "id": "dd28b9d5-2469-49fe-9adc-7bcc6ddb8492",
   "metadata": {},
   "outputs": [],
   "source": []
  },
  {
   "cell_type": "code",
   "execution_count": null,
   "id": "74712ffe-e60e-4d2e-96a7-ef2da8c7ae2a",
   "metadata": {},
   "outputs": [],
   "source": []
  },
  {
   "cell_type": "code",
   "execution_count": 149,
   "id": "eccaaa2b-f70c-4019-8b9c-64e6a0a0181f",
   "metadata": {},
   "outputs": [],
   "source": [
    "##### Set 자료형"
   ]
  },
  {
   "cell_type": "code",
   "execution_count": 150,
   "id": "5728accb-ada1-4906-b45f-6146f79b0d00",
   "metadata": {},
   "outputs": [],
   "source": [
    "# 비(非) 시퀀스형 자료. = 순서 X\n",
    "# set_variable = {키1, 키2, 키3, ...}\n",
    "# 키(Key)의 특성은 딕셔너리와 비슷함\n",
    "# set_variable = {expression for 변수명 in iterable if 조건식}"
   ]
  },
  {
   "cell_type": "code",
   "execution_count": 151,
   "id": "e918c8a9-9f63-4fd2-bf30-ca582dc9da9a",
   "metadata": {},
   "outputs": [
    {
     "name": "stdout",
     "output_type": "stream",
     "text": [
      "set()\n"
     ]
    }
   ],
   "source": [
    "print(set())\n",
    "# 빈 set 만드는 방법. {}로 하면 안 됨!!!"
   ]
  },
  {
   "cell_type": "code",
   "execution_count": null,
   "id": "faf85dc4-b5df-4bd7-8905-6bdcf868e855",
   "metadata": {},
   "outputs": [],
   "source": [
    "# 추가 - add()"
   ]
  },
  {
   "cell_type": "code",
   "execution_count": 152,
   "id": "7e1fd4d5-3d62-4ade-9ae7-ef4c4a0f7704",
   "metadata": {},
   "outputs": [
    {
     "name": "stdout",
     "output_type": "stream",
     "text": [
      "set() <class 'set'>\n"
     ]
    }
   ],
   "source": [
    "set_variable = set()\n",
    "print(set_variable, type(set_variable))"
   ]
  },
  {
   "cell_type": "code",
   "execution_count": 153,
   "id": "ea752399-ab13-4b12-9ac9-08d68f8c3fcb",
   "metadata": {},
   "outputs": [
    {
     "name": "stdout",
     "output_type": "stream",
     "text": [
      "{1}\n"
     ]
    }
   ],
   "source": [
    "[set_variable.add(1) for _ in range(5)]  # 정수 1을 set_variable에 5번 삽입\n",
    "print(set_variable)  # 중복 값 없이 출력됨\n",
    "\n",
    "# 중복값 제거에 효율적. 순서가 보장되지 않음. (그렇다고 순서가 섞이지는 않음)"
   ]
  },
  {
   "cell_type": "code",
   "execution_count": null,
   "id": "2bee7f16-4f28-4ca8-b838-4f4101673ea8",
   "metadata": {},
   "outputs": [],
   "source": []
  },
  {
   "cell_type": "code",
   "execution_count": null,
   "id": "c6ca9d2a-89fa-472c-9495-0b50e3bf19d9",
   "metadata": {},
   "outputs": [],
   "source": [
    "# 삭제 - remove()"
   ]
  },
  {
   "cell_type": "code",
   "execution_count": 156,
   "id": "8f4895c4-8ab0-46bc-b6e2-8c0f8b35d4f2",
   "metadata": {},
   "outputs": [
    {
     "name": "stdout",
     "output_type": "stream",
     "text": [
      "{1, 2, 3, 4, 5, 6, 7, 8, 9}\n",
      "{1, 2, 3, 4, 5, 6, 7, 8}\n"
     ]
    }
   ],
   "source": [
    "set_variable = {1, 2, 3, 4, 5, 6, 7, 8, 9}\n",
    "print(set_variable)\n",
    "set_variable.remove(9)\n",
    "print(set_variable)"
   ]
  },
  {
   "cell_type": "code",
   "execution_count": 157,
   "id": "108c2716-8e6c-43f9-9610-4db659452b77",
   "metadata": {},
   "outputs": [
    {
     "ename": "KeyError",
     "evalue": "'없는 값'",
     "output_type": "error",
     "traceback": [
      "\u001b[1;31m---------------------------------------------------------------------------\u001b[0m",
      "\u001b[1;31mKeyError\u001b[0m                                  Traceback (most recent call last)",
      "\u001b[1;32m~\\AppData\\Local\\Temp\\ipykernel_7524\\3923978077.py\u001b[0m in \u001b[0;36m<module>\u001b[1;34m\u001b[0m\n\u001b[1;32m----> 1\u001b[1;33m \u001b[0mset_variable\u001b[0m\u001b[1;33m.\u001b[0m\u001b[0mremove\u001b[0m\u001b[1;33m(\u001b[0m\u001b[1;34m\"없는 값\"\u001b[0m\u001b[1;33m)\u001b[0m\u001b[1;33m\u001b[0m\u001b[1;33m\u001b[0m\u001b[0m\n\u001b[0m",
      "\u001b[1;31mKeyError\u001b[0m: '없는 값'"
     ]
    }
   ],
   "source": [
    "set_variable.remove(\"없는 값\")  # \"없는 값\"은 set_variable에 없으므로 에러 발생"
   ]
  },
  {
   "cell_type": "code",
   "execution_count": 159,
   "id": "413643a7-d2d3-49aa-bebd-c5ebd4897329",
   "metadata": {},
   "outputs": [
    {
     "name": "stdout",
     "output_type": "stream",
     "text": [
      "{1, 2, 3, 4, 5, 6, 7, 8}\n"
     ]
    }
   ],
   "source": [
    "set_variable.discard(\"없는 값\")  # \"없는 값\"이 set_variable에 없음에도 에러 발생 X\n",
    "print(set_variable)"
   ]
  },
  {
   "cell_type": "code",
   "execution_count": null,
   "id": "23012ec9-910d-4530-8c78-354f84f078cf",
   "metadata": {},
   "outputs": [],
   "source": []
  },
  {
   "cell_type": "code",
   "execution_count": 160,
   "id": "076e8a08-357f-4616-936e-3d9490153eae",
   "metadata": {},
   "outputs": [],
   "source": [
    "# 임의 삭제 pop()"
   ]
  },
  {
   "cell_type": "code",
   "execution_count": 161,
   "id": "ab49323a-f412-462b-9abb-96df2d17bd7f",
   "metadata": {},
   "outputs": [
    {
     "name": "stdout",
     "output_type": "stream",
     "text": [
      "{0, 3, 6, 9, 12, 15, 18}\n"
     ]
    },
    {
     "data": {
      "text/plain": [
       "[0, 3, 6, 9, 12, 15, 18]"
      ]
     },
     "execution_count": 161,
     "metadata": {},
     "output_type": "execute_result"
    }
   ],
   "source": [
    "set_variable = {_ for _ in range(20) if _ % 3 == 0}\n",
    "print(set_variable)\n",
    "[set_variable.pop() for _ in range(len(set_variable))]"
   ]
  },
  {
   "cell_type": "code",
   "execution_count": 162,
   "id": "4b6fb1b8-fe05-49c7-b236-59e27cb0a3e3",
   "metadata": {},
   "outputs": [
    {
     "name": "stdout",
     "output_type": "stream",
     "text": [
      "\n"
     ]
    }
   ],
   "source": [
    "print()"
   ]
  },
  {
   "cell_type": "code",
   "execution_count": null,
   "id": "a86eed03-7688-4e03-9385-32568a11c52d",
   "metadata": {},
   "outputs": [],
   "source": []
  },
  {
   "cell_type": "code",
   "execution_count": 163,
   "id": "37772871-405d-4b7d-8702-e0831a025913",
   "metadata": {},
   "outputs": [],
   "source": [
    "# 전체 삭제 - clear()"
   ]
  },
  {
   "cell_type": "code",
   "execution_count": 165,
   "id": "4f5c429d-661d-4d4b-9ddf-19d6d9b4d338",
   "metadata": {},
   "outputs": [
    {
     "name": "stdout",
     "output_type": "stream",
     "text": [
      "{0, 3, 6, 9, 12, 15, 18}\n",
      "set()\n"
     ]
    }
   ],
   "source": [
    "set_variable = {_ for _ in range(20) if _ % 3 == 0}\n",
    "print(set_variable)\n",
    "set_variable.clear()\n",
    "print(set_variable)  # 공집합"
   ]
  },
  {
   "cell_type": "code",
   "execution_count": null,
   "id": "0bbba003-a4f7-4508-809f-6ff06d947ddb",
   "metadata": {},
   "outputs": [],
   "source": []
  },
  {
   "cell_type": "code",
   "execution_count": 166,
   "id": "b8cc04c3-f920-4fc4-9300-39605ddb6eed",
   "metadata": {},
   "outputs": [],
   "source": [
    "# 크기 구하기 - len()"
   ]
  },
  {
   "cell_type": "code",
   "execution_count": 1,
   "id": "965fbc9a-ef07-4006-a3d4-50f460314d57",
   "metadata": {},
   "outputs": [
    {
     "name": "stdout",
     "output_type": "stream",
     "text": [
      "{0, 3, 6, 9, 12, 15, 18} 개수는 7 입니다.\n"
     ]
    }
   ],
   "source": [
    "set_variable = {_ for _ in range(20) if _ % 3 == 0}\n",
    "print(set_variable, \"개수는\", len(set_variable), \"입니다.\")"
   ]
  },
  {
   "cell_type": "code",
   "execution_count": null,
   "id": "5bc4c469-4d34-4894-b5f6-7cf0a83dbe5e",
   "metadata": {},
   "outputs": [],
   "source": []
  },
  {
   "cell_type": "code",
   "execution_count": 167,
   "id": "2828e994-f962-49f5-96bf-cd586f459eb0",
   "metadata": {},
   "outputs": [],
   "source": [
    "# 합집합 - union() or Vertical bar |"
   ]
  },
  {
   "cell_type": "code",
   "execution_count": 170,
   "id": "0958fe7f-f4de-4c20-a81a-2fac29822005",
   "metadata": {},
   "outputs": [
    {
     "name": "stdout",
     "output_type": "stream",
     "text": [
      "A: {1, 2, 3, 4} \n",
      "B: {2, 4, 5}\n",
      "set.union(A, B): {1, 2, 3, 4, 5}\n",
      "A | B: {1, 2, 3, 4, 5}\n"
     ]
    }
   ],
   "source": [
    "A = {_ for _ in range(1, 5)}\n",
    "B = {_ for _ in range(2, 6) if _ != 3}\n",
    "print(\"A:\", A, \"\\nB:\", B)\n",
    "print(\"set.union(A, B):\", set.union(A, B))\n",
    "print(\"A | B:\", A | B)"
   ]
  },
  {
   "cell_type": "code",
   "execution_count": null,
   "id": "33439695-aeba-43bc-b3c7-9f8476300aa8",
   "metadata": {},
   "outputs": [],
   "source": []
  },
  {
   "cell_type": "code",
   "execution_count": 171,
   "id": "7584abe3-f42b-41ac-912c-0111abf62104",
   "metadata": {},
   "outputs": [],
   "source": [
    "# 교집합 - intersection() or &"
   ]
  },
  {
   "cell_type": "code",
   "execution_count": 204,
   "id": "32714283-154d-41ff-a530-110abd4bcad7",
   "metadata": {},
   "outputs": [
    {
     "name": "stdout",
     "output_type": "stream",
     "text": [
      "A: {1, 2, 3, 4} \n",
      "B: {2, 4, 5}\n",
      "set.intersection(A, B): {2, 4}\n",
      "A & B: {2, 4}\n"
     ]
    }
   ],
   "source": [
    "A = {_ for _ in range(1, 5)}\n",
    "B = {_ for _ in range(2, 6) if _ != 3}\n",
    "print(\"A:\", A, \"\\nB:\", B)\n",
    "print(\"set.intersection(A, B):\", set.intersection(A, B))\n",
    "print(\"A & B:\", A & B)"
   ]
  },
  {
   "cell_type": "code",
   "execution_count": null,
   "id": "f0d7e68c-d7c3-4737-8854-e9872ccc04b6",
   "metadata": {},
   "outputs": [],
   "source": []
  },
  {
   "cell_type": "code",
   "execution_count": 173,
   "id": "97e5a212-c5ca-4a54-87ec-1efaf41a17c5",
   "metadata": {},
   "outputs": [],
   "source": [
    "# 차집합 - difference() or -"
   ]
  },
  {
   "cell_type": "code",
   "execution_count": 174,
   "id": "ece2197d-fed1-4eb8-9cff-f456e20ed65d",
   "metadata": {},
   "outputs": [
    {
     "name": "stdout",
     "output_type": "stream",
     "text": [
      "A: {1, 2, 3, 4} \n",
      "B: {2, 4, 5}\n",
      "set.difference(A, B): {1, 3}\n",
      "A - B: {1, 3}\n"
     ]
    }
   ],
   "source": [
    "A = {_ for _ in range(1, 5)}\n",
    "B = {_ for _ in range(2, 6) if _ != 3}\n",
    "print(\"A:\", A, \"\\nB:\", B)\n",
    "print(\"set.difference(A, B):\", set.difference(A, B))\n",
    "print(\"A - B:\", A - B)"
   ]
  },
  {
   "cell_type": "code",
   "execution_count": null,
   "id": "33755dfa-19e3-4c31-b224-0a47948733d2",
   "metadata": {},
   "outputs": [],
   "source": []
  },
  {
   "cell_type": "code",
   "execution_count": 175,
   "id": "f0e6b2cd-c94b-41ae-aa05-b6e3e87c2ad7",
   "metadata": {},
   "outputs": [],
   "source": [
    "# 대칭차집합 - Symmetric_difference() or ^"
   ]
  },
  {
   "cell_type": "code",
   "execution_count": 176,
   "id": "1581dcd4-99e3-474a-83de-f70e6241baea",
   "metadata": {},
   "outputs": [
    {
     "name": "stdout",
     "output_type": "stream",
     "text": [
      "A: {1, 2, 3, 4} \n",
      "B: {2, 4, 5}\n",
      "set.symmetric_difference(A, B): {1, 3, 5}\n",
      "A ^ B: {1, 3, 5}\n"
     ]
    }
   ],
   "source": [
    "A = {_ for _ in range(1, 5)}\n",
    "B = {_ for _ in range(2, 6) if _ != 3}\n",
    "print(\"A:\", A, \"\\nB:\", B)\n",
    "print(\"set.symmetric_difference(A, B):\", set.symmetric_difference(A, B))\n",
    "print(\"A ^ B:\", A ^ B)"
   ]
  },
  {
   "cell_type": "code",
   "execution_count": null,
   "id": "abeca60d-52b2-4c1b-bc62-f426df060bd4",
   "metadata": {},
   "outputs": [],
   "source": []
  },
  {
   "cell_type": "code",
   "execution_count": 177,
   "id": "998f0139-fcdf-4b26-b27b-6e56c958b688",
   "metadata": {},
   "outputs": [],
   "source": [
    "# 업데이트 - update() or !="
   ]
  },
  {
   "cell_type": "code",
   "execution_count": 179,
   "id": "5b7c1be1-ef3c-4811-b950-9fe7983d576a",
   "metadata": {},
   "outputs": [
    {
     "name": "stdout",
     "output_type": "stream",
     "text": [
      "A: {1, 2, 3, 4} \n",
      "B: {2, 4, 5}\n",
      "A.update(B): {1, 2, 3, 4, 5}\n"
     ]
    }
   ],
   "source": [
    "A = {_ for _ in range(1, 5)}\n",
    "B = {_ for _ in range(2, 6) if _ != 3}\n",
    "print(\"A:\", A, \"\\nB:\", B)\n",
    "A.update(B)\n",
    "print(\"A.update(B):\", A)\n",
    "\n",
    "# 다른 말로 in-place라고도 함"
   ]
  },
  {
   "cell_type": "code",
   "execution_count": null,
   "id": "768ffcdb-a5c6-46de-9208-8430b891170b",
   "metadata": {},
   "outputs": [],
   "source": []
  },
  {
   "cell_type": "code",
   "execution_count": 180,
   "id": "6e86b617-ddf6-4827-b45b-b51d5bfb6b29",
   "metadata": {},
   "outputs": [],
   "source": [
    "# intersection_update() or &="
   ]
  },
  {
   "cell_type": "code",
   "execution_count": 181,
   "id": "cc207127-26f6-4135-ad89-942d46ac76a0",
   "metadata": {},
   "outputs": [
    {
     "name": "stdout",
     "output_type": "stream",
     "text": [
      "A: {1, 2, 3, 4} \n",
      "B: {2, 4, 5}\n",
      "A.intersection_update(B): {2, 4}\n"
     ]
    }
   ],
   "source": [
    "A = {_ for _ in range(1, 5)}\n",
    "B = {_ for _ in range(2, 6) if _ != 3}\n",
    "print(\"A:\", A, \"\\nB:\", B)\n",
    "A.intersection_update(B)\n",
    "print(\"A.intersection_update(B):\", A)"
   ]
  },
  {
   "cell_type": "code",
   "execution_count": null,
   "id": "c20a73d0-bfaf-4587-ba7d-51aed0b3fa6d",
   "metadata": {},
   "outputs": [],
   "source": []
  },
  {
   "cell_type": "code",
   "execution_count": 182,
   "id": "02642de7-642c-4003-b959-f0ba685db5ba",
   "metadata": {},
   "outputs": [],
   "source": [
    "# difference_update() or -="
   ]
  },
  {
   "cell_type": "code",
   "execution_count": 183,
   "id": "6767c73a-462b-4a7a-b5d7-e7cba59e73b6",
   "metadata": {},
   "outputs": [
    {
     "name": "stdout",
     "output_type": "stream",
     "text": [
      "A: {1, 2, 3, 4} \n",
      "B: {2, 4, 5}\n",
      "A.difference_update(B): {1, 3}\n"
     ]
    }
   ],
   "source": [
    "A = {_ for _ in range(1, 5)}\n",
    "B = {_ for _ in range(2, 6) if _ != 3}\n",
    "print(\"A:\", A, \"\\nB:\", B)\n",
    "A.difference_update(B)\n",
    "print(\"A.difference_update(B):\", A)"
   ]
  },
  {
   "cell_type": "code",
   "execution_count": null,
   "id": "e72e9301-0b53-4c42-bedb-b61156c53f66",
   "metadata": {},
   "outputs": [],
   "source": []
  },
  {
   "cell_type": "code",
   "execution_count": 184,
   "id": "141ccc14-ee70-4364-85b4-864e1047c642",
   "metadata": {},
   "outputs": [],
   "source": [
    "# symmetric_difference_update() or ^="
   ]
  },
  {
   "cell_type": "code",
   "execution_count": 185,
   "id": "68bed9ea-cbe7-4a8b-a4a7-f8c75f165345",
   "metadata": {},
   "outputs": [
    {
     "name": "stdout",
     "output_type": "stream",
     "text": [
      "A: {1, 2, 3, 4} \n",
      "B: {2, 4, 5}\n",
      "A.symmetric_difference_update(B): {1, 3, 5}\n"
     ]
    }
   ],
   "source": [
    "A = {_ for _ in range(1, 5)}\n",
    "B = {_ for _ in range(2, 6) if _ != 3}\n",
    "print(\"A:\", A, \"\\nB:\", B)\n",
    "A.symmetric_difference_update(B)\n",
    "print(\"A.symmetric_difference_update(B):\", A)"
   ]
  },
  {
   "cell_type": "code",
   "execution_count": null,
   "id": "38a42772-db25-4bf2-9510-60113cf2a36f",
   "metadata": {},
   "outputs": [],
   "source": []
  },
  {
   "cell_type": "code",
   "execution_count": 186,
   "id": "ad849937-ed98-4a47-af83-ce7d26035871",
   "metadata": {},
   "outputs": [],
   "source": [
    "# 부분집합 - issubset()"
   ]
  },
  {
   "cell_type": "code",
   "execution_count": 187,
   "id": "590fbbec-8f45-4713-bbdf-f6c038d2195e",
   "metadata": {},
   "outputs": [
    {
     "name": "stdout",
     "output_type": "stream",
     "text": [
      "A: {0, 1, 2} \n",
      "B: {0, 1, 2}\n",
      "A.issubset(B): True\n"
     ]
    }
   ],
   "source": [
    "A = {_ for _ in range(0, 3)}\n",
    "B = {_ for _ in range(0, 3)}\n",
    "print(\"A:\", A, \"\\nB:\", B)\n",
    "print(\"A.issubset(B):\", A.issubset(B))"
   ]
  },
  {
   "cell_type": "code",
   "execution_count": 188,
   "id": "8b9d47b8-4853-43bc-9ed8-358e7cbcd306",
   "metadata": {},
   "outputs": [
    {
     "name": "stdout",
     "output_type": "stream",
     "text": [
      "A: {0, 1, 2} \n",
      "B: {0, 1}\n",
      "B.issubset(A): True\n"
     ]
    }
   ],
   "source": [
    "A = {_ for _ in range(0, 3)}\n",
    "B = {_ for _ in range(0, 2)}  # 범위 축소됨\n",
    "print(\"A:\", A, \"\\nB:\", B)\n",
    "print(\"B.issubset(A):\", B.issubset(A))"
   ]
  },
  {
   "cell_type": "code",
   "execution_count": null,
   "id": "4a06d38d-49b0-487a-8736-481ef0d5a989",
   "metadata": {},
   "outputs": [],
   "source": []
  },
  {
   "cell_type": "code",
   "execution_count": 189,
   "id": "03086025-f3b3-4a6e-887f-3e7aeaea4ddc",
   "metadata": {},
   "outputs": [],
   "source": [
    "# 상위집합 - issuperset()"
   ]
  },
  {
   "cell_type": "code",
   "execution_count": 190,
   "id": "f23f24bf-2a46-4fbb-8e71-6eed469885b0",
   "metadata": {},
   "outputs": [
    {
     "name": "stdout",
     "output_type": "stream",
     "text": [
      "A: {0, 1, 2} \n",
      "B: {0, 1, 2}\n",
      "A.issuperset(B): True\n"
     ]
    }
   ],
   "source": [
    "A = {_ for _ in range(0, 3)}\n",
    "B = {_ for _ in range(0, 3)}\n",
    "print(\"A:\", A, \"\\nB:\", B)\n",
    "print(\"A.issuperset(B):\", A.issuperset(B))"
   ]
  },
  {
   "cell_type": "code",
   "execution_count": 191,
   "id": "4ceb91d4-9d8f-4939-9eb6-b9dbf53beb4c",
   "metadata": {},
   "outputs": [
    {
     "name": "stdout",
     "output_type": "stream",
     "text": [
      "A: {0, 1, 2} \n",
      "B: {0, 1}\n",
      "A.issuperset(B): True\n"
     ]
    }
   ],
   "source": [
    "A = {_ for _ in range(0, 3)}\n",
    "B = {_ for _ in range(0, 2)}\n",
    "print(\"A:\", A, \"\\nB:\", B)\n",
    "print(\"A.issuperset(B):\", A.issuperset(B))"
   ]
  },
  {
   "cell_type": "code",
   "execution_count": null,
   "id": "0ce4b899-2150-41c8-bba9-3ff2eec9a6d8",
   "metadata": {},
   "outputs": [],
   "source": []
  },
  {
   "cell_type": "code",
   "execution_count": 192,
   "id": "c642d9b6-7942-4f40-a8c6-6fac268de982",
   "metadata": {},
   "outputs": [],
   "source": [
    "# 진부분집합과 진상위집합 - > , <"
   ]
  },
  {
   "cell_type": "code",
   "execution_count": 193,
   "id": "4da45bc4-66d8-4069-bd1e-c6c948ab3fee",
   "metadata": {},
   "outputs": [
    {
     "name": "stdout",
     "output_type": "stream",
     "text": [
      "A: {0, 1, 2} \n",
      "B: {0, 1, 2}\n",
      "A > B: False\n",
      "A < B: False\n"
     ]
    }
   ],
   "source": [
    "A = {_ for _ in range(0, 3)}\n",
    "B = {_ for _ in range(0, 3)}\n",
    "print(\"A:\", A, \"\\nB:\", B)\n",
    "print(\"A > B:\", A > B)\n",
    "print(\"A < B:\", A < B)"
   ]
  },
  {
   "cell_type": "code",
   "execution_count": 194,
   "id": "be095514-1aa3-44ae-b81f-c9a593f5aefa",
   "metadata": {},
   "outputs": [
    {
     "name": "stdout",
     "output_type": "stream",
     "text": [
      "A: {0, 1, 2} \n",
      "B: {0, 1}\n",
      "A > B: True\n",
      "A < B: False\n"
     ]
    }
   ],
   "source": [
    "A = {_ for _ in range(0, 3)}\n",
    "B = {_ for _ in range(0, 2)}\n",
    "print(\"A:\", A, \"\\nB:\", B)\n",
    "print(\"A > B:\", A > B)\n",
    "print(\"A < B:\", A < B)"
   ]
  },
  {
   "cell_type": "code",
   "execution_count": null,
   "id": "512c62de-4cb5-47f8-a7f6-fe90e69ce6d0",
   "metadata": {},
   "outputs": [],
   "source": []
  },
  {
   "cell_type": "code",
   "execution_count": 195,
   "id": "b8747103-add7-422b-8327-05ce345648a2",
   "metadata": {},
   "outputs": [],
   "source": [
    "# 같다 - =="
   ]
  },
  {
   "cell_type": "code",
   "execution_count": 196,
   "id": "bd67bdac-51e8-486d-829f-5feedb24c780",
   "metadata": {},
   "outputs": [
    {
     "name": "stdout",
     "output_type": "stream",
     "text": [
      "A: {0, 1, 2} \n",
      "B: {0, 1, 2}\n",
      "A == B: True\n"
     ]
    }
   ],
   "source": [
    "A = {_ for _ in range(0, 3)}\n",
    "B = {_ for _ in range(0, 3)}\n",
    "print(\"A:\", A, \"\\nB:\", B)\n",
    "print(\"A == B:\", A == B)"
   ]
  },
  {
   "cell_type": "code",
   "execution_count": null,
   "id": "5f87fd01-4340-42a2-a571-c5baff682a26",
   "metadata": {},
   "outputs": [],
   "source": []
  },
  {
   "cell_type": "code",
   "execution_count": 197,
   "id": "d8bd4046-e96b-4afe-9952-369921df7ef6",
   "metadata": {},
   "outputs": [],
   "source": [
    "# 세트가 겹치지 않는지 확인 - isdisjoint()"
   ]
  },
  {
   "cell_type": "code",
   "execution_count": 198,
   "id": "8ba54d86-0178-4839-bfd0-b0789adb0569",
   "metadata": {},
   "outputs": [
    {
     "name": "stdout",
     "output_type": "stream",
     "text": [
      "A: {0, 1, 2} \n",
      "B: {3, 4, 5}\n",
      "A.isdisjoint(B): True\n"
     ]
    }
   ],
   "source": [
    "A = {_ for _ in range(0, 3)}\n",
    "B = {_ for _ in range(3, 6)}\n",
    "print(\"A:\", A, \"\\nB:\", B)\n",
    "print(\"A.isdisjoint(B):\", A.isdisjoint(B))"
   ]
  },
  {
   "cell_type": "code",
   "execution_count": null,
   "id": "70641f34-21bd-4242-b748-99eb43b2043f",
   "metadata": {},
   "outputs": [],
   "source": []
  },
  {
   "cell_type": "code",
   "execution_count": 201,
   "id": "836b2098-14ca-488a-8660-273c8c432484",
   "metadata": {},
   "outputs": [
    {
     "name": "stdout",
     "output_type": "stream",
     "text": [
      "{1, 2, 3, 4}\n"
     ]
    }
   ],
   "source": [
    "# Q1.\n",
    "list_sample = [1, 2, 2, 3, 3, 3, 4, 4, 4, 4]\n",
    "print(set(list_sample))"
   ]
  },
  {
   "cell_type": "code",
   "execution_count": null,
   "id": "d8308f83-c049-4b41-bcf2-4755497bc1c3",
   "metadata": {},
   "outputs": [],
   "source": []
  }
 ],
 "metadata": {
  "kernelspec": {
   "display_name": "Python 3 (ipykernel)",
   "language": "python",
   "name": "python3"
  },
  "language_info": {
   "codemirror_mode": {
    "name": "ipython",
    "version": 3
   },
   "file_extension": ".py",
   "mimetype": "text/x-python",
   "name": "python",
   "nbconvert_exporter": "python",
   "pygments_lexer": "ipython3",
   "version": "3.9.13"
  }
 },
 "nbformat": 4,
 "nbformat_minor": 5
}
