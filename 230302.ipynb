{
 "cells": [
  {
   "cell_type": "code",
   "execution_count": 1,
   "id": "7a0172af-8804-474b-9ec7-67e2ff731429",
   "metadata": {},
   "outputs": [],
   "source": [
    "##### Numpy"
   ]
  },
  {
   "cell_type": "code",
   "execution_count": 2,
   "id": "e2875050-17d1-4695-8a99-dd783dd47b0c",
   "metadata": {},
   "outputs": [],
   "source": [
    "import numpy as np\n",
    "\n",
    "# Anaconda에 기본적으로 포함되어 설치된 라이브러리\n",
    "# 별도 설치가 필요하지 않음"
   ]
  },
  {
   "cell_type": "code",
   "execution_count": null,
   "id": "33f5f390-8ab3-4972-b3fc-d73c9fac9fdf",
   "metadata": {},
   "outputs": [],
   "source": [
    "## ndarray class로부터 객체 생성"
   ]
  },
  {
   "cell_type": "code",
   "execution_count": 3,
   "id": "61b5ccc6-194c-4805-bee4-d2b23e7e6633",
   "metadata": {},
   "outputs": [
    {
     "data": {
      "text/plain": [
       "array([0, 1, 2, 3, 4, 5, 6, 7, 8, 9])"
      ]
     },
     "execution_count": 3,
     "metadata": {},
     "output_type": "execute_result"
    }
   ],
   "source": [
    "ar = np.array([_ for _ in range(10)])\n",
    "ar"
   ]
  },
  {
   "cell_type": "code",
   "execution_count": 4,
   "id": "304e277c-b0e3-44c0-aef1-6540cf3e0cf6",
   "metadata": {},
   "outputs": [
    {
     "data": {
      "text/plain": [
       "numpy.ndarray"
      ]
     },
     "execution_count": 4,
     "metadata": {},
     "output_type": "execute_result"
    }
   ],
   "source": [
    "type(ar)\n",
    "# np.array()로 생성한 객체는 numpy.ndarray 타입!"
   ]
  },
  {
   "cell_type": "code",
   "execution_count": 5,
   "id": "741ca4e1-6673-44b6-8a81-1d5f11dcccaf",
   "metadata": {},
   "outputs": [
    {
     "data": {
      "text/plain": [
       "(10,)"
      ]
     },
     "execution_count": 5,
     "metadata": {},
     "output_type": "execute_result"
    }
   ],
   "source": [
    "ar.shape\n",
    "\n",
    "# 객체 'ar'가 갖는 속성\n",
    "# 1차원이면서 10칸을 갖는 ndarray라는 뜻"
   ]
  },
  {
   "cell_type": "code",
   "execution_count": 6,
   "id": "ea947c18-ddae-412d-a5fc-b98397225df1",
   "metadata": {},
   "outputs": [
    {
     "data": {
      "text/plain": [
       "10"
      ]
     },
     "execution_count": 6,
     "metadata": {},
     "output_type": "execute_result"
    }
   ],
   "source": [
    "len(ar)"
   ]
  },
  {
   "cell_type": "code",
   "execution_count": null,
   "id": "adffcfcc-a69d-4502-88a8-af6e5879cd36",
   "metadata": {},
   "outputs": [],
   "source": []
  },
  {
   "cell_type": "code",
   "execution_count": 17,
   "id": "8727f933-19a8-4b8d-8aa2-abf5d1eb091e",
   "metadata": {},
   "outputs": [
    {
     "data": {
      "text/plain": [
       "array([ 0.1 , 12.  , 50.  ,  2.  ,  3.14])"
      ]
     },
     "execution_count": 17,
     "metadata": {},
     "output_type": "execute_result"
    }
   ],
   "source": [
    "ar2 = np.array([0.1, 12, 50, 2, 3.14])\n",
    "ar2"
   ]
  },
  {
   "cell_type": "code",
   "execution_count": 18,
   "id": "920795da-18eb-44ac-8445-d6259692f397",
   "metadata": {},
   "outputs": [],
   "source": [
    "# 정수 뒤에 점이 찍혀 있네?  Why?\n",
    "# 더 넓은 자료 범위로 통일시키기 위해서"
   ]
  },
  {
   "cell_type": "code",
   "execution_count": null,
   "id": "1527d7c9-64a9-41ac-a94a-075605068b7d",
   "metadata": {},
   "outputs": [],
   "source": []
  },
  {
   "cell_type": "code",
   "execution_count": 20,
   "id": "a0fb489d-4f13-4980-88ab-f8b33d046f72",
   "metadata": {},
   "outputs": [
    {
     "data": {
      "text/plain": [
       "array(['가', '1'], dtype='<U1')"
      ]
     },
     "execution_count": 20,
     "metadata": {},
     "output_type": "execute_result"
    }
   ],
   "source": [
    "ar3 = np.array([\"가\", \"1\"])\n",
    "ar3"
   ]
  },
  {
   "cell_type": "code",
   "execution_count": 21,
   "id": "78659730-65ce-4bdb-bd5f-7143d89b223e",
   "metadata": {},
   "outputs": [
    {
     "data": {
      "text/plain": [
       "dtype('<U1')"
      ]
     },
     "execution_count": 21,
     "metadata": {},
     "output_type": "execute_result"
    }
   ],
   "source": [
    "ar3.dtype"
   ]
  },
  {
   "cell_type": "code",
   "execution_count": null,
   "id": "0af2c185-5969-4ec5-884f-04c99aadb2c4",
   "metadata": {},
   "outputs": [],
   "source": []
  },
  {
   "cell_type": "code",
   "execution_count": 24,
   "id": "681d649a-bf92-407e-81f3-1f97ba8c0edb",
   "metadata": {},
   "outputs": [
    {
     "data": {
      "text/plain": [
       "dtype('float32')"
      ]
     },
     "execution_count": 24,
     "metadata": {},
     "output_type": "execute_result"
    }
   ],
   "source": [
    "x = np.array([1, 2, 3], dtype = \"f4\")\n",
    "x.dtype"
   ]
  },
  {
   "cell_type": "code",
   "execution_count": 26,
   "id": "b09c0d2b-89f1-4aad-9b77-66cb1b2fb9e0",
   "metadata": {},
   "outputs": [
    {
     "data": {
      "text/plain": [
       "dtype('int32')"
      ]
     },
     "execution_count": 26,
     "metadata": {},
     "output_type": "execute_result"
    }
   ],
   "source": [
    "np.array([1, 2, 3]).dtype"
   ]
  },
  {
   "cell_type": "code",
   "execution_count": null,
   "id": "894b2e08-64ad-431b-b754-4acde8a59272",
   "metadata": {},
   "outputs": [],
   "source": []
  },
  {
   "cell_type": "code",
   "execution_count": null,
   "id": "c14ff313-17db-453f-b65c-4a0d3b4d86db",
   "metadata": {},
   "outputs": [],
   "source": [
    "## ndarray 인덱싱"
   ]
  },
  {
   "cell_type": "code",
   "execution_count": 27,
   "id": "563317be-6d75-46b0-bb67-be2f2f953f2c",
   "metadata": {},
   "outputs": [
    {
     "data": {
      "text/plain": [
       "3.0"
      ]
     },
     "execution_count": 27,
     "metadata": {},
     "output_type": "execute_result"
    }
   ],
   "source": [
    "x[0] + x[1]"
   ]
  },
  {
   "cell_type": "code",
   "execution_count": 28,
   "id": "062a8601-96fe-4808-a9eb-da12944c65ba",
   "metadata": {},
   "outputs": [
    {
     "data": {
      "text/plain": [
       "array(['1', '2', '3'], dtype='<U1')"
      ]
     },
     "execution_count": 28,
     "metadata": {},
     "output_type": "execute_result"
    }
   ],
   "source": [
    "x = np.array([1, 2, 3], dtype = \"U\")\n",
    "x"
   ]
  },
  {
   "cell_type": "code",
   "execution_count": 29,
   "id": "6f69c258-98df-4f29-a6dd-ce01407fe0ec",
   "metadata": {},
   "outputs": [
    {
     "data": {
      "text/plain": [
       "dtype('<U1')"
      ]
     },
     "execution_count": 29,
     "metadata": {},
     "output_type": "execute_result"
    }
   ],
   "source": [
    "x.dtype"
   ]
  },
  {
   "cell_type": "code",
   "execution_count": 30,
   "id": "f9260a6c-9142-4afb-807e-db3d23fc4dc0",
   "metadata": {},
   "outputs": [],
   "source": [
    "# 길이를 명시하지 않았음에도 알아서 지정함\n",
    "# 1칸짜리 유니코드 string으로 통일시키려고 하는 것"
   ]
  },
  {
   "cell_type": "code",
   "execution_count": 31,
   "id": "803f51d0-22d2-46a5-bc76-3cb84d6a08a9",
   "metadata": {},
   "outputs": [
    {
     "data": {
      "text/plain": [
       "'12'"
      ]
     },
     "execution_count": 31,
     "metadata": {},
     "output_type": "execute_result"
    }
   ],
   "source": [
    "x[0] + x[1]"
   ]
  },
  {
   "cell_type": "code",
   "execution_count": null,
   "id": "4ea8bcd9-1460-483d-90fa-016f4aa1e519",
   "metadata": {},
   "outputs": [],
   "source": []
  },
  {
   "cell_type": "code",
   "execution_count": 32,
   "id": "a5b7c2f3-c8a4-4314-8334-bd52d609bafb",
   "metadata": {},
   "outputs": [
    {
     "ename": "TypeError",
     "evalue": "unsupported operand type(s) for /: 'list' and 'list'",
     "output_type": "error",
     "traceback": [
      "\u001b[1;31m---------------------------------------------------------------------------\u001b[0m",
      "\u001b[1;31mTypeError\u001b[0m                                 Traceback (most recent call last)",
      "\u001b[1;32m~\\AppData\\Local\\Temp\\ipykernel_12760\\2454756875.py\u001b[0m in \u001b[0;36m<module>\u001b[1;34m\u001b[0m\n\u001b[0;32m      2\u001b[0m \u001b[0my\u001b[0m \u001b[1;33m=\u001b[0m \u001b[1;33m[\u001b[0m\u001b[1;36m1\u001b[0m\u001b[1;33m,\u001b[0m \u001b[1;36m0\u001b[0m\u001b[1;33m,\u001b[0m \u001b[1;36m0\u001b[0m\u001b[1;33m,\u001b[0m \u001b[1;36m0\u001b[0m\u001b[1;33m]\u001b[0m\u001b[1;33m\u001b[0m\u001b[1;33m\u001b[0m\u001b[0m\n\u001b[0;32m      3\u001b[0m \u001b[1;33m\u001b[0m\u001b[0m\n\u001b[1;32m----> 4\u001b[1;33m \u001b[0mx\u001b[0m\u001b[1;33m/\u001b[0m\u001b[0my\u001b[0m\u001b[1;33m\u001b[0m\u001b[1;33m\u001b[0m\u001b[0m\n\u001b[0m",
      "\u001b[1;31mTypeError\u001b[0m: unsupported operand type(s) for /: 'list' and 'list'"
     ]
    }
   ],
   "source": [
    "x = [0, 1, -1, 0]\n",
    "y = [1, 0, 0, 0]\n",
    "\n",
    "x / y  # 에러 발생: 리스트끼리 나눗셈 불가능"
   ]
  },
  {
   "cell_type": "code",
   "execution_count": 34,
   "id": "e938fa40-4818-4aa7-92fd-3f18f4b952a8",
   "metadata": {},
   "outputs": [],
   "source": [
    "xn = np.array(x)\n",
    "yn = np.array(y)"
   ]
  },
  {
   "cell_type": "code",
   "execution_count": 35,
   "id": "77a9947b-e62f-497b-8c01-96a5b3dff0c8",
   "metadata": {},
   "outputs": [
    {
     "data": {
      "text/plain": [
       "array([ 0,  1, -1,  0])"
      ]
     },
     "execution_count": 35,
     "metadata": {},
     "output_type": "execute_result"
    }
   ],
   "source": [
    "xn"
   ]
  },
  {
   "cell_type": "code",
   "execution_count": 36,
   "id": "e49186f7-34c9-4940-adb8-486d0290f0e0",
   "metadata": {},
   "outputs": [
    {
     "data": {
      "text/plain": [
       "array([1, 0, 0, 0])"
      ]
     },
     "execution_count": 36,
     "metadata": {},
     "output_type": "execute_result"
    }
   ],
   "source": [
    "yn"
   ]
  },
  {
   "cell_type": "code",
   "execution_count": 37,
   "id": "f56030b0-71c5-4dd1-ab3f-fc8bd7ccac18",
   "metadata": {},
   "outputs": [
    {
     "name": "stderr",
     "output_type": "stream",
     "text": [
      "C:\\Users\\Playdata\\AppData\\Local\\Temp\\ipykernel_12760\\1323904989.py:1: RuntimeWarning: divide by zero encountered in true_divide\n",
      "  xn / yn\n",
      "C:\\Users\\Playdata\\AppData\\Local\\Temp\\ipykernel_12760\\1323904989.py:1: RuntimeWarning: invalid value encountered in true_divide\n",
      "  xn / yn\n"
     ]
    },
    {
     "data": {
      "text/plain": [
       "array([  0.,  inf, -inf,  nan])"
      ]
     },
     "execution_count": 37,
     "metadata": {},
     "output_type": "execute_result"
    }
   ],
   "source": [
    "xn / yn\n",
    "\n",
    "# 요소 순서대로 연산한 뒤 값을 구한다.\n",
    "# 무한대(inf), 숫자가 아님(nan) 또한 표시함"
   ]
  },
  {
   "cell_type": "code",
   "execution_count": null,
   "id": "9b7e6998-8dfa-489a-ab74-82fa228c38c4",
   "metadata": {},
   "outputs": [],
   "source": []
  },
  {
   "cell_type": "code",
   "execution_count": 38,
   "id": "289f7ded-99b1-42b7-af3a-72f7efad16df",
   "metadata": {},
   "outputs": [],
   "source": [
    "## 벡터화 연산 - 1차원"
   ]
  },
  {
   "cell_type": "code",
   "execution_count": 39,
   "id": "0bfa640b-d068-4f30-bbe4-4c407eae8f26",
   "metadata": {},
   "outputs": [],
   "source": [
    "data = [0, 1, 2, 3, 4, 5, 6, 7, 8, 9]"
   ]
  },
  {
   "cell_type": "code",
   "execution_count": 40,
   "id": "d032bb96-1e4a-40d6-a653-6e77c4cacb27",
   "metadata": {},
   "outputs": [
    {
     "data": {
      "text/plain": [
       "[0, 1, 2, 3, 4, 5, 6, 7, 8, 9, 0, 1, 2, 3, 4, 5, 6, 7, 8, 9]"
      ]
     },
     "execution_count": 40,
     "metadata": {},
     "output_type": "execute_result"
    }
   ],
   "source": [
    "data * 2  # 벡터 길이가 2배"
   ]
  },
  {
   "cell_type": "code",
   "execution_count": 44,
   "id": "f5337d49-7b7d-4013-975d-8610ac72d77c",
   "metadata": {},
   "outputs": [
    {
     "data": {
      "text/plain": [
       "[0, 2, 4, 6, 8, 10, 12, 14, 16, 18]"
      ]
     },
     "execution_count": 44,
     "metadata": {},
     "output_type": "execute_result"
    }
   ],
   "source": [
    "answer = [2 * d for d in data]\n",
    "answer  # 각 값에 2배씩 곱한 뒤 출력"
   ]
  },
  {
   "cell_type": "code",
   "execution_count": null,
   "id": "31bbcf90-eceb-466b-a805-e9a7851097ce",
   "metadata": {},
   "outputs": [],
   "source": []
  },
  {
   "cell_type": "code",
   "execution_count": null,
   "id": "4ce5fac5-d448-4f2d-9584-c0a4f7a88c65",
   "metadata": {},
   "outputs": [],
   "source": [
    "# 리스트 연산"
   ]
  },
  {
   "cell_type": "code",
   "execution_count": 45,
   "id": "fda54d4f-ee21-4228-8384-ac09de2f1099",
   "metadata": {},
   "outputs": [
    {
     "name": "stdout",
     "output_type": "stream",
     "text": [
      "[0, 1, 2, 0, 1, 2, 0, 1, 2, 0, 1, 2, 0, 1, 2]\n"
     ]
    }
   ],
   "source": [
    "list_samp = [_ for _ in range(3)]\n",
    "print(list_samp * 5)"
   ]
  },
  {
   "cell_type": "code",
   "execution_count": 46,
   "id": "58009862-b82c-4edc-9635-061f5b1f1b13",
   "metadata": {},
   "outputs": [],
   "source": [
    "a = [1, 2, 3]\n",
    "b = [10, 20, 30]"
   ]
  },
  {
   "cell_type": "code",
   "execution_count": 47,
   "id": "af2b5133-601c-43a6-b842-f76e853f33a7",
   "metadata": {},
   "outputs": [
    {
     "data": {
      "text/plain": [
       "[1, 2, 3, 1, 2, 3, 10, 20, 30]"
      ]
     },
     "execution_count": 47,
     "metadata": {},
     "output_type": "execute_result"
    }
   ],
   "source": [
    "2 * a + b"
   ]
  },
  {
   "cell_type": "code",
   "execution_count": null,
   "id": "d69ad9ba-7ead-4096-93ac-d42b90b5b217",
   "metadata": {},
   "outputs": [],
   "source": []
  },
  {
   "cell_type": "code",
   "execution_count": null,
   "id": "ff43c4f5-69a8-4f53-8568-9fcc8fc8e48e",
   "metadata": {},
   "outputs": [],
   "source": [
    "# ndarray 연산"
   ]
  },
  {
   "cell_type": "code",
   "execution_count": 88,
   "id": "d94f6574-0c13-4e3d-952f-3d47612ada62",
   "metadata": {},
   "outputs": [],
   "source": [
    "an = np.array(a)\n",
    "bn = np.array(b)"
   ]
  },
  {
   "cell_type": "code",
   "execution_count": 49,
   "id": "4206d41d-a860-4699-9873-2677a5d4c958",
   "metadata": {},
   "outputs": [
    {
     "data": {
      "text/plain": [
       "array([2, 4, 6])"
      ]
     },
     "execution_count": 49,
     "metadata": {},
     "output_type": "execute_result"
    }
   ],
   "source": [
    "2 * an"
   ]
  },
  {
   "cell_type": "code",
   "execution_count": 89,
   "id": "8cf1c44c-c582-4d4d-aa59-20e2173e5b9a",
   "metadata": {},
   "outputs": [
    {
     "data": {
      "text/plain": [
       "array([[10, 22, 34],\n",
       "       [16, 28, 40]])"
      ]
     },
     "execution_count": 89,
     "metadata": {},
     "output_type": "execute_result"
    }
   ],
   "source": [
    "2 * an + bn"
   ]
  },
  {
   "cell_type": "code",
   "execution_count": null,
   "id": "7673b920-3b4e-41b6-bad8-9a314c8db21e",
   "metadata": {},
   "outputs": [],
   "source": []
  },
  {
   "cell_type": "code",
   "execution_count": null,
   "id": "6d408bb0-5aa5-4e20-aa22-94d8a6537c34",
   "metadata": {},
   "outputs": [],
   "source": [
    "# ndarray 비교 연산"
   ]
  },
  {
   "cell_type": "code",
   "execution_count": 52,
   "id": "b8fe24dd-f55b-4dfb-a43d-d3314189b21f",
   "metadata": {},
   "outputs": [
    {
     "data": {
      "text/plain": [
       "array([False,  True, False])"
      ]
     },
     "execution_count": 52,
     "metadata": {},
     "output_type": "execute_result"
    }
   ],
   "source": [
    "an == 2"
   ]
  },
  {
   "cell_type": "code",
   "execution_count": 53,
   "id": "1bdff078-c75c-4af9-a011-5d5d5758c419",
   "metadata": {},
   "outputs": [
    {
     "data": {
      "text/plain": [
       "array([False,  True,  True])"
      ]
     },
     "execution_count": 53,
     "metadata": {},
     "output_type": "execute_result"
    }
   ],
   "source": [
    "bn > 10"
   ]
  },
  {
   "cell_type": "code",
   "execution_count": 56,
   "id": "770a8496-2d54-45fd-8ddd-e591f7b01eb6",
   "metadata": {},
   "outputs": [
    {
     "data": {
      "text/plain": [
       "array([ True, False, False])"
      ]
     },
     "execution_count": 56,
     "metadata": {},
     "output_type": "execute_result"
    }
   ],
   "source": [
    "bn < 20"
   ]
  },
  {
   "cell_type": "code",
   "execution_count": 57,
   "id": "63704697-e925-400d-bdd9-1f898880bbbf",
   "metadata": {},
   "outputs": [
    {
     "data": {
      "text/plain": [
       "array([ True, False, False])"
      ]
     },
     "execution_count": 57,
     "metadata": {},
     "output_type": "execute_result"
    }
   ],
   "source": [
    "bn < np.array([20, 20, 20])  # 위 셀과 결과 동일"
   ]
  },
  {
   "cell_type": "code",
   "execution_count": null,
   "id": "7f01ed53-e560-4bf0-9c25-59a7d86b5070",
   "metadata": {},
   "outputs": [],
   "source": []
  },
  {
   "cell_type": "code",
   "execution_count": null,
   "id": "d769158f-b9f7-4f71-b113-baa473dd43bb",
   "metadata": {},
   "outputs": [
    {
     "data": {
      "text/plain": [
       "array([False,  True, False])"
      ]
     },
     "execution_count": 55,
     "metadata": {},
     "output_type": "execute_result"
    }
   ],
   "source": [
    "(an == 2) & (bn > 10)  # & 대신 and 사용 불가"
   ]
  },
  {
   "cell_type": "code",
   "execution_count": null,
   "id": "331d2665-05a3-414f-a5c5-0a59bba7d720",
   "metadata": {},
   "outputs": [],
   "source": [
    "# an = [1, 2, 3]\n",
    "# bn = [10, 20, 30]\n",
    "# => an, bn의 각 bit를 비교해서(= 자릿수마다 비교해서) 모두 참이면 True 출력"
   ]
  },
  {
   "cell_type": "code",
   "execution_count": 59,
   "id": "c1870a95-f33a-4ba1-8535-4f9857c6b073",
   "metadata": {},
   "outputs": [
    {
     "ename": "ValueError",
     "evalue": "The truth value of an array with more than one element is ambiguous. Use a.any() or a.all()",
     "output_type": "error",
     "traceback": [
      "\u001b[1;31m---------------------------------------------------------------------------\u001b[0m",
      "\u001b[1;31mValueError\u001b[0m                                Traceback (most recent call last)",
      "\u001b[1;32m~\\AppData\\Local\\Temp\\ipykernel_12760\\1569427777.py\u001b[0m in \u001b[0;36m<module>\u001b[1;34m\u001b[0m\n\u001b[1;32m----> 1\u001b[1;33m \u001b[1;33m(\u001b[0m\u001b[0man\u001b[0m \u001b[1;33m==\u001b[0m \u001b[1;36m2\u001b[0m\u001b[1;33m)\u001b[0m \u001b[1;32mand\u001b[0m \u001b[1;33m(\u001b[0m\u001b[0mbn\u001b[0m \u001b[1;33m>\u001b[0m \u001b[1;36m10\u001b[0m\u001b[1;33m)\u001b[0m  \u001b[1;31m# & 대신 and 사용 불가\u001b[0m\u001b[1;33m\u001b[0m\u001b[1;33m\u001b[0m\u001b[0m\n\u001b[0m",
      "\u001b[1;31mValueError\u001b[0m: The truth value of an array with more than one element is ambiguous. Use a.any() or a.all()"
     ]
    }
   ],
   "source": [
    "(an == 2) and (bn > 10)  # & 대신 and 사용 불가"
   ]
  },
  {
   "cell_type": "code",
   "execution_count": 60,
   "id": "e3ae1f82-c578-463d-a4e4-59d01631b909",
   "metadata": {},
   "outputs": [
    {
     "ename": "ValueError",
     "evalue": "The truth value of an array with more than one element is ambiguous. Use a.any() or a.all()",
     "output_type": "error",
     "traceback": [
      "\u001b[1;31m---------------------------------------------------------------------------\u001b[0m",
      "\u001b[1;31mValueError\u001b[0m                                Traceback (most recent call last)",
      "\u001b[1;32m~\\AppData\\Local\\Temp\\ipykernel_12760\\4026225173.py\u001b[0m in \u001b[0;36m<module>\u001b[1;34m\u001b[0m\n\u001b[1;32m----> 1\u001b[1;33m \u001b[0man\u001b[0m \u001b[1;33m==\u001b[0m \u001b[1;36m2\u001b[0m \u001b[1;33m&\u001b[0m \u001b[0mbn\u001b[0m \u001b[1;33m>\u001b[0m \u001b[1;36m10\u001b[0m\u001b[1;33m\u001b[0m\u001b[1;33m\u001b[0m\u001b[0m\n\u001b[0m",
      "\u001b[1;31mValueError\u001b[0m: The truth value of an array with more than one element is ambiguous. Use a.any() or a.all()"
     ]
    }
   ],
   "source": [
    "an == 2 & bn > 10\n",
    "\n",
    "# 연산자 우선순위에 의해 ()없이는 실행 안 됨"
   ]
  },
  {
   "cell_type": "code",
   "execution_count": 58,
   "id": "8d2cece1-23b7-4bc3-8494-ec951060672a",
   "metadata": {},
   "outputs": [],
   "source": []
  },
  {
   "cell_type": "code",
   "execution_count": 61,
   "id": "833d444f-a5d4-47f9-a41f-2d4a102c9698",
   "metadata": {},
   "outputs": [],
   "source": [
    "## 2차원 배열"
   ]
  },
  {
   "cell_type": "code",
   "execution_count": 62,
   "id": "03aa6dad-a339-48c0-8f35-80cea2f1ad3b",
   "metadata": {},
   "outputs": [
    {
     "data": {
      "text/plain": [
       "array([[0, 1, 2],\n",
       "       [3, 4, 5]])"
      ]
     },
     "execution_count": 62,
     "metadata": {},
     "output_type": "execute_result"
    }
   ],
   "source": [
    "c = np.array([[0, 1, 2], [3, 4, 5]])\n",
    "c"
   ]
  },
  {
   "cell_type": "code",
   "execution_count": 63,
   "id": "60806ce5-3f43-4443-9116-fed9c0654f63",
   "metadata": {},
   "outputs": [
    {
     "data": {
      "text/plain": [
       "2"
      ]
     },
     "execution_count": 63,
     "metadata": {},
     "output_type": "execute_result"
    }
   ],
   "source": [
    "len(c)  # [0, 1, 2], [3, 4, 5]로 2개"
   ]
  },
  {
   "cell_type": "code",
   "execution_count": 64,
   "id": "3b45fd22-02c3-41f7-a03e-65c2d4fde22a",
   "metadata": {},
   "outputs": [
    {
     "data": {
      "text/plain": [
       "3"
      ]
     },
     "execution_count": 64,
     "metadata": {},
     "output_type": "execute_result"
    }
   ],
   "source": [
    "len(c[0])  # [0, 1, 2]로 3개"
   ]
  },
  {
   "cell_type": "code",
   "execution_count": null,
   "id": "63c2b376-9ff5-4b81-8b1d-33345d47c57b",
   "metadata": {},
   "outputs": [],
   "source": []
  },
  {
   "cell_type": "code",
   "execution_count": 66,
   "id": "9cd2fdd6-0c38-4809-8a23-75efd9b8affd",
   "metadata": {},
   "outputs": [
    {
     "data": {
      "text/plain": [
       "array([[10, 20, 30, 40],\n",
       "       [50, 60, 70, 80]])"
      ]
     },
     "execution_count": 66,
     "metadata": {},
     "output_type": "execute_result"
    }
   ],
   "source": [
    "# Q1.\n",
    "a = np.array([[10, 20, 30, 40], [50, 60, 70, 80]])\n",
    "a"
   ]
  },
  {
   "cell_type": "code",
   "execution_count": 67,
   "id": "07bcd347-afc9-4de4-8adb-48ffb95239b3",
   "metadata": {},
   "outputs": [
    {
     "data": {
      "text/plain": [
       "array([[10, 20, 30, 40],\n",
       "       [50, 60, 70, 80]])"
      ]
     },
     "execution_count": 67,
     "metadata": {},
     "output_type": "execute_result"
    }
   ],
   "source": [
    "# Q1 다른 풀이\n",
    "np.array([[_ for _ in range(10, 41, 10)],\n",
    "          [_ for _ in range(50, 81, 10)]])"
   ]
  },
  {
   "cell_type": "code",
   "execution_count": null,
   "id": "ed3ea75b-8a1f-404e-98cc-e6610a44eaac",
   "metadata": {},
   "outputs": [],
   "source": []
  },
  {
   "cell_type": "code",
   "execution_count": 68,
   "id": "99b5d151-73d8-47ad-9fda-8ba9c7c7705a",
   "metadata": {},
   "outputs": [],
   "source": [
    "## 3차원 배열"
   ]
  },
  {
   "cell_type": "code",
   "execution_count": 69,
   "id": "e4a0360a-5f3a-4045-9bef-b445b063cc40",
   "metadata": {},
   "outputs": [],
   "source": [
    "# 2 x 3 x 4"
   ]
  },
  {
   "cell_type": "code",
   "execution_count": 70,
   "id": "78c3c240-3d1f-40db-9d37-7b67f14792f7",
   "metadata": {},
   "outputs": [
    {
     "data": {
      "text/plain": [
       "array([[[ 1,  2,  3,  4],\n",
       "        [ 5,  6,  7,  8],\n",
       "        [ 9, 10, 11, 12]],\n",
       "\n",
       "       [[11, 12, 13, 14],\n",
       "        [15, 16, 17, 18],\n",
       "        [19, 20, 21, 22]]])"
      ]
     },
     "execution_count": 70,
     "metadata": {},
     "output_type": "execute_result"
    }
   ],
   "source": [
    "d = np.array([[[1, 2, 3, 4],\n",
    "               [5, 6, 7, 8],\n",
    "               [9, 10, 11, 12]],\n",
    "              [[11, 12, 13, 14],\n",
    "               [15, 16, 17, 18],\n",
    "               [19, 20, 21, 22]]])\n",
    "d"
   ]
  },
  {
   "cell_type": "code",
   "execution_count": 71,
   "id": "23ab7c1f-ccde-4aca-b099-a0831d1fa9cd",
   "metadata": {},
   "outputs": [
    {
     "data": {
      "text/plain": [
       "(2, 3, 4)"
      ]
     },
     "execution_count": 71,
     "metadata": {},
     "output_type": "execute_result"
    }
   ],
   "source": [
    "len(d), len(d[0]), len(d[0][0])\n",
    "\n",
    "# 소괄호가 생략된 Tuple 형태"
   ]
  },
  {
   "cell_type": "code",
   "execution_count": 72,
   "id": "ff8ff466-8627-420f-8793-d9530dcf472f",
   "metadata": {},
   "outputs": [
    {
     "data": {
      "text/plain": [
       "(2, 3, 4)"
      ]
     },
     "execution_count": 72,
     "metadata": {},
     "output_type": "execute_result"
    }
   ],
   "source": [
    "d.shape"
   ]
  },
  {
   "cell_type": "code",
   "execution_count": null,
   "id": "516c5765-7dad-4dd7-8811-7dbd231f01fe",
   "metadata": {},
   "outputs": [],
   "source": []
  },
  {
   "cell_type": "code",
   "execution_count": null,
   "id": "e28248ce-47e2-45b3-bcd9-a879c6dd4930",
   "metadata": {},
   "outputs": [],
   "source": [
    "## 배열의 차원과 크기"
   ]
  },
  {
   "cell_type": "code",
   "execution_count": 73,
   "id": "1307e663-5496-4a05-81db-9af18168d813",
   "metadata": {},
   "outputs": [
    {
     "name": "stdout",
     "output_type": "stream",
     "text": [
      "1\n",
      "(3,)\n"
     ]
    }
   ],
   "source": [
    "a = np.array([1, 2, 3])\n",
    "print(a.ndim)  # 차원 출력\n",
    "print(a.shape)"
   ]
  },
  {
   "cell_type": "code",
   "execution_count": 74,
   "id": "f554c974-3a3e-4f46-a520-dbcba7a30f2b",
   "metadata": {},
   "outputs": [
    {
     "name": "stdout",
     "output_type": "stream",
     "text": [
      "2\n",
      "(2, 3)\n"
     ]
    }
   ],
   "source": [
    "c = np.array([[0, 1, 2], [3, 4, 5]])\n",
    "print(c.ndim)\n",
    "print(c.shape)"
   ]
  },
  {
   "cell_type": "code",
   "execution_count": 75,
   "id": "fc88ce6f-80fb-47a0-a4c5-6e62522ba072",
   "metadata": {},
   "outputs": [
    {
     "name": "stdout",
     "output_type": "stream",
     "text": [
      "3\n",
      "(2, 3, 4)\n"
     ]
    }
   ],
   "source": [
    "print(d.ndim)\n",
    "print(d.shape)"
   ]
  },
  {
   "cell_type": "code",
   "execution_count": null,
   "id": "f63e73e0-1d9c-4186-9876-4b8f93ebf249",
   "metadata": {},
   "outputs": [],
   "source": []
  },
  {
   "cell_type": "code",
   "execution_count": 76,
   "id": "9f5f8006-7afa-4722-ab80-4ebf978bbf12",
   "metadata": {},
   "outputs": [],
   "source": [
    "## 배열의 인덱싱"
   ]
  },
  {
   "cell_type": "code",
   "execution_count": 82,
   "id": "0daed669-b377-4da2-b5bb-b484b0b03437",
   "metadata": {},
   "outputs": [
    {
     "data": {
      "text/plain": [
       "array([0, 1, 2, 3, 4])"
      ]
     },
     "execution_count": 82,
     "metadata": {},
     "output_type": "execute_result"
    }
   ],
   "source": [
    "a = np.array([0, 1, 2, 3, 4])\n",
    "a"
   ]
  },
  {
   "cell_type": "code",
   "execution_count": 81,
   "id": "6feffb8d-6b34-416a-869f-b5d772259d4c",
   "metadata": {},
   "outputs": [
    {
     "name": "stdout",
     "output_type": "stream",
     "text": [
      "2\n",
      "4\n"
     ]
    }
   ],
   "source": [
    "print(a[2])\n",
    "print(a[-1])"
   ]
  },
  {
   "cell_type": "code",
   "execution_count": null,
   "id": "6d5a3a41-5992-4fbd-8cd7-6ae94ccf35c8",
   "metadata": {},
   "outputs": [],
   "source": []
  },
  {
   "cell_type": "code",
   "execution_count": 84,
   "id": "df3a7e01-3f4c-4694-ad6a-a8a184de7591",
   "metadata": {},
   "outputs": [],
   "source": [
    "test = [[1, 2, 3, 4], [5, 6, 7, 8]]"
   ]
  },
  {
   "cell_type": "code",
   "execution_count": 87,
   "id": "9dae47ad-cd9a-453f-ae50-756a5db52abf",
   "metadata": {},
   "outputs": [
    {
     "data": {
      "text/plain": [
       "6"
      ]
     },
     "execution_count": 87,
     "metadata": {},
     "output_type": "execute_result"
    }
   ],
   "source": [
    "test[1][1]  # List 인덱싱\n",
    "\n",
    "# Q. 그러면 ndarray는?"
   ]
  },
  {
   "cell_type": "code",
   "execution_count": null,
   "id": "2e56bb60-63c3-41da-becf-756ddce3a5e2",
   "metadata": {},
   "outputs": [],
   "source": []
  },
  {
   "cell_type": "code",
   "execution_count": 83,
   "id": "3baa85aa-018a-4a66-adc2-e73787507814",
   "metadata": {},
   "outputs": [
    {
     "data": {
      "text/plain": [
       "array([[0, 1, 2],\n",
       "       [3, 4, 5]])"
      ]
     },
     "execution_count": 83,
     "metadata": {},
     "output_type": "execute_result"
    }
   ],
   "source": [
    "a = np.array([[0, 1, 2], [3, 4, 5]])\n",
    "a"
   ]
  },
  {
   "cell_type": "code",
   "execution_count": 94,
   "id": "98c975f9-b3ec-421a-85c1-cd47f94a2ca4",
   "metadata": {},
   "outputs": [
    {
     "name": "stdout",
     "output_type": "stream",
     "text": [
      "(2, 3)\n",
      "2\n"
     ]
    }
   ],
   "source": [
    "print(a.shape)\n",
    "print(a.ndim)"
   ]
  },
  {
   "cell_type": "code",
   "execution_count": 90,
   "id": "8b8d4f9f-e2d0-4eb1-b8a7-f4efa05e0dbf",
   "metadata": {},
   "outputs": [
    {
     "data": {
      "text/plain": [
       "0"
      ]
     },
     "execution_count": 90,
     "metadata": {},
     "output_type": "execute_result"
    }
   ],
   "source": [
    "a[0, 0]  # 콤마(,) 이용"
   ]
  },
  {
   "cell_type": "code",
   "execution_count": 91,
   "id": "e64f4e5d-4b1a-4826-9540-bfc3a75bef1a",
   "metadata": {},
   "outputs": [
    {
     "data": {
      "text/plain": [
       "5"
      ]
     },
     "execution_count": 91,
     "metadata": {},
     "output_type": "execute_result"
    }
   ],
   "source": [
    "a[1, 2]"
   ]
  },
  {
   "cell_type": "code",
   "execution_count": 92,
   "id": "c021b13f-b756-4394-8270-d69774ecb105",
   "metadata": {},
   "outputs": [
    {
     "data": {
      "text/plain": [
       "5"
      ]
     },
     "execution_count": 92,
     "metadata": {},
     "output_type": "execute_result"
    }
   ],
   "source": [
    "a[-1, -1]"
   ]
  },
  {
   "cell_type": "code",
   "execution_count": null,
   "id": "c9c5f34c-05ba-4496-9f3f-4d05daebe914",
   "metadata": {},
   "outputs": [],
   "source": []
  },
  {
   "cell_type": "code",
   "execution_count": 95,
   "id": "9c76575d-a284-447b-adcf-4953cc848042",
   "metadata": {},
   "outputs": [],
   "source": [
    "## 배열의 슬라이싱"
   ]
  },
  {
   "cell_type": "code",
   "execution_count": 96,
   "id": "8ad76057-4a06-4c49-b366-36b2f04f89a6",
   "metadata": {},
   "outputs": [],
   "source": [
    "a = [[1, 2, 3, 4], [5, 6, 7, 8]]  # List"
   ]
  },
  {
   "cell_type": "code",
   "execution_count": 98,
   "id": "f2822afa-3a14-4395-8bdd-cfa5741aa87d",
   "metadata": {},
   "outputs": [
    {
     "data": {
      "text/plain": [
       "[1, 2, 3]"
      ]
     },
     "execution_count": 98,
     "metadata": {},
     "output_type": "execute_result"
    }
   ],
   "source": [
    "a[0][:3]"
   ]
  },
  {
   "cell_type": "code",
   "execution_count": null,
   "id": "d4ca47a6-2b72-4366-adb6-e828dd59a6ad",
   "metadata": {},
   "outputs": [],
   "source": []
  },
  {
   "cell_type": "code",
   "execution_count": 99,
   "id": "4e7949c5-50b7-4095-affd-0e936c7af8c3",
   "metadata": {},
   "outputs": [
    {
     "data": {
      "text/plain": [
       "array([[0, 1, 2, 3],\n",
       "       [4, 5, 6, 7]])"
      ]
     },
     "execution_count": 99,
     "metadata": {},
     "output_type": "execute_result"
    }
   ],
   "source": [
    "a = np.array([[0, 1, 2, 3], [4, 5, 6, 7]])\n",
    "a"
   ]
  },
  {
   "cell_type": "code",
   "execution_count": 100,
   "id": "43a0d1ea-5c2a-47d7-8a50-bfbc4bb194cb",
   "metadata": {},
   "outputs": [
    {
     "data": {
      "text/plain": [
       "array([0, 1, 2, 3])"
      ]
     },
     "execution_count": 100,
     "metadata": {},
     "output_type": "execute_result"
    }
   ],
   "source": [
    "a[0, :]"
   ]
  },
  {
   "cell_type": "code",
   "execution_count": 102,
   "id": "9b4fe66d-459e-4788-a46d-b2be9925a775",
   "metadata": {},
   "outputs": [
    {
     "data": {
      "text/plain": [
       "array([1, 5])"
      ]
     },
     "execution_count": 102,
     "metadata": {},
     "output_type": "execute_result"
    }
   ],
   "source": [
    "a[:, 1]"
   ]
  },
  {
   "cell_type": "code",
   "execution_count": 103,
   "id": "8ef495f5-d74e-491e-91db-6d73a633fad3",
   "metadata": {},
   "outputs": [
    {
     "data": {
      "text/plain": [
       "array([5, 6, 7])"
      ]
     },
     "execution_count": 103,
     "metadata": {},
     "output_type": "execute_result"
    }
   ],
   "source": [
    "a[1, 1:]"
   ]
  },
  {
   "cell_type": "code",
   "execution_count": 104,
   "id": "82f92924-b6b2-4f48-9b25-d89ba85772f6",
   "metadata": {},
   "outputs": [
    {
     "data": {
      "text/plain": [
       "array([[0, 1],\n",
       "       [4, 5]])"
      ]
     },
     "execution_count": 104,
     "metadata": {},
     "output_type": "execute_result"
    }
   ],
   "source": [
    "a[:2, :2]"
   ]
  },
  {
   "cell_type": "code",
   "execution_count": null,
   "id": "43a8c90f-02fe-4db0-8ee2-ea34e89a0cc6",
   "metadata": {},
   "outputs": [],
   "source": []
  },
  {
   "cell_type": "code",
   "execution_count": 105,
   "id": "5f5dc31a-9eac-43e0-b0b9-42513bf32de6",
   "metadata": {},
   "outputs": [],
   "source": [
    "# Q2.\n",
    "m = np.array([[0, 1, 2, 3, 4],\n",
    "              [5, 6, 7, 8, 9],\n",
    "              [10, 11, 12, 13, 14]])"
   ]
  },
  {
   "cell_type": "code",
   "execution_count": 107,
   "id": "a9ea54bf-c895-47b6-850f-0a016385de8a",
   "metadata": {},
   "outputs": [
    {
     "name": "stdout",
     "output_type": "stream",
     "text": [
      "(3, 5)\n",
      "2\n"
     ]
    }
   ],
   "source": [
    "print(m.shape)\n",
    "print(m.ndim)"
   ]
  },
  {
   "cell_type": "code",
   "execution_count": 108,
   "id": "5f6f9451-3de4-4c0b-9361-03c8cfbcfd31",
   "metadata": {},
   "outputs": [
    {
     "data": {
      "text/plain": [
       "7"
      ]
     },
     "execution_count": 108,
     "metadata": {},
     "output_type": "execute_result"
    }
   ],
   "source": [
    "m[1, 2]"
   ]
  },
  {
   "cell_type": "code",
   "execution_count": 109,
   "id": "4e384d92-afa1-4e98-a296-192c4b2dc043",
   "metadata": {},
   "outputs": [
    {
     "data": {
      "text/plain": [
       "14"
      ]
     },
     "execution_count": 109,
     "metadata": {},
     "output_type": "execute_result"
    }
   ],
   "source": [
    "m[2, 4]"
   ]
  },
  {
   "cell_type": "code",
   "execution_count": 110,
   "id": "f880f143-da9c-45ea-a0ed-04c38092fbed",
   "metadata": {},
   "outputs": [
    {
     "data": {
      "text/plain": [
       "array([6, 7])"
      ]
     },
     "execution_count": 110,
     "metadata": {},
     "output_type": "execute_result"
    }
   ],
   "source": [
    "m[1, 1:3]"
   ]
  },
  {
   "cell_type": "code",
   "execution_count": 114,
   "id": "55a5119b-bd29-4b6e-b014-303c2ec3f03f",
   "metadata": {},
   "outputs": [
    {
     "data": {
      "text/plain": [
       "array([ 7, 12])"
      ]
     },
     "execution_count": 114,
     "metadata": {},
     "output_type": "execute_result"
    }
   ],
   "source": [
    "m[1:3, 2]\n",
    "\n",
    "# 7 앞의 여백은 왜 생겼을까?  -> 그냥 함수가 빈칸을 생성하도록 구현되어 있음"
   ]
  },
  {
   "cell_type": "code",
   "execution_count": 112,
   "id": "e3839367-6485-4eb6-b74f-e5ebeb5ba755",
   "metadata": {},
   "outputs": [
    {
     "data": {
      "text/plain": [
       "array([[3, 4],\n",
       "       [8, 9]])"
      ]
     },
     "execution_count": 112,
     "metadata": {},
     "output_type": "execute_result"
    }
   ],
   "source": [
    "m[:2, 3:5]"
   ]
  },
  {
   "cell_type": "code",
   "execution_count": null,
   "id": "8a27c155-4b57-41bc-8a6d-ec70bb619800",
   "metadata": {},
   "outputs": [],
   "source": []
  },
  {
   "cell_type": "code",
   "execution_count": 115,
   "id": "ef40436d-d7a7-4a51-9d56-35ce0a91fd2c",
   "metadata": {},
   "outputs": [],
   "source": [
    "## 배열 생성 - np.zeros() & np.ones()"
   ]
  },
  {
   "cell_type": "code",
   "execution_count": 118,
   "id": "97b3eee1-21bc-4947-a326-62b563efff18",
   "metadata": {},
   "outputs": [
    {
     "data": {
      "text/plain": [
       "array([0., 0., 0., 0., 0.])"
      ]
     },
     "execution_count": 118,
     "metadata": {},
     "output_type": "execute_result"
    }
   ],
   "source": [
    "zeros = np.zeros(5)\n",
    "zeros  # 0으로 구성된 배열"
   ]
  },
  {
   "cell_type": "code",
   "execution_count": 119,
   "id": "f915344d-edbf-4d64-b6d3-ec8e6cf98ac9",
   "metadata": {},
   "outputs": [
    {
     "data": {
      "text/plain": [
       "array([[0, 0],\n",
       "       [0, 0],\n",
       "       [0, 0],\n",
       "       [0, 0],\n",
       "       [0, 0]], dtype=int32)"
      ]
     },
     "execution_count": 119,
     "metadata": {},
     "output_type": "execute_result"
    }
   ],
   "source": [
    "c = np.zeros((5, 2), dtype = \"i\")  # i = integer\n",
    "c\n",
    "\n",
    "# dtype 인자를 통해 자료형을 바꿔줄 수도 있음"
   ]
  },
  {
   "cell_type": "code",
   "execution_count": 120,
   "id": "4b05c9ae-49ed-4fbf-beac-290828676ade",
   "metadata": {},
   "outputs": [
    {
     "data": {
      "text/plain": [
       "dtype('int32')"
      ]
     },
     "execution_count": 120,
     "metadata": {},
     "output_type": "execute_result"
    }
   ],
   "source": [
    "c.dtype"
   ]
  },
  {
   "cell_type": "code",
   "execution_count": 121,
   "id": "9f4e85d2-2e95-4afa-935d-8e3ac1f58376",
   "metadata": {},
   "outputs": [
    {
     "data": {
      "text/plain": [
       "(5, 2)"
      ]
     },
     "execution_count": 121,
     "metadata": {},
     "output_type": "execute_result"
    }
   ],
   "source": [
    "c.shape"
   ]
  },
  {
   "cell_type": "code",
   "execution_count": null,
   "id": "71ddd449-856c-4919-be24-bf19db28e452",
   "metadata": {},
   "outputs": [],
   "source": []
  },
  {
   "cell_type": "code",
   "execution_count": 122,
   "id": "01370574-73c9-4322-b65f-4fd736f0d81a",
   "metadata": {},
   "outputs": [
    {
     "data": {
      "text/plain": [
       "array(['', '', '', '', ''], dtype='<U4')"
      ]
     },
     "execution_count": 122,
     "metadata": {},
     "output_type": "execute_result"
    }
   ],
   "source": [
    "d = np.zeros(5, dtype = \"U4\")\n",
    "d"
   ]
  },
  {
   "cell_type": "code",
   "execution_count": 124,
   "id": "08e5102e-ced4-4cd6-8e94-8794a466278f",
   "metadata": {},
   "outputs": [
    {
     "data": {
      "text/plain": [
       "array(['abc', 'abcd', 'ABCD', '', ''], dtype='<U4')"
      ]
     },
     "execution_count": 124,
     "metadata": {},
     "output_type": "execute_result"
    }
   ],
   "source": [
    "d[0] = \"abc\"\n",
    "d[1] = \"abcd\"\n",
    "d[2] = \"ABCDE\"  # U4로 공간 제약을 두었으므로 E가 짤림\n",
    "d"
   ]
  },
  {
   "cell_type": "code",
   "execution_count": null,
   "id": "ff1dc80b-e709-41f0-94dd-3d4b4e974bae",
   "metadata": {},
   "outputs": [],
   "source": []
  },
  {
   "cell_type": "code",
   "execution_count": 125,
   "id": "9f79db05-9b02-4662-8f76-97be4fa0bc08",
   "metadata": {},
   "outputs": [
    {
     "data": {
      "text/plain": [
       "array([[[1, 1, 1, 1],\n",
       "        [1, 1, 1, 1],\n",
       "        [1, 1, 1, 1]],\n",
       "\n",
       "       [[1, 1, 1, 1],\n",
       "        [1, 1, 1, 1],\n",
       "        [1, 1, 1, 1]]], dtype=int64)"
      ]
     },
     "execution_count": 125,
     "metadata": {},
     "output_type": "execute_result"
    }
   ],
   "source": [
    "e = np.ones((2, 3, 4), dtype = \"i8\")  # 1로 구성된 배열\n",
    "e"
   ]
  },
  {
   "cell_type": "code",
   "execution_count": 127,
   "id": "b6df9fe0-972b-457b-a4e5-65d62032663f",
   "metadata": {},
   "outputs": [
    {
     "data": {
      "text/plain": [
       "array([[[1., 1., 1., 1.],\n",
       "        [1., 1., 1., 1.],\n",
       "        [1., 1., 1., 1.]],\n",
       "\n",
       "       [[1., 1., 1., 1.],\n",
       "        [1., 1., 1., 1.],\n",
       "        [1., 1., 1., 1.]]])"
      ]
     },
     "execution_count": 127,
     "metadata": {},
     "output_type": "execute_result"
    }
   ],
   "source": [
    "np.ones((2, 3, 4))"
   ]
  },
  {
   "cell_type": "code",
   "execution_count": 126,
   "id": "5c66bcfc-20b0-4126-8c58-bced3a5e1f20",
   "metadata": {},
   "outputs": [
    {
     "data": {
      "text/plain": [
       "dtype('float64')"
      ]
     },
     "execution_count": 126,
     "metadata": {},
     "output_type": "execute_result"
    }
   ],
   "source": [
    "np.ones((2, 3, 4)).dtype"
   ]
  },
  {
   "cell_type": "code",
   "execution_count": null,
   "id": "4389e673-726e-405f-a08e-3d5219f8f045",
   "metadata": {},
   "outputs": [],
   "source": []
  },
  {
   "cell_type": "code",
   "execution_count": null,
   "id": "2b017a62-5388-416f-ac44-fe63cf269990",
   "metadata": {},
   "outputs": [],
   "source": [
    "# _like"
   ]
  },
  {
   "cell_type": "code",
   "execution_count": 128,
   "id": "6f4f4cae-8185-43fb-90e9-a19a74243e82",
   "metadata": {},
   "outputs": [],
   "source": [
    "test = np.array([10, 20, 22])"
   ]
  },
  {
   "cell_type": "code",
   "execution_count": 129,
   "id": "2e3d93a4-c70e-4ec7-928a-2926869784f1",
   "metadata": {},
   "outputs": [
    {
     "data": {
      "text/plain": [
       "array([1., 1., 1.], dtype=float32)"
      ]
     },
     "execution_count": 129,
     "metadata": {},
     "output_type": "execute_result"
    }
   ],
   "source": [
    "np.ones_like(test, dtype = \"f\")"
   ]
  },
  {
   "cell_type": "code",
   "execution_count": 130,
   "id": "7c896641-9f82-4c04-a6ab-5dea64caf163",
   "metadata": {},
   "outputs": [
    {
     "data": {
      "text/plain": [
       "array([0., 0., 0.], dtype=float32)"
      ]
     },
     "execution_count": 130,
     "metadata": {},
     "output_type": "execute_result"
    }
   ],
   "source": [
    "np.zeros_like(test, dtype = \"f\")"
   ]
  },
  {
   "cell_type": "code",
   "execution_count": null,
   "id": "a18df171-4b49-4a07-9a7f-12f276d0ed2e",
   "metadata": {},
   "outputs": [],
   "source": []
  },
  {
   "cell_type": "code",
   "execution_count": 131,
   "id": "d5894865-d7b8-4319-9f33-279cdf7108ee",
   "metadata": {},
   "outputs": [],
   "source": [
    "# np.empty()"
   ]
  },
  {
   "cell_type": "code",
   "execution_count": 132,
   "id": "093f0e38-3ffb-46e7-95b2-4fd0d8b4341d",
   "metadata": {},
   "outputs": [
    {
     "data": {
      "text/plain": [
       "array([[9.37838115e-312, 2.86558075e-322, 0.00000000e+000],\n",
       "       [0.00000000e+000, 1.06099790e-312, 2.92966904e-033],\n",
       "       [4.95818140e-090, 5.79795804e+170, 1.55216537e+184],\n",
       "       [3.31259123e-033, 6.48224659e+170, 5.82471487e+257]])"
      ]
     },
     "execution_count": 132,
     "metadata": {},
     "output_type": "execute_result"
    }
   ],
   "source": [
    "g = np.empty((4, 3))\n",
    "g"
   ]
  },
  {
   "cell_type": "code",
   "execution_count": 133,
   "id": "8ef14210-8c28-49f1-9ac5-57293300233b",
   "metadata": {},
   "outputs": [],
   "source": [
    "# 데이터 형태(모양)만 잡고, 값은 임의로 가져오는 것"
   ]
  },
  {
   "cell_type": "code",
   "execution_count": null,
   "id": "012a35ee-c993-4295-a28d-b47288272640",
   "metadata": {},
   "outputs": [],
   "source": []
  },
  {
   "cell_type": "code",
   "execution_count": 134,
   "id": "ef6a8525-075b-489a-a7ea-3ae5f0699cb3",
   "metadata": {},
   "outputs": [],
   "source": [
    "## np.arange()"
   ]
  },
  {
   "cell_type": "code",
   "execution_count": 135,
   "id": "d2c64dee-4804-4043-a6fc-dbf996f61d7c",
   "metadata": {},
   "outputs": [
    {
     "data": {
      "text/plain": [
       "array([0, 1, 2, 3, 4, 5, 6, 7, 8, 9])"
      ]
     },
     "execution_count": 135,
     "metadata": {},
     "output_type": "execute_result"
    }
   ],
   "source": [
    "np.arange(10)"
   ]
  },
  {
   "cell_type": "code",
   "execution_count": 136,
   "id": "735a58fc-7cd6-4805-9e99-948e64856187",
   "metadata": {},
   "outputs": [
    {
     "data": {
      "text/plain": [
       "array([ 3,  5,  7,  9, 11, 13, 15, 17, 19])"
      ]
     },
     "execution_count": 136,
     "metadata": {},
     "output_type": "execute_result"
    }
   ],
   "source": [
    "np.arange(3, 21, 2)"
   ]
  },
  {
   "cell_type": "code",
   "execution_count": 137,
   "id": "e25febf2-d9c3-4986-aeed-aafd06770916",
   "metadata": {},
   "outputs": [],
   "source": [
    "# NumPy 버전의 range명령"
   ]
  },
  {
   "cell_type": "code",
   "execution_count": null,
   "id": "99578628-bfea-49f1-afb1-9dee95e2f0d5",
   "metadata": {},
   "outputs": [],
   "source": []
  },
  {
   "cell_type": "code",
   "execution_count": 138,
   "id": "0e0fa65e-e93e-4065-8546-11dee72882a3",
   "metadata": {},
   "outputs": [],
   "source": [
    "## linspace, logspace"
   ]
  },
  {
   "cell_type": "code",
   "execution_count": 139,
   "id": "7f3dc523-ac4b-4946-be64-783580232171",
   "metadata": {},
   "outputs": [
    {
     "data": {
      "text/plain": [
       "array([  0.,  25.,  50.,  75., 100.])"
      ]
     },
     "execution_count": 139,
     "metadata": {},
     "output_type": "execute_result"
    }
   ],
   "source": [
    "ex = np.linspace(0, 100, 5)\n",
    "ex\n",
    "\n",
    "# Linear한 등간격"
   ]
  },
  {
   "cell_type": "code",
   "execution_count": 140,
   "id": "222bfae6-14a4-4c7f-b60a-a91666a2e266",
   "metadata": {},
   "outputs": [
    {
     "data": {
      "text/plain": [
       "array([1.e+000, 1.e+025, 1.e+050, 1.e+075, 1.e+100])"
      ]
     },
     "execution_count": 140,
     "metadata": {},
     "output_type": "execute_result"
    }
   ],
   "source": [
    "ex2 = np.logspace(0, 100, 5)\n",
    "ex2\n",
    "\n",
    "# 로그 간격"
   ]
  },
  {
   "cell_type": "code",
   "execution_count": 141,
   "id": "3fbb0f50-e033-4944-8cd6-ad3bce475a25",
   "metadata": {},
   "outputs": [],
   "source": [
    "# 그래프 그릴 때 범위를 쉽게 지정할 수 있음"
   ]
  },
  {
   "cell_type": "code",
   "execution_count": null,
   "id": "e52e7d58-9d24-4fe8-89c0-4f65a88bb694",
   "metadata": {},
   "outputs": [],
   "source": []
  },
  {
   "cell_type": "code",
   "execution_count": null,
   "id": "045c751c-835d-4157-a902-a575b00a9542",
   "metadata": {},
   "outputs": [],
   "source": []
  },
  {
   "cell_type": "code",
   "execution_count": 144,
   "id": "5afb4473-9575-4157-96d3-00988c85e2d9",
   "metadata": {},
   "outputs": [],
   "source": [
    "##### 전치 연산 - 행과 열 바꿈"
   ]
  },
  {
   "cell_type": "code",
   "execution_count": 145,
   "id": "f8271f1d-ccbb-4aef-8e9a-8b61bc8d40bb",
   "metadata": {},
   "outputs": [
    {
     "data": {
      "text/plain": [
       "array([[1, 2, 3],\n",
       "       [4, 5, 6]])"
      ]
     },
     "execution_count": 145,
     "metadata": {},
     "output_type": "execute_result"
    }
   ],
   "source": [
    "A = np.array([[1, 2, 3], [4, 5, 6]])\n",
    "A"
   ]
  },
  {
   "cell_type": "code",
   "execution_count": 147,
   "id": "dfb24022-edb0-4e72-a05b-b9a709176232",
   "metadata": {},
   "outputs": [
    {
     "data": {
      "text/plain": [
       "(2, 3)"
      ]
     },
     "execution_count": 147,
     "metadata": {},
     "output_type": "execute_result"
    }
   ],
   "source": [
    "A.shape"
   ]
  },
  {
   "cell_type": "code",
   "execution_count": 146,
   "id": "a4d97a14-d75b-4eda-8790-491352b73fdd",
   "metadata": {},
   "outputs": [
    {
     "data": {
      "text/plain": [
       "array([[1, 4],\n",
       "       [2, 5],\n",
       "       [3, 6]])"
      ]
     },
     "execution_count": 146,
     "metadata": {},
     "output_type": "execute_result"
    }
   ],
   "source": [
    "A.T"
   ]
  },
  {
   "cell_type": "code",
   "execution_count": 148,
   "id": "67ff979d-5293-43e3-ad00-d250f7f6a248",
   "metadata": {},
   "outputs": [
    {
     "data": {
      "text/plain": [
       "(3, 2)"
      ]
     },
     "execution_count": 148,
     "metadata": {},
     "output_type": "execute_result"
    }
   ],
   "source": [
    "A.T.shape"
   ]
  },
  {
   "cell_type": "code",
   "execution_count": null,
   "id": "3fd6a659-f9f6-4b9e-ba43-faf139d58246",
   "metadata": {},
   "outputs": [],
   "source": []
  },
  {
   "cell_type": "code",
   "execution_count": 150,
   "id": "0901709c-7e9d-4ae0-9431-e58e4fd0dbf6",
   "metadata": {},
   "outputs": [
    {
     "data": {
      "text/plain": [
       "array([ 0,  1,  2,  3,  4,  5,  6,  7,  8,  9, 10, 11])"
      ]
     },
     "execution_count": 150,
     "metadata": {},
     "output_type": "execute_result"
    }
   ],
   "source": [
    "a = np.arange(12)\n",
    "a"
   ]
  },
  {
   "cell_type": "code",
   "execution_count": 153,
   "id": "632b1371-24b3-4333-82ee-b9e146a4cedf",
   "metadata": {},
   "outputs": [
    {
     "data": {
      "text/plain": [
       "(12,)"
      ]
     },
     "execution_count": 153,
     "metadata": {},
     "output_type": "execute_result"
    }
   ],
   "source": [
    "a.shape"
   ]
  },
  {
   "cell_type": "code",
   "execution_count": 151,
   "id": "911690a2-1eaf-47f1-93ee-b84e5ee814ac",
   "metadata": {},
   "outputs": [
    {
     "data": {
      "text/plain": [
       "array([[ 0,  1,  2,  3],\n",
       "       [ 4,  5,  6,  7],\n",
       "       [ 8,  9, 10, 11]])"
      ]
     },
     "execution_count": 151,
     "metadata": {},
     "output_type": "execute_result"
    }
   ],
   "source": [
    "b = a.reshape(3, 4)\n",
    "b"
   ]
  },
  {
   "cell_type": "code",
   "execution_count": 152,
   "id": "6bbd1475-dc64-4fd9-8219-39a2db79fae0",
   "metadata": {},
   "outputs": [
    {
     "data": {
      "text/plain": [
       "(3, 4)"
      ]
     },
     "execution_count": 152,
     "metadata": {},
     "output_type": "execute_result"
    }
   ],
   "source": [
    "b.shape"
   ]
  },
  {
   "cell_type": "code",
   "execution_count": null,
   "id": "cbeff1ad-9cca-4fd8-bfcc-1c74d83935eb",
   "metadata": {},
   "outputs": [],
   "source": []
  },
  {
   "cell_type": "code",
   "execution_count": 154,
   "id": "11572e7f-983f-4c65-8403-de8d8638d456",
   "metadata": {},
   "outputs": [
    {
     "data": {
      "text/plain": [
       "array([[ 0,  1,  2,  3],\n",
       "       [ 4,  5,  6,  7],\n",
       "       [ 8,  9, 10, 11]])"
      ]
     },
     "execution_count": 154,
     "metadata": {},
     "output_type": "execute_result"
    }
   ],
   "source": [
    "a.reshape(3, -1)"
   ]
  },
  {
   "cell_type": "code",
   "execution_count": 155,
   "id": "8656a244-868b-4dd6-a8bd-232eeed6da9f",
   "metadata": {},
   "outputs": [
    {
     "data": {
      "text/plain": [
       "(2, 3, 2)"
      ]
     },
     "execution_count": 155,
     "metadata": {},
     "output_type": "execute_result"
    }
   ],
   "source": [
    "a.reshape(2, -1, 2).shape"
   ]
  },
  {
   "cell_type": "code",
   "execution_count": 156,
   "id": "08e74209-7718-486e-bd7c-80314a4d4d55",
   "metadata": {},
   "outputs": [
    {
     "data": {
      "text/plain": [
       "array([[[ 0,  1,  2],\n",
       "        [ 3,  4,  5]],\n",
       "\n",
       "       [[ 6,  7,  8],\n",
       "        [ 9, 10, 11]]])"
      ]
     },
     "execution_count": 156,
     "metadata": {},
     "output_type": "execute_result"
    }
   ],
   "source": [
    "a.reshape(2, 2, -1)"
   ]
  },
  {
   "cell_type": "code",
   "execution_count": 157,
   "id": "ab720d4d-37ad-494e-93da-08ed6c3a7eec",
   "metadata": {},
   "outputs": [
    {
     "ename": "ValueError",
     "evalue": "cannot reshape array of size 12 into shape (7,1)",
     "output_type": "error",
     "traceback": [
      "\u001b[1;31m---------------------------------------------------------------------------\u001b[0m",
      "\u001b[1;31mValueError\u001b[0m                                Traceback (most recent call last)",
      "\u001b[1;32m~\\AppData\\Local\\Temp\\ipykernel_12760\\848631988.py\u001b[0m in \u001b[0;36m<module>\u001b[1;34m\u001b[0m\n\u001b[1;32m----> 1\u001b[1;33m \u001b[0ma\u001b[0m\u001b[1;33m.\u001b[0m\u001b[0mreshape\u001b[0m\u001b[1;33m(\u001b[0m\u001b[1;36m7\u001b[0m\u001b[1;33m,\u001b[0m \u001b[1;36m1\u001b[0m\u001b[1;33m)\u001b[0m\u001b[1;33m\u001b[0m\u001b[1;33m\u001b[0m\u001b[0m\n\u001b[0m",
      "\u001b[1;31mValueError\u001b[0m: cannot reshape array of size 12 into shape (7,1)"
     ]
    }
   ],
   "source": [
    "a.reshape(7, 1)\n",
    "# 원래 길이를 나누어 떨어지게 할 수 있는 숫자만 자동 적용 가능"
   ]
  },
  {
   "cell_type": "code",
   "execution_count": null,
   "id": "a3243c7f-1d42-4779-bcc0-c37a3dfdc96d",
   "metadata": {},
   "outputs": [],
   "source": []
  },
  {
   "cell_type": "code",
   "execution_count": null,
   "id": "6c1c9923-f902-468c-af79-6dee9a2369bc",
   "metadata": {},
   "outputs": [],
   "source": []
  },
  {
   "cell_type": "code",
   "execution_count": 158,
   "id": "dfb268fc-861c-46bb-8acf-02cada29c988",
   "metadata": {},
   "outputs": [],
   "source": [
    "##### 다차원 배열 -> 1차원 배열"
   ]
  },
  {
   "cell_type": "code",
   "execution_count": 159,
   "id": "827c5b80-954c-4747-ad1f-aa33bc95a193",
   "metadata": {},
   "outputs": [
    {
     "data": {
      "text/plain": [
       "array([ 0,  1,  2,  3,  4,  5,  6,  7,  8,  9, 10, 11])"
      ]
     },
     "execution_count": 159,
     "metadata": {},
     "output_type": "execute_result"
    }
   ],
   "source": [
    "a.flatten()"
   ]
  },
  {
   "cell_type": "code",
   "execution_count": 160,
   "id": "883da8c1-07d4-48bf-9c8f-1948bf8253e0",
   "metadata": {},
   "outputs": [
    {
     "data": {
      "text/plain": [
       "array([ 0,  1,  2,  3,  4,  5,  6,  7,  8,  9, 10, 11])"
      ]
     },
     "execution_count": 160,
     "metadata": {},
     "output_type": "execute_result"
    }
   ],
   "source": [
    "a.ravel()"
   ]
  },
  {
   "cell_type": "code",
   "execution_count": null,
   "id": "45d6371d-b7c2-4cb6-845c-504b6c586b11",
   "metadata": {},
   "outputs": [],
   "source": []
  },
  {
   "cell_type": "code",
   "execution_count": 164,
   "id": "476118c1-7bf0-4429-9070-cbdb13317271",
   "metadata": {},
   "outputs": [
    {
     "data": {
      "text/plain": [
       "1898243071120"
      ]
     },
     "execution_count": 164,
     "metadata": {},
     "output_type": "execute_result"
    }
   ],
   "source": [
    "x = np.arange(5)\n",
    "id(x)"
   ]
  },
  {
   "cell_type": "code",
   "execution_count": 166,
   "id": "a90b206f-919c-413d-a191-237f586074c1",
   "metadata": {},
   "outputs": [
    {
     "data": {
      "text/plain": [
       "array([0, 1, 2, 3, 4])"
      ]
     },
     "execution_count": 166,
     "metadata": {},
     "output_type": "execute_result"
    }
   ],
   "source": [
    "x"
   ]
  },
  {
   "cell_type": "code",
   "execution_count": 167,
   "id": "f212a5e0-a187-4e63-a795-472e1e9794b3",
   "metadata": {},
   "outputs": [
    {
     "data": {
      "text/plain": [
       "1898243069008"
      ]
     },
     "execution_count": 167,
     "metadata": {},
     "output_type": "execute_result"
    }
   ],
   "source": [
    "x = x.reshape(1, 5)\n",
    "id(x)"
   ]
  },
  {
   "cell_type": "code",
   "execution_count": 168,
   "id": "14aa63d3-9103-4221-8731-4763a623f90e",
   "metadata": {},
   "outputs": [
    {
     "data": {
      "text/plain": [
       "array([[0, 1, 2, 3, 4]])"
      ]
     },
     "execution_count": 168,
     "metadata": {},
     "output_type": "execute_result"
    }
   ],
   "source": [
    "x"
   ]
  },
  {
   "cell_type": "code",
   "execution_count": null,
   "id": "8eb5aa59-3a58-4942-9d1c-83a171476dc4",
   "metadata": {},
   "outputs": [],
   "source": [
    "# 배열이 같더라도 엄연히 다른 객체임!!\n",
    "# id(x)를 통해 살펴봄"
   ]
  },
  {
   "cell_type": "code",
   "execution_count": null,
   "id": "fdef19b6-e5d2-4f2c-8727-494e0c85b1b7",
   "metadata": {},
   "outputs": [],
   "source": []
  },
  {
   "cell_type": "code",
   "execution_count": 169,
   "id": "2fd90a29-f741-478b-8ee9-805f2bae4369",
   "metadata": {},
   "outputs": [
    {
     "data": {
      "text/plain": [
       "array([[[0, 1, 2, 3, 4]]])"
      ]
     },
     "execution_count": 169,
     "metadata": {},
     "output_type": "execute_result"
    }
   ],
   "source": [
    "x[:, np.newaxis]"
   ]
  },
  {
   "cell_type": "code",
   "execution_count": null,
   "id": "87c176b4-89c3-49a3-83d7-6190a8b675f5",
   "metadata": {},
   "outputs": [],
   "source": []
  },
  {
   "cell_type": "code",
   "execution_count": 170,
   "id": "d2750302-e87f-40f9-8a5e-20d75268a844",
   "metadata": {},
   "outputs": [],
   "source": [
    "### 배열 연결"
   ]
  },
  {
   "cell_type": "code",
   "execution_count": null,
   "id": "7f85aff5-d9d6-4614-9f73-4e572fdd5b6b",
   "metadata": {},
   "outputs": [],
   "source": [
    "## hstack()"
   ]
  },
  {
   "cell_type": "code",
   "execution_count": 171,
   "id": "639fd141-60c6-45d7-848d-ab1a8930ba4a",
   "metadata": {},
   "outputs": [
    {
     "data": {
      "text/plain": [
       "array([[1., 1., 1.],\n",
       "       [1., 1., 1.]])"
      ]
     },
     "execution_count": 171,
     "metadata": {},
     "output_type": "execute_result"
    }
   ],
   "source": [
    "a1 = np.ones((2, 3))\n",
    "a1"
   ]
  },
  {
   "cell_type": "code",
   "execution_count": 172,
   "id": "dbeb7362-92b7-4524-92f4-ecbcd3c3172c",
   "metadata": {},
   "outputs": [
    {
     "data": {
      "text/plain": [
       "array([[0., 0.],\n",
       "       [0., 0.]])"
      ]
     },
     "execution_count": 172,
     "metadata": {},
     "output_type": "execute_result"
    }
   ],
   "source": [
    "a2 = np.zeros((2, 2))\n",
    "a2"
   ]
  },
  {
   "cell_type": "code",
   "execution_count": 173,
   "id": "c48db3b8-c15e-48bb-bb4c-6b7bd8761425",
   "metadata": {},
   "outputs": [
    {
     "data": {
      "text/plain": [
       "array([[1., 1., 1., 0., 0.],\n",
       "       [1., 1., 1., 0., 0.]])"
      ]
     },
     "execution_count": 173,
     "metadata": {},
     "output_type": "execute_result"
    }
   ],
   "source": [
    "np.hstack([a1, a2])  # 행이 같을 때"
   ]
  },
  {
   "cell_type": "code",
   "execution_count": null,
   "id": "b89bb6ef-11ff-4a28-a6fd-1ab34de405e3",
   "metadata": {},
   "outputs": [],
   "source": []
  },
  {
   "cell_type": "code",
   "execution_count": null,
   "id": "a37b8698-2d02-4b96-91eb-fcc5dd8a143d",
   "metadata": {},
   "outputs": [],
   "source": [
    "## vstack()"
   ]
  },
  {
   "cell_type": "code",
   "execution_count": 174,
   "id": "70475aae-1083-49d7-b75b-f1bcd43bb896",
   "metadata": {},
   "outputs": [
    {
     "data": {
      "text/plain": [
       "array([[1., 1., 1.],\n",
       "       [1., 1., 1.]])"
      ]
     },
     "execution_count": 174,
     "metadata": {},
     "output_type": "execute_result"
    }
   ],
   "source": [
    "b1 = np.ones((2, 3))\n",
    "b1"
   ]
  },
  {
   "cell_type": "code",
   "execution_count": 175,
   "id": "2a515538-77ed-4d31-9e44-fecb7df2ab82",
   "metadata": {},
   "outputs": [
    {
     "data": {
      "text/plain": [
       "array([[0., 0., 0.],\n",
       "       [0., 0., 0.],\n",
       "       [0., 0., 0.]])"
      ]
     },
     "execution_count": 175,
     "metadata": {},
     "output_type": "execute_result"
    }
   ],
   "source": [
    "b2 = np.zeros((3, 3))\n",
    "b2"
   ]
  },
  {
   "cell_type": "code",
   "execution_count": 178,
   "id": "62d9d124-1919-475a-a3da-a64f6c2bb26d",
   "metadata": {},
   "outputs": [
    {
     "data": {
      "text/plain": [
       "array([[1., 1., 1.],\n",
       "       [1., 1., 1.],\n",
       "       [0., 0., 0.],\n",
       "       [0., 0., 0.],\n",
       "       [0., 0., 0.]])"
      ]
     },
     "execution_count": 178,
     "metadata": {},
     "output_type": "execute_result"
    }
   ],
   "source": [
    "np.vstack([b1, b2])"
   ]
  },
  {
   "cell_type": "code",
   "execution_count": null,
   "id": "b5b5981a-7be7-4018-bbcb-2efd28795f31",
   "metadata": {},
   "outputs": [],
   "source": []
  },
  {
   "cell_type": "code",
   "execution_count": 179,
   "id": "72163aa3-699e-4f3a-8cef-e80307856161",
   "metadata": {},
   "outputs": [],
   "source": [
    "## dstack()"
   ]
  },
  {
   "cell_type": "code",
   "execution_count": 180,
   "id": "d4de568c-c0f9-459b-8ba2-d82fa2da9aec",
   "metadata": {},
   "outputs": [
    {
     "data": {
      "text/plain": [
       "array([[1., 1., 1., 1.],\n",
       "       [1., 1., 1., 1.],\n",
       "       [1., 1., 1., 1.]])"
      ]
     },
     "execution_count": 180,
     "metadata": {},
     "output_type": "execute_result"
    }
   ],
   "source": [
    "c1 = np.ones((3, 4))\n",
    "c1"
   ]
  },
  {
   "cell_type": "code",
   "execution_count": 181,
   "id": "b9905579-2bde-42de-a04d-073ed8335c9d",
   "metadata": {},
   "outputs": [
    {
     "data": {
      "text/plain": [
       "array([[0., 0., 0., 0.],\n",
       "       [0., 0., 0., 0.],\n",
       "       [0., 0., 0., 0.]])"
      ]
     },
     "execution_count": 181,
     "metadata": {},
     "output_type": "execute_result"
    }
   ],
   "source": [
    "c2 = np.zeros((3, 4))\n",
    "c2"
   ]
  },
  {
   "cell_type": "code",
   "execution_count": 182,
   "id": "2b90fe46-ff47-404b-8e38-773ba67481fc",
   "metadata": {},
   "outputs": [
    {
     "data": {
      "text/plain": [
       "array([[[1., 0.],\n",
       "        [1., 0.],\n",
       "        [1., 0.],\n",
       "        [1., 0.]],\n",
       "\n",
       "       [[1., 0.],\n",
       "        [1., 0.],\n",
       "        [1., 0.],\n",
       "        [1., 0.]],\n",
       "\n",
       "       [[1., 0.],\n",
       "        [1., 0.],\n",
       "        [1., 0.],\n",
       "        [1., 0.]]])"
      ]
     },
     "execution_count": 182,
     "metadata": {},
     "output_type": "execute_result"
    }
   ],
   "source": [
    "np.dstack([c1, c2])"
   ]
  },
  {
   "cell_type": "code",
   "execution_count": 183,
   "id": "247c2c95-6a70-489f-8969-6e7a91e2b5bc",
   "metadata": {},
   "outputs": [
    {
     "data": {
      "text/plain": [
       "(3, 4, 2)"
      ]
     },
     "execution_count": 183,
     "metadata": {},
     "output_type": "execute_result"
    }
   ],
   "source": [
    "np.dstack([c1, c2]).shape"
   ]
  },
  {
   "cell_type": "code",
   "execution_count": 184,
   "id": "d1ffe8be-c7ff-442e-8f2c-dc23735a18f4",
   "metadata": {},
   "outputs": [],
   "source": [
    "c3 = np.empty((3, 4))"
   ]
  },
  {
   "cell_type": "code",
   "execution_count": 185,
   "id": "39b10c37-a748-403a-aebb-8fdbff1ffbaa",
   "metadata": {},
   "outputs": [
    {
     "data": {
      "text/plain": [
       "(3, 4, 3)"
      ]
     },
     "execution_count": 185,
     "metadata": {},
     "output_type": "execute_result"
    }
   ],
   "source": [
    "np.dstack([c1, c2, c3]).shape"
   ]
  },
  {
   "cell_type": "code",
   "execution_count": 186,
   "id": "7e20bf08-63fe-469a-a79e-7503d1b0a0da",
   "metadata": {},
   "outputs": [
    {
     "data": {
      "text/plain": [
       "array([[[1., 0., 1.],\n",
       "        [1., 0., 1.],\n",
       "        [1., 0., 1.],\n",
       "        [1., 0., 1.]],\n",
       "\n",
       "       [[1., 0., 1.],\n",
       "        [1., 0., 1.],\n",
       "        [1., 0., 1.],\n",
       "        [1., 0., 1.]],\n",
       "\n",
       "       [[1., 0., 1.],\n",
       "        [1., 0., 1.],\n",
       "        [1., 0., 1.],\n",
       "        [1., 0., 1.]]])"
      ]
     },
     "execution_count": 186,
     "metadata": {},
     "output_type": "execute_result"
    }
   ],
   "source": [
    "np.dstack([c1, c2, c3])"
   ]
  },
  {
   "cell_type": "code",
   "execution_count": 187,
   "id": "1221f2de-2741-4805-ad02-a6413cf5ae64",
   "metadata": {},
   "outputs": [],
   "source": [
    "# 가장 안 쪽 부분(깊이)의 차원을 하나 올리면서 배열함"
   ]
  },
  {
   "cell_type": "code",
   "execution_count": null,
   "id": "701d9e7c-5832-44a8-bb27-3ad67c5501b7",
   "metadata": {},
   "outputs": [],
   "source": []
  },
  {
   "cell_type": "code",
   "execution_count": 188,
   "id": "027d11d6-ce46-4fec-af52-e5e4ff500597",
   "metadata": {},
   "outputs": [],
   "source": [
    "## stack 명령"
   ]
  },
  {
   "cell_type": "code",
   "execution_count": 194,
   "id": "d138070b-b3d0-4495-b203-4083a1f8af32",
   "metadata": {},
   "outputs": [
    {
     "data": {
      "text/plain": [
       "array([[1., 1., 1., 1.],\n",
       "       [1., 1., 1., 1.],\n",
       "       [1., 1., 1., 1.]])"
      ]
     },
     "execution_count": 194,
     "metadata": {},
     "output_type": "execute_result"
    }
   ],
   "source": [
    "c1"
   ]
  },
  {
   "cell_type": "code",
   "execution_count": 195,
   "id": "08b1bf29-9f6b-4ea6-a127-5ce362783c58",
   "metadata": {},
   "outputs": [
    {
     "data": {
      "text/plain": [
       "array([[0., 0., 0., 0.],\n",
       "       [0., 0., 0., 0.],\n",
       "       [0., 0., 0., 0.]])"
      ]
     },
     "execution_count": 195,
     "metadata": {},
     "output_type": "execute_result"
    }
   ],
   "source": [
    "c2"
   ]
  },
  {
   "cell_type": "code",
   "execution_count": 196,
   "id": "386d74e6-ddfb-44e2-8cbf-a9a4f0073d99",
   "metadata": {},
   "outputs": [
    {
     "data": {
      "text/plain": [
       "array([[1., 1., 1., 1.],\n",
       "       [1., 1., 1., 1.],\n",
       "       [1., 1., 1., 1.]])"
      ]
     },
     "execution_count": 196,
     "metadata": {},
     "output_type": "execute_result"
    }
   ],
   "source": [
    "c3"
   ]
  },
  {
   "cell_type": "code",
   "execution_count": null,
   "id": "a16767d4-13f2-4a84-8f05-65683788b929",
   "metadata": {},
   "outputs": [],
   "source": []
  },
  {
   "cell_type": "code",
   "execution_count": 201,
   "id": "59de6836-b812-47bd-9953-8471977154a0",
   "metadata": {},
   "outputs": [
    {
     "data": {
      "text/plain": [
       "(2, 3, 4)"
      ]
     },
     "execution_count": 201,
     "metadata": {},
     "output_type": "execute_result"
    }
   ],
   "source": [
    "np.stack([c1, c2], axis = 0).shape"
   ]
  },
  {
   "cell_type": "code",
   "execution_count": null,
   "id": "f3b37d36-fda4-4709-ba4f-6d1e5e075018",
   "metadata": {},
   "outputs": [],
   "source": []
  },
  {
   "cell_type": "code",
   "execution_count": 190,
   "id": "3312a632-098c-48b1-831e-ca980609d73d",
   "metadata": {},
   "outputs": [
    {
     "data": {
      "text/plain": [
       "array([[[1., 1., 1., 1.],\n",
       "        [1., 1., 1., 1.],\n",
       "        [1., 1., 1., 1.]],\n",
       "\n",
       "       [[0., 0., 0., 0.],\n",
       "        [0., 0., 0., 0.],\n",
       "        [0., 0., 0., 0.]],\n",
       "\n",
       "       [[1., 1., 1., 1.],\n",
       "        [1., 1., 1., 1.],\n",
       "        [1., 1., 1., 1.]]])"
      ]
     },
     "execution_count": 190,
     "metadata": {},
     "output_type": "execute_result"
    }
   ],
   "source": [
    "np.stack([c1, c2, c3])"
   ]
  },
  {
   "cell_type": "code",
   "execution_count": 191,
   "id": "87c116de-ed21-4b90-9acf-16efa593d3c5",
   "metadata": {},
   "outputs": [
    {
     "data": {
      "text/plain": [
       "array([[[1., 1., 1., 1.],\n",
       "        [1., 1., 1., 1.],\n",
       "        [1., 1., 1., 1.]],\n",
       "\n",
       "       [[0., 0., 0., 0.],\n",
       "        [0., 0., 0., 0.],\n",
       "        [0., 0., 0., 0.]],\n",
       "\n",
       "       [[1., 1., 1., 1.],\n",
       "        [1., 1., 1., 1.],\n",
       "        [1., 1., 1., 1.]]])"
      ]
     },
     "execution_count": 191,
     "metadata": {},
     "output_type": "execute_result"
    }
   ],
   "source": [
    "np.stack([c1, c2, c3], axis = 0)  # Default"
   ]
  },
  {
   "cell_type": "code",
   "execution_count": 192,
   "id": "2d76e5d5-6410-4083-a22f-7e596ad26bc5",
   "metadata": {},
   "outputs": [
    {
     "data": {
      "text/plain": [
       "array([[[1., 1., 1., 1.],\n",
       "        [0., 0., 0., 0.],\n",
       "        [1., 1., 1., 1.]],\n",
       "\n",
       "       [[1., 1., 1., 1.],\n",
       "        [0., 0., 0., 0.],\n",
       "        [1., 1., 1., 1.]],\n",
       "\n",
       "       [[1., 1., 1., 1.],\n",
       "        [0., 0., 0., 0.],\n",
       "        [1., 1., 1., 1.]]])"
      ]
     },
     "execution_count": 192,
     "metadata": {},
     "output_type": "execute_result"
    }
   ],
   "source": [
    "np.stack([c1, c2, c3], axis = 1)"
   ]
  },
  {
   "cell_type": "code",
   "execution_count": 193,
   "id": "b67e2090-bf25-4c3c-a7d6-971aee66bc9f",
   "metadata": {},
   "outputs": [
    {
     "data": {
      "text/plain": [
       "array([[[1., 0., 1.],\n",
       "        [1., 0., 1.],\n",
       "        [1., 0., 1.],\n",
       "        [1., 0., 1.]],\n",
       "\n",
       "       [[1., 0., 1.],\n",
       "        [1., 0., 1.],\n",
       "        [1., 0., 1.],\n",
       "        [1., 0., 1.]],\n",
       "\n",
       "       [[1., 0., 1.],\n",
       "        [1., 0., 1.],\n",
       "        [1., 0., 1.],\n",
       "        [1., 0., 1.]]])"
      ]
     },
     "execution_count": 193,
     "metadata": {},
     "output_type": "execute_result"
    }
   ],
   "source": [
    "np.stack([c1, c2, c3], axis = 2)\n",
    "\n",
    "# dstack과 같아짐"
   ]
  },
  {
   "cell_type": "code",
   "execution_count": null,
   "id": "6bcc3809-79cb-43b7-b38d-7e3104234767",
   "metadata": {},
   "outputs": [],
   "source": []
  },
  {
   "cell_type": "code",
   "execution_count": 202,
   "id": "43a30fff-7b08-4109-822a-51e36347597c",
   "metadata": {},
   "outputs": [],
   "source": [
    "d1 = np.ones((4, 5))\n",
    "d2 = np.zeros((4, 5))\n",
    "d3 = np.arange(20).reshape(4, 5)"
   ]
  },
  {
   "cell_type": "code",
   "execution_count": 203,
   "id": "01e7f856-1d65-4056-ac8d-7857e1a4a177",
   "metadata": {},
   "outputs": [
    {
     "data": {
      "text/plain": [
       "array([[1., 1., 1., 1., 1.],\n",
       "       [1., 1., 1., 1., 1.],\n",
       "       [1., 1., 1., 1., 1.],\n",
       "       [1., 1., 1., 1., 1.]])"
      ]
     },
     "execution_count": 203,
     "metadata": {},
     "output_type": "execute_result"
    }
   ],
   "source": [
    "d1"
   ]
  },
  {
   "cell_type": "code",
   "execution_count": 204,
   "id": "9384cfea-9b4e-45dc-8ddd-1ae0afbe07d0",
   "metadata": {},
   "outputs": [
    {
     "data": {
      "text/plain": [
       "array([[0., 0., 0., 0., 0.],\n",
       "       [0., 0., 0., 0., 0.],\n",
       "       [0., 0., 0., 0., 0.],\n",
       "       [0., 0., 0., 0., 0.]])"
      ]
     },
     "execution_count": 204,
     "metadata": {},
     "output_type": "execute_result"
    }
   ],
   "source": [
    "d2"
   ]
  },
  {
   "cell_type": "code",
   "execution_count": 205,
   "id": "a0f1cf78-052d-43bd-ab06-6843845121f3",
   "metadata": {},
   "outputs": [
    {
     "data": {
      "text/plain": [
       "array([[ 0,  1,  2,  3,  4],\n",
       "       [ 5,  6,  7,  8,  9],\n",
       "       [10, 11, 12, 13, 14],\n",
       "       [15, 16, 17, 18, 19]])"
      ]
     },
     "execution_count": 205,
     "metadata": {},
     "output_type": "execute_result"
    }
   ],
   "source": [
    "d3"
   ]
  },
  {
   "cell_type": "code",
   "execution_count": 206,
   "id": "726192ff-9655-4648-b124-b3bfcb1d466f",
   "metadata": {},
   "outputs": [
    {
     "data": {
      "text/plain": [
       "array([[[ 1.,  1.,  1.,  1.,  1.],\n",
       "        [ 1.,  1.,  1.,  1.,  1.],\n",
       "        [ 1.,  1.,  1.,  1.,  1.],\n",
       "        [ 1.,  1.,  1.,  1.,  1.]],\n",
       "\n",
       "       [[ 0.,  0.,  0.,  0.,  0.],\n",
       "        [ 0.,  0.,  0.,  0.,  0.],\n",
       "        [ 0.,  0.,  0.,  0.,  0.],\n",
       "        [ 0.,  0.,  0.,  0.,  0.]],\n",
       "\n",
       "       [[ 0.,  1.,  2.,  3.,  4.],\n",
       "        [ 5.,  6.,  7.,  8.,  9.],\n",
       "        [10., 11., 12., 13., 14.],\n",
       "        [15., 16., 17., 18., 19.]]])"
      ]
     },
     "execution_count": 206,
     "metadata": {},
     "output_type": "execute_result"
    }
   ],
   "source": [
    "np.stack([d1, d2, d3])\n",
    "\n",
    "# d1, d2, d3가 각각 분리된 상태에서 array로 합쳐짐\n",
    "# axis = 0 (Default)"
   ]
  },
  {
   "cell_type": "code",
   "execution_count": 207,
   "id": "51004cd6-a692-4a25-b171-f5aa099dbb38",
   "metadata": {},
   "outputs": [
    {
     "data": {
      "text/plain": [
       "array([[[ 1.,  1.,  1.,  1.,  1.],\n",
       "        [ 0.,  0.,  0.,  0.,  0.],\n",
       "        [ 0.,  1.,  2.,  3.,  4.]],\n",
       "\n",
       "       [[ 1.,  1.,  1.,  1.,  1.],\n",
       "        [ 0.,  0.,  0.,  0.,  0.],\n",
       "        [ 5.,  6.,  7.,  8.,  9.]],\n",
       "\n",
       "       [[ 1.,  1.,  1.,  1.,  1.],\n",
       "        [ 0.,  0.,  0.,  0.,  0.],\n",
       "        [10., 11., 12., 13., 14.]],\n",
       "\n",
       "       [[ 1.,  1.,  1.,  1.,  1.],\n",
       "        [ 0.,  0.,  0.,  0.,  0.],\n",
       "        [15., 16., 17., 18., 19.]]])"
      ]
     },
     "execution_count": 207,
     "metadata": {},
     "output_type": "execute_result"
    }
   ],
   "source": [
    "np.stack([d1, d2, d3], axis = 1)"
   ]
  },
  {
   "cell_type": "code",
   "execution_count": 208,
   "id": "fcc7b1e2-1efd-4e6f-9c58-1242ad79fa1d",
   "metadata": {},
   "outputs": [
    {
     "data": {
      "text/plain": [
       "(4, 3, 5)"
      ]
     },
     "execution_count": 208,
     "metadata": {},
     "output_type": "execute_result"
    }
   ],
   "source": [
    "np.stack([d1, d2, d3], axis = 1).shape"
   ]
  },
  {
   "cell_type": "code",
   "execution_count": null,
   "id": "71920a94-4d97-40de-b753-c51990d2df75",
   "metadata": {},
   "outputs": [],
   "source": []
  },
  {
   "cell_type": "code",
   "execution_count": 209,
   "id": "655e5c78-a5e1-4558-bbd5-acc54683e945",
   "metadata": {},
   "outputs": [
    {
     "data": {
      "text/plain": [
       "array([[[ 1.,  0.,  0.],\n",
       "        [ 1.,  0.,  1.],\n",
       "        [ 1.,  0.,  2.],\n",
       "        [ 1.,  0.,  3.],\n",
       "        [ 1.,  0.,  4.]],\n",
       "\n",
       "       [[ 1.,  0.,  5.],\n",
       "        [ 1.,  0.,  6.],\n",
       "        [ 1.,  0.,  7.],\n",
       "        [ 1.,  0.,  8.],\n",
       "        [ 1.,  0.,  9.]],\n",
       "\n",
       "       [[ 1.,  0., 10.],\n",
       "        [ 1.,  0., 11.],\n",
       "        [ 1.,  0., 12.],\n",
       "        [ 1.,  0., 13.],\n",
       "        [ 1.,  0., 14.]],\n",
       "\n",
       "       [[ 1.,  0., 15.],\n",
       "        [ 1.,  0., 16.],\n",
       "        [ 1.,  0., 17.],\n",
       "        [ 1.,  0., 18.],\n",
       "        [ 1.,  0., 19.]]])"
      ]
     },
     "execution_count": 209,
     "metadata": {},
     "output_type": "execute_result"
    }
   ],
   "source": [
    "np.stack([d1, d2, d3], axis = 2)"
   ]
  },
  {
   "cell_type": "code",
   "execution_count": 210,
   "id": "985c4692-85f5-4e54-ab21-517f2de029f7",
   "metadata": {},
   "outputs": [
    {
     "data": {
      "text/plain": [
       "(4, 5, 3)"
      ]
     },
     "execution_count": 210,
     "metadata": {},
     "output_type": "execute_result"
    }
   ],
   "source": [
    "np.stack([d1, d2, d3], axis = 2).shape"
   ]
  },
  {
   "cell_type": "code",
   "execution_count": null,
   "id": "f9bdbcfe-2975-48ff-9a0f-276f744a5575",
   "metadata": {},
   "outputs": [],
   "source": []
  },
  {
   "cell_type": "code",
   "execution_count": 211,
   "id": "6437d10b-26c3-4ed6-98bb-a96d8b9f9fb3",
   "metadata": {},
   "outputs": [],
   "source": [
    "## r_ 메서드"
   ]
  },
  {
   "cell_type": "code",
   "execution_count": 212,
   "id": "edc4b22e-213e-4f5a-818d-b3abf2a3c585",
   "metadata": {},
   "outputs": [
    {
     "data": {
      "text/plain": [
       "array([1, 2, 3, 4, 5, 6])"
      ]
     },
     "execution_count": 212,
     "metadata": {},
     "output_type": "execute_result"
    }
   ],
   "source": [
    "np.r_[np.array([1, 2, 3]), np.array([4, 5, 6])]\n",
    "\n",
    "# 행 단위로 합침. hstack과 비슷함"
   ]
  },
  {
   "cell_type": "code",
   "execution_count": null,
   "id": "98117070-bfd6-4119-8250-65aaa4c08bdc",
   "metadata": {},
   "outputs": [],
   "source": []
  },
  {
   "cell_type": "code",
   "execution_count": 213,
   "id": "70650093-2e3b-4336-82ca-124d75a12c4f",
   "metadata": {},
   "outputs": [],
   "source": [
    "## c_ 메서드"
   ]
  },
  {
   "cell_type": "code",
   "execution_count": 214,
   "id": "c30d9c6a-a941-4b5c-92ea-2d086e474914",
   "metadata": {},
   "outputs": [
    {
     "data": {
      "text/plain": [
       "array([[1, 4],\n",
       "       [2, 5],\n",
       "       [3, 6]])"
      ]
     },
     "execution_count": 214,
     "metadata": {},
     "output_type": "execute_result"
    }
   ],
   "source": [
    "np.c_[np.array([1, 2, 3]), np.array([4, 5, 6])]\n",
    "\n",
    "# 열 단위로 합침"
   ]
  },
  {
   "cell_type": "code",
   "execution_count": null,
   "id": "a36df05c-c891-4dff-a7b6-54de49502fda",
   "metadata": {},
   "outputs": [],
   "source": []
  },
  {
   "cell_type": "code",
   "execution_count": 215,
   "id": "41e3bbe4-e7da-47f9-80ec-f0b00854867d",
   "metadata": {},
   "outputs": [],
   "source": [
    "## .tile()"
   ]
  },
  {
   "cell_type": "code",
   "execution_count": 216,
   "id": "adebfc68-6877-4a0e-83f9-449d5d72f5e7",
   "metadata": {},
   "outputs": [
    {
     "data": {
      "text/plain": [
       "array([[0, 1, 2, 0, 1, 2],\n",
       "       [3, 4, 5, 3, 4, 5]])"
      ]
     },
     "execution_count": 216,
     "metadata": {},
     "output_type": "execute_result"
    }
   ],
   "source": [
    "a = np.array([[0, 1, 2], [3, 4, 5]])\n",
    "np.tile(a, 2)"
   ]
  },
  {
   "cell_type": "code",
   "execution_count": 217,
   "id": "247adcb1-68a3-4c9f-a371-a67578e6e469",
   "metadata": {},
   "outputs": [
    {
     "data": {
      "text/plain": [
       "array([[0, 1, 2, 0, 1, 2],\n",
       "       [3, 4, 5, 3, 4, 5],\n",
       "       [0, 1, 2, 0, 1, 2],\n",
       "       [3, 4, 5, 3, 4, 5],\n",
       "       [0, 1, 2, 0, 1, 2],\n",
       "       [3, 4, 5, 3, 4, 5]])"
      ]
     },
     "execution_count": 217,
     "metadata": {},
     "output_type": "execute_result"
    }
   ],
   "source": [
    "np.tile(a, (3, 2))"
   ]
  },
  {
   "cell_type": "code",
   "execution_count": null,
   "id": "4a58110c-5207-4037-ac93-f66be9a3dd2c",
   "metadata": {},
   "outputs": [],
   "source": []
  },
  {
   "cell_type": "code",
   "execution_count": 218,
   "id": "a4b0f1b7-3afe-46a4-aff1-baedf3009d78",
   "metadata": {},
   "outputs": [
    {
     "data": {
      "text/plain": [
       "array([[0, 1, 2],\n",
       "       [3, 4, 5]])"
      ]
     },
     "execution_count": 218,
     "metadata": {},
     "output_type": "execute_result"
    }
   ],
   "source": [
    "a = np.arange(6).reshape(2, 3)\n",
    "a"
   ]
  },
  {
   "cell_type": "code",
   "execution_count": 219,
   "id": "d9220c43-423a-42a8-8428-bf9612f5c695",
   "metadata": {},
   "outputs": [
    {
     "data": {
      "text/plain": [
       "array([[0, 1, 2, 0, 1, 2, 0, 1, 2],\n",
       "       [3, 4, 5, 3, 4, 5, 3, 4, 5]])"
      ]
     },
     "execution_count": 219,
     "metadata": {},
     "output_type": "execute_result"
    }
   ],
   "source": [
    "np.tile(a, 3)"
   ]
  },
  {
   "cell_type": "code",
   "execution_count": 220,
   "id": "46c454bd-721f-41ea-8617-7a2e07648734",
   "metadata": {},
   "outputs": [
    {
     "data": {
      "text/plain": [
       "array([[0, 1, 2, 0, 1, 2, 0, 1, 2],\n",
       "       [3, 4, 5, 3, 4, 5, 3, 4, 5],\n",
       "       [0, 1, 2, 0, 1, 2, 0, 1, 2],\n",
       "       [3, 4, 5, 3, 4, 5, 3, 4, 5],\n",
       "       [0, 1, 2, 0, 1, 2, 0, 1, 2],\n",
       "       [3, 4, 5, 3, 4, 5, 3, 4, 5],\n",
       "       [0, 1, 2, 0, 1, 2, 0, 1, 2],\n",
       "       [3, 4, 5, 3, 4, 5, 3, 4, 5]])"
      ]
     },
     "execution_count": 220,
     "metadata": {},
     "output_type": "execute_result"
    }
   ],
   "source": [
    "np.tile(a, (4, 3))\n",
    "\n",
    "# 4행 3열 단위로 반복 실행"
   ]
  },
  {
   "cell_type": "code",
   "execution_count": null,
   "id": "361c78ee-090d-45ce-bba3-3b1ac9fc1070",
   "metadata": {},
   "outputs": [],
   "source": []
  },
  {
   "cell_type": "code",
   "execution_count": 221,
   "id": "17c214b0-a7c9-4dbe-b7aa-856166dc7467",
   "metadata": {},
   "outputs": [],
   "source": [
    "# 연습문제"
   ]
  },
  {
   "cell_type": "code",
   "execution_count": 257,
   "id": "ba73e14c-b3aa-43fa-827c-e2fdcf9478ae",
   "metadata": {},
   "outputs": [
    {
     "data": {
      "text/plain": [
       "array([0., 0., 0.])"
      ]
     },
     "execution_count": 257,
     "metadata": {},
     "output_type": "execute_result"
    }
   ],
   "source": [
    "a = np.zeros(3)\n",
    "a"
   ]
  },
  {
   "cell_type": "code",
   "execution_count": 258,
   "id": "d13f32f1-dba0-4968-977b-9854fdb28932",
   "metadata": {},
   "outputs": [
    {
     "data": {
      "text/plain": [
       "array([1., 1.])"
      ]
     },
     "execution_count": 258,
     "metadata": {},
     "output_type": "execute_result"
    }
   ],
   "source": [
    "b = np.ones(2)\n",
    "b"
   ]
  },
  {
   "cell_type": "code",
   "execution_count": 259,
   "id": "69e8f227-da0c-4d75-9813-7f9bd49df311",
   "metadata": {},
   "outputs": [
    {
     "data": {
      "text/plain": [
       "array([[ 10,  20,  30,  40,  50],\n",
       "       [ 60,  70,  80,  90, 100],\n",
       "       [110, 120, 130, 140, 150]])"
      ]
     },
     "execution_count": 259,
     "metadata": {},
     "output_type": "execute_result"
    }
   ],
   "source": [
    "c = np.arange(10, 151, 10)\n",
    "c = c.reshape(3, 5)\n",
    "c"
   ]
  },
  {
   "cell_type": "code",
   "execution_count": 260,
   "id": "d085f07b-218e-472e-b5ad-fffe22e71dde",
   "metadata": {},
   "outputs": [
    {
     "data": {
      "text/plain": [
       "array([0., 0., 0., 1., 1.])"
      ]
     },
     "execution_count": 260,
     "metadata": {},
     "output_type": "execute_result"
    }
   ],
   "source": [
    "ab = np.hstack([a, b])\n",
    "ab"
   ]
  },
  {
   "cell_type": "code",
   "execution_count": 265,
   "id": "353012c1-4069-4273-81f5-681b1b508907",
   "metadata": {},
   "outputs": [
    {
     "data": {
      "text/plain": [
       "array([[  0.,   0.,   0.,   1.,   1.],\n",
       "       [  0.,   0.,   0.,   1.,   1.],\n",
       "       [  0.,   0.,   0.,   1.,   1.],\n",
       "       [ 10.,  20.,  30.,  40.,  50.],\n",
       "       [ 60.,  70.,  80.,  90., 100.],\n",
       "       [110., 120., 130., 140., 150.],\n",
       "       [  0.,   0.,   0.,   1.,   1.],\n",
       "       [  0.,   0.,   0.,   1.,   1.],\n",
       "       [  0.,   0.,   0.,   1.,   1.],\n",
       "       [ 10.,  20.,  30.,  40.,  50.],\n",
       "       [ 60.,  70.,  80.,  90., 100.],\n",
       "       [110., 120., 130., 140., 150.]])"
      ]
     },
     "execution_count": 265,
     "metadata": {},
     "output_type": "execute_result"
    }
   ],
   "source": [
    "a = np.zeros((3,3))\n",
    "b = np.ones((3,2))\n",
    "c = np.arange(10, 151, 10)\n",
    "c = c.reshape(3,5)\n",
    "d = np.hstack((a, b))\n",
    "e = np.vstack((d, c))\n",
    "f = np.tile(e, (2,1))\n",
    "f"
   ]
  },
  {
   "cell_type": "code",
   "execution_count": null,
   "id": "b677954a-a409-4fee-a0d8-04a9f898f3a2",
   "metadata": {},
   "outputs": [],
   "source": []
  },
  {
   "cell_type": "code",
   "execution_count": 264,
   "id": "20264249-66aa-45d1-8056-7918c69cf46a",
   "metadata": {},
   "outputs": [
    {
     "data": {
      "text/plain": [
       "array([[  0.,   0.,   0.,   1.,   1.],\n",
       "       [  0.,   0.,   0.,   1.,   1.],\n",
       "       [  0.,   0.,   0.,   1.,   1.],\n",
       "       [ 10.,  20.,  30.,  40.,  50.],\n",
       "       [ 60.,  70.,  80.,  90., 100.],\n",
       "       [110., 120., 130., 140., 150.],\n",
       "       [  0.,   0.,   0.,   1.,   1.],\n",
       "       [  0.,   0.,   0.,   1.,   1.],\n",
       "       [  0.,   0.,   0.,   1.,   1.],\n",
       "       [ 10.,  20.,  30.,  40.,  50.],\n",
       "       [ 60.,  70.,  80.,  90., 100.],\n",
       "       [110., 120., 130., 140., 150.]])"
      ]
     },
     "execution_count": 264,
     "metadata": {},
     "output_type": "execute_result"
    }
   ],
   "source": [
    "# 연습문제 풀이\n",
    "zeros = np.zeros([3, 3])\n",
    "ones = np.ones([3, 2])\n",
    "numbers = np.reshape(np.arange(10, 160, 10), (3, -1))\n",
    "res = np.tile(np.vstack([np.hstack([zeros, ones]), numbers]), (2, 1))\n",
    "res"
   ]
  },
  {
   "cell_type": "code",
   "execution_count": null,
   "id": "37a592f6-0531-4a30-913e-5c22292b9210",
   "metadata": {},
   "outputs": [],
   "source": []
  },
  {
   "cell_type": "code",
   "execution_count": null,
   "id": "3efb704b-db20-4e57-92af-1f2145116893",
   "metadata": {},
   "outputs": [],
   "source": []
  },
  {
   "cell_type": "code",
   "execution_count": 266,
   "id": "b0cbd533-63b7-491b-99a5-9dec29e3f2aa",
   "metadata": {},
   "outputs": [],
   "source": [
    "##### 벡터화 연산"
   ]
  },
  {
   "cell_type": "code",
   "execution_count": null,
   "id": "f4419616-76d7-45f8-af7a-b05e58bee2d2",
   "metadata": {},
   "outputs": [],
   "source": [
    "## 사칙연산"
   ]
  },
  {
   "cell_type": "code",
   "execution_count": 267,
   "id": "56b0c227-3c68-4cba-9b33-ee45e169296c",
   "metadata": {},
   "outputs": [],
   "source": [
    "x = np.arange(1, 10001)\n",
    "y = np.arange(10001, 20001)"
   ]
  },
  {
   "cell_type": "code",
   "execution_count": 268,
   "id": "fa6bf34f-24e8-467c-833c-237bcbf9c694",
   "metadata": {},
   "outputs": [
    {
     "name": "stdout",
     "output_type": "stream",
     "text": [
      "Wall time: 6.97 ms\n"
     ]
    }
   ],
   "source": [
    "%%time\n",
    "z = np.zeros_like(x)\n",
    "for i in range(10000):\n",
    "    z[i] = x[i] + y[i]\n",
    "\n",
    "# 훨씬 빠름"
   ]
  },
  {
   "cell_type": "code",
   "execution_count": 269,
   "id": "2627c0a4-78e3-477d-a2f6-7cb8275a3ec8",
   "metadata": {},
   "outputs": [
    {
     "data": {
      "text/plain": [
       "array([10002, 10004, 10006, 10008, 10010, 10012, 10014, 10016, 10018,\n",
       "       10020])"
      ]
     },
     "execution_count": 269,
     "metadata": {},
     "output_type": "execute_result"
    }
   ],
   "source": [
    "z[:10]"
   ]
  },
  {
   "cell_type": "code",
   "execution_count": null,
   "id": "222745bd-a586-4c41-9598-db305260a2ed",
   "metadata": {},
   "outputs": [],
   "source": []
  },
  {
   "cell_type": "code",
   "execution_count": 270,
   "id": "e4149639-0d75-4752-8d9d-c1d9ba4e7356",
   "metadata": {},
   "outputs": [],
   "source": [
    "x = np.arange(1, 10001)\n",
    "y = np.arange(10001, 20001)"
   ]
  },
  {
   "cell_type": "code",
   "execution_count": 271,
   "id": "abad0d7a-a69e-4f45-9d50-4a5fa1abd915",
   "metadata": {},
   "outputs": [
    {
     "name": "stdout",
     "output_type": "stream",
     "text": [
      "Wall time: 998 µs\n"
     ]
    }
   ],
   "source": [
    "%%time\n",
    "z = x + y"
   ]
  },
  {
   "cell_type": "code",
   "execution_count": 272,
   "id": "5563e1a5-ff74-4fb7-b6f3-ee114c86b247",
   "metadata": {},
   "outputs": [
    {
     "data": {
      "text/plain": [
       "array([10002, 10004, 10006, 10008, 10010, 10012, 10014, 10016, 10018,\n",
       "       10020])"
      ]
     },
     "execution_count": 272,
     "metadata": {},
     "output_type": "execute_result"
    }
   ],
   "source": [
    "z[:10]\n",
    "\n",
    "# 결과 동일"
   ]
  },
  {
   "cell_type": "code",
   "execution_count": null,
   "id": "fcee8cb4-888a-444c-b8bc-812d23273404",
   "metadata": {},
   "outputs": [],
   "source": []
  },
  {
   "cell_type": "code",
   "execution_count": null,
   "id": "1c8af2fc-99e2-47f2-99ce-694179a45ff3",
   "metadata": {},
   "outputs": [],
   "source": [
    "## 비교 연산"
   ]
  },
  {
   "cell_type": "code",
   "execution_count": 273,
   "id": "14d9d838-49ba-4e6b-b841-81fd2ae7c44b",
   "metadata": {},
   "outputs": [],
   "source": [
    "a = np.array([1, 2, 3, 4])\n",
    "b = np.array([4, 2, 2, 4])"
   ]
  },
  {
   "cell_type": "code",
   "execution_count": 274,
   "id": "75891b3c-7965-497f-a61a-609d17e790aa",
   "metadata": {},
   "outputs": [
    {
     "data": {
      "text/plain": [
       "array([False,  True, False,  True])"
      ]
     },
     "execution_count": 274,
     "metadata": {},
     "output_type": "execute_result"
    }
   ],
   "source": [
    "a == b"
   ]
  },
  {
   "cell_type": "code",
   "execution_count": 275,
   "id": "950ee737-813d-44e1-986c-be91dee3cc86",
   "metadata": {},
   "outputs": [
    {
     "data": {
      "text/plain": [
       "array([False,  True,  True,  True])"
      ]
     },
     "execution_count": 275,
     "metadata": {},
     "output_type": "execute_result"
    }
   ],
   "source": [
    "a >= b"
   ]
  },
  {
   "cell_type": "code",
   "execution_count": null,
   "id": "e859f438-a402-4b95-a66c-edd74c3d3615",
   "metadata": {},
   "outputs": [],
   "source": []
  },
  {
   "cell_type": "code",
   "execution_count": 276,
   "id": "5b817114-06d8-430e-9d4a-88d67ec9eb90",
   "metadata": {},
   "outputs": [],
   "source": [
    "## np.all()"
   ]
  },
  {
   "cell_type": "code",
   "execution_count": 277,
   "id": "7685ccd2-a3a3-4650-8d27-6ca32e68db3f",
   "metadata": {},
   "outputs": [],
   "source": [
    "a = np.array([1, 2, 3, 4])\n",
    "b = np.array([4, 2, 2, 4])\n",
    "c = np.array([1, 2, 3, 4])"
   ]
  },
  {
   "cell_type": "code",
   "execution_count": 278,
   "id": "f533ebf6-8d9a-45de-946e-26cd75ff19e4",
   "metadata": {},
   "outputs": [
    {
     "data": {
      "text/plain": [
       "False"
      ]
     },
     "execution_count": 278,
     "metadata": {},
     "output_type": "execute_result"
    }
   ],
   "source": [
    "np.all(a == b)  # 하나라도 다르면 False"
   ]
  },
  {
   "cell_type": "code",
   "execution_count": 280,
   "id": "8320460b-2c9e-4fff-a423-a91bb9cbe52f",
   "metadata": {},
   "outputs": [
    {
     "data": {
      "text/plain": [
       "False"
      ]
     },
     "execution_count": 280,
     "metadata": {},
     "output_type": "execute_result"
    }
   ],
   "source": [
    "np.all(b == c)"
   ]
  },
  {
   "cell_type": "code",
   "execution_count": 279,
   "id": "d0d72f1d-62cf-4741-b684-9bbfb9204071",
   "metadata": {},
   "outputs": [
    {
     "data": {
      "text/plain": [
       "True"
      ]
     },
     "execution_count": 279,
     "metadata": {},
     "output_type": "execute_result"
    }
   ],
   "source": [
    "np.all(a == c)  # 모두 같으므로 True"
   ]
  },
  {
   "cell_type": "code",
   "execution_count": null,
   "id": "ef6c1295-8f55-4be6-8115-0e6ffd341516",
   "metadata": {},
   "outputs": [],
   "source": []
  },
  {
   "cell_type": "code",
   "execution_count": null,
   "id": "a241bc6e-b246-466f-a849-207189741e1f",
   "metadata": {},
   "outputs": [],
   "source": []
  },
  {
   "cell_type": "code",
   "execution_count": 281,
   "id": "867c3c0a-d7ef-4a32-866e-57fd82ad0067",
   "metadata": {},
   "outputs": [],
   "source": [
    "##### 스칼라와 벡터/행렬 곱셈"
   ]
  },
  {
   "cell_type": "code",
   "execution_count": 282,
   "id": "d385c7b4-6883-4f92-bed8-dca3e65a37bc",
   "metadata": {},
   "outputs": [
    {
     "data": {
      "text/plain": [
       "array([0, 1, 2, 3, 4, 5, 6, 7, 8, 9])"
      ]
     },
     "execution_count": 282,
     "metadata": {},
     "output_type": "execute_result"
    }
   ],
   "source": [
    "x = np.arange(10)\n",
    "x"
   ]
  },
  {
   "cell_type": "code",
   "execution_count": 283,
   "id": "624e8626-7e75-416e-873c-46b20298324c",
   "metadata": {},
   "outputs": [
    {
     "data": {
      "text/plain": [
       "array([  0, 100, 200, 300, 400, 500, 600, 700, 800, 900])"
      ]
     },
     "execution_count": 283,
     "metadata": {},
     "output_type": "execute_result"
    }
   ],
   "source": [
    "100 * x  # 100은 스칼라"
   ]
  },
  {
   "cell_type": "code",
   "execution_count": 284,
   "id": "0798143e-5fae-426b-8e00-fafb59ccab5d",
   "metadata": {},
   "outputs": [
    {
     "data": {
      "text/plain": [
       "array([[ 0,  1,  2,  3],\n",
       "       [ 4,  5,  6,  7],\n",
       "       [ 8,  9, 10, 11]])"
      ]
     },
     "execution_count": 284,
     "metadata": {},
     "output_type": "execute_result"
    }
   ],
   "source": [
    "x = np.arange(12).reshape(3, 4)\n",
    "x"
   ]
  },
  {
   "cell_type": "code",
   "execution_count": 285,
   "id": "99494eee-dce4-40b8-8f8a-73a151bd4aee",
   "metadata": {},
   "outputs": [
    {
     "data": {
      "text/plain": [
       "array([[   0,  100,  200,  300],\n",
       "       [ 400,  500,  600,  700],\n",
       "       [ 800,  900, 1000, 1100]])"
      ]
     },
     "execution_count": 285,
     "metadata": {},
     "output_type": "execute_result"
    }
   ],
   "source": [
    "100 * x\n",
    "\n",
    "# 각 요소에 대해 100씩 곱한다"
   ]
  },
  {
   "cell_type": "code",
   "execution_count": null,
   "id": "8f58ce6f-254e-4e1a-8cf4-4f51b6ce49a9",
   "metadata": {},
   "outputs": [],
   "source": []
  },
  {
   "cell_type": "code",
   "execution_count": 286,
   "id": "018cb77a-a096-42c3-b6bd-12bffe3a07bc",
   "metadata": {},
   "outputs": [
    {
     "data": {
      "text/plain": [
       "array([2., 4., 6.])"
      ]
     },
     "execution_count": 286,
     "metadata": {},
     "output_type": "execute_result"
    }
   ],
   "source": [
    "a = np.array([1.0, 2.0, 3.0])\n",
    "b = np.array([2.0, 2.0, 2.0])\n",
    "a * b"
   ]
  },
  {
   "cell_type": "code",
   "execution_count": null,
   "id": "29f91f7d-c271-47df-92a3-74310a8f54cc",
   "metadata": {},
   "outputs": [],
   "source": [
    "# 두 배열의 shapes가 정확히 같아야 산술 연산 가능"
   ]
  },
  {
   "cell_type": "code",
   "execution_count": null,
   "id": "11f7222c-d24f-4f29-be1c-2d894c092f7d",
   "metadata": {},
   "outputs": [],
   "source": []
  },
  {
   "cell_type": "code",
   "execution_count": 287,
   "id": "b239bc14-09d7-4e4b-80ff-1adbf0ade813",
   "metadata": {},
   "outputs": [],
   "source": [
    "## 브로드캐스팅"
   ]
  },
  {
   "cell_type": "code",
   "execution_count": 289,
   "id": "d3d00483-8b84-4de3-b60d-806e4097c58e",
   "metadata": {},
   "outputs": [
    {
     "data": {
      "text/plain": [
       "array([2., 4., 6.])"
      ]
     },
     "execution_count": 289,
     "metadata": {},
     "output_type": "execute_result"
    }
   ],
   "source": [
    "a = np.array([1.0, 2.0, 3.0])\n",
    "b = 2.0\n",
    "a * b\n",
    "\n",
    "# len(b) = 1 이어도 a의 각 원소에 2배를 할 수 있음  => 브로드캐스팅\n",
    "# b의 배열 크기를 변환(stretch)해줌\n",
    "# 위 사례처럼 가능한 경우도 있지만 불가능한 경우도 있음"
   ]
  },
  {
   "cell_type": "code",
   "execution_count": null,
   "id": "28a6eef2-7b49-4de2-af28-b13765ef646a",
   "metadata": {},
   "outputs": [],
   "source": []
  },
  {
   "cell_type": "code",
   "execution_count": null,
   "id": "2fa968a0-4cb0-403e-8e5e-1a4ce5c6457f",
   "metadata": {},
   "outputs": [],
   "source": []
  },
  {
   "cell_type": "code",
   "execution_count": 290,
   "id": "cf7e5bfb-e77c-4ae7-ba78-e7a53e08f1ee",
   "metadata": {},
   "outputs": [],
   "source": [
    "##### 차원 축소 연산"
   ]
  },
  {
   "cell_type": "code",
   "execution_count": 291,
   "id": "ddb96a7a-7d5d-476c-8362-fb6f8e185bf9",
   "metadata": {},
   "outputs": [],
   "source": [
    "## sum()"
   ]
  },
  {
   "cell_type": "code",
   "execution_count": 292,
   "id": "1a91fea3-e749-4f93-a2e3-a79a257b0bac",
   "metadata": {},
   "outputs": [
    {
     "data": {
      "text/plain": [
       "array([1, 2, 3, 4])"
      ]
     },
     "execution_count": 292,
     "metadata": {},
     "output_type": "execute_result"
    }
   ],
   "source": [
    "x = np.array([1, 2, 3, 4])\n",
    "x"
   ]
  },
  {
   "cell_type": "code",
   "execution_count": 293,
   "id": "d59af128-ef36-4447-ac6a-a267063950de",
   "metadata": {},
   "outputs": [
    {
     "data": {
      "text/plain": [
       "10"
      ]
     },
     "execution_count": 293,
     "metadata": {},
     "output_type": "execute_result"
    }
   ],
   "source": [
    "np.sum(x)  # numby.sum (줄여서 np.sum)"
   ]
  },
  {
   "cell_type": "code",
   "execution_count": 294,
   "id": "64ceb20a-d7f1-4148-abc0-79bb3721f8d1",
   "metadata": {},
   "outputs": [
    {
     "data": {
      "text/plain": [
       "10"
      ]
     },
     "execution_count": 294,
     "metadata": {},
     "output_type": "execute_result"
    }
   ],
   "source": [
    "x.sum()  # ndarray.sum"
   ]
  },
  {
   "cell_type": "code",
   "execution_count": null,
   "id": "5840f893-3ac0-4a1a-840e-3ef24dc776d8",
   "metadata": {},
   "outputs": [],
   "source": []
  },
  {
   "cell_type": "code",
   "execution_count": 296,
   "id": "478619f9-7ff5-426c-8d74-f533c1b692e4",
   "metadata": {},
   "outputs": [
    {
     "data": {
      "text/plain": [
       "array([[ 0,  1,  2,  3],\n",
       "       [ 4,  5,  6,  7],\n",
       "       [ 8,  9, 10, 11]])"
      ]
     },
     "execution_count": 296,
     "metadata": {},
     "output_type": "execute_result"
    }
   ],
   "source": [
    "x = np.arange(12).reshape(3, -1)\n",
    "x"
   ]
  },
  {
   "cell_type": "code",
   "execution_count": 297,
   "id": "e5309fcb-3e96-4db8-97ca-25de098dda01",
   "metadata": {},
   "outputs": [
    {
     "data": {
      "text/plain": [
       "array([12, 15, 18, 21])"
      ]
     },
     "execution_count": 297,
     "metadata": {},
     "output_type": "execute_result"
    }
   ],
   "source": [
    "x.sum(axis = 0)  # 열 간 연산 [sum(1열), sum(2열), sum(3열), sum(4열)]"
   ]
  },
  {
   "cell_type": "code",
   "execution_count": 300,
   "id": "7c659944-3f66-4ede-ba7f-4f34c2bb26c9",
   "metadata": {},
   "outputs": [
    {
     "data": {
      "text/plain": [
       "array([12, 15, 18, 21])"
      ]
     },
     "execution_count": 300,
     "metadata": {},
     "output_type": "execute_result"
    }
   ],
   "source": [
    "np.sum(x, axis = 0)"
   ]
  },
  {
   "cell_type": "code",
   "execution_count": null,
   "id": "2dbce0a1-cced-40dd-955a-8e9277bf008a",
   "metadata": {},
   "outputs": [],
   "source": []
  },
  {
   "cell_type": "code",
   "execution_count": 301,
   "id": "1fc7dac9-ab42-4dbd-9293-2c02e978aa58",
   "metadata": {},
   "outputs": [],
   "source": [
    "## min()"
   ]
  },
  {
   "cell_type": "code",
   "execution_count": 303,
   "id": "3eaf3da7-7d36-4fea-b23f-24906964ee71",
   "metadata": {},
   "outputs": [
    {
     "data": {
      "text/plain": [
       "array([[[ 0,  1],\n",
       "        [ 2,  3],\n",
       "        [ 4,  5],\n",
       "        [ 6,  7],\n",
       "        [ 8,  9]],\n",
       "\n",
       "       [[10, 11],\n",
       "        [12, 13],\n",
       "        [14, 15],\n",
       "        [16, 17],\n",
       "        [18, 19]]])"
      ]
     },
     "execution_count": 303,
     "metadata": {},
     "output_type": "execute_result"
    }
   ],
   "source": [
    "x = np.arange(20).reshape(2, 5, -1)\n",
    "x"
   ]
  },
  {
   "cell_type": "code",
   "execution_count": 304,
   "id": "e8e28d71-5923-41fa-a4b4-c0dfbb449846",
   "metadata": {},
   "outputs": [
    {
     "data": {
      "text/plain": [
       "0"
      ]
     },
     "execution_count": 304,
     "metadata": {},
     "output_type": "execute_result"
    }
   ],
   "source": [
    "x.min()"
   ]
  },
  {
   "cell_type": "code",
   "execution_count": 305,
   "id": "0784c271-d437-4182-bd00-f7423afec0a8",
   "metadata": {},
   "outputs": [
    {
     "data": {
      "text/plain": [
       "0"
      ]
     },
     "execution_count": 305,
     "metadata": {},
     "output_type": "execute_result"
    }
   ],
   "source": [
    "np.min(x)"
   ]
  },
  {
   "cell_type": "code",
   "execution_count": 306,
   "id": "dc3823db-fdf4-48ee-bf95-d6bc0c4d08a9",
   "metadata": {},
   "outputs": [
    {
     "data": {
      "text/plain": [
       "array([[0, 1],\n",
       "       [2, 3],\n",
       "       [4, 5],\n",
       "       [6, 7],\n",
       "       [8, 9]])"
      ]
     },
     "execution_count": 306,
     "metadata": {},
     "output_type": "execute_result"
    }
   ],
   "source": [
    "x.min(axis = 0)"
   ]
  },
  {
   "cell_type": "code",
   "execution_count": 307,
   "id": "8d563f28-8be1-4cd6-ac83-5a807f822c94",
   "metadata": {},
   "outputs": [
    {
     "data": {
      "text/plain": [
       "array([[ 0,  1],\n",
       "       [10, 11]])"
      ]
     },
     "execution_count": 307,
     "metadata": {},
     "output_type": "execute_result"
    }
   ],
   "source": [
    "np.min(x, axis = 1)"
   ]
  },
  {
   "cell_type": "code",
   "execution_count": 308,
   "id": "7e0c3ad7-d552-42eb-8ca4-9ac0c69f8b7a",
   "metadata": {},
   "outputs": [
    {
     "data": {
      "text/plain": [
       "array([[ 0,  2,  4,  6,  8],\n",
       "       [10, 12, 14, 16, 18]])"
      ]
     },
     "execution_count": 308,
     "metadata": {},
     "output_type": "execute_result"
    }
   ],
   "source": [
    "x.min(axis = 2)"
   ]
  },
  {
   "cell_type": "code",
   "execution_count": null,
   "id": "5b817954-7910-4e4e-a28b-2ab2deb3330d",
   "metadata": {},
   "outputs": [],
   "source": []
  },
  {
   "cell_type": "code",
   "execution_count": 311,
   "id": "b7d0bde0-f23f-4c80-ac52-c02a0c9ab211",
   "metadata": {},
   "outputs": [
    {
     "data": {
      "text/plain": [
       "array([[[ 0,  1],\n",
       "        [ 2,  3],\n",
       "        [ 4,  5],\n",
       "        [ 6,  7],\n",
       "        [ 8,  9]],\n",
       "\n",
       "       [[10, 11],\n",
       "        [12, 13],\n",
       "        [14, 15],\n",
       "        [16, 17],\n",
       "        [18, 19]]])"
      ]
     },
     "execution_count": 311,
     "metadata": {},
     "output_type": "execute_result"
    }
   ],
   "source": [
    "x"
   ]
  },
  {
   "cell_type": "code",
   "execution_count": 309,
   "id": "35ff3145-f29d-4a88-aacb-10962300b0e2",
   "metadata": {},
   "outputs": [
    {
     "data": {
      "text/plain": [
       "array([[0, 0],\n",
       "       [0, 0],\n",
       "       [0, 0],\n",
       "       [0, 0],\n",
       "       [0, 0]], dtype=int64)"
      ]
     },
     "execution_count": 309,
     "metadata": {},
     "output_type": "execute_result"
    }
   ],
   "source": [
    "x.argmin(axis = 0)"
   ]
  },
  {
   "cell_type": "code",
   "execution_count": 310,
   "id": "4871b4b9-64df-486f-b205-529c88bb8c93",
   "metadata": {},
   "outputs": [
    {
     "data": {
      "text/plain": [
       "array([[0, 0],\n",
       "       [0, 0]], dtype=int64)"
      ]
     },
     "execution_count": 310,
     "metadata": {},
     "output_type": "execute_result"
    }
   ],
   "source": [
    "np.argmin(x, axis = 1)"
   ]
  },
  {
   "cell_type": "code",
   "execution_count": 312,
   "id": "7acfb23a-5882-41ba-bfa6-0d1def19e9ee",
   "metadata": {},
   "outputs": [
    {
     "data": {
      "text/plain": [
       "array([[0, 0, 0, 0, 0],\n",
       "       [0, 0, 0, 0, 0]], dtype=int64)"
      ]
     },
     "execution_count": 312,
     "metadata": {},
     "output_type": "execute_result"
    }
   ],
   "source": [
    "np.argmin(x, axis = 2)"
   ]
  },
  {
   "cell_type": "code",
   "execution_count": null,
   "id": "171222da-7ade-423a-a251-e67d7f81a7f0",
   "metadata": {},
   "outputs": [],
   "source": []
  },
  {
   "cell_type": "code",
   "execution_count": 313,
   "id": "712822a6-f023-4c6c-8887-001c73527202",
   "metadata": {},
   "outputs": [],
   "source": [
    "## max()"
   ]
  },
  {
   "cell_type": "code",
   "execution_count": 315,
   "id": "6b14dc4f-f86a-4ce0-baaf-709462757284",
   "metadata": {},
   "outputs": [
    {
     "data": {
      "text/plain": [
       "array([[[ 0,  1],\n",
       "        [ 2,  3],\n",
       "        [ 4,  5],\n",
       "        [ 6,  7],\n",
       "        [ 8,  9]],\n",
       "\n",
       "       [[10, 11],\n",
       "        [12, 13],\n",
       "        [14, 15],\n",
       "        [16, 17],\n",
       "        [18, 19]]])"
      ]
     },
     "execution_count": 315,
     "metadata": {},
     "output_type": "execute_result"
    }
   ],
   "source": [
    "x = np.arange(20).reshape(2, 5, -1)\n",
    "x"
   ]
  },
  {
   "cell_type": "code",
   "execution_count": 316,
   "id": "f4ad5d01-4dfe-4152-a27a-e712eac0a660",
   "metadata": {},
   "outputs": [
    {
     "data": {
      "text/plain": [
       "19"
      ]
     },
     "execution_count": 316,
     "metadata": {},
     "output_type": "execute_result"
    }
   ],
   "source": [
    "x.max()"
   ]
  },
  {
   "cell_type": "code",
   "execution_count": 317,
   "id": "7cbe2c67-8aa0-4d64-b09b-2565d55bafeb",
   "metadata": {},
   "outputs": [
    {
     "data": {
      "text/plain": [
       "19"
      ]
     },
     "execution_count": 317,
     "metadata": {},
     "output_type": "execute_result"
    }
   ],
   "source": [
    "np.max(x)"
   ]
  },
  {
   "cell_type": "code",
   "execution_count": 322,
   "id": "b8ff77fe-385e-4431-95f5-c62a7a35fa91",
   "metadata": {},
   "outputs": [
    {
     "data": {
      "text/plain": [
       "array([[10, 11],\n",
       "       [12, 13],\n",
       "       [14, 15],\n",
       "       [16, 17],\n",
       "       [18, 19]])"
      ]
     },
     "execution_count": 322,
     "metadata": {},
     "output_type": "execute_result"
    }
   ],
   "source": [
    "x.max(axis = 0)"
   ]
  },
  {
   "cell_type": "code",
   "execution_count": 323,
   "id": "5d263bd1-52dd-469d-a289-970fc5f81f8a",
   "metadata": {},
   "outputs": [
    {
     "data": {
      "text/plain": [
       "array([[ 8,  9],\n",
       "       [18, 19]])"
      ]
     },
     "execution_count": 323,
     "metadata": {},
     "output_type": "execute_result"
    }
   ],
   "source": [
    "np.max(x, axis = 1)"
   ]
  },
  {
   "cell_type": "code",
   "execution_count": 324,
   "id": "d0feb648-3e41-4e7a-ba55-3f0a1063576a",
   "metadata": {},
   "outputs": [
    {
     "data": {
      "text/plain": [
       "array([[ 1,  3,  5,  7,  9],\n",
       "       [11, 13, 15, 17, 19]])"
      ]
     },
     "execution_count": 324,
     "metadata": {},
     "output_type": "execute_result"
    }
   ],
   "source": [
    "x.max(axis = 2)"
   ]
  },
  {
   "cell_type": "code",
   "execution_count": 325,
   "id": "4fd0c698-5035-45ef-addf-9786c3f732bf",
   "metadata": {},
   "outputs": [
    {
     "data": {
      "text/plain": [
       "19"
      ]
     },
     "execution_count": 325,
     "metadata": {},
     "output_type": "execute_result"
    }
   ],
   "source": [
    "x.argmax()"
   ]
  },
  {
   "cell_type": "code",
   "execution_count": 326,
   "id": "a3608f11-a116-4ba5-acad-8ba8187573be",
   "metadata": {},
   "outputs": [
    {
     "data": {
      "text/plain": [
       "19"
      ]
     },
     "execution_count": 326,
     "metadata": {},
     "output_type": "execute_result"
    }
   ],
   "source": [
    "np.argmax(x)"
   ]
  },
  {
   "cell_type": "code",
   "execution_count": 327,
   "id": "bafd60b8-e971-43df-8d57-cab3e4820ce9",
   "metadata": {},
   "outputs": [
    {
     "data": {
      "text/plain": [
       "array([[1, 1],\n",
       "       [1, 1],\n",
       "       [1, 1],\n",
       "       [1, 1],\n",
       "       [1, 1]], dtype=int64)"
      ]
     },
     "execution_count": 327,
     "metadata": {},
     "output_type": "execute_result"
    }
   ],
   "source": [
    "x.argmax(axis = 0)"
   ]
  },
  {
   "cell_type": "code",
   "execution_count": 328,
   "id": "b3e8d6a4-8358-4300-be9d-49e2482d5038",
   "metadata": {},
   "outputs": [
    {
     "data": {
      "text/plain": [
       "array([[4, 4],\n",
       "       [4, 4]], dtype=int64)"
      ]
     },
     "execution_count": 328,
     "metadata": {},
     "output_type": "execute_result"
    }
   ],
   "source": [
    "np.argmax(x, axis = 1)"
   ]
  },
  {
   "cell_type": "code",
   "execution_count": 329,
   "id": "b4bc3dbb-bf9c-4415-9e1a-fc4b00decc00",
   "metadata": {},
   "outputs": [
    {
     "data": {
      "text/plain": [
       "array([[1, 1, 1, 1, 1],\n",
       "       [1, 1, 1, 1, 1]], dtype=int64)"
      ]
     },
     "execution_count": 329,
     "metadata": {},
     "output_type": "execute_result"
    }
   ],
   "source": [
    "x.argmax(axis = 2)"
   ]
  },
  {
   "cell_type": "code",
   "execution_count": null,
   "id": "3d76ab3d-b4e0-4d20-a5f3-b89347babf7f",
   "metadata": {},
   "outputs": [],
   "source": []
  },
  {
   "cell_type": "code",
   "execution_count": 330,
   "id": "3f8ee8f2-97b0-406e-8d0b-6d9d3bad2214",
   "metadata": {},
   "outputs": [],
   "source": [
    "## mean, median"
   ]
  },
  {
   "cell_type": "code",
   "execution_count": 334,
   "id": "7cc9a430-718f-4f3f-aadc-530162da0f48",
   "metadata": {},
   "outputs": [],
   "source": [
    "x = np.array([1, 2, 3, 1])"
   ]
  },
  {
   "cell_type": "code",
   "execution_count": 335,
   "id": "e255c4d4-d7ca-467f-a2f1-887c3e9f7a7e",
   "metadata": {},
   "outputs": [
    {
     "data": {
      "text/plain": [
       "1.75"
      ]
     },
     "execution_count": 335,
     "metadata": {},
     "output_type": "execute_result"
    }
   ],
   "source": [
    "x.mean()"
   ]
  },
  {
   "cell_type": "code",
   "execution_count": 336,
   "id": "7916b4a4-ebb1-465e-82ea-f581e6b179b6",
   "metadata": {},
   "outputs": [
    {
     "data": {
      "text/plain": [
       "1.5"
      ]
     },
     "execution_count": 336,
     "metadata": {},
     "output_type": "execute_result"
    }
   ],
   "source": [
    "np.median(x)"
   ]
  },
  {
   "cell_type": "code",
   "execution_count": null,
   "id": "8b54edb6-2601-4307-b50d-c7ef23a9f94f",
   "metadata": {},
   "outputs": [],
   "source": []
  },
  {
   "cell_type": "code",
   "execution_count": 337,
   "id": "fc78a052-3b9a-4faa-8982-47d922cd0b04",
   "metadata": {},
   "outputs": [],
   "source": [
    "## np.all, np.any"
   ]
  },
  {
   "cell_type": "code",
   "execution_count": 338,
   "id": "2bf0e67d-0496-42f1-8fca-db1b81cd446a",
   "metadata": {},
   "outputs": [
    {
     "data": {
      "text/plain": [
       "False"
      ]
     },
     "execution_count": 338,
     "metadata": {},
     "output_type": "execute_result"
    }
   ],
   "source": [
    "np.all([True, True, False])"
   ]
  },
  {
   "cell_type": "code",
   "execution_count": 340,
   "id": "6f0c76d6-b20c-4ab0-85fb-ca725f791ce1",
   "metadata": {},
   "outputs": [
    {
     "data": {
      "text/plain": [
       "True"
      ]
     },
     "execution_count": 340,
     "metadata": {},
     "output_type": "execute_result"
    }
   ],
   "source": [
    "np.any([True, True, False])"
   ]
  },
  {
   "cell_type": "code",
   "execution_count": null,
   "id": "78f53554-6918-4296-bf4a-601f7609f9ed",
   "metadata": {},
   "outputs": [],
   "source": []
  },
  {
   "cell_type": "code",
   "execution_count": 349,
   "id": "9d861cb7-0850-4211-99b0-3172aaa91d7d",
   "metadata": {},
   "outputs": [],
   "source": [
    "a = np.array([1, 2, 3, 2])\n",
    "b = np.array([2, 2, 3, 2])\n",
    "c = np.array([6, 4, 4, 5])"
   ]
  },
  {
   "cell_type": "code",
   "execution_count": 350,
   "id": "ad1e9c04-abb5-46a1-be86-5bb6c82aafa4",
   "metadata": {},
   "outputs": [
    {
     "data": {
      "text/plain": [
       "array([ True,  True,  True,  True])"
      ]
     },
     "execution_count": 350,
     "metadata": {},
     "output_type": "execute_result"
    }
   ],
   "source": [
    "a <= b"
   ]
  },
  {
   "cell_type": "code",
   "execution_count": 351,
   "id": "13470520-a7b3-4365-94bc-c1694991dbf0",
   "metadata": {},
   "outputs": [
    {
     "data": {
      "text/plain": [
       "array([ True,  True,  True,  True])"
      ]
     },
     "execution_count": 351,
     "metadata": {},
     "output_type": "execute_result"
    }
   ],
   "source": [
    "b <= c"
   ]
  },
  {
   "cell_type": "code",
   "execution_count": 346,
   "id": "887484f1-85b0-4d55-aefb-393fb72aa433",
   "metadata": {},
   "outputs": [
    {
     "data": {
      "text/plain": [
       "True"
      ]
     },
     "execution_count": 346,
     "metadata": {},
     "output_type": "execute_result"
    }
   ],
   "source": [
    "((a <= b) & (b <= c)).all()"
   ]
  },
  {
   "cell_type": "code",
   "execution_count": 352,
   "id": "2aaca7ac-670d-47a2-a024-664599f86342",
   "metadata": {},
   "outputs": [
    {
     "data": {
      "text/plain": [
       "True"
      ]
     },
     "execution_count": 352,
     "metadata": {},
     "output_type": "execute_result"
    }
   ],
   "source": [
    "np.array([True, True, True, True]).all()"
   ]
  },
  {
   "cell_type": "code",
   "execution_count": null,
   "id": "c3314978-0ee2-40f8-acff-d6f2c526ce88",
   "metadata": {},
   "outputs": [],
   "source": []
  },
  {
   "cell_type": "code",
   "execution_count": 353,
   "id": "af43937f-514e-4a4c-bc16-dbbe9c7d6a61",
   "metadata": {},
   "outputs": [
    {
     "data": {
      "text/plain": [
       "array([[False, False, False, ..., False, False, False],\n",
       "       [False, False, False, ..., False, False, False],\n",
       "       [False, False, False, ..., False, False, False],\n",
       "       ...,\n",
       "       [False, False, False, ..., False, False, False],\n",
       "       [False, False, False, ..., False, False, False],\n",
       "       [False, False, False, ..., False, False, False]])"
      ]
     },
     "execution_count": 353,
     "metadata": {},
     "output_type": "execute_result"
    }
   ],
   "source": [
    "np.zeros((100, 100)) != 0"
   ]
  },
  {
   "cell_type": "code",
   "execution_count": 354,
   "id": "40652dbe-d2fd-4646-b3b5-35cf6f94d3d7",
   "metadata": {},
   "outputs": [
    {
     "data": {
      "text/plain": [
       "True"
      ]
     },
     "execution_count": 354,
     "metadata": {},
     "output_type": "execute_result"
    }
   ],
   "source": [
    "np.any(a != 0)"
   ]
  },
  {
   "cell_type": "code",
   "execution_count": null,
   "id": "7f668af6-7928-4485-adef-c49dff8f9579",
   "metadata": {},
   "outputs": [],
   "source": []
  },
  {
   "cell_type": "code",
   "execution_count": 355,
   "id": "069f6a6b-3226-4127-a036-9fb703464554",
   "metadata": {},
   "outputs": [
    {
     "data": {
      "text/plain": [
       "array([[0, 0, 0, ..., 0, 0, 0],\n",
       "       [0, 0, 0, ..., 0, 0, 0],\n",
       "       [0, 0, 0, ..., 0, 0, 0],\n",
       "       ...,\n",
       "       [0, 0, 0, ..., 0, 0, 0],\n",
       "       [0, 0, 0, ..., 0, 0, 0],\n",
       "       [0, 0, 0, ..., 0, 0, 0]], dtype=int64)"
      ]
     },
     "execution_count": 355,
     "metadata": {},
     "output_type": "execute_result"
    }
   ],
   "source": [
    "a = np.zeros((100, 100), dtype = np.int64)\n",
    "a"
   ]
  },
  {
   "cell_type": "code",
   "execution_count": 356,
   "id": "7fb41e70-136d-4a76-a9f1-1d30600f7494",
   "metadata": {},
   "outputs": [
    {
     "data": {
      "text/plain": [
       "False"
      ]
     },
     "execution_count": 356,
     "metadata": {},
     "output_type": "execute_result"
    }
   ],
   "source": [
    "np.any(a != 0)"
   ]
  },
  {
   "cell_type": "code",
   "execution_count": 357,
   "id": "4fa6fd9b-585e-4f70-83f0-f0ecfaee5de6",
   "metadata": {},
   "outputs": [
    {
     "data": {
      "text/plain": [
       "True"
      ]
     },
     "execution_count": 357,
     "metadata": {},
     "output_type": "execute_result"
    }
   ],
   "source": [
    "np.all( a == a)"
   ]
  },
  {
   "cell_type": "code",
   "execution_count": null,
   "id": "5acd6ef1-2712-4fca-b174-85a9a1d85dfc",
   "metadata": {},
   "outputs": [],
   "source": []
  },
  {
   "cell_type": "code",
   "execution_count": 358,
   "id": "684da56b-c5be-485b-8623-843693262ef2",
   "metadata": {},
   "outputs": [],
   "source": [
    "# 연습문제"
   ]
  },
  {
   "cell_type": "code",
   "execution_count": 361,
   "id": "0ea86bb3-f232-4b3d-a6f6-fa603cdafcbb",
   "metadata": {},
   "outputs": [
    {
     "data": {
      "text/plain": [
       "array([[1.1, 7.1, 8. , 2.1, 6.5, 7.2],\n",
       "       [2.7, 5.2, 3.3, 9. , 7.7, 2.8],\n",
       "       [0.7, 8.8, 4.2, 8.9, 4.3, 7.4],\n",
       "       [8.2, 1.1, 5.4, 2.9, 6.9, 0.2],\n",
       "       [7.4, 4.8, 2.7, 3.1, 2.8, 8.9]])"
      ]
     },
     "execution_count": 361,
     "metadata": {},
     "output_type": "execute_result"
    }
   ],
   "source": [
    "practice = np.array([[1.1, 7.1, 8.0, 2.1, 6.5, 7.2],\n",
    "                    [2.7, 5.2, 3.3, 9.0, 7.7, 2.8],\n",
    "                    [0.7, 8.8, 4.2, 8.9, 4.3, 7.4],\n",
    "                    [8.2, 1.1, 5.4, 2.9, 6.9, 0.2],\n",
    "                    [7.4, 4.8, 2.7, 3.1, 2.8, 8.9]])\n",
    "practice"
   ]
  },
  {
   "cell_type": "code",
   "execution_count": 362,
   "id": "ab8f7c73-d4fe-4307-a4e7-e8629e562a44",
   "metadata": {},
   "outputs": [
    {
     "data": {
      "text/plain": [
       "9.0"
      ]
     },
     "execution_count": 362,
     "metadata": {},
     "output_type": "execute_result"
    }
   ],
   "source": [
    "# 전체의 최댓값\n",
    "np.max(practice)"
   ]
  },
  {
   "cell_type": "code",
   "execution_count": 363,
   "id": "68229623-57dd-4f4f-96e4-81cb8b1305f1",
   "metadata": {},
   "outputs": [
    {
     "data": {
      "text/plain": [
       "array([20.1, 27. , 23.6, 26. , 28.2, 26.5])"
      ]
     },
     "execution_count": 363,
     "metadata": {},
     "output_type": "execute_result"
    }
   ],
   "source": [
    "# 행 간의 합\n",
    "np.sum(practice, axis = 0)"
   ]
  },
  {
   "cell_type": "code",
   "execution_count": 364,
   "id": "ce16c705-7211-4ea2-8a40-66d5650c11b2",
   "metadata": {},
   "outputs": [
    {
     "data": {
      "text/plain": [
       "28.2"
      ]
     },
     "execution_count": 364,
     "metadata": {},
     "output_type": "execute_result"
    }
   ],
   "source": [
    "# 행 간의 최댓값\n",
    "a = np.sum(practice, axis = 0)\n",
    "a.max()"
   ]
  },
  {
   "cell_type": "code",
   "execution_count": 365,
   "id": "1f94c4aa-818d-44c1-a0a3-e6a1b94b54d0",
   "metadata": {},
   "outputs": [
    {
     "data": {
      "text/plain": [
       "array([5.33333333, 5.11666667, 5.71666667, 4.11666667, 4.95      ])"
      ]
     },
     "execution_count": 365,
     "metadata": {},
     "output_type": "execute_result"
    }
   ],
   "source": [
    "# 열 간의 평균\n",
    "np.mean(practice, axis = 1)"
   ]
  },
  {
   "cell_type": "code",
   "execution_count": 367,
   "id": "292754e6-6386-4d10-b9d8-c796a562057a",
   "metadata": {},
   "outputs": [
    {
     "data": {
      "text/plain": [
       "array([1.1, 2.7, 0.7, 0.2, 2.7])"
      ]
     },
     "execution_count": 367,
     "metadata": {},
     "output_type": "execute_result"
    }
   ],
   "source": [
    "# 열 간의 최솟값\n",
    "np.min(practice, axis = 1)"
   ]
  },
  {
   "cell_type": "code",
   "execution_count": null,
   "id": "fb0b57de-e6f2-4f07-950f-3f013cfc02eb",
   "metadata": {},
   "outputs": [],
   "source": []
  },
  {
   "cell_type": "code",
   "execution_count": null,
   "id": "41ce86f7-e0cd-4b2e-bcb4-198bf63479f7",
   "metadata": {},
   "outputs": [],
   "source": []
  },
  {
   "cell_type": "code",
   "execution_count": 369,
   "id": "919536a7-51e9-4783-a3ca-a6c08b397998",
   "metadata": {},
   "outputs": [],
   "source": [
    "##### 정렬"
   ]
  },
  {
   "cell_type": "code",
   "execution_count": 371,
   "id": "2a28be06-92bc-4597-920f-e1c3234160ae",
   "metadata": {},
   "outputs": [
    {
     "data": {
      "text/plain": [
       "array([[ 4,  3,  5,  7],\n",
       "       [ 1, 12, 11,  9],\n",
       "       [ 2, 15,  1, 14]])"
      ]
     },
     "execution_count": 371,
     "metadata": {},
     "output_type": "execute_result"
    }
   ],
   "source": [
    "a = np.array([[4, 3, 5, 7],\n",
    "            [1, 12, 11, 9],\n",
    "            [2, 15, 1, 14]])\n",
    "a"
   ]
  },
  {
   "cell_type": "code",
   "execution_count": 372,
   "id": "776390f7-29f2-4347-b15d-273f1ead254f",
   "metadata": {},
   "outputs": [
    {
     "data": {
      "text/plain": [
       "array([[ 3,  4,  5,  7],\n",
       "       [ 1,  9, 11, 12],\n",
       "       [ 1,  2, 14, 15]])"
      ]
     },
     "execution_count": 372,
     "metadata": {},
     "output_type": "execute_result"
    }
   ],
   "source": [
    "np.sort(a)\n",
    "\n",
    "# 자체변화 메서드"
   ]
  },
  {
   "cell_type": "code",
   "execution_count": null,
   "id": "87f89617-d040-442a-80a5-edaf716d1a8f",
   "metadata": {},
   "outputs": [],
   "source": []
  },
  {
   "cell_type": "code",
   "execution_count": 379,
   "id": "bc05f800-d6ab-439a-a9fd-3725834fc329",
   "metadata": {},
   "outputs": [
    {
     "data": {
      "text/plain": [
       "array([2, 3, 1, 0], dtype=int64)"
      ]
     },
     "execution_count": 379,
     "metadata": {},
     "output_type": "execute_result"
    }
   ],
   "source": [
    "a = np.array([42, 38, 12, 25])\n",
    "j = np.argsort(a)  # 주소값으로 출력\n",
    "j"
   ]
  },
  {
   "cell_type": "code",
   "execution_count": 374,
   "id": "ac3e3f01-b72c-4265-a447-b43c6bda4989",
   "metadata": {},
   "outputs": [
    {
     "data": {
      "text/plain": [
       "array([12, 25, 38, 42])"
      ]
     },
     "execution_count": 374,
     "metadata": {},
     "output_type": "execute_result"
    }
   ],
   "source": [
    "a[j]"
   ]
  },
  {
   "cell_type": "code",
   "execution_count": 375,
   "id": "94cf519a-ea5c-463d-b3f6-98e0a30fcc9e",
   "metadata": {},
   "outputs": [
    {
     "data": {
      "text/plain": [
       "array([12, 25, 38, 42])"
      ]
     },
     "execution_count": 375,
     "metadata": {},
     "output_type": "execute_result"
    }
   ],
   "source": [
    "np.sort(a)"
   ]
  },
  {
   "cell_type": "code",
   "execution_count": null,
   "id": "3d3ff27a-4e15-4f31-aba6-2a61cd8b7e5e",
   "metadata": {},
   "outputs": [],
   "source": []
  },
  {
   "cell_type": "code",
   "execution_count": 376,
   "id": "c22f1c82-ecc9-4068-9c34-d6cb3c3063b8",
   "metadata": {},
   "outputs": [],
   "source": [
    "##### 고급 인덱싱 - 인덱스 배열 사용"
   ]
  },
  {
   "cell_type": "code",
   "execution_count": 382,
   "id": "9ffab36c-0854-4a71-97e3-d7c1758da7d2",
   "metadata": {},
   "outputs": [
    {
     "data": {
      "text/plain": [
       "array([[1, 2],\n",
       "       [3, 4],\n",
       "       [5, 6]])"
      ]
     },
     "execution_count": 382,
     "metadata": {},
     "output_type": "execute_result"
    }
   ],
   "source": [
    "a = np.array([[1, 2], [3, 4], [5, 6]])  # 배열 자체\n",
    "a"
   ]
  },
  {
   "cell_type": "code",
   "execution_count": 383,
   "id": "a2b2c411-764b-4939-8869-539e353c962e",
   "metadata": {},
   "outputs": [
    {
     "data": {
      "text/plain": [
       "array([1, 4, 5])"
      ]
     },
     "execution_count": 383,
     "metadata": {},
     "output_type": "execute_result"
    }
   ],
   "source": [
    "a[[0, 1, 2], [0, 1, 0]]"
   ]
  },
  {
   "cell_type": "code",
   "execution_count": 384,
   "id": "7a4ee8e1-4f30-41f0-b7cf-6f218dc321a4",
   "metadata": {},
   "outputs": [
    {
     "name": "stdout",
     "output_type": "stream",
     "text": [
      "[[1 2 1]\n",
      " [3 4 3]\n",
      " [5 6 5]]\n"
     ]
    }
   ],
   "source": [
    "print(a[:, [0, 1, 0]])\n",
    "\n",
    "# [1, 2]에 대해서 0번지, 1번지, 0번지를 차례대로 출력  -> [1, 2, 1]\n",
    "# [3, 4]에 대하여 0번지, 1번지, 0번지를 차례대로 출력  -> [3, 4, 3]\n",
    "# [5, 6]에 대하여 0번지, 1번지, 0번지를 차례대로 출력  -> [5, 6, 5]"
   ]
  },
  {
   "cell_type": "code",
   "execution_count": null,
   "id": "266385a3-354f-47e0-96e7-c2632edc9695",
   "metadata": {},
   "outputs": [],
   "source": []
  },
  {
   "cell_type": "code",
   "execution_count": 391,
   "id": "2ae75e4a-36b1-4d9d-8c0b-00d7c53dddbd",
   "metadata": {},
   "outputs": [
    {
     "data": {
      "text/plain": [
       "array([[  1,   2,   3,   4],\n",
       "       [ 46,  99, 100,  71],\n",
       "       [ 81,  59,  90, 100]])"
      ]
     },
     "execution_count": 391,
     "metadata": {},
     "output_type": "execute_result"
    }
   ],
   "source": [
    "# 연습문제\n",
    "scores = np.array([[1, 2, 3, 4],\n",
    "                   [46, 99, 100, 71],\n",
    "                   [81, 59, 90, 100]])\n",
    "scores"
   ]
  },
  {
   "cell_type": "code",
   "execution_count": 402,
   "id": "4068ce77-6b55-4ed1-af65-49aaa2997f17",
   "metadata": {},
   "outputs": [
    {
     "data": {
      "text/plain": [
       "array([0, 3, 1, 2], dtype=int64)"
      ]
     },
     "execution_count": 402,
     "metadata": {},
     "output_type": "execute_result"
    }
   ],
   "source": [
    "Eng = np.argsort(scores[1,:])\n",
    "Eng"
   ]
  },
  {
   "cell_type": "code",
   "execution_count": 403,
   "id": "051e70df-823c-494d-b68f-b8c56a6cc068",
   "metadata": {},
   "outputs": [
    {
     "name": "stdout",
     "output_type": "stream",
     "text": [
      "[[  1   4   2   3]\n",
      " [ 46  71  99 100]\n",
      " [ 81 100  59  90]]\n"
     ]
    }
   ],
   "source": [
    "print(scores[:,Eng])"
   ]
  },
  {
   "cell_type": "code",
   "execution_count": 404,
   "id": "2cbfff4d-10bf-4610-b853-794408531be5",
   "metadata": {},
   "outputs": [],
   "source": [
    "# 연습문제 다른풀이"
   ]
  },
  {
   "cell_type": "code",
   "execution_count": 405,
   "id": "ae66d6d6-3a34-410d-aee4-04534e1301e5",
   "metadata": {},
   "outputs": [
    {
     "data": {
      "text/plain": [
       "array([[  1,   4,   2,   3],\n",
       "       [ 46,  71,  99, 100],\n",
       "       [ 81, 100,  59,  90]])"
      ]
     },
     "execution_count": 405,
     "metadata": {},
     "output_type": "execute_result"
    }
   ],
   "source": [
    "s = np.array([[1, 2, 3, 4], [46, 99, 100, 71], [81, 59, 90, 100]])\n",
    "\n",
    "s = s[:, s[1, :].argsort()]\n",
    "s"
   ]
  },
  {
   "cell_type": "code",
   "execution_count": null,
   "id": "305c2599-42ca-45d7-ad1e-0a8782e61b2f",
   "metadata": {},
   "outputs": [],
   "source": []
  },
  {
   "cell_type": "code",
   "execution_count": null,
   "id": "35e8c6d7-276c-46c5-8f8e-545498e79791",
   "metadata": {},
   "outputs": [],
   "source": []
  },
  {
   "cell_type": "code",
   "execution_count": 406,
   "id": "fec97f33-8509-4324-a9a4-3a8d6506a02e",
   "metadata": {},
   "outputs": [],
   "source": [
    "##### 기술통계"
   ]
  },
  {
   "cell_type": "code",
   "execution_count": 407,
   "id": "f2674ff6-eca2-48af-be31-1a30b82999ed",
   "metadata": {},
   "outputs": [
    {
     "data": {
      "text/plain": [
       "array([ 18,   5,  10,  23,  19,  -8,  10,   0,   0,   5,   2,  15,   8,\n",
       "         2,   5,   4,  15,  -1,   4,  -7, -24,   7,   9,  -6,  23, -13])"
      ]
     },
     "execution_count": 407,
     "metadata": {},
     "output_type": "execute_result"
    }
   ],
   "source": [
    "x = np.array([18, 5, 10, 23, 19, -8, 10, 0, 0, 5, 2, 15, 8,\n",
    "              2, 5, 4, 15, -1, 4, -7, -24, 7, 9, -6, 23, -13])\n",
    "x"
   ]
  },
  {
   "cell_type": "code",
   "execution_count": 408,
   "id": "a2fc6f35-e723-412c-a172-5d279bb334f7",
   "metadata": {},
   "outputs": [
    {
     "data": {
      "text/plain": [
       "26"
      ]
     },
     "execution_count": 408,
     "metadata": {},
     "output_type": "execute_result"
    }
   ],
   "source": [
    "len(x)  # 데이터 개수"
   ]
  },
  {
   "cell_type": "code",
   "execution_count": 409,
   "id": "e8fb1a61-eead-464a-81a1-0917f56842eb",
   "metadata": {},
   "outputs": [
    {
     "data": {
      "text/plain": [
       "4.8076923076923075"
      ]
     },
     "execution_count": 409,
     "metadata": {},
     "output_type": "execute_result"
    }
   ],
   "source": [
    "np.mean(x)  # 표본 평균"
   ]
  },
  {
   "cell_type": "code",
   "execution_count": 410,
   "id": "27cd2144-e9d9-4c4f-964e-947a9014f9c0",
   "metadata": {},
   "outputs": [
    {
     "data": {
      "text/plain": [
       "115.23224852071006"
      ]
     },
     "execution_count": 410,
     "metadata": {},
     "output_type": "execute_result"
    }
   ],
   "source": [
    "np.var(x)  # 표본 분산"
   ]
  },
  {
   "cell_type": "code",
   "execution_count": 411,
   "id": "e8ff31bf-cdbb-48ae-9291-9480e4758cf7",
   "metadata": {},
   "outputs": [
    {
     "data": {
      "text/plain": [
       "10.734628476137871"
      ]
     },
     "execution_count": 411,
     "metadata": {},
     "output_type": "execute_result"
    }
   ],
   "source": [
    "np.std(x)  # 표본 표준편차"
   ]
  },
  {
   "cell_type": "code",
   "execution_count": 412,
   "id": "84bacb63-515f-4149-b421-bf84059ab265",
   "metadata": {},
   "outputs": [
    {
     "name": "stdout",
     "output_type": "stream",
     "text": [
      "23\n",
      "-24\n"
     ]
    }
   ],
   "source": [
    "print(np.max(x))  # 최댓값\n",
    "print(np.min(x))  # 최댓값"
   ]
  },
  {
   "cell_type": "code",
   "execution_count": 413,
   "id": "55757c8e-807b-43d6-bb68-6d8f51937a26",
   "metadata": {},
   "outputs": [
    {
     "data": {
      "text/plain": [
       "5.0"
      ]
     },
     "execution_count": 413,
     "metadata": {},
     "output_type": "execute_result"
    }
   ],
   "source": [
    "np.median(x)  # 중앙값"
   ]
  },
  {
   "cell_type": "code",
   "execution_count": 414,
   "id": "e34c1871-0d4e-4dee-8a99-b9517c90a234",
   "metadata": {},
   "outputs": [
    {
     "name": "stdout",
     "output_type": "stream",
     "text": [
      "-24.0\n"
     ]
    }
   ],
   "source": [
    "print(np.percentile(x, 0))  # 최솟값"
   ]
  },
  {
   "cell_type": "code",
   "execution_count": 415,
   "id": "91df2e7b-6936-4fd4-9e43-ee4c264fccd8",
   "metadata": {},
   "outputs": [
    {
     "name": "stdout",
     "output_type": "stream",
     "text": [
      "0.0\n"
     ]
    }
   ],
   "source": [
    "print(np.percentile(x, 25))  # 1사분위수"
   ]
  },
  {
   "cell_type": "code",
   "execution_count": 416,
   "id": "fd960645-1d47-41d2-8b27-6ff87d3eea51",
   "metadata": {},
   "outputs": [
    {
     "name": "stdout",
     "output_type": "stream",
     "text": [
      "5.0\n"
     ]
    }
   ],
   "source": [
    "print(np.percentile(x, 50))  # 2사분위수 = 중앙값"
   ]
  },
  {
   "cell_type": "code",
   "execution_count": 417,
   "id": "8f30ec57-24dd-4188-9952-7d0a1ad1997e",
   "metadata": {},
   "outputs": [
    {
     "name": "stdout",
     "output_type": "stream",
     "text": [
      "10.0\n"
     ]
    }
   ],
   "source": [
    "print(np.percentile(x, 75))  # 3사분위수"
   ]
  },
  {
   "cell_type": "code",
   "execution_count": 418,
   "id": "b5fef60d-4f5b-414a-bf21-ccd8107b14ca",
   "metadata": {},
   "outputs": [
    {
     "name": "stdout",
     "output_type": "stream",
     "text": [
      "23.0\n"
     ]
    }
   ],
   "source": [
    "print(np.percentile(x, 100))  # 최댓값"
   ]
  },
  {
   "cell_type": "code",
   "execution_count": null,
   "id": "8b6a4ef2-094f-4e77-bf4c-39324052f195",
   "metadata": {},
   "outputs": [],
   "source": []
  },
  {
   "cell_type": "code",
   "execution_count": null,
   "id": "e91cd89f-5d5d-4e98-a2f3-7b3315114fb8",
   "metadata": {},
   "outputs": [],
   "source": []
  },
  {
   "cell_type": "code",
   "execution_count": 419,
   "id": "46884e14-e8a1-4ac3-8467-317dc8904eb7",
   "metadata": {},
   "outputs": [],
   "source": [
    "##### 시드(seed) 값 설정"
   ]
  },
  {
   "cell_type": "code",
   "execution_count": 440,
   "id": "cf98e9a1-f7d7-476c-8cfa-15358043e6c7",
   "metadata": {},
   "outputs": [],
   "source": [
    "np.random.seed(0)"
   ]
  },
  {
   "cell_type": "code",
   "execution_count": 441,
   "id": "87983101-8eb2-4a08-ac91-2d382edd5295",
   "metadata": {},
   "outputs": [
    {
     "data": {
      "text/plain": [
       "array([0.5488135 , 0.71518937, 0.60276338, 0.54488318, 0.4236548 ])"
      ]
     },
     "execution_count": 441,
     "metadata": {},
     "output_type": "execute_result"
    }
   ],
   "source": [
    "np.random.rand(5)"
   ]
  },
  {
   "cell_type": "code",
   "execution_count": 442,
   "id": "4b780ad9-397e-4849-af39-495982c232be",
   "metadata": {},
   "outputs": [
    {
     "data": {
      "text/plain": [
       "array([0.64589411, 0.43758721, 0.891773  , 0.96366276, 0.38344152,\n",
       "       0.79172504, 0.52889492, 0.56804456, 0.92559664, 0.07103606])"
      ]
     },
     "execution_count": 442,
     "metadata": {},
     "output_type": "execute_result"
    }
   ],
   "source": [
    "np.random.rand(10)"
   ]
  },
  {
   "cell_type": "code",
   "execution_count": 443,
   "id": "e00cc885-50d8-43bc-a072-8ab66fa18499",
   "metadata": {},
   "outputs": [
    {
     "data": {
      "text/plain": [
       "array([0.0871293 , 0.0202184 , 0.83261985, 0.77815675, 0.87001215,\n",
       "       0.97861834, 0.79915856, 0.46147936, 0.78052918, 0.11827443])"
      ]
     },
     "execution_count": 443,
     "metadata": {},
     "output_type": "execute_result"
    }
   ],
   "source": [
    "np.random.rand(10)"
   ]
  },
  {
   "cell_type": "code",
   "execution_count": null,
   "id": "1d3a1d53-2532-41b8-af1e-34d328bfec50",
   "metadata": {},
   "outputs": [],
   "source": []
  },
  {
   "cell_type": "code",
   "execution_count": null,
   "id": "c607b960-8a0c-4ccb-a449-2f985db9f034",
   "metadata": {},
   "outputs": [],
   "source": []
  },
  {
   "cell_type": "code",
   "execution_count": 430,
   "id": "36f7211d-918c-4345-8ff5-ec4e66ee309f",
   "metadata": {},
   "outputs": [],
   "source": [
    "##### 데이터 순서바꾸기"
   ]
  },
  {
   "cell_type": "code",
   "execution_count": 444,
   "id": "d10f5544-a91b-43b3-9aae-a18b1ce145c4",
   "metadata": {},
   "outputs": [
    {
     "data": {
      "text/plain": [
       "array([0, 1, 2, 3, 4, 5, 6, 7, 8, 9])"
      ]
     },
     "execution_count": 444,
     "metadata": {},
     "output_type": "execute_result"
    }
   ],
   "source": [
    "x = np.arange(10)\n",
    "x"
   ]
  },
  {
   "cell_type": "code",
   "execution_count": 445,
   "id": "92ec112b-f155-46d7-b88d-7ef64440514b",
   "metadata": {},
   "outputs": [
    {
     "data": {
      "text/plain": [
       "array([3, 6, 4, 5, 2, 9, 7, 8, 1, 0])"
      ]
     },
     "execution_count": 445,
     "metadata": {},
     "output_type": "execute_result"
    }
   ],
   "source": [
    "np.random.shuffle(x)\n",
    "x"
   ]
  },
  {
   "cell_type": "code",
   "execution_count": null,
   "id": "d10bab07-710d-4637-be95-b74c7159d3c9",
   "metadata": {},
   "outputs": [],
   "source": []
  },
  {
   "cell_type": "code",
   "execution_count": null,
   "id": "520e23de-c199-4c5c-9981-b025324c119d",
   "metadata": {},
   "outputs": [],
   "source": []
  },
  {
   "cell_type": "code",
   "execution_count": 437,
   "id": "9a5e61d4-4927-4ade-b5a6-263f3d074205",
   "metadata": {},
   "outputs": [],
   "source": [
    "##### 데이터 샘플링"
   ]
  },
  {
   "cell_type": "code",
   "execution_count": 446,
   "id": "f4636135-a4c9-483a-bc5c-bbcba5ad50b7",
   "metadata": {},
   "outputs": [
    {
     "data": {
      "text/plain": [
       "array([1, 4, 0, 3, 2])"
      ]
     },
     "execution_count": 446,
     "metadata": {},
     "output_type": "execute_result"
    }
   ],
   "source": [
    "np.random.choice(5, 5, replace = False)  # Shuffle 명령과 동일"
   ]
  },
  {
   "cell_type": "code",
   "execution_count": 447,
   "id": "3bea67a5-4746-4088-887c-fb0f4e17c4f8",
   "metadata": {},
   "outputs": [
    {
     "data": {
      "text/plain": [
       "array([2, 1, 3])"
      ]
     },
     "execution_count": 447,
     "metadata": {},
     "output_type": "execute_result"
    }
   ],
   "source": [
    "np.random.choice(5, 3, replace = False)"
   ]
  },
  {
   "cell_type": "code",
   "execution_count": 448,
   "id": "8904145b-5e90-4960-bb71-8bf961e2b9c8",
   "metadata": {},
   "outputs": [
    {
     "data": {
      "text/plain": [
       "array([0, 4, 1, 4, 1, 2, 2, 0, 1, 1])"
      ]
     },
     "execution_count": 448,
     "metadata": {},
     "output_type": "execute_result"
    }
   ],
   "source": [
    "np.random.choice(5, 10)"
   ]
  },
  {
   "cell_type": "code",
   "execution_count": 449,
   "id": "72f28a3f-614d-4f3e-9998-77b81b22da22",
   "metadata": {},
   "outputs": [
    {
     "data": {
      "text/plain": [
       "array([0, 3, 3, 2, 2, 3, 3, 2, 0, 3])"
      ]
     },
     "execution_count": 449,
     "metadata": {},
     "output_type": "execute_result"
    }
   ],
   "source": [
    "np.random.choice(5, 10, p = [0.1, 0, 0.3, 0.6, 0])"
   ]
  },
  {
   "cell_type": "code",
   "execution_count": null,
   "id": "67b7c659-97cb-419e-9080-766fe0526b2a",
   "metadata": {},
   "outputs": [],
   "source": []
  },
  {
   "cell_type": "code",
   "execution_count": null,
   "id": "23c3eb65-5f92-4a43-a5d0-b9c69cd9e59e",
   "metadata": {},
   "outputs": [],
   "source": [
    "## 난수 생성"
   ]
  },
  {
   "cell_type": "code",
   "execution_count": 450,
   "id": "9b586577-d50a-49ac-a866-b22b8c2bd7e9",
   "metadata": {},
   "outputs": [
    {
     "data": {
      "text/plain": [
       "array([0.95894927, 0.65279032, 0.63505887, 0.99529957, 0.58185033,\n",
       "       0.41436859, 0.4746975 , 0.6235101 , 0.33800761, 0.67475232])"
      ]
     },
     "execution_count": 450,
     "metadata": {},
     "output_type": "execute_result"
    }
   ],
   "source": [
    "np.random.rand(10)  # 0 ~ 1 사이의 균일한 확률분포, 실수 난수 생성"
   ]
  },
  {
   "cell_type": "code",
   "execution_count": 451,
   "id": "361ed485-363d-43f8-a95c-a6d416ae502e",
   "metadata": {},
   "outputs": [
    {
     "data": {
      "text/plain": [
       "array([[0.31720174, 0.77834548, 0.94957105, 0.66252687, 0.01357164],\n",
       "       [0.6228461 , 0.67365963, 0.971945  , 0.87819347, 0.50962438],\n",
       "       [0.05571469, 0.45115921, 0.01998767, 0.44171092, 0.97958673]])"
      ]
     },
     "execution_count": 451,
     "metadata": {},
     "output_type": "execute_result"
    }
   ],
   "source": [
    "np.random.rand(3, 5)"
   ]
  },
  {
   "cell_type": "code",
   "execution_count": null,
   "id": "082445b5-2521-435a-a061-f0a320ac6f1c",
   "metadata": {},
   "outputs": [],
   "source": []
  },
  {
   "cell_type": "code",
   "execution_count": 452,
   "id": "ea042081-79fb-427a-9c33-9a5eecc8da71",
   "metadata": {},
   "outputs": [
    {
     "data": {
      "text/plain": [
       "array([-0.30237513, -2.2244036 ,  0.72400636,  0.35900276,  1.07612104,\n",
       "        0.19214083,  0.85292596,  0.01835718,  0.42830357,  0.99627783])"
      ]
     },
     "execution_count": 452,
     "metadata": {},
     "output_type": "execute_result"
    }
   ],
   "source": [
    "np.random.randn(10)  # 표준정규분포를 따르는 난수 생성"
   ]
  },
  {
   "cell_type": "code",
   "execution_count": 453,
   "id": "a58765ea-f590-4eed-9750-6107a6d3bf19",
   "metadata": {},
   "outputs": [
    {
     "data": {
      "text/plain": [
       "array([[-0.49114966,  0.71267817,  1.11334035, -2.15367459, -0.41611148],\n",
       "       [-1.07089699,  0.22113881, -1.12305712, -1.05075796,  1.01207905],\n",
       "       [ 1.54371643, -0.40211489,  0.8647491 , -0.22686923,  0.81116027]])"
      ]
     },
     "execution_count": 453,
     "metadata": {},
     "output_type": "execute_result"
    }
   ],
   "source": [
    "np.random.randn(3, 5)"
   ]
  },
  {
   "cell_type": "code",
   "execution_count": null,
   "id": "0bd81fa6-b521-45a1-99e0-622693d580a6",
   "metadata": {},
   "outputs": [],
   "source": []
  },
  {
   "cell_type": "code",
   "execution_count": 454,
   "id": "6fe3b177-d4b6-469c-ba63-f03915931631",
   "metadata": {},
   "outputs": [
    {
     "data": {
      "text/plain": [
       "array([0, 4, 3, 6, 9, 8, 0, 8, 5, 9])"
      ]
     },
     "execution_count": 454,
     "metadata": {},
     "output_type": "execute_result"
    }
   ],
   "source": [
    "np.random.randint(10, size = 10)"
   ]
  },
  {
   "cell_type": "code",
   "execution_count": 455,
   "id": "0a7c59e8-a899-493e-9759-66cc05c5886b",
   "metadata": {},
   "outputs": [
    {
     "data": {
      "text/plain": [
       "array([10, 19, 16, 15, 13, 11, 18, 10, 14, 19])"
      ]
     },
     "execution_count": 455,
     "metadata": {},
     "output_type": "execute_result"
    }
   ],
   "source": [
    "np.random.randint(10, 20, size = 10)"
   ]
  },
  {
   "cell_type": "code",
   "execution_count": 456,
   "id": "23e65046-f478-476a-93f2-52769dc53978",
   "metadata": {},
   "outputs": [
    {
     "data": {
      "text/plain": [
       "array([[16, 15, 17, 18, 18],\n",
       "       [19, 12, 18, 16, 16],\n",
       "       [19, 11, 16, 18, 18]])"
      ]
     },
     "execution_count": 456,
     "metadata": {},
     "output_type": "execute_result"
    }
   ],
   "source": [
    "np.random.randint(10, 20, size = (3, 5))"
   ]
  },
  {
   "cell_type": "code",
   "execution_count": null,
   "id": "29cb4323-4f33-4d3f-953d-09a6eb2a4357",
   "metadata": {},
   "outputs": [],
   "source": []
  },
  {
   "cell_type": "code",
   "execution_count": 461,
   "id": "4e9d29c2-f91a-4ffb-8b4b-4573699496e4",
   "metadata": {},
   "outputs": [
    {
     "data": {
      "text/plain": [
       "array([0, 1, 1, 0, 1, 1, 1, 1, 1, 1, 1, 0, 0, 1, 0, 0, 0, 0, 0, 1, 0, 1,\n",
       "       1, 0, 0, 1, 1, 1, 1, 0, 1, 0, 1, 0, 1, 1, 0, 1, 1, 0, 0, 1, 0, 1,\n",
       "       1, 1, 1, 1, 0, 1, 0, 1, 1, 1, 1, 0, 1, 0, 0, 1, 1, 0, 1, 0, 1, 0,\n",
       "       0, 0, 0, 0, 1, 1, 0, 0, 0, 1, 1, 0, 1, 0, 0, 1, 0, 1, 1, 1, 1, 1,\n",
       "       1, 0, 1, 1, 0, 0, 1, 0, 0, 1, 1, 0])"
      ]
     },
     "execution_count": 461,
     "metadata": {},
     "output_type": "execute_result"
    }
   ],
   "source": [
    "# 연습문제 1\n",
    "np.random.seed(0)\n",
    "a = np.random.randint(0, 2, size = 100)\n",
    "a"
   ]
  },
  {
   "cell_type": "code",
   "execution_count": 469,
   "id": "70d9140b-92c3-4fe0-af0c-f37c5217d71c",
   "metadata": {},
   "outputs": [
    {
     "data": {
      "text/plain": [
       "0.56"
      ]
     },
     "execution_count": 469,
     "metadata": {},
     "output_type": "execute_result"
    }
   ],
   "source": [
    "prob = a.sum() / len(a)\n",
    "prob"
   ]
  },
  {
   "cell_type": "code",
   "execution_count": null,
   "id": "4aac1ee2-a9cb-4d57-8b40-fef18e6900a4",
   "metadata": {},
   "outputs": [],
   "source": []
  },
  {
   "cell_type": "code",
   "execution_count": 471,
   "id": "6a0c59ea-ab99-40b4-8f73-a1cca93e33a7",
   "metadata": {},
   "outputs": [
    {
     "data": {
      "text/plain": [
       "array([5, 6, 1, 4, 4, 4, 2, 4, 6, 3, 5, 1, 1, 5, 3, 2, 1, 2, 6, 2, 6, 1,\n",
       "       2, 5, 4, 1, 4, 6, 1, 3, 4, 1, 2, 4, 6, 4, 4, 1, 2, 2, 2, 1, 3, 5,\n",
       "       4, 4, 3, 5, 3, 1, 1, 5, 6, 6, 1, 5, 2, 5, 2, 3, 3, 1, 2, 2, 2, 2,\n",
       "       4, 4, 3, 4, 1, 4, 6, 5, 2, 3, 5, 4, 5, 5, 5, 4, 5, 5, 5, 1, 5, 4,\n",
       "       3, 6, 6, 6, 1, 2, 6, 2, 4, 1, 6, 1])"
      ]
     },
     "execution_count": 471,
     "metadata": {},
     "output_type": "execute_result"
    }
   ],
   "source": [
    "# 연습문제 2\n",
    "np.random.seed(0)\n",
    "dice = np.random.randint(1, 7, size = 100)\n",
    "dice"
   ]
  },
  {
   "cell_type": "code",
   "execution_count": 473,
   "id": "19228a15-2700-4e02-8fe8-e92001047bc5",
   "metadata": {},
   "outputs": [
    {
     "data": {
      "text/plain": [
       "3.42"
      ]
     },
     "execution_count": 473,
     "metadata": {},
     "output_type": "execute_result"
    }
   ],
   "source": [
    "np.mean(dice)"
   ]
  },
  {
   "cell_type": "code",
   "execution_count": null,
   "id": "54fda9a7-f7ee-41d1-8dc0-cb05e0c6ddd9",
   "metadata": {},
   "outputs": [],
   "source": []
  },
  {
   "cell_type": "code",
   "execution_count": null,
   "id": "75032131-5f85-4e40-8b29-3b971bc2adc5",
   "metadata": {},
   "outputs": [],
   "source": []
  },
  {
   "cell_type": "code",
   "execution_count": 474,
   "id": "21eff18d-cc87-43ff-87fb-9551db244c9e",
   "metadata": {},
   "outputs": [],
   "source": [
    "##### 정수 데이터 카운팅"
   ]
  },
  {
   "cell_type": "code",
   "execution_count": 475,
   "id": "b2464dfe-ac46-4490-9abd-d88dce409da3",
   "metadata": {},
   "outputs": [
    {
     "data": {
      "text/plain": [
       "array([ 2, 11, 34])"
      ]
     },
     "execution_count": 475,
     "metadata": {},
     "output_type": "execute_result"
    }
   ],
   "source": [
    "np.unique([11, 11, 2, 2, 34, 34])"
   ]
  },
  {
   "cell_type": "code",
   "execution_count": 476,
   "id": "91e675fb-9d26-4586-b378-3c4e3e5d4211",
   "metadata": {},
   "outputs": [],
   "source": [
    "a = np.array(['a', 'b', 'b', 'c', 'a'])\n",
    "index, count = np.unique(a, return_counts = True)"
   ]
  },
  {
   "cell_type": "code",
   "execution_count": 477,
   "id": "fc96ce6b-af6a-423a-aed2-747026e68708",
   "metadata": {},
   "outputs": [
    {
     "data": {
      "text/plain": [
       "array(['a', 'b', 'c'], dtype='<U1')"
      ]
     },
     "execution_count": 477,
     "metadata": {},
     "output_type": "execute_result"
    }
   ],
   "source": [
    "index"
   ]
  },
  {
   "cell_type": "code",
   "execution_count": 478,
   "id": "ba76a4e1-8d80-4ef1-9ee8-c4a29455a878",
   "metadata": {},
   "outputs": [
    {
     "data": {
      "text/plain": [
       "array([2, 2, 1], dtype=int64)"
      ]
     },
     "execution_count": 478,
     "metadata": {},
     "output_type": "execute_result"
    }
   ],
   "source": [
    "count  # a 2개, b 2개, c 1개"
   ]
  },
  {
   "cell_type": "code",
   "execution_count": null,
   "id": "04069090-51fd-45d8-baa2-5c2d23beaabe",
   "metadata": {},
   "outputs": [],
   "source": []
  },
  {
   "cell_type": "code",
   "execution_count": 479,
   "id": "068bb6a0-bf68-46b9-abce-3a18624bf586",
   "metadata": {},
   "outputs": [
    {
     "data": {
      "text/plain": [
       "array([0, 2, 3, 1, 0, 0], dtype=int64)"
      ]
     },
     "execution_count": 479,
     "metadata": {},
     "output_type": "execute_result"
    }
   ],
   "source": [
    "np.bincount([1, 1, 2, 2, 2, 3], minlength = 6)"
   ]
  }
 ],
 "metadata": {
  "kernelspec": {
   "display_name": "Python 3 (ipykernel)",
   "language": "python",
   "name": "python3"
  },
  "language_info": {
   "codemirror_mode": {
    "name": "ipython",
    "version": 3
   },
   "file_extension": ".py",
   "mimetype": "text/x-python",
   "name": "python",
   "nbconvert_exporter": "python",
   "pygments_lexer": "ipython3",
   "version": "3.9.13"
  }
 },
 "nbformat": 4,
 "nbformat_minor": 5
}
