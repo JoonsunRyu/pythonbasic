{
 "cells": [
  {
   "cell_type": "code",
   "execution_count": null,
   "id": "79b5ae9b-2546-4df3-9ad9-1007fd190a74",
   "metadata": {},
   "outputs": [],
   "source": [
    "##### 버전 & 경로 확인"
   ]
  },
  {
   "cell_type": "code",
   "execution_count": 1,
   "id": "604efd7d-d040-404a-a16d-4968128c861c",
   "metadata": {},
   "outputs": [
    {
     "name": "stdout",
     "output_type": "stream",
     "text": [
      "3.9.13 (main, Aug 25 2022, 23:51:50) [MSC v.1916 64 bit (AMD64)]\n"
     ]
    }
   ],
   "source": [
    "import sys\n",
    "print(sys.version)"
   ]
  },
  {
   "cell_type": "code",
   "execution_count": 2,
   "id": "79071d22-5558-471f-85a5-c5eb82177388",
   "metadata": {},
   "outputs": [
    {
     "name": "stdout",
     "output_type": "stream",
     "text": [
      " C 드라이브의 볼륨에는 이름이 없습니다.\n",
      " 볼륨 일련 번호: 78CA-D7D9\n",
      "\n",
      " C:\\python 디렉터리\n",
      "\n",
      "2023-02-13  오전 10:31    <DIR>          .\n",
      "2023-02-13  오전 10:31    <DIR>          ..\n",
      "2023-02-13  오전 10:30    <DIR>          .ipynb_checkpoints\n",
      "2023-02-13  오전 10:31               992 230213.ipynb\n",
      "               1개 파일                 992 바이트\n",
      "               3개 디렉터리  159,845,044,224 바이트 남음\n"
     ]
    }
   ],
   "source": [
    "!dir"
   ]
  },
  {
   "cell_type": "code",
   "execution_count": null,
   "id": "64b4430b-0df4-4f22-9e8a-3e6e111f4278",
   "metadata": {},
   "outputs": [],
   "source": []
  }
 ],
 "metadata": {
  "kernelspec": {
   "display_name": "Python 3 (ipykernel)",
   "language": "python",
   "name": "python3"
  },
  "language_info": {
   "codemirror_mode": {
    "name": "ipython",
    "version": 3
   },
   "file_extension": ".py",
   "mimetype": "text/x-python",
   "name": "python",
   "nbconvert_exporter": "python",
   "pygments_lexer": "ipython3",
   "version": "3.9.13"
  }
 },
 "nbformat": 4,
 "nbformat_minor": 5
}
