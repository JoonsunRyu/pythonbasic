{
 "cells": [
  {
   "cell_type": "code",
   "execution_count": null,
   "id": "79b5ae9b-2546-4df3-9ad9-1007fd190a74",
   "metadata": {},
   "outputs": [],
   "source": [
    "##### 버전 & 경로 확인"
   ]
  },
  {
   "cell_type": "code",
   "execution_count": 1,
   "id": "604efd7d-d040-404a-a16d-4968128c861c",
   "metadata": {},
   "outputs": [
    {
     "name": "stdout",
     "output_type": "stream",
     "text": [
      "3.9.13 (main, Aug 25 2022, 23:51:50) [MSC v.1916 64 bit (AMD64)]\n"
     ]
    }
   ],
   "source": [
    "import sys\n",
    "print(sys.version)"
   ]
  },
  {
   "cell_type": "code",
   "execution_count": 2,
   "id": "79071d22-5558-471f-85a5-c5eb82177388",
   "metadata": {},
   "outputs": [
    {
     "name": "stdout",
     "output_type": "stream",
     "text": [
      " C 드라이브의 볼륨에는 이름이 없습니다.\n",
      " 볼륨 일련 번호: 78CA-D7D9\n",
      "\n",
      " C:\\python 디렉터리\n",
      "\n",
      "2023-02-13  오전 10:31    <DIR>          .\n",
      "2023-02-13  오전 10:31    <DIR>          ..\n",
      "2023-02-13  오전 10:30    <DIR>          .ipynb_checkpoints\n",
      "2023-02-13  오전 10:31               992 230213.ipynb\n",
      "               1개 파일                 992 바이트\n",
      "               3개 디렉터리  159,845,044,224 바이트 남음\n"
     ]
    }
   ],
   "source": [
    "!dir"
   ]
  },
  {
   "cell_type": "code",
   "execution_count": 1,
   "id": "64b4430b-0df4-4f22-9e8a-3e6e111f4278",
   "metadata": {},
   "outputs": [
    {
     "name": "stdout",
     "output_type": "stream",
     "text": [
      "Hello world\n"
     ]
    }
   ],
   "source": [
    "print(\"Hello world\")"
   ]
  },
  {
   "cell_type": "code",
   "execution_count": null,
   "id": "d578f6af-bc47-44bf-95a5-9c3f4af5f32c",
   "metadata": {},
   "outputs": [],
   "source": []
  },
  {
   "cell_type": "code",
   "execution_count": 3,
   "id": "f539d0a3-6568-43a9-9709-4f9e32dc8d07",
   "metadata": {},
   "outputs": [],
   "source": [
    "##### 주석 사용하기\n",
    "x = 1  # 여기서 =(등호)기호는 수학의 같다는 의미와는 다르다.\n",
    "       # 리터럴 = 값 우변의 리터럴을 좌변의 변수에 대입한다는 의미. (같다는 의미 X)\n",
    "       # 리터럴은 값 그 자체\n",
    "        \n",
    "text = \"# 이것은 주석이 아닙니다. 따옴표 안은 문자열 리터럴입니다.\""
   ]
  },
  {
   "cell_type": "code",
   "execution_count": 4,
   "id": "f1b4d5e4-b14f-4cd9-9901-3b5772ee27b5",
   "metadata": {},
   "outputs": [
    {
     "name": "stdout",
     "output_type": "stream",
     "text": [
      "1\n",
      "# 이것은 주석이 아닙니다. 따옴표 안은 문자열 리터럴입니다.\n"
     ]
    }
   ],
   "source": [
    "print(x)\n",
    "print(text)\n",
    "\n",
    "# print() : Parameter로 받은 값을 모니터에 출력해주는 함수"
   ]
  },
  {
   "cell_type": "code",
   "execution_count": null,
   "id": "7a0d1fdc-490a-4af8-b1a9-b43d9e755d56",
   "metadata": {},
   "outputs": [],
   "source": []
  },
  {
   "cell_type": "code",
   "execution_count": null,
   "id": "66a0d938-7f15-410b-a253-4c9cffcb5e28",
   "metadata": {},
   "outputs": [],
   "source": [
    "##### Quiz"
   ]
  },
  {
   "cell_type": "code",
   "execution_count": null,
   "id": "79981061-be6c-424c-a522-3a1944443d91",
   "metadata": {},
   "outputs": [],
   "source": [
    "a = \"Hello, world!\\nHello, world!\"\n",
    "b = \"Python Programming\"\n",
    "\n",
    "print(a)\n",
    "print(b)\n",
    "\n",
    "# 또는 print(\"Hello, world!) 2번 입력해도 무방"
   ]
  },
  {
   "cell_type": "code",
   "execution_count": null,
   "id": "fcf8f863-b2a8-4a57-9cb0-ccb8956c3fb3",
   "metadata": {},
   "outputs": [],
   "source": []
  },
  {
   "cell_type": "code",
   "execution_count": null,
   "id": "8b85bcdb-bda9-40a9-98d2-aa8b9f0a43f9",
   "metadata": {},
   "outputs": [],
   "source": [
    "##### 사칙연산"
   ]
  },
  {
   "cell_type": "code",
   "execution_count": null,
   "id": "5068a2c8-c376-4dca-bc7b-29002f13e706",
   "metadata": {},
   "outputs": [],
   "source": [
    "# 연산 결과는 정수형(int), 실수형(float)으로 구분됨\n",
    "# +, -, *, /, //, %\n",
    "# 연산자 우선순위"
   ]
  },
  {
   "cell_type": "code",
   "execution_count": 5,
   "id": "1b2103f1-9cf0-4989-807b-e87d5604fb86",
   "metadata": {},
   "outputs": [
    {
     "data": {
      "text/plain": [
       "89"
      ]
     },
     "execution_count": 5,
     "metadata": {},
     "output_type": "execute_result"
    }
   ],
   "source": [
    "# Q1.\n",
    "13 + (22 - 3) * 4"
   ]
  },
  {
   "cell_type": "code",
   "execution_count": 6,
   "id": "215356bf-49e2-4816-af82-8c0431221807",
   "metadata": {},
   "outputs": [
    {
     "data": {
      "text/plain": [
       "28.2"
      ]
     },
     "execution_count": 6,
     "metadata": {},
     "output_type": "execute_result"
    }
   ],
   "source": [
    "# Q2.\n",
    "13 + ((22-3)*4) / 5"
   ]
  },
  {
   "cell_type": "code",
   "execution_count": 9,
   "id": "08eb7020-2f0c-47a7-b1dd-506a68c75526",
   "metadata": {},
   "outputs": [
    {
     "data": {
      "text/plain": [
       "7"
      ]
     },
     "execution_count": 9,
     "metadata": {},
     "output_type": "execute_result"
    }
   ],
   "source": [
    "# Q3.\n",
    "int(0.2467 * 12 + 4.159)"
   ]
  },
  {
   "cell_type": "code",
   "execution_count": 11,
   "id": "4040006c-b782-4219-bc8e-20b8037db292",
   "metadata": {},
   "outputs": [
    {
     "name": "stdout",
     "output_type": "stream",
     "text": [
      "실행 결과:\n",
      "가장 시끄러운 층은 = 7 층\n"
     ]
    }
   ],
   "source": [
    "# Q3.심화\n",
    "print(\"실행\",\"결과:\\n가장\",\"시끄러운\",\"층은\",\"=\",\"7\",\"층\")"
   ]
  },
  {
   "cell_type": "code",
   "execution_count": 17,
   "id": "35618ddb-acab-4318-b947-f56f59356953",
   "metadata": {},
   "outputs": [
    {
     "name": "stdout",
     "output_type": "stream",
     "text": [
      "냉장고 가격은 1272000 원 입니다.\n"
     ]
    }
   ],
   "source": [
    "# Q4.\n",
    "a = 53000*24\n",
    "print(\"냉장고 가격은\",a,\"원 입니다.\")"
   ]
  },
  {
   "cell_type": "code",
   "execution_count": 22,
   "id": "d97dc52b-6762-4a04-b800-2a8983b2c8e2",
   "metadata": {},
   "outputs": [
    {
     "name": "stdout",
     "output_type": "stream",
     "text": [
      "총 지불 해야 할 금액은 16500000 원 입니다.\n"
     ]
    }
   ],
   "source": [
    "# Q5.\n",
    "people = 250\n",
    "tax = 10/100\n",
    "print(\"총 지불 해야 할 금액은\",int(20000*3*people*(1 + tax)),\"원 입니다.\")"
   ]
  },
  {
   "cell_type": "code",
   "execution_count": null,
   "id": "e2de90ee-a51c-4126-9260-74a4ca177bf3",
   "metadata": {},
   "outputs": [],
   "source": []
  },
  {
   "cell_type": "code",
   "execution_count": 23,
   "id": "6825f6b5-d644-4ff0-aac3-e7c3ae97fb85",
   "metadata": {},
   "outputs": [],
   "source": [
    "##### 2진수: 맨 앞에 0b를 적고 입력"
   ]
  },
  {
   "cell_type": "code",
   "execution_count": 27,
   "id": "5cb5a15c-3045-46d1-a9ef-d35262b28ecd",
   "metadata": {},
   "outputs": [
    {
     "name": "stdout",
     "output_type": "stream",
     "text": [
      "17\n",
      "0b10001\n"
     ]
    }
   ],
   "source": [
    "print(0b10001)\n",
    "print(bin(17))"
   ]
  },
  {
   "cell_type": "code",
   "execution_count": null,
   "id": "68fd43c6-4c49-4c1b-a098-e9abf9fad3c2",
   "metadata": {},
   "outputs": [],
   "source": [
    "##### 8진수: 맨 앞에 0o를 적고 입력"
   ]
  },
  {
   "cell_type": "code",
   "execution_count": 33,
   "id": "c3427547-19a2-40b9-ae88-3133fa4c2e95",
   "metadata": {},
   "outputs": [
    {
     "name": "stdout",
     "output_type": "stream",
     "text": [
      "17\n",
      "0o21\n"
     ]
    }
   ],
   "source": [
    "print(0o21)\n",
    "print(oct(17))"
   ]
  },
  {
   "cell_type": "code",
   "execution_count": 30,
   "id": "5d1d3c11-1bed-499e-846e-d51a33dd8be8",
   "metadata": {},
   "outputs": [],
   "source": [
    "##### 16진수: 맨 앞에 0x를 적고 입력"
   ]
  },
  {
   "cell_type": "code",
   "execution_count": 32,
   "id": "cc2f35eb-0fc7-47bb-8053-2f61b8383600",
   "metadata": {},
   "outputs": [
    {
     "name": "stdout",
     "output_type": "stream",
     "text": [
      "31\n",
      "0x1f\n"
     ]
    }
   ],
   "source": [
    "print(0x1f)\n",
    "print(hex(31))"
   ]
  },
  {
   "cell_type": "code",
   "execution_count": 34,
   "id": "4fbf984d-9cc6-4899-aa71-267ce8f5f568",
   "metadata": {},
   "outputs": [
    {
     "data": {
      "text/plain": [
       "453.0"
      ]
     },
     "execution_count": 34,
     "metadata": {},
     "output_type": "execute_result"
    }
   ],
   "source": [
    "# 연습문제\n",
    "AP = 380\n",
    "AP * 0.6 + 225"
   ]
  },
  {
   "cell_type": "code",
   "execution_count": null,
   "id": "21a3aad4-734b-4693-94c5-085f34b5f065",
   "metadata": {},
   "outputs": [],
   "source": []
  },
  {
   "cell_type": "code",
   "execution_count": null,
   "id": "623ad96b-482c-4e04-9678-db614abbc8a3",
   "metadata": {},
   "outputs": [],
   "source": [
    "##### 변수 정의/삭제"
   ]
  },
  {
   "cell_type": "code",
   "execution_count": 35,
   "id": "5035851b-788f-49a8-86d1-f06e9ea63956",
   "metadata": {},
   "outputs": [
    {
     "name": "stdout",
     "output_type": "stream",
     "text": [
      "30\n"
     ]
    }
   ],
   "source": [
    "a = 10\n",
    "a = a + 20\n",
    "print(a)"
   ]
  },
  {
   "cell_type": "code",
   "execution_count": 36,
   "id": "44ac0f8e-2243-4c0f-ae1e-5f06d960d6ef",
   "metadata": {},
   "outputs": [
    {
     "ename": "NameError",
     "evalue": "name 'a' is not defined",
     "output_type": "error",
     "traceback": [
      "\u001b[1;31m---------------------------------------------------------------------------\u001b[0m",
      "\u001b[1;31mNameError\u001b[0m                                 Traceback (most recent call last)",
      "\u001b[1;32m~\\AppData\\Local\\Temp\\ipykernel_6768\\638624753.py\u001b[0m in \u001b[0;36m<module>\u001b[1;34m\u001b[0m\n\u001b[0;32m      1\u001b[0m \u001b[1;32mdel\u001b[0m\u001b[1;33m(\u001b[0m\u001b[0ma\u001b[0m\u001b[1;33m)\u001b[0m\u001b[1;33m\u001b[0m\u001b[1;33m\u001b[0m\u001b[0m\n\u001b[1;32m----> 2\u001b[1;33m \u001b[0mprint\u001b[0m\u001b[1;33m(\u001b[0m\u001b[0ma\u001b[0m\u001b[1;33m)\u001b[0m\u001b[1;33m\u001b[0m\u001b[1;33m\u001b[0m\u001b[0m\n\u001b[0m",
      "\u001b[1;31mNameError\u001b[0m: name 'a' is not defined"
     ]
    }
   ],
   "source": [
    "# 변수 삭제 후 실행 시 -> 에러 발생\n",
    "del(a)\n",
    "print(a)"
   ]
  },
  {
   "cell_type": "code",
   "execution_count": 38,
   "id": "3297c485-0acd-4401-9e59-4c6a6e8504f7",
   "metadata": {},
   "outputs": [
    {
     "name": "stdout",
     "output_type": "stream",
     "text": [
      "10\n"
     ]
    }
   ],
   "source": [
    "a = 10\n",
    "a + 20\n",
    "print(a)"
   ]
  },
  {
   "cell_type": "code",
   "execution_count": 39,
   "id": "d5c392e6-9065-4d5b-8915-19961a40598a",
   "metadata": {},
   "outputs": [
    {
     "name": "stdout",
     "output_type": "stream",
     "text": [
      "20\n"
     ]
    }
   ],
   "source": [
    "a += 10\n",
    "print(a)  # a = a + 10"
   ]
  },
  {
   "cell_type": "code",
   "execution_count": null,
   "id": "80636000-6389-452a-8060-4712b28f1852",
   "metadata": {},
   "outputs": [],
   "source": []
  },
  {
   "cell_type": "code",
   "execution_count": null,
   "id": "8e688ecb-8181-486b-bd80-23af82384912",
   "metadata": {},
   "outputs": [],
   "source": [
    "##### 결측값"
   ]
  },
  {
   "cell_type": "code",
   "execution_count": 40,
   "id": "e1e5c827-132f-4060-aa74-108532fec16e",
   "metadata": {},
   "outputs": [
    {
     "name": "stdout",
     "output_type": "stream",
     "text": [
      "None\n"
     ]
    }
   ],
   "source": [
    "a = None\n",
    "print(a)  # Null과 같은 의미"
   ]
  },
  {
   "cell_type": "code",
   "execution_count": 41,
   "id": "a3b950f3-1fbc-4307-8480-8fbfadc200cd",
   "metadata": {},
   "outputs": [],
   "source": [
    "## 상수(Constant)를 만드는 방법은 따로 없음"
   ]
  },
  {
   "cell_type": "code",
   "execution_count": null,
   "id": "3f291638-ef17-4e6b-801d-4c486321ee65",
   "metadata": {},
   "outputs": [],
   "source": []
  },
  {
   "cell_type": "code",
   "execution_count": null,
   "id": "63df9515-3b6e-461a-a9cc-ff3a8fe3a8fb",
   "metadata": {},
   "outputs": [],
   "source": [
    "##### 논리값(Bool Type literal)은 True와 False"
   ]
  },
  {
   "cell_type": "code",
   "execution_count": 44,
   "id": "1abb077a-d419-470e-9457-432f301e9d89",
   "metadata": {},
   "outputs": [
    {
     "data": {
      "text/plain": [
       "bool"
      ]
     },
     "execution_count": 44,
     "metadata": {},
     "output_type": "execute_result"
    }
   ],
   "source": [
    "type(True)"
   ]
  },
  {
   "cell_type": "code",
   "execution_count": 47,
   "id": "bdd64cd9-3986-4616-ba6e-55ce8303b588",
   "metadata": {},
   "outputs": [
    {
     "data": {
      "text/plain": [
       "bool"
      ]
     },
     "execution_count": 47,
     "metadata": {},
     "output_type": "execute_result"
    }
   ],
   "source": [
    "type(False)"
   ]
  },
  {
   "cell_type": "code",
   "execution_count": null,
   "id": "9fb8af84-8d6f-499c-aa94-ce10c197a34c",
   "metadata": {},
   "outputs": [],
   "source": [
    "# 논리연산자 - and, or, not"
   ]
  },
  {
   "cell_type": "code",
   "execution_count": null,
   "id": "8dc54ec3-e8f8-404d-a822-869284a8e035",
   "metadata": {},
   "outputs": [],
   "source": []
  },
  {
   "cell_type": "code",
   "execution_count": 48,
   "id": "8ffcdda0-13da-4dce-b0ab-dd9f0549e317",
   "metadata": {},
   "outputs": [],
   "source": [
    "##### 문자열"
   ]
  },
  {
   "cell_type": "code",
   "execution_count": 49,
   "id": "0cd361dd-e405-4a9a-ab0d-acea6d307c5a",
   "metadata": {},
   "outputs": [
    {
     "name": "stdout",
     "output_type": "stream",
     "text": [
      "이것은 문자열입니다.\n",
      "이것은 문자열입니다.\n"
     ]
    }
   ],
   "source": [
    "text = '이것은 문자열입니다.'\n",
    "text2 = \"이것은 문자열입니다.\"\n",
    "\n",
    "print(text)\n",
    "print(text2)"
   ]
  },
  {
   "cell_type": "code",
   "execution_count": 50,
   "id": "c175bdee-f4b9-4279-b30d-214b088a897a",
   "metadata": {},
   "outputs": [
    {
     "name": "stdout",
     "output_type": "stream",
     "text": [
      "don't do that\n"
     ]
    }
   ],
   "source": [
    "# 어퍼스트로피(')를 포함한 문자열 출력하기\n",
    "text3 = \"don\\'t do that\"\n",
    "print(text3)"
   ]
  },
  {
   "cell_type": "code",
   "execution_count": null,
   "id": "c31f75d6-6745-417e-9279-f45af4f8b6b8",
   "metadata": {},
   "outputs": [],
   "source": []
  },
  {
   "cell_type": "code",
   "execution_count": 51,
   "id": "89aeb7be-52a3-40dc-ae21-42abd9ca5240",
   "metadata": {},
   "outputs": [],
   "source": [
    "# 연습문제"
   ]
  },
  {
   "cell_type": "code",
   "execution_count": 53,
   "id": "37ca462b-4d91-4d49-b2db-1f181291ca2f",
   "metadata": {},
   "outputs": [
    {
     "name": "stdout",
     "output_type": "stream",
     "text": [
      "\"안녕?\"이라는 그 인사를 듣고 나는 '누구지?'라고 생각했다.\n"
     ]
    }
   ],
   "source": [
    "print('\"안녕?\"이라는', \"그 인사를 듣고 나는 '누구지?'라고 생각했다.\")"
   ]
  },
  {
   "cell_type": "code",
   "execution_count": null,
   "id": "cc6a4fc1-823c-4ef4-95e8-861ccdf64cc4",
   "metadata": {},
   "outputs": [],
   "source": []
  }
 ],
 "metadata": {
  "kernelspec": {
   "display_name": "Python 3 (ipykernel)",
   "language": "python",
   "name": "python3"
  },
  "language_info": {
   "codemirror_mode": {
    "name": "ipython",
    "version": 3
   },
   "file_extension": ".py",
   "mimetype": "text/x-python",
   "name": "python",
   "nbconvert_exporter": "python",
   "pygments_lexer": "ipython3",
   "version": "3.9.13"
  }
 },
 "nbformat": 4,
 "nbformat_minor": 5
}
