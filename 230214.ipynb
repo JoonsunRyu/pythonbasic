{
 "cells": [
  {
   "cell_type": "code",
   "execution_count": null,
   "id": "33241ca0",
   "metadata": {},
   "outputs": [],
   "source": [
    "##### 개행문자 & 삼중 따옴표"
   ]
  },
  {
   "cell_type": "code",
   "execution_count": 7,
   "id": "e22f2288",
   "metadata": {},
   "outputs": [
    {
     "name": "stdout",
     "output_type": "stream",
     "text": [
      "\n",
      "안녕하세요.\n",
      "나는 파이썬을 공부하고 있습니다.\n",
      "반갑습니다.\n"
     ]
    }
   ],
   "source": [
    "a = \"\"\"\n",
    "안녕하세요.\n",
    "나는 파이썬을 공부하고 있습니다.\n",
    "반갑습니다.\"\"\"\n",
    "\n",
    "print(a)"
   ]
  },
  {
   "cell_type": "code",
   "execution_count": 6,
   "id": "03168bcf",
   "metadata": {},
   "outputs": [
    {
     "name": "stdout",
     "output_type": "stream",
     "text": [
      "안녕하세요.\n",
      "나는 파이썬을 공부하고 있습니다.\n",
      "반갑습니다.\n"
     ]
    }
   ],
   "source": [
    "a = \"\"\"\\\n",
    "안녕하세요.\n",
    "나는 파이썬을 공부하고 있습니다.\n",
    "반갑습니다.\\\n",
    "\"\"\"\n",
    "\n",
    "print(a)\n",
    "\n",
    "# 1행 삼중 따옴표 뒤 \\는 공백 제거 역할을 함"
   ]
  },
  {
   "cell_type": "code",
   "execution_count": 11,
   "id": "80979568",
   "metadata": {},
   "outputs": [
    {
     "name": "stdout",
     "output_type": "stream",
     "text": [
      "\n",
      "\"안녕하세요.\"\n",
      "나는 파이썬을 공부하고 있습니다.\n",
      "반갑습니다.\n",
      "\n"
     ]
    }
   ],
   "source": [
    "a = \"\"\"\n",
    "\"안녕하세요.\"\n",
    "나는 파이썬을 공부하고 있습니다.\n",
    "반갑습니다.\n",
    "\"\"\"\n",
    "\n",
    "print(a)\n",
    "\n",
    "# 그냥 따옴표를 쓰면 됨"
   ]
  },
  {
   "cell_type": "code",
   "execution_count": null,
   "id": "d891fd07",
   "metadata": {},
   "outputs": [],
   "source": []
  },
  {
   "cell_type": "code",
   "execution_count": 15,
   "id": "2c00d61f",
   "metadata": {},
   "outputs": [
    {
     "name": "stdout",
     "output_type": "stream",
     "text": [
      "너무 너무 너무 너무 너무 너무 너무 파이썬 공부가 즐겁습니다.\n",
      "너무 너무 너무 너무 너무 너무 너무 파이썬 공부가 즐겁습니다.\n"
     ]
    }
   ],
   "source": [
    "print(\"너무 너무 너무 너무 너무 너무 너무 파이썬 공부가 즐겁습니다.\")  # 비효율적인 코드. 불편함을 느껴봐라..?\n",
    "\n",
    "b = \"너무 \" * 7 + \"파이썬 공부가 즐겁습니다.\"\n",
    "print(b)"
   ]
  },
  {
   "cell_type": "code",
   "execution_count": 16,
   "id": "ff339ff0",
   "metadata": {},
   "outputs": [
    {
     "name": "stdout",
     "output_type": "stream",
     "text": [
      "취업취업취업취업취업취업취업취업취업취업취업취업취업취업취업취업취업취업취업취업\n"
     ]
    }
   ],
   "source": [
    "b = \"취업\" * 20\n",
    "print(b)"
   ]
  },
  {
   "cell_type": "code",
   "execution_count": null,
   "id": "131ce616",
   "metadata": {},
   "outputs": [],
   "source": []
  },
  {
   "cell_type": "code",
   "execution_count": 17,
   "id": "e70b6086",
   "metadata": {},
   "outputs": [],
   "source": [
    "##### 시퀀스 자료형 - 인덱싱 & 슬라이싱"
   ]
  },
  {
   "cell_type": "code",
   "execution_count": null,
   "id": "bfcb0626",
   "metadata": {},
   "outputs": [],
   "source": [
    "# 인덱싱"
   ]
  },
  {
   "cell_type": "code",
   "execution_count": 19,
   "id": "74e6f6c4",
   "metadata": {},
   "outputs": [
    {
     "data": {
      "text/plain": [
       "'P'"
      ]
     },
     "execution_count": 19,
     "metadata": {},
     "output_type": "execute_result"
    }
   ],
   "source": [
    "word = 'Python'\n",
    "word[0]"
   ]
  },
  {
   "cell_type": "code",
   "execution_count": 21,
   "id": "fa20e8f9",
   "metadata": {},
   "outputs": [
    {
     "name": "stdout",
     "output_type": "stream",
     "text": [
      "P\n",
      "n\n"
     ]
    }
   ],
   "source": [
    "print(word[0])\n",
    "print(word[5])"
   ]
  },
  {
   "cell_type": "code",
   "execution_count": 22,
   "id": "24b39d0a",
   "metadata": {},
   "outputs": [
    {
     "name": "stdout",
     "output_type": "stream",
     "text": [
      "n\n",
      "P\n"
     ]
    }
   ],
   "source": [
    "print(word[-1])\n",
    "print(word[-6])"
   ]
  },
  {
   "cell_type": "code",
   "execution_count": null,
   "id": "1daa1186",
   "metadata": {},
   "outputs": [],
   "source": [
    "# 문자열, list, tuple, range 모두 적용 가능\n",
    "# 리스트는 대괄호, 튜플은 소괄호\n",
    "# 자료형이 갖는 범위 내에서만 사용 가능"
   ]
  },
  {
   "cell_type": "code",
   "execution_count": null,
   "id": "ebe338c0",
   "metadata": {},
   "outputs": [],
   "source": []
  },
  {
   "cell_type": "code",
   "execution_count": null,
   "id": "af7b0eba",
   "metadata": {},
   "outputs": [],
   "source": [
    "# 슬라이싱"
   ]
  },
  {
   "cell_type": "code",
   "execution_count": 25,
   "id": "716d1ea4",
   "metadata": {},
   "outputs": [
    {
     "name": "stdout",
     "output_type": "stream",
     "text": [
      "꺾\n"
     ]
    }
   ],
   "source": [
    "# Q1.\n",
    "sentence = '중요한 것은 꺾이지 않는 마음'\n",
    "print(sentence[7])"
   ]
  },
  {
   "cell_type": "code",
   "execution_count": 27,
   "id": "308143f6",
   "metadata": {},
   "outputs": [
    {
     "name": "stdout",
     "output_type": "stream",
     "text": [
      "Py\n",
      "on\n",
      "\n",
      "tho\n"
     ]
    }
   ],
   "source": [
    "word = 'Python'\n",
    "print(word[0:2])\n",
    "print(word[4:])\n",
    "print(word[-1:-4])\n",
    "print(word[-4:-1])"
   ]
  },
  {
   "cell_type": "code",
   "execution_count": null,
   "id": "360ffab3",
   "metadata": {},
   "outputs": [],
   "source": [
    "# 슬라이싱 증감크기"
   ]
  },
  {
   "cell_type": "code",
   "execution_count": 30,
   "id": "c22d30d9",
   "metadata": {},
   "outputs": [
    {
     "name": "stdout",
     "output_type": "stream",
     "text": [
      "Ph\n",
      "Pto\n"
     ]
    }
   ],
   "source": [
    "print(word[0:5:3])  # 0은 >= (이상), 5는 < (미만)\n",
    "print(word[::2])"
   ]
  },
  {
   "cell_type": "code",
   "execution_count": 32,
   "id": "800ff99e",
   "metadata": {},
   "outputs": [
    {
     "name": "stdout",
     "output_type": "stream",
     "text": [
      "\n",
      "한 것은 꺾이지 않는 마음\n"
     ]
    }
   ],
   "source": [
    "print(sentence[42:])   # 해당되는 내용 없으므로 출력물 없음\n",
    "print(sentence[2:42])  # 문자열 범위 초과해서 지정해도 결과 잘 나옴"
   ]
  },
  {
   "cell_type": "code",
   "execution_count": 37,
   "id": "13b2e3a0",
   "metadata": {},
   "outputs": [
    {
     "name": "stdout",
     "output_type": "stream",
     "text": [
      "꺾이지 않는 마음\n",
      " 꺾이지 않는 마음\n"
     ]
    }
   ],
   "source": [
    "# Q2.\n",
    "sentence = '중요한 것은 꺾이지 않는 마음'\n",
    "print(sentence[7:])\n",
    "print(sentence[6:])  # 공백 주의"
   ]
  },
  {
   "cell_type": "code",
   "execution_count": 52,
   "id": "ac6357e7",
   "metadata": {},
   "outputs": [
    {
     "name": "stdout",
     "output_type": "stream",
     "text": [
      "한요중\n",
      "한요중\n",
      "한요\n"
     ]
    }
   ],
   "source": [
    "# Q3.\n",
    "sentence = '중요한 것은 꺾이지 않는 마음'\n",
    "print(sentence[-14:-17:-1])\n",
    "print(sentence[2::-1])  # 다른 풀이\n",
    "print(sentence[-14:-16:-1])\n",
    "# 역순 슬라이싱 할 때는 한 칸 더 가서 끝내야 함!! 정방향 슬라이싱 할 때 한 칸 뒤에서 끝내는거랑 같은 원리"
   ]
  },
  {
   "cell_type": "code",
   "execution_count": null,
   "id": "ee046453",
   "metadata": {},
   "outputs": [],
   "source": [
    "# 시퀀스 크기"
   ]
  },
  {
   "cell_type": "code",
   "execution_count": null,
   "id": "f839d084",
   "metadata": {},
   "outputs": [],
   "source": []
  },
  {
   "cell_type": "code",
   "execution_count": null,
   "id": "2dfa0227",
   "metadata": {},
   "outputs": [],
   "source": []
  },
  {
   "cell_type": "code",
   "execution_count": null,
   "id": "42c4382a",
   "metadata": {},
   "outputs": [],
   "source": [
    "##### 리스트"
   ]
  },
  {
   "cell_type": "code",
   "execution_count": 54,
   "id": "39784b57",
   "metadata": {},
   "outputs": [
    {
     "name": "stdout",
     "output_type": "stream",
     "text": [
      "[1, 4, 9, 16, 25]\n"
     ]
    }
   ],
   "source": [
    "squares = [1**2, 2**2, 3**2, 4**2, 5**2]\n",
    "print(squares)"
   ]
  },
  {
   "cell_type": "code",
   "execution_count": 57,
   "id": "c89cd770",
   "metadata": {},
   "outputs": [
    {
     "name": "stdout",
     "output_type": "stream",
     "text": [
      "1\n",
      "25\n",
      "[9, 16, 25]\n"
     ]
    }
   ],
   "source": [
    "print(squares[0])\n",
    "print(squares[-1])\n",
    "print(squares[-3:])"
   ]
  },
  {
   "cell_type": "code",
   "execution_count": 58,
   "id": "cb53610b",
   "metadata": {},
   "outputs": [
    {
     "name": "stdout",
     "output_type": "stream",
     "text": [
      "[1, 4, 9, 16, 25, 36, 49, 64, 81, 100]\n"
     ]
    }
   ],
   "source": [
    "print(squares + [36, 49, 64, 81, 100])"
   ]
  },
  {
   "cell_type": "code",
   "execution_count": 3,
   "id": "f2453d35",
   "metadata": {},
   "outputs": [
    {
     "name": "stdout",
     "output_type": "stream",
     "text": [
      "['a', 'b', 'c', 'd', 'e', 'a', 'b', 'c', 'd', 'e', 'a', 'b', 'c', 'd', 'e']\n"
     ]
    }
   ],
   "source": [
    "letters = ['a', 'b', 'c', 'd', 'e']\n",
    "print(letters * 3)"
   ]
  },
  {
   "cell_type": "code",
   "execution_count": null,
   "id": "d336b1d8",
   "metadata": {},
   "outputs": [],
   "source": [
    "# 리스트 가변"
   ]
  },
  {
   "cell_type": "code",
   "execution_count": 1,
   "id": "30087a24",
   "metadata": {},
   "outputs": [
    {
     "name": "stdout",
     "output_type": "stream",
     "text": [
      "[1, 8, 7, 64, 65, 125]\n"
     ]
    }
   ],
   "source": [
    "cubes = [1, 8, 7, 27, 65, 125]\n",
    "cubes[3] = 4**3\n",
    "print(cubes)"
   ]
  },
  {
   "cell_type": "code",
   "execution_count": 6,
   "id": "24fccc51",
   "metadata": {},
   "outputs": [
    {
     "name": "stdout",
     "output_type": "stream",
     "text": [
      "['a', 'b', 'C', 'D', 'E']\n",
      "5\n"
     ]
    }
   ],
   "source": [
    "letters[2:5] = [\"C\", \"D\", \"E\"]\n",
    "print(letters)\n",
    "print(len(letters))"
   ]
  },
  {
   "cell_type": "code",
   "execution_count": null,
   "id": "599ed0a8",
   "metadata": {},
   "outputs": [],
   "source": []
  },
  {
   "cell_type": "code",
   "execution_count": 7,
   "id": "39851251",
   "metadata": {},
   "outputs": [
    {
     "name": "stdout",
     "output_type": "stream",
     "text": [
      "[['a', 'b', 'c'], [1, 2, 3]]\n"
     ]
    }
   ],
   "source": [
    "a = ['a', 'b', 'c']\n",
    "n = [1, 2, 3]\n",
    "x = [a, n]\n",
    "print(x)"
   ]
  },
  {
   "cell_type": "code",
   "execution_count": 9,
   "id": "1907a7b0",
   "metadata": {},
   "outputs": [
    {
     "name": "stdout",
     "output_type": "stream",
     "text": [
      "['a', 'b', 'c']\n",
      "b\n"
     ]
    }
   ],
   "source": [
    "print(x[0])\n",
    "print(x[0][1])  # 인덱스 2번 시행"
   ]
  },
  {
   "cell_type": "code",
   "execution_count": 10,
   "id": "ac35fc3c",
   "metadata": {},
   "outputs": [
    {
     "name": "stdout",
     "output_type": "stream",
     "text": [
      "True\n",
      "False\n"
     ]
    }
   ],
   "source": [
    "numbers = [1, 2, 3, 4, 5, 6, 7]\n",
    "print(5 in numbers)   # numbers에 5가 있나? -> True\n",
    "print(10 in numbers)  # False"
   ]
  },
  {
   "cell_type": "code",
   "execution_count": 14,
   "id": "94f4dc74",
   "metadata": {},
   "outputs": [
    {
     "name": "stdout",
     "output_type": "stream",
     "text": [
      "False\n"
     ]
    }
   ],
   "source": [
    "# Q1.\n",
    "scores = [88, 73, 89, 59, 77]\n",
    "print(scores[0] >= 60 and scores[1] >= 60 and scores[2] >= 60 and scores[3] >= 60 and scores[4] >= 60)"
   ]
  },
  {
   "cell_type": "code",
   "execution_count": null,
   "id": "55a7e5e2",
   "metadata": {},
   "outputs": [],
   "source": []
  },
  {
   "cell_type": "code",
   "execution_count": 15,
   "id": "5ef2ec1d-4171-4b84-9492-9311d859a9c8",
   "metadata": {},
   "outputs": [],
   "source": [
    "##### 리스트 메소드 (추가, 삭제, 조회, 정렬 등...)"
   ]
  },
  {
   "cell_type": "code",
   "execution_count": null,
   "id": "c931ed93-e303-429e-9c53-5d55fc323a40",
   "metadata": {},
   "outputs": [],
   "source": [
    "# 형식: 리스트명.함수 / 리스트명을 '객체'라고 함"
   ]
  },
  {
   "cell_type": "code",
   "execution_count": 35,
   "id": "e403621d-92c1-46c4-a5ca-72a2669fb132",
   "metadata": {},
   "outputs": [],
   "source": [
    "numbers = [1, 2, 3, 4, 5, 6, 7]\n",
    "numbers.append(8)  # 출력값 없음. append 뒤에 요소 추가됨"
   ]
  },
  {
   "cell_type": "code",
   "execution_count": 36,
   "id": "a68bc828-f754-4368-ba14-9c2c919ce247",
   "metadata": {},
   "outputs": [
    {
     "name": "stdout",
     "output_type": "stream",
     "text": [
      "[1, 2, 3, 4, 5, 6, 7, 8]\n"
     ]
    }
   ],
   "source": [
    "print(numbers)"
   ]
  },
  {
   "cell_type": "code",
   "execution_count": null,
   "id": "b9fd462b-8559-45af-8481-0540d4a722f8",
   "metadata": {},
   "outputs": [],
   "source": []
  },
  {
   "cell_type": "code",
   "execution_count": 37,
   "id": "567b9421-051f-4f49-9399-b2c3e065ced4",
   "metadata": {},
   "outputs": [
    {
     "name": "stdout",
     "output_type": "stream",
     "text": [
      "[0, 1, 2, 3, 0, 4, 0, 5, 6, 7, 8, 0]\n"
     ]
    }
   ],
   "source": [
    "# 리스트명.insert(인덱스, 넣을 값)\n",
    "numbers.insert(0, 0)\n",
    "numbers.insert(4, 0)\n",
    "numbers.insert(6, 0)\n",
    "numbers.insert(len(numbers), 0)\n",
    "print(numbers)"
   ]
  },
  {
   "cell_type": "code",
   "execution_count": 38,
   "id": "13b4666f-8f52-431c-bb1a-be56fa50f7d2",
   "metadata": {},
   "outputs": [
    {
     "name": "stdout",
     "output_type": "stream",
     "text": [
      "[0, 1, 2, 3, 0, 4, 0, 5, 6, 7, 8, 0, 9, 10, 11]\n"
     ]
    }
   ],
   "source": [
    "# 리스트명.extend([값1, 값2, ...])  # 리스트 형태로 값 추가\n",
    "numbers.extend([9, 10, 11])  # 반환값 없음\n",
    "print(numbers)"
   ]
  },
  {
   "cell_type": "code",
   "execution_count": 39,
   "id": "c63a5656-e288-408d-8aa0-910cbe9e118d",
   "metadata": {},
   "outputs": [
    {
     "name": "stdout",
     "output_type": "stream",
     "text": [
      "[1, 2, 3, 0, 4, 0, 5, 6, 7, 8, 0, 9, 10, 11]\n"
     ]
    }
   ],
   "source": [
    "# 리스트명.remove(지우려는 요소)  # 가장 먼저 발견된 것만 지우고 종료\n",
    "numbers.remove(0)  # 반환값 없음\n",
    "print(numbers)"
   ]
  },
  {
   "cell_type": "code",
   "execution_count": 40,
   "id": "bf7c18a1-3b0a-4c2f-8831-3dc92546c3d6",
   "metadata": {},
   "outputs": [
    {
     "name": "stdout",
     "output_type": "stream",
     "text": [
      "11\n",
      "[1, 2, 3, 0, 4, 0, 5, 6, 7, 8, 0, 9, 10]\n"
     ]
    }
   ],
   "source": [
    "# 리스트명.pop()\n",
    "print(numbers.pop())  # 가장 마자막 값 반환\n",
    "print(numbers)  # 가장 마자막 값 삭제 후 출력"
   ]
  },
  {
   "cell_type": "code",
   "execution_count": null,
   "id": "9d7598fd-d1b5-4ee7-b698-2f82ae7082c6",
   "metadata": {},
   "outputs": [],
   "source": []
  },
  {
   "cell_type": "code",
   "execution_count": 41,
   "id": "e3ea45ae-c7fb-4df8-86e3-371d7b8ef502",
   "metadata": {},
   "outputs": [
    {
     "name": "stdout",
     "output_type": "stream",
     "text": [
      "[1, 2, 3, 0, 4, 0, 5, 6, 7, 8, 0, 9, 10]\n",
      "3\n"
     ]
    }
   ],
   "source": [
    "# 리스트명.index(찾는 값)\n",
    "print(numbers)\n",
    "print(numbers.index(0))  # numbers의 원소 0의 인덱스 값 출력"
   ]
  },
  {
   "cell_type": "code",
   "execution_count": 42,
   "id": "f644187c-0e59-472f-b52c-7ac0edcb6064",
   "metadata": {},
   "outputs": [
    {
     "name": "stdout",
     "output_type": "stream",
     "text": [
      "3\n"
     ]
    }
   ],
   "source": [
    "# 리스트명.count(찾는 값)\n",
    "print(numbers.count(0))  # numbers 내 찾는 값의 개수 출력"
   ]
  },
  {
   "cell_type": "code",
   "execution_count": 44,
   "id": "52c3be01-f42a-436c-ae1c-b52d5c5ea9fc",
   "metadata": {},
   "outputs": [
    {
     "name": "stdout",
     "output_type": "stream",
     "text": [
      "[0, 0, 0, 1, 2, 3, 4, 5, 6, 7, 8, 9, 10]\n"
     ]
    }
   ],
   "source": [
    "# 리스트명.sort()\n",
    "numbers.sort()\n",
    "print(numbers)  # 오름차순 정렬"
   ]
  },
  {
   "cell_type": "code",
   "execution_count": 45,
   "id": "3112a022-b80c-4b8a-90b6-548e6b4133a7",
   "metadata": {},
   "outputs": [
    {
     "name": "stdout",
     "output_type": "stream",
     "text": [
      "[8, 4, 2, 1, 2, 7]\n"
     ]
    }
   ],
   "source": [
    "# 리스트명.reverse()\n",
    "reverse_test = [7, 2, 1, 2, 4, 8]\n",
    "reverse_test.reverse()\n",
    "print(reverse_test)\n",
    "\n",
    "# '중요한'을 '한요중'으로 바꾼 것과 같은 원리"
   ]
  },
  {
   "cell_type": "code",
   "execution_count": 53,
   "id": "6fe661c2-b448-49c9-b669-7d2e08a2dfa9",
   "metadata": {},
   "outputs": [
    {
     "name": "stdout",
     "output_type": "stream",
     "text": [
      "[]\n"
     ]
    }
   ],
   "source": [
    "# 리스트명.clear()\n",
    "numbers.clear()  # 리스트 내 요소 모두 삭제\n",
    "print(numbers)  # 비어 있는 리스트가 됨"
   ]
  },
  {
   "cell_type": "code",
   "execution_count": null,
   "id": "dbabdb54-6d50-4326-bf98-3785e02c0dc9",
   "metadata": {},
   "outputs": [],
   "source": []
  },
  {
   "cell_type": "code",
   "execution_count": 46,
   "id": "ee8c18e2-b6f4-4635-a9f3-d4931aa51abe",
   "metadata": {},
   "outputs": [],
   "source": [
    "##### Stack"
   ]
  },
  {
   "cell_type": "code",
   "execution_count": 47,
   "id": "47eae5a3-8f2d-4110-af2f-3764a4be11b9",
   "metadata": {},
   "outputs": [],
   "source": [
    "# 후입선출(Last In First Out): 나중에 넣은 것이 먼저 나오는 원리"
   ]
  },
  {
   "cell_type": "code",
   "execution_count": 52,
   "id": "202755e2-9ffc-4a0c-9b93-0a6442de7c0f",
   "metadata": {},
   "outputs": [
    {
     "name": "stdout",
     "output_type": "stream",
     "text": [
      "[3, 4, 5, 6, 7]\n",
      "7\n",
      "[3, 4, 5, 6]\n",
      "6\n",
      "5\n",
      "[3, 4]\n"
     ]
    }
   ],
   "source": [
    "stack = [3, 4, 5]\n",
    "stack.append(6)\n",
    "stack.append(7)\n",
    "print(stack)\n",
    "\n",
    "print(stack.pop())\n",
    "\n",
    "print(stack)\n",
    "\n",
    "print(stack.pop())\n",
    "print(stack.pop())\n",
    "\n",
    "print(stack)"
   ]
  },
  {
   "cell_type": "code",
   "execution_count": null,
   "id": "88e438d4-9269-42fc-b16f-81b133fb36c2",
   "metadata": {},
   "outputs": [],
   "source": []
  },
  {
   "cell_type": "code",
   "execution_count": null,
   "id": "9d126fed-0bf7-41bd-a3dc-4307b26c3213",
   "metadata": {},
   "outputs": [],
   "source": []
  },
  {
   "cell_type": "code",
   "execution_count": 54,
   "id": "453189b2-9b21-4696-bf71-0e498432548d",
   "metadata": {},
   "outputs": [],
   "source": [
    "##### 튜플(Tuple)"
   ]
  },
  {
   "cell_type": "code",
   "execution_count": 57,
   "id": "64bd0685-2497-4bee-8de6-3ccfab89d340",
   "metadata": {},
   "outputs": [
    {
     "name": "stdout",
     "output_type": "stream",
     "text": [
      "(1, 2, 3, 4, 5, 'hello')\n"
     ]
    }
   ],
   "source": [
    "tuple_variable = (1, 2, 3, 4, 5, \"hello\")\n",
    "print(tuple_variable)"
   ]
  },
  {
   "cell_type": "code",
   "execution_count": 58,
   "id": "87ea0cdf-332b-4205-be7c-5c483df0a4fb",
   "metadata": {},
   "outputs": [
    {
     "ename": "TypeError",
     "evalue": "'tuple' object does not support item assignment",
     "output_type": "error",
     "traceback": [
      "\u001b[1;31m---------------------------------------------------------------------------\u001b[0m",
      "\u001b[1;31mTypeError\u001b[0m                                 Traceback (most recent call last)",
      "\u001b[1;32m~\\AppData\\Local\\Temp\\ipykernel_13748\\1916826345.py\u001b[0m in \u001b[0;36m<module>\u001b[1;34m\u001b[0m\n\u001b[1;32m----> 1\u001b[1;33m \u001b[0mtuple_variable\u001b[0m\u001b[1;33m[\u001b[0m\u001b[1;36m0\u001b[0m\u001b[1;33m]\u001b[0m \u001b[1;33m=\u001b[0m \u001b[1;36m0\u001b[0m\u001b[1;33m\u001b[0m\u001b[1;33m\u001b[0m\u001b[0m\n\u001b[0m",
      "\u001b[1;31mTypeError\u001b[0m: 'tuple' object does not support item assignment"
     ]
    }
   ],
   "source": [
    "tuple_variable[0] = 0  # 수정 불가"
   ]
  },
  {
   "cell_type": "code",
   "execution_count": 59,
   "id": "79d43619-1b19-4e46-8a60-2158355cfa45",
   "metadata": {},
   "outputs": [
    {
     "ename": "TypeError",
     "evalue": "'tuple' object doesn't support item deletion",
     "output_type": "error",
     "traceback": [
      "\u001b[1;31m---------------------------------------------------------------------------\u001b[0m",
      "\u001b[1;31mTypeError\u001b[0m                                 Traceback (most recent call last)",
      "\u001b[1;32m~\\AppData\\Local\\Temp\\ipykernel_13748\\593226123.py\u001b[0m in \u001b[0;36m<module>\u001b[1;34m\u001b[0m\n\u001b[1;32m----> 1\u001b[1;33m \u001b[1;32mdel\u001b[0m \u001b[0mtuple_variable\u001b[0m\u001b[1;33m[\u001b[0m\u001b[1;36m1\u001b[0m\u001b[1;33m]\u001b[0m\u001b[1;33m\u001b[0m\u001b[1;33m\u001b[0m\u001b[0m\n\u001b[0m",
      "\u001b[1;31mTypeError\u001b[0m: 'tuple' object doesn't support item deletion"
     ]
    }
   ],
   "source": [
    "del tuple_variable[1]  # del로 튜플 삭제 불가"
   ]
  },
  {
   "cell_type": "code",
   "execution_count": null,
   "id": "ce19952e-5666-4f2c-90fe-9f3f54b054c3",
   "metadata": {},
   "outputs": [],
   "source": [
    "### 리스트와 가장 큰 차이점 ###\n",
    "# 수정 불가능, 삭제 불가능"
   ]
  },
  {
   "cell_type": "code",
   "execution_count": 60,
   "id": "a5090fb1-d202-499a-b43b-23b6466cb71f",
   "metadata": {},
   "outputs": [
    {
     "name": "stdout",
     "output_type": "stream",
     "text": [
      "<class 'tuple'>\n",
      "('음', '오', '아', '예')\n"
     ]
    }
   ],
   "source": [
    "t_v2 = \"음\", \"오\", \"아\", \"예\"\n",
    "print(type(t_v2))  # ( )안해도 튜플이라고 인식함 (그래도 괄호는 꼭 쓰자)\n",
    "print(t_v2)"
   ]
  },
  {
   "cell_type": "code",
   "execution_count": null,
   "id": "84d071f3-b33e-4e52-866b-3c88d07a2bb0",
   "metadata": {},
   "outputs": [],
   "source": []
  },
  {
   "cell_type": "code",
   "execution_count": null,
   "id": "755aed37-9360-404e-9eb3-0111852185f9",
   "metadata": {},
   "outputs": [],
   "source": [
    "### Tuple이 List보다 빠른 것 증명"
   ]
  },
  {
   "cell_type": "code",
   "execution_count": 62,
   "id": "92b175ff-ba0f-4d88-afc7-e0f937bf8f04",
   "metadata": {},
   "outputs": [
    {
     "name": "stdout",
     "output_type": "stream",
     "text": [
      "0.24794220924377441\n"
     ]
    }
   ],
   "source": [
    "import time\n",
    "\n",
    "start_time = time.time()  # 시작하는 시간\n",
    "test = []\n",
    "\n",
    "for _ in range(1_000_000):\n",
    "    tp = (_, _)  # tuple\n",
    "    test.append(tp)\n",
    "\n",
    "# 끝나는 시간 - 시작하는 시간\n",
    "print(time.time() - start_time)  # 동작한 시간"
   ]
  },
  {
   "cell_type": "code",
   "execution_count": 64,
   "id": "d59e3a03-e6c7-4717-8654-71adb2c3e20e",
   "metadata": {},
   "outputs": [
    {
     "name": "stdout",
     "output_type": "stream",
     "text": [
      "0.7998659610748291\n"
     ]
    }
   ],
   "source": [
    "start_time = time.time()\n",
    "test = []\n",
    "\n",
    "for _ in range(1_000_000):\n",
    "    tp = [_, _]  # list\n",
    "    test.append(tp)\n",
    "\n",
    "print(time.time() - start_time)"
   ]
  },
  {
   "cell_type": "code",
   "execution_count": null,
   "id": "a9c39f42-c9d7-4d63-bb91-e19af114d274",
   "metadata": {},
   "outputs": [],
   "source": []
  },
  {
   "cell_type": "code",
   "execution_count": null,
   "id": "bb5e8c9f-f8b3-4825-ab7b-d04295275721",
   "metadata": {},
   "outputs": [],
   "source": [
    "# 연습문제 <생각해보기>\n",
    "'''\n",
    "1. 처음 20번째까지 소수(Prime number)\n",
    "2. 프로그래밍 언어의 종류\n",
    "3. 사람의 나이, 몸무게, 키\n",
    "4. 사람의 생일과 출생지\n",
    "5. 롤 게임의 결과\n",
    "6. 잇단 롤 게임의 결과\n",
    "'''\n",
    "\n",
    "# 데이터가 변수인지 상수인지에 따라 구분함\n",
    "# 값이 변하는 데이터는 수정이 가능한 리스트로만 처리해야 하기 때문\n",
    "# Tuple -> 1, 4, 5번 / List -> 2, 3, 6"
   ]
  },
  {
   "cell_type": "code",
   "execution_count": null,
   "id": "85e34a54-714d-4958-9ee5-30d2e8c68891",
   "metadata": {},
   "outputs": [],
   "source": []
  },
  {
   "cell_type": "code",
   "execution_count": 65,
   "id": "4b21858a-367b-482f-b02b-6007d066990b",
   "metadata": {},
   "outputs": [
    {
     "name": "stdout",
     "output_type": "stream",
     "text": [
      "text1\n",
      "text2\n"
     ]
    }
   ],
   "source": [
    "s1, s2 = \"text1\", \"text2\"\n",
    "print(s1)\n",
    "print(s2)"
   ]
  },
  {
   "cell_type": "code",
   "execution_count": 68,
   "id": "ba925e92-9c68-4328-a927-66afcc1985e3",
   "metadata": {},
   "outputs": [
    {
     "name": "stdout",
     "output_type": "stream",
     "text": [
      "이렇게 리스트도 가능합니다.\n"
     ]
    }
   ],
   "source": [
    "s3, s4, s5 = [\"이렇게\", \"리스트도\", \"가능합니다.\"]\n",
    "print(s3, s4, s5)"
   ]
  },
  {
   "cell_type": "code",
   "execution_count": 74,
   "id": "02255a0d-c029-4917-9758-40be9bcd383b",
   "metadata": {},
   "outputs": [
    {
     "name": "stdout",
     "output_type": "stream",
     "text": [
      "문 자 열 도\n"
     ]
    },
    {
     "data": {
      "text/plain": [
       "str"
      ]
     },
     "execution_count": 74,
     "metadata": {},
     "output_type": "execute_result"
    }
   ],
   "source": [
    "s6, s7, s8, s9 = \"문자열도\"\n",
    "print(s6, s7, s8, s9)\n",
    "type(s6)"
   ]
  },
  {
   "cell_type": "code",
   "execution_count": null,
   "id": "5c27e20e-a3bc-4c93-bf53-e36f53f0d8c7",
   "metadata": {},
   "outputs": [],
   "source": []
  },
  {
   "cell_type": "code",
   "execution_count": 71,
   "id": "7179d9da-82c8-4c42-8544-30ef5fefc56d",
   "metadata": {},
   "outputs": [],
   "source": [
    "##### 입력 (feat. input())"
   ]
  },
  {
   "cell_type": "code",
   "execution_count": 73,
   "id": "fd3d52d5-7ef9-4436-bbb2-e221f52f0937",
   "metadata": {},
   "outputs": [
    {
     "name": "stdin",
     "output_type": "stream",
     "text": [
      "Message qwer\n"
     ]
    }
   ],
   "source": [
    "input_value = input(\"Message\")  # Message는 argument라고 함\n",
    "\n",
    "# input으로 받아오는 모든 결과는 string"
   ]
  },
  {
   "cell_type": "code",
   "execution_count": 75,
   "id": "0c1f3b7b-778c-48d5-9996-fd71f82d30db",
   "metadata": {},
   "outputs": [
    {
     "name": "stdout",
     "output_type": "stream",
     "text": [
      "input_value: qwer \n",
      "type: <class 'str'>\n"
     ]
    }
   ],
   "source": [
    "print(\"input_value:\", input_value, \"\\ntype:\", type(input_value))"
   ]
  },
  {
   "cell_type": "code",
   "execution_count": null,
   "id": "d8a68c0e-e29c-4f28-a0a0-c2de3c5ff177",
   "metadata": {},
   "outputs": [],
   "source": []
  },
  {
   "cell_type": "code",
   "execution_count": 88,
   "id": "8e3bf959-3a84-486a-b0eb-56a786f65269",
   "metadata": {},
   "outputs": [
    {
     "name": "stdin",
     "output_type": "stream",
     "text": [
      "정수 외에 다른 값을 입력해보세요. 1.1\n"
     ]
    }
   ],
   "source": [
    "input_value2 = input(\"정수 외에 다른 값을 입력해보세요.\")"
   ]
  },
  {
   "cell_type": "code",
   "execution_count": 89,
   "id": "04365775-7d12-43ab-8b80-b9f6aac6756e",
   "metadata": {},
   "outputs": [
    {
     "ename": "ValueError",
     "evalue": "invalid literal for int() with base 10: '1.1'",
     "output_type": "error",
     "traceback": [
      "\u001b[1;31m---------------------------------------------------------------------------\u001b[0m",
      "\u001b[1;31mValueError\u001b[0m                                Traceback (most recent call last)",
      "\u001b[1;32m~\\AppData\\Local\\Temp\\ipykernel_13748\\1016632430.py\u001b[0m in \u001b[0;36m<module>\u001b[1;34m\u001b[0m\n\u001b[1;32m----> 1\u001b[1;33m \u001b[0minput_value2\u001b[0m \u001b[1;33m=\u001b[0m \u001b[0mint\u001b[0m\u001b[1;33m(\u001b[0m\u001b[0minput_value2\u001b[0m\u001b[1;33m)\u001b[0m\u001b[1;33m\u001b[0m\u001b[1;33m\u001b[0m\u001b[0m\n\u001b[0m\u001b[0;32m      2\u001b[0m \u001b[0mprint\u001b[0m\u001b[1;33m(\u001b[0m\u001b[0minput_value2\u001b[0m\u001b[1;33m)\u001b[0m\u001b[1;33m\u001b[0m\u001b[1;33m\u001b[0m\u001b[0m\n",
      "\u001b[1;31mValueError\u001b[0m: invalid literal for int() with base 10: '1.1'"
     ]
    }
   ],
   "source": [
    "input_value2 = int(input_value2)  # 에러 발생 / int를 float로\n",
    "print(input_value2)"
   ]
  },
  {
   "cell_type": "code",
   "execution_count": 90,
   "id": "65439933-2724-4751-8180-2441669daffa",
   "metadata": {},
   "outputs": [
    {
     "name": "stdout",
     "output_type": "stream",
     "text": [
      "1.1\n"
     ]
    }
   ],
   "source": [
    "input_value2 = float(input_value2)\n",
    "print(input_value2)"
   ]
  },
  {
   "cell_type": "code",
   "execution_count": 91,
   "id": "558fff1f-f124-45ae-988f-39a7587e6c1d",
   "metadata": {},
   "outputs": [
    {
     "name": "stdout",
     "output_type": "stream",
     "text": [
      "1\n"
     ]
    }
   ],
   "source": [
    "input_value2 = int(input_value2)  # 다시 정수로 환원\n",
    "print(input_value2)"
   ]
  },
  {
   "cell_type": "code",
   "execution_count": 92,
   "id": "22cc157b-e2e5-4819-b31d-3c40b97adbb8",
   "metadata": {},
   "outputs": [
    {
     "name": "stdin",
     "output_type": "stream",
     "text": [
      "다른 정수를 입력해보세요. 정수\n"
     ]
    }
   ],
   "source": [
    "input_value3 = input(\"다른 정수를 입력해보세요.\")"
   ]
  },
  {
   "cell_type": "code",
   "execution_count": 93,
   "id": "55d27c55-5345-473a-8a68-95dfefc28435",
   "metadata": {},
   "outputs": [
    {
     "ename": "ValueError",
     "evalue": "invalid literal for int() with base 10: '정수'",
     "output_type": "error",
     "traceback": [
      "\u001b[1;31m---------------------------------------------------------------------------\u001b[0m",
      "\u001b[1;31mValueError\u001b[0m                                Traceback (most recent call last)",
      "\u001b[1;32m~\\AppData\\Local\\Temp\\ipykernel_13748\\4277962513.py\u001b[0m in \u001b[0;36m<module>\u001b[1;34m\u001b[0m\n\u001b[1;32m----> 1\u001b[1;33m \u001b[0mint\u001b[0m\u001b[1;33m(\u001b[0m\u001b[0minput_value3\u001b[0m\u001b[1;33m)\u001b[0m\u001b[1;33m\u001b[0m\u001b[1;33m\u001b[0m\u001b[0m\n\u001b[0m",
      "\u001b[1;31mValueError\u001b[0m: invalid literal for int() with base 10: '정수'"
     ]
    }
   ],
   "source": [
    "int(input_value3)  # 에러 발생"
   ]
  },
  {
   "cell_type": "code",
   "execution_count": 98,
   "id": "78918c83-4b9a-4284-88f6-a809d8dd0bfc",
   "metadata": {},
   "outputs": [
    {
     "name": "stdin",
     "output_type": "stream",
     "text": [
      "정수를 입력해주세요: 51\n"
     ]
    },
    {
     "name": "stdout",
     "output_type": "stream",
     "text": [
      "51\n"
     ]
    }
   ],
   "source": [
    "input_value4 = int(input(\"정수를 입력해주세요:\"))\n",
    "print(input_value4)"
   ]
  },
  {
   "cell_type": "code",
   "execution_count": 102,
   "id": "224fddb7-63be-48de-8470-d9aca85a1bef",
   "metadata": {},
   "outputs": [
    {
     "data": {
      "text/plain": [
       "int"
      ]
     },
     "execution_count": 102,
     "metadata": {},
     "output_type": "execute_result"
    }
   ],
   "source": [
    "type(input_value4)"
   ]
  },
  {
   "cell_type": "code",
   "execution_count": null,
   "id": "ac475ede-a66a-4632-a996-57689eab715b",
   "metadata": {},
   "outputs": [],
   "source": []
  },
  {
   "cell_type": "code",
   "execution_count": 109,
   "id": "2c6302a5-4378-4cdd-9a2d-7b1abbf77a9e",
   "metadata": {},
   "outputs": [
    {
     "name": "stdin",
     "output_type": "stream",
     "text": [
      "이름을 입력하시오: 엔코아\n"
     ]
    },
    {
     "name": "stdout",
     "output_type": "stream",
     "text": [
      "엔코아 씨, 안녕하세요?\n",
      "파이썬에 오신 것을 환영합니다.\n"
     ]
    },
    {
     "name": "stdin",
     "output_type": "stream",
     "text": [
      "첫 번째 정수를 입력하세요: 300\n",
      "두 번째 정수를 입력하세요: 400\n"
     ]
    },
    {
     "name": "stdout",
     "output_type": "stream",
     "text": [
      "300 과 400 의 합은 700 입니다.\n"
     ]
    }
   ],
   "source": [
    "# Q1.\n",
    "a = input(\"이름을 입력하시오:\")\n",
    "print(a,\"씨, 안녕하세요?\\n파이썬에 오신 것을 환영합니다.\")\n",
    "\n",
    "b = int(input(\"첫 번째 정수를 입력하세요:\"))\n",
    "c = int(input(\"두 번째 정수를 입력하세요:\"))\n",
    "print(b, \"과\", c,\"의 합은\", b+c,\"입니다.\")"
   ]
  },
  {
   "cell_type": "code",
   "execution_count": 112,
   "id": "f5d1afd4-55ca-466b-9f5f-5a1d6626aa4f",
   "metadata": {},
   "outputs": [
    {
     "name": "stdin",
     "output_type": "stream",
     "text": [
      "이름을 입력하시오: 엔코아\n"
     ]
    },
    {
     "name": "stdout",
     "output_type": "stream",
     "text": [
      "엔코아 씨, 안녕하세요?\n",
      "파이썬에 오신 것을 환영합니다.\n"
     ]
    },
    {
     "name": "stdin",
     "output_type": "stream",
     "text": [
      "첫 번째 정수를 입력하세요: 300\n",
      "두 번째 정수를 입력하세요: 400\n"
     ]
    },
    {
     "name": "stdout",
     "output_type": "stream",
     "text": [
      "300 과 400 의 합은 700 입니다.\n"
     ]
    }
   ],
   "source": [
    "# 다른 풀이(포맷팅)\n",
    "a = input(\"이름을 입력하시오:\")\n",
    "print(a,\"씨, 안녕하세요?\\n파이썬에 오신 것을 환영합니다.\")\n",
    "\n",
    "b = int(input(\"첫 번째 정수를 입력하세요:\"))\n",
    "c = int(input(\"두 번째 정수를 입력하세요:\"))\n",
    "print(\"%d 과 %d 의 합은 %d 입니다.\" % (b, c, b+c))"
   ]
  },
  {
   "cell_type": "code",
   "execution_count": 115,
   "id": "b437873b-38b4-475c-9398-6054f768bddc",
   "metadata": {},
   "outputs": [
    {
     "name": "stdin",
     "output_type": "stream",
     "text": [
      "경기장은 어디입니까? 고척\n",
      "이긴 팀은 어디입니까? KT\n",
      "진팀은 어디입니까? LG\n",
      "우수 선수는 누구입니까? 강백호\n",
      "스코어는 몇대몇입니까? 10:9\n"
     ]
    },
    {
     "name": "stdout",
     "output_type": "stream",
     "text": [
      "\n",
      "[속보] KT 가 10:9 로 승리...\n",
      "오늘 고척 경기장에서 야구 경기가 있었습니다.\n",
      "KT 와 LG 는 치열한 공방전을 펼쳤습니다.\n",
      "이 경기에서 강백호 가 맹활약을 했습니다.\n",
      "그 끝내 KT 가 LG 를 10:9 로 승리하였습니다.\n",
      "기사 끝.\n"
     ]
    }
   ],
   "source": [
    "# Q2.\n",
    "std = input(\"경기장은 어디입니까?\")\n",
    "win = input(\"이긴 팀은 어디입니까?\")\n",
    "lose = input(\"진팀은 어디입니까?\")\n",
    "best = input(\"우수 선수는 누구입니까?\")\n",
    "scr = input(\"스코어는 몇대몇입니까?\")\n",
    "\n",
    "print(\"\\n[속보]\", win, \"가\", scr, \"로 승리...\")\n",
    "print(\"오늘\", std, \"경기장에서 야구 경기가 있었습니다.\")\n",
    "print(win, \"와\", lose, \"는 치열한 공방전을 펼쳤습니다.\")\n",
    "print(\"이 경기에서\", best, \"가 맹활약을 했습니다.\")\n",
    "print(\"그 끝내\", win, \"가\", lose, \"를\", scr, \"로 승리하였습니다.\\n기사 끝.\")"
   ]
  },
  {
   "cell_type": "code",
   "execution_count": null,
   "id": "eb4e2e52-d33f-41e3-887f-8056afe9d8ba",
   "metadata": {},
   "outputs": [],
   "source": []
  },
  {
   "cell_type": "code",
   "execution_count": null,
   "id": "cfe958f8-5e3e-43df-a1c1-082f6f5e86a3",
   "metadata": {},
   "outputs": [],
   "source": [
    "# 한 번에 여러 개의 입력값 받기 - split()"
   ]
  },
  {
   "cell_type": "code",
   "execution_count": 116,
   "id": "eb1dcaaf-426e-445a-a287-b9ea3e64fff2",
   "metadata": {},
   "outputs": [
    {
     "name": "stdout",
     "output_type": "stream",
     "text": [
      "<class 'list'>\n",
      "['1', ' 2', ' 3']\n"
     ]
    }
   ],
   "source": [
    "result = '1, 2, 3'.split(',')\n",
    "print(type(result))\n",
    "print(result)"
   ]
  },
  {
   "cell_type": "code",
   "execution_count": 119,
   "id": "2c8167c3-a0d1-4a42-8b69-9b11f40c1f88",
   "metadata": {},
   "outputs": [
    {
     "name": "stdin",
     "output_type": "stream",
     "text": [
      "hh:mm:ss 의 형태로 시간을 입력해주세요 12:33:23\n"
     ]
    },
    {
     "name": "stdout",
     "output_type": "stream",
     "text": [
      "실행 결과:\n",
      "시 : 12\n",
      "분 : 33\n",
      "초 : 23\n"
     ]
    }
   ],
   "source": [
    "# Q1. - 인덱싱 사용한 풀이\n",
    "a = input(\"hh:mm:ss 의 형태로 시간을 입력해주세요\").split(':')\n",
    "print(\"시 :\", a[0])\n",
    "print(\"분 :\", a[1])\n",
    "print(\"초 :\", a[2])"
   ]
  },
  {
   "cell_type": "code",
   "execution_count": 120,
   "id": "b48dbcf7-887a-4254-95ae-2405f5f7ec49",
   "metadata": {},
   "outputs": [
    {
     "name": "stdout",
     "output_type": "stream",
     "text": [
      "['12', '33', '23']\n"
     ]
    }
   ],
   "source": [
    "print(a)"
   ]
  },
  {
   "cell_type": "code",
   "execution_count": 121,
   "id": "0e92ff66-f41e-488d-9009-0d761abbd52d",
   "metadata": {},
   "outputs": [
    {
     "name": "stdin",
     "output_type": "stream",
     "text": [
      "hh:mm:ss 의 형태로 시간을 입력해주세요 12:33:23\n"
     ]
    },
    {
     "name": "stdout",
     "output_type": "stream",
     "text": [
      "시 : 12\n",
      "분 : 33\n",
      "초 : 23\n"
     ]
    }
   ],
   "source": [
    "# 다른 풀이\n",
    "h, m, s = input(\"hh:mm:ss 의 형태로 시간을 입력해주세요\").split(':')\n",
    "print(\"시 :\", h)\n",
    "print(\"분 :\", m)\n",
    "print(\"초 :\", s)"
   ]
  },
  {
   "cell_type": "code",
   "execution_count": null,
   "id": "737d36d9-5b9c-4772-be63-5fcc1e4209ef",
   "metadata": {},
   "outputs": [],
   "source": []
  },
  {
   "cell_type": "code",
   "execution_count": null,
   "id": "03323e4c-2a90-429e-b3ba-56de2a058c55",
   "metadata": {},
   "outputs": [],
   "source": []
  },
  {
   "cell_type": "code",
   "execution_count": 122,
   "id": "0f96d964-91e2-4838-bc7d-6aca9abb70f7",
   "metadata": {},
   "outputs": [],
   "source": [
    "##### map()함수"
   ]
  },
  {
   "cell_type": "code",
   "execution_count": 125,
   "id": "16899da1-b548-4526-89d4-cbce4f8aa92b",
   "metadata": {},
   "outputs": [],
   "source": [
    "# iterable 객체: 시퀀스 자료형 중 하나. 순서에 따라 하나씩 꺼내어 함수에 적용할 수 있음\n",
    "# 반환 시 map 클래스를 반환함"
   ]
  },
  {
   "cell_type": "code",
   "execution_count": 123,
   "id": "2beaf0e7-7cad-408f-8d56-956ae479df30",
   "metadata": {},
   "outputs": [
    {
     "name": "stdout",
     "output_type": "stream",
     "text": [
      "[1, 2, 3, 4]\n"
     ]
    }
   ],
   "source": [
    "a = [1.2, 2.5, 3.7, 4.6]\n",
    "a = list(map(int, a))  # 형식: a = list(map(함수, 시퀀스))\n",
    "print(a)"
   ]
  },
  {
   "cell_type": "code",
   "execution_count": 151,
   "id": "4a0bf196-a400-4ae0-8511-8f29bb0081c5",
   "metadata": {},
   "outputs": [
    {
     "name": "stdin",
     "output_type": "stream",
     "text": [
      "국어, 영어, 수학, 과학 점수를 입력해주세요 98,100,96,100\n"
     ]
    },
    {
     "name": "stdout",
     "output_type": "stream",
     "text": [
      "평균 점수는 98.5 점입니다.\n"
     ]
    }
   ],
   "source": [
    "# 연습문제\n",
    "a = input(\"국어, 영어, 수학, 과학 점수를 입력해주세요\").split(',')\n",
    "a = list(map(int, a))\n",
    "kor, eng, mat, sci = a  # Unpacking\n",
    "avg = (kor + eng + mat + sci)/len(a)\n",
    "print(\"평균 점수는\", avg, \"점입니다.\")\n",
    "\n",
    "# 4행에서 'b'라는 새로운 문자로 정의하면 왜 오류가 날까?"
   ]
  },
  {
   "cell_type": "code",
   "execution_count": 149,
   "id": "850bd49f-bac6-4afe-8df5-fd8a1365f3a6",
   "metadata": {},
   "outputs": [
    {
     "name": "stdout",
     "output_type": "stream",
     "text": [
      "98\n",
      "100\n",
      "96\n",
      "100\n"
     ]
    }
   ],
   "source": [
    "# 검토\n",
    "print(kor)\n",
    "print(eng)\n",
    "print(mat)\n",
    "print(sci)"
   ]
  },
  {
   "cell_type": "code",
   "execution_count": null,
   "id": "e32aa721-8ac5-4b37-925e-f126d64d774f",
   "metadata": {},
   "outputs": [],
   "source": [
    "# 연습문제 정답\n",
    "kor, eng, mat, sci = map(int, input(\"국어, 영어, 수학, 과학 점수를 입력해주세요\").split(\",\"))\n",
    "avg = (kor + eng + mat + sci) / 4\n",
    "print(\"평균 점수는\", avg, \"점입니다.\")"
   ]
  }
 ],
 "metadata": {
  "kernelspec": {
   "display_name": "Python 3 (ipykernel)",
   "language": "python",
   "name": "python3"
  },
  "language_info": {
   "codemirror_mode": {
    "name": "ipython",
    "version": 3
   },
   "file_extension": ".py",
   "mimetype": "text/x-python",
   "name": "python",
   "nbconvert_exporter": "python",
   "pygments_lexer": "ipython3",
   "version": "3.9.13"
  }
 },
 "nbformat": 4,
 "nbformat_minor": 5
}
