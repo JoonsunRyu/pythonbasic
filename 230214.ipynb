{
 "cells": [
  {
   "cell_type": "code",
   "execution_count": null,
   "id": "33241ca0",
   "metadata": {},
   "outputs": [],
   "source": [
    "##### 개행문자 & 삼중 따옴표"
   ]
  },
  {
   "cell_type": "code",
   "execution_count": 7,
   "id": "e22f2288",
   "metadata": {},
   "outputs": [
    {
     "name": "stdout",
     "output_type": "stream",
     "text": [
      "\n",
      "안녕하세요.\n",
      "나는 파이썬을 공부하고 있습니다.\n",
      "반갑습니다.\n"
     ]
    }
   ],
   "source": [
    "a = \"\"\"\n",
    "안녕하세요.\n",
    "나는 파이썬을 공부하고 있습니다.\n",
    "반갑습니다.\"\"\"\n",
    "\n",
    "print(a)"
   ]
  },
  {
   "cell_type": "code",
   "execution_count": 6,
   "id": "03168bcf",
   "metadata": {},
   "outputs": [
    {
     "name": "stdout",
     "output_type": "stream",
     "text": [
      "안녕하세요.\n",
      "나는 파이썬을 공부하고 있습니다.\n",
      "반갑습니다.\n"
     ]
    }
   ],
   "source": [
    "a = \"\"\"\\\n",
    "안녕하세요.\n",
    "나는 파이썬을 공부하고 있습니다.\n",
    "반갑습니다.\\\n",
    "\"\"\"\n",
    "\n",
    "print(a)"
   ]
  },
  {
   "cell_type": "code",
   "execution_count": 11,
   "id": "80979568",
   "metadata": {},
   "outputs": [
    {
     "name": "stdout",
     "output_type": "stream",
     "text": [
      "\n",
      "\"안녕하세요.\"\n",
      "나는 파이썬을 공부하고 있습니다.\n",
      "반갑습니다.\n",
      "\n"
     ]
    }
   ],
   "source": [
    "a = \"\"\"\n",
    "\"안녕하세요.\"\n",
    "나는 파이썬을 공부하고 있습니다.\n",
    "반갑습니다.\n",
    "\"\"\"\n",
    "\n",
    "print(a)\n",
    "\n",
    "# 그냥 따옴표를 쓰면 됨"
   ]
  },
  {
   "cell_type": "code",
   "execution_count": null,
   "id": "d891fd07",
   "metadata": {},
   "outputs": [],
   "source": []
  },
  {
   "cell_type": "code",
   "execution_count": 15,
   "id": "2c00d61f",
   "metadata": {},
   "outputs": [
    {
     "name": "stdout",
     "output_type": "stream",
     "text": [
      "너무 너무 너무 너무 너무 너무 너무 파이썬 공부가 즐겁습니다.\n",
      "너무 너무 너무 너무 너무 너무 너무 파이썬 공부가 즐겁습니다.\n"
     ]
    }
   ],
   "source": [
    "print(\"너무 너무 너무 너무 너무 너무 너무 파이썬 공부가 즐겁습니다.\")  # 비효율적인 코드. 불편함을 느껴봐라..?\n",
    "\n",
    "b = \"너무 \" * 7 + \"파이썬 공부가 즐겁습니다.\"\n",
    "print(b)"
   ]
  },
  {
   "cell_type": "code",
   "execution_count": 16,
   "id": "ff339ff0",
   "metadata": {},
   "outputs": [
    {
     "name": "stdout",
     "output_type": "stream",
     "text": [
      "취업취업취업취업취업취업취업취업취업취업취업취업취업취업취업취업취업취업취업취업\n"
     ]
    }
   ],
   "source": [
    "b = \"취업\" * 20\n",
    "print(b)"
   ]
  },
  {
   "cell_type": "code",
   "execution_count": null,
   "id": "131ce616",
   "metadata": {},
   "outputs": [],
   "source": []
  },
  {
   "cell_type": "code",
   "execution_count": 17,
   "id": "e70b6086",
   "metadata": {},
   "outputs": [],
   "source": [
    "##### 시퀀스 자료형 - 인덱싱 & 슬라이싱"
   ]
  },
  {
   "cell_type": "code",
   "execution_count": null,
   "id": "bfcb0626",
   "metadata": {},
   "outputs": [],
   "source": [
    "# 인덱싱"
   ]
  },
  {
   "cell_type": "code",
   "execution_count": 19,
   "id": "74e6f6c4",
   "metadata": {},
   "outputs": [
    {
     "data": {
      "text/plain": [
       "'P'"
      ]
     },
     "execution_count": 19,
     "metadata": {},
     "output_type": "execute_result"
    }
   ],
   "source": [
    "word = 'Python'\n",
    "word[0]"
   ]
  },
  {
   "cell_type": "code",
   "execution_count": 21,
   "id": "fa20e8f9",
   "metadata": {},
   "outputs": [
    {
     "name": "stdout",
     "output_type": "stream",
     "text": [
      "P\n",
      "n\n"
     ]
    }
   ],
   "source": [
    "print(word[0])\n",
    "print(word[5])"
   ]
  },
  {
   "cell_type": "code",
   "execution_count": 22,
   "id": "24b39d0a",
   "metadata": {},
   "outputs": [
    {
     "name": "stdout",
     "output_type": "stream",
     "text": [
      "n\n",
      "P\n"
     ]
    }
   ],
   "source": [
    "print(word[-1])\n",
    "print(word[-6])"
   ]
  },
  {
   "cell_type": "code",
   "execution_count": null,
   "id": "1daa1186",
   "metadata": {},
   "outputs": [],
   "source": [
    "# 문자열, list, tuple, range 모두 적용 가능\n",
    "# 리스트는 대괄호, 튜플은 소괄호\n",
    "# 자료형이 갖는 범위 내에서만 사용 가능"
   ]
  },
  {
   "cell_type": "code",
   "execution_count": null,
   "id": "ebe338c0",
   "metadata": {},
   "outputs": [],
   "source": []
  },
  {
   "cell_type": "code",
   "execution_count": null,
   "id": "af7b0eba",
   "metadata": {},
   "outputs": [],
   "source": [
    "# 슬라이싱"
   ]
  },
  {
   "cell_type": "code",
   "execution_count": 25,
   "id": "716d1ea4",
   "metadata": {},
   "outputs": [
    {
     "name": "stdout",
     "output_type": "stream",
     "text": [
      "꺾\n"
     ]
    }
   ],
   "source": [
    "# Q1.\n",
    "sentence = '중요한 것은 꺾이지 않는 마음'\n",
    "print(sentence[7])"
   ]
  },
  {
   "cell_type": "code",
   "execution_count": 27,
   "id": "308143f6",
   "metadata": {},
   "outputs": [
    {
     "name": "stdout",
     "output_type": "stream",
     "text": [
      "Py\n",
      "on\n",
      "\n",
      "tho\n"
     ]
    }
   ],
   "source": [
    "word = 'Python'\n",
    "print(word[0:2])\n",
    "print(word[4:])\n",
    "print(word[-1:-4])\n",
    "print(word[-4:-1])"
   ]
  },
  {
   "cell_type": "code",
   "execution_count": null,
   "id": "360ffab3",
   "metadata": {},
   "outputs": [],
   "source": [
    "# 슬라이싱 증감크기"
   ]
  },
  {
   "cell_type": "code",
   "execution_count": 30,
   "id": "c22d30d9",
   "metadata": {},
   "outputs": [
    {
     "name": "stdout",
     "output_type": "stream",
     "text": [
      "Ph\n",
      "Pto\n"
     ]
    }
   ],
   "source": [
    "print(word[0:5:3])  # 0은 >= (이상), 5는 < (미만)\n",
    "print(word[::2])"
   ]
  },
  {
   "cell_type": "code",
   "execution_count": 32,
   "id": "800ff99e",
   "metadata": {},
   "outputs": [
    {
     "name": "stdout",
     "output_type": "stream",
     "text": [
      "\n",
      "한 것은 꺾이지 않는 마음\n"
     ]
    }
   ],
   "source": [
    "print(sentence[42:])   # 해당되는 내용 없으므로 출력물 없음\n",
    "print(sentence[2:42])  # 문자열 범위 초과해서 지정해도 결과 잘 나옴"
   ]
  },
  {
   "cell_type": "code",
   "execution_count": 37,
   "id": "13b2e3a0",
   "metadata": {},
   "outputs": [
    {
     "name": "stdout",
     "output_type": "stream",
     "text": [
      "꺾이지 않는 마음\n",
      " 꺾이지 않는 마음\n"
     ]
    }
   ],
   "source": [
    "# Q2.\n",
    "sentence = '중요한 것은 꺾이지 않는 마음'\n",
    "print(sentence[7:])\n",
    "print(sentence[6:])  # 공백 주의"
   ]
  },
  {
   "cell_type": "code",
   "execution_count": 52,
   "id": "ac6357e7",
   "metadata": {},
   "outputs": [
    {
     "name": "stdout",
     "output_type": "stream",
     "text": [
      "한요중\n",
      "한요중\n",
      "한요\n"
     ]
    }
   ],
   "source": [
    "# Q3.\n",
    "sentence = '중요한 것은 꺾이지 않는 마음'\n",
    "print(sentence[-14:-17:-1])\n",
    "print(sentence[2::-1])  # 다른 풀이\n",
    "print(sentence[-14:-16:-1])\n",
    "# 역순 슬라이싱 할 때는 한 칸 더 가서 끝내야 함!! 정방향 슬라이싱 할 때 한 칸 뒤에서 끝내는거랑 같은 원리"
   ]
  },
  {
   "cell_type": "code",
   "execution_count": null,
   "id": "ee046453",
   "metadata": {},
   "outputs": [],
   "source": [
    "# 시퀀스 크기"
   ]
  },
  {
   "cell_type": "code",
   "execution_count": null,
   "id": "f839d084",
   "metadata": {},
   "outputs": [],
   "source": []
  },
  {
   "cell_type": "code",
   "execution_count": null,
   "id": "2dfa0227",
   "metadata": {},
   "outputs": [],
   "source": []
  },
  {
   "cell_type": "code",
   "execution_count": null,
   "id": "42c4382a",
   "metadata": {},
   "outputs": [],
   "source": [
    "##### 리스트"
   ]
  },
  {
   "cell_type": "code",
   "execution_count": 54,
   "id": "39784b57",
   "metadata": {},
   "outputs": [
    {
     "name": "stdout",
     "output_type": "stream",
     "text": [
      "[1, 4, 9, 16, 25]\n"
     ]
    }
   ],
   "source": [
    "squares = [1**2, 2**2, 3**2, 4**2, 5**2]\n",
    "print(squares)"
   ]
  },
  {
   "cell_type": "code",
   "execution_count": 57,
   "id": "c89cd770",
   "metadata": {},
   "outputs": [
    {
     "name": "stdout",
     "output_type": "stream",
     "text": [
      "1\n",
      "25\n",
      "[9, 16, 25]\n"
     ]
    }
   ],
   "source": [
    "print(squares[0])\n",
    "print(squares[-1])\n",
    "print(squares[-3:])"
   ]
  },
  {
   "cell_type": "code",
   "execution_count": 58,
   "id": "cb53610b",
   "metadata": {},
   "outputs": [
    {
     "name": "stdout",
     "output_type": "stream",
     "text": [
      "[1, 4, 9, 16, 25, 36, 49, 64, 81, 100]\n"
     ]
    }
   ],
   "source": [
    "print(squares + [36, 49, 64, 81, 100])"
   ]
  },
  {
   "cell_type": "code",
   "execution_count": 59,
   "id": "f2453d35",
   "metadata": {},
   "outputs": [
    {
     "name": "stdout",
     "output_type": "stream",
     "text": [
      "['a', 'b', 'c', 'd', 'e', 'a', 'b', 'c', 'd', 'e', 'a', 'b', 'c', 'd', 'e']\n"
     ]
    }
   ],
   "source": [
    "letters = ['a', 'b', 'c', 'd', 'e']\n",
    "print(letters * 3)"
   ]
  },
  {
   "cell_type": "code",
   "execution_count": null,
   "id": "d336b1d8",
   "metadata": {},
   "outputs": [],
   "source": []
  },
  {
   "cell_type": "code",
   "execution_count": null,
   "id": "30087a24",
   "metadata": {},
   "outputs": [],
   "source": []
  },
  {
   "cell_type": "code",
   "execution_count": null,
   "id": "24fccc51",
   "metadata": {},
   "outputs": [],
   "source": []
  },
  {
   "cell_type": "code",
   "execution_count": null,
   "id": "599ed0a8",
   "metadata": {},
   "outputs": [],
   "source": []
  },
  {
   "cell_type": "code",
   "execution_count": null,
   "id": "39851251",
   "metadata": {},
   "outputs": [],
   "source": []
  },
  {
   "cell_type": "code",
   "execution_count": null,
   "id": "1907a7b0",
   "metadata": {},
   "outputs": [],
   "source": []
  },
  {
   "cell_type": "code",
   "execution_count": null,
   "id": "ac35fc3c",
   "metadata": {},
   "outputs": [],
   "source": []
  },
  {
   "cell_type": "code",
   "execution_count": null,
   "id": "30a50d29",
   "metadata": {},
   "outputs": [],
   "source": []
  },
  {
   "cell_type": "code",
   "execution_count": null,
   "id": "94f4dc74",
   "metadata": {},
   "outputs": [],
   "source": []
  },
  {
   "cell_type": "code",
   "execution_count": null,
   "id": "55a7e5e2",
   "metadata": {},
   "outputs": [],
   "source": []
  }
 ],
 "metadata": {
  "kernelspec": {
   "display_name": "Python 3 (ipykernel)",
   "language": "python",
   "name": "python3"
  },
  "language_info": {
   "codemirror_mode": {
    "name": "ipython",
    "version": 3
   },
   "file_extension": ".py",
   "mimetype": "text/x-python",
   "name": "python",
   "nbconvert_exporter": "python",
   "pygments_lexer": "ipython3",
   "version": "3.9.13"
  }
 },
 "nbformat": 4,
 "nbformat_minor": 5
}
