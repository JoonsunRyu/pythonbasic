{
 "cells": [
  {
   "cell_type": "code",
   "execution_count": 1,
   "id": "138c0b4f-e52d-4b34-a224-d11390f3c49c",
   "metadata": {},
   "outputs": [],
   "source": [
    "##### print()함수 탐구하기"
   ]
  },
  {
   "cell_type": "code",
   "execution_count": 2,
   "id": "f4371460-a3ef-48dc-83d2-dd75601779b0",
   "metadata": {},
   "outputs": [
    {
     "name": "stdout",
     "output_type": "stream",
     "text": [
      "value 1 1.1 [1, 2, 'text']\n"
     ]
    }
   ],
   "source": [
    "print(\"value\", 1, 1.1, [1, 2, 'text'])\n",
    "\n",
    "# 값과 값 사이는 기본적으로 '공백'으로 되어있음 (디폴트)"
   ]
  },
  {
   "cell_type": "code",
   "execution_count": 4,
   "id": "32537eb5-0f47-4638-b421-8b07b7331d5c",
   "metadata": {},
   "outputs": [
    {
     "name": "stdout",
     "output_type": "stream",
     "text": [
      "value, 1, 1.1, [1, 2, 'text']\n"
     ]
    }
   ],
   "source": [
    "print(\"value\", 1, 1.1, [1, 2, 'text'], sep = \", \")\n",
    " # sep는 'keyword'로, sep = \"값\" 형태로 맨 마지막에 써야 함"
   ]
  },
  {
   "cell_type": "code",
   "execution_count": 5,
   "id": "28eed6bf-2e47-493c-9de1-f274b72e64f1",
   "metadata": {},
   "outputs": [
    {
     "name": "stdout",
     "output_type": "stream",
     "text": [
      "줄이 바뀝니다.\n",
      "왤까요?\n",
      "생각해봅시다.\n"
     ]
    }
   ],
   "source": [
    "print(\"줄이 바뀝니다.\")\n",
    "print(\"왤까요?\")\n",
    "print(\"생각해봅시다.\")"
   ]
  },
  {
   "cell_type": "code",
   "execution_count": 9,
   "id": "95e91af3-0025-4348-9dcb-4fc16286cf97",
   "metadata": {},
   "outputs": [
    {
     "name": "stdout",
     "output_type": "stream",
     "text": [
      "줄이 바뀌지 않습니다.그 이유는 end = \"\\n\"과 같이 기본 설정된 값을 빈 스트링으로 변경했기 때문입니다.\n",
      "sep, end는 맨 뒤에 써야하며 둘 간 순서는 상관없습니다.어떻게 사용하는지\n",
      "이해가 되시나요?진짜죠 ?\n"
     ]
    }
   ],
   "source": [
    "print(\"줄이 바뀌지 않습니다.\", end = \"\")\n",
    "print(\"그 이유는 end = \\\"\\\\n\\\"과 같이 기본 설정된 값을 빈 스트링으로 변경했기 때문입니다.\")\n",
    "print(\"sep\", \"end는 맨 뒤에 써야하며 둘 간 순서는 상관없습니다.\", sep = \", \", end = \"\")\n",
    "print(\"어떻게 사용하는지\", \"이해가 되시나요\", sep = \"\\n\", end = \"?\")\n",
    "print(\"진짜죠\", \"?\")"
   ]
  },
  {
   "cell_type": "code",
   "execution_count": null,
   "id": "f5331962-ecc9-4f98-bf4a-b745dbb2e415",
   "metadata": {},
   "outputs": [],
   "source": []
  },
  {
   "cell_type": "code",
   "execution_count": 16,
   "id": "c99c13c4-d4de-466c-9ae9-8c5cbc9377b7",
   "metadata": {},
   "outputs": [
    {
     "name": "stdout",
     "output_type": "stream",
     "text": [
      "2021/02/03 18:33:23\n"
     ]
    }
   ],
   "source": [
    "# Q1.\n",
    "year = '2021'\n",
    "month = '02'\n",
    "day = '03'\n",
    "hour = '18'\n",
    "minute = '33'\n",
    "second = '23'\n",
    "\n",
    "print(year, month, day, sep = \"/\", end = \" \")\n",
    "print(hour, minute, second, sep = \":\")"
   ]
  },
  {
   "cell_type": "code",
   "execution_count": 27,
   "id": "794f7281-2b9a-44ca-9018-1bfb9ea8f959",
   "metadata": {},
   "outputs": [
    {
     "name": "stdin",
     "output_type": "stream",
     "text": [
      "사과와 귤을 몇개 드릴까요? 10,20\n"
     ]
    },
    {
     "name": "stdout",
     "output_type": "stream",
     "text": [
      "총 가격은 14000원입니다.\n"
     ]
    }
   ],
   "source": [
    "# Q2.\n",
    "a = input(\"사과와 귤을 몇개 드릴까요?\").split(\",\")\n",
    "a = list(map(int, a))\n",
    "사과, 귤 = a\n",
    "print(\"총 가격은 \", 사과*1000 + 귤*200, \"원입니다.\", sep = \"\")"
   ]
  },
  {
   "cell_type": "code",
   "execution_count": 28,
   "id": "7a49931b-8a95-4306-b04f-a8587999b915",
   "metadata": {},
   "outputs": [
    {
     "name": "stdin",
     "output_type": "stream",
     "text": [
      "사과와 귤을 몇개 드릴까요? 10,20\n"
     ]
    },
    {
     "name": "stdout",
     "output_type": "stream",
     "text": [
      "총 가격은 14000원입니다.\n"
     ]
    }
   ],
   "source": [
    "# Q2 정답\n",
    "apl_prc = 1000\n",
    "tan_prc = 200\n",
    "apple, tangerine = map(int, input(\"사과와 귤을 몇개 드릴까요?\").split(\",\"))\n",
    "\n",
    "sum_prc = apl_prc * apple + tan_prc * tangerine\n",
    "\n",
    "print(\"총 가격은 \", sum_prc, \"원입니다.\", sep = \"\")"
   ]
  },
  {
   "cell_type": "code",
   "execution_count": null,
   "id": "6b43aeea-c100-49bc-b029-2eba2649dc71",
   "metadata": {},
   "outputs": [],
   "source": []
  },
  {
   "cell_type": "code",
   "execution_count": null,
   "id": "37a0d321-be7b-4b16-884b-bd56276dd182",
   "metadata": {},
   "outputs": [],
   "source": []
  },
  {
   "cell_type": "code",
   "execution_count": 29,
   "id": "b4e71dee-0f30-4f00-b417-9bad88c4a4ca",
   "metadata": {},
   "outputs": [],
   "source": [
    "##### format()"
   ]
  },
  {
   "cell_type": "code",
   "execution_count": 30,
   "id": "bbc7abbe-537e-4994-8267-468dcbd4a931",
   "metadata": {},
   "outputs": [
    {
     "name": "stdout",
     "output_type": "stream",
     "text": [
      "10\n",
      "10 20 30\n",
      "101 202 303 404 505\n"
     ]
    }
   ],
   "source": [
    "print(\"{}\".format(10))\n",
    "print(\"{} {} {}\".format(10, 20, 30))\n",
    "print(\"{} {} {} {} {}\".format(101, 202, 303, 404, 505))\n",
    "\n",
    "# {} 개수와 format()의 인수(argument) 개수와 같아야 함!"
   ]
  },
  {
   "cell_type": "code",
   "execution_count": 31,
   "id": "edc84328-e271-46a0-8855-a3280054382a",
   "metadata": {},
   "outputs": [
    {
     "name": "stdout",
     "output_type": "stream",
     "text": [
      "오늘의 날짜를 알려드립니다!\n",
      "2023년 2월 15일입니다.\n"
     ]
    }
   ],
   "source": [
    "# 삼중따옴표 활용\n",
    "import time\n",
    "\n",
    "today = \"\"\"오늘의 날짜를 알려드립니다!\n",
    "{}년 {}월 {}일입니다.\\\n",
    "\"\"\".format(time.localtime().tm_year,\n",
    "           time.localtime().tm_mon,\n",
    "           time.localtime().tm_mday)\n",
    "\n",
    "print(today)\n",
    "\n",
    "# tab 누르면 메서드 리스트가 뜸"
   ]
  },
  {
   "cell_type": "code",
   "execution_count": null,
   "id": "d1c5a62a-6abf-4097-8f0d-35c2e239811f",
   "metadata": {},
   "outputs": [],
   "source": []
  },
  {
   "cell_type": "code",
   "execution_count": 32,
   "id": "f4dbe37b-c28f-41da-bcf0-12f07000fe41",
   "metadata": {},
   "outputs": [
    {
     "name": "stdout",
     "output_type": "stream",
     "text": [
      "중괄호는 2개이고, 여기 인수는\n"
     ]
    }
   ],
   "source": [
    "# 중괄호 개수 > format 메서드 인수인 경우?  -> 초과되는 format 메서드 인수는 버려짐\n",
    "some_str = \"중괄호는 2개이고, {} {}\".format(\"여기\", \"인수는\", \"3개 입니다.\")\n",
    "print(some_str)  # '3개 입니다.'는 짤림\n",
    "\n",
    "# <참고> 인수는 {}로 Tuple 형태로 packing되어 입력됨"
   ]
  },
  {
   "cell_type": "code",
   "execution_count": 33,
   "id": "8d75da62-48ef-4534-b6fd-39953eea484b",
   "metadata": {},
   "outputs": [
    {
     "ename": "IndexError",
     "evalue": "Replacement index 3 out of range for positional args tuple",
     "output_type": "error",
     "traceback": [
      "\u001b[1;31m---------------------------------------------------------------------------\u001b[0m",
      "\u001b[1;31mIndexError\u001b[0m                                Traceback (most recent call last)",
      "\u001b[1;32m~\\AppData\\Local\\Temp\\ipykernel_14300\\1069541199.py\u001b[0m in \u001b[0;36m<module>\u001b[1;34m\u001b[0m\n\u001b[0;32m      1\u001b[0m \u001b[1;31m# 중괄호 개수 < format 메서드 인수인 경우?  -> IndexError 발생\u001b[0m\u001b[1;33m\u001b[0m\u001b[1;33m\u001b[0m\u001b[0m\n\u001b[1;32m----> 2\u001b[1;33m \u001b[0msome_str\u001b[0m \u001b[1;33m=\u001b[0m \u001b[1;34m\"중괄호는 2개이고, {} {} {} {}\"\u001b[0m\u001b[1;33m.\u001b[0m\u001b[0mformat\u001b[0m\u001b[1;33m(\u001b[0m\u001b[1;34m\"여기\"\u001b[0m\u001b[1;33m,\u001b[0m \u001b[1;34m\"인수는\"\u001b[0m\u001b[1;33m,\u001b[0m \u001b[1;34m\"3개 입니다.\"\u001b[0m\u001b[1;33m)\u001b[0m\u001b[1;33m\u001b[0m\u001b[1;33m\u001b[0m\u001b[0m\n\u001b[0m\u001b[0;32m      3\u001b[0m \u001b[0mprint\u001b[0m\u001b[1;33m(\u001b[0m\u001b[0msome_str\u001b[0m\u001b[1;33m)\u001b[0m\u001b[1;33m\u001b[0m\u001b[1;33m\u001b[0m\u001b[0m\n",
      "\u001b[1;31mIndexError\u001b[0m: Replacement index 3 out of range for positional args tuple"
     ]
    }
   ],
   "source": [
    "# 중괄호 개수 < format 메서드 인수인 경우?  -> IndexError 발생\n",
    "some_str = \"중괄호는 2개이고, {} {} {} {}\".format(\"여기\", \"인수는\", \"3개 입니다.\")\n",
    "print(some_str)  # 에러 발생"
   ]
  },
  {
   "cell_type": "code",
   "execution_count": null,
   "id": "046386cf-72d8-4d02-b5ac-c4474b989424",
   "metadata": {},
   "outputs": [],
   "source": []
  },
  {
   "cell_type": "code",
   "execution_count": 34,
   "id": "d192eb78-ae0d-415f-a4a6-95d3ba2a389c",
   "metadata": {},
   "outputs": [],
   "source": [
    "##### f-String"
   ]
  },
  {
   "cell_type": "code",
   "execution_count": 36,
   "id": "0e714c23-91f8-4369-b14a-94d114996468",
   "metadata": {},
   "outputs": [
    {
     "name": "stdout",
     "output_type": "stream",
     "text": [
      "10\n",
      "10 20 30\n",
      "101 202 303 404 505\n"
     ]
    }
   ],
   "source": [
    "print(f\"{10}\")\n",
    "print(f\"{10} {20} {30}\")\n",
    "print(f\"{101} {202} {303} {404} {505}\")\n",
    "\n",
    "# 공백은 그대로 유지, f가 {}안 숫자를 그대로 출력되도록 함"
   ]
  },
  {
   "cell_type": "code",
   "execution_count": 37,
   "id": "27234358-05c6-4f59-b2b6-022da2d010b6",
   "metadata": {},
   "outputs": [
    {
     "name": "stdout",
     "output_type": "stream",
     "text": [
      "오늘의 날짜를 알려드립니다!\n",
      "2023년 2월 15일입니다.\n"
     ]
    }
   ],
   "source": [
    "# \"\"\" 사용\n",
    "import time\n",
    "\n",
    "today = f\"\"\"오늘의 날짜를 알려드립니다!\n",
    "{time.localtime().tm_year}년 {time.localtime().tm_mon}월 {time.localtime().tm_mday}일입니다.\\\n",
    "\"\"\"\n",
    "\n",
    "print(today)"
   ]
  },
  {
   "cell_type": "code",
   "execution_count": null,
   "id": "73afc4f8-3447-41c5-a63d-5512e0aa3a4c",
   "metadata": {},
   "outputs": [],
   "source": []
  },
  {
   "cell_type": "code",
   "execution_count": null,
   "id": "14c660c6-034b-48c9-85c6-10c7ce1d1298",
   "metadata": {},
   "outputs": [],
   "source": []
  },
  {
   "cell_type": "code",
   "execution_count": null,
   "id": "de8c6693-3f46-4f94-9f10-f3f66de8966b",
   "metadata": {},
   "outputs": [],
   "source": [
    "##### 흐름 제어문 - if"
   ]
  },
  {
   "cell_type": "code",
   "execution_count": null,
   "id": "7f73263d-f207-4d19-a01c-e1557930980a",
   "metadata": {},
   "outputs": [],
   "source": [
    "# if ~ elif ~ else 구문 / 논리 연산자(and, or, not 등)를 많이 사용해 문장의 흐름을 제어"
   ]
  },
  {
   "cell_type": "code",
   "execution_count": 40,
   "id": "dca247e5-10ab-4193-898d-4fa6781e0b69",
   "metadata": {},
   "outputs": [
    {
     "name": "stdout",
     "output_type": "stream",
     "text": [
      "<class 'int'>\n"
     ]
    },
    {
     "data": {
      "text/plain": [
       "True"
      ]
     },
     "execution_count": 40,
     "metadata": {},
     "output_type": "execute_result"
    }
   ],
   "source": [
    "input_value4 = 3243\n",
    "print(type(input_value4))\n",
    "type(input_value4) is int\n",
    "\n",
    "# type()은 객체의 타입을 반환함  ex. int, str, ..."
   ]
  },
  {
   "cell_type": "code",
   "execution_count": 43,
   "id": "b052665f-7930-40b6-878b-fcfef56c7ecc",
   "metadata": {},
   "outputs": [
    {
     "name": "stdout",
     "output_type": "stream",
     "text": [
      "a는 정수입니다\n"
     ]
    }
   ],
   "source": [
    "# if문 예 - 조건이 맞을 때만 실행하라!\n",
    "a = 100\n",
    "\n",
    "# a라는 변수의 타입이 int라면 True, 아니면 False\n",
    "if type(a) is int:\n",
    "    print(\"a는 정수입니다\")"
   ]
  },
  {
   "cell_type": "code",
   "execution_count": 45,
   "id": "7690b776-72a7-4c7e-9508-b3495348d368",
   "metadata": {},
   "outputs": [],
   "source": [
    "b = '10'\n",
    "if type(b) is int:\n",
    "    print(\"b는 정수입니다\")  # 실행된 것 없음"
   ]
  },
  {
   "cell_type": "code",
   "execution_count": 49,
   "id": "630fc1a1-f837-4c51-a048-21ada37b6b9a",
   "metadata": {},
   "outputs": [
    {
     "name": "stdout",
     "output_type": "stream",
     "text": [
      "문자열입니다.\n"
     ]
    }
   ],
   "source": [
    "b = '10'\n",
    "if type(b) is int:\n",
    "    print(\"b는 정수입니다\")\n",
    "\n",
    "# 앞 조건이 전부 False일 때만 실행되는 부분\n",
    "elif True:\n",
    "    print(\"문자열입니다.\")"
   ]
  },
  {
   "cell_type": "code",
   "execution_count": 50,
   "id": "19697932-4165-4f73-98e3-9d03b3d5d9b0",
   "metadata": {},
   "outputs": [
    {
     "name": "stdout",
     "output_type": "stream",
     "text": [
      "정수입니다\n"
     ]
    }
   ],
   "source": [
    "b = 10\n",
    "if type(b) is int:\n",
    "    print(\"정수입니다\")\n",
    "\n",
    "# 앞 조건 = True이므로, 뒷부분 출력 X\n",
    "elif True:\n",
    "    print(\"문자열입니다.\")"
   ]
  },
  {
   "cell_type": "code",
   "execution_count": 53,
   "id": "dd2a1e7f-652e-47cc-8ee1-518d6581d032",
   "metadata": {},
   "outputs": [
    {
     "name": "stdout",
     "output_type": "stream",
     "text": [
      "시작\n",
      "10보다 작고, 5보단 큽니다.\n",
      "끝\n"
     ]
    }
   ],
   "source": [
    "c = 10\n",
    "print(\"시작\")\n",
    "\n",
    "if c > 10:\n",
    "    print(\"10보다 큽니다\")\n",
    "\n",
    "elif c < 5:\n",
    "    print(\"10보다 작고 5보다도 작습니다.\")\n",
    "\n",
    "elif True:\n",
    "    print(\"10보다 작고, 5보단 큽니다.\")\n",
    "\n",
    "print(\"끝\")\n",
    "\n",
    "# 1번째 조건, 2번째 조건 모두 해당사항 없음  -> 아무것도 출력하지 X"
   ]
  },
  {
   "cell_type": "code",
   "execution_count": 57,
   "id": "5bfbf571-a3a0-41c9-b9a2-31a400d9614e",
   "metadata": {},
   "outputs": [
    {
     "name": "stdout",
     "output_type": "stream",
     "text": [
      "시작\n",
      "수\n",
      "끝\n"
     ]
    }
   ],
   "source": [
    "scr = 100\n",
    "print(\"시작\")\n",
    "\n",
    "if scr > 90:\n",
    "    print(\"수\")\n",
    "\n",
    "elif scr < 90 and scr >= 80:\n",
    "    print(\"우\")\n",
    "\n",
    "elif scr < 80 and scr >= 70:\n",
    "    print(\"미\")\n",
    "\n",
    "print(\"끝\")"
   ]
  },
  {
   "cell_type": "code",
   "execution_count": 58,
   "id": "6636e9d9-1e84-46d5-afdb-a0d180f77d66",
   "metadata": {},
   "outputs": [
    {
     "name": "stdout",
     "output_type": "stream",
     "text": [
      "30대 입니다.\n",
      "감사합니다.\n"
     ]
    }
   ],
   "source": [
    "age = 39\n",
    "\n",
    "if 20 <= age < 30:\n",
    "    print(\"20대 입니다.\")\n",
    "\n",
    "elif 30 <= age < 40:\n",
    "    print(\"30대 입니다.\")\n",
    "\n",
    "print(\"감사합니다.\")\n",
    "\n",
    "# 위 구문처럼 범위가 서로 겹치지 않는 것을 '상호 배타적'이라고 함\n",
    "# 구간이 서로 겹치면 곤란해짐"
   ]
  },
  {
   "cell_type": "code",
   "execution_count": 60,
   "id": "8cbaae8b-98b6-4128-95a4-c47de34da210",
   "metadata": {},
   "outputs": [
    {
     "name": "stdout",
     "output_type": "stream",
     "text": [
      "오우... 불혹을 넘기셨군요\n",
      "감사합니다.\n"
     ]
    }
   ],
   "source": [
    "age = 40\n",
    "\n",
    "if 20 <= age < 30:\n",
    "    print(\"20대 입니다.\")\n",
    "\n",
    "elif 30 <= age < 40:\n",
    "    print(\"30대 입니다.\")\n",
    "\n",
    "else:\n",
    "    print(\"오우... 불혹을 넘기셨군요\")\n",
    "\n",
    "print(\"감사합니다.\")"
   ]
  },
  {
   "cell_type": "code",
   "execution_count": null,
   "id": "bcc23436-a0ba-42ba-a202-443c73b5ca07",
   "metadata": {},
   "outputs": [],
   "source": []
  },
  {
   "cell_type": "code",
   "execution_count": 82,
   "id": "5d5df5dc-e07c-463e-92c7-2d30c237c1b8",
   "metadata": {},
   "outputs": [
    {
     "name": "stdin",
     "output_type": "stream",
     "text": [
      "아이디를 입력하세요 :  biana\n",
      "회원 등급을 입력해주세요 :  3\n"
     ]
    },
    {
     "name": "stdout",
     "output_type": "stream",
     "text": [
      "\n",
      "제한적인 권한을 갖습니다.\n"
     ]
    }
   ],
   "source": [
    "# 연습문제\n",
    "ID = input(\"아이디를 입력하세요 : \")\n",
    "\n",
    "if ID == \"admin\":\n",
    "    print(\"\\n최고 관리자, 모든 권한을 갖습니다.\")\n",
    "\n",
    "else:\n",
    "    Lv = int(input(\"회원 등급을 입력해주세요 : \"))\n",
    "    if 1 <= Lv <= 3:\n",
    "        print(\"\\n제한적인 권한을 갖습니다.\")\n",
    "\n",
    "    else:\n",
    "        print(\"\\n권한이 없습니다.\")\n",
    "\n",
    "# if문을 이중으로 사용할 수도 있음\n",
    "### 들여쓰기 주의!!! ###\n",
    "# 구문 뼈대는 남겨두고 다음으로 넘어가고 싶을 때에는 pass 입력, 주석으로 # TOBE 입력 (관례)\n",
    "# :(콜론)은 생략 불가"
   ]
  },
  {
   "cell_type": "code",
   "execution_count": 85,
   "id": "1fa1c7ec-0ab4-488e-a0f8-285d46ee31c7",
   "metadata": {},
   "outputs": [
    {
     "name": "stdin",
     "output_type": "stream",
     "text": [
      "아이디를 입력하세요 :  admin\n"
     ]
    },
    {
     "name": "stdout",
     "output_type": "stream",
     "text": [
      "\n",
      "최고 관리자, 모든 권한을 갖습니다.\n"
     ]
    }
   ],
   "source": [
    "# 다른 풀이 - 연산자 != 사용\n",
    "ID = input(\"아이디를 입력하세요 : \")\n",
    "\n",
    "if ID == \"admin\":\n",
    "    print(\"\\n최고 관리자, 모든 권한을 갖습니다.\")\n",
    "\n",
    "elif ID != \"admin\":\n",
    "    Lv = int(input(\"회원 등급을 입력해주세요 : \"))\n",
    "    if 1 <= Lv <= 3:\n",
    "        print(\"\\n제한적인 권한을 갖습니다.\")\n",
    "\n",
    "    else:\n",
    "        print(\"\\n권한이 없습니다.\")"
   ]
  },
  {
   "cell_type": "code",
   "execution_count": null,
   "id": "ea2bd4c0-3ce0-4313-a092-bd3f89bfb272",
   "metadata": {},
   "outputs": [],
   "source": [
    "age = int(input(\"나이를 입력해주세요.\"))\n",
    "\n",
    "if age >= 10:\n",
    "    print(\"10살 이상입니다.\")\n",
    "    if age >= 20:\n",
    "        print(\"20살 이상입니다.\")\n",
    "        if age >= 30:\n",
    "            print(\"30살 이상입니다.\")\n",
    "            if age >= 40:\n",
    "                print(\"40살 이상입니다.\")"
   ]
  },
  {
   "cell_type": "code",
   "execution_count": null,
   "id": "b9cf23fa-961d-46c0-ba12-25aac9888cdc",
   "metadata": {},
   "outputs": [],
   "source": []
  },
  {
   "cell_type": "code",
   "execution_count": 92,
   "id": "08184700-59d4-433a-8165-d12312837f41",
   "metadata": {},
   "outputs": [
    {
     "name": "stdin",
     "output_type": "stream",
     "text": [
      "자연수 하나 입력해주세요: 70\n"
     ]
    },
    {
     "name": "stdout",
     "output_type": "stream",
     "text": [
      "20\n"
     ]
    }
   ],
   "source": [
    "# Q1.\n",
    "a = int(input(\"자연수 하나 입력해주세요:\"))\n",
    "if a - 50 < 0:\n",
    "    print(0)\n",
    "else:\n",
    "    print(a - 50)"
   ]
  },
  {
   "cell_type": "code",
   "execution_count": 94,
   "id": "2f3a5d6c-98c0-4625-9f79-7d461329251c",
   "metadata": {},
   "outputs": [
    {
     "name": "stdin",
     "output_type": "stream",
     "text": [
      "자연수 하나 입력해주세요:  456\n"
     ]
    },
    {
     "name": "stdout",
     "output_type": "stream",
     "text": [
      "406\n"
     ]
    }
   ],
   "source": [
    "# Q1 다른 풀이\n",
    "int_value = int(input(\"자연수 하나 입력해주세요: \"))\n",
    "\n",
    "result = int_value - 50\n",
    "\n",
    "if result < 0:\n",
    "    result = 0\n",
    "\n",
    "print(result)"
   ]
  },
  {
   "cell_type": "code",
   "execution_count": null,
   "id": "111a5114-725f-4bc3-ae45-6734dec7a21d",
   "metadata": {},
   "outputs": [],
   "source": []
  },
  {
   "cell_type": "code",
   "execution_count": 97,
   "id": "40ad5d24-1ea2-4d9a-8eca-edac2a3cb7a6",
   "metadata": {},
   "outputs": [
    {
     "name": "stdin",
     "output_type": "stream",
     "text": [
      "자연수 하나 입력해주세요:  4874545151\n"
     ]
    },
    {
     "name": "stdout",
     "output_type": "stream",
     "text": [
      "홀수입니다.\n"
     ]
    }
   ],
   "source": [
    "# Q2.\n",
    "n = int(input(\"자연수 하나 입력해주세요: \"))\n",
    "\n",
    "if n % 2 == 0:\n",
    "    print(\"짝수입니다.\")\n",
    "else:\n",
    "    print(\"홀수입니다.\")"
   ]
  },
  {
   "cell_type": "code",
   "execution_count": null,
   "id": "478ee136-dda8-4f93-837c-953d2088515b",
   "metadata": {},
   "outputs": [],
   "source": []
  },
  {
   "cell_type": "code",
   "execution_count": 104,
   "id": "20163956-7e1d-4431-bc84-1a34381dfc89",
   "metadata": {},
   "outputs": [
    {
     "name": "stdin",
     "output_type": "stream",
     "text": [
      "소프트웨어 설계 점수를 입력하세요. 80\n",
      "소프트웨어 개발 점수를 입력하세요. 80\n",
      "데이터베이스 구축 점수를 입력하세요. 80\n",
      "프로그래밍 언어 활용 점수를 입력하세요. 80\n",
      "정보시스템 구축관리 점수를 입력하세요. 80\n"
     ]
    },
    {
     "name": "stdout",
     "output_type": "stream",
     "text": [
      "합격\n"
     ]
    }
   ],
   "source": [
    "# Q3.\n",
    "설계 = int(input(\"소프트웨어 설계 점수를 입력하세요.\"))\n",
    "개발 = int(input(\"소프트웨어 개발 점수를 입력하세요.\"))\n",
    "DB = int(input(\"데이터베이스 구축 점수를 입력하세요.\"))\n",
    "pg = int(input(\"프로그래밍 언어 활용 점수를 입력하세요.\"))\n",
    "ins = int(input(\"정보시스템 구축관리 점수를 입력하세요.\"))\n",
    "\n",
    "if (설계 < 0 or 설계 > 100) or (개발 < 0 or 개발 > 100) or (DB < 0 or DB > 100) or (pg < 0 or pg > 100) or (ins < 0 or ins > 100):\n",
    "    print(\"잘못된 점수입니다.\")\n",
    "\n",
    "elif (설계 + 개발 + DB + pg + ins) / 5 >= 60:\n",
    "    print(\"합격\")\n",
    "\n",
    "else:\n",
    "    print(\"불합격\")"
   ]
  },
  {
   "cell_type": "code",
   "execution_count": 106,
   "id": "150bd037-6b1b-445d-9f34-0dddbae718d4",
   "metadata": {},
   "outputs": [
    {
     "name": "stdin",
     "output_type": "stream",
     "text": [
      "소프트웨어 설계 점수를 입력하세요. 70\n",
      "소프트웨어 개발 점수를 입력하세요. 70\n",
      "데이터베이스 구축 점수를 입력하세요. 70\n",
      "프로그래밍 언어 활용 점수를 입력하세요. 70\n",
      "정보시스템 구축관리 점수를 입력하세요. 70\n"
     ]
    },
    {
     "name": "stdout",
     "output_type": "stream",
     "text": [
      "합격\n"
     ]
    }
   ],
   "source": [
    "# Q3 다른 풀이\n",
    "설계 = int(input(\"소프트웨어 설계 점수를 입력하세요.\"))\n",
    "개발 = int(input(\"소프트웨어 개발 점수를 입력하세요.\"))\n",
    "DB = int(input(\"데이터베이스 구축 점수를 입력하세요.\"))\n",
    "pg = int(input(\"프로그래밍 언어 활용 점수를 입력하세요.\"))\n",
    "ins = int(input(\"정보시스템 구축관리 점수를 입력하세요.\"))\n",
    "\n",
    "if (0 <= 설계 <= 100 and 0 <= 개발 <= 100 and 0 <= DB <= 100 and 0 <= pg <= 100 and 0 <= ins <= 100):\n",
    "    avg = (설계 + 개발 + DB + pg + ins) / 5\n",
    "    if avg >= 60:\n",
    "        print(\"합격\")\n",
    "    else:\n",
    "        print(\"불합격\")\n",
    "else:\n",
    "    print(\"잘못된 점수입니다.\")"
   ]
  },
  {
   "cell_type": "code",
   "execution_count": null,
   "id": "36339064-7f6a-4ce0-9b50-7cb64de5e5da",
   "metadata": {},
   "outputs": [],
   "source": []
  },
  {
   "cell_type": "code",
   "execution_count": 108,
   "id": "5f02b1fd-b39c-4ac6-99b2-6d7d00decc43",
   "metadata": {},
   "outputs": [
    {
     "name": "stdin",
     "output_type": "stream",
     "text": [
      "현재 물의 온도를 입력해주세요 234.55667\n"
     ]
    },
    {
     "name": "stdout",
     "output_type": "stream",
     "text": [
      "기체로 예상됩니다.\n"
     ]
    }
   ],
   "source": [
    "# Q4.\n",
    "a = float(input(\"현재 물의 온도를 입력해주세요\"))\n",
    "\n",
    "if a >= 100:\n",
    "    print(\"기체로 예상됩니다.\")\n",
    "elif a >= 0:\n",
    "    print(\"액체로 예상됩니다.\")\n",
    "else:\n",
    "    print(\"고체로 예상됩니다.\")"
   ]
  },
  {
   "cell_type": "code",
   "execution_count": null,
   "id": "ca2831d2-8858-4c33-affd-576cfa864802",
   "metadata": {},
   "outputs": [],
   "source": []
  },
  {
   "cell_type": "code",
   "execution_count": 114,
   "id": "70a12f1c-9647-48e1-a540-7736b48cbdd7",
   "metadata": {},
   "outputs": [
    {
     "name": "stdin",
     "output_type": "stream",
     "text": [
      "자신의 나이를 입력하세요: 19\n"
     ]
    },
    {
     "name": "stdout",
     "output_type": "stream",
     "text": [
      "1500원\n"
     ]
    }
   ],
   "source": [
    "# Q5.\n",
    "age = int(input(\"자신의 나이를 입력하세요:\"))\n",
    "\n",
    "if age >= 19:\n",
    "    print(\"1500원\")\n",
    "elif age >= 12:\n",
    "    print(\"1100원\")\n",
    "elif age >= 6:\n",
    "    print(\"800원\")\n",
    "else:\n",
    "    print(\"무료입니다.\")"
   ]
  },
  {
   "cell_type": "code",
   "execution_count": null,
   "id": "cd35ce14-9033-4f43-9814-813a31cf6494",
   "metadata": {},
   "outputs": [],
   "source": []
  },
  {
   "cell_type": "code",
   "execution_count": 116,
   "id": "a44bf2b5-7851-44ff-a7bb-eefc95e74f21",
   "metadata": {},
   "outputs": [],
   "source": [
    "### 참고 ###\n",
    "# if\n",
    "# if\n",
    "# if\n",
    "# if\n",
    "# => if에 걸리는 모든 조건에 대해서 체크함\n",
    "# => 체크리스트 항목의 모든 내용을 확인해야 할 때 사용\n",
    "\n",
    "# VS\n",
    "\n",
    "# if\n",
    "# elif\n",
    "# elif\n",
    "# elif\n",
    "# => 4개 조건 중 하나만 만족하면 조건문을 빠져나가서 결과를 출력함"
   ]
  },
  {
   "cell_type": "code",
   "execution_count": null,
   "id": "b0c90ea0-f228-4c65-ab2b-837cff861344",
   "metadata": {},
   "outputs": [],
   "source": []
  },
  {
   "cell_type": "code",
   "execution_count": 123,
   "id": "a9178bcc-eac1-4871-8955-7c507dd389e6",
   "metadata": {},
   "outputs": [
    {
     "name": "stdin",
     "output_type": "stream",
     "text": [
      "발주 수량을 입력하세요:  2001\n"
     ]
    },
    {
     "name": "stdout",
     "output_type": "stream",
     "text": [
      "2001개를 주문하셨습니다.\n",
      "적용 할인율은 20%입니다.\n",
      "총 발주 금액은 $16008입니다.\n"
     ]
    }
   ],
   "source": [
    "# Q4.\n",
    "a = int(input(\"발주 수량을 입력하세요: \"))\n",
    "\n",
    "if a < 1000:\n",
    "    print(a, \"개를 주문하셨습니다.\", sep = \"\")\n",
    "    print(\"수량할인이 적용되지 않습니다.\")\n",
    "    print(\"총 발주 금액은 $\", int(10*a), \"입니다.\", sep = \"\")\n",
    "elif a <= 1500:\n",
    "    print(a, \"개를 주문하셨습니다.\", sep = \"\")\n",
    "    print(\"적용 할인율은 5%입니다.\")\n",
    "    print(\"총 발주 금액은 $\", int(10*a*0.95), \"입니다.\", sep = \"\")\n",
    "elif a <= 2000:\n",
    "    print(a, \"개를 주문하셨습니다.\", sep = \"\")\n",
    "    print(\"적용 할인율은 10%입니다.\")\n",
    "    print(\"총 발주 금액은 $\", int(10*a*0.9), \"입니다.\", sep = \"\")\n",
    "else:\n",
    "    print(a, \"개를 주문하셨습니다.\", sep = \"\")\n",
    "    print(\"적용 할인율은 20%입니다.\")\n",
    "    print(\"총 발주 금액은 $\", int(10*a*0.8), \"입니다.\", sep = \"\")"
   ]
  },
  {
   "cell_type": "code",
   "execution_count": 126,
   "id": "ad04a4ff-cedb-4c77-b119-5baaf5b1438f",
   "metadata": {},
   "outputs": [
    {
     "name": "stdout",
     "output_type": "stream",
     "text": [
      "2001개를 주문하셨습니다.\n",
      "총 발주 금액은 20010입니다.\n"
     ]
    }
   ],
   "source": [
    "print(f\"{a}개를 주문하셨습니다.\")"
   ]
  },
  {
   "cell_type": "code",
   "execution_count": null,
   "id": "0c9c78e1-9045-4dfa-afbe-34e8b53c1c73",
   "metadata": {},
   "outputs": [],
   "source": []
  },
  {
   "cell_type": "code",
   "execution_count": 23,
   "id": "1e6e1582-e4d9-497d-96b6-3ea2a8164711",
   "metadata": {},
   "outputs": [
    {
     "name": "stdin",
     "output_type": "stream",
     "text": [
      "주민번호 뒷자리를 입력하세요:  1234567\n"
     ]
    },
    {
     "name": "stdout",
     "output_type": "stream",
     "text": [
      "남자\n"
     ]
    }
   ],
   "source": [
    "# Q5.\n",
    "a = str(input(\"주민번호 뒷자리를 입력하세요: \"))\n",
    "\n",
    "if len(a) != 7:\n",
    "    print(\"자리수를 잘못 입력했습니다.\")\n",
    "elif a[0] == \"1\" or a[0] == \"3\":\n",
    "    print(\"남자\")\n",
    "elif a[0] == \"2\" or a[0] ==\"4\":\n",
    "    print(\"여자\")\n",
    "else:\n",
    "    print(\"잘못된 입력입니다.\")"
   ]
  },
  {
   "cell_type": "code",
   "execution_count": 27,
   "id": "baf8f966-4d59-4047-9388-fc0f03cb7163",
   "metadata": {},
   "outputs": [
    {
     "name": "stdin",
     "output_type": "stream",
     "text": [
      "주민번호 뒷자리를 입력하세요:  2345678\n"
     ]
    },
    {
     "name": "stdout",
     "output_type": "stream",
     "text": [
      "여자\n"
     ]
    }
   ],
   "source": [
    "# Q5 다른 풀이\n",
    "a = str(input(\"주민번호 뒷자리를 입력하세요: \"))\n",
    "\n",
    "if len(a) != 7:\n",
    "    print(\"자리수를 잘못 입력했습니다.\")\n",
    "else:\n",
    "    fst_num = int(a[0])\n",
    "    if fst_num in (1, 3):\n",
    "        print(\"남자\")\n",
    "    elif fst_num in (2, 4):\n",
    "        print(\"여자\")\n",
    "    else:\n",
    "        print(\"잘못된 입력입니다.\")\n",
    "\n",
    "# or 대신 In(값1, 값2)로 효율적으로 표현할 수 있음"
   ]
  },
  {
   "cell_type": "code",
   "execution_count": null,
   "id": "12d69333-6685-49e2-ada1-38f025abc241",
   "metadata": {},
   "outputs": [],
   "source": []
  },
  {
   "cell_type": "code",
   "execution_count": 35,
   "id": "562e0dcc-534b-48b1-abe6-4ddad03c2243",
   "metadata": {},
   "outputs": [
    {
     "name": "stdin",
     "output_type": "stream",
     "text": [
      "확인할 연도를 입력하세요:  2023\n"
     ]
    },
    {
     "name": "stdout",
     "output_type": "stream",
     "text": [
      "평년입니다.\n"
     ]
    }
   ],
   "source": [
    "# Q6.\n",
    "year = int(input(\"확인할 연도를 입력하세요: \"))\n",
    "\n",
    "if year % 4 == 0:\n",
    "    print(\"윤년입니다.\")\n",
    "else:\n",
    "    if year % 400 == 0 and year % 100 != 0:\n",
    "        print(\"윤년입니다.\")\n",
    "    else:\n",
    "        print(\"평년입니다.\")"
   ]
  },
  {
   "cell_type": "code",
   "execution_count": 59,
   "id": "dd7eca15-3d6b-45c9-941e-d4b88692ceaa",
   "metadata": {},
   "outputs": [
    {
     "name": "stdin",
     "output_type": "stream",
     "text": [
      "확인할 연도를 입력하세요:  1896\n"
     ]
    },
    {
     "name": "stdout",
     "output_type": "stream",
     "text": [
      "윤년입니다.\n"
     ]
    }
   ],
   "source": [
    "# Q6 다른 풀이\n",
    "year = int(input(\"확인할 연도를 입력하세요: \"))\n",
    "\n",
    "if year % 4 == 0 and (year % 100 != 0 or year % 400 == 0):\n",
    "    print(\"윤년입니다.\")\n",
    "else:\n",
    "    print(\"평년입니다.\")\n",
    "\n",
    "# if절에서 or 부분이 and로 걸려야 하지 않을까??\n",
    "# Answer. 윤년과 평년 조건은 대우 명제 관계이므로 등호, 부등호와 and or가 같이 바뀜"
   ]
  },
  {
   "cell_type": "code",
   "execution_count": null,
   "id": "1b959141-645f-40c4-8f40-f789d8c7f6e3",
   "metadata": {},
   "outputs": [],
   "source": []
  },
  {
   "cell_type": "code",
   "execution_count": null,
   "id": "48f4af36-2966-4817-a911-b0e2945d6fa2",
   "metadata": {},
   "outputs": [],
   "source": []
  },
  {
   "cell_type": "code",
   "execution_count": 60,
   "id": "d03ca55f-2a1b-4688-8d75-12152fd77d8b",
   "metadata": {},
   "outputs": [],
   "source": [
    "##### for 반복문 맛보기 -> 내일 자세히!"
   ]
  },
  {
   "cell_type": "code",
   "execution_count": 61,
   "id": "9bfdec1b-945a-4988-a5f5-6df6289a3c6b",
   "metadata": {},
   "outputs": [],
   "source": [
    " # 슬라이싱 복습"
   ]
  },
  {
   "cell_type": "code",
   "execution_count": 62,
   "id": "0fbf1b08-70e3-42bb-9b95-9abbc5cb0d19",
   "metadata": {},
   "outputs": [
    {
     "data": {
      "text/plain": [
       "[0, 2, 4]"
      ]
     },
     "execution_count": 62,
     "metadata": {},
     "output_type": "execute_result"
    }
   ],
   "source": [
    "a = [0, 1, 2, 3, 4, 5, 6, 7]\n",
    "a[0:5:2]"
   ]
  },
  {
   "cell_type": "code",
   "execution_count": 63,
   "id": "09d2fda4-d0ad-4e06-8f94-b228add2bd1a",
   "metadata": {},
   "outputs": [],
   "source": [
    "# 함수를 호출할 때 소괄호 사용\n",
    "# 인수(arguments)가 여럿일 때 ,(콤마)로 구분\n",
    "# range(시작숫자(포함), 끝숫자(미포함), 증감)  # 시작숫자 = 0 이면 생략 가능 / 증감 = 1 이면 생략 가능\n",
    "# range는 규칙된 숫자를 만드는데 특화되어 있음"
   ]
  },
  {
   "cell_type": "code",
   "execution_count": null,
   "id": "fd230871-4d66-4f0f-9fec-db7d4bb3704c",
   "metadata": {},
   "outputs": [],
   "source": [
    "# 아래 3개 case는 같은 결과를 출력함"
   ]
  },
  {
   "cell_type": "code",
   "execution_count": 64,
   "id": "0fddb5bf-6769-4ae9-ab31-bca2b0befa9c",
   "metadata": {},
   "outputs": [
    {
     "data": {
      "text/plain": [
       "range(0, 8)"
      ]
     },
     "execution_count": 64,
     "metadata": {},
     "output_type": "execute_result"
    }
   ],
   "source": [
    "range(0, 8)"
   ]
  },
  {
   "cell_type": "code",
   "execution_count": 65,
   "id": "953a9fda-5134-440e-83f0-e50933fcb047",
   "metadata": {},
   "outputs": [
    {
     "data": {
      "text/plain": [
       "range(0, 8)"
      ]
     },
     "execution_count": 65,
     "metadata": {},
     "output_type": "execute_result"
    }
   ],
   "source": [
    "range(0, 8, 1)"
   ]
  },
  {
   "cell_type": "code",
   "execution_count": 66,
   "id": "9731109e-cd31-4955-bdf2-89989c4d2910",
   "metadata": {},
   "outputs": [
    {
     "data": {
      "text/plain": [
       "range(0, 8)"
      ]
     },
     "execution_count": 66,
     "metadata": {},
     "output_type": "execute_result"
    }
   ],
   "source": [
    "range(8)"
   ]
  },
  {
   "cell_type": "code",
   "execution_count": 67,
   "id": "bbea4cd4-b34e-4d2e-a9ce-2c692e3f1e84",
   "metadata": {},
   "outputs": [
    {
     "data": {
      "text/plain": [
       "[0, 1, 2, 3, 4, 5, 6, 7]"
      ]
     },
     "execution_count": 67,
     "metadata": {},
     "output_type": "execute_result"
    }
   ],
   "source": [
    "list(range(8))  # iterable"
   ]
  },
  {
   "cell_type": "code",
   "execution_count": 68,
   "id": "3307ced0-6058-4108-b93a-0fe31fa123ee",
   "metadata": {},
   "outputs": [
    {
     "name": "stdout",
     "output_type": "stream",
     "text": [
      "[0, 1, 2, 3, 4, 5, 6, 7]\n",
      "[0, 1, 2, 3, 4, 5, 6, 7]\n"
     ]
    }
   ],
   "source": [
    "print(list(range(0, 8, 1)))\n",
    "print(list(range(8)))\n",
    "# 같은 값 출력"
   ]
  },
  {
   "cell_type": "code",
   "execution_count": 69,
   "id": "2a23dc6a-fa3d-4235-b859-0ea82cca73f7",
   "metadata": {},
   "outputs": [
    {
     "data": {
      "text/plain": [
       "range"
      ]
     },
     "execution_count": 69,
     "metadata": {},
     "output_type": "execute_result"
    }
   ],
   "source": [
    "type(range(1))"
   ]
  },
  {
   "cell_type": "code",
   "execution_count": null,
   "id": "301d90bb-a7f5-4fc0-b2f4-e7e441b9e8ba",
   "metadata": {},
   "outputs": [],
   "source": []
  },
  {
   "cell_type": "code",
   "execution_count": 70,
   "id": "ae632704-2c4e-4609-b489-9b362b4c532e",
   "metadata": {},
   "outputs": [],
   "source": [
    "# 리스트 VS range 가장 큰 차이점\n",
    "# List: 메모리 상에 만들어 둠. range는 필요할 때 메모리에 만들어놓음  (?????) -> 천천히 이해하자...."
   ]
  },
  {
   "cell_type": "code",
   "execution_count": null,
   "id": "cdcc19bb-df5a-4b8d-a5b1-ef12fa1d1b19",
   "metadata": {},
   "outputs": [],
   "source": [
    "# range는 0부터 999까지의 숫자를 생성함\n",
    "for n in range(1000):  # range(1000) = iterable\n",
    "    print(\"hello\")"
   ]
  }
 ],
 "metadata": {
  "kernelspec": {
   "display_name": "Python 3 (ipykernel)",
   "language": "python",
   "name": "python3"
  },
  "language_info": {
   "codemirror_mode": {
    "name": "ipython",
    "version": 3
   },
   "file_extension": ".py",
   "mimetype": "text/x-python",
   "name": "python",
   "nbconvert_exporter": "python",
   "pygments_lexer": "ipython3",
   "version": "3.9.13"
  }
 },
 "nbformat": 4,
 "nbformat_minor": 5
}
